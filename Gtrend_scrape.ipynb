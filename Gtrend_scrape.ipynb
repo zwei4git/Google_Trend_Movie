{
 "cells": [
  {
   "cell_type": "code",
   "execution_count": null,
   "id": "5c5745a5",
   "metadata": {},
   "outputs": [],
   "source": [
    "import pandas as pd\n",
    "import numpy as np\n",
    "import time"
   ]
  },
  {
   "cell_type": "code",
   "execution_count": null,
   "id": "cd823cab",
   "metadata": {},
   "outputs": [],
   "source": [
    "#!pip install pytrends"
   ]
  },
  {
   "cell_type": "code",
   "execution_count": null,
   "id": "7f9d3379",
   "metadata": {},
   "outputs": [],
   "source": [
    "from pytrends.request import TrendReq\n",
    "pytrends = TrendReq(hl='en-US', tz=360)"
   ]
  },
  {
   "cell_type": "code",
   "execution_count": null,
   "id": "a868e7fd",
   "metadata": {},
   "outputs": [],
   "source": [
    "kw_list = [\"Movie\"]"
   ]
  },
  {
   "cell_type": "code",
   "execution_count": null,
   "id": "b40aa826",
   "metadata": {
    "scrolled": false
   },
   "outputs": [],
   "source": [
    "#test \n",
    "pytrends.build_payload(kw_list, cat=0, timeframe='2023-07-10' + ' ' + '2023-07-11', geo='US-MA', gprop='')\n",
    "time.sleep(10)\n",
    "data=pytrends.related_queries()"
   ]
  },
  {
   "cell_type": "code",
   "execution_count": null,
   "id": "1002f39a",
   "metadata": {},
   "outputs": [],
   "source": [
    "data"
   ]
  },
  {
   "cell_type": "code",
   "execution_count": null,
   "id": "832eb909",
   "metadata": {},
   "outputs": [],
   "source": [
    "# List of US states\n",
    "us_states = [\"AL\", \"AK\", \"AZ\", \"AR\", \"CA\", \"CO\", \"CT\", \"DE\", \"FL\", \"GA\", \n",
    "             \"HI\", \"ID\", \"IL\", \"IN\", \"IA\", \"KS\", \"KY\", \"LA\", \"ME\", \"MD\", \n",
    "             \"MA\", \"MI\", \"MN\", \"MS\", \"MO\", \"MT\", \"NE\", \"NV\", \"NH\", \"NJ\", \n",
    "             \"NM\", \"NY\", \"NC\", \"ND\", \"OH\", \"OK\", \"OR\", \"PA\", \"RI\", \"SC\", \n",
    "             \"SD\", \"TN\", \"TX\", \"UT\", \"VT\", \"VA\", \"WA\", \"WV\", \"WI\", \"WY\"]\n",
    "\n",
    "# Create date range\n",
    "# only 10 days generated need to run again (3 times)\n",
    "date_range = pd.date_range(start=\"2023-07-01\", end=\"2023-07-31\").strftime('%Y-%m-%d')\n",
    "date_range2 = pd.date_range(start=\"2023-07-02\", end=\"2023-08-01\").strftime('%Y-%m-%d')\n",
    "date_range3=date_range +' '+ date_range2"
   ]
  },
  {
   "cell_type": "code",
   "execution_count": null,
   "id": "06ec1745",
   "metadata": {},
   "outputs": [],
   "source": [
    "results = pd.DataFrame()\n",
    "\n",
    "my_keyword = ['movie']\n",
    "\n",
    "# Loop through each date and state\n",
    "for date in date_range3:\n",
    "    for state in us_states:\n",
    "        pytrends.build_payload(my_keyword, cat=0, timeframe=date, geo='US-' + state, gprop='')\n",
    "        try:\n",
    "            data = pytrends.related_queries()\n",
    "            if data is not None:\n",
    "                keyword_data = data[my_keyword[0]] # directly use the keyword's data\n",
    "                if keyword_data is not None:\n",
    "                    for query_type, query_data in keyword_data.items():\n",
    "                        query_data['kwd'] = keyword\n",
    "                        query_data['query_type'] = query_type\n",
    "                        query_data['state'] = state\n",
    "                        query_data['date'] = date\n",
    "                        results = results.append(query_data, ignore_index=True)\n",
    "        except Exception as e:\n",
    "            print(f\"An error occurred: {e}\")\n",
    "        \n",
    "        # Pause execution for 60 seconds to avoid TooManyRequestsError\n",
    "        time.sleep(20)"
   ]
  },
  {
   "cell_type": "code",
   "execution_count": null,
   "id": "2f27b89b",
   "metadata": {},
   "outputs": [],
   "source": [
    "data\n"
   ]
  },
  {
   "cell_type": "code",
   "execution_count": null,
   "id": "ff537906",
   "metadata": {},
   "outputs": [],
   "source": [
    "data.items()"
   ]
  },
  {
   "cell_type": "code",
   "execution_count": null,
   "id": "b52e2cf2",
   "metadata": {},
   "outputs": [],
   "source": [
    "results"
   ]
  },
  {
   "cell_type": "code",
   "execution_count": null,
   "id": "2eb8e21e",
   "metadata": {},
   "outputs": [],
   "source": [
    "results.to_csv('movie_gtrend_new.csv')"
   ]
  }
 ],
 "metadata": {
  "kernelspec": {
   "display_name": "Python 3",
   "language": "python",
   "name": "python3"
  },
  "language_info": {
   "codemirror_mode": {
    "name": "ipython",
    "version": 3
   },
   "file_extension": ".py",
   "mimetype": "text/x-python",
   "name": "python",
   "nbconvert_exporter": "python",
   "pygments_lexer": "ipython3",
   "version": "3.7.10"
  }
 },
 "nbformat": 4,
 "nbformat_minor": 5
}

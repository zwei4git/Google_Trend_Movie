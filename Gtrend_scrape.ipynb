{
 "cells": [
  {
   "cell_type": "code",
   "execution_count": 318,
   "id": "5c5745a5",
   "metadata": {},
   "outputs": [],
   "source": [
    "import pandas as pd\n",
    "import numpy as np\n",
    "import time"
   ]
  },
  {
   "cell_type": "code",
   "execution_count": 2,
   "id": "cd823cab",
   "metadata": {},
   "outputs": [],
   "source": [
    "#!pip install pytrends"
   ]
  },
  {
   "cell_type": "code",
   "execution_count": 319,
   "id": "7f9d3379",
   "metadata": {},
   "outputs": [],
   "source": [
    "from pytrends.request import TrendReq\n",
    "pytrends = TrendReq(hl='en-US', tz=360)"
   ]
  },
  {
   "cell_type": "code",
   "execution_count": 320,
   "id": "a868e7fd",
   "metadata": {},
   "outputs": [],
   "source": [
    "kw_list = [\"Movie\"]"
   ]
  },
  {
   "cell_type": "code",
   "execution_count": 329,
   "id": "b40aa826",
   "metadata": {
    "scrolled": false
   },
   "outputs": [],
   "source": [
    "#test \n",
    "pytrends.build_payload(kw_list, cat=0, timeframe='2023-07-10' + ' ' + '2023-07-11', geo='US-MA', gprop='')\n",
    "time.sleep(10)\n",
    "data=pytrends.related_queries()"
   ]
  },
  {
   "cell_type": "code",
   "execution_count": 331,
   "id": "1002f39a",
   "metadata": {},
   "outputs": [
    {
     "data": {
      "text/plain": [
       "{'Movie': {'top':                                   query  value\n",
       "  0                          barbie movie    100\n",
       "  1                         movie theater     43\n",
       "  2                         freedom movie     28\n",
       "  3                sound of freedom movie     20\n",
       "  4                     oppenheimer movie     19\n",
       "  5                        napoleon movie     13\n",
       "  6                              65 movie     12\n",
       "  7                     barbie movie 2023     11\n",
       "  8                    mission impossible      9\n",
       "  9                 barbie movie premiere      9\n",
       "  10                        outlaws movie      7\n",
       "  11               movie theaters near me      6\n",
       "  12      when does barbie movie come out      6\n",
       "  13                          the outlaws      6\n",
       "  14                 mel gibson new movie      6\n",
       "  15                      elemental movie      6\n",
       "  16                     bob marley movie      5\n",
       "  17                     past lives movie      5\n",
       "  18            barbie movie release date      4\n",
       "  19       red white and royal blue movie      4\n",
       "  20               drive in movie theater      4\n",
       "  21                 barbie movie tickets      3\n",
       "  22               kingston movie theater      3\n",
       "  23  when does the barbie movie come out      3\n",
       "  24                   annihilation movie      3,\n",
       "  'rising':                                query   value\n",
       "  0                     napoleon movie  165250\n",
       "  1              barbie movie premiere  108350\n",
       "  2               mel gibson new movie   70600\n",
       "  3            littleton movie theater   34450\n",
       "  4  what space movie came out in 1992   33550\n",
       "  5     red white and royal blue movie     120\n",
       "  6                 mission impossible      70\n",
       "  7                       barbie movie      60\n",
       "  8             drive in movie theater      40}}"
      ]
     },
     "execution_count": 331,
     "metadata": {},
     "output_type": "execute_result"
    }
   ],
   "source": [
    "data"
   ]
  },
  {
   "cell_type": "code",
   "execution_count": 330,
   "id": "70eb5347",
   "metadata": {},
   "outputs": [
    {
     "data": {
      "text/plain": [
       "{'Movie': {'top':                        query  value\n",
       "  0               barbie movie    100\n",
       "  1     movie theaters near me     39\n",
       "  2                mario movie     38\n",
       "  3          super mario movie     32\n",
       "  4            elemental movie     31\n",
       "  5              titanic movie     31\n",
       "  6          oppenheimer movie     25\n",
       "  7     no hard feelings movie     17\n",
       "  8  barbie movie release date     10,\n",
       "  'rising':                     query  value\n",
       "  0       oppenheimer movie    140\n",
       "  1       super mario movie     80\n",
       "  2  movie theaters near me     70\n",
       "  3           titanic movie     50}}"
      ]
     },
     "execution_count": 330,
     "metadata": {},
     "output_type": "execute_result"
    }
   ],
   "source": [
    "data2"
   ]
  },
  {
   "cell_type": "code",
   "execution_count": 284,
   "id": "ba3fa740",
   "metadata": {},
   "outputs": [
    {
     "data": {
      "text/plain": [
       "{'Movie': {'rising':     value formattedValue                                               link  \\\n",
       "  0   91100       Breakout  /trends/explore?q=/m/0hn_sf2&date=2023-07-01+2...   \n",
       "  1   59650       Breakout  /trends/explore?q=/m/02m2p&date=2023-07-01+202...   \n",
       "  2   41600       Breakout  /trends/explore?q=/m/0cz98_k&date=2023-07-01+2...   \n",
       "  3   41250       Breakout  /trends/explore?q=/g/11fktgm_r5&date=2023-07-0...   \n",
       "  4   39600       Breakout  /trends/explore?q=/m/0_gwbzq&date=2023-07-01+2...   \n",
       "  5   32750       Breakout  /trends/explore?q=/m/014d_k&date=2023-07-01+20...   \n",
       "  6   30750       Breakout  /trends/explore?q=/m/0wy56pk&date=2023-07-01+2...   \n",
       "  7   28300       Breakout  /trends/explore?q=/m/0_2lx9c&date=2023-07-01+2...   \n",
       "  8   25750       Breakout  /trends/explore?q=/m/04jh5rw&date=2023-07-01+2...   \n",
       "  9   25750       Breakout  /trends/explore?q=/m/08dyxd&date=2023-07-01+20...   \n",
       "  10    170          +170%  /trends/explore?q=/g/11j2zdjdww&date=2023-07-0...   \n",
       "  11     60           +60%  /trends/explore?q=/m/03npn&date=2023-07-01+202...   \n",
       "  \n",
       "          topic_mid                 topic_title   topic_type  \n",
       "  0      /m/0hn_sf2                        Jaws    Franchise  \n",
       "  1        /m/02m2p       Extraterrestrial life        Topic  \n",
       "  2      /m/0cz98_k  Over-the-top media service        Topic  \n",
       "  3   /g/11fktgm_r5                      Nimona         Film  \n",
       "  4      /m/0_gwbzq                   Insidious  Film series  \n",
       "  5       /m/014d_k               A Goofy Movie    1995 film  \n",
       "  6      /m/0wy56pk              Monster Trucks         Film  \n",
       "  7      /m/0_2lx9c               A Goofy Movie  Film series  \n",
       "  8      /m/04jh5rw                      Hijack    2008 film  \n",
       "  9       /m/08dyxd                     The Car    1977 film  \n",
       "  10  /g/11j2zdjdww            Sound of Freedom         Film  \n",
       "  11       /m/03npn                      Horror   Film genre  ,\n",
       "  'top':     value formattedValue  hasData  \\\n",
       "  0     100            100     True   \n",
       "  1       7              7     True   \n",
       "  2       4              4     True   \n",
       "  3       2              2     True   \n",
       "  4       2              2     True   \n",
       "  5       2              2     True   \n",
       "  6       2              2     True   \n",
       "  7       1              1     True   \n",
       "  8       1              1     True   \n",
       "  9       1              1     True   \n",
       "  10      1              1     True   \n",
       "  11      1              1     True   \n",
       "  12      1              1     True   \n",
       "  13      0             <1     True   \n",
       "  14      0             <1     True   \n",
       "  15      0             <1     True   \n",
       "  16      0             <1     True   \n",
       "  17      0             <1     True   \n",
       "  18      0             <1     True   \n",
       "  19      0             <1     True   \n",
       "  20      0             <1     True   \n",
       "  \n",
       "                                                   link      topic_mid  \\\n",
       "  0   /trends/explore?q=/m/02vxn&date=2023-07-01+202...       /m/02vxn   \n",
       "  1   /trends/explore?q=/m/0kcc7&date=2023-07-01+202...       /m/0kcc7   \n",
       "  2   /trends/explore?q=/g/11bytn60s0&date=2023-07-0...  /g/11bytn60s0   \n",
       "  3   /trends/explore?q=/m/05npqn&date=2023-07-01+20...      /m/05npqn   \n",
       "  4   /trends/explore?q=/g/11rcpxcff3&date=2023-07-0...  /g/11rcpxcff3   \n",
       "  5   /trends/explore?q=/m/03npn&date=2023-07-01+202...       /m/03npn   \n",
       "  6   /trends/explore?q=/m/0f4yh&date=2023-07-01+202...       /m/0f4yh   \n",
       "  7   /trends/explore?q=/g/11rzwkn4gj&date=2023-07-0...  /g/11rzwkn4gj   \n",
       "  8   /trends/explore?q=/g/11j2zdjdww&date=2023-07-0...  /g/11j2zdjdww   \n",
       "  9   /trends/explore?q=/g/11c1_whmlv&date=2023-07-0...  /g/11c1_whmlv   \n",
       "  10  /trends/explore?q=/m/03hdbf&date=2023-07-01+20...      /m/03hdbf   \n",
       "  11  /trends/explore?q=/m/0hn_sf2&date=2023-07-01+2...     /m/0hn_sf2   \n",
       "  12  /trends/explore?q=/m/02m2p&date=2023-07-01+202...       /m/02m2p   \n",
       "  13  /trends/explore?q=/m/0cz98_k&date=2023-07-01+2...     /m/0cz98_k   \n",
       "  14  /trends/explore?q=/g/11fktgm_r5&date=2023-07-0...  /g/11fktgm_r5   \n",
       "  15  /trends/explore?q=/m/0_gwbzq&date=2023-07-01+2...     /m/0_gwbzq   \n",
       "  16  /trends/explore?q=/m/014d_k&date=2023-07-01+20...      /m/014d_k   \n",
       "  17  /trends/explore?q=/m/0wy56pk&date=2023-07-01+2...     /m/0wy56pk   \n",
       "  18  /trends/explore?q=/m/0_2lx9c&date=2023-07-01+2...     /m/0_2lx9c   \n",
       "  19  /trends/explore?q=/m/04jh5rw&date=2023-07-01+2...     /m/04jh5rw   \n",
       "  20  /trends/explore?q=/m/08dyxd&date=2023-07-01+20...      /m/08dyxd   \n",
       "  \n",
       "                      topic_title   topic_type  \n",
       "  0                          Film        Topic  \n",
       "  1                 Movie theater        Topic  \n",
       "  2                        Barbie         Film  \n",
       "  3                       Theater    Structure  \n",
       "  4   The Super Mario Bros. Movie    2023 film  \n",
       "  5                        Horror   Film genre  \n",
       "  6       Raiders of the Lost Ark    1981 film  \n",
       "  7                     Elemental    2023 film  \n",
       "  8              Sound of Freedom         Film  \n",
       "  9       Five Nights at Freddy's         Film  \n",
       "  10                      Trailer    Promotion  \n",
       "  11                         Jaws    Franchise  \n",
       "  12        Extraterrestrial life        Topic  \n",
       "  13   Over-the-top media service        Topic  \n",
       "  14                       Nimona         Film  \n",
       "  15                    Insidious  Film series  \n",
       "  16                A Goofy Movie    1995 film  \n",
       "  17               Monster Trucks         Film  \n",
       "  18                A Goofy Movie  Film series  \n",
       "  19                       Hijack    2008 film  \n",
       "  20                      The Car    1977 film  }}"
      ]
     },
     "execution_count": 284,
     "metadata": {},
     "output_type": "execute_result"
    }
   ],
   "source": [
    "pytrends.related_topics()"
   ]
  },
  {
   "cell_type": "code",
   "execution_count": 280,
   "id": "08852a66",
   "metadata": {},
   "outputs": [
    {
     "data": {
      "text/plain": [
       "dict_items([('Movie', {'top':                        query  value\n",
       "0               barbie movie    100\n",
       "1     movie theaters near me     39\n",
       "2                mario movie     38\n",
       "3          super mario movie     32\n",
       "4            elemental movie     31\n",
       "5              titanic movie     31\n",
       "6          oppenheimer movie     25\n",
       "7     no hard feelings movie     17\n",
       "8  barbie movie release date     10, 'rising':                     query  value\n",
       "0       oppenheimer movie    140\n",
       "1       super mario movie     80\n",
       "2  movie theaters near me     70\n",
       "3           titanic movie     50})])"
      ]
     },
     "execution_count": 280,
     "metadata": {},
     "output_type": "execute_result"
    }
   ],
   "source": [
    "data.items()"
   ]
  },
  {
   "cell_type": "code",
   "execution_count": null,
   "id": "53da7bda",
   "metadata": {},
   "outputs": [],
   "source": [
    "# Loop through "
   ]
  },
  {
   "cell_type": "code",
   "execution_count": null,
   "id": "27fd5246",
   "metadata": {},
   "outputs": [],
   "source": []
  },
  {
   "cell_type": "code",
   "execution_count": null,
   "id": "75941ca0",
   "metadata": {},
   "outputs": [],
   "source": []
  },
  {
   "cell_type": "code",
   "execution_count": null,
   "id": "d2ed24f4",
   "metadata": {},
   "outputs": [],
   "source": []
  },
  {
   "cell_type": "code",
   "execution_count": 332,
   "id": "832eb909",
   "metadata": {},
   "outputs": [],
   "source": [
    "# List of US states\n",
    "us_states = [\"AL\", \"AK\", \"AZ\", \"AR\", \"CA\", \"CO\", \"CT\", \"DE\", \"FL\", \"GA\", \n",
    "             \"HI\", \"ID\", \"IL\", \"IN\", \"IA\", \"KS\", \"KY\", \"LA\", \"ME\", \"MD\", \n",
    "             \"MA\", \"MI\", \"MN\", \"MS\", \"MO\", \"MT\", \"NE\", \"NV\", \"NH\", \"NJ\", \n",
    "             \"NM\", \"NY\", \"NC\", \"ND\", \"OH\", \"OK\", \"OR\", \"PA\", \"RI\", \"SC\", \n",
    "             \"SD\", \"TN\", \"TX\", \"UT\", \"VT\", \"VA\", \"WA\", \"WV\", \"WI\", \"WY\"]\n",
    "\n",
    "# Create date range\n",
    "# only 10 days generated need to run again (3 times)\n",
    "date_range = pd.date_range(start=\"2023-07-01\", end=\"2023-07-31\").strftime('%Y-%m-%d')\n",
    "date_range2 = pd.date_range(start=\"2023-07-02\", end=\"2023-08-01\").strftime('%Y-%m-%d')\n",
    "date_range3=date_range +' '+ date_range2"
   ]
  },
  {
   "cell_type": "code",
   "execution_count": 333,
   "id": "06ec1745",
   "metadata": {},
   "outputs": [
    {
     "name": "stderr",
     "output_type": "stream",
     "text": [
      "C:\\Users\\zwei\\AppData\\Local\\Temp\\ipykernel_588\\4248089460.py:19: FutureWarning: The frame.append method is deprecated and will be removed from pandas in a future version. Use pandas.concat instead.\n",
      "  results = results.append(query_data, ignore_index=True)\n",
      "C:\\Users\\zwei\\AppData\\Local\\Temp\\ipykernel_588\\4248089460.py:19: FutureWarning: The frame.append method is deprecated and will be removed from pandas in a future version. Use pandas.concat instead.\n",
      "  results = results.append(query_data, ignore_index=True)\n"
     ]
    },
    {
     "name": "stdout",
     "output_type": "stream",
     "text": [
      "An error occurred: 'NoneType' object does not support item assignment\n"
     ]
    },
    {
     "name": "stderr",
     "output_type": "stream",
     "text": [
      "C:\\Users\\zwei\\AppData\\Local\\Temp\\ipykernel_588\\4248089460.py:19: FutureWarning: The frame.append method is deprecated and will be removed from pandas in a future version. Use pandas.concat instead.\n",
      "  results = results.append(query_data, ignore_index=True)\n",
      "C:\\Users\\zwei\\AppData\\Local\\Temp\\ipykernel_588\\4248089460.py:19: FutureWarning: The frame.append method is deprecated and will be removed from pandas in a future version. Use pandas.concat instead.\n",
      "  results = results.append(query_data, ignore_index=True)\n",
      "C:\\Users\\zwei\\AppData\\Local\\Temp\\ipykernel_588\\4248089460.py:19: FutureWarning: The frame.append method is deprecated and will be removed from pandas in a future version. Use pandas.concat instead.\n",
      "  results = results.append(query_data, ignore_index=True)\n",
      "C:\\Users\\zwei\\AppData\\Local\\Temp\\ipykernel_588\\4248089460.py:19: FutureWarning: The frame.append method is deprecated and will be removed from pandas in a future version. Use pandas.concat instead.\n",
      "  results = results.append(query_data, ignore_index=True)\n",
      "C:\\Users\\zwei\\AppData\\Local\\Temp\\ipykernel_588\\4248089460.py:19: FutureWarning: The frame.append method is deprecated and will be removed from pandas in a future version. Use pandas.concat instead.\n",
      "  results = results.append(query_data, ignore_index=True)\n",
      "C:\\Users\\zwei\\AppData\\Local\\Temp\\ipykernel_588\\4248089460.py:19: FutureWarning: The frame.append method is deprecated and will be removed from pandas in a future version. Use pandas.concat instead.\n",
      "  results = results.append(query_data, ignore_index=True)\n",
      "C:\\Users\\zwei\\AppData\\Local\\Temp\\ipykernel_588\\4248089460.py:19: FutureWarning: The frame.append method is deprecated and will be removed from pandas in a future version. Use pandas.concat instead.\n",
      "  results = results.append(query_data, ignore_index=True)\n",
      "C:\\Users\\zwei\\AppData\\Local\\Temp\\ipykernel_588\\4248089460.py:19: FutureWarning: The frame.append method is deprecated and will be removed from pandas in a future version. Use pandas.concat instead.\n",
      "  results = results.append(query_data, ignore_index=True)\n",
      "C:\\Users\\zwei\\AppData\\Local\\Temp\\ipykernel_588\\4248089460.py:19: FutureWarning: The frame.append method is deprecated and will be removed from pandas in a future version. Use pandas.concat instead.\n",
      "  results = results.append(query_data, ignore_index=True)\n",
      "C:\\Users\\zwei\\AppData\\Local\\Temp\\ipykernel_588\\4248089460.py:19: FutureWarning: The frame.append method is deprecated and will be removed from pandas in a future version. Use pandas.concat instead.\n",
      "  results = results.append(query_data, ignore_index=True)\n",
      "C:\\Users\\zwei\\AppData\\Local\\Temp\\ipykernel_588\\4248089460.py:19: FutureWarning: The frame.append method is deprecated and will be removed from pandas in a future version. Use pandas.concat instead.\n",
      "  results = results.append(query_data, ignore_index=True)\n",
      "C:\\Users\\zwei\\AppData\\Local\\Temp\\ipykernel_588\\4248089460.py:19: FutureWarning: The frame.append method is deprecated and will be removed from pandas in a future version. Use pandas.concat instead.\n",
      "  results = results.append(query_data, ignore_index=True)\n",
      "C:\\Users\\zwei\\AppData\\Local\\Temp\\ipykernel_588\\4248089460.py:19: FutureWarning: The frame.append method is deprecated and will be removed from pandas in a future version. Use pandas.concat instead.\n",
      "  results = results.append(query_data, ignore_index=True)\n",
      "C:\\Users\\zwei\\AppData\\Local\\Temp\\ipykernel_588\\4248089460.py:19: FutureWarning: The frame.append method is deprecated and will be removed from pandas in a future version. Use pandas.concat instead.\n",
      "  results = results.append(query_data, ignore_index=True)\n",
      "C:\\Users\\zwei\\AppData\\Local\\Temp\\ipykernel_588\\4248089460.py:19: FutureWarning: The frame.append method is deprecated and will be removed from pandas in a future version. Use pandas.concat instead.\n",
      "  results = results.append(query_data, ignore_index=True)\n",
      "C:\\Users\\zwei\\AppData\\Local\\Temp\\ipykernel_588\\4248089460.py:19: FutureWarning: The frame.append method is deprecated and will be removed from pandas in a future version. Use pandas.concat instead.\n",
      "  results = results.append(query_data, ignore_index=True)\n",
      "C:\\Users\\zwei\\AppData\\Local\\Temp\\ipykernel_588\\4248089460.py:19: FutureWarning: The frame.append method is deprecated and will be removed from pandas in a future version. Use pandas.concat instead.\n",
      "  results = results.append(query_data, ignore_index=True)\n"
     ]
    },
    {
     "name": "stdout",
     "output_type": "stream",
     "text": [
      "An error occurred: 'NoneType' object does not support item assignment\n"
     ]
    },
    {
     "name": "stderr",
     "output_type": "stream",
     "text": [
      "C:\\Users\\zwei\\AppData\\Local\\Temp\\ipykernel_588\\4248089460.py:19: FutureWarning: The frame.append method is deprecated and will be removed from pandas in a future version. Use pandas.concat instead.\n",
      "  results = results.append(query_data, ignore_index=True)\n"
     ]
    },
    {
     "name": "stdout",
     "output_type": "stream",
     "text": [
      "An error occurred: 'NoneType' object does not support item assignment\n"
     ]
    },
    {
     "name": "stderr",
     "output_type": "stream",
     "text": [
      "C:\\Users\\zwei\\AppData\\Local\\Temp\\ipykernel_588\\4248089460.py:19: FutureWarning: The frame.append method is deprecated and will be removed from pandas in a future version. Use pandas.concat instead.\n",
      "  results = results.append(query_data, ignore_index=True)\n",
      "C:\\Users\\zwei\\AppData\\Local\\Temp\\ipykernel_588\\4248089460.py:19: FutureWarning: The frame.append method is deprecated and will be removed from pandas in a future version. Use pandas.concat instead.\n",
      "  results = results.append(query_data, ignore_index=True)\n",
      "C:\\Users\\zwei\\AppData\\Local\\Temp\\ipykernel_588\\4248089460.py:19: FutureWarning: The frame.append method is deprecated and will be removed from pandas in a future version. Use pandas.concat instead.\n",
      "  results = results.append(query_data, ignore_index=True)\n",
      "C:\\Users\\zwei\\AppData\\Local\\Temp\\ipykernel_588\\4248089460.py:19: FutureWarning: The frame.append method is deprecated and will be removed from pandas in a future version. Use pandas.concat instead.\n",
      "  results = results.append(query_data, ignore_index=True)\n",
      "C:\\Users\\zwei\\AppData\\Local\\Temp\\ipykernel_588\\4248089460.py:19: FutureWarning: The frame.append method is deprecated and will be removed from pandas in a future version. Use pandas.concat instead.\n",
      "  results = results.append(query_data, ignore_index=True)\n",
      "C:\\Users\\zwei\\AppData\\Local\\Temp\\ipykernel_588\\4248089460.py:19: FutureWarning: The frame.append method is deprecated and will be removed from pandas in a future version. Use pandas.concat instead.\n",
      "  results = results.append(query_data, ignore_index=True)\n",
      "C:\\Users\\zwei\\AppData\\Local\\Temp\\ipykernel_588\\4248089460.py:19: FutureWarning: The frame.append method is deprecated and will be removed from pandas in a future version. Use pandas.concat instead.\n",
      "  results = results.append(query_data, ignore_index=True)\n",
      "C:\\Users\\zwei\\AppData\\Local\\Temp\\ipykernel_588\\4248089460.py:19: FutureWarning: The frame.append method is deprecated and will be removed from pandas in a future version. Use pandas.concat instead.\n",
      "  results = results.append(query_data, ignore_index=True)\n",
      "C:\\Users\\zwei\\AppData\\Local\\Temp\\ipykernel_588\\4248089460.py:19: FutureWarning: The frame.append method is deprecated and will be removed from pandas in a future version. Use pandas.concat instead.\n",
      "  results = results.append(query_data, ignore_index=True)\n",
      "C:\\Users\\zwei\\AppData\\Local\\Temp\\ipykernel_588\\4248089460.py:19: FutureWarning: The frame.append method is deprecated and will be removed from pandas in a future version. Use pandas.concat instead.\n",
      "  results = results.append(query_data, ignore_index=True)\n",
      "C:\\Users\\zwei\\AppData\\Local\\Temp\\ipykernel_588\\4248089460.py:19: FutureWarning: The frame.append method is deprecated and will be removed from pandas in a future version. Use pandas.concat instead.\n",
      "  results = results.append(query_data, ignore_index=True)\n",
      "C:\\Users\\zwei\\AppData\\Local\\Temp\\ipykernel_588\\4248089460.py:19: FutureWarning: The frame.append method is deprecated and will be removed from pandas in a future version. Use pandas.concat instead.\n",
      "  results = results.append(query_data, ignore_index=True)\n",
      "C:\\Users\\zwei\\AppData\\Local\\Temp\\ipykernel_588\\4248089460.py:19: FutureWarning: The frame.append method is deprecated and will be removed from pandas in a future version. Use pandas.concat instead.\n",
      "  results = results.append(query_data, ignore_index=True)\n",
      "C:\\Users\\zwei\\AppData\\Local\\Temp\\ipykernel_588\\4248089460.py:19: FutureWarning: The frame.append method is deprecated and will be removed from pandas in a future version. Use pandas.concat instead.\n",
      "  results = results.append(query_data, ignore_index=True)\n",
      "C:\\Users\\zwei\\AppData\\Local\\Temp\\ipykernel_588\\4248089460.py:19: FutureWarning: The frame.append method is deprecated and will be removed from pandas in a future version. Use pandas.concat instead.\n",
      "  results = results.append(query_data, ignore_index=True)\n",
      "C:\\Users\\zwei\\AppData\\Local\\Temp\\ipykernel_588\\4248089460.py:19: FutureWarning: The frame.append method is deprecated and will be removed from pandas in a future version. Use pandas.concat instead.\n",
      "  results = results.append(query_data, ignore_index=True)\n",
      "C:\\Users\\zwei\\AppData\\Local\\Temp\\ipykernel_588\\4248089460.py:19: FutureWarning: The frame.append method is deprecated and will be removed from pandas in a future version. Use pandas.concat instead.\n",
      "  results = results.append(query_data, ignore_index=True)\n",
      "C:\\Users\\zwei\\AppData\\Local\\Temp\\ipykernel_588\\4248089460.py:19: FutureWarning: The frame.append method is deprecated and will be removed from pandas in a future version. Use pandas.concat instead.\n",
      "  results = results.append(query_data, ignore_index=True)\n",
      "C:\\Users\\zwei\\AppData\\Local\\Temp\\ipykernel_588\\4248089460.py:19: FutureWarning: The frame.append method is deprecated and will be removed from pandas in a future version. Use pandas.concat instead.\n",
      "  results = results.append(query_data, ignore_index=True)\n",
      "C:\\Users\\zwei\\AppData\\Local\\Temp\\ipykernel_588\\4248089460.py:19: FutureWarning: The frame.append method is deprecated and will be removed from pandas in a future version. Use pandas.concat instead.\n",
      "  results = results.append(query_data, ignore_index=True)\n",
      "C:\\Users\\zwei\\AppData\\Local\\Temp\\ipykernel_588\\4248089460.py:19: FutureWarning: The frame.append method is deprecated and will be removed from pandas in a future version. Use pandas.concat instead.\n",
      "  results = results.append(query_data, ignore_index=True)\n",
      "C:\\Users\\zwei\\AppData\\Local\\Temp\\ipykernel_588\\4248089460.py:19: FutureWarning: The frame.append method is deprecated and will be removed from pandas in a future version. Use pandas.concat instead.\n",
      "  results = results.append(query_data, ignore_index=True)\n",
      "C:\\Users\\zwei\\AppData\\Local\\Temp\\ipykernel_588\\4248089460.py:19: FutureWarning: The frame.append method is deprecated and will be removed from pandas in a future version. Use pandas.concat instead.\n",
      "  results = results.append(query_data, ignore_index=True)\n",
      "C:\\Users\\zwei\\AppData\\Local\\Temp\\ipykernel_588\\4248089460.py:19: FutureWarning: The frame.append method is deprecated and will be removed from pandas in a future version. Use pandas.concat instead.\n",
      "  results = results.append(query_data, ignore_index=True)\n",
      "C:\\Users\\zwei\\AppData\\Local\\Temp\\ipykernel_588\\4248089460.py:19: FutureWarning: The frame.append method is deprecated and will be removed from pandas in a future version. Use pandas.concat instead.\n",
      "  results = results.append(query_data, ignore_index=True)\n",
      "C:\\Users\\zwei\\AppData\\Local\\Temp\\ipykernel_588\\4248089460.py:19: FutureWarning: The frame.append method is deprecated and will be removed from pandas in a future version. Use pandas.concat instead.\n",
      "  results = results.append(query_data, ignore_index=True)\n",
      "C:\\Users\\zwei\\AppData\\Local\\Temp\\ipykernel_588\\4248089460.py:19: FutureWarning: The frame.append method is deprecated and will be removed from pandas in a future version. Use pandas.concat instead.\n",
      "  results = results.append(query_data, ignore_index=True)\n"
     ]
    },
    {
     "name": "stdout",
     "output_type": "stream",
     "text": [
      "An error occurred: 'NoneType' object does not support item assignment\n"
     ]
    },
    {
     "name": "stderr",
     "output_type": "stream",
     "text": [
      "C:\\Users\\zwei\\AppData\\Local\\Temp\\ipykernel_588\\4248089460.py:19: FutureWarning: The frame.append method is deprecated and will be removed from pandas in a future version. Use pandas.concat instead.\n",
      "  results = results.append(query_data, ignore_index=True)\n",
      "C:\\Users\\zwei\\AppData\\Local\\Temp\\ipykernel_588\\4248089460.py:19: FutureWarning: The frame.append method is deprecated and will be removed from pandas in a future version. Use pandas.concat instead.\n",
      "  results = results.append(query_data, ignore_index=True)\n",
      "C:\\Users\\zwei\\AppData\\Local\\Temp\\ipykernel_588\\4248089460.py:19: FutureWarning: The frame.append method is deprecated and will be removed from pandas in a future version. Use pandas.concat instead.\n",
      "  results = results.append(query_data, ignore_index=True)\n",
      "C:\\Users\\zwei\\AppData\\Local\\Temp\\ipykernel_588\\4248089460.py:19: FutureWarning: The frame.append method is deprecated and will be removed from pandas in a future version. Use pandas.concat instead.\n",
      "  results = results.append(query_data, ignore_index=True)\n",
      "C:\\Users\\zwei\\AppData\\Local\\Temp\\ipykernel_588\\4248089460.py:19: FutureWarning: The frame.append method is deprecated and will be removed from pandas in a future version. Use pandas.concat instead.\n",
      "  results = results.append(query_data, ignore_index=True)\n",
      "C:\\Users\\zwei\\AppData\\Local\\Temp\\ipykernel_588\\4248089460.py:19: FutureWarning: The frame.append method is deprecated and will be removed from pandas in a future version. Use pandas.concat instead.\n",
      "  results = results.append(query_data, ignore_index=True)\n",
      "C:\\Users\\zwei\\AppData\\Local\\Temp\\ipykernel_588\\4248089460.py:19: FutureWarning: The frame.append method is deprecated and will be removed from pandas in a future version. Use pandas.concat instead.\n",
      "  results = results.append(query_data, ignore_index=True)\n",
      "C:\\Users\\zwei\\AppData\\Local\\Temp\\ipykernel_588\\4248089460.py:19: FutureWarning: The frame.append method is deprecated and will be removed from pandas in a future version. Use pandas.concat instead.\n",
      "  results = results.append(query_data, ignore_index=True)\n",
      "C:\\Users\\zwei\\AppData\\Local\\Temp\\ipykernel_588\\4248089460.py:19: FutureWarning: The frame.append method is deprecated and will be removed from pandas in a future version. Use pandas.concat instead.\n",
      "  results = results.append(query_data, ignore_index=True)\n",
      "C:\\Users\\zwei\\AppData\\Local\\Temp\\ipykernel_588\\4248089460.py:19: FutureWarning: The frame.append method is deprecated and will be removed from pandas in a future version. Use pandas.concat instead.\n",
      "  results = results.append(query_data, ignore_index=True)\n",
      "C:\\Users\\zwei\\AppData\\Local\\Temp\\ipykernel_588\\4248089460.py:19: FutureWarning: The frame.append method is deprecated and will be removed from pandas in a future version. Use pandas.concat instead.\n",
      "  results = results.append(query_data, ignore_index=True)\n",
      "C:\\Users\\zwei\\AppData\\Local\\Temp\\ipykernel_588\\4248089460.py:19: FutureWarning: The frame.append method is deprecated and will be removed from pandas in a future version. Use pandas.concat instead.\n",
      "  results = results.append(query_data, ignore_index=True)\n",
      "C:\\Users\\zwei\\AppData\\Local\\Temp\\ipykernel_588\\4248089460.py:19: FutureWarning: The frame.append method is deprecated and will be removed from pandas in a future version. Use pandas.concat instead.\n",
      "  results = results.append(query_data, ignore_index=True)\n",
      "C:\\Users\\zwei\\AppData\\Local\\Temp\\ipykernel_588\\4248089460.py:19: FutureWarning: The frame.append method is deprecated and will be removed from pandas in a future version. Use pandas.concat instead.\n",
      "  results = results.append(query_data, ignore_index=True)\n",
      "C:\\Users\\zwei\\AppData\\Local\\Temp\\ipykernel_588\\4248089460.py:19: FutureWarning: The frame.append method is deprecated and will be removed from pandas in a future version. Use pandas.concat instead.\n",
      "  results = results.append(query_data, ignore_index=True)\n"
     ]
    },
    {
     "name": "stdout",
     "output_type": "stream",
     "text": [
      "An error occurred: 'NoneType' object does not support item assignment\n"
     ]
    },
    {
     "name": "stderr",
     "output_type": "stream",
     "text": [
      "C:\\Users\\zwei\\AppData\\Local\\Temp\\ipykernel_588\\4248089460.py:19: FutureWarning: The frame.append method is deprecated and will be removed from pandas in a future version. Use pandas.concat instead.\n",
      "  results = results.append(query_data, ignore_index=True)\n",
      "C:\\Users\\zwei\\AppData\\Local\\Temp\\ipykernel_588\\4248089460.py:19: FutureWarning: The frame.append method is deprecated and will be removed from pandas in a future version. Use pandas.concat instead.\n",
      "  results = results.append(query_data, ignore_index=True)\n",
      "C:\\Users\\zwei\\AppData\\Local\\Temp\\ipykernel_588\\4248089460.py:19: FutureWarning: The frame.append method is deprecated and will be removed from pandas in a future version. Use pandas.concat instead.\n",
      "  results = results.append(query_data, ignore_index=True)\n",
      "C:\\Users\\zwei\\AppData\\Local\\Temp\\ipykernel_588\\4248089460.py:19: FutureWarning: The frame.append method is deprecated and will be removed from pandas in a future version. Use pandas.concat instead.\n",
      "  results = results.append(query_data, ignore_index=True)\n",
      "C:\\Users\\zwei\\AppData\\Local\\Temp\\ipykernel_588\\4248089460.py:19: FutureWarning: The frame.append method is deprecated and will be removed from pandas in a future version. Use pandas.concat instead.\n",
      "  results = results.append(query_data, ignore_index=True)\n",
      "C:\\Users\\zwei\\AppData\\Local\\Temp\\ipykernel_588\\4248089460.py:19: FutureWarning: The frame.append method is deprecated and will be removed from pandas in a future version. Use pandas.concat instead.\n",
      "  results = results.append(query_data, ignore_index=True)\n",
      "C:\\Users\\zwei\\AppData\\Local\\Temp\\ipykernel_588\\4248089460.py:19: FutureWarning: The frame.append method is deprecated and will be removed from pandas in a future version. Use pandas.concat instead.\n",
      "  results = results.append(query_data, ignore_index=True)\n",
      "C:\\Users\\zwei\\AppData\\Local\\Temp\\ipykernel_588\\4248089460.py:19: FutureWarning: The frame.append method is deprecated and will be removed from pandas in a future version. Use pandas.concat instead.\n",
      "  results = results.append(query_data, ignore_index=True)\n",
      "C:\\Users\\zwei\\AppData\\Local\\Temp\\ipykernel_588\\4248089460.py:19: FutureWarning: The frame.append method is deprecated and will be removed from pandas in a future version. Use pandas.concat instead.\n",
      "  results = results.append(query_data, ignore_index=True)\n",
      "C:\\Users\\zwei\\AppData\\Local\\Temp\\ipykernel_588\\4248089460.py:19: FutureWarning: The frame.append method is deprecated and will be removed from pandas in a future version. Use pandas.concat instead.\n",
      "  results = results.append(query_data, ignore_index=True)\n",
      "C:\\Users\\zwei\\AppData\\Local\\Temp\\ipykernel_588\\4248089460.py:19: FutureWarning: The frame.append method is deprecated and will be removed from pandas in a future version. Use pandas.concat instead.\n",
      "  results = results.append(query_data, ignore_index=True)\n",
      "C:\\Users\\zwei\\AppData\\Local\\Temp\\ipykernel_588\\4248089460.py:19: FutureWarning: The frame.append method is deprecated and will be removed from pandas in a future version. Use pandas.concat instead.\n",
      "  results = results.append(query_data, ignore_index=True)\n"
     ]
    },
    {
     "name": "stdout",
     "output_type": "stream",
     "text": [
      "An error occurred: 'NoneType' object does not support item assignment\n"
     ]
    },
    {
     "name": "stderr",
     "output_type": "stream",
     "text": [
      "C:\\Users\\zwei\\AppData\\Local\\Temp\\ipykernel_588\\4248089460.py:19: FutureWarning: The frame.append method is deprecated and will be removed from pandas in a future version. Use pandas.concat instead.\n",
      "  results = results.append(query_data, ignore_index=True)\n",
      "C:\\Users\\zwei\\AppData\\Local\\Temp\\ipykernel_588\\4248089460.py:19: FutureWarning: The frame.append method is deprecated and will be removed from pandas in a future version. Use pandas.concat instead.\n",
      "  results = results.append(query_data, ignore_index=True)\n",
      "C:\\Users\\zwei\\AppData\\Local\\Temp\\ipykernel_588\\4248089460.py:19: FutureWarning: The frame.append method is deprecated and will be removed from pandas in a future version. Use pandas.concat instead.\n",
      "  results = results.append(query_data, ignore_index=True)\n",
      "C:\\Users\\zwei\\AppData\\Local\\Temp\\ipykernel_588\\4248089460.py:19: FutureWarning: The frame.append method is deprecated and will be removed from pandas in a future version. Use pandas.concat instead.\n",
      "  results = results.append(query_data, ignore_index=True)\n",
      "C:\\Users\\zwei\\AppData\\Local\\Temp\\ipykernel_588\\4248089460.py:19: FutureWarning: The frame.append method is deprecated and will be removed from pandas in a future version. Use pandas.concat instead.\n",
      "  results = results.append(query_data, ignore_index=True)\n",
      "C:\\Users\\zwei\\AppData\\Local\\Temp\\ipykernel_588\\4248089460.py:19: FutureWarning: The frame.append method is deprecated and will be removed from pandas in a future version. Use pandas.concat instead.\n",
      "  results = results.append(query_data, ignore_index=True)\n",
      "C:\\Users\\zwei\\AppData\\Local\\Temp\\ipykernel_588\\4248089460.py:19: FutureWarning: The frame.append method is deprecated and will be removed from pandas in a future version. Use pandas.concat instead.\n",
      "  results = results.append(query_data, ignore_index=True)\n"
     ]
    },
    {
     "name": "stdout",
     "output_type": "stream",
     "text": [
      "An error occurred: 'NoneType' object does not support item assignment\n"
     ]
    },
    {
     "name": "stderr",
     "output_type": "stream",
     "text": [
      "C:\\Users\\zwei\\AppData\\Local\\Temp\\ipykernel_588\\4248089460.py:19: FutureWarning: The frame.append method is deprecated and will be removed from pandas in a future version. Use pandas.concat instead.\n",
      "  results = results.append(query_data, ignore_index=True)\n",
      "C:\\Users\\zwei\\AppData\\Local\\Temp\\ipykernel_588\\4248089460.py:19: FutureWarning: The frame.append method is deprecated and will be removed from pandas in a future version. Use pandas.concat instead.\n",
      "  results = results.append(query_data, ignore_index=True)\n",
      "C:\\Users\\zwei\\AppData\\Local\\Temp\\ipykernel_588\\4248089460.py:19: FutureWarning: The frame.append method is deprecated and will be removed from pandas in a future version. Use pandas.concat instead.\n",
      "  results = results.append(query_data, ignore_index=True)\n",
      "C:\\Users\\zwei\\AppData\\Local\\Temp\\ipykernel_588\\4248089460.py:19: FutureWarning: The frame.append method is deprecated and will be removed from pandas in a future version. Use pandas.concat instead.\n",
      "  results = results.append(query_data, ignore_index=True)\n",
      "C:\\Users\\zwei\\AppData\\Local\\Temp\\ipykernel_588\\4248089460.py:19: FutureWarning: The frame.append method is deprecated and will be removed from pandas in a future version. Use pandas.concat instead.\n",
      "  results = results.append(query_data, ignore_index=True)\n",
      "C:\\Users\\zwei\\AppData\\Local\\Temp\\ipykernel_588\\4248089460.py:19: FutureWarning: The frame.append method is deprecated and will be removed from pandas in a future version. Use pandas.concat instead.\n",
      "  results = results.append(query_data, ignore_index=True)\n",
      "C:\\Users\\zwei\\AppData\\Local\\Temp\\ipykernel_588\\4248089460.py:19: FutureWarning: The frame.append method is deprecated and will be removed from pandas in a future version. Use pandas.concat instead.\n",
      "  results = results.append(query_data, ignore_index=True)\n",
      "C:\\Users\\zwei\\AppData\\Local\\Temp\\ipykernel_588\\4248089460.py:19: FutureWarning: The frame.append method is deprecated and will be removed from pandas in a future version. Use pandas.concat instead.\n",
      "  results = results.append(query_data, ignore_index=True)\n"
     ]
    },
    {
     "name": "stdout",
     "output_type": "stream",
     "text": [
      "An error occurred: 'NoneType' object does not support item assignment\n"
     ]
    },
    {
     "name": "stderr",
     "output_type": "stream",
     "text": [
      "C:\\Users\\zwei\\AppData\\Local\\Temp\\ipykernel_588\\4248089460.py:19: FutureWarning: The frame.append method is deprecated and will be removed from pandas in a future version. Use pandas.concat instead.\n",
      "  results = results.append(query_data, ignore_index=True)\n",
      "C:\\Users\\zwei\\AppData\\Local\\Temp\\ipykernel_588\\4248089460.py:19: FutureWarning: The frame.append method is deprecated and will be removed from pandas in a future version. Use pandas.concat instead.\n",
      "  results = results.append(query_data, ignore_index=True)\n"
     ]
    },
    {
     "name": "stdout",
     "output_type": "stream",
     "text": [
      "An error occurred: 'NoneType' object does not support item assignment\n"
     ]
    },
    {
     "name": "stderr",
     "output_type": "stream",
     "text": [
      "C:\\Users\\zwei\\AppData\\Local\\Temp\\ipykernel_588\\4248089460.py:19: FutureWarning: The frame.append method is deprecated and will be removed from pandas in a future version. Use pandas.concat instead.\n",
      "  results = results.append(query_data, ignore_index=True)\n",
      "C:\\Users\\zwei\\AppData\\Local\\Temp\\ipykernel_588\\4248089460.py:19: FutureWarning: The frame.append method is deprecated and will be removed from pandas in a future version. Use pandas.concat instead.\n",
      "  results = results.append(query_data, ignore_index=True)\n",
      "C:\\Users\\zwei\\AppData\\Local\\Temp\\ipykernel_588\\4248089460.py:19: FutureWarning: The frame.append method is deprecated and will be removed from pandas in a future version. Use pandas.concat instead.\n",
      "  results = results.append(query_data, ignore_index=True)\n"
     ]
    },
    {
     "name": "stdout",
     "output_type": "stream",
     "text": [
      "An error occurred: 'NoneType' object does not support item assignment\n"
     ]
    },
    {
     "name": "stderr",
     "output_type": "stream",
     "text": [
      "C:\\Users\\zwei\\AppData\\Local\\Temp\\ipykernel_588\\4248089460.py:19: FutureWarning: The frame.append method is deprecated and will be removed from pandas in a future version. Use pandas.concat instead.\n",
      "  results = results.append(query_data, ignore_index=True)\n",
      "C:\\Users\\zwei\\AppData\\Local\\Temp\\ipykernel_588\\4248089460.py:19: FutureWarning: The frame.append method is deprecated and will be removed from pandas in a future version. Use pandas.concat instead.\n",
      "  results = results.append(query_data, ignore_index=True)\n",
      "C:\\Users\\zwei\\AppData\\Local\\Temp\\ipykernel_588\\4248089460.py:19: FutureWarning: The frame.append method is deprecated and will be removed from pandas in a future version. Use pandas.concat instead.\n",
      "  results = results.append(query_data, ignore_index=True)\n",
      "C:\\Users\\zwei\\AppData\\Local\\Temp\\ipykernel_588\\4248089460.py:19: FutureWarning: The frame.append method is deprecated and will be removed from pandas in a future version. Use pandas.concat instead.\n",
      "  results = results.append(query_data, ignore_index=True)\n",
      "C:\\Users\\zwei\\AppData\\Local\\Temp\\ipykernel_588\\4248089460.py:19: FutureWarning: The frame.append method is deprecated and will be removed from pandas in a future version. Use pandas.concat instead.\n",
      "  results = results.append(query_data, ignore_index=True)\n",
      "C:\\Users\\zwei\\AppData\\Local\\Temp\\ipykernel_588\\4248089460.py:19: FutureWarning: The frame.append method is deprecated and will be removed from pandas in a future version. Use pandas.concat instead.\n",
      "  results = results.append(query_data, ignore_index=True)\n",
      "C:\\Users\\zwei\\AppData\\Local\\Temp\\ipykernel_588\\4248089460.py:19: FutureWarning: The frame.append method is deprecated and will be removed from pandas in a future version. Use pandas.concat instead.\n",
      "  results = results.append(query_data, ignore_index=True)\n",
      "C:\\Users\\zwei\\AppData\\Local\\Temp\\ipykernel_588\\4248089460.py:19: FutureWarning: The frame.append method is deprecated and will be removed from pandas in a future version. Use pandas.concat instead.\n",
      "  results = results.append(query_data, ignore_index=True)\n",
      "C:\\Users\\zwei\\AppData\\Local\\Temp\\ipykernel_588\\4248089460.py:19: FutureWarning: The frame.append method is deprecated and will be removed from pandas in a future version. Use pandas.concat instead.\n",
      "  results = results.append(query_data, ignore_index=True)\n",
      "C:\\Users\\zwei\\AppData\\Local\\Temp\\ipykernel_588\\4248089460.py:19: FutureWarning: The frame.append method is deprecated and will be removed from pandas in a future version. Use pandas.concat instead.\n",
      "  results = results.append(query_data, ignore_index=True)\n",
      "C:\\Users\\zwei\\AppData\\Local\\Temp\\ipykernel_588\\4248089460.py:19: FutureWarning: The frame.append method is deprecated and will be removed from pandas in a future version. Use pandas.concat instead.\n",
      "  results = results.append(query_data, ignore_index=True)\n",
      "C:\\Users\\zwei\\AppData\\Local\\Temp\\ipykernel_588\\4248089460.py:19: FutureWarning: The frame.append method is deprecated and will be removed from pandas in a future version. Use pandas.concat instead.\n",
      "  results = results.append(query_data, ignore_index=True)\n",
      "C:\\Users\\zwei\\AppData\\Local\\Temp\\ipykernel_588\\4248089460.py:19: FutureWarning: The frame.append method is deprecated and will be removed from pandas in a future version. Use pandas.concat instead.\n",
      "  results = results.append(query_data, ignore_index=True)\n"
     ]
    },
    {
     "name": "stdout",
     "output_type": "stream",
     "text": [
      "An error occurred: 'NoneType' object does not support item assignment\n"
     ]
    },
    {
     "name": "stderr",
     "output_type": "stream",
     "text": [
      "C:\\Users\\zwei\\AppData\\Local\\Temp\\ipykernel_588\\4248089460.py:19: FutureWarning: The frame.append method is deprecated and will be removed from pandas in a future version. Use pandas.concat instead.\n",
      "  results = results.append(query_data, ignore_index=True)\n"
     ]
    },
    {
     "name": "stdout",
     "output_type": "stream",
     "text": [
      "An error occurred: 'NoneType' object does not support item assignment\n"
     ]
    },
    {
     "name": "stderr",
     "output_type": "stream",
     "text": [
      "C:\\Users\\zwei\\AppData\\Local\\Temp\\ipykernel_588\\4248089460.py:19: FutureWarning: The frame.append method is deprecated and will be removed from pandas in a future version. Use pandas.concat instead.\n",
      "  results = results.append(query_data, ignore_index=True)\n",
      "C:\\Users\\zwei\\AppData\\Local\\Temp\\ipykernel_588\\4248089460.py:19: FutureWarning: The frame.append method is deprecated and will be removed from pandas in a future version. Use pandas.concat instead.\n",
      "  results = results.append(query_data, ignore_index=True)\n",
      "C:\\Users\\zwei\\AppData\\Local\\Temp\\ipykernel_588\\4248089460.py:19: FutureWarning: The frame.append method is deprecated and will be removed from pandas in a future version. Use pandas.concat instead.\n",
      "  results = results.append(query_data, ignore_index=True)\n",
      "C:\\Users\\zwei\\AppData\\Local\\Temp\\ipykernel_588\\4248089460.py:19: FutureWarning: The frame.append method is deprecated and will be removed from pandas in a future version. Use pandas.concat instead.\n",
      "  results = results.append(query_data, ignore_index=True)\n",
      "C:\\Users\\zwei\\AppData\\Local\\Temp\\ipykernel_588\\4248089460.py:19: FutureWarning: The frame.append method is deprecated and will be removed from pandas in a future version. Use pandas.concat instead.\n",
      "  results = results.append(query_data, ignore_index=True)\n",
      "C:\\Users\\zwei\\AppData\\Local\\Temp\\ipykernel_588\\4248089460.py:19: FutureWarning: The frame.append method is deprecated and will be removed from pandas in a future version. Use pandas.concat instead.\n",
      "  results = results.append(query_data, ignore_index=True)\n",
      "C:\\Users\\zwei\\AppData\\Local\\Temp\\ipykernel_588\\4248089460.py:19: FutureWarning: The frame.append method is deprecated and will be removed from pandas in a future version. Use pandas.concat instead.\n",
      "  results = results.append(query_data, ignore_index=True)\n",
      "C:\\Users\\zwei\\AppData\\Local\\Temp\\ipykernel_588\\4248089460.py:19: FutureWarning: The frame.append method is deprecated and will be removed from pandas in a future version. Use pandas.concat instead.\n",
      "  results = results.append(query_data, ignore_index=True)\n",
      "C:\\Users\\zwei\\AppData\\Local\\Temp\\ipykernel_588\\4248089460.py:19: FutureWarning: The frame.append method is deprecated and will be removed from pandas in a future version. Use pandas.concat instead.\n",
      "  results = results.append(query_data, ignore_index=True)\n",
      "C:\\Users\\zwei\\AppData\\Local\\Temp\\ipykernel_588\\4248089460.py:19: FutureWarning: The frame.append method is deprecated and will be removed from pandas in a future version. Use pandas.concat instead.\n",
      "  results = results.append(query_data, ignore_index=True)\n",
      "C:\\Users\\zwei\\AppData\\Local\\Temp\\ipykernel_588\\4248089460.py:19: FutureWarning: The frame.append method is deprecated and will be removed from pandas in a future version. Use pandas.concat instead.\n",
      "  results = results.append(query_data, ignore_index=True)\n",
      "C:\\Users\\zwei\\AppData\\Local\\Temp\\ipykernel_588\\4248089460.py:19: FutureWarning: The frame.append method is deprecated and will be removed from pandas in a future version. Use pandas.concat instead.\n",
      "  results = results.append(query_data, ignore_index=True)\n",
      "C:\\Users\\zwei\\AppData\\Local\\Temp\\ipykernel_588\\4248089460.py:19: FutureWarning: The frame.append method is deprecated and will be removed from pandas in a future version. Use pandas.concat instead.\n",
      "  results = results.append(query_data, ignore_index=True)\n",
      "C:\\Users\\zwei\\AppData\\Local\\Temp\\ipykernel_588\\4248089460.py:19: FutureWarning: The frame.append method is deprecated and will be removed from pandas in a future version. Use pandas.concat instead.\n",
      "  results = results.append(query_data, ignore_index=True)\n",
      "C:\\Users\\zwei\\AppData\\Local\\Temp\\ipykernel_588\\4248089460.py:19: FutureWarning: The frame.append method is deprecated and will be removed from pandas in a future version. Use pandas.concat instead.\n",
      "  results = results.append(query_data, ignore_index=True)\n",
      "C:\\Users\\zwei\\AppData\\Local\\Temp\\ipykernel_588\\4248089460.py:19: FutureWarning: The frame.append method is deprecated and will be removed from pandas in a future version. Use pandas.concat instead.\n",
      "  results = results.append(query_data, ignore_index=True)\n",
      "C:\\Users\\zwei\\AppData\\Local\\Temp\\ipykernel_588\\4248089460.py:19: FutureWarning: The frame.append method is deprecated and will be removed from pandas in a future version. Use pandas.concat instead.\n",
      "  results = results.append(query_data, ignore_index=True)\n",
      "C:\\Users\\zwei\\AppData\\Local\\Temp\\ipykernel_588\\4248089460.py:19: FutureWarning: The frame.append method is deprecated and will be removed from pandas in a future version. Use pandas.concat instead.\n",
      "  results = results.append(query_data, ignore_index=True)\n",
      "C:\\Users\\zwei\\AppData\\Local\\Temp\\ipykernel_588\\4248089460.py:19: FutureWarning: The frame.append method is deprecated and will be removed from pandas in a future version. Use pandas.concat instead.\n",
      "  results = results.append(query_data, ignore_index=True)\n",
      "C:\\Users\\zwei\\AppData\\Local\\Temp\\ipykernel_588\\4248089460.py:19: FutureWarning: The frame.append method is deprecated and will be removed from pandas in a future version. Use pandas.concat instead.\n",
      "  results = results.append(query_data, ignore_index=True)\n",
      "C:\\Users\\zwei\\AppData\\Local\\Temp\\ipykernel_588\\4248089460.py:19: FutureWarning: The frame.append method is deprecated and will be removed from pandas in a future version. Use pandas.concat instead.\n",
      "  results = results.append(query_data, ignore_index=True)\n",
      "C:\\Users\\zwei\\AppData\\Local\\Temp\\ipykernel_588\\4248089460.py:19: FutureWarning: The frame.append method is deprecated and will be removed from pandas in a future version. Use pandas.concat instead.\n",
      "  results = results.append(query_data, ignore_index=True)\n",
      "C:\\Users\\zwei\\AppData\\Local\\Temp\\ipykernel_588\\4248089460.py:19: FutureWarning: The frame.append method is deprecated and will be removed from pandas in a future version. Use pandas.concat instead.\n",
      "  results = results.append(query_data, ignore_index=True)\n"
     ]
    },
    {
     "name": "stdout",
     "output_type": "stream",
     "text": [
      "An error occurred: 'NoneType' object does not support item assignment\n"
     ]
    },
    {
     "name": "stderr",
     "output_type": "stream",
     "text": [
      "C:\\Users\\zwei\\AppData\\Local\\Temp\\ipykernel_588\\4248089460.py:19: FutureWarning: The frame.append method is deprecated and will be removed from pandas in a future version. Use pandas.concat instead.\n",
      "  results = results.append(query_data, ignore_index=True)\n",
      "C:\\Users\\zwei\\AppData\\Local\\Temp\\ipykernel_588\\4248089460.py:19: FutureWarning: The frame.append method is deprecated and will be removed from pandas in a future version. Use pandas.concat instead.\n",
      "  results = results.append(query_data, ignore_index=True)\n"
     ]
    },
    {
     "name": "stdout",
     "output_type": "stream",
     "text": [
      "An error occurred: 'NoneType' object does not support item assignment\n"
     ]
    },
    {
     "name": "stderr",
     "output_type": "stream",
     "text": [
      "C:\\Users\\zwei\\AppData\\Local\\Temp\\ipykernel_588\\4248089460.py:19: FutureWarning: The frame.append method is deprecated and will be removed from pandas in a future version. Use pandas.concat instead.\n",
      "  results = results.append(query_data, ignore_index=True)\n"
     ]
    },
    {
     "name": "stdout",
     "output_type": "stream",
     "text": [
      "An error occurred: 'NoneType' object does not support item assignment\n"
     ]
    },
    {
     "name": "stderr",
     "output_type": "stream",
     "text": [
      "C:\\Users\\zwei\\AppData\\Local\\Temp\\ipykernel_588\\4248089460.py:19: FutureWarning: The frame.append method is deprecated and will be removed from pandas in a future version. Use pandas.concat instead.\n",
      "  results = results.append(query_data, ignore_index=True)\n",
      "C:\\Users\\zwei\\AppData\\Local\\Temp\\ipykernel_588\\4248089460.py:19: FutureWarning: The frame.append method is deprecated and will be removed from pandas in a future version. Use pandas.concat instead.\n",
      "  results = results.append(query_data, ignore_index=True)\n",
      "C:\\Users\\zwei\\AppData\\Local\\Temp\\ipykernel_588\\4248089460.py:19: FutureWarning: The frame.append method is deprecated and will be removed from pandas in a future version. Use pandas.concat instead.\n",
      "  results = results.append(query_data, ignore_index=True)\n",
      "C:\\Users\\zwei\\AppData\\Local\\Temp\\ipykernel_588\\4248089460.py:19: FutureWarning: The frame.append method is deprecated and will be removed from pandas in a future version. Use pandas.concat instead.\n",
      "  results = results.append(query_data, ignore_index=True)\n",
      "C:\\Users\\zwei\\AppData\\Local\\Temp\\ipykernel_588\\4248089460.py:19: FutureWarning: The frame.append method is deprecated and will be removed from pandas in a future version. Use pandas.concat instead.\n",
      "  results = results.append(query_data, ignore_index=True)\n",
      "C:\\Users\\zwei\\AppData\\Local\\Temp\\ipykernel_588\\4248089460.py:19: FutureWarning: The frame.append method is deprecated and will be removed from pandas in a future version. Use pandas.concat instead.\n",
      "  results = results.append(query_data, ignore_index=True)\n",
      "C:\\Users\\zwei\\AppData\\Local\\Temp\\ipykernel_588\\4248089460.py:19: FutureWarning: The frame.append method is deprecated and will be removed from pandas in a future version. Use pandas.concat instead.\n",
      "  results = results.append(query_data, ignore_index=True)\n",
      "C:\\Users\\zwei\\AppData\\Local\\Temp\\ipykernel_588\\4248089460.py:19: FutureWarning: The frame.append method is deprecated and will be removed from pandas in a future version. Use pandas.concat instead.\n",
      "  results = results.append(query_data, ignore_index=True)\n",
      "C:\\Users\\zwei\\AppData\\Local\\Temp\\ipykernel_588\\4248089460.py:19: FutureWarning: The frame.append method is deprecated and will be removed from pandas in a future version. Use pandas.concat instead.\n",
      "  results = results.append(query_data, ignore_index=True)\n",
      "C:\\Users\\zwei\\AppData\\Local\\Temp\\ipykernel_588\\4248089460.py:19: FutureWarning: The frame.append method is deprecated and will be removed from pandas in a future version. Use pandas.concat instead.\n",
      "  results = results.append(query_data, ignore_index=True)\n",
      "C:\\Users\\zwei\\AppData\\Local\\Temp\\ipykernel_588\\4248089460.py:19: FutureWarning: The frame.append method is deprecated and will be removed from pandas in a future version. Use pandas.concat instead.\n",
      "  results = results.append(query_data, ignore_index=True)\n",
      "C:\\Users\\zwei\\AppData\\Local\\Temp\\ipykernel_588\\4248089460.py:19: FutureWarning: The frame.append method is deprecated and will be removed from pandas in a future version. Use pandas.concat instead.\n",
      "  results = results.append(query_data, ignore_index=True)\n",
      "C:\\Users\\zwei\\AppData\\Local\\Temp\\ipykernel_588\\4248089460.py:19: FutureWarning: The frame.append method is deprecated and will be removed from pandas in a future version. Use pandas.concat instead.\n",
      "  results = results.append(query_data, ignore_index=True)\n",
      "C:\\Users\\zwei\\AppData\\Local\\Temp\\ipykernel_588\\4248089460.py:19: FutureWarning: The frame.append method is deprecated and will be removed from pandas in a future version. Use pandas.concat instead.\n",
      "  results = results.append(query_data, ignore_index=True)\n",
      "C:\\Users\\zwei\\AppData\\Local\\Temp\\ipykernel_588\\4248089460.py:19: FutureWarning: The frame.append method is deprecated and will be removed from pandas in a future version. Use pandas.concat instead.\n",
      "  results = results.append(query_data, ignore_index=True)\n",
      "C:\\Users\\zwei\\AppData\\Local\\Temp\\ipykernel_588\\4248089460.py:19: FutureWarning: The frame.append method is deprecated and will be removed from pandas in a future version. Use pandas.concat instead.\n",
      "  results = results.append(query_data, ignore_index=True)\n",
      "C:\\Users\\zwei\\AppData\\Local\\Temp\\ipykernel_588\\4248089460.py:19: FutureWarning: The frame.append method is deprecated and will be removed from pandas in a future version. Use pandas.concat instead.\n",
      "  results = results.append(query_data, ignore_index=True)\n",
      "C:\\Users\\zwei\\AppData\\Local\\Temp\\ipykernel_588\\4248089460.py:19: FutureWarning: The frame.append method is deprecated and will be removed from pandas in a future version. Use pandas.concat instead.\n",
      "  results = results.append(query_data, ignore_index=True)\n",
      "C:\\Users\\zwei\\AppData\\Local\\Temp\\ipykernel_588\\4248089460.py:19: FutureWarning: The frame.append method is deprecated and will be removed from pandas in a future version. Use pandas.concat instead.\n",
      "  results = results.append(query_data, ignore_index=True)\n",
      "C:\\Users\\zwei\\AppData\\Local\\Temp\\ipykernel_588\\4248089460.py:19: FutureWarning: The frame.append method is deprecated and will be removed from pandas in a future version. Use pandas.concat instead.\n",
      "  results = results.append(query_data, ignore_index=True)\n",
      "C:\\Users\\zwei\\AppData\\Local\\Temp\\ipykernel_588\\4248089460.py:19: FutureWarning: The frame.append method is deprecated and will be removed from pandas in a future version. Use pandas.concat instead.\n",
      "  results = results.append(query_data, ignore_index=True)\n",
      "C:\\Users\\zwei\\AppData\\Local\\Temp\\ipykernel_588\\4248089460.py:19: FutureWarning: The frame.append method is deprecated and will be removed from pandas in a future version. Use pandas.concat instead.\n",
      "  results = results.append(query_data, ignore_index=True)\n",
      "C:\\Users\\zwei\\AppData\\Local\\Temp\\ipykernel_588\\4248089460.py:19: FutureWarning: The frame.append method is deprecated and will be removed from pandas in a future version. Use pandas.concat instead.\n",
      "  results = results.append(query_data, ignore_index=True)\n"
     ]
    },
    {
     "name": "stdout",
     "output_type": "stream",
     "text": [
      "An error occurred: 'NoneType' object does not support item assignment\n"
     ]
    },
    {
     "name": "stderr",
     "output_type": "stream",
     "text": [
      "C:\\Users\\zwei\\AppData\\Local\\Temp\\ipykernel_588\\4248089460.py:19: FutureWarning: The frame.append method is deprecated and will be removed from pandas in a future version. Use pandas.concat instead.\n",
      "  results = results.append(query_data, ignore_index=True)\n",
      "C:\\Users\\zwei\\AppData\\Local\\Temp\\ipykernel_588\\4248089460.py:19: FutureWarning: The frame.append method is deprecated and will be removed from pandas in a future version. Use pandas.concat instead.\n",
      "  results = results.append(query_data, ignore_index=True)\n"
     ]
    },
    {
     "name": "stdout",
     "output_type": "stream",
     "text": [
      "An error occurred: 'NoneType' object does not support item assignment\n"
     ]
    },
    {
     "name": "stderr",
     "output_type": "stream",
     "text": [
      "C:\\Users\\zwei\\AppData\\Local\\Temp\\ipykernel_588\\4248089460.py:19: FutureWarning: The frame.append method is deprecated and will be removed from pandas in a future version. Use pandas.concat instead.\n",
      "  results = results.append(query_data, ignore_index=True)\n",
      "C:\\Users\\zwei\\AppData\\Local\\Temp\\ipykernel_588\\4248089460.py:19: FutureWarning: The frame.append method is deprecated and will be removed from pandas in a future version. Use pandas.concat instead.\n",
      "  results = results.append(query_data, ignore_index=True)\n",
      "C:\\Users\\zwei\\AppData\\Local\\Temp\\ipykernel_588\\4248089460.py:19: FutureWarning: The frame.append method is deprecated and will be removed from pandas in a future version. Use pandas.concat instead.\n",
      "  results = results.append(query_data, ignore_index=True)\n",
      "C:\\Users\\zwei\\AppData\\Local\\Temp\\ipykernel_588\\4248089460.py:19: FutureWarning: The frame.append method is deprecated and will be removed from pandas in a future version. Use pandas.concat instead.\n",
      "  results = results.append(query_data, ignore_index=True)\n",
      "C:\\Users\\zwei\\AppData\\Local\\Temp\\ipykernel_588\\4248089460.py:19: FutureWarning: The frame.append method is deprecated and will be removed from pandas in a future version. Use pandas.concat instead.\n",
      "  results = results.append(query_data, ignore_index=True)\n",
      "C:\\Users\\zwei\\AppData\\Local\\Temp\\ipykernel_588\\4248089460.py:19: FutureWarning: The frame.append method is deprecated and will be removed from pandas in a future version. Use pandas.concat instead.\n",
      "  results = results.append(query_data, ignore_index=True)\n",
      "C:\\Users\\zwei\\AppData\\Local\\Temp\\ipykernel_588\\4248089460.py:19: FutureWarning: The frame.append method is deprecated and will be removed from pandas in a future version. Use pandas.concat instead.\n",
      "  results = results.append(query_data, ignore_index=True)\n"
     ]
    },
    {
     "name": "stdout",
     "output_type": "stream",
     "text": [
      "An error occurred: 'NoneType' object does not support item assignment\n"
     ]
    },
    {
     "name": "stderr",
     "output_type": "stream",
     "text": [
      "C:\\Users\\zwei\\AppData\\Local\\Temp\\ipykernel_588\\4248089460.py:19: FutureWarning: The frame.append method is deprecated and will be removed from pandas in a future version. Use pandas.concat instead.\n",
      "  results = results.append(query_data, ignore_index=True)\n",
      "C:\\Users\\zwei\\AppData\\Local\\Temp\\ipykernel_588\\4248089460.py:19: FutureWarning: The frame.append method is deprecated and will be removed from pandas in a future version. Use pandas.concat instead.\n",
      "  results = results.append(query_data, ignore_index=True)\n",
      "C:\\Users\\zwei\\AppData\\Local\\Temp\\ipykernel_588\\4248089460.py:19: FutureWarning: The frame.append method is deprecated and will be removed from pandas in a future version. Use pandas.concat instead.\n",
      "  results = results.append(query_data, ignore_index=True)\n",
      "C:\\Users\\zwei\\AppData\\Local\\Temp\\ipykernel_588\\4248089460.py:19: FutureWarning: The frame.append method is deprecated and will be removed from pandas in a future version. Use pandas.concat instead.\n",
      "  results = results.append(query_data, ignore_index=True)\n",
      "C:\\Users\\zwei\\AppData\\Local\\Temp\\ipykernel_588\\4248089460.py:19: FutureWarning: The frame.append method is deprecated and will be removed from pandas in a future version. Use pandas.concat instead.\n",
      "  results = results.append(query_data, ignore_index=True)\n",
      "C:\\Users\\zwei\\AppData\\Local\\Temp\\ipykernel_588\\4248089460.py:19: FutureWarning: The frame.append method is deprecated and will be removed from pandas in a future version. Use pandas.concat instead.\n",
      "  results = results.append(query_data, ignore_index=True)\n",
      "C:\\Users\\zwei\\AppData\\Local\\Temp\\ipykernel_588\\4248089460.py:19: FutureWarning: The frame.append method is deprecated and will be removed from pandas in a future version. Use pandas.concat instead.\n",
      "  results = results.append(query_data, ignore_index=True)\n",
      "C:\\Users\\zwei\\AppData\\Local\\Temp\\ipykernel_588\\4248089460.py:19: FutureWarning: The frame.append method is deprecated and will be removed from pandas in a future version. Use pandas.concat instead.\n",
      "  results = results.append(query_data, ignore_index=True)\n"
     ]
    },
    {
     "name": "stdout",
     "output_type": "stream",
     "text": [
      "An error occurred: 'NoneType' object does not support item assignment\n"
     ]
    },
    {
     "name": "stderr",
     "output_type": "stream",
     "text": [
      "C:\\Users\\zwei\\AppData\\Local\\Temp\\ipykernel_588\\4248089460.py:19: FutureWarning: The frame.append method is deprecated and will be removed from pandas in a future version. Use pandas.concat instead.\n",
      "  results = results.append(query_data, ignore_index=True)\n",
      "C:\\Users\\zwei\\AppData\\Local\\Temp\\ipykernel_588\\4248089460.py:19: FutureWarning: The frame.append method is deprecated and will be removed from pandas in a future version. Use pandas.concat instead.\n",
      "  results = results.append(query_data, ignore_index=True)\n"
     ]
    },
    {
     "name": "stdout",
     "output_type": "stream",
     "text": [
      "An error occurred: 'NoneType' object does not support item assignment\n"
     ]
    },
    {
     "name": "stderr",
     "output_type": "stream",
     "text": [
      "C:\\Users\\zwei\\AppData\\Local\\Temp\\ipykernel_588\\4248089460.py:19: FutureWarning: The frame.append method is deprecated and will be removed from pandas in a future version. Use pandas.concat instead.\n",
      "  results = results.append(query_data, ignore_index=True)\n",
      "C:\\Users\\zwei\\AppData\\Local\\Temp\\ipykernel_588\\4248089460.py:19: FutureWarning: The frame.append method is deprecated and will be removed from pandas in a future version. Use pandas.concat instead.\n",
      "  results = results.append(query_data, ignore_index=True)\n",
      "C:\\Users\\zwei\\AppData\\Local\\Temp\\ipykernel_588\\4248089460.py:19: FutureWarning: The frame.append method is deprecated and will be removed from pandas in a future version. Use pandas.concat instead.\n",
      "  results = results.append(query_data, ignore_index=True)\n",
      "C:\\Users\\zwei\\AppData\\Local\\Temp\\ipykernel_588\\4248089460.py:19: FutureWarning: The frame.append method is deprecated and will be removed from pandas in a future version. Use pandas.concat instead.\n",
      "  results = results.append(query_data, ignore_index=True)\n",
      "C:\\Users\\zwei\\AppData\\Local\\Temp\\ipykernel_588\\4248089460.py:19: FutureWarning: The frame.append method is deprecated and will be removed from pandas in a future version. Use pandas.concat instead.\n",
      "  results = results.append(query_data, ignore_index=True)\n",
      "C:\\Users\\zwei\\AppData\\Local\\Temp\\ipykernel_588\\4248089460.py:19: FutureWarning: The frame.append method is deprecated and will be removed from pandas in a future version. Use pandas.concat instead.\n",
      "  results = results.append(query_data, ignore_index=True)\n",
      "C:\\Users\\zwei\\AppData\\Local\\Temp\\ipykernel_588\\4248089460.py:19: FutureWarning: The frame.append method is deprecated and will be removed from pandas in a future version. Use pandas.concat instead.\n",
      "  results = results.append(query_data, ignore_index=True)\n",
      "C:\\Users\\zwei\\AppData\\Local\\Temp\\ipykernel_588\\4248089460.py:19: FutureWarning: The frame.append method is deprecated and will be removed from pandas in a future version. Use pandas.concat instead.\n",
      "  results = results.append(query_data, ignore_index=True)\n",
      "C:\\Users\\zwei\\AppData\\Local\\Temp\\ipykernel_588\\4248089460.py:19: FutureWarning: The frame.append method is deprecated and will be removed from pandas in a future version. Use pandas.concat instead.\n",
      "  results = results.append(query_data, ignore_index=True)\n",
      "C:\\Users\\zwei\\AppData\\Local\\Temp\\ipykernel_588\\4248089460.py:19: FutureWarning: The frame.append method is deprecated and will be removed from pandas in a future version. Use pandas.concat instead.\n",
      "  results = results.append(query_data, ignore_index=True)\n",
      "C:\\Users\\zwei\\AppData\\Local\\Temp\\ipykernel_588\\4248089460.py:19: FutureWarning: The frame.append method is deprecated and will be removed from pandas in a future version. Use pandas.concat instead.\n",
      "  results = results.append(query_data, ignore_index=True)\n"
     ]
    },
    {
     "name": "stdout",
     "output_type": "stream",
     "text": [
      "An error occurred: 'NoneType' object does not support item assignment\n"
     ]
    },
    {
     "name": "stderr",
     "output_type": "stream",
     "text": [
      "C:\\Users\\zwei\\AppData\\Local\\Temp\\ipykernel_588\\4248089460.py:19: FutureWarning: The frame.append method is deprecated and will be removed from pandas in a future version. Use pandas.concat instead.\n",
      "  results = results.append(query_data, ignore_index=True)\n",
      "C:\\Users\\zwei\\AppData\\Local\\Temp\\ipykernel_588\\4248089460.py:19: FutureWarning: The frame.append method is deprecated and will be removed from pandas in a future version. Use pandas.concat instead.\n",
      "  results = results.append(query_data, ignore_index=True)\n",
      "C:\\Users\\zwei\\AppData\\Local\\Temp\\ipykernel_588\\4248089460.py:19: FutureWarning: The frame.append method is deprecated and will be removed from pandas in a future version. Use pandas.concat instead.\n",
      "  results = results.append(query_data, ignore_index=True)\n",
      "C:\\Users\\zwei\\AppData\\Local\\Temp\\ipykernel_588\\4248089460.py:19: FutureWarning: The frame.append method is deprecated and will be removed from pandas in a future version. Use pandas.concat instead.\n",
      "  results = results.append(query_data, ignore_index=True)\n",
      "C:\\Users\\zwei\\AppData\\Local\\Temp\\ipykernel_588\\4248089460.py:19: FutureWarning: The frame.append method is deprecated and will be removed from pandas in a future version. Use pandas.concat instead.\n",
      "  results = results.append(query_data, ignore_index=True)\n",
      "C:\\Users\\zwei\\AppData\\Local\\Temp\\ipykernel_588\\4248089460.py:19: FutureWarning: The frame.append method is deprecated and will be removed from pandas in a future version. Use pandas.concat instead.\n",
      "  results = results.append(query_data, ignore_index=True)\n",
      "C:\\Users\\zwei\\AppData\\Local\\Temp\\ipykernel_588\\4248089460.py:19: FutureWarning: The frame.append method is deprecated and will be removed from pandas in a future version. Use pandas.concat instead.\n",
      "  results = results.append(query_data, ignore_index=True)\n",
      "C:\\Users\\zwei\\AppData\\Local\\Temp\\ipykernel_588\\4248089460.py:19: FutureWarning: The frame.append method is deprecated and will be removed from pandas in a future version. Use pandas.concat instead.\n",
      "  results = results.append(query_data, ignore_index=True)\n",
      "C:\\Users\\zwei\\AppData\\Local\\Temp\\ipykernel_588\\4248089460.py:19: FutureWarning: The frame.append method is deprecated and will be removed from pandas in a future version. Use pandas.concat instead.\n",
      "  results = results.append(query_data, ignore_index=True)\n",
      "C:\\Users\\zwei\\AppData\\Local\\Temp\\ipykernel_588\\4248089460.py:19: FutureWarning: The frame.append method is deprecated and will be removed from pandas in a future version. Use pandas.concat instead.\n",
      "  results = results.append(query_data, ignore_index=True)\n",
      "C:\\Users\\zwei\\AppData\\Local\\Temp\\ipykernel_588\\4248089460.py:19: FutureWarning: The frame.append method is deprecated and will be removed from pandas in a future version. Use pandas.concat instead.\n",
      "  results = results.append(query_data, ignore_index=True)\n",
      "C:\\Users\\zwei\\AppData\\Local\\Temp\\ipykernel_588\\4248089460.py:19: FutureWarning: The frame.append method is deprecated and will be removed from pandas in a future version. Use pandas.concat instead.\n",
      "  results = results.append(query_data, ignore_index=True)\n",
      "C:\\Users\\zwei\\AppData\\Local\\Temp\\ipykernel_588\\4248089460.py:19: FutureWarning: The frame.append method is deprecated and will be removed from pandas in a future version. Use pandas.concat instead.\n",
      "  results = results.append(query_data, ignore_index=True)\n",
      "C:\\Users\\zwei\\AppData\\Local\\Temp\\ipykernel_588\\4248089460.py:19: FutureWarning: The frame.append method is deprecated and will be removed from pandas in a future version. Use pandas.concat instead.\n",
      "  results = results.append(query_data, ignore_index=True)\n",
      "C:\\Users\\zwei\\AppData\\Local\\Temp\\ipykernel_588\\4248089460.py:19: FutureWarning: The frame.append method is deprecated and will be removed from pandas in a future version. Use pandas.concat instead.\n",
      "  results = results.append(query_data, ignore_index=True)\n",
      "C:\\Users\\zwei\\AppData\\Local\\Temp\\ipykernel_588\\4248089460.py:19: FutureWarning: The frame.append method is deprecated and will be removed from pandas in a future version. Use pandas.concat instead.\n",
      "  results = results.append(query_data, ignore_index=True)\n",
      "C:\\Users\\zwei\\AppData\\Local\\Temp\\ipykernel_588\\4248089460.py:19: FutureWarning: The frame.append method is deprecated and will be removed from pandas in a future version. Use pandas.concat instead.\n",
      "  results = results.append(query_data, ignore_index=True)\n",
      "C:\\Users\\zwei\\AppData\\Local\\Temp\\ipykernel_588\\4248089460.py:19: FutureWarning: The frame.append method is deprecated and will be removed from pandas in a future version. Use pandas.concat instead.\n",
      "  results = results.append(query_data, ignore_index=True)\n",
      "C:\\Users\\zwei\\AppData\\Local\\Temp\\ipykernel_588\\4248089460.py:19: FutureWarning: The frame.append method is deprecated and will be removed from pandas in a future version. Use pandas.concat instead.\n",
      "  results = results.append(query_data, ignore_index=True)\n",
      "C:\\Users\\zwei\\AppData\\Local\\Temp\\ipykernel_588\\4248089460.py:19: FutureWarning: The frame.append method is deprecated and will be removed from pandas in a future version. Use pandas.concat instead.\n",
      "  results = results.append(query_data, ignore_index=True)\n",
      "C:\\Users\\zwei\\AppData\\Local\\Temp\\ipykernel_588\\4248089460.py:19: FutureWarning: The frame.append method is deprecated and will be removed from pandas in a future version. Use pandas.concat instead.\n",
      "  results = results.append(query_data, ignore_index=True)\n",
      "C:\\Users\\zwei\\AppData\\Local\\Temp\\ipykernel_588\\4248089460.py:19: FutureWarning: The frame.append method is deprecated and will be removed from pandas in a future version. Use pandas.concat instead.\n",
      "  results = results.append(query_data, ignore_index=True)\n",
      "C:\\Users\\zwei\\AppData\\Local\\Temp\\ipykernel_588\\4248089460.py:19: FutureWarning: The frame.append method is deprecated and will be removed from pandas in a future version. Use pandas.concat instead.\n",
      "  results = results.append(query_data, ignore_index=True)\n",
      "C:\\Users\\zwei\\AppData\\Local\\Temp\\ipykernel_588\\4248089460.py:19: FutureWarning: The frame.append method is deprecated and will be removed from pandas in a future version. Use pandas.concat instead.\n",
      "  results = results.append(query_data, ignore_index=True)\n",
      "C:\\Users\\zwei\\AppData\\Local\\Temp\\ipykernel_588\\4248089460.py:19: FutureWarning: The frame.append method is deprecated and will be removed from pandas in a future version. Use pandas.concat instead.\n",
      "  results = results.append(query_data, ignore_index=True)\n",
      "C:\\Users\\zwei\\AppData\\Local\\Temp\\ipykernel_588\\4248089460.py:19: FutureWarning: The frame.append method is deprecated and will be removed from pandas in a future version. Use pandas.concat instead.\n",
      "  results = results.append(query_data, ignore_index=True)\n",
      "C:\\Users\\zwei\\AppData\\Local\\Temp\\ipykernel_588\\4248089460.py:19: FutureWarning: The frame.append method is deprecated and will be removed from pandas in a future version. Use pandas.concat instead.\n",
      "  results = results.append(query_data, ignore_index=True)\n",
      "C:\\Users\\zwei\\AppData\\Local\\Temp\\ipykernel_588\\4248089460.py:19: FutureWarning: The frame.append method is deprecated and will be removed from pandas in a future version. Use pandas.concat instead.\n",
      "  results = results.append(query_data, ignore_index=True)\n",
      "C:\\Users\\zwei\\AppData\\Local\\Temp\\ipykernel_588\\4248089460.py:19: FutureWarning: The frame.append method is deprecated and will be removed from pandas in a future version. Use pandas.concat instead.\n",
      "  results = results.append(query_data, ignore_index=True)\n",
      "C:\\Users\\zwei\\AppData\\Local\\Temp\\ipykernel_588\\4248089460.py:19: FutureWarning: The frame.append method is deprecated and will be removed from pandas in a future version. Use pandas.concat instead.\n",
      "  results = results.append(query_data, ignore_index=True)\n",
      "C:\\Users\\zwei\\AppData\\Local\\Temp\\ipykernel_588\\4248089460.py:19: FutureWarning: The frame.append method is deprecated and will be removed from pandas in a future version. Use pandas.concat instead.\n",
      "  results = results.append(query_data, ignore_index=True)\n",
      "C:\\Users\\zwei\\AppData\\Local\\Temp\\ipykernel_588\\4248089460.py:19: FutureWarning: The frame.append method is deprecated and will be removed from pandas in a future version. Use pandas.concat instead.\n",
      "  results = results.append(query_data, ignore_index=True)\n",
      "C:\\Users\\zwei\\AppData\\Local\\Temp\\ipykernel_588\\4248089460.py:19: FutureWarning: The frame.append method is deprecated and will be removed from pandas in a future version. Use pandas.concat instead.\n",
      "  results = results.append(query_data, ignore_index=True)\n",
      "C:\\Users\\zwei\\AppData\\Local\\Temp\\ipykernel_588\\4248089460.py:19: FutureWarning: The frame.append method is deprecated and will be removed from pandas in a future version. Use pandas.concat instead.\n",
      "  results = results.append(query_data, ignore_index=True)\n"
     ]
    },
    {
     "name": "stderr",
     "output_type": "stream",
     "text": [
      "C:\\Users\\zwei\\AppData\\Local\\Temp\\ipykernel_588\\4248089460.py:19: FutureWarning: The frame.append method is deprecated and will be removed from pandas in a future version. Use pandas.concat instead.\n",
      "  results = results.append(query_data, ignore_index=True)\n",
      "C:\\Users\\zwei\\AppData\\Local\\Temp\\ipykernel_588\\4248089460.py:19: FutureWarning: The frame.append method is deprecated and will be removed from pandas in a future version. Use pandas.concat instead.\n",
      "  results = results.append(query_data, ignore_index=True)\n",
      "C:\\Users\\zwei\\AppData\\Local\\Temp\\ipykernel_588\\4248089460.py:19: FutureWarning: The frame.append method is deprecated and will be removed from pandas in a future version. Use pandas.concat instead.\n",
      "  results = results.append(query_data, ignore_index=True)\n",
      "C:\\Users\\zwei\\AppData\\Local\\Temp\\ipykernel_588\\4248089460.py:19: FutureWarning: The frame.append method is deprecated and will be removed from pandas in a future version. Use pandas.concat instead.\n",
      "  results = results.append(query_data, ignore_index=True)\n",
      "C:\\Users\\zwei\\AppData\\Local\\Temp\\ipykernel_588\\4248089460.py:19: FutureWarning: The frame.append method is deprecated and will be removed from pandas in a future version. Use pandas.concat instead.\n",
      "  results = results.append(query_data, ignore_index=True)\n",
      "C:\\Users\\zwei\\AppData\\Local\\Temp\\ipykernel_588\\4248089460.py:19: FutureWarning: The frame.append method is deprecated and will be removed from pandas in a future version. Use pandas.concat instead.\n",
      "  results = results.append(query_data, ignore_index=True)\n",
      "C:\\Users\\zwei\\AppData\\Local\\Temp\\ipykernel_588\\4248089460.py:19: FutureWarning: The frame.append method is deprecated and will be removed from pandas in a future version. Use pandas.concat instead.\n",
      "  results = results.append(query_data, ignore_index=True)\n",
      "C:\\Users\\zwei\\AppData\\Local\\Temp\\ipykernel_588\\4248089460.py:19: FutureWarning: The frame.append method is deprecated and will be removed from pandas in a future version. Use pandas.concat instead.\n",
      "  results = results.append(query_data, ignore_index=True)\n",
      "C:\\Users\\zwei\\AppData\\Local\\Temp\\ipykernel_588\\4248089460.py:19: FutureWarning: The frame.append method is deprecated and will be removed from pandas in a future version. Use pandas.concat instead.\n",
      "  results = results.append(query_data, ignore_index=True)\n",
      "C:\\Users\\zwei\\AppData\\Local\\Temp\\ipykernel_588\\4248089460.py:19: FutureWarning: The frame.append method is deprecated and will be removed from pandas in a future version. Use pandas.concat instead.\n",
      "  results = results.append(query_data, ignore_index=True)\n",
      "C:\\Users\\zwei\\AppData\\Local\\Temp\\ipykernel_588\\4248089460.py:19: FutureWarning: The frame.append method is deprecated and will be removed from pandas in a future version. Use pandas.concat instead.\n",
      "  results = results.append(query_data, ignore_index=True)\n",
      "C:\\Users\\zwei\\AppData\\Local\\Temp\\ipykernel_588\\4248089460.py:19: FutureWarning: The frame.append method is deprecated and will be removed from pandas in a future version. Use pandas.concat instead.\n",
      "  results = results.append(query_data, ignore_index=True)\n",
      "C:\\Users\\zwei\\AppData\\Local\\Temp\\ipykernel_588\\4248089460.py:19: FutureWarning: The frame.append method is deprecated and will be removed from pandas in a future version. Use pandas.concat instead.\n",
      "  results = results.append(query_data, ignore_index=True)\n",
      "C:\\Users\\zwei\\AppData\\Local\\Temp\\ipykernel_588\\4248089460.py:19: FutureWarning: The frame.append method is deprecated and will be removed from pandas in a future version. Use pandas.concat instead.\n",
      "  results = results.append(query_data, ignore_index=True)\n",
      "C:\\Users\\zwei\\AppData\\Local\\Temp\\ipykernel_588\\4248089460.py:19: FutureWarning: The frame.append method is deprecated and will be removed from pandas in a future version. Use pandas.concat instead.\n",
      "  results = results.append(query_data, ignore_index=True)\n",
      "C:\\Users\\zwei\\AppData\\Local\\Temp\\ipykernel_588\\4248089460.py:19: FutureWarning: The frame.append method is deprecated and will be removed from pandas in a future version. Use pandas.concat instead.\n",
      "  results = results.append(query_data, ignore_index=True)\n",
      "C:\\Users\\zwei\\AppData\\Local\\Temp\\ipykernel_588\\4248089460.py:19: FutureWarning: The frame.append method is deprecated and will be removed from pandas in a future version. Use pandas.concat instead.\n",
      "  results = results.append(query_data, ignore_index=True)\n"
     ]
    },
    {
     "name": "stdout",
     "output_type": "stream",
     "text": [
      "An error occurred: 'NoneType' object does not support item assignment\n"
     ]
    },
    {
     "name": "stderr",
     "output_type": "stream",
     "text": [
      "C:\\Users\\zwei\\AppData\\Local\\Temp\\ipykernel_588\\4248089460.py:19: FutureWarning: The frame.append method is deprecated and will be removed from pandas in a future version. Use pandas.concat instead.\n",
      "  results = results.append(query_data, ignore_index=True)\n",
      "C:\\Users\\zwei\\AppData\\Local\\Temp\\ipykernel_588\\4248089460.py:19: FutureWarning: The frame.append method is deprecated and will be removed from pandas in a future version. Use pandas.concat instead.\n",
      "  results = results.append(query_data, ignore_index=True)\n",
      "C:\\Users\\zwei\\AppData\\Local\\Temp\\ipykernel_588\\4248089460.py:19: FutureWarning: The frame.append method is deprecated and will be removed from pandas in a future version. Use pandas.concat instead.\n",
      "  results = results.append(query_data, ignore_index=True)\n",
      "C:\\Users\\zwei\\AppData\\Local\\Temp\\ipykernel_588\\4248089460.py:19: FutureWarning: The frame.append method is deprecated and will be removed from pandas in a future version. Use pandas.concat instead.\n",
      "  results = results.append(query_data, ignore_index=True)\n",
      "C:\\Users\\zwei\\AppData\\Local\\Temp\\ipykernel_588\\4248089460.py:19: FutureWarning: The frame.append method is deprecated and will be removed from pandas in a future version. Use pandas.concat instead.\n",
      "  results = results.append(query_data, ignore_index=True)\n",
      "C:\\Users\\zwei\\AppData\\Local\\Temp\\ipykernel_588\\4248089460.py:19: FutureWarning: The frame.append method is deprecated and will be removed from pandas in a future version. Use pandas.concat instead.\n",
      "  results = results.append(query_data, ignore_index=True)\n",
      "C:\\Users\\zwei\\AppData\\Local\\Temp\\ipykernel_588\\4248089460.py:19: FutureWarning: The frame.append method is deprecated and will be removed from pandas in a future version. Use pandas.concat instead.\n",
      "  results = results.append(query_data, ignore_index=True)\n",
      "C:\\Users\\zwei\\AppData\\Local\\Temp\\ipykernel_588\\4248089460.py:19: FutureWarning: The frame.append method is deprecated and will be removed from pandas in a future version. Use pandas.concat instead.\n",
      "  results = results.append(query_data, ignore_index=True)\n",
      "C:\\Users\\zwei\\AppData\\Local\\Temp\\ipykernel_588\\4248089460.py:19: FutureWarning: The frame.append method is deprecated and will be removed from pandas in a future version. Use pandas.concat instead.\n",
      "  results = results.append(query_data, ignore_index=True)\n"
     ]
    },
    {
     "name": "stdout",
     "output_type": "stream",
     "text": [
      "An error occurred: 'NoneType' object does not support item assignment\n"
     ]
    },
    {
     "name": "stderr",
     "output_type": "stream",
     "text": [
      "C:\\Users\\zwei\\AppData\\Local\\Temp\\ipykernel_588\\4248089460.py:19: FutureWarning: The frame.append method is deprecated and will be removed from pandas in a future version. Use pandas.concat instead.\n",
      "  results = results.append(query_data, ignore_index=True)\n",
      "C:\\Users\\zwei\\AppData\\Local\\Temp\\ipykernel_588\\4248089460.py:19: FutureWarning: The frame.append method is deprecated and will be removed from pandas in a future version. Use pandas.concat instead.\n",
      "  results = results.append(query_data, ignore_index=True)\n"
     ]
    },
    {
     "name": "stdout",
     "output_type": "stream",
     "text": [
      "An error occurred: 'NoneType' object does not support item assignment\n"
     ]
    },
    {
     "name": "stderr",
     "output_type": "stream",
     "text": [
      "C:\\Users\\zwei\\AppData\\Local\\Temp\\ipykernel_588\\4248089460.py:19: FutureWarning: The frame.append method is deprecated and will be removed from pandas in a future version. Use pandas.concat instead.\n",
      "  results = results.append(query_data, ignore_index=True)\n",
      "C:\\Users\\zwei\\AppData\\Local\\Temp\\ipykernel_588\\4248089460.py:19: FutureWarning: The frame.append method is deprecated and will be removed from pandas in a future version. Use pandas.concat instead.\n",
      "  results = results.append(query_data, ignore_index=True)\n",
      "C:\\Users\\zwei\\AppData\\Local\\Temp\\ipykernel_588\\4248089460.py:19: FutureWarning: The frame.append method is deprecated and will be removed from pandas in a future version. Use pandas.concat instead.\n",
      "  results = results.append(query_data, ignore_index=True)\n",
      "C:\\Users\\zwei\\AppData\\Local\\Temp\\ipykernel_588\\4248089460.py:19: FutureWarning: The frame.append method is deprecated and will be removed from pandas in a future version. Use pandas.concat instead.\n",
      "  results = results.append(query_data, ignore_index=True)\n",
      "C:\\Users\\zwei\\AppData\\Local\\Temp\\ipykernel_588\\4248089460.py:19: FutureWarning: The frame.append method is deprecated and will be removed from pandas in a future version. Use pandas.concat instead.\n",
      "  results = results.append(query_data, ignore_index=True)\n",
      "C:\\Users\\zwei\\AppData\\Local\\Temp\\ipykernel_588\\4248089460.py:19: FutureWarning: The frame.append method is deprecated and will be removed from pandas in a future version. Use pandas.concat instead.\n",
      "  results = results.append(query_data, ignore_index=True)\n",
      "C:\\Users\\zwei\\AppData\\Local\\Temp\\ipykernel_588\\4248089460.py:19: FutureWarning: The frame.append method is deprecated and will be removed from pandas in a future version. Use pandas.concat instead.\n",
      "  results = results.append(query_data, ignore_index=True)\n"
     ]
    },
    {
     "name": "stdout",
     "output_type": "stream",
     "text": [
      "An error occurred: 'NoneType' object does not support item assignment\n"
     ]
    },
    {
     "name": "stderr",
     "output_type": "stream",
     "text": [
      "C:\\Users\\zwei\\AppData\\Local\\Temp\\ipykernel_588\\4248089460.py:19: FutureWarning: The frame.append method is deprecated and will be removed from pandas in a future version. Use pandas.concat instead.\n",
      "  results = results.append(query_data, ignore_index=True)\n",
      "C:\\Users\\zwei\\AppData\\Local\\Temp\\ipykernel_588\\4248089460.py:19: FutureWarning: The frame.append method is deprecated and will be removed from pandas in a future version. Use pandas.concat instead.\n",
      "  results = results.append(query_data, ignore_index=True)\n",
      "C:\\Users\\zwei\\AppData\\Local\\Temp\\ipykernel_588\\4248089460.py:19: FutureWarning: The frame.append method is deprecated and will be removed from pandas in a future version. Use pandas.concat instead.\n",
      "  results = results.append(query_data, ignore_index=True)\n",
      "C:\\Users\\zwei\\AppData\\Local\\Temp\\ipykernel_588\\4248089460.py:19: FutureWarning: The frame.append method is deprecated and will be removed from pandas in a future version. Use pandas.concat instead.\n",
      "  results = results.append(query_data, ignore_index=True)\n",
      "C:\\Users\\zwei\\AppData\\Local\\Temp\\ipykernel_588\\4248089460.py:19: FutureWarning: The frame.append method is deprecated and will be removed from pandas in a future version. Use pandas.concat instead.\n",
      "  results = results.append(query_data, ignore_index=True)\n"
     ]
    },
    {
     "name": "stdout",
     "output_type": "stream",
     "text": [
      "An error occurred: 'NoneType' object does not support item assignment\n"
     ]
    },
    {
     "name": "stderr",
     "output_type": "stream",
     "text": [
      "C:\\Users\\zwei\\AppData\\Local\\Temp\\ipykernel_588\\4248089460.py:19: FutureWarning: The frame.append method is deprecated and will be removed from pandas in a future version. Use pandas.concat instead.\n",
      "  results = results.append(query_data, ignore_index=True)\n",
      "C:\\Users\\zwei\\AppData\\Local\\Temp\\ipykernel_588\\4248089460.py:19: FutureWarning: The frame.append method is deprecated and will be removed from pandas in a future version. Use pandas.concat instead.\n",
      "  results = results.append(query_data, ignore_index=True)\n"
     ]
    },
    {
     "name": "stdout",
     "output_type": "stream",
     "text": [
      "An error occurred: 'NoneType' object does not support item assignment\n"
     ]
    },
    {
     "name": "stderr",
     "output_type": "stream",
     "text": [
      "C:\\Users\\zwei\\AppData\\Local\\Temp\\ipykernel_588\\4248089460.py:19: FutureWarning: The frame.append method is deprecated and will be removed from pandas in a future version. Use pandas.concat instead.\n",
      "  results = results.append(query_data, ignore_index=True)\n",
      "C:\\Users\\zwei\\AppData\\Local\\Temp\\ipykernel_588\\4248089460.py:19: FutureWarning: The frame.append method is deprecated and will be removed from pandas in a future version. Use pandas.concat instead.\n",
      "  results = results.append(query_data, ignore_index=True)\n"
     ]
    },
    {
     "name": "stdout",
     "output_type": "stream",
     "text": [
      "An error occurred: 'NoneType' object does not support item assignment\n"
     ]
    },
    {
     "name": "stderr",
     "output_type": "stream",
     "text": [
      "C:\\Users\\zwei\\AppData\\Local\\Temp\\ipykernel_588\\4248089460.py:19: FutureWarning: The frame.append method is deprecated and will be removed from pandas in a future version. Use pandas.concat instead.\n",
      "  results = results.append(query_data, ignore_index=True)\n",
      "C:\\Users\\zwei\\AppData\\Local\\Temp\\ipykernel_588\\4248089460.py:19: FutureWarning: The frame.append method is deprecated and will be removed from pandas in a future version. Use pandas.concat instead.\n",
      "  results = results.append(query_data, ignore_index=True)\n",
      "C:\\Users\\zwei\\AppData\\Local\\Temp\\ipykernel_588\\4248089460.py:19: FutureWarning: The frame.append method is deprecated and will be removed from pandas in a future version. Use pandas.concat instead.\n",
      "  results = results.append(query_data, ignore_index=True)\n",
      "C:\\Users\\zwei\\AppData\\Local\\Temp\\ipykernel_588\\4248089460.py:19: FutureWarning: The frame.append method is deprecated and will be removed from pandas in a future version. Use pandas.concat instead.\n",
      "  results = results.append(query_data, ignore_index=True)\n",
      "C:\\Users\\zwei\\AppData\\Local\\Temp\\ipykernel_588\\4248089460.py:19: FutureWarning: The frame.append method is deprecated and will be removed from pandas in a future version. Use pandas.concat instead.\n",
      "  results = results.append(query_data, ignore_index=True)\n",
      "C:\\Users\\zwei\\AppData\\Local\\Temp\\ipykernel_588\\4248089460.py:19: FutureWarning: The frame.append method is deprecated and will be removed from pandas in a future version. Use pandas.concat instead.\n",
      "  results = results.append(query_data, ignore_index=True)\n",
      "C:\\Users\\zwei\\AppData\\Local\\Temp\\ipykernel_588\\4248089460.py:19: FutureWarning: The frame.append method is deprecated and will be removed from pandas in a future version. Use pandas.concat instead.\n",
      "  results = results.append(query_data, ignore_index=True)\n",
      "C:\\Users\\zwei\\AppData\\Local\\Temp\\ipykernel_588\\4248089460.py:19: FutureWarning: The frame.append method is deprecated and will be removed from pandas in a future version. Use pandas.concat instead.\n",
      "  results = results.append(query_data, ignore_index=True)\n",
      "C:\\Users\\zwei\\AppData\\Local\\Temp\\ipykernel_588\\4248089460.py:19: FutureWarning: The frame.append method is deprecated and will be removed from pandas in a future version. Use pandas.concat instead.\n",
      "  results = results.append(query_data, ignore_index=True)\n",
      "C:\\Users\\zwei\\AppData\\Local\\Temp\\ipykernel_588\\4248089460.py:19: FutureWarning: The frame.append method is deprecated and will be removed from pandas in a future version. Use pandas.concat instead.\n",
      "  results = results.append(query_data, ignore_index=True)\n",
      "C:\\Users\\zwei\\AppData\\Local\\Temp\\ipykernel_588\\4248089460.py:19: FutureWarning: The frame.append method is deprecated and will be removed from pandas in a future version. Use pandas.concat instead.\n",
      "  results = results.append(query_data, ignore_index=True)\n"
     ]
    },
    {
     "name": "stdout",
     "output_type": "stream",
     "text": [
      "An error occurred: 'NoneType' object does not support item assignment\n"
     ]
    },
    {
     "name": "stderr",
     "output_type": "stream",
     "text": [
      "C:\\Users\\zwei\\AppData\\Local\\Temp\\ipykernel_588\\4248089460.py:19: FutureWarning: The frame.append method is deprecated and will be removed from pandas in a future version. Use pandas.concat instead.\n",
      "  results = results.append(query_data, ignore_index=True)\n",
      "C:\\Users\\zwei\\AppData\\Local\\Temp\\ipykernel_588\\4248089460.py:19: FutureWarning: The frame.append method is deprecated and will be removed from pandas in a future version. Use pandas.concat instead.\n",
      "  results = results.append(query_data, ignore_index=True)\n",
      "C:\\Users\\zwei\\AppData\\Local\\Temp\\ipykernel_588\\4248089460.py:19: FutureWarning: The frame.append method is deprecated and will be removed from pandas in a future version. Use pandas.concat instead.\n",
      "  results = results.append(query_data, ignore_index=True)\n",
      "C:\\Users\\zwei\\AppData\\Local\\Temp\\ipykernel_588\\4248089460.py:19: FutureWarning: The frame.append method is deprecated and will be removed from pandas in a future version. Use pandas.concat instead.\n",
      "  results = results.append(query_data, ignore_index=True)\n",
      "C:\\Users\\zwei\\AppData\\Local\\Temp\\ipykernel_588\\4248089460.py:19: FutureWarning: The frame.append method is deprecated and will be removed from pandas in a future version. Use pandas.concat instead.\n",
      "  results = results.append(query_data, ignore_index=True)\n",
      "C:\\Users\\zwei\\AppData\\Local\\Temp\\ipykernel_588\\4248089460.py:19: FutureWarning: The frame.append method is deprecated and will be removed from pandas in a future version. Use pandas.concat instead.\n",
      "  results = results.append(query_data, ignore_index=True)\n",
      "C:\\Users\\zwei\\AppData\\Local\\Temp\\ipykernel_588\\4248089460.py:19: FutureWarning: The frame.append method is deprecated and will be removed from pandas in a future version. Use pandas.concat instead.\n",
      "  results = results.append(query_data, ignore_index=True)\n",
      "C:\\Users\\zwei\\AppData\\Local\\Temp\\ipykernel_588\\4248089460.py:19: FutureWarning: The frame.append method is deprecated and will be removed from pandas in a future version. Use pandas.concat instead.\n",
      "  results = results.append(query_data, ignore_index=True)\n",
      "C:\\Users\\zwei\\AppData\\Local\\Temp\\ipykernel_588\\4248089460.py:19: FutureWarning: The frame.append method is deprecated and will be removed from pandas in a future version. Use pandas.concat instead.\n",
      "  results = results.append(query_data, ignore_index=True)\n",
      "C:\\Users\\zwei\\AppData\\Local\\Temp\\ipykernel_588\\4248089460.py:19: FutureWarning: The frame.append method is deprecated and will be removed from pandas in a future version. Use pandas.concat instead.\n",
      "  results = results.append(query_data, ignore_index=True)\n",
      "C:\\Users\\zwei\\AppData\\Local\\Temp\\ipykernel_588\\4248089460.py:19: FutureWarning: The frame.append method is deprecated and will be removed from pandas in a future version. Use pandas.concat instead.\n",
      "  results = results.append(query_data, ignore_index=True)\n",
      "C:\\Users\\zwei\\AppData\\Local\\Temp\\ipykernel_588\\4248089460.py:19: FutureWarning: The frame.append method is deprecated and will be removed from pandas in a future version. Use pandas.concat instead.\n",
      "  results = results.append(query_data, ignore_index=True)\n",
      "C:\\Users\\zwei\\AppData\\Local\\Temp\\ipykernel_588\\4248089460.py:19: FutureWarning: The frame.append method is deprecated and will be removed from pandas in a future version. Use pandas.concat instead.\n",
      "  results = results.append(query_data, ignore_index=True)\n",
      "C:\\Users\\zwei\\AppData\\Local\\Temp\\ipykernel_588\\4248089460.py:19: FutureWarning: The frame.append method is deprecated and will be removed from pandas in a future version. Use pandas.concat instead.\n",
      "  results = results.append(query_data, ignore_index=True)\n",
      "C:\\Users\\zwei\\AppData\\Local\\Temp\\ipykernel_588\\4248089460.py:19: FutureWarning: The frame.append method is deprecated and will be removed from pandas in a future version. Use pandas.concat instead.\n",
      "  results = results.append(query_data, ignore_index=True)\n",
      "C:\\Users\\zwei\\AppData\\Local\\Temp\\ipykernel_588\\4248089460.py:19: FutureWarning: The frame.append method is deprecated and will be removed from pandas in a future version. Use pandas.concat instead.\n",
      "  results = results.append(query_data, ignore_index=True)\n",
      "C:\\Users\\zwei\\AppData\\Local\\Temp\\ipykernel_588\\4248089460.py:19: FutureWarning: The frame.append method is deprecated and will be removed from pandas in a future version. Use pandas.concat instead.\n",
      "  results = results.append(query_data, ignore_index=True)\n",
      "C:\\Users\\zwei\\AppData\\Local\\Temp\\ipykernel_588\\4248089460.py:19: FutureWarning: The frame.append method is deprecated and will be removed from pandas in a future version. Use pandas.concat instead.\n",
      "  results = results.append(query_data, ignore_index=True)\n",
      "C:\\Users\\zwei\\AppData\\Local\\Temp\\ipykernel_588\\4248089460.py:19: FutureWarning: The frame.append method is deprecated and will be removed from pandas in a future version. Use pandas.concat instead.\n",
      "  results = results.append(query_data, ignore_index=True)\n",
      "C:\\Users\\zwei\\AppData\\Local\\Temp\\ipykernel_588\\4248089460.py:19: FutureWarning: The frame.append method is deprecated and will be removed from pandas in a future version. Use pandas.concat instead.\n",
      "  results = results.append(query_data, ignore_index=True)\n",
      "C:\\Users\\zwei\\AppData\\Local\\Temp\\ipykernel_588\\4248089460.py:19: FutureWarning: The frame.append method is deprecated and will be removed from pandas in a future version. Use pandas.concat instead.\n",
      "  results = results.append(query_data, ignore_index=True)\n",
      "C:\\Users\\zwei\\AppData\\Local\\Temp\\ipykernel_588\\4248089460.py:19: FutureWarning: The frame.append method is deprecated and will be removed from pandas in a future version. Use pandas.concat instead.\n",
      "  results = results.append(query_data, ignore_index=True)\n",
      "C:\\Users\\zwei\\AppData\\Local\\Temp\\ipykernel_588\\4248089460.py:19: FutureWarning: The frame.append method is deprecated and will be removed from pandas in a future version. Use pandas.concat instead.\n",
      "  results = results.append(query_data, ignore_index=True)\n",
      "C:\\Users\\zwei\\AppData\\Local\\Temp\\ipykernel_588\\4248089460.py:19: FutureWarning: The frame.append method is deprecated and will be removed from pandas in a future version. Use pandas.concat instead.\n",
      "  results = results.append(query_data, ignore_index=True)\n",
      "C:\\Users\\zwei\\AppData\\Local\\Temp\\ipykernel_588\\4248089460.py:19: FutureWarning: The frame.append method is deprecated and will be removed from pandas in a future version. Use pandas.concat instead.\n",
      "  results = results.append(query_data, ignore_index=True)\n",
      "C:\\Users\\zwei\\AppData\\Local\\Temp\\ipykernel_588\\4248089460.py:19: FutureWarning: The frame.append method is deprecated and will be removed from pandas in a future version. Use pandas.concat instead.\n",
      "  results = results.append(query_data, ignore_index=True)\n",
      "C:\\Users\\zwei\\AppData\\Local\\Temp\\ipykernel_588\\4248089460.py:19: FutureWarning: The frame.append method is deprecated and will be removed from pandas in a future version. Use pandas.concat instead.\n",
      "  results = results.append(query_data, ignore_index=True)\n",
      "C:\\Users\\zwei\\AppData\\Local\\Temp\\ipykernel_588\\4248089460.py:19: FutureWarning: The frame.append method is deprecated and will be removed from pandas in a future version. Use pandas.concat instead.\n",
      "  results = results.append(query_data, ignore_index=True)\n",
      "C:\\Users\\zwei\\AppData\\Local\\Temp\\ipykernel_588\\4248089460.py:19: FutureWarning: The frame.append method is deprecated and will be removed from pandas in a future version. Use pandas.concat instead.\n",
      "  results = results.append(query_data, ignore_index=True)\n",
      "C:\\Users\\zwei\\AppData\\Local\\Temp\\ipykernel_588\\4248089460.py:19: FutureWarning: The frame.append method is deprecated and will be removed from pandas in a future version. Use pandas.concat instead.\n",
      "  results = results.append(query_data, ignore_index=True)\n",
      "C:\\Users\\zwei\\AppData\\Local\\Temp\\ipykernel_588\\4248089460.py:19: FutureWarning: The frame.append method is deprecated and will be removed from pandas in a future version. Use pandas.concat instead.\n",
      "  results = results.append(query_data, ignore_index=True)\n"
     ]
    },
    {
     "name": "stdout",
     "output_type": "stream",
     "text": [
      "An error occurred: 'NoneType' object does not support item assignment\n"
     ]
    },
    {
     "name": "stderr",
     "output_type": "stream",
     "text": [
      "C:\\Users\\zwei\\AppData\\Local\\Temp\\ipykernel_588\\4248089460.py:19: FutureWarning: The frame.append method is deprecated and will be removed from pandas in a future version. Use pandas.concat instead.\n",
      "  results = results.append(query_data, ignore_index=True)\n",
      "C:\\Users\\zwei\\AppData\\Local\\Temp\\ipykernel_588\\4248089460.py:19: FutureWarning: The frame.append method is deprecated and will be removed from pandas in a future version. Use pandas.concat instead.\n",
      "  results = results.append(query_data, ignore_index=True)\n",
      "C:\\Users\\zwei\\AppData\\Local\\Temp\\ipykernel_588\\4248089460.py:19: FutureWarning: The frame.append method is deprecated and will be removed from pandas in a future version. Use pandas.concat instead.\n",
      "  results = results.append(query_data, ignore_index=True)\n",
      "C:\\Users\\zwei\\AppData\\Local\\Temp\\ipykernel_588\\4248089460.py:19: FutureWarning: The frame.append method is deprecated and will be removed from pandas in a future version. Use pandas.concat instead.\n",
      "  results = results.append(query_data, ignore_index=True)\n",
      "C:\\Users\\zwei\\AppData\\Local\\Temp\\ipykernel_588\\4248089460.py:19: FutureWarning: The frame.append method is deprecated and will be removed from pandas in a future version. Use pandas.concat instead.\n",
      "  results = results.append(query_data, ignore_index=True)\n"
     ]
    },
    {
     "name": "stdout",
     "output_type": "stream",
     "text": [
      "An error occurred: 'NoneType' object does not support item assignment\n"
     ]
    },
    {
     "name": "stderr",
     "output_type": "stream",
     "text": [
      "C:\\Users\\zwei\\AppData\\Local\\Temp\\ipykernel_588\\4248089460.py:19: FutureWarning: The frame.append method is deprecated and will be removed from pandas in a future version. Use pandas.concat instead.\n",
      "  results = results.append(query_data, ignore_index=True)\n",
      "C:\\Users\\zwei\\AppData\\Local\\Temp\\ipykernel_588\\4248089460.py:19: FutureWarning: The frame.append method is deprecated and will be removed from pandas in a future version. Use pandas.concat instead.\n",
      "  results = results.append(query_data, ignore_index=True)\n",
      "C:\\Users\\zwei\\AppData\\Local\\Temp\\ipykernel_588\\4248089460.py:19: FutureWarning: The frame.append method is deprecated and will be removed from pandas in a future version. Use pandas.concat instead.\n",
      "  results = results.append(query_data, ignore_index=True)\n",
      "C:\\Users\\zwei\\AppData\\Local\\Temp\\ipykernel_588\\4248089460.py:19: FutureWarning: The frame.append method is deprecated and will be removed from pandas in a future version. Use pandas.concat instead.\n",
      "  results = results.append(query_data, ignore_index=True)\n",
      "C:\\Users\\zwei\\AppData\\Local\\Temp\\ipykernel_588\\4248089460.py:19: FutureWarning: The frame.append method is deprecated and will be removed from pandas in a future version. Use pandas.concat instead.\n",
      "  results = results.append(query_data, ignore_index=True)\n",
      "C:\\Users\\zwei\\AppData\\Local\\Temp\\ipykernel_588\\4248089460.py:19: FutureWarning: The frame.append method is deprecated and will be removed from pandas in a future version. Use pandas.concat instead.\n",
      "  results = results.append(query_data, ignore_index=True)\n",
      "C:\\Users\\zwei\\AppData\\Local\\Temp\\ipykernel_588\\4248089460.py:19: FutureWarning: The frame.append method is deprecated and will be removed from pandas in a future version. Use pandas.concat instead.\n",
      "  results = results.append(query_data, ignore_index=True)\n",
      "C:\\Users\\zwei\\AppData\\Local\\Temp\\ipykernel_588\\4248089460.py:19: FutureWarning: The frame.append method is deprecated and will be removed from pandas in a future version. Use pandas.concat instead.\n",
      "  results = results.append(query_data, ignore_index=True)\n",
      "C:\\Users\\zwei\\AppData\\Local\\Temp\\ipykernel_588\\4248089460.py:19: FutureWarning: The frame.append method is deprecated and will be removed from pandas in a future version. Use pandas.concat instead.\n",
      "  results = results.append(query_data, ignore_index=True)\n",
      "C:\\Users\\zwei\\AppData\\Local\\Temp\\ipykernel_588\\4248089460.py:19: FutureWarning: The frame.append method is deprecated and will be removed from pandas in a future version. Use pandas.concat instead.\n",
      "  results = results.append(query_data, ignore_index=True)\n",
      "C:\\Users\\zwei\\AppData\\Local\\Temp\\ipykernel_588\\4248089460.py:19: FutureWarning: The frame.append method is deprecated and will be removed from pandas in a future version. Use pandas.concat instead.\n",
      "  results = results.append(query_data, ignore_index=True)\n",
      "C:\\Users\\zwei\\AppData\\Local\\Temp\\ipykernel_588\\4248089460.py:19: FutureWarning: The frame.append method is deprecated and will be removed from pandas in a future version. Use pandas.concat instead.\n",
      "  results = results.append(query_data, ignore_index=True)\n"
     ]
    },
    {
     "name": "stdout",
     "output_type": "stream",
     "text": [
      "An error occurred: 'NoneType' object does not support item assignment\n"
     ]
    },
    {
     "name": "stderr",
     "output_type": "stream",
     "text": [
      "C:\\Users\\zwei\\AppData\\Local\\Temp\\ipykernel_588\\4248089460.py:19: FutureWarning: The frame.append method is deprecated and will be removed from pandas in a future version. Use pandas.concat instead.\n",
      "  results = results.append(query_data, ignore_index=True)\n",
      "C:\\Users\\zwei\\AppData\\Local\\Temp\\ipykernel_588\\4248089460.py:19: FutureWarning: The frame.append method is deprecated and will be removed from pandas in a future version. Use pandas.concat instead.\n",
      "  results = results.append(query_data, ignore_index=True)\n",
      "C:\\Users\\zwei\\AppData\\Local\\Temp\\ipykernel_588\\4248089460.py:19: FutureWarning: The frame.append method is deprecated and will be removed from pandas in a future version. Use pandas.concat instead.\n",
      "  results = results.append(query_data, ignore_index=True)\n",
      "C:\\Users\\zwei\\AppData\\Local\\Temp\\ipykernel_588\\4248089460.py:19: FutureWarning: The frame.append method is deprecated and will be removed from pandas in a future version. Use pandas.concat instead.\n",
      "  results = results.append(query_data, ignore_index=True)\n",
      "C:\\Users\\zwei\\AppData\\Local\\Temp\\ipykernel_588\\4248089460.py:19: FutureWarning: The frame.append method is deprecated and will be removed from pandas in a future version. Use pandas.concat instead.\n",
      "  results = results.append(query_data, ignore_index=True)\n",
      "C:\\Users\\zwei\\AppData\\Local\\Temp\\ipykernel_588\\4248089460.py:19: FutureWarning: The frame.append method is deprecated and will be removed from pandas in a future version. Use pandas.concat instead.\n",
      "  results = results.append(query_data, ignore_index=True)\n",
      "C:\\Users\\zwei\\AppData\\Local\\Temp\\ipykernel_588\\4248089460.py:19: FutureWarning: The frame.append method is deprecated and will be removed from pandas in a future version. Use pandas.concat instead.\n",
      "  results = results.append(query_data, ignore_index=True)\n",
      "C:\\Users\\zwei\\AppData\\Local\\Temp\\ipykernel_588\\4248089460.py:19: FutureWarning: The frame.append method is deprecated and will be removed from pandas in a future version. Use pandas.concat instead.\n",
      "  results = results.append(query_data, ignore_index=True)\n",
      "C:\\Users\\zwei\\AppData\\Local\\Temp\\ipykernel_588\\4248089460.py:19: FutureWarning: The frame.append method is deprecated and will be removed from pandas in a future version. Use pandas.concat instead.\n",
      "  results = results.append(query_data, ignore_index=True)\n",
      "C:\\Users\\zwei\\AppData\\Local\\Temp\\ipykernel_588\\4248089460.py:19: FutureWarning: The frame.append method is deprecated and will be removed from pandas in a future version. Use pandas.concat instead.\n",
      "  results = results.append(query_data, ignore_index=True)\n",
      "C:\\Users\\zwei\\AppData\\Local\\Temp\\ipykernel_588\\4248089460.py:19: FutureWarning: The frame.append method is deprecated and will be removed from pandas in a future version. Use pandas.concat instead.\n",
      "  results = results.append(query_data, ignore_index=True)\n",
      "C:\\Users\\zwei\\AppData\\Local\\Temp\\ipykernel_588\\4248089460.py:19: FutureWarning: The frame.append method is deprecated and will be removed from pandas in a future version. Use pandas.concat instead.\n",
      "  results = results.append(query_data, ignore_index=True)\n",
      "C:\\Users\\zwei\\AppData\\Local\\Temp\\ipykernel_588\\4248089460.py:19: FutureWarning: The frame.append method is deprecated and will be removed from pandas in a future version. Use pandas.concat instead.\n",
      "  results = results.append(query_data, ignore_index=True)\n",
      "C:\\Users\\zwei\\AppData\\Local\\Temp\\ipykernel_588\\4248089460.py:19: FutureWarning: The frame.append method is deprecated and will be removed from pandas in a future version. Use pandas.concat instead.\n",
      "  results = results.append(query_data, ignore_index=True)\n",
      "C:\\Users\\zwei\\AppData\\Local\\Temp\\ipykernel_588\\4248089460.py:19: FutureWarning: The frame.append method is deprecated and will be removed from pandas in a future version. Use pandas.concat instead.\n",
      "  results = results.append(query_data, ignore_index=True)\n",
      "C:\\Users\\zwei\\AppData\\Local\\Temp\\ipykernel_588\\4248089460.py:19: FutureWarning: The frame.append method is deprecated and will be removed from pandas in a future version. Use pandas.concat instead.\n",
      "  results = results.append(query_data, ignore_index=True)\n",
      "C:\\Users\\zwei\\AppData\\Local\\Temp\\ipykernel_588\\4248089460.py:19: FutureWarning: The frame.append method is deprecated and will be removed from pandas in a future version. Use pandas.concat instead.\n",
      "  results = results.append(query_data, ignore_index=True)\n",
      "C:\\Users\\zwei\\AppData\\Local\\Temp\\ipykernel_588\\4248089460.py:19: FutureWarning: The frame.append method is deprecated and will be removed from pandas in a future version. Use pandas.concat instead.\n",
      "  results = results.append(query_data, ignore_index=True)\n",
      "C:\\Users\\zwei\\AppData\\Local\\Temp\\ipykernel_588\\4248089460.py:19: FutureWarning: The frame.append method is deprecated and will be removed from pandas in a future version. Use pandas.concat instead.\n",
      "  results = results.append(query_data, ignore_index=True)\n",
      "C:\\Users\\zwei\\AppData\\Local\\Temp\\ipykernel_588\\4248089460.py:19: FutureWarning: The frame.append method is deprecated and will be removed from pandas in a future version. Use pandas.concat instead.\n",
      "  results = results.append(query_data, ignore_index=True)\n"
     ]
    },
    {
     "name": "stdout",
     "output_type": "stream",
     "text": [
      "An error occurred: 'NoneType' object does not support item assignment\n"
     ]
    },
    {
     "name": "stderr",
     "output_type": "stream",
     "text": [
      "C:\\Users\\zwei\\AppData\\Local\\Temp\\ipykernel_588\\4248089460.py:19: FutureWarning: The frame.append method is deprecated and will be removed from pandas in a future version. Use pandas.concat instead.\n",
      "  results = results.append(query_data, ignore_index=True)\n",
      "C:\\Users\\zwei\\AppData\\Local\\Temp\\ipykernel_588\\4248089460.py:19: FutureWarning: The frame.append method is deprecated and will be removed from pandas in a future version. Use pandas.concat instead.\n",
      "  results = results.append(query_data, ignore_index=True)\n",
      "C:\\Users\\zwei\\AppData\\Local\\Temp\\ipykernel_588\\4248089460.py:19: FutureWarning: The frame.append method is deprecated and will be removed from pandas in a future version. Use pandas.concat instead.\n",
      "  results = results.append(query_data, ignore_index=True)\n",
      "C:\\Users\\zwei\\AppData\\Local\\Temp\\ipykernel_588\\4248089460.py:19: FutureWarning: The frame.append method is deprecated and will be removed from pandas in a future version. Use pandas.concat instead.\n",
      "  results = results.append(query_data, ignore_index=True)\n",
      "C:\\Users\\zwei\\AppData\\Local\\Temp\\ipykernel_588\\4248089460.py:19: FutureWarning: The frame.append method is deprecated and will be removed from pandas in a future version. Use pandas.concat instead.\n",
      "  results = results.append(query_data, ignore_index=True)\n"
     ]
    },
    {
     "name": "stdout",
     "output_type": "stream",
     "text": [
      "An error occurred: 'NoneType' object does not support item assignment\n"
     ]
    },
    {
     "name": "stderr",
     "output_type": "stream",
     "text": [
      "C:\\Users\\zwei\\AppData\\Local\\Temp\\ipykernel_588\\4248089460.py:19: FutureWarning: The frame.append method is deprecated and will be removed from pandas in a future version. Use pandas.concat instead.\n",
      "  results = results.append(query_data, ignore_index=True)\n",
      "C:\\Users\\zwei\\AppData\\Local\\Temp\\ipykernel_588\\4248089460.py:19: FutureWarning: The frame.append method is deprecated and will be removed from pandas in a future version. Use pandas.concat instead.\n",
      "  results = results.append(query_data, ignore_index=True)\n"
     ]
    },
    {
     "name": "stdout",
     "output_type": "stream",
     "text": [
      "An error occurred: 'NoneType' object does not support item assignment\n"
     ]
    },
    {
     "name": "stderr",
     "output_type": "stream",
     "text": [
      "C:\\Users\\zwei\\AppData\\Local\\Temp\\ipykernel_588\\4248089460.py:19: FutureWarning: The frame.append method is deprecated and will be removed from pandas in a future version. Use pandas.concat instead.\n",
      "  results = results.append(query_data, ignore_index=True)\n",
      "C:\\Users\\zwei\\AppData\\Local\\Temp\\ipykernel_588\\4248089460.py:19: FutureWarning: The frame.append method is deprecated and will be removed from pandas in a future version. Use pandas.concat instead.\n",
      "  results = results.append(query_data, ignore_index=True)\n",
      "C:\\Users\\zwei\\AppData\\Local\\Temp\\ipykernel_588\\4248089460.py:19: FutureWarning: The frame.append method is deprecated and will be removed from pandas in a future version. Use pandas.concat instead.\n",
      "  results = results.append(query_data, ignore_index=True)\n",
      "C:\\Users\\zwei\\AppData\\Local\\Temp\\ipykernel_588\\4248089460.py:19: FutureWarning: The frame.append method is deprecated and will be removed from pandas in a future version. Use pandas.concat instead.\n",
      "  results = results.append(query_data, ignore_index=True)\n",
      "C:\\Users\\zwei\\AppData\\Local\\Temp\\ipykernel_588\\4248089460.py:19: FutureWarning: The frame.append method is deprecated and will be removed from pandas in a future version. Use pandas.concat instead.\n",
      "  results = results.append(query_data, ignore_index=True)\n",
      "C:\\Users\\zwei\\AppData\\Local\\Temp\\ipykernel_588\\4248089460.py:19: FutureWarning: The frame.append method is deprecated and will be removed from pandas in a future version. Use pandas.concat instead.\n",
      "  results = results.append(query_data, ignore_index=True)\n",
      "C:\\Users\\zwei\\AppData\\Local\\Temp\\ipykernel_588\\4248089460.py:19: FutureWarning: The frame.append method is deprecated and will be removed from pandas in a future version. Use pandas.concat instead.\n",
      "  results = results.append(query_data, ignore_index=True)\n",
      "C:\\Users\\zwei\\AppData\\Local\\Temp\\ipykernel_588\\4248089460.py:19: FutureWarning: The frame.append method is deprecated and will be removed from pandas in a future version. Use pandas.concat instead.\n",
      "  results = results.append(query_data, ignore_index=True)\n",
      "C:\\Users\\zwei\\AppData\\Local\\Temp\\ipykernel_588\\4248089460.py:19: FutureWarning: The frame.append method is deprecated and will be removed from pandas in a future version. Use pandas.concat instead.\n",
      "  results = results.append(query_data, ignore_index=True)\n",
      "C:\\Users\\zwei\\AppData\\Local\\Temp\\ipykernel_588\\4248089460.py:19: FutureWarning: The frame.append method is deprecated and will be removed from pandas in a future version. Use pandas.concat instead.\n",
      "  results = results.append(query_data, ignore_index=True)\n",
      "C:\\Users\\zwei\\AppData\\Local\\Temp\\ipykernel_588\\4248089460.py:19: FutureWarning: The frame.append method is deprecated and will be removed from pandas in a future version. Use pandas.concat instead.\n",
      "  results = results.append(query_data, ignore_index=True)\n",
      "C:\\Users\\zwei\\AppData\\Local\\Temp\\ipykernel_588\\4248089460.py:19: FutureWarning: The frame.append method is deprecated and will be removed from pandas in a future version. Use pandas.concat instead.\n",
      "  results = results.append(query_data, ignore_index=True)\n",
      "C:\\Users\\zwei\\AppData\\Local\\Temp\\ipykernel_588\\4248089460.py:19: FutureWarning: The frame.append method is deprecated and will be removed from pandas in a future version. Use pandas.concat instead.\n",
      "  results = results.append(query_data, ignore_index=True)\n",
      "C:\\Users\\zwei\\AppData\\Local\\Temp\\ipykernel_588\\4248089460.py:19: FutureWarning: The frame.append method is deprecated and will be removed from pandas in a future version. Use pandas.concat instead.\n",
      "  results = results.append(query_data, ignore_index=True)\n",
      "C:\\Users\\zwei\\AppData\\Local\\Temp\\ipykernel_588\\4248089460.py:19: FutureWarning: The frame.append method is deprecated and will be removed from pandas in a future version. Use pandas.concat instead.\n",
      "  results = results.append(query_data, ignore_index=True)\n",
      "C:\\Users\\zwei\\AppData\\Local\\Temp\\ipykernel_588\\4248089460.py:19: FutureWarning: The frame.append method is deprecated and will be removed from pandas in a future version. Use pandas.concat instead.\n",
      "  results = results.append(query_data, ignore_index=True)\n",
      "C:\\Users\\zwei\\AppData\\Local\\Temp\\ipykernel_588\\4248089460.py:19: FutureWarning: The frame.append method is deprecated and will be removed from pandas in a future version. Use pandas.concat instead.\n",
      "  results = results.append(query_data, ignore_index=True)\n",
      "C:\\Users\\zwei\\AppData\\Local\\Temp\\ipykernel_588\\4248089460.py:19: FutureWarning: The frame.append method is deprecated and will be removed from pandas in a future version. Use pandas.concat instead.\n",
      "  results = results.append(query_data, ignore_index=True)\n",
      "C:\\Users\\zwei\\AppData\\Local\\Temp\\ipykernel_588\\4248089460.py:19: FutureWarning: The frame.append method is deprecated and will be removed from pandas in a future version. Use pandas.concat instead.\n",
      "  results = results.append(query_data, ignore_index=True)\n",
      "C:\\Users\\zwei\\AppData\\Local\\Temp\\ipykernel_588\\4248089460.py:19: FutureWarning: The frame.append method is deprecated and will be removed from pandas in a future version. Use pandas.concat instead.\n",
      "  results = results.append(query_data, ignore_index=True)\n",
      "C:\\Users\\zwei\\AppData\\Local\\Temp\\ipykernel_588\\4248089460.py:19: FutureWarning: The frame.append method is deprecated and will be removed from pandas in a future version. Use pandas.concat instead.\n",
      "  results = results.append(query_data, ignore_index=True)\n",
      "C:\\Users\\zwei\\AppData\\Local\\Temp\\ipykernel_588\\4248089460.py:19: FutureWarning: The frame.append method is deprecated and will be removed from pandas in a future version. Use pandas.concat instead.\n",
      "  results = results.append(query_data, ignore_index=True)\n",
      "C:\\Users\\zwei\\AppData\\Local\\Temp\\ipykernel_588\\4248089460.py:19: FutureWarning: The frame.append method is deprecated and will be removed from pandas in a future version. Use pandas.concat instead.\n",
      "  results = results.append(query_data, ignore_index=True)\n",
      "C:\\Users\\zwei\\AppData\\Local\\Temp\\ipykernel_588\\4248089460.py:19: FutureWarning: The frame.append method is deprecated and will be removed from pandas in a future version. Use pandas.concat instead.\n",
      "  results = results.append(query_data, ignore_index=True)\n",
      "C:\\Users\\zwei\\AppData\\Local\\Temp\\ipykernel_588\\4248089460.py:19: FutureWarning: The frame.append method is deprecated and will be removed from pandas in a future version. Use pandas.concat instead.\n",
      "  results = results.append(query_data, ignore_index=True)\n",
      "C:\\Users\\zwei\\AppData\\Local\\Temp\\ipykernel_588\\4248089460.py:19: FutureWarning: The frame.append method is deprecated and will be removed from pandas in a future version. Use pandas.concat instead.\n",
      "  results = results.append(query_data, ignore_index=True)\n",
      "C:\\Users\\zwei\\AppData\\Local\\Temp\\ipykernel_588\\4248089460.py:19: FutureWarning: The frame.append method is deprecated and will be removed from pandas in a future version. Use pandas.concat instead.\n",
      "  results = results.append(query_data, ignore_index=True)\n",
      "C:\\Users\\zwei\\AppData\\Local\\Temp\\ipykernel_588\\4248089460.py:19: FutureWarning: The frame.append method is deprecated and will be removed from pandas in a future version. Use pandas.concat instead.\n",
      "  results = results.append(query_data, ignore_index=True)\n",
      "C:\\Users\\zwei\\AppData\\Local\\Temp\\ipykernel_588\\4248089460.py:19: FutureWarning: The frame.append method is deprecated and will be removed from pandas in a future version. Use pandas.concat instead.\n",
      "  results = results.append(query_data, ignore_index=True)\n",
      "C:\\Users\\zwei\\AppData\\Local\\Temp\\ipykernel_588\\4248089460.py:19: FutureWarning: The frame.append method is deprecated and will be removed from pandas in a future version. Use pandas.concat instead.\n",
      "  results = results.append(query_data, ignore_index=True)\n",
      "C:\\Users\\zwei\\AppData\\Local\\Temp\\ipykernel_588\\4248089460.py:19: FutureWarning: The frame.append method is deprecated and will be removed from pandas in a future version. Use pandas.concat instead.\n",
      "  results = results.append(query_data, ignore_index=True)\n",
      "C:\\Users\\zwei\\AppData\\Local\\Temp\\ipykernel_588\\4248089460.py:19: FutureWarning: The frame.append method is deprecated and will be removed from pandas in a future version. Use pandas.concat instead.\n",
      "  results = results.append(query_data, ignore_index=True)\n",
      "C:\\Users\\zwei\\AppData\\Local\\Temp\\ipykernel_588\\4248089460.py:19: FutureWarning: The frame.append method is deprecated and will be removed from pandas in a future version. Use pandas.concat instead.\n",
      "  results = results.append(query_data, ignore_index=True)\n",
      "C:\\Users\\zwei\\AppData\\Local\\Temp\\ipykernel_588\\4248089460.py:19: FutureWarning: The frame.append method is deprecated and will be removed from pandas in a future version. Use pandas.concat instead.\n",
      "  results = results.append(query_data, ignore_index=True)\n"
     ]
    },
    {
     "name": "stderr",
     "output_type": "stream",
     "text": [
      "C:\\Users\\zwei\\AppData\\Local\\Temp\\ipykernel_588\\4248089460.py:19: FutureWarning: The frame.append method is deprecated and will be removed from pandas in a future version. Use pandas.concat instead.\n",
      "  results = results.append(query_data, ignore_index=True)\n",
      "C:\\Users\\zwei\\AppData\\Local\\Temp\\ipykernel_588\\4248089460.py:19: FutureWarning: The frame.append method is deprecated and will be removed from pandas in a future version. Use pandas.concat instead.\n",
      "  results = results.append(query_data, ignore_index=True)\n",
      "C:\\Users\\zwei\\AppData\\Local\\Temp\\ipykernel_588\\4248089460.py:19: FutureWarning: The frame.append method is deprecated and will be removed from pandas in a future version. Use pandas.concat instead.\n",
      "  results = results.append(query_data, ignore_index=True)\n",
      "C:\\Users\\zwei\\AppData\\Local\\Temp\\ipykernel_588\\4248089460.py:19: FutureWarning: The frame.append method is deprecated and will be removed from pandas in a future version. Use pandas.concat instead.\n",
      "  results = results.append(query_data, ignore_index=True)\n",
      "C:\\Users\\zwei\\AppData\\Local\\Temp\\ipykernel_588\\4248089460.py:19: FutureWarning: The frame.append method is deprecated and will be removed from pandas in a future version. Use pandas.concat instead.\n",
      "  results = results.append(query_data, ignore_index=True)\n",
      "C:\\Users\\zwei\\AppData\\Local\\Temp\\ipykernel_588\\4248089460.py:19: FutureWarning: The frame.append method is deprecated and will be removed from pandas in a future version. Use pandas.concat instead.\n",
      "  results = results.append(query_data, ignore_index=True)\n",
      "C:\\Users\\zwei\\AppData\\Local\\Temp\\ipykernel_588\\4248089460.py:19: FutureWarning: The frame.append method is deprecated and will be removed from pandas in a future version. Use pandas.concat instead.\n",
      "  results = results.append(query_data, ignore_index=True)\n",
      "C:\\Users\\zwei\\AppData\\Local\\Temp\\ipykernel_588\\4248089460.py:19: FutureWarning: The frame.append method is deprecated and will be removed from pandas in a future version. Use pandas.concat instead.\n",
      "  results = results.append(query_data, ignore_index=True)\n",
      "C:\\Users\\zwei\\AppData\\Local\\Temp\\ipykernel_588\\4248089460.py:19: FutureWarning: The frame.append method is deprecated and will be removed from pandas in a future version. Use pandas.concat instead.\n",
      "  results = results.append(query_data, ignore_index=True)\n",
      "C:\\Users\\zwei\\AppData\\Local\\Temp\\ipykernel_588\\4248089460.py:19: FutureWarning: The frame.append method is deprecated and will be removed from pandas in a future version. Use pandas.concat instead.\n",
      "  results = results.append(query_data, ignore_index=True)\n",
      "C:\\Users\\zwei\\AppData\\Local\\Temp\\ipykernel_588\\4248089460.py:19: FutureWarning: The frame.append method is deprecated and will be removed from pandas in a future version. Use pandas.concat instead.\n",
      "  results = results.append(query_data, ignore_index=True)\n",
      "C:\\Users\\zwei\\AppData\\Local\\Temp\\ipykernel_588\\4248089460.py:19: FutureWarning: The frame.append method is deprecated and will be removed from pandas in a future version. Use pandas.concat instead.\n",
      "  results = results.append(query_data, ignore_index=True)\n",
      "C:\\Users\\zwei\\AppData\\Local\\Temp\\ipykernel_588\\4248089460.py:19: FutureWarning: The frame.append method is deprecated and will be removed from pandas in a future version. Use pandas.concat instead.\n",
      "  results = results.append(query_data, ignore_index=True)\n",
      "C:\\Users\\zwei\\AppData\\Local\\Temp\\ipykernel_588\\4248089460.py:19: FutureWarning: The frame.append method is deprecated and will be removed from pandas in a future version. Use pandas.concat instead.\n",
      "  results = results.append(query_data, ignore_index=True)\n",
      "C:\\Users\\zwei\\AppData\\Local\\Temp\\ipykernel_588\\4248089460.py:19: FutureWarning: The frame.append method is deprecated and will be removed from pandas in a future version. Use pandas.concat instead.\n",
      "  results = results.append(query_data, ignore_index=True)\n",
      "C:\\Users\\zwei\\AppData\\Local\\Temp\\ipykernel_588\\4248089460.py:19: FutureWarning: The frame.append method is deprecated and will be removed from pandas in a future version. Use pandas.concat instead.\n",
      "  results = results.append(query_data, ignore_index=True)\n",
      "C:\\Users\\zwei\\AppData\\Local\\Temp\\ipykernel_588\\4248089460.py:19: FutureWarning: The frame.append method is deprecated and will be removed from pandas in a future version. Use pandas.concat instead.\n",
      "  results = results.append(query_data, ignore_index=True)\n"
     ]
    },
    {
     "name": "stdout",
     "output_type": "stream",
     "text": [
      "An error occurred: 'NoneType' object does not support item assignment\n"
     ]
    },
    {
     "name": "stderr",
     "output_type": "stream",
     "text": [
      "C:\\Users\\zwei\\AppData\\Local\\Temp\\ipykernel_588\\4248089460.py:19: FutureWarning: The frame.append method is deprecated and will be removed from pandas in a future version. Use pandas.concat instead.\n",
      "  results = results.append(query_data, ignore_index=True)\n"
     ]
    },
    {
     "name": "stdout",
     "output_type": "stream",
     "text": [
      "An error occurred: 'NoneType' object does not support item assignment\n"
     ]
    },
    {
     "name": "stderr",
     "output_type": "stream",
     "text": [
      "C:\\Users\\zwei\\AppData\\Local\\Temp\\ipykernel_588\\4248089460.py:19: FutureWarning: The frame.append method is deprecated and will be removed from pandas in a future version. Use pandas.concat instead.\n",
      "  results = results.append(query_data, ignore_index=True)\n",
      "C:\\Users\\zwei\\AppData\\Local\\Temp\\ipykernel_588\\4248089460.py:19: FutureWarning: The frame.append method is deprecated and will be removed from pandas in a future version. Use pandas.concat instead.\n",
      "  results = results.append(query_data, ignore_index=True)\n",
      "C:\\Users\\zwei\\AppData\\Local\\Temp\\ipykernel_588\\4248089460.py:19: FutureWarning: The frame.append method is deprecated and will be removed from pandas in a future version. Use pandas.concat instead.\n",
      "  results = results.append(query_data, ignore_index=True)\n",
      "C:\\Users\\zwei\\AppData\\Local\\Temp\\ipykernel_588\\4248089460.py:19: FutureWarning: The frame.append method is deprecated and will be removed from pandas in a future version. Use pandas.concat instead.\n",
      "  results = results.append(query_data, ignore_index=True)\n",
      "C:\\Users\\zwei\\AppData\\Local\\Temp\\ipykernel_588\\4248089460.py:19: FutureWarning: The frame.append method is deprecated and will be removed from pandas in a future version. Use pandas.concat instead.\n",
      "  results = results.append(query_data, ignore_index=True)\n",
      "C:\\Users\\zwei\\AppData\\Local\\Temp\\ipykernel_588\\4248089460.py:19: FutureWarning: The frame.append method is deprecated and will be removed from pandas in a future version. Use pandas.concat instead.\n",
      "  results = results.append(query_data, ignore_index=True)\n",
      "C:\\Users\\zwei\\AppData\\Local\\Temp\\ipykernel_588\\4248089460.py:19: FutureWarning: The frame.append method is deprecated and will be removed from pandas in a future version. Use pandas.concat instead.\n",
      "  results = results.append(query_data, ignore_index=True)\n",
      "C:\\Users\\zwei\\AppData\\Local\\Temp\\ipykernel_588\\4248089460.py:19: FutureWarning: The frame.append method is deprecated and will be removed from pandas in a future version. Use pandas.concat instead.\n",
      "  results = results.append(query_data, ignore_index=True)\n",
      "C:\\Users\\zwei\\AppData\\Local\\Temp\\ipykernel_588\\4248089460.py:19: FutureWarning: The frame.append method is deprecated and will be removed from pandas in a future version. Use pandas.concat instead.\n",
      "  results = results.append(query_data, ignore_index=True)\n",
      "C:\\Users\\zwei\\AppData\\Local\\Temp\\ipykernel_588\\4248089460.py:19: FutureWarning: The frame.append method is deprecated and will be removed from pandas in a future version. Use pandas.concat instead.\n",
      "  results = results.append(query_data, ignore_index=True)\n",
      "C:\\Users\\zwei\\AppData\\Local\\Temp\\ipykernel_588\\4248089460.py:19: FutureWarning: The frame.append method is deprecated and will be removed from pandas in a future version. Use pandas.concat instead.\n",
      "  results = results.append(query_data, ignore_index=True)\n",
      "C:\\Users\\zwei\\AppData\\Local\\Temp\\ipykernel_588\\4248089460.py:19: FutureWarning: The frame.append method is deprecated and will be removed from pandas in a future version. Use pandas.concat instead.\n",
      "  results = results.append(query_data, ignore_index=True)\n",
      "C:\\Users\\zwei\\AppData\\Local\\Temp\\ipykernel_588\\4248089460.py:19: FutureWarning: The frame.append method is deprecated and will be removed from pandas in a future version. Use pandas.concat instead.\n",
      "  results = results.append(query_data, ignore_index=True)\n",
      "C:\\Users\\zwei\\AppData\\Local\\Temp\\ipykernel_588\\4248089460.py:19: FutureWarning: The frame.append method is deprecated and will be removed from pandas in a future version. Use pandas.concat instead.\n",
      "  results = results.append(query_data, ignore_index=True)\n",
      "C:\\Users\\zwei\\AppData\\Local\\Temp\\ipykernel_588\\4248089460.py:19: FutureWarning: The frame.append method is deprecated and will be removed from pandas in a future version. Use pandas.concat instead.\n",
      "  results = results.append(query_data, ignore_index=True)\n",
      "C:\\Users\\zwei\\AppData\\Local\\Temp\\ipykernel_588\\4248089460.py:19: FutureWarning: The frame.append method is deprecated and will be removed from pandas in a future version. Use pandas.concat instead.\n",
      "  results = results.append(query_data, ignore_index=True)\n",
      "C:\\Users\\zwei\\AppData\\Local\\Temp\\ipykernel_588\\4248089460.py:19: FutureWarning: The frame.append method is deprecated and will be removed from pandas in a future version. Use pandas.concat instead.\n",
      "  results = results.append(query_data, ignore_index=True)\n",
      "C:\\Users\\zwei\\AppData\\Local\\Temp\\ipykernel_588\\4248089460.py:19: FutureWarning: The frame.append method is deprecated and will be removed from pandas in a future version. Use pandas.concat instead.\n",
      "  results = results.append(query_data, ignore_index=True)\n",
      "C:\\Users\\zwei\\AppData\\Local\\Temp\\ipykernel_588\\4248089460.py:19: FutureWarning: The frame.append method is deprecated and will be removed from pandas in a future version. Use pandas.concat instead.\n",
      "  results = results.append(query_data, ignore_index=True)\n",
      "C:\\Users\\zwei\\AppData\\Local\\Temp\\ipykernel_588\\4248089460.py:19: FutureWarning: The frame.append method is deprecated and will be removed from pandas in a future version. Use pandas.concat instead.\n",
      "  results = results.append(query_data, ignore_index=True)\n",
      "C:\\Users\\zwei\\AppData\\Local\\Temp\\ipykernel_588\\4248089460.py:19: FutureWarning: The frame.append method is deprecated and will be removed from pandas in a future version. Use pandas.concat instead.\n",
      "  results = results.append(query_data, ignore_index=True)\n",
      "C:\\Users\\zwei\\AppData\\Local\\Temp\\ipykernel_588\\4248089460.py:19: FutureWarning: The frame.append method is deprecated and will be removed from pandas in a future version. Use pandas.concat instead.\n",
      "  results = results.append(query_data, ignore_index=True)\n",
      "C:\\Users\\zwei\\AppData\\Local\\Temp\\ipykernel_588\\4248089460.py:19: FutureWarning: The frame.append method is deprecated and will be removed from pandas in a future version. Use pandas.concat instead.\n",
      "  results = results.append(query_data, ignore_index=True)\n"
     ]
    },
    {
     "name": "stdout",
     "output_type": "stream",
     "text": [
      "An error occurred: 'NoneType' object does not support item assignment\n"
     ]
    },
    {
     "name": "stderr",
     "output_type": "stream",
     "text": [
      "C:\\Users\\zwei\\AppData\\Local\\Temp\\ipykernel_588\\4248089460.py:19: FutureWarning: The frame.append method is deprecated and will be removed from pandas in a future version. Use pandas.concat instead.\n",
      "  results = results.append(query_data, ignore_index=True)\n",
      "C:\\Users\\zwei\\AppData\\Local\\Temp\\ipykernel_588\\4248089460.py:19: FutureWarning: The frame.append method is deprecated and will be removed from pandas in a future version. Use pandas.concat instead.\n",
      "  results = results.append(query_data, ignore_index=True)\n",
      "C:\\Users\\zwei\\AppData\\Local\\Temp\\ipykernel_588\\4248089460.py:19: FutureWarning: The frame.append method is deprecated and will be removed from pandas in a future version. Use pandas.concat instead.\n",
      "  results = results.append(query_data, ignore_index=True)\n",
      "C:\\Users\\zwei\\AppData\\Local\\Temp\\ipykernel_588\\4248089460.py:19: FutureWarning: The frame.append method is deprecated and will be removed from pandas in a future version. Use pandas.concat instead.\n",
      "  results = results.append(query_data, ignore_index=True)\n",
      "C:\\Users\\zwei\\AppData\\Local\\Temp\\ipykernel_588\\4248089460.py:19: FutureWarning: The frame.append method is deprecated and will be removed from pandas in a future version. Use pandas.concat instead.\n",
      "  results = results.append(query_data, ignore_index=True)\n",
      "C:\\Users\\zwei\\AppData\\Local\\Temp\\ipykernel_588\\4248089460.py:19: FutureWarning: The frame.append method is deprecated and will be removed from pandas in a future version. Use pandas.concat instead.\n",
      "  results = results.append(query_data, ignore_index=True)\n",
      "C:\\Users\\zwei\\AppData\\Local\\Temp\\ipykernel_588\\4248089460.py:19: FutureWarning: The frame.append method is deprecated and will be removed from pandas in a future version. Use pandas.concat instead.\n",
      "  results = results.append(query_data, ignore_index=True)\n",
      "C:\\Users\\zwei\\AppData\\Local\\Temp\\ipykernel_588\\4248089460.py:19: FutureWarning: The frame.append method is deprecated and will be removed from pandas in a future version. Use pandas.concat instead.\n",
      "  results = results.append(query_data, ignore_index=True)\n",
      "C:\\Users\\zwei\\AppData\\Local\\Temp\\ipykernel_588\\4248089460.py:19: FutureWarning: The frame.append method is deprecated and will be removed from pandas in a future version. Use pandas.concat instead.\n",
      "  results = results.append(query_data, ignore_index=True)\n",
      "C:\\Users\\zwei\\AppData\\Local\\Temp\\ipykernel_588\\4248089460.py:19: FutureWarning: The frame.append method is deprecated and will be removed from pandas in a future version. Use pandas.concat instead.\n",
      "  results = results.append(query_data, ignore_index=True)\n"
     ]
    },
    {
     "name": "stdout",
     "output_type": "stream",
     "text": [
      "An error occurred: 'NoneType' object does not support item assignment\n"
     ]
    },
    {
     "name": "stderr",
     "output_type": "stream",
     "text": [
      "C:\\Users\\zwei\\AppData\\Local\\Temp\\ipykernel_588\\4248089460.py:19: FutureWarning: The frame.append method is deprecated and will be removed from pandas in a future version. Use pandas.concat instead.\n",
      "  results = results.append(query_data, ignore_index=True)\n",
      "C:\\Users\\zwei\\AppData\\Local\\Temp\\ipykernel_588\\4248089460.py:19: FutureWarning: The frame.append method is deprecated and will be removed from pandas in a future version. Use pandas.concat instead.\n",
      "  results = results.append(query_data, ignore_index=True)\n",
      "C:\\Users\\zwei\\AppData\\Local\\Temp\\ipykernel_588\\4248089460.py:19: FutureWarning: The frame.append method is deprecated and will be removed from pandas in a future version. Use pandas.concat instead.\n",
      "  results = results.append(query_data, ignore_index=True)\n",
      "C:\\Users\\zwei\\AppData\\Local\\Temp\\ipykernel_588\\4248089460.py:19: FutureWarning: The frame.append method is deprecated and will be removed from pandas in a future version. Use pandas.concat instead.\n",
      "  results = results.append(query_data, ignore_index=True)\n",
      "C:\\Users\\zwei\\AppData\\Local\\Temp\\ipykernel_588\\4248089460.py:19: FutureWarning: The frame.append method is deprecated and will be removed from pandas in a future version. Use pandas.concat instead.\n",
      "  results = results.append(query_data, ignore_index=True)\n"
     ]
    },
    {
     "name": "stdout",
     "output_type": "stream",
     "text": [
      "An error occurred: 'NoneType' object does not support item assignment\n"
     ]
    },
    {
     "name": "stderr",
     "output_type": "stream",
     "text": [
      "C:\\Users\\zwei\\AppData\\Local\\Temp\\ipykernel_588\\4248089460.py:19: FutureWarning: The frame.append method is deprecated and will be removed from pandas in a future version. Use pandas.concat instead.\n",
      "  results = results.append(query_data, ignore_index=True)\n",
      "C:\\Users\\zwei\\AppData\\Local\\Temp\\ipykernel_588\\4248089460.py:19: FutureWarning: The frame.append method is deprecated and will be removed from pandas in a future version. Use pandas.concat instead.\n",
      "  results = results.append(query_data, ignore_index=True)\n"
     ]
    },
    {
     "name": "stdout",
     "output_type": "stream",
     "text": [
      "An error occurred: 'NoneType' object does not support item assignment\n"
     ]
    },
    {
     "name": "stderr",
     "output_type": "stream",
     "text": [
      "C:\\Users\\zwei\\AppData\\Local\\Temp\\ipykernel_588\\4248089460.py:19: FutureWarning: The frame.append method is deprecated and will be removed from pandas in a future version. Use pandas.concat instead.\n",
      "  results = results.append(query_data, ignore_index=True)\n",
      "C:\\Users\\zwei\\AppData\\Local\\Temp\\ipykernel_588\\4248089460.py:19: FutureWarning: The frame.append method is deprecated and will be removed from pandas in a future version. Use pandas.concat instead.\n",
      "  results = results.append(query_data, ignore_index=True)\n",
      "C:\\Users\\zwei\\AppData\\Local\\Temp\\ipykernel_588\\4248089460.py:19: FutureWarning: The frame.append method is deprecated and will be removed from pandas in a future version. Use pandas.concat instead.\n",
      "  results = results.append(query_data, ignore_index=True)\n"
     ]
    },
    {
     "name": "stdout",
     "output_type": "stream",
     "text": [
      "An error occurred: 'NoneType' object does not support item assignment\n"
     ]
    },
    {
     "name": "stderr",
     "output_type": "stream",
     "text": [
      "C:\\Users\\zwei\\AppData\\Local\\Temp\\ipykernel_588\\4248089460.py:19: FutureWarning: The frame.append method is deprecated and will be removed from pandas in a future version. Use pandas.concat instead.\n",
      "  results = results.append(query_data, ignore_index=True)\n",
      "C:\\Users\\zwei\\AppData\\Local\\Temp\\ipykernel_588\\4248089460.py:19: FutureWarning: The frame.append method is deprecated and will be removed from pandas in a future version. Use pandas.concat instead.\n",
      "  results = results.append(query_data, ignore_index=True)\n",
      "C:\\Users\\zwei\\AppData\\Local\\Temp\\ipykernel_588\\4248089460.py:19: FutureWarning: The frame.append method is deprecated and will be removed from pandas in a future version. Use pandas.concat instead.\n",
      "  results = results.append(query_data, ignore_index=True)\n",
      "C:\\Users\\zwei\\AppData\\Local\\Temp\\ipykernel_588\\4248089460.py:19: FutureWarning: The frame.append method is deprecated and will be removed from pandas in a future version. Use pandas.concat instead.\n",
      "  results = results.append(query_data, ignore_index=True)\n",
      "C:\\Users\\zwei\\AppData\\Local\\Temp\\ipykernel_588\\4248089460.py:19: FutureWarning: The frame.append method is deprecated and will be removed from pandas in a future version. Use pandas.concat instead.\n",
      "  results = results.append(query_data, ignore_index=True)\n",
      "C:\\Users\\zwei\\AppData\\Local\\Temp\\ipykernel_588\\4248089460.py:19: FutureWarning: The frame.append method is deprecated and will be removed from pandas in a future version. Use pandas.concat instead.\n",
      "  results = results.append(query_data, ignore_index=True)\n",
      "C:\\Users\\zwei\\AppData\\Local\\Temp\\ipykernel_588\\4248089460.py:19: FutureWarning: The frame.append method is deprecated and will be removed from pandas in a future version. Use pandas.concat instead.\n",
      "  results = results.append(query_data, ignore_index=True)\n",
      "C:\\Users\\zwei\\AppData\\Local\\Temp\\ipykernel_588\\4248089460.py:19: FutureWarning: The frame.append method is deprecated and will be removed from pandas in a future version. Use pandas.concat instead.\n",
      "  results = results.append(query_data, ignore_index=True)\n",
      "C:\\Users\\zwei\\AppData\\Local\\Temp\\ipykernel_588\\4248089460.py:19: FutureWarning: The frame.append method is deprecated and will be removed from pandas in a future version. Use pandas.concat instead.\n",
      "  results = results.append(query_data, ignore_index=True)\n",
      "C:\\Users\\zwei\\AppData\\Local\\Temp\\ipykernel_588\\4248089460.py:19: FutureWarning: The frame.append method is deprecated and will be removed from pandas in a future version. Use pandas.concat instead.\n",
      "  results = results.append(query_data, ignore_index=True)\n"
     ]
    },
    {
     "name": "stdout",
     "output_type": "stream",
     "text": [
      "An error occurred: 'NoneType' object does not support item assignment\n"
     ]
    },
    {
     "name": "stderr",
     "output_type": "stream",
     "text": [
      "C:\\Users\\zwei\\AppData\\Local\\Temp\\ipykernel_588\\4248089460.py:19: FutureWarning: The frame.append method is deprecated and will be removed from pandas in a future version. Use pandas.concat instead.\n",
      "  results = results.append(query_data, ignore_index=True)\n",
      "C:\\Users\\zwei\\AppData\\Local\\Temp\\ipykernel_588\\4248089460.py:19: FutureWarning: The frame.append method is deprecated and will be removed from pandas in a future version. Use pandas.concat instead.\n",
      "  results = results.append(query_data, ignore_index=True)\n",
      "C:\\Users\\zwei\\AppData\\Local\\Temp\\ipykernel_588\\4248089460.py:19: FutureWarning: The frame.append method is deprecated and will be removed from pandas in a future version. Use pandas.concat instead.\n",
      "  results = results.append(query_data, ignore_index=True)\n",
      "C:\\Users\\zwei\\AppData\\Local\\Temp\\ipykernel_588\\4248089460.py:19: FutureWarning: The frame.append method is deprecated and will be removed from pandas in a future version. Use pandas.concat instead.\n",
      "  results = results.append(query_data, ignore_index=True)\n",
      "C:\\Users\\zwei\\AppData\\Local\\Temp\\ipykernel_588\\4248089460.py:19: FutureWarning: The frame.append method is deprecated and will be removed from pandas in a future version. Use pandas.concat instead.\n",
      "  results = results.append(query_data, ignore_index=True)\n"
     ]
    },
    {
     "name": "stdout",
     "output_type": "stream",
     "text": [
      "An error occurred: 'NoneType' object does not support item assignment\n"
     ]
    },
    {
     "name": "stderr",
     "output_type": "stream",
     "text": [
      "C:\\Users\\zwei\\AppData\\Local\\Temp\\ipykernel_588\\4248089460.py:19: FutureWarning: The frame.append method is deprecated and will be removed from pandas in a future version. Use pandas.concat instead.\n",
      "  results = results.append(query_data, ignore_index=True)\n",
      "C:\\Users\\zwei\\AppData\\Local\\Temp\\ipykernel_588\\4248089460.py:19: FutureWarning: The frame.append method is deprecated and will be removed from pandas in a future version. Use pandas.concat instead.\n",
      "  results = results.append(query_data, ignore_index=True)\n",
      "C:\\Users\\zwei\\AppData\\Local\\Temp\\ipykernel_588\\4248089460.py:19: FutureWarning: The frame.append method is deprecated and will be removed from pandas in a future version. Use pandas.concat instead.\n",
      "  results = results.append(query_data, ignore_index=True)\n",
      "C:\\Users\\zwei\\AppData\\Local\\Temp\\ipykernel_588\\4248089460.py:19: FutureWarning: The frame.append method is deprecated and will be removed from pandas in a future version. Use pandas.concat instead.\n",
      "  results = results.append(query_data, ignore_index=True)\n",
      "C:\\Users\\zwei\\AppData\\Local\\Temp\\ipykernel_588\\4248089460.py:19: FutureWarning: The frame.append method is deprecated and will be removed from pandas in a future version. Use pandas.concat instead.\n",
      "  results = results.append(query_data, ignore_index=True)\n",
      "C:\\Users\\zwei\\AppData\\Local\\Temp\\ipykernel_588\\4248089460.py:19: FutureWarning: The frame.append method is deprecated and will be removed from pandas in a future version. Use pandas.concat instead.\n",
      "  results = results.append(query_data, ignore_index=True)\n",
      "C:\\Users\\zwei\\AppData\\Local\\Temp\\ipykernel_588\\4248089460.py:19: FutureWarning: The frame.append method is deprecated and will be removed from pandas in a future version. Use pandas.concat instead.\n",
      "  results = results.append(query_data, ignore_index=True)\n",
      "C:\\Users\\zwei\\AppData\\Local\\Temp\\ipykernel_588\\4248089460.py:19: FutureWarning: The frame.append method is deprecated and will be removed from pandas in a future version. Use pandas.concat instead.\n",
      "  results = results.append(query_data, ignore_index=True)\n",
      "C:\\Users\\zwei\\AppData\\Local\\Temp\\ipykernel_588\\4248089460.py:19: FutureWarning: The frame.append method is deprecated and will be removed from pandas in a future version. Use pandas.concat instead.\n",
      "  results = results.append(query_data, ignore_index=True)\n",
      "C:\\Users\\zwei\\AppData\\Local\\Temp\\ipykernel_588\\4248089460.py:19: FutureWarning: The frame.append method is deprecated and will be removed from pandas in a future version. Use pandas.concat instead.\n",
      "  results = results.append(query_data, ignore_index=True)\n",
      "C:\\Users\\zwei\\AppData\\Local\\Temp\\ipykernel_588\\4248089460.py:19: FutureWarning: The frame.append method is deprecated and will be removed from pandas in a future version. Use pandas.concat instead.\n",
      "  results = results.append(query_data, ignore_index=True)\n",
      "C:\\Users\\zwei\\AppData\\Local\\Temp\\ipykernel_588\\4248089460.py:19: FutureWarning: The frame.append method is deprecated and will be removed from pandas in a future version. Use pandas.concat instead.\n",
      "  results = results.append(query_data, ignore_index=True)\n",
      "C:\\Users\\zwei\\AppData\\Local\\Temp\\ipykernel_588\\4248089460.py:19: FutureWarning: The frame.append method is deprecated and will be removed from pandas in a future version. Use pandas.concat instead.\n",
      "  results = results.append(query_data, ignore_index=True)\n",
      "C:\\Users\\zwei\\AppData\\Local\\Temp\\ipykernel_588\\4248089460.py:19: FutureWarning: The frame.append method is deprecated and will be removed from pandas in a future version. Use pandas.concat instead.\n",
      "  results = results.append(query_data, ignore_index=True)\n",
      "C:\\Users\\zwei\\AppData\\Local\\Temp\\ipykernel_588\\4248089460.py:19: FutureWarning: The frame.append method is deprecated and will be removed from pandas in a future version. Use pandas.concat instead.\n",
      "  results = results.append(query_data, ignore_index=True)\n"
     ]
    },
    {
     "name": "stdout",
     "output_type": "stream",
     "text": [
      "An error occurred: 'NoneType' object does not support item assignment\n"
     ]
    },
    {
     "name": "stderr",
     "output_type": "stream",
     "text": [
      "C:\\Users\\zwei\\AppData\\Local\\Temp\\ipykernel_588\\4248089460.py:19: FutureWarning: The frame.append method is deprecated and will be removed from pandas in a future version. Use pandas.concat instead.\n",
      "  results = results.append(query_data, ignore_index=True)\n",
      "C:\\Users\\zwei\\AppData\\Local\\Temp\\ipykernel_588\\4248089460.py:19: FutureWarning: The frame.append method is deprecated and will be removed from pandas in a future version. Use pandas.concat instead.\n",
      "  results = results.append(query_data, ignore_index=True)\n",
      "C:\\Users\\zwei\\AppData\\Local\\Temp\\ipykernel_588\\4248089460.py:19: FutureWarning: The frame.append method is deprecated and will be removed from pandas in a future version. Use pandas.concat instead.\n",
      "  results = results.append(query_data, ignore_index=True)\n",
      "C:\\Users\\zwei\\AppData\\Local\\Temp\\ipykernel_588\\4248089460.py:19: FutureWarning: The frame.append method is deprecated and will be removed from pandas in a future version. Use pandas.concat instead.\n",
      "  results = results.append(query_data, ignore_index=True)\n",
      "C:\\Users\\zwei\\AppData\\Local\\Temp\\ipykernel_588\\4248089460.py:19: FutureWarning: The frame.append method is deprecated and will be removed from pandas in a future version. Use pandas.concat instead.\n",
      "  results = results.append(query_data, ignore_index=True)\n",
      "C:\\Users\\zwei\\AppData\\Local\\Temp\\ipykernel_588\\4248089460.py:19: FutureWarning: The frame.append method is deprecated and will be removed from pandas in a future version. Use pandas.concat instead.\n",
      "  results = results.append(query_data, ignore_index=True)\n",
      "C:\\Users\\zwei\\AppData\\Local\\Temp\\ipykernel_588\\4248089460.py:19: FutureWarning: The frame.append method is deprecated and will be removed from pandas in a future version. Use pandas.concat instead.\n",
      "  results = results.append(query_data, ignore_index=True)\n",
      "C:\\Users\\zwei\\AppData\\Local\\Temp\\ipykernel_588\\4248089460.py:19: FutureWarning: The frame.append method is deprecated and will be removed from pandas in a future version. Use pandas.concat instead.\n",
      "  results = results.append(query_data, ignore_index=True)\n",
      "C:\\Users\\zwei\\AppData\\Local\\Temp\\ipykernel_588\\4248089460.py:19: FutureWarning: The frame.append method is deprecated and will be removed from pandas in a future version. Use pandas.concat instead.\n",
      "  results = results.append(query_data, ignore_index=True)\n",
      "C:\\Users\\zwei\\AppData\\Local\\Temp\\ipykernel_588\\4248089460.py:19: FutureWarning: The frame.append method is deprecated and will be removed from pandas in a future version. Use pandas.concat instead.\n",
      "  results = results.append(query_data, ignore_index=True)\n",
      "C:\\Users\\zwei\\AppData\\Local\\Temp\\ipykernel_588\\4248089460.py:19: FutureWarning: The frame.append method is deprecated and will be removed from pandas in a future version. Use pandas.concat instead.\n",
      "  results = results.append(query_data, ignore_index=True)\n",
      "C:\\Users\\zwei\\AppData\\Local\\Temp\\ipykernel_588\\4248089460.py:19: FutureWarning: The frame.append method is deprecated and will be removed from pandas in a future version. Use pandas.concat instead.\n",
      "  results = results.append(query_data, ignore_index=True)\n",
      "C:\\Users\\zwei\\AppData\\Local\\Temp\\ipykernel_588\\4248089460.py:19: FutureWarning: The frame.append method is deprecated and will be removed from pandas in a future version. Use pandas.concat instead.\n",
      "  results = results.append(query_data, ignore_index=True)\n",
      "C:\\Users\\zwei\\AppData\\Local\\Temp\\ipykernel_588\\4248089460.py:19: FutureWarning: The frame.append method is deprecated and will be removed from pandas in a future version. Use pandas.concat instead.\n",
      "  results = results.append(query_data, ignore_index=True)\n",
      "C:\\Users\\zwei\\AppData\\Local\\Temp\\ipykernel_588\\4248089460.py:19: FutureWarning: The frame.append method is deprecated and will be removed from pandas in a future version. Use pandas.concat instead.\n",
      "  results = results.append(query_data, ignore_index=True)\n",
      "C:\\Users\\zwei\\AppData\\Local\\Temp\\ipykernel_588\\4248089460.py:19: FutureWarning: The frame.append method is deprecated and will be removed from pandas in a future version. Use pandas.concat instead.\n",
      "  results = results.append(query_data, ignore_index=True)\n",
      "C:\\Users\\zwei\\AppData\\Local\\Temp\\ipykernel_588\\4248089460.py:19: FutureWarning: The frame.append method is deprecated and will be removed from pandas in a future version. Use pandas.concat instead.\n",
      "  results = results.append(query_data, ignore_index=True)\n",
      "C:\\Users\\zwei\\AppData\\Local\\Temp\\ipykernel_588\\4248089460.py:19: FutureWarning: The frame.append method is deprecated and will be removed from pandas in a future version. Use pandas.concat instead.\n",
      "  results = results.append(query_data, ignore_index=True)\n",
      "C:\\Users\\zwei\\AppData\\Local\\Temp\\ipykernel_588\\4248089460.py:19: FutureWarning: The frame.append method is deprecated and will be removed from pandas in a future version. Use pandas.concat instead.\n",
      "  results = results.append(query_data, ignore_index=True)\n"
     ]
    },
    {
     "name": "stdout",
     "output_type": "stream",
     "text": [
      "An error occurred: 'NoneType' object does not support item assignment\n"
     ]
    },
    {
     "name": "stderr",
     "output_type": "stream",
     "text": [
      "C:\\Users\\zwei\\AppData\\Local\\Temp\\ipykernel_588\\4248089460.py:19: FutureWarning: The frame.append method is deprecated and will be removed from pandas in a future version. Use pandas.concat instead.\n",
      "  results = results.append(query_data, ignore_index=True)\n",
      "C:\\Users\\zwei\\AppData\\Local\\Temp\\ipykernel_588\\4248089460.py:19: FutureWarning: The frame.append method is deprecated and will be removed from pandas in a future version. Use pandas.concat instead.\n",
      "  results = results.append(query_data, ignore_index=True)\n",
      "C:\\Users\\zwei\\AppData\\Local\\Temp\\ipykernel_588\\4248089460.py:19: FutureWarning: The frame.append method is deprecated and will be removed from pandas in a future version. Use pandas.concat instead.\n",
      "  results = results.append(query_data, ignore_index=True)\n",
      "C:\\Users\\zwei\\AppData\\Local\\Temp\\ipykernel_588\\4248089460.py:19: FutureWarning: The frame.append method is deprecated and will be removed from pandas in a future version. Use pandas.concat instead.\n",
      "  results = results.append(query_data, ignore_index=True)\n",
      "C:\\Users\\zwei\\AppData\\Local\\Temp\\ipykernel_588\\4248089460.py:19: FutureWarning: The frame.append method is deprecated and will be removed from pandas in a future version. Use pandas.concat instead.\n",
      "  results = results.append(query_data, ignore_index=True)\n",
      "C:\\Users\\zwei\\AppData\\Local\\Temp\\ipykernel_588\\4248089460.py:19: FutureWarning: The frame.append method is deprecated and will be removed from pandas in a future version. Use pandas.concat instead.\n",
      "  results = results.append(query_data, ignore_index=True)\n",
      "C:\\Users\\zwei\\AppData\\Local\\Temp\\ipykernel_588\\4248089460.py:19: FutureWarning: The frame.append method is deprecated and will be removed from pandas in a future version. Use pandas.concat instead.\n",
      "  results = results.append(query_data, ignore_index=True)\n",
      "C:\\Users\\zwei\\AppData\\Local\\Temp\\ipykernel_588\\4248089460.py:19: FutureWarning: The frame.append method is deprecated and will be removed from pandas in a future version. Use pandas.concat instead.\n",
      "  results = results.append(query_data, ignore_index=True)\n"
     ]
    },
    {
     "name": "stdout",
     "output_type": "stream",
     "text": [
      "An error occurred: 'NoneType' object does not support item assignment\n"
     ]
    },
    {
     "name": "stderr",
     "output_type": "stream",
     "text": [
      "C:\\Users\\zwei\\AppData\\Local\\Temp\\ipykernel_588\\4248089460.py:19: FutureWarning: The frame.append method is deprecated and will be removed from pandas in a future version. Use pandas.concat instead.\n",
      "  results = results.append(query_data, ignore_index=True)\n",
      "C:\\Users\\zwei\\AppData\\Local\\Temp\\ipykernel_588\\4248089460.py:19: FutureWarning: The frame.append method is deprecated and will be removed from pandas in a future version. Use pandas.concat instead.\n",
      "  results = results.append(query_data, ignore_index=True)\n",
      "C:\\Users\\zwei\\AppData\\Local\\Temp\\ipykernel_588\\4248089460.py:19: FutureWarning: The frame.append method is deprecated and will be removed from pandas in a future version. Use pandas.concat instead.\n",
      "  results = results.append(query_data, ignore_index=True)\n",
      "C:\\Users\\zwei\\AppData\\Local\\Temp\\ipykernel_588\\4248089460.py:19: FutureWarning: The frame.append method is deprecated and will be removed from pandas in a future version. Use pandas.concat instead.\n",
      "  results = results.append(query_data, ignore_index=True)\n",
      "C:\\Users\\zwei\\AppData\\Local\\Temp\\ipykernel_588\\4248089460.py:19: FutureWarning: The frame.append method is deprecated and will be removed from pandas in a future version. Use pandas.concat instead.\n",
      "  results = results.append(query_data, ignore_index=True)\n",
      "C:\\Users\\zwei\\AppData\\Local\\Temp\\ipykernel_588\\4248089460.py:19: FutureWarning: The frame.append method is deprecated and will be removed from pandas in a future version. Use pandas.concat instead.\n",
      "  results = results.append(query_data, ignore_index=True)\n",
      "C:\\Users\\zwei\\AppData\\Local\\Temp\\ipykernel_588\\4248089460.py:19: FutureWarning: The frame.append method is deprecated and will be removed from pandas in a future version. Use pandas.concat instead.\n",
      "  results = results.append(query_data, ignore_index=True)\n",
      "C:\\Users\\zwei\\AppData\\Local\\Temp\\ipykernel_588\\4248089460.py:19: FutureWarning: The frame.append method is deprecated and will be removed from pandas in a future version. Use pandas.concat instead.\n",
      "  results = results.append(query_data, ignore_index=True)\n",
      "C:\\Users\\zwei\\AppData\\Local\\Temp\\ipykernel_588\\4248089460.py:19: FutureWarning: The frame.append method is deprecated and will be removed from pandas in a future version. Use pandas.concat instead.\n",
      "  results = results.append(query_data, ignore_index=True)\n"
     ]
    },
    {
     "name": "stdout",
     "output_type": "stream",
     "text": [
      "An error occurred: 'NoneType' object does not support item assignment\n"
     ]
    },
    {
     "name": "stderr",
     "output_type": "stream",
     "text": [
      "C:\\Users\\zwei\\AppData\\Local\\Temp\\ipykernel_588\\4248089460.py:19: FutureWarning: The frame.append method is deprecated and will be removed from pandas in a future version. Use pandas.concat instead.\n",
      "  results = results.append(query_data, ignore_index=True)\n",
      "C:\\Users\\zwei\\AppData\\Local\\Temp\\ipykernel_588\\4248089460.py:19: FutureWarning: The frame.append method is deprecated and will be removed from pandas in a future version. Use pandas.concat instead.\n",
      "  results = results.append(query_data, ignore_index=True)\n"
     ]
    },
    {
     "name": "stdout",
     "output_type": "stream",
     "text": [
      "An error occurred: 'NoneType' object does not support item assignment\n"
     ]
    },
    {
     "name": "stderr",
     "output_type": "stream",
     "text": [
      "C:\\Users\\zwei\\AppData\\Local\\Temp\\ipykernel_588\\4248089460.py:19: FutureWarning: The frame.append method is deprecated and will be removed from pandas in a future version. Use pandas.concat instead.\n",
      "  results = results.append(query_data, ignore_index=True)\n",
      "C:\\Users\\zwei\\AppData\\Local\\Temp\\ipykernel_588\\4248089460.py:19: FutureWarning: The frame.append method is deprecated and will be removed from pandas in a future version. Use pandas.concat instead.\n",
      "  results = results.append(query_data, ignore_index=True)\n",
      "C:\\Users\\zwei\\AppData\\Local\\Temp\\ipykernel_588\\4248089460.py:19: FutureWarning: The frame.append method is deprecated and will be removed from pandas in a future version. Use pandas.concat instead.\n",
      "  results = results.append(query_data, ignore_index=True)\n",
      "C:\\Users\\zwei\\AppData\\Local\\Temp\\ipykernel_588\\4248089460.py:19: FutureWarning: The frame.append method is deprecated and will be removed from pandas in a future version. Use pandas.concat instead.\n",
      "  results = results.append(query_data, ignore_index=True)\n",
      "C:\\Users\\zwei\\AppData\\Local\\Temp\\ipykernel_588\\4248089460.py:19: FutureWarning: The frame.append method is deprecated and will be removed from pandas in a future version. Use pandas.concat instead.\n",
      "  results = results.append(query_data, ignore_index=True)\n",
      "C:\\Users\\zwei\\AppData\\Local\\Temp\\ipykernel_588\\4248089460.py:19: FutureWarning: The frame.append method is deprecated and will be removed from pandas in a future version. Use pandas.concat instead.\n",
      "  results = results.append(query_data, ignore_index=True)\n",
      "C:\\Users\\zwei\\AppData\\Local\\Temp\\ipykernel_588\\4248089460.py:19: FutureWarning: The frame.append method is deprecated and will be removed from pandas in a future version. Use pandas.concat instead.\n",
      "  results = results.append(query_data, ignore_index=True)\n",
      "C:\\Users\\zwei\\AppData\\Local\\Temp\\ipykernel_588\\4248089460.py:19: FutureWarning: The frame.append method is deprecated and will be removed from pandas in a future version. Use pandas.concat instead.\n",
      "  results = results.append(query_data, ignore_index=True)\n",
      "C:\\Users\\zwei\\AppData\\Local\\Temp\\ipykernel_588\\4248089460.py:19: FutureWarning: The frame.append method is deprecated and will be removed from pandas in a future version. Use pandas.concat instead.\n",
      "  results = results.append(query_data, ignore_index=True)\n",
      "C:\\Users\\zwei\\AppData\\Local\\Temp\\ipykernel_588\\4248089460.py:19: FutureWarning: The frame.append method is deprecated and will be removed from pandas in a future version. Use pandas.concat instead.\n",
      "  results = results.append(query_data, ignore_index=True)\n",
      "C:\\Users\\zwei\\AppData\\Local\\Temp\\ipykernel_588\\4248089460.py:19: FutureWarning: The frame.append method is deprecated and will be removed from pandas in a future version. Use pandas.concat instead.\n",
      "  results = results.append(query_data, ignore_index=True)\n",
      "C:\\Users\\zwei\\AppData\\Local\\Temp\\ipykernel_588\\4248089460.py:19: FutureWarning: The frame.append method is deprecated and will be removed from pandas in a future version. Use pandas.concat instead.\n",
      "  results = results.append(query_data, ignore_index=True)\n",
      "C:\\Users\\zwei\\AppData\\Local\\Temp\\ipykernel_588\\4248089460.py:19: FutureWarning: The frame.append method is deprecated and will be removed from pandas in a future version. Use pandas.concat instead.\n",
      "  results = results.append(query_data, ignore_index=True)\n"
     ]
    },
    {
     "name": "stdout",
     "output_type": "stream",
     "text": [
      "An error occurred: 'NoneType' object does not support item assignment\n"
     ]
    },
    {
     "name": "stderr",
     "output_type": "stream",
     "text": [
      "C:\\Users\\zwei\\AppData\\Local\\Temp\\ipykernel_588\\4248089460.py:19: FutureWarning: The frame.append method is deprecated and will be removed from pandas in a future version. Use pandas.concat instead.\n",
      "  results = results.append(query_data, ignore_index=True)\n",
      "C:\\Users\\zwei\\AppData\\Local\\Temp\\ipykernel_588\\4248089460.py:19: FutureWarning: The frame.append method is deprecated and will be removed from pandas in a future version. Use pandas.concat instead.\n",
      "  results = results.append(query_data, ignore_index=True)\n"
     ]
    },
    {
     "name": "stdout",
     "output_type": "stream",
     "text": [
      "An error occurred: 'NoneType' object does not support item assignment\n"
     ]
    },
    {
     "name": "stderr",
     "output_type": "stream",
     "text": [
      "C:\\Users\\zwei\\AppData\\Local\\Temp\\ipykernel_588\\4248089460.py:19: FutureWarning: The frame.append method is deprecated and will be removed from pandas in a future version. Use pandas.concat instead.\n",
      "  results = results.append(query_data, ignore_index=True)\n",
      "C:\\Users\\zwei\\AppData\\Local\\Temp\\ipykernel_588\\4248089460.py:19: FutureWarning: The frame.append method is deprecated and will be removed from pandas in a future version. Use pandas.concat instead.\n",
      "  results = results.append(query_data, ignore_index=True)\n",
      "C:\\Users\\zwei\\AppData\\Local\\Temp\\ipykernel_588\\4248089460.py:19: FutureWarning: The frame.append method is deprecated and will be removed from pandas in a future version. Use pandas.concat instead.\n",
      "  results = results.append(query_data, ignore_index=True)\n"
     ]
    },
    {
     "name": "stdout",
     "output_type": "stream",
     "text": [
      "An error occurred: 'NoneType' object does not support item assignment\n"
     ]
    },
    {
     "name": "stderr",
     "output_type": "stream",
     "text": [
      "C:\\Users\\zwei\\AppData\\Local\\Temp\\ipykernel_588\\4248089460.py:19: FutureWarning: The frame.append method is deprecated and will be removed from pandas in a future version. Use pandas.concat instead.\n",
      "  results = results.append(query_data, ignore_index=True)\n",
      "C:\\Users\\zwei\\AppData\\Local\\Temp\\ipykernel_588\\4248089460.py:19: FutureWarning: The frame.append method is deprecated and will be removed from pandas in a future version. Use pandas.concat instead.\n",
      "  results = results.append(query_data, ignore_index=True)\n",
      "C:\\Users\\zwei\\AppData\\Local\\Temp\\ipykernel_588\\4248089460.py:19: FutureWarning: The frame.append method is deprecated and will be removed from pandas in a future version. Use pandas.concat instead.\n",
      "  results = results.append(query_data, ignore_index=True)\n",
      "C:\\Users\\zwei\\AppData\\Local\\Temp\\ipykernel_588\\4248089460.py:19: FutureWarning: The frame.append method is deprecated and will be removed from pandas in a future version. Use pandas.concat instead.\n",
      "  results = results.append(query_data, ignore_index=True)\n",
      "C:\\Users\\zwei\\AppData\\Local\\Temp\\ipykernel_588\\4248089460.py:19: FutureWarning: The frame.append method is deprecated and will be removed from pandas in a future version. Use pandas.concat instead.\n",
      "  results = results.append(query_data, ignore_index=True)\n",
      "C:\\Users\\zwei\\AppData\\Local\\Temp\\ipykernel_588\\4248089460.py:19: FutureWarning: The frame.append method is deprecated and will be removed from pandas in a future version. Use pandas.concat instead.\n",
      "  results = results.append(query_data, ignore_index=True)\n",
      "C:\\Users\\zwei\\AppData\\Local\\Temp\\ipykernel_588\\4248089460.py:19: FutureWarning: The frame.append method is deprecated and will be removed from pandas in a future version. Use pandas.concat instead.\n",
      "  results = results.append(query_data, ignore_index=True)\n",
      "C:\\Users\\zwei\\AppData\\Local\\Temp\\ipykernel_588\\4248089460.py:19: FutureWarning: The frame.append method is deprecated and will be removed from pandas in a future version. Use pandas.concat instead.\n",
      "  results = results.append(query_data, ignore_index=True)\n",
      "C:\\Users\\zwei\\AppData\\Local\\Temp\\ipykernel_588\\4248089460.py:19: FutureWarning: The frame.append method is deprecated and will be removed from pandas in a future version. Use pandas.concat instead.\n",
      "  results = results.append(query_data, ignore_index=True)\n",
      "C:\\Users\\zwei\\AppData\\Local\\Temp\\ipykernel_588\\4248089460.py:19: FutureWarning: The frame.append method is deprecated and will be removed from pandas in a future version. Use pandas.concat instead.\n",
      "  results = results.append(query_data, ignore_index=True)\n",
      "C:\\Users\\zwei\\AppData\\Local\\Temp\\ipykernel_588\\4248089460.py:19: FutureWarning: The frame.append method is deprecated and will be removed from pandas in a future version. Use pandas.concat instead.\n",
      "  results = results.append(query_data, ignore_index=True)\n",
      "C:\\Users\\zwei\\AppData\\Local\\Temp\\ipykernel_588\\4248089460.py:19: FutureWarning: The frame.append method is deprecated and will be removed from pandas in a future version. Use pandas.concat instead.\n",
      "  results = results.append(query_data, ignore_index=True)\n",
      "C:\\Users\\zwei\\AppData\\Local\\Temp\\ipykernel_588\\4248089460.py:19: FutureWarning: The frame.append method is deprecated and will be removed from pandas in a future version. Use pandas.concat instead.\n",
      "  results = results.append(query_data, ignore_index=True)\n",
      "C:\\Users\\zwei\\AppData\\Local\\Temp\\ipykernel_588\\4248089460.py:19: FutureWarning: The frame.append method is deprecated and will be removed from pandas in a future version. Use pandas.concat instead.\n",
      "  results = results.append(query_data, ignore_index=True)\n",
      "C:\\Users\\zwei\\AppData\\Local\\Temp\\ipykernel_588\\4248089460.py:19: FutureWarning: The frame.append method is deprecated and will be removed from pandas in a future version. Use pandas.concat instead.\n",
      "  results = results.append(query_data, ignore_index=True)\n",
      "C:\\Users\\zwei\\AppData\\Local\\Temp\\ipykernel_588\\4248089460.py:19: FutureWarning: The frame.append method is deprecated and will be removed from pandas in a future version. Use pandas.concat instead.\n",
      "  results = results.append(query_data, ignore_index=True)\n",
      "C:\\Users\\zwei\\AppData\\Local\\Temp\\ipykernel_588\\4248089460.py:19: FutureWarning: The frame.append method is deprecated and will be removed from pandas in a future version. Use pandas.concat instead.\n",
      "  results = results.append(query_data, ignore_index=True)\n",
      "C:\\Users\\zwei\\AppData\\Local\\Temp\\ipykernel_588\\4248089460.py:19: FutureWarning: The frame.append method is deprecated and will be removed from pandas in a future version. Use pandas.concat instead.\n",
      "  results = results.append(query_data, ignore_index=True)\n",
      "C:\\Users\\zwei\\AppData\\Local\\Temp\\ipykernel_588\\4248089460.py:19: FutureWarning: The frame.append method is deprecated and will be removed from pandas in a future version. Use pandas.concat instead.\n",
      "  results = results.append(query_data, ignore_index=True)\n",
      "C:\\Users\\zwei\\AppData\\Local\\Temp\\ipykernel_588\\4248089460.py:19: FutureWarning: The frame.append method is deprecated and will be removed from pandas in a future version. Use pandas.concat instead.\n",
      "  results = results.append(query_data, ignore_index=True)\n",
      "C:\\Users\\zwei\\AppData\\Local\\Temp\\ipykernel_588\\4248089460.py:19: FutureWarning: The frame.append method is deprecated and will be removed from pandas in a future version. Use pandas.concat instead.\n",
      "  results = results.append(query_data, ignore_index=True)\n",
      "C:\\Users\\zwei\\AppData\\Local\\Temp\\ipykernel_588\\4248089460.py:19: FutureWarning: The frame.append method is deprecated and will be removed from pandas in a future version. Use pandas.concat instead.\n",
      "  results = results.append(query_data, ignore_index=True)\n",
      "C:\\Users\\zwei\\AppData\\Local\\Temp\\ipykernel_588\\4248089460.py:19: FutureWarning: The frame.append method is deprecated and will be removed from pandas in a future version. Use pandas.concat instead.\n",
      "  results = results.append(query_data, ignore_index=True)\n",
      "C:\\Users\\zwei\\AppData\\Local\\Temp\\ipykernel_588\\4248089460.py:19: FutureWarning: The frame.append method is deprecated and will be removed from pandas in a future version. Use pandas.concat instead.\n",
      "  results = results.append(query_data, ignore_index=True)\n",
      "C:\\Users\\zwei\\AppData\\Local\\Temp\\ipykernel_588\\4248089460.py:19: FutureWarning: The frame.append method is deprecated and will be removed from pandas in a future version. Use pandas.concat instead.\n",
      "  results = results.append(query_data, ignore_index=True)\n",
      "C:\\Users\\zwei\\AppData\\Local\\Temp\\ipykernel_588\\4248089460.py:19: FutureWarning: The frame.append method is deprecated and will be removed from pandas in a future version. Use pandas.concat instead.\n",
      "  results = results.append(query_data, ignore_index=True)\n",
      "C:\\Users\\zwei\\AppData\\Local\\Temp\\ipykernel_588\\4248089460.py:19: FutureWarning: The frame.append method is deprecated and will be removed from pandas in a future version. Use pandas.concat instead.\n",
      "  results = results.append(query_data, ignore_index=True)\n",
      "C:\\Users\\zwei\\AppData\\Local\\Temp\\ipykernel_588\\4248089460.py:19: FutureWarning: The frame.append method is deprecated and will be removed from pandas in a future version. Use pandas.concat instead.\n",
      "  results = results.append(query_data, ignore_index=True)\n",
      "C:\\Users\\zwei\\AppData\\Local\\Temp\\ipykernel_588\\4248089460.py:19: FutureWarning: The frame.append method is deprecated and will be removed from pandas in a future version. Use pandas.concat instead.\n",
      "  results = results.append(query_data, ignore_index=True)\n",
      "C:\\Users\\zwei\\AppData\\Local\\Temp\\ipykernel_588\\4248089460.py:19: FutureWarning: The frame.append method is deprecated and will be removed from pandas in a future version. Use pandas.concat instead.\n",
      "  results = results.append(query_data, ignore_index=True)\n",
      "C:\\Users\\zwei\\AppData\\Local\\Temp\\ipykernel_588\\4248089460.py:19: FutureWarning: The frame.append method is deprecated and will be removed from pandas in a future version. Use pandas.concat instead.\n",
      "  results = results.append(query_data, ignore_index=True)\n",
      "C:\\Users\\zwei\\AppData\\Local\\Temp\\ipykernel_588\\4248089460.py:19: FutureWarning: The frame.append method is deprecated and will be removed from pandas in a future version. Use pandas.concat instead.\n",
      "  results = results.append(query_data, ignore_index=True)\n",
      "C:\\Users\\zwei\\AppData\\Local\\Temp\\ipykernel_588\\4248089460.py:19: FutureWarning: The frame.append method is deprecated and will be removed from pandas in a future version. Use pandas.concat instead.\n",
      "  results = results.append(query_data, ignore_index=True)\n",
      "C:\\Users\\zwei\\AppData\\Local\\Temp\\ipykernel_588\\4248089460.py:19: FutureWarning: The frame.append method is deprecated and will be removed from pandas in a future version. Use pandas.concat instead.\n",
      "  results = results.append(query_data, ignore_index=True)\n"
     ]
    },
    {
     "name": "stderr",
     "output_type": "stream",
     "text": [
      "C:\\Users\\zwei\\AppData\\Local\\Temp\\ipykernel_588\\4248089460.py:19: FutureWarning: The frame.append method is deprecated and will be removed from pandas in a future version. Use pandas.concat instead.\n",
      "  results = results.append(query_data, ignore_index=True)\n",
      "C:\\Users\\zwei\\AppData\\Local\\Temp\\ipykernel_588\\4248089460.py:19: FutureWarning: The frame.append method is deprecated and will be removed from pandas in a future version. Use pandas.concat instead.\n",
      "  results = results.append(query_data, ignore_index=True)\n",
      "C:\\Users\\zwei\\AppData\\Local\\Temp\\ipykernel_588\\4248089460.py:19: FutureWarning: The frame.append method is deprecated and will be removed from pandas in a future version. Use pandas.concat instead.\n",
      "  results = results.append(query_data, ignore_index=True)\n",
      "C:\\Users\\zwei\\AppData\\Local\\Temp\\ipykernel_588\\4248089460.py:19: FutureWarning: The frame.append method is deprecated and will be removed from pandas in a future version. Use pandas.concat instead.\n",
      "  results = results.append(query_data, ignore_index=True)\n",
      "C:\\Users\\zwei\\AppData\\Local\\Temp\\ipykernel_588\\4248089460.py:19: FutureWarning: The frame.append method is deprecated and will be removed from pandas in a future version. Use pandas.concat instead.\n",
      "  results = results.append(query_data, ignore_index=True)\n",
      "C:\\Users\\zwei\\AppData\\Local\\Temp\\ipykernel_588\\4248089460.py:19: FutureWarning: The frame.append method is deprecated and will be removed from pandas in a future version. Use pandas.concat instead.\n",
      "  results = results.append(query_data, ignore_index=True)\n",
      "C:\\Users\\zwei\\AppData\\Local\\Temp\\ipykernel_588\\4248089460.py:19: FutureWarning: The frame.append method is deprecated and will be removed from pandas in a future version. Use pandas.concat instead.\n",
      "  results = results.append(query_data, ignore_index=True)\n",
      "C:\\Users\\zwei\\AppData\\Local\\Temp\\ipykernel_588\\4248089460.py:19: FutureWarning: The frame.append method is deprecated and will be removed from pandas in a future version. Use pandas.concat instead.\n",
      "  results = results.append(query_data, ignore_index=True)\n",
      "C:\\Users\\zwei\\AppData\\Local\\Temp\\ipykernel_588\\4248089460.py:19: FutureWarning: The frame.append method is deprecated and will be removed from pandas in a future version. Use pandas.concat instead.\n",
      "  results = results.append(query_data, ignore_index=True)\n",
      "C:\\Users\\zwei\\AppData\\Local\\Temp\\ipykernel_588\\4248089460.py:19: FutureWarning: The frame.append method is deprecated and will be removed from pandas in a future version. Use pandas.concat instead.\n",
      "  results = results.append(query_data, ignore_index=True)\n",
      "C:\\Users\\zwei\\AppData\\Local\\Temp\\ipykernel_588\\4248089460.py:19: FutureWarning: The frame.append method is deprecated and will be removed from pandas in a future version. Use pandas.concat instead.\n",
      "  results = results.append(query_data, ignore_index=True)\n",
      "C:\\Users\\zwei\\AppData\\Local\\Temp\\ipykernel_588\\4248089460.py:19: FutureWarning: The frame.append method is deprecated and will be removed from pandas in a future version. Use pandas.concat instead.\n",
      "  results = results.append(query_data, ignore_index=True)\n",
      "C:\\Users\\zwei\\AppData\\Local\\Temp\\ipykernel_588\\4248089460.py:19: FutureWarning: The frame.append method is deprecated and will be removed from pandas in a future version. Use pandas.concat instead.\n",
      "  results = results.append(query_data, ignore_index=True)\n",
      "C:\\Users\\zwei\\AppData\\Local\\Temp\\ipykernel_588\\4248089460.py:19: FutureWarning: The frame.append method is deprecated and will be removed from pandas in a future version. Use pandas.concat instead.\n",
      "  results = results.append(query_data, ignore_index=True)\n",
      "C:\\Users\\zwei\\AppData\\Local\\Temp\\ipykernel_588\\4248089460.py:19: FutureWarning: The frame.append method is deprecated and will be removed from pandas in a future version. Use pandas.concat instead.\n",
      "  results = results.append(query_data, ignore_index=True)\n",
      "C:\\Users\\zwei\\AppData\\Local\\Temp\\ipykernel_588\\4248089460.py:19: FutureWarning: The frame.append method is deprecated and will be removed from pandas in a future version. Use pandas.concat instead.\n",
      "  results = results.append(query_data, ignore_index=True)\n",
      "C:\\Users\\zwei\\AppData\\Local\\Temp\\ipykernel_588\\4248089460.py:19: FutureWarning: The frame.append method is deprecated and will be removed from pandas in a future version. Use pandas.concat instead.\n",
      "  results = results.append(query_data, ignore_index=True)\n",
      "C:\\Users\\zwei\\AppData\\Local\\Temp\\ipykernel_588\\4248089460.py:19: FutureWarning: The frame.append method is deprecated and will be removed from pandas in a future version. Use pandas.concat instead.\n",
      "  results = results.append(query_data, ignore_index=True)\n",
      "C:\\Users\\zwei\\AppData\\Local\\Temp\\ipykernel_588\\4248089460.py:19: FutureWarning: The frame.append method is deprecated and will be removed from pandas in a future version. Use pandas.concat instead.\n",
      "  results = results.append(query_data, ignore_index=True)\n"
     ]
    },
    {
     "name": "stdout",
     "output_type": "stream",
     "text": [
      "An error occurred: 'NoneType' object does not support item assignment\n"
     ]
    },
    {
     "name": "stderr",
     "output_type": "stream",
     "text": [
      "C:\\Users\\zwei\\AppData\\Local\\Temp\\ipykernel_588\\4248089460.py:19: FutureWarning: The frame.append method is deprecated and will be removed from pandas in a future version. Use pandas.concat instead.\n",
      "  results = results.append(query_data, ignore_index=True)\n",
      "C:\\Users\\zwei\\AppData\\Local\\Temp\\ipykernel_588\\4248089460.py:19: FutureWarning: The frame.append method is deprecated and will be removed from pandas in a future version. Use pandas.concat instead.\n",
      "  results = results.append(query_data, ignore_index=True)\n",
      "C:\\Users\\zwei\\AppData\\Local\\Temp\\ipykernel_588\\4248089460.py:19: FutureWarning: The frame.append method is deprecated and will be removed from pandas in a future version. Use pandas.concat instead.\n",
      "  results = results.append(query_data, ignore_index=True)\n",
      "C:\\Users\\zwei\\AppData\\Local\\Temp\\ipykernel_588\\4248089460.py:19: FutureWarning: The frame.append method is deprecated and will be removed from pandas in a future version. Use pandas.concat instead.\n",
      "  results = results.append(query_data, ignore_index=True)\n",
      "C:\\Users\\zwei\\AppData\\Local\\Temp\\ipykernel_588\\4248089460.py:19: FutureWarning: The frame.append method is deprecated and will be removed from pandas in a future version. Use pandas.concat instead.\n",
      "  results = results.append(query_data, ignore_index=True)\n",
      "C:\\Users\\zwei\\AppData\\Local\\Temp\\ipykernel_588\\4248089460.py:19: FutureWarning: The frame.append method is deprecated and will be removed from pandas in a future version. Use pandas.concat instead.\n",
      "  results = results.append(query_data, ignore_index=True)\n",
      "C:\\Users\\zwei\\AppData\\Local\\Temp\\ipykernel_588\\4248089460.py:19: FutureWarning: The frame.append method is deprecated and will be removed from pandas in a future version. Use pandas.concat instead.\n",
      "  results = results.append(query_data, ignore_index=True)\n",
      "C:\\Users\\zwei\\AppData\\Local\\Temp\\ipykernel_588\\4248089460.py:19: FutureWarning: The frame.append method is deprecated and will be removed from pandas in a future version. Use pandas.concat instead.\n",
      "  results = results.append(query_data, ignore_index=True)\n",
      "C:\\Users\\zwei\\AppData\\Local\\Temp\\ipykernel_588\\4248089460.py:19: FutureWarning: The frame.append method is deprecated and will be removed from pandas in a future version. Use pandas.concat instead.\n",
      "  results = results.append(query_data, ignore_index=True)\n",
      "C:\\Users\\zwei\\AppData\\Local\\Temp\\ipykernel_588\\4248089460.py:19: FutureWarning: The frame.append method is deprecated and will be removed from pandas in a future version. Use pandas.concat instead.\n",
      "  results = results.append(query_data, ignore_index=True)\n",
      "C:\\Users\\zwei\\AppData\\Local\\Temp\\ipykernel_588\\4248089460.py:19: FutureWarning: The frame.append method is deprecated and will be removed from pandas in a future version. Use pandas.concat instead.\n",
      "  results = results.append(query_data, ignore_index=True)\n",
      "C:\\Users\\zwei\\AppData\\Local\\Temp\\ipykernel_588\\4248089460.py:19: FutureWarning: The frame.append method is deprecated and will be removed from pandas in a future version. Use pandas.concat instead.\n",
      "  results = results.append(query_data, ignore_index=True)\n",
      "C:\\Users\\zwei\\AppData\\Local\\Temp\\ipykernel_588\\4248089460.py:19: FutureWarning: The frame.append method is deprecated and will be removed from pandas in a future version. Use pandas.concat instead.\n",
      "  results = results.append(query_data, ignore_index=True)\n",
      "C:\\Users\\zwei\\AppData\\Local\\Temp\\ipykernel_588\\4248089460.py:19: FutureWarning: The frame.append method is deprecated and will be removed from pandas in a future version. Use pandas.concat instead.\n",
      "  results = results.append(query_data, ignore_index=True)\n",
      "C:\\Users\\zwei\\AppData\\Local\\Temp\\ipykernel_588\\4248089460.py:19: FutureWarning: The frame.append method is deprecated and will be removed from pandas in a future version. Use pandas.concat instead.\n",
      "  results = results.append(query_data, ignore_index=True)\n",
      "C:\\Users\\zwei\\AppData\\Local\\Temp\\ipykernel_588\\4248089460.py:19: FutureWarning: The frame.append method is deprecated and will be removed from pandas in a future version. Use pandas.concat instead.\n",
      "  results = results.append(query_data, ignore_index=True)\n",
      "C:\\Users\\zwei\\AppData\\Local\\Temp\\ipykernel_588\\4248089460.py:19: FutureWarning: The frame.append method is deprecated and will be removed from pandas in a future version. Use pandas.concat instead.\n",
      "  results = results.append(query_data, ignore_index=True)\n",
      "C:\\Users\\zwei\\AppData\\Local\\Temp\\ipykernel_588\\4248089460.py:19: FutureWarning: The frame.append method is deprecated and will be removed from pandas in a future version. Use pandas.concat instead.\n",
      "  results = results.append(query_data, ignore_index=True)\n",
      "C:\\Users\\zwei\\AppData\\Local\\Temp\\ipykernel_588\\4248089460.py:19: FutureWarning: The frame.append method is deprecated and will be removed from pandas in a future version. Use pandas.concat instead.\n",
      "  results = results.append(query_data, ignore_index=True)\n"
     ]
    },
    {
     "name": "stdout",
     "output_type": "stream",
     "text": [
      "An error occurred: 'NoneType' object does not support item assignment\n"
     ]
    },
    {
     "name": "stderr",
     "output_type": "stream",
     "text": [
      "C:\\Users\\zwei\\AppData\\Local\\Temp\\ipykernel_588\\4248089460.py:19: FutureWarning: The frame.append method is deprecated and will be removed from pandas in a future version. Use pandas.concat instead.\n",
      "  results = results.append(query_data, ignore_index=True)\n",
      "C:\\Users\\zwei\\AppData\\Local\\Temp\\ipykernel_588\\4248089460.py:19: FutureWarning: The frame.append method is deprecated and will be removed from pandas in a future version. Use pandas.concat instead.\n",
      "  results = results.append(query_data, ignore_index=True)\n"
     ]
    },
    {
     "name": "stdout",
     "output_type": "stream",
     "text": [
      "An error occurred: 'NoneType' object does not support item assignment\n"
     ]
    },
    {
     "name": "stderr",
     "output_type": "stream",
     "text": [
      "C:\\Users\\zwei\\AppData\\Local\\Temp\\ipykernel_588\\4248089460.py:19: FutureWarning: The frame.append method is deprecated and will be removed from pandas in a future version. Use pandas.concat instead.\n",
      "  results = results.append(query_data, ignore_index=True)\n",
      "C:\\Users\\zwei\\AppData\\Local\\Temp\\ipykernel_588\\4248089460.py:19: FutureWarning: The frame.append method is deprecated and will be removed from pandas in a future version. Use pandas.concat instead.\n",
      "  results = results.append(query_data, ignore_index=True)\n",
      "C:\\Users\\zwei\\AppData\\Local\\Temp\\ipykernel_588\\4248089460.py:19: FutureWarning: The frame.append method is deprecated and will be removed from pandas in a future version. Use pandas.concat instead.\n",
      "  results = results.append(query_data, ignore_index=True)\n",
      "C:\\Users\\zwei\\AppData\\Local\\Temp\\ipykernel_588\\4248089460.py:19: FutureWarning: The frame.append method is deprecated and will be removed from pandas in a future version. Use pandas.concat instead.\n",
      "  results = results.append(query_data, ignore_index=True)\n",
      "C:\\Users\\zwei\\AppData\\Local\\Temp\\ipykernel_588\\4248089460.py:19: FutureWarning: The frame.append method is deprecated and will be removed from pandas in a future version. Use pandas.concat instead.\n",
      "  results = results.append(query_data, ignore_index=True)\n",
      "C:\\Users\\zwei\\AppData\\Local\\Temp\\ipykernel_588\\4248089460.py:19: FutureWarning: The frame.append method is deprecated and will be removed from pandas in a future version. Use pandas.concat instead.\n",
      "  results = results.append(query_data, ignore_index=True)\n",
      "C:\\Users\\zwei\\AppData\\Local\\Temp\\ipykernel_588\\4248089460.py:19: FutureWarning: The frame.append method is deprecated and will be removed from pandas in a future version. Use pandas.concat instead.\n",
      "  results = results.append(query_data, ignore_index=True)\n",
      "C:\\Users\\zwei\\AppData\\Local\\Temp\\ipykernel_588\\4248089460.py:19: FutureWarning: The frame.append method is deprecated and will be removed from pandas in a future version. Use pandas.concat instead.\n",
      "  results = results.append(query_data, ignore_index=True)\n",
      "C:\\Users\\zwei\\AppData\\Local\\Temp\\ipykernel_588\\4248089460.py:19: FutureWarning: The frame.append method is deprecated and will be removed from pandas in a future version. Use pandas.concat instead.\n",
      "  results = results.append(query_data, ignore_index=True)\n",
      "C:\\Users\\zwei\\AppData\\Local\\Temp\\ipykernel_588\\4248089460.py:19: FutureWarning: The frame.append method is deprecated and will be removed from pandas in a future version. Use pandas.concat instead.\n",
      "  results = results.append(query_data, ignore_index=True)\n",
      "C:\\Users\\zwei\\AppData\\Local\\Temp\\ipykernel_588\\4248089460.py:19: FutureWarning: The frame.append method is deprecated and will be removed from pandas in a future version. Use pandas.concat instead.\n",
      "  results = results.append(query_data, ignore_index=True)\n",
      "C:\\Users\\zwei\\AppData\\Local\\Temp\\ipykernel_588\\4248089460.py:19: FutureWarning: The frame.append method is deprecated and will be removed from pandas in a future version. Use pandas.concat instead.\n",
      "  results = results.append(query_data, ignore_index=True)\n",
      "C:\\Users\\zwei\\AppData\\Local\\Temp\\ipykernel_588\\4248089460.py:19: FutureWarning: The frame.append method is deprecated and will be removed from pandas in a future version. Use pandas.concat instead.\n",
      "  results = results.append(query_data, ignore_index=True)\n",
      "C:\\Users\\zwei\\AppData\\Local\\Temp\\ipykernel_588\\4248089460.py:19: FutureWarning: The frame.append method is deprecated and will be removed from pandas in a future version. Use pandas.concat instead.\n",
      "  results = results.append(query_data, ignore_index=True)\n"
     ]
    },
    {
     "name": "stdout",
     "output_type": "stream",
     "text": [
      "An error occurred: The request failed: Google returned a response with code 429\n"
     ]
    },
    {
     "name": "stderr",
     "output_type": "stream",
     "text": [
      "C:\\Users\\zwei\\AppData\\Local\\Temp\\ipykernel_588\\4248089460.py:19: FutureWarning: The frame.append method is deprecated and will be removed from pandas in a future version. Use pandas.concat instead.\n",
      "  results = results.append(query_data, ignore_index=True)\n"
     ]
    },
    {
     "name": "stdout",
     "output_type": "stream",
     "text": [
      "An error occurred: 'NoneType' object does not support item assignment\n"
     ]
    },
    {
     "name": "stderr",
     "output_type": "stream",
     "text": [
      "C:\\Users\\zwei\\AppData\\Local\\Temp\\ipykernel_588\\4248089460.py:19: FutureWarning: The frame.append method is deprecated and will be removed from pandas in a future version. Use pandas.concat instead.\n",
      "  results = results.append(query_data, ignore_index=True)\n",
      "C:\\Users\\zwei\\AppData\\Local\\Temp\\ipykernel_588\\4248089460.py:19: FutureWarning: The frame.append method is deprecated and will be removed from pandas in a future version. Use pandas.concat instead.\n",
      "  results = results.append(query_data, ignore_index=True)\n",
      "C:\\Users\\zwei\\AppData\\Local\\Temp\\ipykernel_588\\4248089460.py:19: FutureWarning: The frame.append method is deprecated and will be removed from pandas in a future version. Use pandas.concat instead.\n",
      "  results = results.append(query_data, ignore_index=True)\n",
      "C:\\Users\\zwei\\AppData\\Local\\Temp\\ipykernel_588\\4248089460.py:19: FutureWarning: The frame.append method is deprecated and will be removed from pandas in a future version. Use pandas.concat instead.\n",
      "  results = results.append(query_data, ignore_index=True)\n",
      "C:\\Users\\zwei\\AppData\\Local\\Temp\\ipykernel_588\\4248089460.py:19: FutureWarning: The frame.append method is deprecated and will be removed from pandas in a future version. Use pandas.concat instead.\n",
      "  results = results.append(query_data, ignore_index=True)\n",
      "C:\\Users\\zwei\\AppData\\Local\\Temp\\ipykernel_588\\4248089460.py:19: FutureWarning: The frame.append method is deprecated and will be removed from pandas in a future version. Use pandas.concat instead.\n",
      "  results = results.append(query_data, ignore_index=True)\n",
      "C:\\Users\\zwei\\AppData\\Local\\Temp\\ipykernel_588\\4248089460.py:19: FutureWarning: The frame.append method is deprecated and will be removed from pandas in a future version. Use pandas.concat instead.\n",
      "  results = results.append(query_data, ignore_index=True)\n",
      "C:\\Users\\zwei\\AppData\\Local\\Temp\\ipykernel_588\\4248089460.py:19: FutureWarning: The frame.append method is deprecated and will be removed from pandas in a future version. Use pandas.concat instead.\n",
      "  results = results.append(query_data, ignore_index=True)\n",
      "C:\\Users\\zwei\\AppData\\Local\\Temp\\ipykernel_588\\4248089460.py:19: FutureWarning: The frame.append method is deprecated and will be removed from pandas in a future version. Use pandas.concat instead.\n",
      "  results = results.append(query_data, ignore_index=True)\n",
      "C:\\Users\\zwei\\AppData\\Local\\Temp\\ipykernel_588\\4248089460.py:19: FutureWarning: The frame.append method is deprecated and will be removed from pandas in a future version. Use pandas.concat instead.\n",
      "  results = results.append(query_data, ignore_index=True)\n",
      "C:\\Users\\zwei\\AppData\\Local\\Temp\\ipykernel_588\\4248089460.py:19: FutureWarning: The frame.append method is deprecated and will be removed from pandas in a future version. Use pandas.concat instead.\n",
      "  results = results.append(query_data, ignore_index=True)\n",
      "C:\\Users\\zwei\\AppData\\Local\\Temp\\ipykernel_588\\4248089460.py:19: FutureWarning: The frame.append method is deprecated and will be removed from pandas in a future version. Use pandas.concat instead.\n",
      "  results = results.append(query_data, ignore_index=True)\n",
      "C:\\Users\\zwei\\AppData\\Local\\Temp\\ipykernel_588\\4248089460.py:19: FutureWarning: The frame.append method is deprecated and will be removed from pandas in a future version. Use pandas.concat instead.\n",
      "  results = results.append(query_data, ignore_index=True)\n",
      "C:\\Users\\zwei\\AppData\\Local\\Temp\\ipykernel_588\\4248089460.py:19: FutureWarning: The frame.append method is deprecated and will be removed from pandas in a future version. Use pandas.concat instead.\n",
      "  results = results.append(query_data, ignore_index=True)\n",
      "C:\\Users\\zwei\\AppData\\Local\\Temp\\ipykernel_588\\4248089460.py:19: FutureWarning: The frame.append method is deprecated and will be removed from pandas in a future version. Use pandas.concat instead.\n",
      "  results = results.append(query_data, ignore_index=True)\n",
      "C:\\Users\\zwei\\AppData\\Local\\Temp\\ipykernel_588\\4248089460.py:19: FutureWarning: The frame.append method is deprecated and will be removed from pandas in a future version. Use pandas.concat instead.\n",
      "  results = results.append(query_data, ignore_index=True)\n",
      "C:\\Users\\zwei\\AppData\\Local\\Temp\\ipykernel_588\\4248089460.py:19: FutureWarning: The frame.append method is deprecated and will be removed from pandas in a future version. Use pandas.concat instead.\n",
      "  results = results.append(query_data, ignore_index=True)\n",
      "C:\\Users\\zwei\\AppData\\Local\\Temp\\ipykernel_588\\4248089460.py:19: FutureWarning: The frame.append method is deprecated and will be removed from pandas in a future version. Use pandas.concat instead.\n",
      "  results = results.append(query_data, ignore_index=True)\n",
      "C:\\Users\\zwei\\AppData\\Local\\Temp\\ipykernel_588\\4248089460.py:19: FutureWarning: The frame.append method is deprecated and will be removed from pandas in a future version. Use pandas.concat instead.\n",
      "  results = results.append(query_data, ignore_index=True)\n",
      "C:\\Users\\zwei\\AppData\\Local\\Temp\\ipykernel_588\\4248089460.py:19: FutureWarning: The frame.append method is deprecated and will be removed from pandas in a future version. Use pandas.concat instead.\n",
      "  results = results.append(query_data, ignore_index=True)\n",
      "C:\\Users\\zwei\\AppData\\Local\\Temp\\ipykernel_588\\4248089460.py:19: FutureWarning: The frame.append method is deprecated and will be removed from pandas in a future version. Use pandas.concat instead.\n",
      "  results = results.append(query_data, ignore_index=True)\n",
      "C:\\Users\\zwei\\AppData\\Local\\Temp\\ipykernel_588\\4248089460.py:19: FutureWarning: The frame.append method is deprecated and will be removed from pandas in a future version. Use pandas.concat instead.\n",
      "  results = results.append(query_data, ignore_index=True)\n",
      "C:\\Users\\zwei\\AppData\\Local\\Temp\\ipykernel_588\\4248089460.py:19: FutureWarning: The frame.append method is deprecated and will be removed from pandas in a future version. Use pandas.concat instead.\n",
      "  results = results.append(query_data, ignore_index=True)\n",
      "C:\\Users\\zwei\\AppData\\Local\\Temp\\ipykernel_588\\4248089460.py:19: FutureWarning: The frame.append method is deprecated and will be removed from pandas in a future version. Use pandas.concat instead.\n",
      "  results = results.append(query_data, ignore_index=True)\n",
      "C:\\Users\\zwei\\AppData\\Local\\Temp\\ipykernel_588\\4248089460.py:19: FutureWarning: The frame.append method is deprecated and will be removed from pandas in a future version. Use pandas.concat instead.\n",
      "  results = results.append(query_data, ignore_index=True)\n",
      "C:\\Users\\zwei\\AppData\\Local\\Temp\\ipykernel_588\\4248089460.py:19: FutureWarning: The frame.append method is deprecated and will be removed from pandas in a future version. Use pandas.concat instead.\n",
      "  results = results.append(query_data, ignore_index=True)\n",
      "C:\\Users\\zwei\\AppData\\Local\\Temp\\ipykernel_588\\4248089460.py:19: FutureWarning: The frame.append method is deprecated and will be removed from pandas in a future version. Use pandas.concat instead.\n",
      "  results = results.append(query_data, ignore_index=True)\n",
      "C:\\Users\\zwei\\AppData\\Local\\Temp\\ipykernel_588\\4248089460.py:19: FutureWarning: The frame.append method is deprecated and will be removed from pandas in a future version. Use pandas.concat instead.\n",
      "  results = results.append(query_data, ignore_index=True)\n",
      "C:\\Users\\zwei\\AppData\\Local\\Temp\\ipykernel_588\\4248089460.py:19: FutureWarning: The frame.append method is deprecated and will be removed from pandas in a future version. Use pandas.concat instead.\n",
      "  results = results.append(query_data, ignore_index=True)\n",
      "C:\\Users\\zwei\\AppData\\Local\\Temp\\ipykernel_588\\4248089460.py:19: FutureWarning: The frame.append method is deprecated and will be removed from pandas in a future version. Use pandas.concat instead.\n",
      "  results = results.append(query_data, ignore_index=True)\n",
      "C:\\Users\\zwei\\AppData\\Local\\Temp\\ipykernel_588\\4248089460.py:19: FutureWarning: The frame.append method is deprecated and will be removed from pandas in a future version. Use pandas.concat instead.\n",
      "  results = results.append(query_data, ignore_index=True)\n",
      "C:\\Users\\zwei\\AppData\\Local\\Temp\\ipykernel_588\\4248089460.py:19: FutureWarning: The frame.append method is deprecated and will be removed from pandas in a future version. Use pandas.concat instead.\n",
      "  results = results.append(query_data, ignore_index=True)\n",
      "C:\\Users\\zwei\\AppData\\Local\\Temp\\ipykernel_588\\4248089460.py:19: FutureWarning: The frame.append method is deprecated and will be removed from pandas in a future version. Use pandas.concat instead.\n",
      "  results = results.append(query_data, ignore_index=True)\n",
      "C:\\Users\\zwei\\AppData\\Local\\Temp\\ipykernel_588\\4248089460.py:19: FutureWarning: The frame.append method is deprecated and will be removed from pandas in a future version. Use pandas.concat instead.\n",
      "  results = results.append(query_data, ignore_index=True)\n"
     ]
    },
    {
     "name": "stderr",
     "output_type": "stream",
     "text": [
      "C:\\Users\\zwei\\AppData\\Local\\Temp\\ipykernel_588\\4248089460.py:19: FutureWarning: The frame.append method is deprecated and will be removed from pandas in a future version. Use pandas.concat instead.\n",
      "  results = results.append(query_data, ignore_index=True)\n",
      "C:\\Users\\zwei\\AppData\\Local\\Temp\\ipykernel_588\\4248089460.py:19: FutureWarning: The frame.append method is deprecated and will be removed from pandas in a future version. Use pandas.concat instead.\n",
      "  results = results.append(query_data, ignore_index=True)\n",
      "C:\\Users\\zwei\\AppData\\Local\\Temp\\ipykernel_588\\4248089460.py:19: FutureWarning: The frame.append method is deprecated and will be removed from pandas in a future version. Use pandas.concat instead.\n",
      "  results = results.append(query_data, ignore_index=True)\n",
      "C:\\Users\\zwei\\AppData\\Local\\Temp\\ipykernel_588\\4248089460.py:19: FutureWarning: The frame.append method is deprecated and will be removed from pandas in a future version. Use pandas.concat instead.\n",
      "  results = results.append(query_data, ignore_index=True)\n",
      "C:\\Users\\zwei\\AppData\\Local\\Temp\\ipykernel_588\\4248089460.py:19: FutureWarning: The frame.append method is deprecated and will be removed from pandas in a future version. Use pandas.concat instead.\n",
      "  results = results.append(query_data, ignore_index=True)\n",
      "C:\\Users\\zwei\\AppData\\Local\\Temp\\ipykernel_588\\4248089460.py:19: FutureWarning: The frame.append method is deprecated and will be removed from pandas in a future version. Use pandas.concat instead.\n",
      "  results = results.append(query_data, ignore_index=True)\n",
      "C:\\Users\\zwei\\AppData\\Local\\Temp\\ipykernel_588\\4248089460.py:19: FutureWarning: The frame.append method is deprecated and will be removed from pandas in a future version. Use pandas.concat instead.\n",
      "  results = results.append(query_data, ignore_index=True)\n",
      "C:\\Users\\zwei\\AppData\\Local\\Temp\\ipykernel_588\\4248089460.py:19: FutureWarning: The frame.append method is deprecated and will be removed from pandas in a future version. Use pandas.concat instead.\n",
      "  results = results.append(query_data, ignore_index=True)\n",
      "C:\\Users\\zwei\\AppData\\Local\\Temp\\ipykernel_588\\4248089460.py:19: FutureWarning: The frame.append method is deprecated and will be removed from pandas in a future version. Use pandas.concat instead.\n",
      "  results = results.append(query_data, ignore_index=True)\n",
      "C:\\Users\\zwei\\AppData\\Local\\Temp\\ipykernel_588\\4248089460.py:19: FutureWarning: The frame.append method is deprecated and will be removed from pandas in a future version. Use pandas.concat instead.\n",
      "  results = results.append(query_data, ignore_index=True)\n",
      "C:\\Users\\zwei\\AppData\\Local\\Temp\\ipykernel_588\\4248089460.py:19: FutureWarning: The frame.append method is deprecated and will be removed from pandas in a future version. Use pandas.concat instead.\n",
      "  results = results.append(query_data, ignore_index=True)\n",
      "C:\\Users\\zwei\\AppData\\Local\\Temp\\ipykernel_588\\4248089460.py:19: FutureWarning: The frame.append method is deprecated and will be removed from pandas in a future version. Use pandas.concat instead.\n",
      "  results = results.append(query_data, ignore_index=True)\n",
      "C:\\Users\\zwei\\AppData\\Local\\Temp\\ipykernel_588\\4248089460.py:19: FutureWarning: The frame.append method is deprecated and will be removed from pandas in a future version. Use pandas.concat instead.\n",
      "  results = results.append(query_data, ignore_index=True)\n",
      "C:\\Users\\zwei\\AppData\\Local\\Temp\\ipykernel_588\\4248089460.py:19: FutureWarning: The frame.append method is deprecated and will be removed from pandas in a future version. Use pandas.concat instead.\n",
      "  results = results.append(query_data, ignore_index=True)\n",
      "C:\\Users\\zwei\\AppData\\Local\\Temp\\ipykernel_588\\4248089460.py:19: FutureWarning: The frame.append method is deprecated and will be removed from pandas in a future version. Use pandas.concat instead.\n",
      "  results = results.append(query_data, ignore_index=True)\n",
      "C:\\Users\\zwei\\AppData\\Local\\Temp\\ipykernel_588\\4248089460.py:19: FutureWarning: The frame.append method is deprecated and will be removed from pandas in a future version. Use pandas.concat instead.\n",
      "  results = results.append(query_data, ignore_index=True)\n",
      "C:\\Users\\zwei\\AppData\\Local\\Temp\\ipykernel_588\\4248089460.py:19: FutureWarning: The frame.append method is deprecated and will be removed from pandas in a future version. Use pandas.concat instead.\n",
      "  results = results.append(query_data, ignore_index=True)\n"
     ]
    },
    {
     "name": "stdout",
     "output_type": "stream",
     "text": [
      "An error occurred: 'NoneType' object does not support item assignment\n"
     ]
    },
    {
     "name": "stderr",
     "output_type": "stream",
     "text": [
      "C:\\Users\\zwei\\AppData\\Local\\Temp\\ipykernel_588\\4248089460.py:19: FutureWarning: The frame.append method is deprecated and will be removed from pandas in a future version. Use pandas.concat instead.\n",
      "  results = results.append(query_data, ignore_index=True)\n"
     ]
    },
    {
     "name": "stdout",
     "output_type": "stream",
     "text": [
      "An error occurred: 'NoneType' object does not support item assignment\n"
     ]
    },
    {
     "name": "stderr",
     "output_type": "stream",
     "text": [
      "C:\\Users\\zwei\\AppData\\Local\\Temp\\ipykernel_588\\4248089460.py:19: FutureWarning: The frame.append method is deprecated and will be removed from pandas in a future version. Use pandas.concat instead.\n",
      "  results = results.append(query_data, ignore_index=True)\n",
      "C:\\Users\\zwei\\AppData\\Local\\Temp\\ipykernel_588\\4248089460.py:19: FutureWarning: The frame.append method is deprecated and will be removed from pandas in a future version. Use pandas.concat instead.\n",
      "  results = results.append(query_data, ignore_index=True)\n",
      "C:\\Users\\zwei\\AppData\\Local\\Temp\\ipykernel_588\\4248089460.py:19: FutureWarning: The frame.append method is deprecated and will be removed from pandas in a future version. Use pandas.concat instead.\n",
      "  results = results.append(query_data, ignore_index=True)\n",
      "C:\\Users\\zwei\\AppData\\Local\\Temp\\ipykernel_588\\4248089460.py:19: FutureWarning: The frame.append method is deprecated and will be removed from pandas in a future version. Use pandas.concat instead.\n",
      "  results = results.append(query_data, ignore_index=True)\n",
      "C:\\Users\\zwei\\AppData\\Local\\Temp\\ipykernel_588\\4248089460.py:19: FutureWarning: The frame.append method is deprecated and will be removed from pandas in a future version. Use pandas.concat instead.\n",
      "  results = results.append(query_data, ignore_index=True)\n",
      "C:\\Users\\zwei\\AppData\\Local\\Temp\\ipykernel_588\\4248089460.py:19: FutureWarning: The frame.append method is deprecated and will be removed from pandas in a future version. Use pandas.concat instead.\n",
      "  results = results.append(query_data, ignore_index=True)\n",
      "C:\\Users\\zwei\\AppData\\Local\\Temp\\ipykernel_588\\4248089460.py:19: FutureWarning: The frame.append method is deprecated and will be removed from pandas in a future version. Use pandas.concat instead.\n",
      "  results = results.append(query_data, ignore_index=True)\n",
      "C:\\Users\\zwei\\AppData\\Local\\Temp\\ipykernel_588\\4248089460.py:19: FutureWarning: The frame.append method is deprecated and will be removed from pandas in a future version. Use pandas.concat instead.\n",
      "  results = results.append(query_data, ignore_index=True)\n",
      "C:\\Users\\zwei\\AppData\\Local\\Temp\\ipykernel_588\\4248089460.py:19: FutureWarning: The frame.append method is deprecated and will be removed from pandas in a future version. Use pandas.concat instead.\n",
      "  results = results.append(query_data, ignore_index=True)\n",
      "C:\\Users\\zwei\\AppData\\Local\\Temp\\ipykernel_588\\4248089460.py:19: FutureWarning: The frame.append method is deprecated and will be removed from pandas in a future version. Use pandas.concat instead.\n",
      "  results = results.append(query_data, ignore_index=True)\n",
      "C:\\Users\\zwei\\AppData\\Local\\Temp\\ipykernel_588\\4248089460.py:19: FutureWarning: The frame.append method is deprecated and will be removed from pandas in a future version. Use pandas.concat instead.\n",
      "  results = results.append(query_data, ignore_index=True)\n",
      "C:\\Users\\zwei\\AppData\\Local\\Temp\\ipykernel_588\\4248089460.py:19: FutureWarning: The frame.append method is deprecated and will be removed from pandas in a future version. Use pandas.concat instead.\n",
      "  results = results.append(query_data, ignore_index=True)\n",
      "C:\\Users\\zwei\\AppData\\Local\\Temp\\ipykernel_588\\4248089460.py:19: FutureWarning: The frame.append method is deprecated and will be removed from pandas in a future version. Use pandas.concat instead.\n",
      "  results = results.append(query_data, ignore_index=True)\n",
      "C:\\Users\\zwei\\AppData\\Local\\Temp\\ipykernel_588\\4248089460.py:19: FutureWarning: The frame.append method is deprecated and will be removed from pandas in a future version. Use pandas.concat instead.\n",
      "  results = results.append(query_data, ignore_index=True)\n",
      "C:\\Users\\zwei\\AppData\\Local\\Temp\\ipykernel_588\\4248089460.py:19: FutureWarning: The frame.append method is deprecated and will be removed from pandas in a future version. Use pandas.concat instead.\n",
      "  results = results.append(query_data, ignore_index=True)\n",
      "C:\\Users\\zwei\\AppData\\Local\\Temp\\ipykernel_588\\4248089460.py:19: FutureWarning: The frame.append method is deprecated and will be removed from pandas in a future version. Use pandas.concat instead.\n",
      "  results = results.append(query_data, ignore_index=True)\n",
      "C:\\Users\\zwei\\AppData\\Local\\Temp\\ipykernel_588\\4248089460.py:19: FutureWarning: The frame.append method is deprecated and will be removed from pandas in a future version. Use pandas.concat instead.\n",
      "  results = results.append(query_data, ignore_index=True)\n",
      "C:\\Users\\zwei\\AppData\\Local\\Temp\\ipykernel_588\\4248089460.py:19: FutureWarning: The frame.append method is deprecated and will be removed from pandas in a future version. Use pandas.concat instead.\n",
      "  results = results.append(query_data, ignore_index=True)\n",
      "C:\\Users\\zwei\\AppData\\Local\\Temp\\ipykernel_588\\4248089460.py:19: FutureWarning: The frame.append method is deprecated and will be removed from pandas in a future version. Use pandas.concat instead.\n",
      "  results = results.append(query_data, ignore_index=True)\n",
      "C:\\Users\\zwei\\AppData\\Local\\Temp\\ipykernel_588\\4248089460.py:19: FutureWarning: The frame.append method is deprecated and will be removed from pandas in a future version. Use pandas.concat instead.\n",
      "  results = results.append(query_data, ignore_index=True)\n",
      "C:\\Users\\zwei\\AppData\\Local\\Temp\\ipykernel_588\\4248089460.py:19: FutureWarning: The frame.append method is deprecated and will be removed from pandas in a future version. Use pandas.concat instead.\n",
      "  results = results.append(query_data, ignore_index=True)\n",
      "C:\\Users\\zwei\\AppData\\Local\\Temp\\ipykernel_588\\4248089460.py:19: FutureWarning: The frame.append method is deprecated and will be removed from pandas in a future version. Use pandas.concat instead.\n",
      "  results = results.append(query_data, ignore_index=True)\n",
      "C:\\Users\\zwei\\AppData\\Local\\Temp\\ipykernel_588\\4248089460.py:19: FutureWarning: The frame.append method is deprecated and will be removed from pandas in a future version. Use pandas.concat instead.\n",
      "  results = results.append(query_data, ignore_index=True)\n",
      "C:\\Users\\zwei\\AppData\\Local\\Temp\\ipykernel_588\\4248089460.py:19: FutureWarning: The frame.append method is deprecated and will be removed from pandas in a future version. Use pandas.concat instead.\n",
      "  results = results.append(query_data, ignore_index=True)\n",
      "C:\\Users\\zwei\\AppData\\Local\\Temp\\ipykernel_588\\4248089460.py:19: FutureWarning: The frame.append method is deprecated and will be removed from pandas in a future version. Use pandas.concat instead.\n",
      "  results = results.append(query_data, ignore_index=True)\n",
      "C:\\Users\\zwei\\AppData\\Local\\Temp\\ipykernel_588\\4248089460.py:19: FutureWarning: The frame.append method is deprecated and will be removed from pandas in a future version. Use pandas.concat instead.\n",
      "  results = results.append(query_data, ignore_index=True)\n",
      "C:\\Users\\zwei\\AppData\\Local\\Temp\\ipykernel_588\\4248089460.py:19: FutureWarning: The frame.append method is deprecated and will be removed from pandas in a future version. Use pandas.concat instead.\n",
      "  results = results.append(query_data, ignore_index=True)\n"
     ]
    },
    {
     "name": "stdout",
     "output_type": "stream",
     "text": [
      "An error occurred: 'NoneType' object does not support item assignment\n"
     ]
    },
    {
     "name": "stderr",
     "output_type": "stream",
     "text": [
      "C:\\Users\\zwei\\AppData\\Local\\Temp\\ipykernel_588\\4248089460.py:19: FutureWarning: The frame.append method is deprecated and will be removed from pandas in a future version. Use pandas.concat instead.\n",
      "  results = results.append(query_data, ignore_index=True)\n",
      "C:\\Users\\zwei\\AppData\\Local\\Temp\\ipykernel_588\\4248089460.py:19: FutureWarning: The frame.append method is deprecated and will be removed from pandas in a future version. Use pandas.concat instead.\n",
      "  results = results.append(query_data, ignore_index=True)\n",
      "C:\\Users\\zwei\\AppData\\Local\\Temp\\ipykernel_588\\4248089460.py:19: FutureWarning: The frame.append method is deprecated and will be removed from pandas in a future version. Use pandas.concat instead.\n",
      "  results = results.append(query_data, ignore_index=True)\n",
      "C:\\Users\\zwei\\AppData\\Local\\Temp\\ipykernel_588\\4248089460.py:19: FutureWarning: The frame.append method is deprecated and will be removed from pandas in a future version. Use pandas.concat instead.\n",
      "  results = results.append(query_data, ignore_index=True)\n",
      "C:\\Users\\zwei\\AppData\\Local\\Temp\\ipykernel_588\\4248089460.py:19: FutureWarning: The frame.append method is deprecated and will be removed from pandas in a future version. Use pandas.concat instead.\n",
      "  results = results.append(query_data, ignore_index=True)\n",
      "C:\\Users\\zwei\\AppData\\Local\\Temp\\ipykernel_588\\4248089460.py:19: FutureWarning: The frame.append method is deprecated and will be removed from pandas in a future version. Use pandas.concat instead.\n",
      "  results = results.append(query_data, ignore_index=True)\n"
     ]
    },
    {
     "name": "stdout",
     "output_type": "stream",
     "text": [
      "An error occurred: 'NoneType' object does not support item assignment\n"
     ]
    },
    {
     "name": "stderr",
     "output_type": "stream",
     "text": [
      "C:\\Users\\zwei\\AppData\\Local\\Temp\\ipykernel_588\\4248089460.py:19: FutureWarning: The frame.append method is deprecated and will be removed from pandas in a future version. Use pandas.concat instead.\n",
      "  results = results.append(query_data, ignore_index=True)\n",
      "C:\\Users\\zwei\\AppData\\Local\\Temp\\ipykernel_588\\4248089460.py:19: FutureWarning: The frame.append method is deprecated and will be removed from pandas in a future version. Use pandas.concat instead.\n",
      "  results = results.append(query_data, ignore_index=True)\n",
      "C:\\Users\\zwei\\AppData\\Local\\Temp\\ipykernel_588\\4248089460.py:19: FutureWarning: The frame.append method is deprecated and will be removed from pandas in a future version. Use pandas.concat instead.\n",
      "  results = results.append(query_data, ignore_index=True)\n",
      "C:\\Users\\zwei\\AppData\\Local\\Temp\\ipykernel_588\\4248089460.py:19: FutureWarning: The frame.append method is deprecated and will be removed from pandas in a future version. Use pandas.concat instead.\n",
      "  results = results.append(query_data, ignore_index=True)\n",
      "C:\\Users\\zwei\\AppData\\Local\\Temp\\ipykernel_588\\4248089460.py:19: FutureWarning: The frame.append method is deprecated and will be removed from pandas in a future version. Use pandas.concat instead.\n",
      "  results = results.append(query_data, ignore_index=True)\n",
      "C:\\Users\\zwei\\AppData\\Local\\Temp\\ipykernel_588\\4248089460.py:19: FutureWarning: The frame.append method is deprecated and will be removed from pandas in a future version. Use pandas.concat instead.\n",
      "  results = results.append(query_data, ignore_index=True)\n",
      "C:\\Users\\zwei\\AppData\\Local\\Temp\\ipykernel_588\\4248089460.py:19: FutureWarning: The frame.append method is deprecated and will be removed from pandas in a future version. Use pandas.concat instead.\n",
      "  results = results.append(query_data, ignore_index=True)\n",
      "C:\\Users\\zwei\\AppData\\Local\\Temp\\ipykernel_588\\4248089460.py:19: FutureWarning: The frame.append method is deprecated and will be removed from pandas in a future version. Use pandas.concat instead.\n",
      "  results = results.append(query_data, ignore_index=True)\n"
     ]
    },
    {
     "name": "stdout",
     "output_type": "stream",
     "text": [
      "An error occurred: 'NoneType' object does not support item assignment\n"
     ]
    },
    {
     "name": "stderr",
     "output_type": "stream",
     "text": [
      "C:\\Users\\zwei\\AppData\\Local\\Temp\\ipykernel_588\\4248089460.py:19: FutureWarning: The frame.append method is deprecated and will be removed from pandas in a future version. Use pandas.concat instead.\n",
      "  results = results.append(query_data, ignore_index=True)\n",
      "C:\\Users\\zwei\\AppData\\Local\\Temp\\ipykernel_588\\4248089460.py:19: FutureWarning: The frame.append method is deprecated and will be removed from pandas in a future version. Use pandas.concat instead.\n",
      "  results = results.append(query_data, ignore_index=True)\n",
      "C:\\Users\\zwei\\AppData\\Local\\Temp\\ipykernel_588\\4248089460.py:19: FutureWarning: The frame.append method is deprecated and will be removed from pandas in a future version. Use pandas.concat instead.\n",
      "  results = results.append(query_data, ignore_index=True)\n",
      "C:\\Users\\zwei\\AppData\\Local\\Temp\\ipykernel_588\\4248089460.py:19: FutureWarning: The frame.append method is deprecated and will be removed from pandas in a future version. Use pandas.concat instead.\n",
      "  results = results.append(query_data, ignore_index=True)\n",
      "C:\\Users\\zwei\\AppData\\Local\\Temp\\ipykernel_588\\4248089460.py:19: FutureWarning: The frame.append method is deprecated and will be removed from pandas in a future version. Use pandas.concat instead.\n",
      "  results = results.append(query_data, ignore_index=True)\n",
      "C:\\Users\\zwei\\AppData\\Local\\Temp\\ipykernel_588\\4248089460.py:19: FutureWarning: The frame.append method is deprecated and will be removed from pandas in a future version. Use pandas.concat instead.\n",
      "  results = results.append(query_data, ignore_index=True)\n",
      "C:\\Users\\zwei\\AppData\\Local\\Temp\\ipykernel_588\\4248089460.py:19: FutureWarning: The frame.append method is deprecated and will be removed from pandas in a future version. Use pandas.concat instead.\n",
      "  results = results.append(query_data, ignore_index=True)\n",
      "C:\\Users\\zwei\\AppData\\Local\\Temp\\ipykernel_588\\4248089460.py:19: FutureWarning: The frame.append method is deprecated and will be removed from pandas in a future version. Use pandas.concat instead.\n",
      "  results = results.append(query_data, ignore_index=True)\n",
      "C:\\Users\\zwei\\AppData\\Local\\Temp\\ipykernel_588\\4248089460.py:19: FutureWarning: The frame.append method is deprecated and will be removed from pandas in a future version. Use pandas.concat instead.\n",
      "  results = results.append(query_data, ignore_index=True)\n",
      "C:\\Users\\zwei\\AppData\\Local\\Temp\\ipykernel_588\\4248089460.py:19: FutureWarning: The frame.append method is deprecated and will be removed from pandas in a future version. Use pandas.concat instead.\n",
      "  results = results.append(query_data, ignore_index=True)\n",
      "C:\\Users\\zwei\\AppData\\Local\\Temp\\ipykernel_588\\4248089460.py:19: FutureWarning: The frame.append method is deprecated and will be removed from pandas in a future version. Use pandas.concat instead.\n",
      "  results = results.append(query_data, ignore_index=True)\n",
      "C:\\Users\\zwei\\AppData\\Local\\Temp\\ipykernel_588\\4248089460.py:19: FutureWarning: The frame.append method is deprecated and will be removed from pandas in a future version. Use pandas.concat instead.\n",
      "  results = results.append(query_data, ignore_index=True)\n",
      "C:\\Users\\zwei\\AppData\\Local\\Temp\\ipykernel_588\\4248089460.py:19: FutureWarning: The frame.append method is deprecated and will be removed from pandas in a future version. Use pandas.concat instead.\n",
      "  results = results.append(query_data, ignore_index=True)\n",
      "C:\\Users\\zwei\\AppData\\Local\\Temp\\ipykernel_588\\4248089460.py:19: FutureWarning: The frame.append method is deprecated and will be removed from pandas in a future version. Use pandas.concat instead.\n",
      "  results = results.append(query_data, ignore_index=True)\n",
      "C:\\Users\\zwei\\AppData\\Local\\Temp\\ipykernel_588\\4248089460.py:19: FutureWarning: The frame.append method is deprecated and will be removed from pandas in a future version. Use pandas.concat instead.\n",
      "  results = results.append(query_data, ignore_index=True)\n",
      "C:\\Users\\zwei\\AppData\\Local\\Temp\\ipykernel_588\\4248089460.py:19: FutureWarning: The frame.append method is deprecated and will be removed from pandas in a future version. Use pandas.concat instead.\n",
      "  results = results.append(query_data, ignore_index=True)\n",
      "C:\\Users\\zwei\\AppData\\Local\\Temp\\ipykernel_588\\4248089460.py:19: FutureWarning: The frame.append method is deprecated and will be removed from pandas in a future version. Use pandas.concat instead.\n",
      "  results = results.append(query_data, ignore_index=True)\n",
      "C:\\Users\\zwei\\AppData\\Local\\Temp\\ipykernel_588\\4248089460.py:19: FutureWarning: The frame.append method is deprecated and will be removed from pandas in a future version. Use pandas.concat instead.\n",
      "  results = results.append(query_data, ignore_index=True)\n",
      "C:\\Users\\zwei\\AppData\\Local\\Temp\\ipykernel_588\\4248089460.py:19: FutureWarning: The frame.append method is deprecated and will be removed from pandas in a future version. Use pandas.concat instead.\n",
      "  results = results.append(query_data, ignore_index=True)\n",
      "C:\\Users\\zwei\\AppData\\Local\\Temp\\ipykernel_588\\4248089460.py:19: FutureWarning: The frame.append method is deprecated and will be removed from pandas in a future version. Use pandas.concat instead.\n",
      "  results = results.append(query_data, ignore_index=True)\n",
      "C:\\Users\\zwei\\AppData\\Local\\Temp\\ipykernel_588\\4248089460.py:19: FutureWarning: The frame.append method is deprecated and will be removed from pandas in a future version. Use pandas.concat instead.\n",
      "  results = results.append(query_data, ignore_index=True)\n",
      "C:\\Users\\zwei\\AppData\\Local\\Temp\\ipykernel_588\\4248089460.py:19: FutureWarning: The frame.append method is deprecated and will be removed from pandas in a future version. Use pandas.concat instead.\n",
      "  results = results.append(query_data, ignore_index=True)\n",
      "C:\\Users\\zwei\\AppData\\Local\\Temp\\ipykernel_588\\4248089460.py:19: FutureWarning: The frame.append method is deprecated and will be removed from pandas in a future version. Use pandas.concat instead.\n",
      "  results = results.append(query_data, ignore_index=True)\n",
      "C:\\Users\\zwei\\AppData\\Local\\Temp\\ipykernel_588\\4248089460.py:19: FutureWarning: The frame.append method is deprecated and will be removed from pandas in a future version. Use pandas.concat instead.\n",
      "  results = results.append(query_data, ignore_index=True)\n",
      "C:\\Users\\zwei\\AppData\\Local\\Temp\\ipykernel_588\\4248089460.py:19: FutureWarning: The frame.append method is deprecated and will be removed from pandas in a future version. Use pandas.concat instead.\n",
      "  results = results.append(query_data, ignore_index=True)\n",
      "C:\\Users\\zwei\\AppData\\Local\\Temp\\ipykernel_588\\4248089460.py:19: FutureWarning: The frame.append method is deprecated and will be removed from pandas in a future version. Use pandas.concat instead.\n",
      "  results = results.append(query_data, ignore_index=True)\n",
      "C:\\Users\\zwei\\AppData\\Local\\Temp\\ipykernel_588\\4248089460.py:19: FutureWarning: The frame.append method is deprecated and will be removed from pandas in a future version. Use pandas.concat instead.\n",
      "  results = results.append(query_data, ignore_index=True)\n",
      "C:\\Users\\zwei\\AppData\\Local\\Temp\\ipykernel_588\\4248089460.py:19: FutureWarning: The frame.append method is deprecated and will be removed from pandas in a future version. Use pandas.concat instead.\n",
      "  results = results.append(query_data, ignore_index=True)\n",
      "C:\\Users\\zwei\\AppData\\Local\\Temp\\ipykernel_588\\4248089460.py:19: FutureWarning: The frame.append method is deprecated and will be removed from pandas in a future version. Use pandas.concat instead.\n",
      "  results = results.append(query_data, ignore_index=True)\n",
      "C:\\Users\\zwei\\AppData\\Local\\Temp\\ipykernel_588\\4248089460.py:19: FutureWarning: The frame.append method is deprecated and will be removed from pandas in a future version. Use pandas.concat instead.\n",
      "  results = results.append(query_data, ignore_index=True)\n",
      "C:\\Users\\zwei\\AppData\\Local\\Temp\\ipykernel_588\\4248089460.py:19: FutureWarning: The frame.append method is deprecated and will be removed from pandas in a future version. Use pandas.concat instead.\n",
      "  results = results.append(query_data, ignore_index=True)\n",
      "C:\\Users\\zwei\\AppData\\Local\\Temp\\ipykernel_588\\4248089460.py:19: FutureWarning: The frame.append method is deprecated and will be removed from pandas in a future version. Use pandas.concat instead.\n",
      "  results = results.append(query_data, ignore_index=True)\n",
      "C:\\Users\\zwei\\AppData\\Local\\Temp\\ipykernel_588\\4248089460.py:19: FutureWarning: The frame.append method is deprecated and will be removed from pandas in a future version. Use pandas.concat instead.\n",
      "  results = results.append(query_data, ignore_index=True)\n",
      "C:\\Users\\zwei\\AppData\\Local\\Temp\\ipykernel_588\\4248089460.py:19: FutureWarning: The frame.append method is deprecated and will be removed from pandas in a future version. Use pandas.concat instead.\n",
      "  results = results.append(query_data, ignore_index=True)\n"
     ]
    },
    {
     "name": "stderr",
     "output_type": "stream",
     "text": [
      "C:\\Users\\zwei\\AppData\\Local\\Temp\\ipykernel_588\\4248089460.py:19: FutureWarning: The frame.append method is deprecated and will be removed from pandas in a future version. Use pandas.concat instead.\n",
      "  results = results.append(query_data, ignore_index=True)\n",
      "C:\\Users\\zwei\\AppData\\Local\\Temp\\ipykernel_588\\4248089460.py:19: FutureWarning: The frame.append method is deprecated and will be removed from pandas in a future version. Use pandas.concat instead.\n",
      "  results = results.append(query_data, ignore_index=True)\n",
      "C:\\Users\\zwei\\AppData\\Local\\Temp\\ipykernel_588\\4248089460.py:19: FutureWarning: The frame.append method is deprecated and will be removed from pandas in a future version. Use pandas.concat instead.\n",
      "  results = results.append(query_data, ignore_index=True)\n",
      "C:\\Users\\zwei\\AppData\\Local\\Temp\\ipykernel_588\\4248089460.py:19: FutureWarning: The frame.append method is deprecated and will be removed from pandas in a future version. Use pandas.concat instead.\n",
      "  results = results.append(query_data, ignore_index=True)\n",
      "C:\\Users\\zwei\\AppData\\Local\\Temp\\ipykernel_588\\4248089460.py:19: FutureWarning: The frame.append method is deprecated and will be removed from pandas in a future version. Use pandas.concat instead.\n",
      "  results = results.append(query_data, ignore_index=True)\n",
      "C:\\Users\\zwei\\AppData\\Local\\Temp\\ipykernel_588\\4248089460.py:19: FutureWarning: The frame.append method is deprecated and will be removed from pandas in a future version. Use pandas.concat instead.\n",
      "  results = results.append(query_data, ignore_index=True)\n",
      "C:\\Users\\zwei\\AppData\\Local\\Temp\\ipykernel_588\\4248089460.py:19: FutureWarning: The frame.append method is deprecated and will be removed from pandas in a future version. Use pandas.concat instead.\n",
      "  results = results.append(query_data, ignore_index=True)\n",
      "C:\\Users\\zwei\\AppData\\Local\\Temp\\ipykernel_588\\4248089460.py:19: FutureWarning: The frame.append method is deprecated and will be removed from pandas in a future version. Use pandas.concat instead.\n",
      "  results = results.append(query_data, ignore_index=True)\n",
      "C:\\Users\\zwei\\AppData\\Local\\Temp\\ipykernel_588\\4248089460.py:19: FutureWarning: The frame.append method is deprecated and will be removed from pandas in a future version. Use pandas.concat instead.\n",
      "  results = results.append(query_data, ignore_index=True)\n",
      "C:\\Users\\zwei\\AppData\\Local\\Temp\\ipykernel_588\\4248089460.py:19: FutureWarning: The frame.append method is deprecated and will be removed from pandas in a future version. Use pandas.concat instead.\n",
      "  results = results.append(query_data, ignore_index=True)\n",
      "C:\\Users\\zwei\\AppData\\Local\\Temp\\ipykernel_588\\4248089460.py:19: FutureWarning: The frame.append method is deprecated and will be removed from pandas in a future version. Use pandas.concat instead.\n",
      "  results = results.append(query_data, ignore_index=True)\n",
      "C:\\Users\\zwei\\AppData\\Local\\Temp\\ipykernel_588\\4248089460.py:19: FutureWarning: The frame.append method is deprecated and will be removed from pandas in a future version. Use pandas.concat instead.\n",
      "  results = results.append(query_data, ignore_index=True)\n",
      "C:\\Users\\zwei\\AppData\\Local\\Temp\\ipykernel_588\\4248089460.py:19: FutureWarning: The frame.append method is deprecated and will be removed from pandas in a future version. Use pandas.concat instead.\n",
      "  results = results.append(query_data, ignore_index=True)\n",
      "C:\\Users\\zwei\\AppData\\Local\\Temp\\ipykernel_588\\4248089460.py:19: FutureWarning: The frame.append method is deprecated and will be removed from pandas in a future version. Use pandas.concat instead.\n",
      "  results = results.append(query_data, ignore_index=True)\n",
      "C:\\Users\\zwei\\AppData\\Local\\Temp\\ipykernel_588\\4248089460.py:19: FutureWarning: The frame.append method is deprecated and will be removed from pandas in a future version. Use pandas.concat instead.\n",
      "  results = results.append(query_data, ignore_index=True)\n",
      "C:\\Users\\zwei\\AppData\\Local\\Temp\\ipykernel_588\\4248089460.py:19: FutureWarning: The frame.append method is deprecated and will be removed from pandas in a future version. Use pandas.concat instead.\n",
      "  results = results.append(query_data, ignore_index=True)\n",
      "C:\\Users\\zwei\\AppData\\Local\\Temp\\ipykernel_588\\4248089460.py:19: FutureWarning: The frame.append method is deprecated and will be removed from pandas in a future version. Use pandas.concat instead.\n",
      "  results = results.append(query_data, ignore_index=True)\n",
      "C:\\Users\\zwei\\AppData\\Local\\Temp\\ipykernel_588\\4248089460.py:19: FutureWarning: The frame.append method is deprecated and will be removed from pandas in a future version. Use pandas.concat instead.\n",
      "  results = results.append(query_data, ignore_index=True)\n",
      "C:\\Users\\zwei\\AppData\\Local\\Temp\\ipykernel_588\\4248089460.py:19: FutureWarning: The frame.append method is deprecated and will be removed from pandas in a future version. Use pandas.concat instead.\n",
      "  results = results.append(query_data, ignore_index=True)\n",
      "C:\\Users\\zwei\\AppData\\Local\\Temp\\ipykernel_588\\4248089460.py:19: FutureWarning: The frame.append method is deprecated and will be removed from pandas in a future version. Use pandas.concat instead.\n",
      "  results = results.append(query_data, ignore_index=True)\n",
      "C:\\Users\\zwei\\AppData\\Local\\Temp\\ipykernel_588\\4248089460.py:19: FutureWarning: The frame.append method is deprecated and will be removed from pandas in a future version. Use pandas.concat instead.\n",
      "  results = results.append(query_data, ignore_index=True)\n",
      "C:\\Users\\zwei\\AppData\\Local\\Temp\\ipykernel_588\\4248089460.py:19: FutureWarning: The frame.append method is deprecated and will be removed from pandas in a future version. Use pandas.concat instead.\n",
      "  results = results.append(query_data, ignore_index=True)\n",
      "C:\\Users\\zwei\\AppData\\Local\\Temp\\ipykernel_588\\4248089460.py:19: FutureWarning: The frame.append method is deprecated and will be removed from pandas in a future version. Use pandas.concat instead.\n",
      "  results = results.append(query_data, ignore_index=True)\n",
      "C:\\Users\\zwei\\AppData\\Local\\Temp\\ipykernel_588\\4248089460.py:19: FutureWarning: The frame.append method is deprecated and will be removed from pandas in a future version. Use pandas.concat instead.\n",
      "  results = results.append(query_data, ignore_index=True)\n",
      "C:\\Users\\zwei\\AppData\\Local\\Temp\\ipykernel_588\\4248089460.py:19: FutureWarning: The frame.append method is deprecated and will be removed from pandas in a future version. Use pandas.concat instead.\n",
      "  results = results.append(query_data, ignore_index=True)\n",
      "C:\\Users\\zwei\\AppData\\Local\\Temp\\ipykernel_588\\4248089460.py:19: FutureWarning: The frame.append method is deprecated and will be removed from pandas in a future version. Use pandas.concat instead.\n",
      "  results = results.append(query_data, ignore_index=True)\n",
      "C:\\Users\\zwei\\AppData\\Local\\Temp\\ipykernel_588\\4248089460.py:19: FutureWarning: The frame.append method is deprecated and will be removed from pandas in a future version. Use pandas.concat instead.\n",
      "  results = results.append(query_data, ignore_index=True)\n"
     ]
    },
    {
     "name": "stdout",
     "output_type": "stream",
     "text": [
      "An error occurred: 'NoneType' object does not support item assignment\n"
     ]
    },
    {
     "name": "stderr",
     "output_type": "stream",
     "text": [
      "C:\\Users\\zwei\\AppData\\Local\\Temp\\ipykernel_588\\4248089460.py:19: FutureWarning: The frame.append method is deprecated and will be removed from pandas in a future version. Use pandas.concat instead.\n",
      "  results = results.append(query_data, ignore_index=True)\n",
      "C:\\Users\\zwei\\AppData\\Local\\Temp\\ipykernel_588\\4248089460.py:19: FutureWarning: The frame.append method is deprecated and will be removed from pandas in a future version. Use pandas.concat instead.\n",
      "  results = results.append(query_data, ignore_index=True)\n",
      "C:\\Users\\zwei\\AppData\\Local\\Temp\\ipykernel_588\\4248089460.py:19: FutureWarning: The frame.append method is deprecated and will be removed from pandas in a future version. Use pandas.concat instead.\n",
      "  results = results.append(query_data, ignore_index=True)\n",
      "C:\\Users\\zwei\\AppData\\Local\\Temp\\ipykernel_588\\4248089460.py:19: FutureWarning: The frame.append method is deprecated and will be removed from pandas in a future version. Use pandas.concat instead.\n",
      "  results = results.append(query_data, ignore_index=True)\n",
      "C:\\Users\\zwei\\AppData\\Local\\Temp\\ipykernel_588\\4248089460.py:19: FutureWarning: The frame.append method is deprecated and will be removed from pandas in a future version. Use pandas.concat instead.\n",
      "  results = results.append(query_data, ignore_index=True)\n"
     ]
    },
    {
     "name": "stdout",
     "output_type": "stream",
     "text": [
      "An error occurred: 'NoneType' object does not support item assignment\n"
     ]
    },
    {
     "name": "stderr",
     "output_type": "stream",
     "text": [
      "C:\\Users\\zwei\\AppData\\Local\\Temp\\ipykernel_588\\4248089460.py:19: FutureWarning: The frame.append method is deprecated and will be removed from pandas in a future version. Use pandas.concat instead.\n",
      "  results = results.append(query_data, ignore_index=True)\n",
      "C:\\Users\\zwei\\AppData\\Local\\Temp\\ipykernel_588\\4248089460.py:19: FutureWarning: The frame.append method is deprecated and will be removed from pandas in a future version. Use pandas.concat instead.\n",
      "  results = results.append(query_data, ignore_index=True)\n",
      "C:\\Users\\zwei\\AppData\\Local\\Temp\\ipykernel_588\\4248089460.py:19: FutureWarning: The frame.append method is deprecated and will be removed from pandas in a future version. Use pandas.concat instead.\n",
      "  results = results.append(query_data, ignore_index=True)\n",
      "C:\\Users\\zwei\\AppData\\Local\\Temp\\ipykernel_588\\4248089460.py:19: FutureWarning: The frame.append method is deprecated and will be removed from pandas in a future version. Use pandas.concat instead.\n",
      "  results = results.append(query_data, ignore_index=True)\n",
      "C:\\Users\\zwei\\AppData\\Local\\Temp\\ipykernel_588\\4248089460.py:19: FutureWarning: The frame.append method is deprecated and will be removed from pandas in a future version. Use pandas.concat instead.\n",
      "  results = results.append(query_data, ignore_index=True)\n",
      "C:\\Users\\zwei\\AppData\\Local\\Temp\\ipykernel_588\\4248089460.py:19: FutureWarning: The frame.append method is deprecated and will be removed from pandas in a future version. Use pandas.concat instead.\n",
      "  results = results.append(query_data, ignore_index=True)\n",
      "C:\\Users\\zwei\\AppData\\Local\\Temp\\ipykernel_588\\4248089460.py:19: FutureWarning: The frame.append method is deprecated and will be removed from pandas in a future version. Use pandas.concat instead.\n",
      "  results = results.append(query_data, ignore_index=True)\n",
      "C:\\Users\\zwei\\AppData\\Local\\Temp\\ipykernel_588\\4248089460.py:19: FutureWarning: The frame.append method is deprecated and will be removed from pandas in a future version. Use pandas.concat instead.\n",
      "  results = results.append(query_data, ignore_index=True)\n",
      "C:\\Users\\zwei\\AppData\\Local\\Temp\\ipykernel_588\\4248089460.py:19: FutureWarning: The frame.append method is deprecated and will be removed from pandas in a future version. Use pandas.concat instead.\n",
      "  results = results.append(query_data, ignore_index=True)\n"
     ]
    },
    {
     "name": "stdout",
     "output_type": "stream",
     "text": [
      "An error occurred: 'NoneType' object does not support item assignment\n"
     ]
    },
    {
     "name": "stderr",
     "output_type": "stream",
     "text": [
      "C:\\Users\\zwei\\AppData\\Local\\Temp\\ipykernel_588\\4248089460.py:19: FutureWarning: The frame.append method is deprecated and will be removed from pandas in a future version. Use pandas.concat instead.\n",
      "  results = results.append(query_data, ignore_index=True)\n",
      "C:\\Users\\zwei\\AppData\\Local\\Temp\\ipykernel_588\\4248089460.py:19: FutureWarning: The frame.append method is deprecated and will be removed from pandas in a future version. Use pandas.concat instead.\n",
      "  results = results.append(query_data, ignore_index=True)\n",
      "C:\\Users\\zwei\\AppData\\Local\\Temp\\ipykernel_588\\4248089460.py:19: FutureWarning: The frame.append method is deprecated and will be removed from pandas in a future version. Use pandas.concat instead.\n",
      "  results = results.append(query_data, ignore_index=True)\n",
      "C:\\Users\\zwei\\AppData\\Local\\Temp\\ipykernel_588\\4248089460.py:19: FutureWarning: The frame.append method is deprecated and will be removed from pandas in a future version. Use pandas.concat instead.\n",
      "  results = results.append(query_data, ignore_index=True)\n",
      "C:\\Users\\zwei\\AppData\\Local\\Temp\\ipykernel_588\\4248089460.py:19: FutureWarning: The frame.append method is deprecated and will be removed from pandas in a future version. Use pandas.concat instead.\n",
      "  results = results.append(query_data, ignore_index=True)\n",
      "C:\\Users\\zwei\\AppData\\Local\\Temp\\ipykernel_588\\4248089460.py:19: FutureWarning: The frame.append method is deprecated and will be removed from pandas in a future version. Use pandas.concat instead.\n",
      "  results = results.append(query_data, ignore_index=True)\n",
      "C:\\Users\\zwei\\AppData\\Local\\Temp\\ipykernel_588\\4248089460.py:19: FutureWarning: The frame.append method is deprecated and will be removed from pandas in a future version. Use pandas.concat instead.\n",
      "  results = results.append(query_data, ignore_index=True)\n",
      "C:\\Users\\zwei\\AppData\\Local\\Temp\\ipykernel_588\\4248089460.py:19: FutureWarning: The frame.append method is deprecated and will be removed from pandas in a future version. Use pandas.concat instead.\n",
      "  results = results.append(query_data, ignore_index=True)\n",
      "C:\\Users\\zwei\\AppData\\Local\\Temp\\ipykernel_588\\4248089460.py:19: FutureWarning: The frame.append method is deprecated and will be removed from pandas in a future version. Use pandas.concat instead.\n",
      "  results = results.append(query_data, ignore_index=True)\n",
      "C:\\Users\\zwei\\AppData\\Local\\Temp\\ipykernel_588\\4248089460.py:19: FutureWarning: The frame.append method is deprecated and will be removed from pandas in a future version. Use pandas.concat instead.\n",
      "  results = results.append(query_data, ignore_index=True)\n",
      "C:\\Users\\zwei\\AppData\\Local\\Temp\\ipykernel_588\\4248089460.py:19: FutureWarning: The frame.append method is deprecated and will be removed from pandas in a future version. Use pandas.concat instead.\n",
      "  results = results.append(query_data, ignore_index=True)\n"
     ]
    },
    {
     "name": "stdout",
     "output_type": "stream",
     "text": [
      "An error occurred: 'NoneType' object does not support item assignment\n"
     ]
    },
    {
     "name": "stderr",
     "output_type": "stream",
     "text": [
      "C:\\Users\\zwei\\AppData\\Local\\Temp\\ipykernel_588\\4248089460.py:19: FutureWarning: The frame.append method is deprecated and will be removed from pandas in a future version. Use pandas.concat instead.\n",
      "  results = results.append(query_data, ignore_index=True)\n",
      "C:\\Users\\zwei\\AppData\\Local\\Temp\\ipykernel_588\\4248089460.py:19: FutureWarning: The frame.append method is deprecated and will be removed from pandas in a future version. Use pandas.concat instead.\n",
      "  results = results.append(query_data, ignore_index=True)\n",
      "C:\\Users\\zwei\\AppData\\Local\\Temp\\ipykernel_588\\4248089460.py:19: FutureWarning: The frame.append method is deprecated and will be removed from pandas in a future version. Use pandas.concat instead.\n",
      "  results = results.append(query_data, ignore_index=True)\n",
      "C:\\Users\\zwei\\AppData\\Local\\Temp\\ipykernel_588\\4248089460.py:19: FutureWarning: The frame.append method is deprecated and will be removed from pandas in a future version. Use pandas.concat instead.\n",
      "  results = results.append(query_data, ignore_index=True)\n",
      "C:\\Users\\zwei\\AppData\\Local\\Temp\\ipykernel_588\\4248089460.py:19: FutureWarning: The frame.append method is deprecated and will be removed from pandas in a future version. Use pandas.concat instead.\n",
      "  results = results.append(query_data, ignore_index=True)\n",
      "C:\\Users\\zwei\\AppData\\Local\\Temp\\ipykernel_588\\4248089460.py:19: FutureWarning: The frame.append method is deprecated and will be removed from pandas in a future version. Use pandas.concat instead.\n",
      "  results = results.append(query_data, ignore_index=True)\n",
      "C:\\Users\\zwei\\AppData\\Local\\Temp\\ipykernel_588\\4248089460.py:19: FutureWarning: The frame.append method is deprecated and will be removed from pandas in a future version. Use pandas.concat instead.\n",
      "  results = results.append(query_data, ignore_index=True)\n",
      "C:\\Users\\zwei\\AppData\\Local\\Temp\\ipykernel_588\\4248089460.py:19: FutureWarning: The frame.append method is deprecated and will be removed from pandas in a future version. Use pandas.concat instead.\n",
      "  results = results.append(query_data, ignore_index=True)\n",
      "C:\\Users\\zwei\\AppData\\Local\\Temp\\ipykernel_588\\4248089460.py:19: FutureWarning: The frame.append method is deprecated and will be removed from pandas in a future version. Use pandas.concat instead.\n",
      "  results = results.append(query_data, ignore_index=True)\n",
      "C:\\Users\\zwei\\AppData\\Local\\Temp\\ipykernel_588\\4248089460.py:19: FutureWarning: The frame.append method is deprecated and will be removed from pandas in a future version. Use pandas.concat instead.\n",
      "  results = results.append(query_data, ignore_index=True)\n",
      "C:\\Users\\zwei\\AppData\\Local\\Temp\\ipykernel_588\\4248089460.py:19: FutureWarning: The frame.append method is deprecated and will be removed from pandas in a future version. Use pandas.concat instead.\n",
      "  results = results.append(query_data, ignore_index=True)\n",
      "C:\\Users\\zwei\\AppData\\Local\\Temp\\ipykernel_588\\4248089460.py:19: FutureWarning: The frame.append method is deprecated and will be removed from pandas in a future version. Use pandas.concat instead.\n",
      "  results = results.append(query_data, ignore_index=True)\n",
      "C:\\Users\\zwei\\AppData\\Local\\Temp\\ipykernel_588\\4248089460.py:19: FutureWarning: The frame.append method is deprecated and will be removed from pandas in a future version. Use pandas.concat instead.\n",
      "  results = results.append(query_data, ignore_index=True)\n",
      "C:\\Users\\zwei\\AppData\\Local\\Temp\\ipykernel_588\\4248089460.py:19: FutureWarning: The frame.append method is deprecated and will be removed from pandas in a future version. Use pandas.concat instead.\n",
      "  results = results.append(query_data, ignore_index=True)\n",
      "C:\\Users\\zwei\\AppData\\Local\\Temp\\ipykernel_588\\4248089460.py:19: FutureWarning: The frame.append method is deprecated and will be removed from pandas in a future version. Use pandas.concat instead.\n",
      "  results = results.append(query_data, ignore_index=True)\n",
      "C:\\Users\\zwei\\AppData\\Local\\Temp\\ipykernel_588\\4248089460.py:19: FutureWarning: The frame.append method is deprecated and will be removed from pandas in a future version. Use pandas.concat instead.\n",
      "  results = results.append(query_data, ignore_index=True)\n",
      "C:\\Users\\zwei\\AppData\\Local\\Temp\\ipykernel_588\\4248089460.py:19: FutureWarning: The frame.append method is deprecated and will be removed from pandas in a future version. Use pandas.concat instead.\n",
      "  results = results.append(query_data, ignore_index=True)\n",
      "C:\\Users\\zwei\\AppData\\Local\\Temp\\ipykernel_588\\4248089460.py:19: FutureWarning: The frame.append method is deprecated and will be removed from pandas in a future version. Use pandas.concat instead.\n",
      "  results = results.append(query_data, ignore_index=True)\n",
      "C:\\Users\\zwei\\AppData\\Local\\Temp\\ipykernel_588\\4248089460.py:19: FutureWarning: The frame.append method is deprecated and will be removed from pandas in a future version. Use pandas.concat instead.\n",
      "  results = results.append(query_data, ignore_index=True)\n",
      "C:\\Users\\zwei\\AppData\\Local\\Temp\\ipykernel_588\\4248089460.py:19: FutureWarning: The frame.append method is deprecated and will be removed from pandas in a future version. Use pandas.concat instead.\n",
      "  results = results.append(query_data, ignore_index=True)\n",
      "C:\\Users\\zwei\\AppData\\Local\\Temp\\ipykernel_588\\4248089460.py:19: FutureWarning: The frame.append method is deprecated and will be removed from pandas in a future version. Use pandas.concat instead.\n",
      "  results = results.append(query_data, ignore_index=True)\n",
      "C:\\Users\\zwei\\AppData\\Local\\Temp\\ipykernel_588\\4248089460.py:19: FutureWarning: The frame.append method is deprecated and will be removed from pandas in a future version. Use pandas.concat instead.\n",
      "  results = results.append(query_data, ignore_index=True)\n",
      "C:\\Users\\zwei\\AppData\\Local\\Temp\\ipykernel_588\\4248089460.py:19: FutureWarning: The frame.append method is deprecated and will be removed from pandas in a future version. Use pandas.concat instead.\n",
      "  results = results.append(query_data, ignore_index=True)\n",
      "C:\\Users\\zwei\\AppData\\Local\\Temp\\ipykernel_588\\4248089460.py:19: FutureWarning: The frame.append method is deprecated and will be removed from pandas in a future version. Use pandas.concat instead.\n",
      "  results = results.append(query_data, ignore_index=True)\n",
      "C:\\Users\\zwei\\AppData\\Local\\Temp\\ipykernel_588\\4248089460.py:19: FutureWarning: The frame.append method is deprecated and will be removed from pandas in a future version. Use pandas.concat instead.\n",
      "  results = results.append(query_data, ignore_index=True)\n",
      "C:\\Users\\zwei\\AppData\\Local\\Temp\\ipykernel_588\\4248089460.py:19: FutureWarning: The frame.append method is deprecated and will be removed from pandas in a future version. Use pandas.concat instead.\n",
      "  results = results.append(query_data, ignore_index=True)\n",
      "C:\\Users\\zwei\\AppData\\Local\\Temp\\ipykernel_588\\4248089460.py:19: FutureWarning: The frame.append method is deprecated and will be removed from pandas in a future version. Use pandas.concat instead.\n",
      "  results = results.append(query_data, ignore_index=True)\n",
      "C:\\Users\\zwei\\AppData\\Local\\Temp\\ipykernel_588\\4248089460.py:19: FutureWarning: The frame.append method is deprecated and will be removed from pandas in a future version. Use pandas.concat instead.\n",
      "  results = results.append(query_data, ignore_index=True)\n",
      "C:\\Users\\zwei\\AppData\\Local\\Temp\\ipykernel_588\\4248089460.py:19: FutureWarning: The frame.append method is deprecated and will be removed from pandas in a future version. Use pandas.concat instead.\n",
      "  results = results.append(query_data, ignore_index=True)\n",
      "C:\\Users\\zwei\\AppData\\Local\\Temp\\ipykernel_588\\4248089460.py:19: FutureWarning: The frame.append method is deprecated and will be removed from pandas in a future version. Use pandas.concat instead.\n",
      "  results = results.append(query_data, ignore_index=True)\n",
      "C:\\Users\\zwei\\AppData\\Local\\Temp\\ipykernel_588\\4248089460.py:19: FutureWarning: The frame.append method is deprecated and will be removed from pandas in a future version. Use pandas.concat instead.\n",
      "  results = results.append(query_data, ignore_index=True)\n",
      "C:\\Users\\zwei\\AppData\\Local\\Temp\\ipykernel_588\\4248089460.py:19: FutureWarning: The frame.append method is deprecated and will be removed from pandas in a future version. Use pandas.concat instead.\n",
      "  results = results.append(query_data, ignore_index=True)\n",
      "C:\\Users\\zwei\\AppData\\Local\\Temp\\ipykernel_588\\4248089460.py:19: FutureWarning: The frame.append method is deprecated and will be removed from pandas in a future version. Use pandas.concat instead.\n",
      "  results = results.append(query_data, ignore_index=True)\n",
      "C:\\Users\\zwei\\AppData\\Local\\Temp\\ipykernel_588\\4248089460.py:19: FutureWarning: The frame.append method is deprecated and will be removed from pandas in a future version. Use pandas.concat instead.\n",
      "  results = results.append(query_data, ignore_index=True)\n"
     ]
    },
    {
     "name": "stderr",
     "output_type": "stream",
     "text": [
      "C:\\Users\\zwei\\AppData\\Local\\Temp\\ipykernel_588\\4248089460.py:19: FutureWarning: The frame.append method is deprecated and will be removed from pandas in a future version. Use pandas.concat instead.\n",
      "  results = results.append(query_data, ignore_index=True)\n",
      "C:\\Users\\zwei\\AppData\\Local\\Temp\\ipykernel_588\\4248089460.py:19: FutureWarning: The frame.append method is deprecated and will be removed from pandas in a future version. Use pandas.concat instead.\n",
      "  results = results.append(query_data, ignore_index=True)\n",
      "C:\\Users\\zwei\\AppData\\Local\\Temp\\ipykernel_588\\4248089460.py:19: FutureWarning: The frame.append method is deprecated and will be removed from pandas in a future version. Use pandas.concat instead.\n",
      "  results = results.append(query_data, ignore_index=True)\n",
      "C:\\Users\\zwei\\AppData\\Local\\Temp\\ipykernel_588\\4248089460.py:19: FutureWarning: The frame.append method is deprecated and will be removed from pandas in a future version. Use pandas.concat instead.\n",
      "  results = results.append(query_data, ignore_index=True)\n",
      "C:\\Users\\zwei\\AppData\\Local\\Temp\\ipykernel_588\\4248089460.py:19: FutureWarning: The frame.append method is deprecated and will be removed from pandas in a future version. Use pandas.concat instead.\n",
      "  results = results.append(query_data, ignore_index=True)\n",
      "C:\\Users\\zwei\\AppData\\Local\\Temp\\ipykernel_588\\4248089460.py:19: FutureWarning: The frame.append method is deprecated and will be removed from pandas in a future version. Use pandas.concat instead.\n",
      "  results = results.append(query_data, ignore_index=True)\n",
      "C:\\Users\\zwei\\AppData\\Local\\Temp\\ipykernel_588\\4248089460.py:19: FutureWarning: The frame.append method is deprecated and will be removed from pandas in a future version. Use pandas.concat instead.\n",
      "  results = results.append(query_data, ignore_index=True)\n",
      "C:\\Users\\zwei\\AppData\\Local\\Temp\\ipykernel_588\\4248089460.py:19: FutureWarning: The frame.append method is deprecated and will be removed from pandas in a future version. Use pandas.concat instead.\n",
      "  results = results.append(query_data, ignore_index=True)\n",
      "C:\\Users\\zwei\\AppData\\Local\\Temp\\ipykernel_588\\4248089460.py:19: FutureWarning: The frame.append method is deprecated and will be removed from pandas in a future version. Use pandas.concat instead.\n",
      "  results = results.append(query_data, ignore_index=True)\n",
      "C:\\Users\\zwei\\AppData\\Local\\Temp\\ipykernel_588\\4248089460.py:19: FutureWarning: The frame.append method is deprecated and will be removed from pandas in a future version. Use pandas.concat instead.\n",
      "  results = results.append(query_data, ignore_index=True)\n",
      "C:\\Users\\zwei\\AppData\\Local\\Temp\\ipykernel_588\\4248089460.py:19: FutureWarning: The frame.append method is deprecated and will be removed from pandas in a future version. Use pandas.concat instead.\n",
      "  results = results.append(query_data, ignore_index=True)\n",
      "C:\\Users\\zwei\\AppData\\Local\\Temp\\ipykernel_588\\4248089460.py:19: FutureWarning: The frame.append method is deprecated and will be removed from pandas in a future version. Use pandas.concat instead.\n",
      "  results = results.append(query_data, ignore_index=True)\n",
      "C:\\Users\\zwei\\AppData\\Local\\Temp\\ipykernel_588\\4248089460.py:19: FutureWarning: The frame.append method is deprecated and will be removed from pandas in a future version. Use pandas.concat instead.\n",
      "  results = results.append(query_data, ignore_index=True)\n",
      "C:\\Users\\zwei\\AppData\\Local\\Temp\\ipykernel_588\\4248089460.py:19: FutureWarning: The frame.append method is deprecated and will be removed from pandas in a future version. Use pandas.concat instead.\n",
      "  results = results.append(query_data, ignore_index=True)\n",
      "C:\\Users\\zwei\\AppData\\Local\\Temp\\ipykernel_588\\4248089460.py:19: FutureWarning: The frame.append method is deprecated and will be removed from pandas in a future version. Use pandas.concat instead.\n",
      "  results = results.append(query_data, ignore_index=True)\n",
      "C:\\Users\\zwei\\AppData\\Local\\Temp\\ipykernel_588\\4248089460.py:19: FutureWarning: The frame.append method is deprecated and will be removed from pandas in a future version. Use pandas.concat instead.\n",
      "  results = results.append(query_data, ignore_index=True)\n",
      "C:\\Users\\zwei\\AppData\\Local\\Temp\\ipykernel_588\\4248089460.py:19: FutureWarning: The frame.append method is deprecated and will be removed from pandas in a future version. Use pandas.concat instead.\n",
      "  results = results.append(query_data, ignore_index=True)\n",
      "C:\\Users\\zwei\\AppData\\Local\\Temp\\ipykernel_588\\4248089460.py:19: FutureWarning: The frame.append method is deprecated and will be removed from pandas in a future version. Use pandas.concat instead.\n",
      "  results = results.append(query_data, ignore_index=True)\n",
      "C:\\Users\\zwei\\AppData\\Local\\Temp\\ipykernel_588\\4248089460.py:19: FutureWarning: The frame.append method is deprecated and will be removed from pandas in a future version. Use pandas.concat instead.\n",
      "  results = results.append(query_data, ignore_index=True)\n",
      "C:\\Users\\zwei\\AppData\\Local\\Temp\\ipykernel_588\\4248089460.py:19: FutureWarning: The frame.append method is deprecated and will be removed from pandas in a future version. Use pandas.concat instead.\n",
      "  results = results.append(query_data, ignore_index=True)\n",
      "C:\\Users\\zwei\\AppData\\Local\\Temp\\ipykernel_588\\4248089460.py:19: FutureWarning: The frame.append method is deprecated and will be removed from pandas in a future version. Use pandas.concat instead.\n",
      "  results = results.append(query_data, ignore_index=True)\n",
      "C:\\Users\\zwei\\AppData\\Local\\Temp\\ipykernel_588\\4248089460.py:19: FutureWarning: The frame.append method is deprecated and will be removed from pandas in a future version. Use pandas.concat instead.\n",
      "  results = results.append(query_data, ignore_index=True)\n",
      "C:\\Users\\zwei\\AppData\\Local\\Temp\\ipykernel_588\\4248089460.py:19: FutureWarning: The frame.append method is deprecated and will be removed from pandas in a future version. Use pandas.concat instead.\n",
      "  results = results.append(query_data, ignore_index=True)\n",
      "C:\\Users\\zwei\\AppData\\Local\\Temp\\ipykernel_588\\4248089460.py:19: FutureWarning: The frame.append method is deprecated and will be removed from pandas in a future version. Use pandas.concat instead.\n",
      "  results = results.append(query_data, ignore_index=True)\n"
     ]
    },
    {
     "name": "stdout",
     "output_type": "stream",
     "text": [
      "An error occurred: The request failed: Google returned a response with code 429\n"
     ]
    },
    {
     "name": "stderr",
     "output_type": "stream",
     "text": [
      "C:\\Users\\zwei\\AppData\\Local\\Temp\\ipykernel_588\\4248089460.py:19: FutureWarning: The frame.append method is deprecated and will be removed from pandas in a future version. Use pandas.concat instead.\n",
      "  results = results.append(query_data, ignore_index=True)\n"
     ]
    },
    {
     "name": "stdout",
     "output_type": "stream",
     "text": [
      "An error occurred: 'NoneType' object does not support item assignment\n"
     ]
    },
    {
     "name": "stderr",
     "output_type": "stream",
     "text": [
      "C:\\Users\\zwei\\AppData\\Local\\Temp\\ipykernel_588\\4248089460.py:19: FutureWarning: The frame.append method is deprecated and will be removed from pandas in a future version. Use pandas.concat instead.\n",
      "  results = results.append(query_data, ignore_index=True)\n",
      "C:\\Users\\zwei\\AppData\\Local\\Temp\\ipykernel_588\\4248089460.py:19: FutureWarning: The frame.append method is deprecated and will be removed from pandas in a future version. Use pandas.concat instead.\n",
      "  results = results.append(query_data, ignore_index=True)\n",
      "C:\\Users\\zwei\\AppData\\Local\\Temp\\ipykernel_588\\4248089460.py:19: FutureWarning: The frame.append method is deprecated and will be removed from pandas in a future version. Use pandas.concat instead.\n",
      "  results = results.append(query_data, ignore_index=True)\n",
      "C:\\Users\\zwei\\AppData\\Local\\Temp\\ipykernel_588\\4248089460.py:19: FutureWarning: The frame.append method is deprecated and will be removed from pandas in a future version. Use pandas.concat instead.\n",
      "  results = results.append(query_data, ignore_index=True)\n",
      "C:\\Users\\zwei\\AppData\\Local\\Temp\\ipykernel_588\\4248089460.py:19: FutureWarning: The frame.append method is deprecated and will be removed from pandas in a future version. Use pandas.concat instead.\n",
      "  results = results.append(query_data, ignore_index=True)\n",
      "C:\\Users\\zwei\\AppData\\Local\\Temp\\ipykernel_588\\4248089460.py:19: FutureWarning: The frame.append method is deprecated and will be removed from pandas in a future version. Use pandas.concat instead.\n",
      "  results = results.append(query_data, ignore_index=True)\n",
      "C:\\Users\\zwei\\AppData\\Local\\Temp\\ipykernel_588\\4248089460.py:19: FutureWarning: The frame.append method is deprecated and will be removed from pandas in a future version. Use pandas.concat instead.\n",
      "  results = results.append(query_data, ignore_index=True)\n",
      "C:\\Users\\zwei\\AppData\\Local\\Temp\\ipykernel_588\\4248089460.py:19: FutureWarning: The frame.append method is deprecated and will be removed from pandas in a future version. Use pandas.concat instead.\n",
      "  results = results.append(query_data, ignore_index=True)\n",
      "C:\\Users\\zwei\\AppData\\Local\\Temp\\ipykernel_588\\4248089460.py:19: FutureWarning: The frame.append method is deprecated and will be removed from pandas in a future version. Use pandas.concat instead.\n",
      "  results = results.append(query_data, ignore_index=True)\n",
      "C:\\Users\\zwei\\AppData\\Local\\Temp\\ipykernel_588\\4248089460.py:19: FutureWarning: The frame.append method is deprecated and will be removed from pandas in a future version. Use pandas.concat instead.\n",
      "  results = results.append(query_data, ignore_index=True)\n",
      "C:\\Users\\zwei\\AppData\\Local\\Temp\\ipykernel_588\\4248089460.py:19: FutureWarning: The frame.append method is deprecated and will be removed from pandas in a future version. Use pandas.concat instead.\n",
      "  results = results.append(query_data, ignore_index=True)\n",
      "C:\\Users\\zwei\\AppData\\Local\\Temp\\ipykernel_588\\4248089460.py:19: FutureWarning: The frame.append method is deprecated and will be removed from pandas in a future version. Use pandas.concat instead.\n",
      "  results = results.append(query_data, ignore_index=True)\n",
      "C:\\Users\\zwei\\AppData\\Local\\Temp\\ipykernel_588\\4248089460.py:19: FutureWarning: The frame.append method is deprecated and will be removed from pandas in a future version. Use pandas.concat instead.\n",
      "  results = results.append(query_data, ignore_index=True)\n",
      "C:\\Users\\zwei\\AppData\\Local\\Temp\\ipykernel_588\\4248089460.py:19: FutureWarning: The frame.append method is deprecated and will be removed from pandas in a future version. Use pandas.concat instead.\n",
      "  results = results.append(query_data, ignore_index=True)\n",
      "C:\\Users\\zwei\\AppData\\Local\\Temp\\ipykernel_588\\4248089460.py:19: FutureWarning: The frame.append method is deprecated and will be removed from pandas in a future version. Use pandas.concat instead.\n",
      "  results = results.append(query_data, ignore_index=True)\n"
     ]
    },
    {
     "name": "stdout",
     "output_type": "stream",
     "text": [
      "An error occurred: 'NoneType' object does not support item assignment\n"
     ]
    },
    {
     "name": "stderr",
     "output_type": "stream",
     "text": [
      "C:\\Users\\zwei\\AppData\\Local\\Temp\\ipykernel_588\\4248089460.py:19: FutureWarning: The frame.append method is deprecated and will be removed from pandas in a future version. Use pandas.concat instead.\n",
      "  results = results.append(query_data, ignore_index=True)\n",
      "C:\\Users\\zwei\\AppData\\Local\\Temp\\ipykernel_588\\4248089460.py:19: FutureWarning: The frame.append method is deprecated and will be removed from pandas in a future version. Use pandas.concat instead.\n",
      "  results = results.append(query_data, ignore_index=True)\n",
      "C:\\Users\\zwei\\AppData\\Local\\Temp\\ipykernel_588\\4248089460.py:19: FutureWarning: The frame.append method is deprecated and will be removed from pandas in a future version. Use pandas.concat instead.\n",
      "  results = results.append(query_data, ignore_index=True)\n",
      "C:\\Users\\zwei\\AppData\\Local\\Temp\\ipykernel_588\\4248089460.py:19: FutureWarning: The frame.append method is deprecated and will be removed from pandas in a future version. Use pandas.concat instead.\n",
      "  results = results.append(query_data, ignore_index=True)\n",
      "C:\\Users\\zwei\\AppData\\Local\\Temp\\ipykernel_588\\4248089460.py:19: FutureWarning: The frame.append method is deprecated and will be removed from pandas in a future version. Use pandas.concat instead.\n",
      "  results = results.append(query_data, ignore_index=True)\n",
      "C:\\Users\\zwei\\AppData\\Local\\Temp\\ipykernel_588\\4248089460.py:19: FutureWarning: The frame.append method is deprecated and will be removed from pandas in a future version. Use pandas.concat instead.\n",
      "  results = results.append(query_data, ignore_index=True)\n",
      "C:\\Users\\zwei\\AppData\\Local\\Temp\\ipykernel_588\\4248089460.py:19: FutureWarning: The frame.append method is deprecated and will be removed from pandas in a future version. Use pandas.concat instead.\n",
      "  results = results.append(query_data, ignore_index=True)\n",
      "C:\\Users\\zwei\\AppData\\Local\\Temp\\ipykernel_588\\4248089460.py:19: FutureWarning: The frame.append method is deprecated and will be removed from pandas in a future version. Use pandas.concat instead.\n",
      "  results = results.append(query_data, ignore_index=True)\n",
      "C:\\Users\\zwei\\AppData\\Local\\Temp\\ipykernel_588\\4248089460.py:19: FutureWarning: The frame.append method is deprecated and will be removed from pandas in a future version. Use pandas.concat instead.\n",
      "  results = results.append(query_data, ignore_index=True)\n",
      "C:\\Users\\zwei\\AppData\\Local\\Temp\\ipykernel_588\\4248089460.py:19: FutureWarning: The frame.append method is deprecated and will be removed from pandas in a future version. Use pandas.concat instead.\n",
      "  results = results.append(query_data, ignore_index=True)\n",
      "C:\\Users\\zwei\\AppData\\Local\\Temp\\ipykernel_588\\4248089460.py:19: FutureWarning: The frame.append method is deprecated and will be removed from pandas in a future version. Use pandas.concat instead.\n",
      "  results = results.append(query_data, ignore_index=True)\n",
      "C:\\Users\\zwei\\AppData\\Local\\Temp\\ipykernel_588\\4248089460.py:19: FutureWarning: The frame.append method is deprecated and will be removed from pandas in a future version. Use pandas.concat instead.\n",
      "  results = results.append(query_data, ignore_index=True)\n",
      "C:\\Users\\zwei\\AppData\\Local\\Temp\\ipykernel_588\\4248089460.py:19: FutureWarning: The frame.append method is deprecated and will be removed from pandas in a future version. Use pandas.concat instead.\n",
      "  results = results.append(query_data, ignore_index=True)\n",
      "C:\\Users\\zwei\\AppData\\Local\\Temp\\ipykernel_588\\4248089460.py:19: FutureWarning: The frame.append method is deprecated and will be removed from pandas in a future version. Use pandas.concat instead.\n",
      "  results = results.append(query_data, ignore_index=True)\n",
      "C:\\Users\\zwei\\AppData\\Local\\Temp\\ipykernel_588\\4248089460.py:19: FutureWarning: The frame.append method is deprecated and will be removed from pandas in a future version. Use pandas.concat instead.\n",
      "  results = results.append(query_data, ignore_index=True)\n",
      "C:\\Users\\zwei\\AppData\\Local\\Temp\\ipykernel_588\\4248089460.py:19: FutureWarning: The frame.append method is deprecated and will be removed from pandas in a future version. Use pandas.concat instead.\n",
      "  results = results.append(query_data, ignore_index=True)\n",
      "C:\\Users\\zwei\\AppData\\Local\\Temp\\ipykernel_588\\4248089460.py:19: FutureWarning: The frame.append method is deprecated and will be removed from pandas in a future version. Use pandas.concat instead.\n",
      "  results = results.append(query_data, ignore_index=True)\n",
      "C:\\Users\\zwei\\AppData\\Local\\Temp\\ipykernel_588\\4248089460.py:19: FutureWarning: The frame.append method is deprecated and will be removed from pandas in a future version. Use pandas.concat instead.\n",
      "  results = results.append(query_data, ignore_index=True)\n",
      "C:\\Users\\zwei\\AppData\\Local\\Temp\\ipykernel_588\\4248089460.py:19: FutureWarning: The frame.append method is deprecated and will be removed from pandas in a future version. Use pandas.concat instead.\n",
      "  results = results.append(query_data, ignore_index=True)\n",
      "C:\\Users\\zwei\\AppData\\Local\\Temp\\ipykernel_588\\4248089460.py:19: FutureWarning: The frame.append method is deprecated and will be removed from pandas in a future version. Use pandas.concat instead.\n",
      "  results = results.append(query_data, ignore_index=True)\n",
      "C:\\Users\\zwei\\AppData\\Local\\Temp\\ipykernel_588\\4248089460.py:19: FutureWarning: The frame.append method is deprecated and will be removed from pandas in a future version. Use pandas.concat instead.\n",
      "  results = results.append(query_data, ignore_index=True)\n"
     ]
    },
    {
     "name": "stdout",
     "output_type": "stream",
     "text": [
      "An error occurred: 'NoneType' object does not support item assignment\n"
     ]
    },
    {
     "name": "stderr",
     "output_type": "stream",
     "text": [
      "C:\\Users\\zwei\\AppData\\Local\\Temp\\ipykernel_588\\4248089460.py:19: FutureWarning: The frame.append method is deprecated and will be removed from pandas in a future version. Use pandas.concat instead.\n",
      "  results = results.append(query_data, ignore_index=True)\n",
      "C:\\Users\\zwei\\AppData\\Local\\Temp\\ipykernel_588\\4248089460.py:19: FutureWarning: The frame.append method is deprecated and will be removed from pandas in a future version. Use pandas.concat instead.\n",
      "  results = results.append(query_data, ignore_index=True)\n",
      "C:\\Users\\zwei\\AppData\\Local\\Temp\\ipykernel_588\\4248089460.py:19: FutureWarning: The frame.append method is deprecated and will be removed from pandas in a future version. Use pandas.concat instead.\n",
      "  results = results.append(query_data, ignore_index=True)\n",
      "C:\\Users\\zwei\\AppData\\Local\\Temp\\ipykernel_588\\4248089460.py:19: FutureWarning: The frame.append method is deprecated and will be removed from pandas in a future version. Use pandas.concat instead.\n",
      "  results = results.append(query_data, ignore_index=True)\n",
      "C:\\Users\\zwei\\AppData\\Local\\Temp\\ipykernel_588\\4248089460.py:19: FutureWarning: The frame.append method is deprecated and will be removed from pandas in a future version. Use pandas.concat instead.\n",
      "  results = results.append(query_data, ignore_index=True)\n",
      "C:\\Users\\zwei\\AppData\\Local\\Temp\\ipykernel_588\\4248089460.py:19: FutureWarning: The frame.append method is deprecated and will be removed from pandas in a future version. Use pandas.concat instead.\n",
      "  results = results.append(query_data, ignore_index=True)\n",
      "C:\\Users\\zwei\\AppData\\Local\\Temp\\ipykernel_588\\4248089460.py:19: FutureWarning: The frame.append method is deprecated and will be removed from pandas in a future version. Use pandas.concat instead.\n",
      "  results = results.append(query_data, ignore_index=True)\n",
      "C:\\Users\\zwei\\AppData\\Local\\Temp\\ipykernel_588\\4248089460.py:19: FutureWarning: The frame.append method is deprecated and will be removed from pandas in a future version. Use pandas.concat instead.\n",
      "  results = results.append(query_data, ignore_index=True)\n",
      "C:\\Users\\zwei\\AppData\\Local\\Temp\\ipykernel_588\\4248089460.py:19: FutureWarning: The frame.append method is deprecated and will be removed from pandas in a future version. Use pandas.concat instead.\n",
      "  results = results.append(query_data, ignore_index=True)\n",
      "C:\\Users\\zwei\\AppData\\Local\\Temp\\ipykernel_588\\4248089460.py:19: FutureWarning: The frame.append method is deprecated and will be removed from pandas in a future version. Use pandas.concat instead.\n",
      "  results = results.append(query_data, ignore_index=True)\n",
      "C:\\Users\\zwei\\AppData\\Local\\Temp\\ipykernel_588\\4248089460.py:19: FutureWarning: The frame.append method is deprecated and will be removed from pandas in a future version. Use pandas.concat instead.\n",
      "  results = results.append(query_data, ignore_index=True)\n",
      "C:\\Users\\zwei\\AppData\\Local\\Temp\\ipykernel_588\\4248089460.py:19: FutureWarning: The frame.append method is deprecated and will be removed from pandas in a future version. Use pandas.concat instead.\n",
      "  results = results.append(query_data, ignore_index=True)\n",
      "C:\\Users\\zwei\\AppData\\Local\\Temp\\ipykernel_588\\4248089460.py:19: FutureWarning: The frame.append method is deprecated and will be removed from pandas in a future version. Use pandas.concat instead.\n",
      "  results = results.append(query_data, ignore_index=True)\n",
      "C:\\Users\\zwei\\AppData\\Local\\Temp\\ipykernel_588\\4248089460.py:19: FutureWarning: The frame.append method is deprecated and will be removed from pandas in a future version. Use pandas.concat instead.\n",
      "  results = results.append(query_data, ignore_index=True)\n",
      "C:\\Users\\zwei\\AppData\\Local\\Temp\\ipykernel_588\\4248089460.py:19: FutureWarning: The frame.append method is deprecated and will be removed from pandas in a future version. Use pandas.concat instead.\n",
      "  results = results.append(query_data, ignore_index=True)\n",
      "C:\\Users\\zwei\\AppData\\Local\\Temp\\ipykernel_588\\4248089460.py:19: FutureWarning: The frame.append method is deprecated and will be removed from pandas in a future version. Use pandas.concat instead.\n",
      "  results = results.append(query_data, ignore_index=True)\n",
      "C:\\Users\\zwei\\AppData\\Local\\Temp\\ipykernel_588\\4248089460.py:19: FutureWarning: The frame.append method is deprecated and will be removed from pandas in a future version. Use pandas.concat instead.\n",
      "  results = results.append(query_data, ignore_index=True)\n",
      "C:\\Users\\zwei\\AppData\\Local\\Temp\\ipykernel_588\\4248089460.py:19: FutureWarning: The frame.append method is deprecated and will be removed from pandas in a future version. Use pandas.concat instead.\n",
      "  results = results.append(query_data, ignore_index=True)\n",
      "C:\\Users\\zwei\\AppData\\Local\\Temp\\ipykernel_588\\4248089460.py:19: FutureWarning: The frame.append method is deprecated and will be removed from pandas in a future version. Use pandas.concat instead.\n",
      "  results = results.append(query_data, ignore_index=True)\n",
      "C:\\Users\\zwei\\AppData\\Local\\Temp\\ipykernel_588\\4248089460.py:19: FutureWarning: The frame.append method is deprecated and will be removed from pandas in a future version. Use pandas.concat instead.\n",
      "  results = results.append(query_data, ignore_index=True)\n",
      "C:\\Users\\zwei\\AppData\\Local\\Temp\\ipykernel_588\\4248089460.py:19: FutureWarning: The frame.append method is deprecated and will be removed from pandas in a future version. Use pandas.concat instead.\n",
      "  results = results.append(query_data, ignore_index=True)\n",
      "C:\\Users\\zwei\\AppData\\Local\\Temp\\ipykernel_588\\4248089460.py:19: FutureWarning: The frame.append method is deprecated and will be removed from pandas in a future version. Use pandas.concat instead.\n",
      "  results = results.append(query_data, ignore_index=True)\n",
      "C:\\Users\\zwei\\AppData\\Local\\Temp\\ipykernel_588\\4248089460.py:19: FutureWarning: The frame.append method is deprecated and will be removed from pandas in a future version. Use pandas.concat instead.\n",
      "  results = results.append(query_data, ignore_index=True)\n",
      "C:\\Users\\zwei\\AppData\\Local\\Temp\\ipykernel_588\\4248089460.py:19: FutureWarning: The frame.append method is deprecated and will be removed from pandas in a future version. Use pandas.concat instead.\n",
      "  results = results.append(query_data, ignore_index=True)\n",
      "C:\\Users\\zwei\\AppData\\Local\\Temp\\ipykernel_588\\4248089460.py:19: FutureWarning: The frame.append method is deprecated and will be removed from pandas in a future version. Use pandas.concat instead.\n",
      "  results = results.append(query_data, ignore_index=True)\n",
      "C:\\Users\\zwei\\AppData\\Local\\Temp\\ipykernel_588\\4248089460.py:19: FutureWarning: The frame.append method is deprecated and will be removed from pandas in a future version. Use pandas.concat instead.\n",
      "  results = results.append(query_data, ignore_index=True)\n",
      "C:\\Users\\zwei\\AppData\\Local\\Temp\\ipykernel_588\\4248089460.py:19: FutureWarning: The frame.append method is deprecated and will be removed from pandas in a future version. Use pandas.concat instead.\n",
      "  results = results.append(query_data, ignore_index=True)\n",
      "C:\\Users\\zwei\\AppData\\Local\\Temp\\ipykernel_588\\4248089460.py:19: FutureWarning: The frame.append method is deprecated and will be removed from pandas in a future version. Use pandas.concat instead.\n",
      "  results = results.append(query_data, ignore_index=True)\n",
      "C:\\Users\\zwei\\AppData\\Local\\Temp\\ipykernel_588\\4248089460.py:19: FutureWarning: The frame.append method is deprecated and will be removed from pandas in a future version. Use pandas.concat instead.\n",
      "  results = results.append(query_data, ignore_index=True)\n",
      "C:\\Users\\zwei\\AppData\\Local\\Temp\\ipykernel_588\\4248089460.py:19: FutureWarning: The frame.append method is deprecated and will be removed from pandas in a future version. Use pandas.concat instead.\n",
      "  results = results.append(query_data, ignore_index=True)\n",
      "C:\\Users\\zwei\\AppData\\Local\\Temp\\ipykernel_588\\4248089460.py:19: FutureWarning: The frame.append method is deprecated and will be removed from pandas in a future version. Use pandas.concat instead.\n",
      "  results = results.append(query_data, ignore_index=True)\n",
      "C:\\Users\\zwei\\AppData\\Local\\Temp\\ipykernel_588\\4248089460.py:19: FutureWarning: The frame.append method is deprecated and will be removed from pandas in a future version. Use pandas.concat instead.\n",
      "  results = results.append(query_data, ignore_index=True)\n",
      "C:\\Users\\zwei\\AppData\\Local\\Temp\\ipykernel_588\\4248089460.py:19: FutureWarning: The frame.append method is deprecated and will be removed from pandas in a future version. Use pandas.concat instead.\n",
      "  results = results.append(query_data, ignore_index=True)\n",
      "C:\\Users\\zwei\\AppData\\Local\\Temp\\ipykernel_588\\4248089460.py:19: FutureWarning: The frame.append method is deprecated and will be removed from pandas in a future version. Use pandas.concat instead.\n",
      "  results = results.append(query_data, ignore_index=True)\n"
     ]
    },
    {
     "name": "stderr",
     "output_type": "stream",
     "text": [
      "C:\\Users\\zwei\\AppData\\Local\\Temp\\ipykernel_588\\4248089460.py:19: FutureWarning: The frame.append method is deprecated and will be removed from pandas in a future version. Use pandas.concat instead.\n",
      "  results = results.append(query_data, ignore_index=True)\n",
      "C:\\Users\\zwei\\AppData\\Local\\Temp\\ipykernel_588\\4248089460.py:19: FutureWarning: The frame.append method is deprecated and will be removed from pandas in a future version. Use pandas.concat instead.\n",
      "  results = results.append(query_data, ignore_index=True)\n",
      "C:\\Users\\zwei\\AppData\\Local\\Temp\\ipykernel_588\\4248089460.py:19: FutureWarning: The frame.append method is deprecated and will be removed from pandas in a future version. Use pandas.concat instead.\n",
      "  results = results.append(query_data, ignore_index=True)\n",
      "C:\\Users\\zwei\\AppData\\Local\\Temp\\ipykernel_588\\4248089460.py:19: FutureWarning: The frame.append method is deprecated and will be removed from pandas in a future version. Use pandas.concat instead.\n",
      "  results = results.append(query_data, ignore_index=True)\n",
      "C:\\Users\\zwei\\AppData\\Local\\Temp\\ipykernel_588\\4248089460.py:19: FutureWarning: The frame.append method is deprecated and will be removed from pandas in a future version. Use pandas.concat instead.\n",
      "  results = results.append(query_data, ignore_index=True)\n",
      "C:\\Users\\zwei\\AppData\\Local\\Temp\\ipykernel_588\\4248089460.py:19: FutureWarning: The frame.append method is deprecated and will be removed from pandas in a future version. Use pandas.concat instead.\n",
      "  results = results.append(query_data, ignore_index=True)\n",
      "C:\\Users\\zwei\\AppData\\Local\\Temp\\ipykernel_588\\4248089460.py:19: FutureWarning: The frame.append method is deprecated and will be removed from pandas in a future version. Use pandas.concat instead.\n",
      "  results = results.append(query_data, ignore_index=True)\n",
      "C:\\Users\\zwei\\AppData\\Local\\Temp\\ipykernel_588\\4248089460.py:19: FutureWarning: The frame.append method is deprecated and will be removed from pandas in a future version. Use pandas.concat instead.\n",
      "  results = results.append(query_data, ignore_index=True)\n",
      "C:\\Users\\zwei\\AppData\\Local\\Temp\\ipykernel_588\\4248089460.py:19: FutureWarning: The frame.append method is deprecated and will be removed from pandas in a future version. Use pandas.concat instead.\n",
      "  results = results.append(query_data, ignore_index=True)\n",
      "C:\\Users\\zwei\\AppData\\Local\\Temp\\ipykernel_588\\4248089460.py:19: FutureWarning: The frame.append method is deprecated and will be removed from pandas in a future version. Use pandas.concat instead.\n",
      "  results = results.append(query_data, ignore_index=True)\n",
      "C:\\Users\\zwei\\AppData\\Local\\Temp\\ipykernel_588\\4248089460.py:19: FutureWarning: The frame.append method is deprecated and will be removed from pandas in a future version. Use pandas.concat instead.\n",
      "  results = results.append(query_data, ignore_index=True)\n",
      "C:\\Users\\zwei\\AppData\\Local\\Temp\\ipykernel_588\\4248089460.py:19: FutureWarning: The frame.append method is deprecated and will be removed from pandas in a future version. Use pandas.concat instead.\n",
      "  results = results.append(query_data, ignore_index=True)\n",
      "C:\\Users\\zwei\\AppData\\Local\\Temp\\ipykernel_588\\4248089460.py:19: FutureWarning: The frame.append method is deprecated and will be removed from pandas in a future version. Use pandas.concat instead.\n",
      "  results = results.append(query_data, ignore_index=True)\n",
      "C:\\Users\\zwei\\AppData\\Local\\Temp\\ipykernel_588\\4248089460.py:19: FutureWarning: The frame.append method is deprecated and will be removed from pandas in a future version. Use pandas.concat instead.\n",
      "  results = results.append(query_data, ignore_index=True)\n",
      "C:\\Users\\zwei\\AppData\\Local\\Temp\\ipykernel_588\\4248089460.py:19: FutureWarning: The frame.append method is deprecated and will be removed from pandas in a future version. Use pandas.concat instead.\n",
      "  results = results.append(query_data, ignore_index=True)\n",
      "C:\\Users\\zwei\\AppData\\Local\\Temp\\ipykernel_588\\4248089460.py:19: FutureWarning: The frame.append method is deprecated and will be removed from pandas in a future version. Use pandas.concat instead.\n",
      "  results = results.append(query_data, ignore_index=True)\n",
      "C:\\Users\\zwei\\AppData\\Local\\Temp\\ipykernel_588\\4248089460.py:19: FutureWarning: The frame.append method is deprecated and will be removed from pandas in a future version. Use pandas.concat instead.\n",
      "  results = results.append(query_data, ignore_index=True)\n",
      "C:\\Users\\zwei\\AppData\\Local\\Temp\\ipykernel_588\\4248089460.py:19: FutureWarning: The frame.append method is deprecated and will be removed from pandas in a future version. Use pandas.concat instead.\n",
      "  results = results.append(query_data, ignore_index=True)\n",
      "C:\\Users\\zwei\\AppData\\Local\\Temp\\ipykernel_588\\4248089460.py:19: FutureWarning: The frame.append method is deprecated and will be removed from pandas in a future version. Use pandas.concat instead.\n",
      "  results = results.append(query_data, ignore_index=True)\n",
      "C:\\Users\\zwei\\AppData\\Local\\Temp\\ipykernel_588\\4248089460.py:19: FutureWarning: The frame.append method is deprecated and will be removed from pandas in a future version. Use pandas.concat instead.\n",
      "  results = results.append(query_data, ignore_index=True)\n",
      "C:\\Users\\zwei\\AppData\\Local\\Temp\\ipykernel_588\\4248089460.py:19: FutureWarning: The frame.append method is deprecated and will be removed from pandas in a future version. Use pandas.concat instead.\n",
      "  results = results.append(query_data, ignore_index=True)\n",
      "C:\\Users\\zwei\\AppData\\Local\\Temp\\ipykernel_588\\4248089460.py:19: FutureWarning: The frame.append method is deprecated and will be removed from pandas in a future version. Use pandas.concat instead.\n",
      "  results = results.append(query_data, ignore_index=True)\n",
      "C:\\Users\\zwei\\AppData\\Local\\Temp\\ipykernel_588\\4248089460.py:19: FutureWarning: The frame.append method is deprecated and will be removed from pandas in a future version. Use pandas.concat instead.\n",
      "  results = results.append(query_data, ignore_index=True)\n",
      "C:\\Users\\zwei\\AppData\\Local\\Temp\\ipykernel_588\\4248089460.py:19: FutureWarning: The frame.append method is deprecated and will be removed from pandas in a future version. Use pandas.concat instead.\n",
      "  results = results.append(query_data, ignore_index=True)\n",
      "C:\\Users\\zwei\\AppData\\Local\\Temp\\ipykernel_588\\4248089460.py:19: FutureWarning: The frame.append method is deprecated and will be removed from pandas in a future version. Use pandas.concat instead.\n",
      "  results = results.append(query_data, ignore_index=True)\n",
      "C:\\Users\\zwei\\AppData\\Local\\Temp\\ipykernel_588\\4248089460.py:19: FutureWarning: The frame.append method is deprecated and will be removed from pandas in a future version. Use pandas.concat instead.\n",
      "  results = results.append(query_data, ignore_index=True)\n",
      "C:\\Users\\zwei\\AppData\\Local\\Temp\\ipykernel_588\\4248089460.py:19: FutureWarning: The frame.append method is deprecated and will be removed from pandas in a future version. Use pandas.concat instead.\n",
      "  results = results.append(query_data, ignore_index=True)\n"
     ]
    },
    {
     "name": "stdout",
     "output_type": "stream",
     "text": [
      "An error occurred: 'NoneType' object does not support item assignment\n"
     ]
    },
    {
     "name": "stderr",
     "output_type": "stream",
     "text": [
      "C:\\Users\\zwei\\AppData\\Local\\Temp\\ipykernel_588\\4248089460.py:19: FutureWarning: The frame.append method is deprecated and will be removed from pandas in a future version. Use pandas.concat instead.\n",
      "  results = results.append(query_data, ignore_index=True)\n",
      "C:\\Users\\zwei\\AppData\\Local\\Temp\\ipykernel_588\\4248089460.py:19: FutureWarning: The frame.append method is deprecated and will be removed from pandas in a future version. Use pandas.concat instead.\n",
      "  results = results.append(query_data, ignore_index=True)\n",
      "C:\\Users\\zwei\\AppData\\Local\\Temp\\ipykernel_588\\4248089460.py:19: FutureWarning: The frame.append method is deprecated and will be removed from pandas in a future version. Use pandas.concat instead.\n",
      "  results = results.append(query_data, ignore_index=True)\n",
      "C:\\Users\\zwei\\AppData\\Local\\Temp\\ipykernel_588\\4248089460.py:19: FutureWarning: The frame.append method is deprecated and will be removed from pandas in a future version. Use pandas.concat instead.\n",
      "  results = results.append(query_data, ignore_index=True)\n",
      "C:\\Users\\zwei\\AppData\\Local\\Temp\\ipykernel_588\\4248089460.py:19: FutureWarning: The frame.append method is deprecated and will be removed from pandas in a future version. Use pandas.concat instead.\n",
      "  results = results.append(query_data, ignore_index=True)\n",
      "C:\\Users\\zwei\\AppData\\Local\\Temp\\ipykernel_588\\4248089460.py:19: FutureWarning: The frame.append method is deprecated and will be removed from pandas in a future version. Use pandas.concat instead.\n",
      "  results = results.append(query_data, ignore_index=True)\n",
      "C:\\Users\\zwei\\AppData\\Local\\Temp\\ipykernel_588\\4248089460.py:19: FutureWarning: The frame.append method is deprecated and will be removed from pandas in a future version. Use pandas.concat instead.\n",
      "  results = results.append(query_data, ignore_index=True)\n",
      "C:\\Users\\zwei\\AppData\\Local\\Temp\\ipykernel_588\\4248089460.py:19: FutureWarning: The frame.append method is deprecated and will be removed from pandas in a future version. Use pandas.concat instead.\n",
      "  results = results.append(query_data, ignore_index=True)\n",
      "C:\\Users\\zwei\\AppData\\Local\\Temp\\ipykernel_588\\4248089460.py:19: FutureWarning: The frame.append method is deprecated and will be removed from pandas in a future version. Use pandas.concat instead.\n",
      "  results = results.append(query_data, ignore_index=True)\n",
      "C:\\Users\\zwei\\AppData\\Local\\Temp\\ipykernel_588\\4248089460.py:19: FutureWarning: The frame.append method is deprecated and will be removed from pandas in a future version. Use pandas.concat instead.\n",
      "  results = results.append(query_data, ignore_index=True)\n",
      "C:\\Users\\zwei\\AppData\\Local\\Temp\\ipykernel_588\\4248089460.py:19: FutureWarning: The frame.append method is deprecated and will be removed from pandas in a future version. Use pandas.concat instead.\n",
      "  results = results.append(query_data, ignore_index=True)\n",
      "C:\\Users\\zwei\\AppData\\Local\\Temp\\ipykernel_588\\4248089460.py:19: FutureWarning: The frame.append method is deprecated and will be removed from pandas in a future version. Use pandas.concat instead.\n",
      "  results = results.append(query_data, ignore_index=True)\n",
      "C:\\Users\\zwei\\AppData\\Local\\Temp\\ipykernel_588\\4248089460.py:19: FutureWarning: The frame.append method is deprecated and will be removed from pandas in a future version. Use pandas.concat instead.\n",
      "  results = results.append(query_data, ignore_index=True)\n",
      "C:\\Users\\zwei\\AppData\\Local\\Temp\\ipykernel_588\\4248089460.py:19: FutureWarning: The frame.append method is deprecated and will be removed from pandas in a future version. Use pandas.concat instead.\n",
      "  results = results.append(query_data, ignore_index=True)\n",
      "C:\\Users\\zwei\\AppData\\Local\\Temp\\ipykernel_588\\4248089460.py:19: FutureWarning: The frame.append method is deprecated and will be removed from pandas in a future version. Use pandas.concat instead.\n",
      "  results = results.append(query_data, ignore_index=True)\n"
     ]
    },
    {
     "name": "stdout",
     "output_type": "stream",
     "text": [
      "An error occurred: 'NoneType' object does not support item assignment\n"
     ]
    },
    {
     "name": "stderr",
     "output_type": "stream",
     "text": [
      "C:\\Users\\zwei\\AppData\\Local\\Temp\\ipykernel_588\\4248089460.py:19: FutureWarning: The frame.append method is deprecated and will be removed from pandas in a future version. Use pandas.concat instead.\n",
      "  results = results.append(query_data, ignore_index=True)\n",
      "C:\\Users\\zwei\\AppData\\Local\\Temp\\ipykernel_588\\4248089460.py:19: FutureWarning: The frame.append method is deprecated and will be removed from pandas in a future version. Use pandas.concat instead.\n",
      "  results = results.append(query_data, ignore_index=True)\n",
      "C:\\Users\\zwei\\AppData\\Local\\Temp\\ipykernel_588\\4248089460.py:19: FutureWarning: The frame.append method is deprecated and will be removed from pandas in a future version. Use pandas.concat instead.\n",
      "  results = results.append(query_data, ignore_index=True)\n",
      "C:\\Users\\zwei\\AppData\\Local\\Temp\\ipykernel_588\\4248089460.py:19: FutureWarning: The frame.append method is deprecated and will be removed from pandas in a future version. Use pandas.concat instead.\n",
      "  results = results.append(query_data, ignore_index=True)\n",
      "C:\\Users\\zwei\\AppData\\Local\\Temp\\ipykernel_588\\4248089460.py:19: FutureWarning: The frame.append method is deprecated and will be removed from pandas in a future version. Use pandas.concat instead.\n",
      "  results = results.append(query_data, ignore_index=True)\n",
      "C:\\Users\\zwei\\AppData\\Local\\Temp\\ipykernel_588\\4248089460.py:19: FutureWarning: The frame.append method is deprecated and will be removed from pandas in a future version. Use pandas.concat instead.\n",
      "  results = results.append(query_data, ignore_index=True)\n",
      "C:\\Users\\zwei\\AppData\\Local\\Temp\\ipykernel_588\\4248089460.py:19: FutureWarning: The frame.append method is deprecated and will be removed from pandas in a future version. Use pandas.concat instead.\n",
      "  results = results.append(query_data, ignore_index=True)\n",
      "C:\\Users\\zwei\\AppData\\Local\\Temp\\ipykernel_588\\4248089460.py:19: FutureWarning: The frame.append method is deprecated and will be removed from pandas in a future version. Use pandas.concat instead.\n",
      "  results = results.append(query_data, ignore_index=True)\n",
      "C:\\Users\\zwei\\AppData\\Local\\Temp\\ipykernel_588\\4248089460.py:19: FutureWarning: The frame.append method is deprecated and will be removed from pandas in a future version. Use pandas.concat instead.\n",
      "  results = results.append(query_data, ignore_index=True)\n",
      "C:\\Users\\zwei\\AppData\\Local\\Temp\\ipykernel_588\\4248089460.py:19: FutureWarning: The frame.append method is deprecated and will be removed from pandas in a future version. Use pandas.concat instead.\n",
      "  results = results.append(query_data, ignore_index=True)\n",
      "C:\\Users\\zwei\\AppData\\Local\\Temp\\ipykernel_588\\4248089460.py:19: FutureWarning: The frame.append method is deprecated and will be removed from pandas in a future version. Use pandas.concat instead.\n",
      "  results = results.append(query_data, ignore_index=True)\n",
      "C:\\Users\\zwei\\AppData\\Local\\Temp\\ipykernel_588\\4248089460.py:19: FutureWarning: The frame.append method is deprecated and will be removed from pandas in a future version. Use pandas.concat instead.\n",
      "  results = results.append(query_data, ignore_index=True)\n",
      "C:\\Users\\zwei\\AppData\\Local\\Temp\\ipykernel_588\\4248089460.py:19: FutureWarning: The frame.append method is deprecated and will be removed from pandas in a future version. Use pandas.concat instead.\n",
      "  results = results.append(query_data, ignore_index=True)\n"
     ]
    },
    {
     "name": "stdout",
     "output_type": "stream",
     "text": [
      "An error occurred: 'NoneType' object does not support item assignment\n"
     ]
    },
    {
     "name": "stderr",
     "output_type": "stream",
     "text": [
      "C:\\Users\\zwei\\AppData\\Local\\Temp\\ipykernel_588\\4248089460.py:19: FutureWarning: The frame.append method is deprecated and will be removed from pandas in a future version. Use pandas.concat instead.\n",
      "  results = results.append(query_data, ignore_index=True)\n",
      "C:\\Users\\zwei\\AppData\\Local\\Temp\\ipykernel_588\\4248089460.py:19: FutureWarning: The frame.append method is deprecated and will be removed from pandas in a future version. Use pandas.concat instead.\n",
      "  results = results.append(query_data, ignore_index=True)\n",
      "C:\\Users\\zwei\\AppData\\Local\\Temp\\ipykernel_588\\4248089460.py:19: FutureWarning: The frame.append method is deprecated and will be removed from pandas in a future version. Use pandas.concat instead.\n",
      "  results = results.append(query_data, ignore_index=True)\n",
      "C:\\Users\\zwei\\AppData\\Local\\Temp\\ipykernel_588\\4248089460.py:19: FutureWarning: The frame.append method is deprecated and will be removed from pandas in a future version. Use pandas.concat instead.\n",
      "  results = results.append(query_data, ignore_index=True)\n",
      "C:\\Users\\zwei\\AppData\\Local\\Temp\\ipykernel_588\\4248089460.py:19: FutureWarning: The frame.append method is deprecated and will be removed from pandas in a future version. Use pandas.concat instead.\n",
      "  results = results.append(query_data, ignore_index=True)\n",
      "C:\\Users\\zwei\\AppData\\Local\\Temp\\ipykernel_588\\4248089460.py:19: FutureWarning: The frame.append method is deprecated and will be removed from pandas in a future version. Use pandas.concat instead.\n",
      "  results = results.append(query_data, ignore_index=True)\n",
      "C:\\Users\\zwei\\AppData\\Local\\Temp\\ipykernel_588\\4248089460.py:19: FutureWarning: The frame.append method is deprecated and will be removed from pandas in a future version. Use pandas.concat instead.\n",
      "  results = results.append(query_data, ignore_index=True)\n"
     ]
    },
    {
     "name": "stdout",
     "output_type": "stream",
     "text": [
      "An error occurred: 'NoneType' object does not support item assignment\n"
     ]
    },
    {
     "name": "stderr",
     "output_type": "stream",
     "text": [
      "C:\\Users\\zwei\\AppData\\Local\\Temp\\ipykernel_588\\4248089460.py:19: FutureWarning: The frame.append method is deprecated and will be removed from pandas in a future version. Use pandas.concat instead.\n",
      "  results = results.append(query_data, ignore_index=True)\n",
      "C:\\Users\\zwei\\AppData\\Local\\Temp\\ipykernel_588\\4248089460.py:19: FutureWarning: The frame.append method is deprecated and will be removed from pandas in a future version. Use pandas.concat instead.\n",
      "  results = results.append(query_data, ignore_index=True)\n",
      "C:\\Users\\zwei\\AppData\\Local\\Temp\\ipykernel_588\\4248089460.py:19: FutureWarning: The frame.append method is deprecated and will be removed from pandas in a future version. Use pandas.concat instead.\n",
      "  results = results.append(query_data, ignore_index=True)\n",
      "C:\\Users\\zwei\\AppData\\Local\\Temp\\ipykernel_588\\4248089460.py:19: FutureWarning: The frame.append method is deprecated and will be removed from pandas in a future version. Use pandas.concat instead.\n",
      "  results = results.append(query_data, ignore_index=True)\n",
      "C:\\Users\\zwei\\AppData\\Local\\Temp\\ipykernel_588\\4248089460.py:19: FutureWarning: The frame.append method is deprecated and will be removed from pandas in a future version. Use pandas.concat instead.\n",
      "  results = results.append(query_data, ignore_index=True)\n",
      "C:\\Users\\zwei\\AppData\\Local\\Temp\\ipykernel_588\\4248089460.py:19: FutureWarning: The frame.append method is deprecated and will be removed from pandas in a future version. Use pandas.concat instead.\n",
      "  results = results.append(query_data, ignore_index=True)\n",
      "C:\\Users\\zwei\\AppData\\Local\\Temp\\ipykernel_588\\4248089460.py:19: FutureWarning: The frame.append method is deprecated and will be removed from pandas in a future version. Use pandas.concat instead.\n",
      "  results = results.append(query_data, ignore_index=True)\n",
      "C:\\Users\\zwei\\AppData\\Local\\Temp\\ipykernel_588\\4248089460.py:19: FutureWarning: The frame.append method is deprecated and will be removed from pandas in a future version. Use pandas.concat instead.\n",
      "  results = results.append(query_data, ignore_index=True)\n",
      "C:\\Users\\zwei\\AppData\\Local\\Temp\\ipykernel_588\\4248089460.py:19: FutureWarning: The frame.append method is deprecated and will be removed from pandas in a future version. Use pandas.concat instead.\n",
      "  results = results.append(query_data, ignore_index=True)\n"
     ]
    },
    {
     "name": "stdout",
     "output_type": "stream",
     "text": [
      "An error occurred: 'NoneType' object does not support item assignment\n"
     ]
    },
    {
     "name": "stderr",
     "output_type": "stream",
     "text": [
      "C:\\Users\\zwei\\AppData\\Local\\Temp\\ipykernel_588\\4248089460.py:19: FutureWarning: The frame.append method is deprecated and will be removed from pandas in a future version. Use pandas.concat instead.\n",
      "  results = results.append(query_data, ignore_index=True)\n",
      "C:\\Users\\zwei\\AppData\\Local\\Temp\\ipykernel_588\\4248089460.py:19: FutureWarning: The frame.append method is deprecated and will be removed from pandas in a future version. Use pandas.concat instead.\n",
      "  results = results.append(query_data, ignore_index=True)\n",
      "C:\\Users\\zwei\\AppData\\Local\\Temp\\ipykernel_588\\4248089460.py:19: FutureWarning: The frame.append method is deprecated and will be removed from pandas in a future version. Use pandas.concat instead.\n",
      "  results = results.append(query_data, ignore_index=True)\n"
     ]
    },
    {
     "name": "stdout",
     "output_type": "stream",
     "text": [
      "An error occurred: 'NoneType' object does not support item assignment\n"
     ]
    },
    {
     "name": "stderr",
     "output_type": "stream",
     "text": [
      "C:\\Users\\zwei\\AppData\\Local\\Temp\\ipykernel_588\\4248089460.py:19: FutureWarning: The frame.append method is deprecated and will be removed from pandas in a future version. Use pandas.concat instead.\n",
      "  results = results.append(query_data, ignore_index=True)\n",
      "C:\\Users\\zwei\\AppData\\Local\\Temp\\ipykernel_588\\4248089460.py:19: FutureWarning: The frame.append method is deprecated and will be removed from pandas in a future version. Use pandas.concat instead.\n",
      "  results = results.append(query_data, ignore_index=True)\n",
      "C:\\Users\\zwei\\AppData\\Local\\Temp\\ipykernel_588\\4248089460.py:19: FutureWarning: The frame.append method is deprecated and will be removed from pandas in a future version. Use pandas.concat instead.\n",
      "  results = results.append(query_data, ignore_index=True)\n",
      "C:\\Users\\zwei\\AppData\\Local\\Temp\\ipykernel_588\\4248089460.py:19: FutureWarning: The frame.append method is deprecated and will be removed from pandas in a future version. Use pandas.concat instead.\n",
      "  results = results.append(query_data, ignore_index=True)\n",
      "C:\\Users\\zwei\\AppData\\Local\\Temp\\ipykernel_588\\4248089460.py:19: FutureWarning: The frame.append method is deprecated and will be removed from pandas in a future version. Use pandas.concat instead.\n",
      "  results = results.append(query_data, ignore_index=True)\n",
      "C:\\Users\\zwei\\AppData\\Local\\Temp\\ipykernel_588\\4248089460.py:19: FutureWarning: The frame.append method is deprecated and will be removed from pandas in a future version. Use pandas.concat instead.\n",
      "  results = results.append(query_data, ignore_index=True)\n",
      "C:\\Users\\zwei\\AppData\\Local\\Temp\\ipykernel_588\\4248089460.py:19: FutureWarning: The frame.append method is deprecated and will be removed from pandas in a future version. Use pandas.concat instead.\n",
      "  results = results.append(query_data, ignore_index=True)\n",
      "C:\\Users\\zwei\\AppData\\Local\\Temp\\ipykernel_588\\4248089460.py:19: FutureWarning: The frame.append method is deprecated and will be removed from pandas in a future version. Use pandas.concat instead.\n",
      "  results = results.append(query_data, ignore_index=True)\n",
      "C:\\Users\\zwei\\AppData\\Local\\Temp\\ipykernel_588\\4248089460.py:19: FutureWarning: The frame.append method is deprecated and will be removed from pandas in a future version. Use pandas.concat instead.\n",
      "  results = results.append(query_data, ignore_index=True)\n",
      "C:\\Users\\zwei\\AppData\\Local\\Temp\\ipykernel_588\\4248089460.py:19: FutureWarning: The frame.append method is deprecated and will be removed from pandas in a future version. Use pandas.concat instead.\n",
      "  results = results.append(query_data, ignore_index=True)\n",
      "C:\\Users\\zwei\\AppData\\Local\\Temp\\ipykernel_588\\4248089460.py:19: FutureWarning: The frame.append method is deprecated and will be removed from pandas in a future version. Use pandas.concat instead.\n",
      "  results = results.append(query_data, ignore_index=True)\n",
      "C:\\Users\\zwei\\AppData\\Local\\Temp\\ipykernel_588\\4248089460.py:19: FutureWarning: The frame.append method is deprecated and will be removed from pandas in a future version. Use pandas.concat instead.\n",
      "  results = results.append(query_data, ignore_index=True)\n",
      "C:\\Users\\zwei\\AppData\\Local\\Temp\\ipykernel_588\\4248089460.py:19: FutureWarning: The frame.append method is deprecated and will be removed from pandas in a future version. Use pandas.concat instead.\n",
      "  results = results.append(query_data, ignore_index=True)\n",
      "C:\\Users\\zwei\\AppData\\Local\\Temp\\ipykernel_588\\4248089460.py:19: FutureWarning: The frame.append method is deprecated and will be removed from pandas in a future version. Use pandas.concat instead.\n",
      "  results = results.append(query_data, ignore_index=True)\n",
      "C:\\Users\\zwei\\AppData\\Local\\Temp\\ipykernel_588\\4248089460.py:19: FutureWarning: The frame.append method is deprecated and will be removed from pandas in a future version. Use pandas.concat instead.\n",
      "  results = results.append(query_data, ignore_index=True)\n",
      "C:\\Users\\zwei\\AppData\\Local\\Temp\\ipykernel_588\\4248089460.py:19: FutureWarning: The frame.append method is deprecated and will be removed from pandas in a future version. Use pandas.concat instead.\n",
      "  results = results.append(query_data, ignore_index=True)\n",
      "C:\\Users\\zwei\\AppData\\Local\\Temp\\ipykernel_588\\4248089460.py:19: FutureWarning: The frame.append method is deprecated and will be removed from pandas in a future version. Use pandas.concat instead.\n",
      "  results = results.append(query_data, ignore_index=True)\n"
     ]
    },
    {
     "name": "stdout",
     "output_type": "stream",
     "text": [
      "An error occurred: 'NoneType' object does not support item assignment\n"
     ]
    },
    {
     "name": "stderr",
     "output_type": "stream",
     "text": [
      "C:\\Users\\zwei\\AppData\\Local\\Temp\\ipykernel_588\\4248089460.py:19: FutureWarning: The frame.append method is deprecated and will be removed from pandas in a future version. Use pandas.concat instead.\n",
      "  results = results.append(query_data, ignore_index=True)\n"
     ]
    },
    {
     "name": "stdout",
     "output_type": "stream",
     "text": [
      "An error occurred: 'NoneType' object does not support item assignment\n"
     ]
    },
    {
     "name": "stderr",
     "output_type": "stream",
     "text": [
      "C:\\Users\\zwei\\AppData\\Local\\Temp\\ipykernel_588\\4248089460.py:19: FutureWarning: The frame.append method is deprecated and will be removed from pandas in a future version. Use pandas.concat instead.\n",
      "  results = results.append(query_data, ignore_index=True)\n",
      "C:\\Users\\zwei\\AppData\\Local\\Temp\\ipykernel_588\\4248089460.py:19: FutureWarning: The frame.append method is deprecated and will be removed from pandas in a future version. Use pandas.concat instead.\n",
      "  results = results.append(query_data, ignore_index=True)\n",
      "C:\\Users\\zwei\\AppData\\Local\\Temp\\ipykernel_588\\4248089460.py:19: FutureWarning: The frame.append method is deprecated and will be removed from pandas in a future version. Use pandas.concat instead.\n",
      "  results = results.append(query_data, ignore_index=True)\n",
      "C:\\Users\\zwei\\AppData\\Local\\Temp\\ipykernel_588\\4248089460.py:19: FutureWarning: The frame.append method is deprecated and will be removed from pandas in a future version. Use pandas.concat instead.\n",
      "  results = results.append(query_data, ignore_index=True)\n",
      "C:\\Users\\zwei\\AppData\\Local\\Temp\\ipykernel_588\\4248089460.py:19: FutureWarning: The frame.append method is deprecated and will be removed from pandas in a future version. Use pandas.concat instead.\n",
      "  results = results.append(query_data, ignore_index=True)\n",
      "C:\\Users\\zwei\\AppData\\Local\\Temp\\ipykernel_588\\4248089460.py:19: FutureWarning: The frame.append method is deprecated and will be removed from pandas in a future version. Use pandas.concat instead.\n",
      "  results = results.append(query_data, ignore_index=True)\n",
      "C:\\Users\\zwei\\AppData\\Local\\Temp\\ipykernel_588\\4248089460.py:19: FutureWarning: The frame.append method is deprecated and will be removed from pandas in a future version. Use pandas.concat instead.\n",
      "  results = results.append(query_data, ignore_index=True)\n",
      "C:\\Users\\zwei\\AppData\\Local\\Temp\\ipykernel_588\\4248089460.py:19: FutureWarning: The frame.append method is deprecated and will be removed from pandas in a future version. Use pandas.concat instead.\n",
      "  results = results.append(query_data, ignore_index=True)\n",
      "C:\\Users\\zwei\\AppData\\Local\\Temp\\ipykernel_588\\4248089460.py:19: FutureWarning: The frame.append method is deprecated and will be removed from pandas in a future version. Use pandas.concat instead.\n",
      "  results = results.append(query_data, ignore_index=True)\n",
      "C:\\Users\\zwei\\AppData\\Local\\Temp\\ipykernel_588\\4248089460.py:19: FutureWarning: The frame.append method is deprecated and will be removed from pandas in a future version. Use pandas.concat instead.\n",
      "  results = results.append(query_data, ignore_index=True)\n",
      "C:\\Users\\zwei\\AppData\\Local\\Temp\\ipykernel_588\\4248089460.py:19: FutureWarning: The frame.append method is deprecated and will be removed from pandas in a future version. Use pandas.concat instead.\n",
      "  results = results.append(query_data, ignore_index=True)\n",
      "C:\\Users\\zwei\\AppData\\Local\\Temp\\ipykernel_588\\4248089460.py:19: FutureWarning: The frame.append method is deprecated and will be removed from pandas in a future version. Use pandas.concat instead.\n",
      "  results = results.append(query_data, ignore_index=True)\n",
      "C:\\Users\\zwei\\AppData\\Local\\Temp\\ipykernel_588\\4248089460.py:19: FutureWarning: The frame.append method is deprecated and will be removed from pandas in a future version. Use pandas.concat instead.\n",
      "  results = results.append(query_data, ignore_index=True)\n",
      "C:\\Users\\zwei\\AppData\\Local\\Temp\\ipykernel_588\\4248089460.py:19: FutureWarning: The frame.append method is deprecated and will be removed from pandas in a future version. Use pandas.concat instead.\n",
      "  results = results.append(query_data, ignore_index=True)\n",
      "C:\\Users\\zwei\\AppData\\Local\\Temp\\ipykernel_588\\4248089460.py:19: FutureWarning: The frame.append method is deprecated and will be removed from pandas in a future version. Use pandas.concat instead.\n",
      "  results = results.append(query_data, ignore_index=True)\n",
      "C:\\Users\\zwei\\AppData\\Local\\Temp\\ipykernel_588\\4248089460.py:19: FutureWarning: The frame.append method is deprecated and will be removed from pandas in a future version. Use pandas.concat instead.\n",
      "  results = results.append(query_data, ignore_index=True)\n",
      "C:\\Users\\zwei\\AppData\\Local\\Temp\\ipykernel_588\\4248089460.py:19: FutureWarning: The frame.append method is deprecated and will be removed from pandas in a future version. Use pandas.concat instead.\n",
      "  results = results.append(query_data, ignore_index=True)\n",
      "C:\\Users\\zwei\\AppData\\Local\\Temp\\ipykernel_588\\4248089460.py:19: FutureWarning: The frame.append method is deprecated and will be removed from pandas in a future version. Use pandas.concat instead.\n",
      "  results = results.append(query_data, ignore_index=True)\n",
      "C:\\Users\\zwei\\AppData\\Local\\Temp\\ipykernel_588\\4248089460.py:19: FutureWarning: The frame.append method is deprecated and will be removed from pandas in a future version. Use pandas.concat instead.\n",
      "  results = results.append(query_data, ignore_index=True)\n",
      "C:\\Users\\zwei\\AppData\\Local\\Temp\\ipykernel_588\\4248089460.py:19: FutureWarning: The frame.append method is deprecated and will be removed from pandas in a future version. Use pandas.concat instead.\n",
      "  results = results.append(query_data, ignore_index=True)\n",
      "C:\\Users\\zwei\\AppData\\Local\\Temp\\ipykernel_588\\4248089460.py:19: FutureWarning: The frame.append method is deprecated and will be removed from pandas in a future version. Use pandas.concat instead.\n",
      "  results = results.append(query_data, ignore_index=True)\n",
      "C:\\Users\\zwei\\AppData\\Local\\Temp\\ipykernel_588\\4248089460.py:19: FutureWarning: The frame.append method is deprecated and will be removed from pandas in a future version. Use pandas.concat instead.\n",
      "  results = results.append(query_data, ignore_index=True)\n",
      "C:\\Users\\zwei\\AppData\\Local\\Temp\\ipykernel_588\\4248089460.py:19: FutureWarning: The frame.append method is deprecated and will be removed from pandas in a future version. Use pandas.concat instead.\n",
      "  results = results.append(query_data, ignore_index=True)\n",
      "C:\\Users\\zwei\\AppData\\Local\\Temp\\ipykernel_588\\4248089460.py:19: FutureWarning: The frame.append method is deprecated and will be removed from pandas in a future version. Use pandas.concat instead.\n",
      "  results = results.append(query_data, ignore_index=True)\n"
     ]
    },
    {
     "name": "stdout",
     "output_type": "stream",
     "text": [
      "An error occurred: The request failed: Google returned a response with code 429\n"
     ]
    },
    {
     "name": "stderr",
     "output_type": "stream",
     "text": [
      "C:\\Users\\zwei\\AppData\\Local\\Temp\\ipykernel_588\\4248089460.py:19: FutureWarning: The frame.append method is deprecated and will be removed from pandas in a future version. Use pandas.concat instead.\n",
      "  results = results.append(query_data, ignore_index=True)\n",
      "C:\\Users\\zwei\\AppData\\Local\\Temp\\ipykernel_588\\4248089460.py:19: FutureWarning: The frame.append method is deprecated and will be removed from pandas in a future version. Use pandas.concat instead.\n",
      "  results = results.append(query_data, ignore_index=True)\n",
      "C:\\Users\\zwei\\AppData\\Local\\Temp\\ipykernel_588\\4248089460.py:19: FutureWarning: The frame.append method is deprecated and will be removed from pandas in a future version. Use pandas.concat instead.\n",
      "  results = results.append(query_data, ignore_index=True)\n",
      "C:\\Users\\zwei\\AppData\\Local\\Temp\\ipykernel_588\\4248089460.py:19: FutureWarning: The frame.append method is deprecated and will be removed from pandas in a future version. Use pandas.concat instead.\n",
      "  results = results.append(query_data, ignore_index=True)\n",
      "C:\\Users\\zwei\\AppData\\Local\\Temp\\ipykernel_588\\4248089460.py:19: FutureWarning: The frame.append method is deprecated and will be removed from pandas in a future version. Use pandas.concat instead.\n",
      "  results = results.append(query_data, ignore_index=True)\n",
      "C:\\Users\\zwei\\AppData\\Local\\Temp\\ipykernel_588\\4248089460.py:19: FutureWarning: The frame.append method is deprecated and will be removed from pandas in a future version. Use pandas.concat instead.\n",
      "  results = results.append(query_data, ignore_index=True)\n",
      "C:\\Users\\zwei\\AppData\\Local\\Temp\\ipykernel_588\\4248089460.py:19: FutureWarning: The frame.append method is deprecated and will be removed from pandas in a future version. Use pandas.concat instead.\n",
      "  results = results.append(query_data, ignore_index=True)\n",
      "C:\\Users\\zwei\\AppData\\Local\\Temp\\ipykernel_588\\4248089460.py:19: FutureWarning: The frame.append method is deprecated and will be removed from pandas in a future version. Use pandas.concat instead.\n",
      "  results = results.append(query_data, ignore_index=True)\n",
      "C:\\Users\\zwei\\AppData\\Local\\Temp\\ipykernel_588\\4248089460.py:19: FutureWarning: The frame.append method is deprecated and will be removed from pandas in a future version. Use pandas.concat instead.\n",
      "  results = results.append(query_data, ignore_index=True)\n",
      "C:\\Users\\zwei\\AppData\\Local\\Temp\\ipykernel_588\\4248089460.py:19: FutureWarning: The frame.append method is deprecated and will be removed from pandas in a future version. Use pandas.concat instead.\n",
      "  results = results.append(query_data, ignore_index=True)\n",
      "C:\\Users\\zwei\\AppData\\Local\\Temp\\ipykernel_588\\4248089460.py:19: FutureWarning: The frame.append method is deprecated and will be removed from pandas in a future version. Use pandas.concat instead.\n",
      "  results = results.append(query_data, ignore_index=True)\n"
     ]
    },
    {
     "name": "stdout",
     "output_type": "stream",
     "text": [
      "An error occurred: 'NoneType' object does not support item assignment\n"
     ]
    },
    {
     "name": "stderr",
     "output_type": "stream",
     "text": [
      "C:\\Users\\zwei\\AppData\\Local\\Temp\\ipykernel_588\\4248089460.py:19: FutureWarning: The frame.append method is deprecated and will be removed from pandas in a future version. Use pandas.concat instead.\n",
      "  results = results.append(query_data, ignore_index=True)\n",
      "C:\\Users\\zwei\\AppData\\Local\\Temp\\ipykernel_588\\4248089460.py:19: FutureWarning: The frame.append method is deprecated and will be removed from pandas in a future version. Use pandas.concat instead.\n",
      "  results = results.append(query_data, ignore_index=True)\n",
      "C:\\Users\\zwei\\AppData\\Local\\Temp\\ipykernel_588\\4248089460.py:19: FutureWarning: The frame.append method is deprecated and will be removed from pandas in a future version. Use pandas.concat instead.\n",
      "  results = results.append(query_data, ignore_index=True)\n",
      "C:\\Users\\zwei\\AppData\\Local\\Temp\\ipykernel_588\\4248089460.py:19: FutureWarning: The frame.append method is deprecated and will be removed from pandas in a future version. Use pandas.concat instead.\n",
      "  results = results.append(query_data, ignore_index=True)\n",
      "C:\\Users\\zwei\\AppData\\Local\\Temp\\ipykernel_588\\4248089460.py:19: FutureWarning: The frame.append method is deprecated and will be removed from pandas in a future version. Use pandas.concat instead.\n",
      "  results = results.append(query_data, ignore_index=True)\n"
     ]
    },
    {
     "name": "stdout",
     "output_type": "stream",
     "text": [
      "An error occurred: 'NoneType' object does not support item assignment\n"
     ]
    },
    {
     "name": "stderr",
     "output_type": "stream",
     "text": [
      "C:\\Users\\zwei\\AppData\\Local\\Temp\\ipykernel_588\\4248089460.py:19: FutureWarning: The frame.append method is deprecated and will be removed from pandas in a future version. Use pandas.concat instead.\n",
      "  results = results.append(query_data, ignore_index=True)\n",
      "C:\\Users\\zwei\\AppData\\Local\\Temp\\ipykernel_588\\4248089460.py:19: FutureWarning: The frame.append method is deprecated and will be removed from pandas in a future version. Use pandas.concat instead.\n",
      "  results = results.append(query_data, ignore_index=True)\n",
      "C:\\Users\\zwei\\AppData\\Local\\Temp\\ipykernel_588\\4248089460.py:19: FutureWarning: The frame.append method is deprecated and will be removed from pandas in a future version. Use pandas.concat instead.\n",
      "  results = results.append(query_data, ignore_index=True)\n",
      "C:\\Users\\zwei\\AppData\\Local\\Temp\\ipykernel_588\\4248089460.py:19: FutureWarning: The frame.append method is deprecated and will be removed from pandas in a future version. Use pandas.concat instead.\n",
      "  results = results.append(query_data, ignore_index=True)\n",
      "C:\\Users\\zwei\\AppData\\Local\\Temp\\ipykernel_588\\4248089460.py:19: FutureWarning: The frame.append method is deprecated and will be removed from pandas in a future version. Use pandas.concat instead.\n",
      "  results = results.append(query_data, ignore_index=True)\n",
      "C:\\Users\\zwei\\AppData\\Local\\Temp\\ipykernel_588\\4248089460.py:19: FutureWarning: The frame.append method is deprecated and will be removed from pandas in a future version. Use pandas.concat instead.\n",
      "  results = results.append(query_data, ignore_index=True)\n",
      "C:\\Users\\zwei\\AppData\\Local\\Temp\\ipykernel_588\\4248089460.py:19: FutureWarning: The frame.append method is deprecated and will be removed from pandas in a future version. Use pandas.concat instead.\n",
      "  results = results.append(query_data, ignore_index=True)\n",
      "C:\\Users\\zwei\\AppData\\Local\\Temp\\ipykernel_588\\4248089460.py:19: FutureWarning: The frame.append method is deprecated and will be removed from pandas in a future version. Use pandas.concat instead.\n",
      "  results = results.append(query_data, ignore_index=True)\n",
      "C:\\Users\\zwei\\AppData\\Local\\Temp\\ipykernel_588\\4248089460.py:19: FutureWarning: The frame.append method is deprecated and will be removed from pandas in a future version. Use pandas.concat instead.\n",
      "  results = results.append(query_data, ignore_index=True)\n"
     ]
    },
    {
     "name": "stdout",
     "output_type": "stream",
     "text": [
      "An error occurred: 'NoneType' object does not support item assignment\n"
     ]
    },
    {
     "name": "stderr",
     "output_type": "stream",
     "text": [
      "C:\\Users\\zwei\\AppData\\Local\\Temp\\ipykernel_588\\4248089460.py:19: FutureWarning: The frame.append method is deprecated and will be removed from pandas in a future version. Use pandas.concat instead.\n",
      "  results = results.append(query_data, ignore_index=True)\n",
      "C:\\Users\\zwei\\AppData\\Local\\Temp\\ipykernel_588\\4248089460.py:19: FutureWarning: The frame.append method is deprecated and will be removed from pandas in a future version. Use pandas.concat instead.\n",
      "  results = results.append(query_data, ignore_index=True)\n",
      "C:\\Users\\zwei\\AppData\\Local\\Temp\\ipykernel_588\\4248089460.py:19: FutureWarning: The frame.append method is deprecated and will be removed from pandas in a future version. Use pandas.concat instead.\n",
      "  results = results.append(query_data, ignore_index=True)\n",
      "C:\\Users\\zwei\\AppData\\Local\\Temp\\ipykernel_588\\4248089460.py:19: FutureWarning: The frame.append method is deprecated and will be removed from pandas in a future version. Use pandas.concat instead.\n",
      "  results = results.append(query_data, ignore_index=True)\n",
      "C:\\Users\\zwei\\AppData\\Local\\Temp\\ipykernel_588\\4248089460.py:19: FutureWarning: The frame.append method is deprecated and will be removed from pandas in a future version. Use pandas.concat instead.\n",
      "  results = results.append(query_data, ignore_index=True)\n",
      "C:\\Users\\zwei\\AppData\\Local\\Temp\\ipykernel_588\\4248089460.py:19: FutureWarning: The frame.append method is deprecated and will be removed from pandas in a future version. Use pandas.concat instead.\n",
      "  results = results.append(query_data, ignore_index=True)\n",
      "C:\\Users\\zwei\\AppData\\Local\\Temp\\ipykernel_588\\4248089460.py:19: FutureWarning: The frame.append method is deprecated and will be removed from pandas in a future version. Use pandas.concat instead.\n",
      "  results = results.append(query_data, ignore_index=True)\n",
      "C:\\Users\\zwei\\AppData\\Local\\Temp\\ipykernel_588\\4248089460.py:19: FutureWarning: The frame.append method is deprecated and will be removed from pandas in a future version. Use pandas.concat instead.\n",
      "  results = results.append(query_data, ignore_index=True)\n",
      "C:\\Users\\zwei\\AppData\\Local\\Temp\\ipykernel_588\\4248089460.py:19: FutureWarning: The frame.append method is deprecated and will be removed from pandas in a future version. Use pandas.concat instead.\n",
      "  results = results.append(query_data, ignore_index=True)\n",
      "C:\\Users\\zwei\\AppData\\Local\\Temp\\ipykernel_588\\4248089460.py:19: FutureWarning: The frame.append method is deprecated and will be removed from pandas in a future version. Use pandas.concat instead.\n",
      "  results = results.append(query_data, ignore_index=True)\n",
      "C:\\Users\\zwei\\AppData\\Local\\Temp\\ipykernel_588\\4248089460.py:19: FutureWarning: The frame.append method is deprecated and will be removed from pandas in a future version. Use pandas.concat instead.\n",
      "  results = results.append(query_data, ignore_index=True)\n",
      "C:\\Users\\zwei\\AppData\\Local\\Temp\\ipykernel_588\\4248089460.py:19: FutureWarning: The frame.append method is deprecated and will be removed from pandas in a future version. Use pandas.concat instead.\n",
      "  results = results.append(query_data, ignore_index=True)\n",
      "C:\\Users\\zwei\\AppData\\Local\\Temp\\ipykernel_588\\4248089460.py:19: FutureWarning: The frame.append method is deprecated and will be removed from pandas in a future version. Use pandas.concat instead.\n",
      "  results = results.append(query_data, ignore_index=True)\n",
      "C:\\Users\\zwei\\AppData\\Local\\Temp\\ipykernel_588\\4248089460.py:19: FutureWarning: The frame.append method is deprecated and will be removed from pandas in a future version. Use pandas.concat instead.\n",
      "  results = results.append(query_data, ignore_index=True)\n",
      "C:\\Users\\zwei\\AppData\\Local\\Temp\\ipykernel_588\\4248089460.py:19: FutureWarning: The frame.append method is deprecated and will be removed from pandas in a future version. Use pandas.concat instead.\n",
      "  results = results.append(query_data, ignore_index=True)\n",
      "C:\\Users\\zwei\\AppData\\Local\\Temp\\ipykernel_588\\4248089460.py:19: FutureWarning: The frame.append method is deprecated and will be removed from pandas in a future version. Use pandas.concat instead.\n",
      "  results = results.append(query_data, ignore_index=True)\n",
      "C:\\Users\\zwei\\AppData\\Local\\Temp\\ipykernel_588\\4248089460.py:19: FutureWarning: The frame.append method is deprecated and will be removed from pandas in a future version. Use pandas.concat instead.\n",
      "  results = results.append(query_data, ignore_index=True)\n"
     ]
    },
    {
     "name": "stdout",
     "output_type": "stream",
     "text": [
      "An error occurred: 'NoneType' object does not support item assignment\n"
     ]
    },
    {
     "name": "stderr",
     "output_type": "stream",
     "text": [
      "C:\\Users\\zwei\\AppData\\Local\\Temp\\ipykernel_588\\4248089460.py:19: FutureWarning: The frame.append method is deprecated and will be removed from pandas in a future version. Use pandas.concat instead.\n",
      "  results = results.append(query_data, ignore_index=True)\n",
      "C:\\Users\\zwei\\AppData\\Local\\Temp\\ipykernel_588\\4248089460.py:19: FutureWarning: The frame.append method is deprecated and will be removed from pandas in a future version. Use pandas.concat instead.\n",
      "  results = results.append(query_data, ignore_index=True)\n",
      "C:\\Users\\zwei\\AppData\\Local\\Temp\\ipykernel_588\\4248089460.py:19: FutureWarning: The frame.append method is deprecated and will be removed from pandas in a future version. Use pandas.concat instead.\n",
      "  results = results.append(query_data, ignore_index=True)\n",
      "C:\\Users\\zwei\\AppData\\Local\\Temp\\ipykernel_588\\4248089460.py:19: FutureWarning: The frame.append method is deprecated and will be removed from pandas in a future version. Use pandas.concat instead.\n",
      "  results = results.append(query_data, ignore_index=True)\n",
      "C:\\Users\\zwei\\AppData\\Local\\Temp\\ipykernel_588\\4248089460.py:19: FutureWarning: The frame.append method is deprecated and will be removed from pandas in a future version. Use pandas.concat instead.\n",
      "  results = results.append(query_data, ignore_index=True)\n",
      "C:\\Users\\zwei\\AppData\\Local\\Temp\\ipykernel_588\\4248089460.py:19: FutureWarning: The frame.append method is deprecated and will be removed from pandas in a future version. Use pandas.concat instead.\n",
      "  results = results.append(query_data, ignore_index=True)\n",
      "C:\\Users\\zwei\\AppData\\Local\\Temp\\ipykernel_588\\4248089460.py:19: FutureWarning: The frame.append method is deprecated and will be removed from pandas in a future version. Use pandas.concat instead.\n",
      "  results = results.append(query_data, ignore_index=True)\n"
     ]
    },
    {
     "name": "stdout",
     "output_type": "stream",
     "text": [
      "An error occurred: 'NoneType' object does not support item assignment\n"
     ]
    },
    {
     "name": "stderr",
     "output_type": "stream",
     "text": [
      "C:\\Users\\zwei\\AppData\\Local\\Temp\\ipykernel_588\\4248089460.py:19: FutureWarning: The frame.append method is deprecated and will be removed from pandas in a future version. Use pandas.concat instead.\n",
      "  results = results.append(query_data, ignore_index=True)\n",
      "C:\\Users\\zwei\\AppData\\Local\\Temp\\ipykernel_588\\4248089460.py:19: FutureWarning: The frame.append method is deprecated and will be removed from pandas in a future version. Use pandas.concat instead.\n",
      "  results = results.append(query_data, ignore_index=True)\n",
      "C:\\Users\\zwei\\AppData\\Local\\Temp\\ipykernel_588\\4248089460.py:19: FutureWarning: The frame.append method is deprecated and will be removed from pandas in a future version. Use pandas.concat instead.\n",
      "  results = results.append(query_data, ignore_index=True)\n",
      "C:\\Users\\zwei\\AppData\\Local\\Temp\\ipykernel_588\\4248089460.py:19: FutureWarning: The frame.append method is deprecated and will be removed from pandas in a future version. Use pandas.concat instead.\n",
      "  results = results.append(query_data, ignore_index=True)\n",
      "C:\\Users\\zwei\\AppData\\Local\\Temp\\ipykernel_588\\4248089460.py:19: FutureWarning: The frame.append method is deprecated and will be removed from pandas in a future version. Use pandas.concat instead.\n",
      "  results = results.append(query_data, ignore_index=True)\n",
      "C:\\Users\\zwei\\AppData\\Local\\Temp\\ipykernel_588\\4248089460.py:19: FutureWarning: The frame.append method is deprecated and will be removed from pandas in a future version. Use pandas.concat instead.\n",
      "  results = results.append(query_data, ignore_index=True)\n",
      "C:\\Users\\zwei\\AppData\\Local\\Temp\\ipykernel_588\\4248089460.py:19: FutureWarning: The frame.append method is deprecated and will be removed from pandas in a future version. Use pandas.concat instead.\n",
      "  results = results.append(query_data, ignore_index=True)\n",
      "C:\\Users\\zwei\\AppData\\Local\\Temp\\ipykernel_588\\4248089460.py:19: FutureWarning: The frame.append method is deprecated and will be removed from pandas in a future version. Use pandas.concat instead.\n",
      "  results = results.append(query_data, ignore_index=True)\n",
      "C:\\Users\\zwei\\AppData\\Local\\Temp\\ipykernel_588\\4248089460.py:19: FutureWarning: The frame.append method is deprecated and will be removed from pandas in a future version. Use pandas.concat instead.\n",
      "  results = results.append(query_data, ignore_index=True)\n",
      "C:\\Users\\zwei\\AppData\\Local\\Temp\\ipykernel_588\\4248089460.py:19: FutureWarning: The frame.append method is deprecated and will be removed from pandas in a future version. Use pandas.concat instead.\n",
      "  results = results.append(query_data, ignore_index=True)\n",
      "C:\\Users\\zwei\\AppData\\Local\\Temp\\ipykernel_588\\4248089460.py:19: FutureWarning: The frame.append method is deprecated and will be removed from pandas in a future version. Use pandas.concat instead.\n",
      "  results = results.append(query_data, ignore_index=True)\n"
     ]
    },
    {
     "name": "stdout",
     "output_type": "stream",
     "text": [
      "An error occurred: 'NoneType' object does not support item assignment\n"
     ]
    },
    {
     "name": "stderr",
     "output_type": "stream",
     "text": [
      "C:\\Users\\zwei\\AppData\\Local\\Temp\\ipykernel_588\\4248089460.py:19: FutureWarning: The frame.append method is deprecated and will be removed from pandas in a future version. Use pandas.concat instead.\n",
      "  results = results.append(query_data, ignore_index=True)\n",
      "C:\\Users\\zwei\\AppData\\Local\\Temp\\ipykernel_588\\4248089460.py:19: FutureWarning: The frame.append method is deprecated and will be removed from pandas in a future version. Use pandas.concat instead.\n",
      "  results = results.append(query_data, ignore_index=True)\n",
      "C:\\Users\\zwei\\AppData\\Local\\Temp\\ipykernel_588\\4248089460.py:19: FutureWarning: The frame.append method is deprecated and will be removed from pandas in a future version. Use pandas.concat instead.\n",
      "  results = results.append(query_data, ignore_index=True)\n",
      "C:\\Users\\zwei\\AppData\\Local\\Temp\\ipykernel_588\\4248089460.py:19: FutureWarning: The frame.append method is deprecated and will be removed from pandas in a future version. Use pandas.concat instead.\n",
      "  results = results.append(query_data, ignore_index=True)\n",
      "C:\\Users\\zwei\\AppData\\Local\\Temp\\ipykernel_588\\4248089460.py:19: FutureWarning: The frame.append method is deprecated and will be removed from pandas in a future version. Use pandas.concat instead.\n",
      "  results = results.append(query_data, ignore_index=True)\n"
     ]
    },
    {
     "name": "stdout",
     "output_type": "stream",
     "text": [
      "An error occurred: 'NoneType' object does not support item assignment\n"
     ]
    },
    {
     "name": "stderr",
     "output_type": "stream",
     "text": [
      "C:\\Users\\zwei\\AppData\\Local\\Temp\\ipykernel_588\\4248089460.py:19: FutureWarning: The frame.append method is deprecated and will be removed from pandas in a future version. Use pandas.concat instead.\n",
      "  results = results.append(query_data, ignore_index=True)\n",
      "C:\\Users\\zwei\\AppData\\Local\\Temp\\ipykernel_588\\4248089460.py:19: FutureWarning: The frame.append method is deprecated and will be removed from pandas in a future version. Use pandas.concat instead.\n",
      "  results = results.append(query_data, ignore_index=True)\n",
      "C:\\Users\\zwei\\AppData\\Local\\Temp\\ipykernel_588\\4248089460.py:19: FutureWarning: The frame.append method is deprecated and will be removed from pandas in a future version. Use pandas.concat instead.\n",
      "  results = results.append(query_data, ignore_index=True)\n",
      "C:\\Users\\zwei\\AppData\\Local\\Temp\\ipykernel_588\\4248089460.py:19: FutureWarning: The frame.append method is deprecated and will be removed from pandas in a future version. Use pandas.concat instead.\n",
      "  results = results.append(query_data, ignore_index=True)\n",
      "C:\\Users\\zwei\\AppData\\Local\\Temp\\ipykernel_588\\4248089460.py:19: FutureWarning: The frame.append method is deprecated and will be removed from pandas in a future version. Use pandas.concat instead.\n",
      "  results = results.append(query_data, ignore_index=True)\n",
      "C:\\Users\\zwei\\AppData\\Local\\Temp\\ipykernel_588\\4248089460.py:19: FutureWarning: The frame.append method is deprecated and will be removed from pandas in a future version. Use pandas.concat instead.\n",
      "  results = results.append(query_data, ignore_index=True)\n",
      "C:\\Users\\zwei\\AppData\\Local\\Temp\\ipykernel_588\\4248089460.py:19: FutureWarning: The frame.append method is deprecated and will be removed from pandas in a future version. Use pandas.concat instead.\n",
      "  results = results.append(query_data, ignore_index=True)\n",
      "C:\\Users\\zwei\\AppData\\Local\\Temp\\ipykernel_588\\4248089460.py:19: FutureWarning: The frame.append method is deprecated and will be removed from pandas in a future version. Use pandas.concat instead.\n",
      "  results = results.append(query_data, ignore_index=True)\n",
      "C:\\Users\\zwei\\AppData\\Local\\Temp\\ipykernel_588\\4248089460.py:19: FutureWarning: The frame.append method is deprecated and will be removed from pandas in a future version. Use pandas.concat instead.\n",
      "  results = results.append(query_data, ignore_index=True)\n",
      "C:\\Users\\zwei\\AppData\\Local\\Temp\\ipykernel_588\\4248089460.py:19: FutureWarning: The frame.append method is deprecated and will be removed from pandas in a future version. Use pandas.concat instead.\n",
      "  results = results.append(query_data, ignore_index=True)\n",
      "C:\\Users\\zwei\\AppData\\Local\\Temp\\ipykernel_588\\4248089460.py:19: FutureWarning: The frame.append method is deprecated and will be removed from pandas in a future version. Use pandas.concat instead.\n",
      "  results = results.append(query_data, ignore_index=True)\n",
      "C:\\Users\\zwei\\AppData\\Local\\Temp\\ipykernel_588\\4248089460.py:19: FutureWarning: The frame.append method is deprecated and will be removed from pandas in a future version. Use pandas.concat instead.\n",
      "  results = results.append(query_data, ignore_index=True)\n",
      "C:\\Users\\zwei\\AppData\\Local\\Temp\\ipykernel_588\\4248089460.py:19: FutureWarning: The frame.append method is deprecated and will be removed from pandas in a future version. Use pandas.concat instead.\n",
      "  results = results.append(query_data, ignore_index=True)\n",
      "C:\\Users\\zwei\\AppData\\Local\\Temp\\ipykernel_588\\4248089460.py:19: FutureWarning: The frame.append method is deprecated and will be removed from pandas in a future version. Use pandas.concat instead.\n",
      "  results = results.append(query_data, ignore_index=True)\n",
      "C:\\Users\\zwei\\AppData\\Local\\Temp\\ipykernel_588\\4248089460.py:19: FutureWarning: The frame.append method is deprecated and will be removed from pandas in a future version. Use pandas.concat instead.\n",
      "  results = results.append(query_data, ignore_index=True)\n",
      "C:\\Users\\zwei\\AppData\\Local\\Temp\\ipykernel_588\\4248089460.py:19: FutureWarning: The frame.append method is deprecated and will be removed from pandas in a future version. Use pandas.concat instead.\n",
      "  results = results.append(query_data, ignore_index=True)\n",
      "C:\\Users\\zwei\\AppData\\Local\\Temp\\ipykernel_588\\4248089460.py:19: FutureWarning: The frame.append method is deprecated and will be removed from pandas in a future version. Use pandas.concat instead.\n",
      "  results = results.append(query_data, ignore_index=True)\n",
      "C:\\Users\\zwei\\AppData\\Local\\Temp\\ipykernel_588\\4248089460.py:19: FutureWarning: The frame.append method is deprecated and will be removed from pandas in a future version. Use pandas.concat instead.\n",
      "  results = results.append(query_data, ignore_index=True)\n",
      "C:\\Users\\zwei\\AppData\\Local\\Temp\\ipykernel_588\\4248089460.py:19: FutureWarning: The frame.append method is deprecated and will be removed from pandas in a future version. Use pandas.concat instead.\n",
      "  results = results.append(query_data, ignore_index=True)\n",
      "C:\\Users\\zwei\\AppData\\Local\\Temp\\ipykernel_588\\4248089460.py:19: FutureWarning: The frame.append method is deprecated and will be removed from pandas in a future version. Use pandas.concat instead.\n",
      "  results = results.append(query_data, ignore_index=True)\n",
      "C:\\Users\\zwei\\AppData\\Local\\Temp\\ipykernel_588\\4248089460.py:19: FutureWarning: The frame.append method is deprecated and will be removed from pandas in a future version. Use pandas.concat instead.\n",
      "  results = results.append(query_data, ignore_index=True)\n",
      "C:\\Users\\zwei\\AppData\\Local\\Temp\\ipykernel_588\\4248089460.py:19: FutureWarning: The frame.append method is deprecated and will be removed from pandas in a future version. Use pandas.concat instead.\n",
      "  results = results.append(query_data, ignore_index=True)\n",
      "C:\\Users\\zwei\\AppData\\Local\\Temp\\ipykernel_588\\4248089460.py:19: FutureWarning: The frame.append method is deprecated and will be removed from pandas in a future version. Use pandas.concat instead.\n",
      "  results = results.append(query_data, ignore_index=True)\n",
      "C:\\Users\\zwei\\AppData\\Local\\Temp\\ipykernel_588\\4248089460.py:19: FutureWarning: The frame.append method is deprecated and will be removed from pandas in a future version. Use pandas.concat instead.\n",
      "  results = results.append(query_data, ignore_index=True)\n",
      "C:\\Users\\zwei\\AppData\\Local\\Temp\\ipykernel_588\\4248089460.py:19: FutureWarning: The frame.append method is deprecated and will be removed from pandas in a future version. Use pandas.concat instead.\n",
      "  results = results.append(query_data, ignore_index=True)\n",
      "C:\\Users\\zwei\\AppData\\Local\\Temp\\ipykernel_588\\4248089460.py:19: FutureWarning: The frame.append method is deprecated and will be removed from pandas in a future version. Use pandas.concat instead.\n",
      "  results = results.append(query_data, ignore_index=True)\n",
      "C:\\Users\\zwei\\AppData\\Local\\Temp\\ipykernel_588\\4248089460.py:19: FutureWarning: The frame.append method is deprecated and will be removed from pandas in a future version. Use pandas.concat instead.\n",
      "  results = results.append(query_data, ignore_index=True)\n",
      "C:\\Users\\zwei\\AppData\\Local\\Temp\\ipykernel_588\\4248089460.py:19: FutureWarning: The frame.append method is deprecated and will be removed from pandas in a future version. Use pandas.concat instead.\n",
      "  results = results.append(query_data, ignore_index=True)\n",
      "C:\\Users\\zwei\\AppData\\Local\\Temp\\ipykernel_588\\4248089460.py:19: FutureWarning: The frame.append method is deprecated and will be removed from pandas in a future version. Use pandas.concat instead.\n",
      "  results = results.append(query_data, ignore_index=True)\n",
      "C:\\Users\\zwei\\AppData\\Local\\Temp\\ipykernel_588\\4248089460.py:19: FutureWarning: The frame.append method is deprecated and will be removed from pandas in a future version. Use pandas.concat instead.\n",
      "  results = results.append(query_data, ignore_index=True)\n",
      "C:\\Users\\zwei\\AppData\\Local\\Temp\\ipykernel_588\\4248089460.py:19: FutureWarning: The frame.append method is deprecated and will be removed from pandas in a future version. Use pandas.concat instead.\n",
      "  results = results.append(query_data, ignore_index=True)\n",
      "C:\\Users\\zwei\\AppData\\Local\\Temp\\ipykernel_588\\4248089460.py:19: FutureWarning: The frame.append method is deprecated and will be removed from pandas in a future version. Use pandas.concat instead.\n",
      "  results = results.append(query_data, ignore_index=True)\n",
      "C:\\Users\\zwei\\AppData\\Local\\Temp\\ipykernel_588\\4248089460.py:19: FutureWarning: The frame.append method is deprecated and will be removed from pandas in a future version. Use pandas.concat instead.\n",
      "  results = results.append(query_data, ignore_index=True)\n",
      "C:\\Users\\zwei\\AppData\\Local\\Temp\\ipykernel_588\\4248089460.py:19: FutureWarning: The frame.append method is deprecated and will be removed from pandas in a future version. Use pandas.concat instead.\n",
      "  results = results.append(query_data, ignore_index=True)\n"
     ]
    },
    {
     "name": "stderr",
     "output_type": "stream",
     "text": [
      "C:\\Users\\zwei\\AppData\\Local\\Temp\\ipykernel_588\\4248089460.py:19: FutureWarning: The frame.append method is deprecated and will be removed from pandas in a future version. Use pandas.concat instead.\n",
      "  results = results.append(query_data, ignore_index=True)\n",
      "C:\\Users\\zwei\\AppData\\Local\\Temp\\ipykernel_588\\4248089460.py:19: FutureWarning: The frame.append method is deprecated and will be removed from pandas in a future version. Use pandas.concat instead.\n",
      "  results = results.append(query_data, ignore_index=True)\n",
      "C:\\Users\\zwei\\AppData\\Local\\Temp\\ipykernel_588\\4248089460.py:19: FutureWarning: The frame.append method is deprecated and will be removed from pandas in a future version. Use pandas.concat instead.\n",
      "  results = results.append(query_data, ignore_index=True)\n",
      "C:\\Users\\zwei\\AppData\\Local\\Temp\\ipykernel_588\\4248089460.py:19: FutureWarning: The frame.append method is deprecated and will be removed from pandas in a future version. Use pandas.concat instead.\n",
      "  results = results.append(query_data, ignore_index=True)\n",
      "C:\\Users\\zwei\\AppData\\Local\\Temp\\ipykernel_588\\4248089460.py:19: FutureWarning: The frame.append method is deprecated and will be removed from pandas in a future version. Use pandas.concat instead.\n",
      "  results = results.append(query_data, ignore_index=True)\n",
      "C:\\Users\\zwei\\AppData\\Local\\Temp\\ipykernel_588\\4248089460.py:19: FutureWarning: The frame.append method is deprecated and will be removed from pandas in a future version. Use pandas.concat instead.\n",
      "  results = results.append(query_data, ignore_index=True)\n",
      "C:\\Users\\zwei\\AppData\\Local\\Temp\\ipykernel_588\\4248089460.py:19: FutureWarning: The frame.append method is deprecated and will be removed from pandas in a future version. Use pandas.concat instead.\n",
      "  results = results.append(query_data, ignore_index=True)\n",
      "C:\\Users\\zwei\\AppData\\Local\\Temp\\ipykernel_588\\4248089460.py:19: FutureWarning: The frame.append method is deprecated and will be removed from pandas in a future version. Use pandas.concat instead.\n",
      "  results = results.append(query_data, ignore_index=True)\n",
      "C:\\Users\\zwei\\AppData\\Local\\Temp\\ipykernel_588\\4248089460.py:19: FutureWarning: The frame.append method is deprecated and will be removed from pandas in a future version. Use pandas.concat instead.\n",
      "  results = results.append(query_data, ignore_index=True)\n",
      "C:\\Users\\zwei\\AppData\\Local\\Temp\\ipykernel_588\\4248089460.py:19: FutureWarning: The frame.append method is deprecated and will be removed from pandas in a future version. Use pandas.concat instead.\n",
      "  results = results.append(query_data, ignore_index=True)\n",
      "C:\\Users\\zwei\\AppData\\Local\\Temp\\ipykernel_588\\4248089460.py:19: FutureWarning: The frame.append method is deprecated and will be removed from pandas in a future version. Use pandas.concat instead.\n",
      "  results = results.append(query_data, ignore_index=True)\n",
      "C:\\Users\\zwei\\AppData\\Local\\Temp\\ipykernel_588\\4248089460.py:19: FutureWarning: The frame.append method is deprecated and will be removed from pandas in a future version. Use pandas.concat instead.\n",
      "  results = results.append(query_data, ignore_index=True)\n",
      "C:\\Users\\zwei\\AppData\\Local\\Temp\\ipykernel_588\\4248089460.py:19: FutureWarning: The frame.append method is deprecated and will be removed from pandas in a future version. Use pandas.concat instead.\n",
      "  results = results.append(query_data, ignore_index=True)\n",
      "C:\\Users\\zwei\\AppData\\Local\\Temp\\ipykernel_588\\4248089460.py:19: FutureWarning: The frame.append method is deprecated and will be removed from pandas in a future version. Use pandas.concat instead.\n",
      "  results = results.append(query_data, ignore_index=True)\n",
      "C:\\Users\\zwei\\AppData\\Local\\Temp\\ipykernel_588\\4248089460.py:19: FutureWarning: The frame.append method is deprecated and will be removed from pandas in a future version. Use pandas.concat instead.\n",
      "  results = results.append(query_data, ignore_index=True)\n",
      "C:\\Users\\zwei\\AppData\\Local\\Temp\\ipykernel_588\\4248089460.py:19: FutureWarning: The frame.append method is deprecated and will be removed from pandas in a future version. Use pandas.concat instead.\n",
      "  results = results.append(query_data, ignore_index=True)\n",
      "C:\\Users\\zwei\\AppData\\Local\\Temp\\ipykernel_588\\4248089460.py:19: FutureWarning: The frame.append method is deprecated and will be removed from pandas in a future version. Use pandas.concat instead.\n",
      "  results = results.append(query_data, ignore_index=True)\n",
      "C:\\Users\\zwei\\AppData\\Local\\Temp\\ipykernel_588\\4248089460.py:19: FutureWarning: The frame.append method is deprecated and will be removed from pandas in a future version. Use pandas.concat instead.\n",
      "  results = results.append(query_data, ignore_index=True)\n",
      "C:\\Users\\zwei\\AppData\\Local\\Temp\\ipykernel_588\\4248089460.py:19: FutureWarning: The frame.append method is deprecated and will be removed from pandas in a future version. Use pandas.concat instead.\n",
      "  results = results.append(query_data, ignore_index=True)\n",
      "C:\\Users\\zwei\\AppData\\Local\\Temp\\ipykernel_588\\4248089460.py:19: FutureWarning: The frame.append method is deprecated and will be removed from pandas in a future version. Use pandas.concat instead.\n",
      "  results = results.append(query_data, ignore_index=True)\n",
      "C:\\Users\\zwei\\AppData\\Local\\Temp\\ipykernel_588\\4248089460.py:19: FutureWarning: The frame.append method is deprecated and will be removed from pandas in a future version. Use pandas.concat instead.\n",
      "  results = results.append(query_data, ignore_index=True)\n",
      "C:\\Users\\zwei\\AppData\\Local\\Temp\\ipykernel_588\\4248089460.py:19: FutureWarning: The frame.append method is deprecated and will be removed from pandas in a future version. Use pandas.concat instead.\n",
      "  results = results.append(query_data, ignore_index=True)\n",
      "C:\\Users\\zwei\\AppData\\Local\\Temp\\ipykernel_588\\4248089460.py:19: FutureWarning: The frame.append method is deprecated and will be removed from pandas in a future version. Use pandas.concat instead.\n",
      "  results = results.append(query_data, ignore_index=True)\n",
      "C:\\Users\\zwei\\AppData\\Local\\Temp\\ipykernel_588\\4248089460.py:19: FutureWarning: The frame.append method is deprecated and will be removed from pandas in a future version. Use pandas.concat instead.\n",
      "  results = results.append(query_data, ignore_index=True)\n"
     ]
    },
    {
     "name": "stdout",
     "output_type": "stream",
     "text": [
      "An error occurred: 'NoneType' object does not support item assignment\n"
     ]
    },
    {
     "name": "stderr",
     "output_type": "stream",
     "text": [
      "C:\\Users\\zwei\\AppData\\Local\\Temp\\ipykernel_588\\4248089460.py:19: FutureWarning: The frame.append method is deprecated and will be removed from pandas in a future version. Use pandas.concat instead.\n",
      "  results = results.append(query_data, ignore_index=True)\n",
      "C:\\Users\\zwei\\AppData\\Local\\Temp\\ipykernel_588\\4248089460.py:19: FutureWarning: The frame.append method is deprecated and will be removed from pandas in a future version. Use pandas.concat instead.\n",
      "  results = results.append(query_data, ignore_index=True)\n",
      "C:\\Users\\zwei\\AppData\\Local\\Temp\\ipykernel_588\\4248089460.py:19: FutureWarning: The frame.append method is deprecated and will be removed from pandas in a future version. Use pandas.concat instead.\n",
      "  results = results.append(query_data, ignore_index=True)\n",
      "C:\\Users\\zwei\\AppData\\Local\\Temp\\ipykernel_588\\4248089460.py:19: FutureWarning: The frame.append method is deprecated and will be removed from pandas in a future version. Use pandas.concat instead.\n",
      "  results = results.append(query_data, ignore_index=True)\n",
      "C:\\Users\\zwei\\AppData\\Local\\Temp\\ipykernel_588\\4248089460.py:19: FutureWarning: The frame.append method is deprecated and will be removed from pandas in a future version. Use pandas.concat instead.\n",
      "  results = results.append(query_data, ignore_index=True)\n",
      "C:\\Users\\zwei\\AppData\\Local\\Temp\\ipykernel_588\\4248089460.py:19: FutureWarning: The frame.append method is deprecated and will be removed from pandas in a future version. Use pandas.concat instead.\n",
      "  results = results.append(query_data, ignore_index=True)\n",
      "C:\\Users\\zwei\\AppData\\Local\\Temp\\ipykernel_588\\4248089460.py:19: FutureWarning: The frame.append method is deprecated and will be removed from pandas in a future version. Use pandas.concat instead.\n",
      "  results = results.append(query_data, ignore_index=True)\n",
      "C:\\Users\\zwei\\AppData\\Local\\Temp\\ipykernel_588\\4248089460.py:19: FutureWarning: The frame.append method is deprecated and will be removed from pandas in a future version. Use pandas.concat instead.\n",
      "  results = results.append(query_data, ignore_index=True)\n",
      "C:\\Users\\zwei\\AppData\\Local\\Temp\\ipykernel_588\\4248089460.py:19: FutureWarning: The frame.append method is deprecated and will be removed from pandas in a future version. Use pandas.concat instead.\n",
      "  results = results.append(query_data, ignore_index=True)\n",
      "C:\\Users\\zwei\\AppData\\Local\\Temp\\ipykernel_588\\4248089460.py:19: FutureWarning: The frame.append method is deprecated and will be removed from pandas in a future version. Use pandas.concat instead.\n",
      "  results = results.append(query_data, ignore_index=True)\n",
      "C:\\Users\\zwei\\AppData\\Local\\Temp\\ipykernel_588\\4248089460.py:19: FutureWarning: The frame.append method is deprecated and will be removed from pandas in a future version. Use pandas.concat instead.\n",
      "  results = results.append(query_data, ignore_index=True)\n",
      "C:\\Users\\zwei\\AppData\\Local\\Temp\\ipykernel_588\\4248089460.py:19: FutureWarning: The frame.append method is deprecated and will be removed from pandas in a future version. Use pandas.concat instead.\n",
      "  results = results.append(query_data, ignore_index=True)\n",
      "C:\\Users\\zwei\\AppData\\Local\\Temp\\ipykernel_588\\4248089460.py:19: FutureWarning: The frame.append method is deprecated and will be removed from pandas in a future version. Use pandas.concat instead.\n",
      "  results = results.append(query_data, ignore_index=True)\n"
     ]
    },
    {
     "name": "stdout",
     "output_type": "stream",
     "text": [
      "An error occurred: 'NoneType' object does not support item assignment\n"
     ]
    },
    {
     "name": "stderr",
     "output_type": "stream",
     "text": [
      "C:\\Users\\zwei\\AppData\\Local\\Temp\\ipykernel_588\\4248089460.py:19: FutureWarning: The frame.append method is deprecated and will be removed from pandas in a future version. Use pandas.concat instead.\n",
      "  results = results.append(query_data, ignore_index=True)\n",
      "C:\\Users\\zwei\\AppData\\Local\\Temp\\ipykernel_588\\4248089460.py:19: FutureWarning: The frame.append method is deprecated and will be removed from pandas in a future version. Use pandas.concat instead.\n",
      "  results = results.append(query_data, ignore_index=True)\n"
     ]
    },
    {
     "name": "stdout",
     "output_type": "stream",
     "text": [
      "An error occurred: 'NoneType' object does not support item assignment\n"
     ]
    },
    {
     "name": "stderr",
     "output_type": "stream",
     "text": [
      "C:\\Users\\zwei\\AppData\\Local\\Temp\\ipykernel_588\\4248089460.py:19: FutureWarning: The frame.append method is deprecated and will be removed from pandas in a future version. Use pandas.concat instead.\n",
      "  results = results.append(query_data, ignore_index=True)\n",
      "C:\\Users\\zwei\\AppData\\Local\\Temp\\ipykernel_588\\4248089460.py:19: FutureWarning: The frame.append method is deprecated and will be removed from pandas in a future version. Use pandas.concat instead.\n",
      "  results = results.append(query_data, ignore_index=True)\n",
      "C:\\Users\\zwei\\AppData\\Local\\Temp\\ipykernel_588\\4248089460.py:19: FutureWarning: The frame.append method is deprecated and will be removed from pandas in a future version. Use pandas.concat instead.\n",
      "  results = results.append(query_data, ignore_index=True)\n"
     ]
    },
    {
     "name": "stdout",
     "output_type": "stream",
     "text": [
      "An error occurred: 'NoneType' object does not support item assignment\n"
     ]
    },
    {
     "name": "stderr",
     "output_type": "stream",
     "text": [
      "C:\\Users\\zwei\\AppData\\Local\\Temp\\ipykernel_588\\4248089460.py:19: FutureWarning: The frame.append method is deprecated and will be removed from pandas in a future version. Use pandas.concat instead.\n",
      "  results = results.append(query_data, ignore_index=True)\n",
      "C:\\Users\\zwei\\AppData\\Local\\Temp\\ipykernel_588\\4248089460.py:19: FutureWarning: The frame.append method is deprecated and will be removed from pandas in a future version. Use pandas.concat instead.\n",
      "  results = results.append(query_data, ignore_index=True)\n",
      "C:\\Users\\zwei\\AppData\\Local\\Temp\\ipykernel_588\\4248089460.py:19: FutureWarning: The frame.append method is deprecated and will be removed from pandas in a future version. Use pandas.concat instead.\n",
      "  results = results.append(query_data, ignore_index=True)\n",
      "C:\\Users\\zwei\\AppData\\Local\\Temp\\ipykernel_588\\4248089460.py:19: FutureWarning: The frame.append method is deprecated and will be removed from pandas in a future version. Use pandas.concat instead.\n",
      "  results = results.append(query_data, ignore_index=True)\n",
      "C:\\Users\\zwei\\AppData\\Local\\Temp\\ipykernel_588\\4248089460.py:19: FutureWarning: The frame.append method is deprecated and will be removed from pandas in a future version. Use pandas.concat instead.\n",
      "  results = results.append(query_data, ignore_index=True)\n",
      "C:\\Users\\zwei\\AppData\\Local\\Temp\\ipykernel_588\\4248089460.py:19: FutureWarning: The frame.append method is deprecated and will be removed from pandas in a future version. Use pandas.concat instead.\n",
      "  results = results.append(query_data, ignore_index=True)\n"
     ]
    },
    {
     "name": "stdout",
     "output_type": "stream",
     "text": [
      "An error occurred: The request failed: Google returned a response with code 429\n"
     ]
    },
    {
     "name": "stderr",
     "output_type": "stream",
     "text": [
      "C:\\Users\\zwei\\AppData\\Local\\Temp\\ipykernel_588\\4248089460.py:19: FutureWarning: The frame.append method is deprecated and will be removed from pandas in a future version. Use pandas.concat instead.\n",
      "  results = results.append(query_data, ignore_index=True)\n",
      "C:\\Users\\zwei\\AppData\\Local\\Temp\\ipykernel_588\\4248089460.py:19: FutureWarning: The frame.append method is deprecated and will be removed from pandas in a future version. Use pandas.concat instead.\n",
      "  results = results.append(query_data, ignore_index=True)\n",
      "C:\\Users\\zwei\\AppData\\Local\\Temp\\ipykernel_588\\4248089460.py:19: FutureWarning: The frame.append method is deprecated and will be removed from pandas in a future version. Use pandas.concat instead.\n",
      "  results = results.append(query_data, ignore_index=True)\n"
     ]
    },
    {
     "name": "stdout",
     "output_type": "stream",
     "text": [
      "An error occurred: 'NoneType' object does not support item assignment\n"
     ]
    },
    {
     "name": "stderr",
     "output_type": "stream",
     "text": [
      "C:\\Users\\zwei\\AppData\\Local\\Temp\\ipykernel_588\\4248089460.py:19: FutureWarning: The frame.append method is deprecated and will be removed from pandas in a future version. Use pandas.concat instead.\n",
      "  results = results.append(query_data, ignore_index=True)\n",
      "C:\\Users\\zwei\\AppData\\Local\\Temp\\ipykernel_588\\4248089460.py:19: FutureWarning: The frame.append method is deprecated and will be removed from pandas in a future version. Use pandas.concat instead.\n",
      "  results = results.append(query_data, ignore_index=True)\n",
      "C:\\Users\\zwei\\AppData\\Local\\Temp\\ipykernel_588\\4248089460.py:19: FutureWarning: The frame.append method is deprecated and will be removed from pandas in a future version. Use pandas.concat instead.\n",
      "  results = results.append(query_data, ignore_index=True)\n",
      "C:\\Users\\zwei\\AppData\\Local\\Temp\\ipykernel_588\\4248089460.py:19: FutureWarning: The frame.append method is deprecated and will be removed from pandas in a future version. Use pandas.concat instead.\n",
      "  results = results.append(query_data, ignore_index=True)\n",
      "C:\\Users\\zwei\\AppData\\Local\\Temp\\ipykernel_588\\4248089460.py:19: FutureWarning: The frame.append method is deprecated and will be removed from pandas in a future version. Use pandas.concat instead.\n",
      "  results = results.append(query_data, ignore_index=True)\n",
      "C:\\Users\\zwei\\AppData\\Local\\Temp\\ipykernel_588\\4248089460.py:19: FutureWarning: The frame.append method is deprecated and will be removed from pandas in a future version. Use pandas.concat instead.\n",
      "  results = results.append(query_data, ignore_index=True)\n",
      "C:\\Users\\zwei\\AppData\\Local\\Temp\\ipykernel_588\\4248089460.py:19: FutureWarning: The frame.append method is deprecated and will be removed from pandas in a future version. Use pandas.concat instead.\n",
      "  results = results.append(query_data, ignore_index=True)\n",
      "C:\\Users\\zwei\\AppData\\Local\\Temp\\ipykernel_588\\4248089460.py:19: FutureWarning: The frame.append method is deprecated and will be removed from pandas in a future version. Use pandas.concat instead.\n",
      "  results = results.append(query_data, ignore_index=True)\n",
      "C:\\Users\\zwei\\AppData\\Local\\Temp\\ipykernel_588\\4248089460.py:19: FutureWarning: The frame.append method is deprecated and will be removed from pandas in a future version. Use pandas.concat instead.\n",
      "  results = results.append(query_data, ignore_index=True)\n",
      "C:\\Users\\zwei\\AppData\\Local\\Temp\\ipykernel_588\\4248089460.py:19: FutureWarning: The frame.append method is deprecated and will be removed from pandas in a future version. Use pandas.concat instead.\n",
      "  results = results.append(query_data, ignore_index=True)\n",
      "C:\\Users\\zwei\\AppData\\Local\\Temp\\ipykernel_588\\4248089460.py:19: FutureWarning: The frame.append method is deprecated and will be removed from pandas in a future version. Use pandas.concat instead.\n",
      "  results = results.append(query_data, ignore_index=True)\n",
      "C:\\Users\\zwei\\AppData\\Local\\Temp\\ipykernel_588\\4248089460.py:19: FutureWarning: The frame.append method is deprecated and will be removed from pandas in a future version. Use pandas.concat instead.\n",
      "  results = results.append(query_data, ignore_index=True)\n",
      "C:\\Users\\zwei\\AppData\\Local\\Temp\\ipykernel_588\\4248089460.py:19: FutureWarning: The frame.append method is deprecated and will be removed from pandas in a future version. Use pandas.concat instead.\n",
      "  results = results.append(query_data, ignore_index=True)\n",
      "C:\\Users\\zwei\\AppData\\Local\\Temp\\ipykernel_588\\4248089460.py:19: FutureWarning: The frame.append method is deprecated and will be removed from pandas in a future version. Use pandas.concat instead.\n",
      "  results = results.append(query_data, ignore_index=True)\n",
      "C:\\Users\\zwei\\AppData\\Local\\Temp\\ipykernel_588\\4248089460.py:19: FutureWarning: The frame.append method is deprecated and will be removed from pandas in a future version. Use pandas.concat instead.\n",
      "  results = results.append(query_data, ignore_index=True)\n",
      "C:\\Users\\zwei\\AppData\\Local\\Temp\\ipykernel_588\\4248089460.py:19: FutureWarning: The frame.append method is deprecated and will be removed from pandas in a future version. Use pandas.concat instead.\n",
      "  results = results.append(query_data, ignore_index=True)\n",
      "C:\\Users\\zwei\\AppData\\Local\\Temp\\ipykernel_588\\4248089460.py:19: FutureWarning: The frame.append method is deprecated and will be removed from pandas in a future version. Use pandas.concat instead.\n",
      "  results = results.append(query_data, ignore_index=True)\n",
      "C:\\Users\\zwei\\AppData\\Local\\Temp\\ipykernel_588\\4248089460.py:19: FutureWarning: The frame.append method is deprecated and will be removed from pandas in a future version. Use pandas.concat instead.\n",
      "  results = results.append(query_data, ignore_index=True)\n",
      "C:\\Users\\zwei\\AppData\\Local\\Temp\\ipykernel_588\\4248089460.py:19: FutureWarning: The frame.append method is deprecated and will be removed from pandas in a future version. Use pandas.concat instead.\n",
      "  results = results.append(query_data, ignore_index=True)\n",
      "C:\\Users\\zwei\\AppData\\Local\\Temp\\ipykernel_588\\4248089460.py:19: FutureWarning: The frame.append method is deprecated and will be removed from pandas in a future version. Use pandas.concat instead.\n",
      "  results = results.append(query_data, ignore_index=True)\n",
      "C:\\Users\\zwei\\AppData\\Local\\Temp\\ipykernel_588\\4248089460.py:19: FutureWarning: The frame.append method is deprecated and will be removed from pandas in a future version. Use pandas.concat instead.\n",
      "  results = results.append(query_data, ignore_index=True)\n",
      "C:\\Users\\zwei\\AppData\\Local\\Temp\\ipykernel_588\\4248089460.py:19: FutureWarning: The frame.append method is deprecated and will be removed from pandas in a future version. Use pandas.concat instead.\n",
      "  results = results.append(query_data, ignore_index=True)\n"
     ]
    },
    {
     "name": "stdout",
     "output_type": "stream",
     "text": [
      "An error occurred: The request failed: Google returned a response with code 429\n"
     ]
    },
    {
     "name": "stderr",
     "output_type": "stream",
     "text": [
      "C:\\Users\\zwei\\AppData\\Local\\Temp\\ipykernel_588\\4248089460.py:19: FutureWarning: The frame.append method is deprecated and will be removed from pandas in a future version. Use pandas.concat instead.\n",
      "  results = results.append(query_data, ignore_index=True)\n",
      "C:\\Users\\zwei\\AppData\\Local\\Temp\\ipykernel_588\\4248089460.py:19: FutureWarning: The frame.append method is deprecated and will be removed from pandas in a future version. Use pandas.concat instead.\n",
      "  results = results.append(query_data, ignore_index=True)\n",
      "C:\\Users\\zwei\\AppData\\Local\\Temp\\ipykernel_588\\4248089460.py:19: FutureWarning: The frame.append method is deprecated and will be removed from pandas in a future version. Use pandas.concat instead.\n",
      "  results = results.append(query_data, ignore_index=True)\n",
      "C:\\Users\\zwei\\AppData\\Local\\Temp\\ipykernel_588\\4248089460.py:19: FutureWarning: The frame.append method is deprecated and will be removed from pandas in a future version. Use pandas.concat instead.\n",
      "  results = results.append(query_data, ignore_index=True)\n",
      "C:\\Users\\zwei\\AppData\\Local\\Temp\\ipykernel_588\\4248089460.py:19: FutureWarning: The frame.append method is deprecated and will be removed from pandas in a future version. Use pandas.concat instead.\n",
      "  results = results.append(query_data, ignore_index=True)\n",
      "C:\\Users\\zwei\\AppData\\Local\\Temp\\ipykernel_588\\4248089460.py:19: FutureWarning: The frame.append method is deprecated and will be removed from pandas in a future version. Use pandas.concat instead.\n",
      "  results = results.append(query_data, ignore_index=True)\n",
      "C:\\Users\\zwei\\AppData\\Local\\Temp\\ipykernel_588\\4248089460.py:19: FutureWarning: The frame.append method is deprecated and will be removed from pandas in a future version. Use pandas.concat instead.\n",
      "  results = results.append(query_data, ignore_index=True)\n",
      "C:\\Users\\zwei\\AppData\\Local\\Temp\\ipykernel_588\\4248089460.py:19: FutureWarning: The frame.append method is deprecated and will be removed from pandas in a future version. Use pandas.concat instead.\n",
      "  results = results.append(query_data, ignore_index=True)\n",
      "C:\\Users\\zwei\\AppData\\Local\\Temp\\ipykernel_588\\4248089460.py:19: FutureWarning: The frame.append method is deprecated and will be removed from pandas in a future version. Use pandas.concat instead.\n",
      "  results = results.append(query_data, ignore_index=True)\n",
      "C:\\Users\\zwei\\AppData\\Local\\Temp\\ipykernel_588\\4248089460.py:19: FutureWarning: The frame.append method is deprecated and will be removed from pandas in a future version. Use pandas.concat instead.\n",
      "  results = results.append(query_data, ignore_index=True)\n",
      "C:\\Users\\zwei\\AppData\\Local\\Temp\\ipykernel_588\\4248089460.py:19: FutureWarning: The frame.append method is deprecated and will be removed from pandas in a future version. Use pandas.concat instead.\n",
      "  results = results.append(query_data, ignore_index=True)\n",
      "C:\\Users\\zwei\\AppData\\Local\\Temp\\ipykernel_588\\4248089460.py:19: FutureWarning: The frame.append method is deprecated and will be removed from pandas in a future version. Use pandas.concat instead.\n",
      "  results = results.append(query_data, ignore_index=True)\n",
      "C:\\Users\\zwei\\AppData\\Local\\Temp\\ipykernel_588\\4248089460.py:19: FutureWarning: The frame.append method is deprecated and will be removed from pandas in a future version. Use pandas.concat instead.\n",
      "  results = results.append(query_data, ignore_index=True)\n",
      "C:\\Users\\zwei\\AppData\\Local\\Temp\\ipykernel_588\\4248089460.py:19: FutureWarning: The frame.append method is deprecated and will be removed from pandas in a future version. Use pandas.concat instead.\n",
      "  results = results.append(query_data, ignore_index=True)\n",
      "C:\\Users\\zwei\\AppData\\Local\\Temp\\ipykernel_588\\4248089460.py:19: FutureWarning: The frame.append method is deprecated and will be removed from pandas in a future version. Use pandas.concat instead.\n",
      "  results = results.append(query_data, ignore_index=True)\n",
      "C:\\Users\\zwei\\AppData\\Local\\Temp\\ipykernel_588\\4248089460.py:19: FutureWarning: The frame.append method is deprecated and will be removed from pandas in a future version. Use pandas.concat instead.\n",
      "  results = results.append(query_data, ignore_index=True)\n"
     ]
    },
    {
     "name": "stdout",
     "output_type": "stream",
     "text": [
      "An error occurred: The request failed: Google returned a response with code 500\n"
     ]
    },
    {
     "name": "stderr",
     "output_type": "stream",
     "text": [
      "C:\\Users\\zwei\\AppData\\Local\\Temp\\ipykernel_588\\4248089460.py:19: FutureWarning: The frame.append method is deprecated and will be removed from pandas in a future version. Use pandas.concat instead.\n",
      "  results = results.append(query_data, ignore_index=True)\n",
      "C:\\Users\\zwei\\AppData\\Local\\Temp\\ipykernel_588\\4248089460.py:19: FutureWarning: The frame.append method is deprecated and will be removed from pandas in a future version. Use pandas.concat instead.\n",
      "  results = results.append(query_data, ignore_index=True)\n",
      "C:\\Users\\zwei\\AppData\\Local\\Temp\\ipykernel_588\\4248089460.py:19: FutureWarning: The frame.append method is deprecated and will be removed from pandas in a future version. Use pandas.concat instead.\n",
      "  results = results.append(query_data, ignore_index=True)\n"
     ]
    },
    {
     "name": "stdout",
     "output_type": "stream",
     "text": [
      "An error occurred: 'NoneType' object does not support item assignment\n"
     ]
    },
    {
     "name": "stderr",
     "output_type": "stream",
     "text": [
      "C:\\Users\\zwei\\AppData\\Local\\Temp\\ipykernel_588\\4248089460.py:19: FutureWarning: The frame.append method is deprecated and will be removed from pandas in a future version. Use pandas.concat instead.\n",
      "  results = results.append(query_data, ignore_index=True)\n",
      "C:\\Users\\zwei\\AppData\\Local\\Temp\\ipykernel_588\\4248089460.py:19: FutureWarning: The frame.append method is deprecated and will be removed from pandas in a future version. Use pandas.concat instead.\n",
      "  results = results.append(query_data, ignore_index=True)\n",
      "C:\\Users\\zwei\\AppData\\Local\\Temp\\ipykernel_588\\4248089460.py:19: FutureWarning: The frame.append method is deprecated and will be removed from pandas in a future version. Use pandas.concat instead.\n",
      "  results = results.append(query_data, ignore_index=True)\n",
      "C:\\Users\\zwei\\AppData\\Local\\Temp\\ipykernel_588\\4248089460.py:19: FutureWarning: The frame.append method is deprecated and will be removed from pandas in a future version. Use pandas.concat instead.\n",
      "  results = results.append(query_data, ignore_index=True)\n",
      "C:\\Users\\zwei\\AppData\\Local\\Temp\\ipykernel_588\\4248089460.py:19: FutureWarning: The frame.append method is deprecated and will be removed from pandas in a future version. Use pandas.concat instead.\n",
      "  results = results.append(query_data, ignore_index=True)\n"
     ]
    },
    {
     "name": "stdout",
     "output_type": "stream",
     "text": [
      "An error occurred: 'NoneType' object does not support item assignment\n"
     ]
    },
    {
     "name": "stderr",
     "output_type": "stream",
     "text": [
      "C:\\Users\\zwei\\AppData\\Local\\Temp\\ipykernel_588\\4248089460.py:19: FutureWarning: The frame.append method is deprecated and will be removed from pandas in a future version. Use pandas.concat instead.\n",
      "  results = results.append(query_data, ignore_index=True)\n",
      "C:\\Users\\zwei\\AppData\\Local\\Temp\\ipykernel_588\\4248089460.py:19: FutureWarning: The frame.append method is deprecated and will be removed from pandas in a future version. Use pandas.concat instead.\n",
      "  results = results.append(query_data, ignore_index=True)\n",
      "C:\\Users\\zwei\\AppData\\Local\\Temp\\ipykernel_588\\4248089460.py:19: FutureWarning: The frame.append method is deprecated and will be removed from pandas in a future version. Use pandas.concat instead.\n",
      "  results = results.append(query_data, ignore_index=True)\n",
      "C:\\Users\\zwei\\AppData\\Local\\Temp\\ipykernel_588\\4248089460.py:19: FutureWarning: The frame.append method is deprecated and will be removed from pandas in a future version. Use pandas.concat instead.\n",
      "  results = results.append(query_data, ignore_index=True)\n",
      "C:\\Users\\zwei\\AppData\\Local\\Temp\\ipykernel_588\\4248089460.py:19: FutureWarning: The frame.append method is deprecated and will be removed from pandas in a future version. Use pandas.concat instead.\n",
      "  results = results.append(query_data, ignore_index=True)\n",
      "C:\\Users\\zwei\\AppData\\Local\\Temp\\ipykernel_588\\4248089460.py:19: FutureWarning: The frame.append method is deprecated and will be removed from pandas in a future version. Use pandas.concat instead.\n",
      "  results = results.append(query_data, ignore_index=True)\n",
      "C:\\Users\\zwei\\AppData\\Local\\Temp\\ipykernel_588\\4248089460.py:19: FutureWarning: The frame.append method is deprecated and will be removed from pandas in a future version. Use pandas.concat instead.\n",
      "  results = results.append(query_data, ignore_index=True)\n",
      "C:\\Users\\zwei\\AppData\\Local\\Temp\\ipykernel_588\\4248089460.py:19: FutureWarning: The frame.append method is deprecated and will be removed from pandas in a future version. Use pandas.concat instead.\n",
      "  results = results.append(query_data, ignore_index=True)\n",
      "C:\\Users\\zwei\\AppData\\Local\\Temp\\ipykernel_588\\4248089460.py:19: FutureWarning: The frame.append method is deprecated and will be removed from pandas in a future version. Use pandas.concat instead.\n",
      "  results = results.append(query_data, ignore_index=True)\n",
      "C:\\Users\\zwei\\AppData\\Local\\Temp\\ipykernel_588\\4248089460.py:19: FutureWarning: The frame.append method is deprecated and will be removed from pandas in a future version. Use pandas.concat instead.\n",
      "  results = results.append(query_data, ignore_index=True)\n",
      "C:\\Users\\zwei\\AppData\\Local\\Temp\\ipykernel_588\\4248089460.py:19: FutureWarning: The frame.append method is deprecated and will be removed from pandas in a future version. Use pandas.concat instead.\n",
      "  results = results.append(query_data, ignore_index=True)\n",
      "C:\\Users\\zwei\\AppData\\Local\\Temp\\ipykernel_588\\4248089460.py:19: FutureWarning: The frame.append method is deprecated and will be removed from pandas in a future version. Use pandas.concat instead.\n",
      "  results = results.append(query_data, ignore_index=True)\n",
      "C:\\Users\\zwei\\AppData\\Local\\Temp\\ipykernel_588\\4248089460.py:19: FutureWarning: The frame.append method is deprecated and will be removed from pandas in a future version. Use pandas.concat instead.\n",
      "  results = results.append(query_data, ignore_index=True)\n"
     ]
    },
    {
     "name": "stdout",
     "output_type": "stream",
     "text": [
      "An error occurred: 'NoneType' object does not support item assignment\n"
     ]
    },
    {
     "name": "stderr",
     "output_type": "stream",
     "text": [
      "C:\\Users\\zwei\\AppData\\Local\\Temp\\ipykernel_588\\4248089460.py:19: FutureWarning: The frame.append method is deprecated and will be removed from pandas in a future version. Use pandas.concat instead.\n",
      "  results = results.append(query_data, ignore_index=True)\n",
      "C:\\Users\\zwei\\AppData\\Local\\Temp\\ipykernel_588\\4248089460.py:19: FutureWarning: The frame.append method is deprecated and will be removed from pandas in a future version. Use pandas.concat instead.\n",
      "  results = results.append(query_data, ignore_index=True)\n",
      "C:\\Users\\zwei\\AppData\\Local\\Temp\\ipykernel_588\\4248089460.py:19: FutureWarning: The frame.append method is deprecated and will be removed from pandas in a future version. Use pandas.concat instead.\n",
      "  results = results.append(query_data, ignore_index=True)\n",
      "C:\\Users\\zwei\\AppData\\Local\\Temp\\ipykernel_588\\4248089460.py:19: FutureWarning: The frame.append method is deprecated and will be removed from pandas in a future version. Use pandas.concat instead.\n",
      "  results = results.append(query_data, ignore_index=True)\n",
      "C:\\Users\\zwei\\AppData\\Local\\Temp\\ipykernel_588\\4248089460.py:19: FutureWarning: The frame.append method is deprecated and will be removed from pandas in a future version. Use pandas.concat instead.\n",
      "  results = results.append(query_data, ignore_index=True)\n",
      "C:\\Users\\zwei\\AppData\\Local\\Temp\\ipykernel_588\\4248089460.py:19: FutureWarning: The frame.append method is deprecated and will be removed from pandas in a future version. Use pandas.concat instead.\n",
      "  results = results.append(query_data, ignore_index=True)\n",
      "C:\\Users\\zwei\\AppData\\Local\\Temp\\ipykernel_588\\4248089460.py:19: FutureWarning: The frame.append method is deprecated and will be removed from pandas in a future version. Use pandas.concat instead.\n",
      "  results = results.append(query_data, ignore_index=True)\n",
      "C:\\Users\\zwei\\AppData\\Local\\Temp\\ipykernel_588\\4248089460.py:19: FutureWarning: The frame.append method is deprecated and will be removed from pandas in a future version. Use pandas.concat instead.\n",
      "  results = results.append(query_data, ignore_index=True)\n",
      "C:\\Users\\zwei\\AppData\\Local\\Temp\\ipykernel_588\\4248089460.py:19: FutureWarning: The frame.append method is deprecated and will be removed from pandas in a future version. Use pandas.concat instead.\n",
      "  results = results.append(query_data, ignore_index=True)\n",
      "C:\\Users\\zwei\\AppData\\Local\\Temp\\ipykernel_588\\4248089460.py:19: FutureWarning: The frame.append method is deprecated and will be removed from pandas in a future version. Use pandas.concat instead.\n",
      "  results = results.append(query_data, ignore_index=True)\n",
      "C:\\Users\\zwei\\AppData\\Local\\Temp\\ipykernel_588\\4248089460.py:19: FutureWarning: The frame.append method is deprecated and will be removed from pandas in a future version. Use pandas.concat instead.\n",
      "  results = results.append(query_data, ignore_index=True)\n",
      "C:\\Users\\zwei\\AppData\\Local\\Temp\\ipykernel_588\\4248089460.py:19: FutureWarning: The frame.append method is deprecated and will be removed from pandas in a future version. Use pandas.concat instead.\n",
      "  results = results.append(query_data, ignore_index=True)\n",
      "C:\\Users\\zwei\\AppData\\Local\\Temp\\ipykernel_588\\4248089460.py:19: FutureWarning: The frame.append method is deprecated and will be removed from pandas in a future version. Use pandas.concat instead.\n",
      "  results = results.append(query_data, ignore_index=True)\n"
     ]
    },
    {
     "name": "stdout",
     "output_type": "stream",
     "text": [
      "An error occurred: 'NoneType' object does not support item assignment\n"
     ]
    },
    {
     "name": "stderr",
     "output_type": "stream",
     "text": [
      "C:\\Users\\zwei\\AppData\\Local\\Temp\\ipykernel_588\\4248089460.py:19: FutureWarning: The frame.append method is deprecated and will be removed from pandas in a future version. Use pandas.concat instead.\n",
      "  results = results.append(query_data, ignore_index=True)\n",
      "C:\\Users\\zwei\\AppData\\Local\\Temp\\ipykernel_588\\4248089460.py:19: FutureWarning: The frame.append method is deprecated and will be removed from pandas in a future version. Use pandas.concat instead.\n",
      "  results = results.append(query_data, ignore_index=True)\n",
      "C:\\Users\\zwei\\AppData\\Local\\Temp\\ipykernel_588\\4248089460.py:19: FutureWarning: The frame.append method is deprecated and will be removed from pandas in a future version. Use pandas.concat instead.\n",
      "  results = results.append(query_data, ignore_index=True)\n",
      "C:\\Users\\zwei\\AppData\\Local\\Temp\\ipykernel_588\\4248089460.py:19: FutureWarning: The frame.append method is deprecated and will be removed from pandas in a future version. Use pandas.concat instead.\n",
      "  results = results.append(query_data, ignore_index=True)\n",
      "C:\\Users\\zwei\\AppData\\Local\\Temp\\ipykernel_588\\4248089460.py:19: FutureWarning: The frame.append method is deprecated and will be removed from pandas in a future version. Use pandas.concat instead.\n",
      "  results = results.append(query_data, ignore_index=True)\n",
      "C:\\Users\\zwei\\AppData\\Local\\Temp\\ipykernel_588\\4248089460.py:19: FutureWarning: The frame.append method is deprecated and will be removed from pandas in a future version. Use pandas.concat instead.\n",
      "  results = results.append(query_data, ignore_index=True)\n",
      "C:\\Users\\zwei\\AppData\\Local\\Temp\\ipykernel_588\\4248089460.py:19: FutureWarning: The frame.append method is deprecated and will be removed from pandas in a future version. Use pandas.concat instead.\n",
      "  results = results.append(query_data, ignore_index=True)\n",
      "C:\\Users\\zwei\\AppData\\Local\\Temp\\ipykernel_588\\4248089460.py:19: FutureWarning: The frame.append method is deprecated and will be removed from pandas in a future version. Use pandas.concat instead.\n",
      "  results = results.append(query_data, ignore_index=True)\n",
      "C:\\Users\\zwei\\AppData\\Local\\Temp\\ipykernel_588\\4248089460.py:19: FutureWarning: The frame.append method is deprecated and will be removed from pandas in a future version. Use pandas.concat instead.\n",
      "  results = results.append(query_data, ignore_index=True)\n",
      "C:\\Users\\zwei\\AppData\\Local\\Temp\\ipykernel_588\\4248089460.py:19: FutureWarning: The frame.append method is deprecated and will be removed from pandas in a future version. Use pandas.concat instead.\n",
      "  results = results.append(query_data, ignore_index=True)\n",
      "C:\\Users\\zwei\\AppData\\Local\\Temp\\ipykernel_588\\4248089460.py:19: FutureWarning: The frame.append method is deprecated and will be removed from pandas in a future version. Use pandas.concat instead.\n",
      "  results = results.append(query_data, ignore_index=True)\n",
      "C:\\Users\\zwei\\AppData\\Local\\Temp\\ipykernel_588\\4248089460.py:19: FutureWarning: The frame.append method is deprecated and will be removed from pandas in a future version. Use pandas.concat instead.\n",
      "  results = results.append(query_data, ignore_index=True)\n",
      "C:\\Users\\zwei\\AppData\\Local\\Temp\\ipykernel_588\\4248089460.py:19: FutureWarning: The frame.append method is deprecated and will be removed from pandas in a future version. Use pandas.concat instead.\n",
      "  results = results.append(query_data, ignore_index=True)\n",
      "C:\\Users\\zwei\\AppData\\Local\\Temp\\ipykernel_588\\4248089460.py:19: FutureWarning: The frame.append method is deprecated and will be removed from pandas in a future version. Use pandas.concat instead.\n",
      "  results = results.append(query_data, ignore_index=True)\n",
      "C:\\Users\\zwei\\AppData\\Local\\Temp\\ipykernel_588\\4248089460.py:19: FutureWarning: The frame.append method is deprecated and will be removed from pandas in a future version. Use pandas.concat instead.\n",
      "  results = results.append(query_data, ignore_index=True)\n",
      "C:\\Users\\zwei\\AppData\\Local\\Temp\\ipykernel_588\\4248089460.py:19: FutureWarning: The frame.append method is deprecated and will be removed from pandas in a future version. Use pandas.concat instead.\n",
      "  results = results.append(query_data, ignore_index=True)\n",
      "C:\\Users\\zwei\\AppData\\Local\\Temp\\ipykernel_588\\4248089460.py:19: FutureWarning: The frame.append method is deprecated and will be removed from pandas in a future version. Use pandas.concat instead.\n",
      "  results = results.append(query_data, ignore_index=True)\n",
      "C:\\Users\\zwei\\AppData\\Local\\Temp\\ipykernel_588\\4248089460.py:19: FutureWarning: The frame.append method is deprecated and will be removed from pandas in a future version. Use pandas.concat instead.\n",
      "  results = results.append(query_data, ignore_index=True)\n",
      "C:\\Users\\zwei\\AppData\\Local\\Temp\\ipykernel_588\\4248089460.py:19: FutureWarning: The frame.append method is deprecated and will be removed from pandas in a future version. Use pandas.concat instead.\n",
      "  results = results.append(query_data, ignore_index=True)\n"
     ]
    },
    {
     "name": "stdout",
     "output_type": "stream",
     "text": [
      "An error occurred: 'NoneType' object does not support item assignment\n"
     ]
    },
    {
     "name": "stderr",
     "output_type": "stream",
     "text": [
      "C:\\Users\\zwei\\AppData\\Local\\Temp\\ipykernel_588\\4248089460.py:19: FutureWarning: The frame.append method is deprecated and will be removed from pandas in a future version. Use pandas.concat instead.\n",
      "  results = results.append(query_data, ignore_index=True)\n",
      "C:\\Users\\zwei\\AppData\\Local\\Temp\\ipykernel_588\\4248089460.py:19: FutureWarning: The frame.append method is deprecated and will be removed from pandas in a future version. Use pandas.concat instead.\n",
      "  results = results.append(query_data, ignore_index=True)\n",
      "C:\\Users\\zwei\\AppData\\Local\\Temp\\ipykernel_588\\4248089460.py:19: FutureWarning: The frame.append method is deprecated and will be removed from pandas in a future version. Use pandas.concat instead.\n",
      "  results = results.append(query_data, ignore_index=True)\n",
      "C:\\Users\\zwei\\AppData\\Local\\Temp\\ipykernel_588\\4248089460.py:19: FutureWarning: The frame.append method is deprecated and will be removed from pandas in a future version. Use pandas.concat instead.\n",
      "  results = results.append(query_data, ignore_index=True)\n",
      "C:\\Users\\zwei\\AppData\\Local\\Temp\\ipykernel_588\\4248089460.py:19: FutureWarning: The frame.append method is deprecated and will be removed from pandas in a future version. Use pandas.concat instead.\n",
      "  results = results.append(query_data, ignore_index=True)\n"
     ]
    },
    {
     "name": "stdout",
     "output_type": "stream",
     "text": [
      "An error occurred: 'NoneType' object does not support item assignment\n"
     ]
    },
    {
     "name": "stderr",
     "output_type": "stream",
     "text": [
      "C:\\Users\\zwei\\AppData\\Local\\Temp\\ipykernel_588\\4248089460.py:19: FutureWarning: The frame.append method is deprecated and will be removed from pandas in a future version. Use pandas.concat instead.\n",
      "  results = results.append(query_data, ignore_index=True)\n",
      "C:\\Users\\zwei\\AppData\\Local\\Temp\\ipykernel_588\\4248089460.py:19: FutureWarning: The frame.append method is deprecated and will be removed from pandas in a future version. Use pandas.concat instead.\n",
      "  results = results.append(query_data, ignore_index=True)\n",
      "C:\\Users\\zwei\\AppData\\Local\\Temp\\ipykernel_588\\4248089460.py:19: FutureWarning: The frame.append method is deprecated and will be removed from pandas in a future version. Use pandas.concat instead.\n",
      "  results = results.append(query_data, ignore_index=True)\n",
      "C:\\Users\\zwei\\AppData\\Local\\Temp\\ipykernel_588\\4248089460.py:19: FutureWarning: The frame.append method is deprecated and will be removed from pandas in a future version. Use pandas.concat instead.\n",
      "  results = results.append(query_data, ignore_index=True)\n",
      "C:\\Users\\zwei\\AppData\\Local\\Temp\\ipykernel_588\\4248089460.py:19: FutureWarning: The frame.append method is deprecated and will be removed from pandas in a future version. Use pandas.concat instead.\n",
      "  results = results.append(query_data, ignore_index=True)\n",
      "C:\\Users\\zwei\\AppData\\Local\\Temp\\ipykernel_588\\4248089460.py:19: FutureWarning: The frame.append method is deprecated and will be removed from pandas in a future version. Use pandas.concat instead.\n",
      "  results = results.append(query_data, ignore_index=True)\n",
      "C:\\Users\\zwei\\AppData\\Local\\Temp\\ipykernel_588\\4248089460.py:19: FutureWarning: The frame.append method is deprecated and will be removed from pandas in a future version. Use pandas.concat instead.\n",
      "  results = results.append(query_data, ignore_index=True)\n",
      "C:\\Users\\zwei\\AppData\\Local\\Temp\\ipykernel_588\\4248089460.py:19: FutureWarning: The frame.append method is deprecated and will be removed from pandas in a future version. Use pandas.concat instead.\n",
      "  results = results.append(query_data, ignore_index=True)\n",
      "C:\\Users\\zwei\\AppData\\Local\\Temp\\ipykernel_588\\4248089460.py:19: FutureWarning: The frame.append method is deprecated and will be removed from pandas in a future version. Use pandas.concat instead.\n",
      "  results = results.append(query_data, ignore_index=True)\n",
      "C:\\Users\\zwei\\AppData\\Local\\Temp\\ipykernel_588\\4248089460.py:19: FutureWarning: The frame.append method is deprecated and will be removed from pandas in a future version. Use pandas.concat instead.\n",
      "  results = results.append(query_data, ignore_index=True)\n",
      "C:\\Users\\zwei\\AppData\\Local\\Temp\\ipykernel_588\\4248089460.py:19: FutureWarning: The frame.append method is deprecated and will be removed from pandas in a future version. Use pandas.concat instead.\n",
      "  results = results.append(query_data, ignore_index=True)\n",
      "C:\\Users\\zwei\\AppData\\Local\\Temp\\ipykernel_588\\4248089460.py:19: FutureWarning: The frame.append method is deprecated and will be removed from pandas in a future version. Use pandas.concat instead.\n",
      "  results = results.append(query_data, ignore_index=True)\n",
      "C:\\Users\\zwei\\AppData\\Local\\Temp\\ipykernel_588\\4248089460.py:19: FutureWarning: The frame.append method is deprecated and will be removed from pandas in a future version. Use pandas.concat instead.\n",
      "  results = results.append(query_data, ignore_index=True)\n",
      "C:\\Users\\zwei\\AppData\\Local\\Temp\\ipykernel_588\\4248089460.py:19: FutureWarning: The frame.append method is deprecated and will be removed from pandas in a future version. Use pandas.concat instead.\n",
      "  results = results.append(query_data, ignore_index=True)\n",
      "C:\\Users\\zwei\\AppData\\Local\\Temp\\ipykernel_588\\4248089460.py:19: FutureWarning: The frame.append method is deprecated and will be removed from pandas in a future version. Use pandas.concat instead.\n",
      "  results = results.append(query_data, ignore_index=True)\n",
      "C:\\Users\\zwei\\AppData\\Local\\Temp\\ipykernel_588\\4248089460.py:19: FutureWarning: The frame.append method is deprecated and will be removed from pandas in a future version. Use pandas.concat instead.\n",
      "  results = results.append(query_data, ignore_index=True)\n",
      "C:\\Users\\zwei\\AppData\\Local\\Temp\\ipykernel_588\\4248089460.py:19: FutureWarning: The frame.append method is deprecated and will be removed from pandas in a future version. Use pandas.concat instead.\n",
      "  results = results.append(query_data, ignore_index=True)\n",
      "C:\\Users\\zwei\\AppData\\Local\\Temp\\ipykernel_588\\4248089460.py:19: FutureWarning: The frame.append method is deprecated and will be removed from pandas in a future version. Use pandas.concat instead.\n",
      "  results = results.append(query_data, ignore_index=True)\n",
      "C:\\Users\\zwei\\AppData\\Local\\Temp\\ipykernel_588\\4248089460.py:19: FutureWarning: The frame.append method is deprecated and will be removed from pandas in a future version. Use pandas.concat instead.\n",
      "  results = results.append(query_data, ignore_index=True)\n",
      "C:\\Users\\zwei\\AppData\\Local\\Temp\\ipykernel_588\\4248089460.py:19: FutureWarning: The frame.append method is deprecated and will be removed from pandas in a future version. Use pandas.concat instead.\n",
      "  results = results.append(query_data, ignore_index=True)\n",
      "C:\\Users\\zwei\\AppData\\Local\\Temp\\ipykernel_588\\4248089460.py:19: FutureWarning: The frame.append method is deprecated and will be removed from pandas in a future version. Use pandas.concat instead.\n",
      "  results = results.append(query_data, ignore_index=True)\n",
      "C:\\Users\\zwei\\AppData\\Local\\Temp\\ipykernel_588\\4248089460.py:19: FutureWarning: The frame.append method is deprecated and will be removed from pandas in a future version. Use pandas.concat instead.\n",
      "  results = results.append(query_data, ignore_index=True)\n",
      "C:\\Users\\zwei\\AppData\\Local\\Temp\\ipykernel_588\\4248089460.py:19: FutureWarning: The frame.append method is deprecated and will be removed from pandas in a future version. Use pandas.concat instead.\n",
      "  results = results.append(query_data, ignore_index=True)\n",
      "C:\\Users\\zwei\\AppData\\Local\\Temp\\ipykernel_588\\4248089460.py:19: FutureWarning: The frame.append method is deprecated and will be removed from pandas in a future version. Use pandas.concat instead.\n",
      "  results = results.append(query_data, ignore_index=True)\n",
      "C:\\Users\\zwei\\AppData\\Local\\Temp\\ipykernel_588\\4248089460.py:19: FutureWarning: The frame.append method is deprecated and will be removed from pandas in a future version. Use pandas.concat instead.\n",
      "  results = results.append(query_data, ignore_index=True)\n",
      "C:\\Users\\zwei\\AppData\\Local\\Temp\\ipykernel_588\\4248089460.py:19: FutureWarning: The frame.append method is deprecated and will be removed from pandas in a future version. Use pandas.concat instead.\n",
      "  results = results.append(query_data, ignore_index=True)\n",
      "C:\\Users\\zwei\\AppData\\Local\\Temp\\ipykernel_588\\4248089460.py:19: FutureWarning: The frame.append method is deprecated and will be removed from pandas in a future version. Use pandas.concat instead.\n",
      "  results = results.append(query_data, ignore_index=True)\n",
      "C:\\Users\\zwei\\AppData\\Local\\Temp\\ipykernel_588\\4248089460.py:19: FutureWarning: The frame.append method is deprecated and will be removed from pandas in a future version. Use pandas.concat instead.\n",
      "  results = results.append(query_data, ignore_index=True)\n",
      "C:\\Users\\zwei\\AppData\\Local\\Temp\\ipykernel_588\\4248089460.py:19: FutureWarning: The frame.append method is deprecated and will be removed from pandas in a future version. Use pandas.concat instead.\n",
      "  results = results.append(query_data, ignore_index=True)\n"
     ]
    },
    {
     "name": "stdout",
     "output_type": "stream",
     "text": [
      "An error occurred: 'NoneType' object does not support item assignment\n"
     ]
    },
    {
     "name": "stderr",
     "output_type": "stream",
     "text": [
      "C:\\Users\\zwei\\AppData\\Local\\Temp\\ipykernel_588\\4248089460.py:19: FutureWarning: The frame.append method is deprecated and will be removed from pandas in a future version. Use pandas.concat instead.\n",
      "  results = results.append(query_data, ignore_index=True)\n",
      "C:\\Users\\zwei\\AppData\\Local\\Temp\\ipykernel_588\\4248089460.py:19: FutureWarning: The frame.append method is deprecated and will be removed from pandas in a future version. Use pandas.concat instead.\n",
      "  results = results.append(query_data, ignore_index=True)\n",
      "C:\\Users\\zwei\\AppData\\Local\\Temp\\ipykernel_588\\4248089460.py:19: FutureWarning: The frame.append method is deprecated and will be removed from pandas in a future version. Use pandas.concat instead.\n",
      "  results = results.append(query_data, ignore_index=True)\n",
      "C:\\Users\\zwei\\AppData\\Local\\Temp\\ipykernel_588\\4248089460.py:19: FutureWarning: The frame.append method is deprecated and will be removed from pandas in a future version. Use pandas.concat instead.\n",
      "  results = results.append(query_data, ignore_index=True)\n",
      "C:\\Users\\zwei\\AppData\\Local\\Temp\\ipykernel_588\\4248089460.py:19: FutureWarning: The frame.append method is deprecated and will be removed from pandas in a future version. Use pandas.concat instead.\n",
      "  results = results.append(query_data, ignore_index=True)\n",
      "C:\\Users\\zwei\\AppData\\Local\\Temp\\ipykernel_588\\4248089460.py:19: FutureWarning: The frame.append method is deprecated and will be removed from pandas in a future version. Use pandas.concat instead.\n",
      "  results = results.append(query_data, ignore_index=True)\n",
      "C:\\Users\\zwei\\AppData\\Local\\Temp\\ipykernel_588\\4248089460.py:19: FutureWarning: The frame.append method is deprecated and will be removed from pandas in a future version. Use pandas.concat instead.\n",
      "  results = results.append(query_data, ignore_index=True)\n",
      "C:\\Users\\zwei\\AppData\\Local\\Temp\\ipykernel_588\\4248089460.py:19: FutureWarning: The frame.append method is deprecated and will be removed from pandas in a future version. Use pandas.concat instead.\n",
      "  results = results.append(query_data, ignore_index=True)\n",
      "C:\\Users\\zwei\\AppData\\Local\\Temp\\ipykernel_588\\4248089460.py:19: FutureWarning: The frame.append method is deprecated and will be removed from pandas in a future version. Use pandas.concat instead.\n",
      "  results = results.append(query_data, ignore_index=True)\n",
      "C:\\Users\\zwei\\AppData\\Local\\Temp\\ipykernel_588\\4248089460.py:19: FutureWarning: The frame.append method is deprecated and will be removed from pandas in a future version. Use pandas.concat instead.\n",
      "  results = results.append(query_data, ignore_index=True)\n",
      "C:\\Users\\zwei\\AppData\\Local\\Temp\\ipykernel_588\\4248089460.py:19: FutureWarning: The frame.append method is deprecated and will be removed from pandas in a future version. Use pandas.concat instead.\n",
      "  results = results.append(query_data, ignore_index=True)\n",
      "C:\\Users\\zwei\\AppData\\Local\\Temp\\ipykernel_588\\4248089460.py:19: FutureWarning: The frame.append method is deprecated and will be removed from pandas in a future version. Use pandas.concat instead.\n",
      "  results = results.append(query_data, ignore_index=True)\n",
      "C:\\Users\\zwei\\AppData\\Local\\Temp\\ipykernel_588\\4248089460.py:19: FutureWarning: The frame.append method is deprecated and will be removed from pandas in a future version. Use pandas.concat instead.\n",
      "  results = results.append(query_data, ignore_index=True)\n",
      "C:\\Users\\zwei\\AppData\\Local\\Temp\\ipykernel_588\\4248089460.py:19: FutureWarning: The frame.append method is deprecated and will be removed from pandas in a future version. Use pandas.concat instead.\n",
      "  results = results.append(query_data, ignore_index=True)\n",
      "C:\\Users\\zwei\\AppData\\Local\\Temp\\ipykernel_588\\4248089460.py:19: FutureWarning: The frame.append method is deprecated and will be removed from pandas in a future version. Use pandas.concat instead.\n",
      "  results = results.append(query_data, ignore_index=True)\n"
     ]
    },
    {
     "name": "stdout",
     "output_type": "stream",
     "text": [
      "An error occurred: 'NoneType' object does not support item assignment\n"
     ]
    },
    {
     "name": "stderr",
     "output_type": "stream",
     "text": [
      "C:\\Users\\zwei\\AppData\\Local\\Temp\\ipykernel_588\\4248089460.py:19: FutureWarning: The frame.append method is deprecated and will be removed from pandas in a future version. Use pandas.concat instead.\n",
      "  results = results.append(query_data, ignore_index=True)\n",
      "C:\\Users\\zwei\\AppData\\Local\\Temp\\ipykernel_588\\4248089460.py:19: FutureWarning: The frame.append method is deprecated and will be removed from pandas in a future version. Use pandas.concat instead.\n",
      "  results = results.append(query_data, ignore_index=True)\n",
      "C:\\Users\\zwei\\AppData\\Local\\Temp\\ipykernel_588\\4248089460.py:19: FutureWarning: The frame.append method is deprecated and will be removed from pandas in a future version. Use pandas.concat instead.\n",
      "  results = results.append(query_data, ignore_index=True)\n",
      "C:\\Users\\zwei\\AppData\\Local\\Temp\\ipykernel_588\\4248089460.py:19: FutureWarning: The frame.append method is deprecated and will be removed from pandas in a future version. Use pandas.concat instead.\n",
      "  results = results.append(query_data, ignore_index=True)\n",
      "C:\\Users\\zwei\\AppData\\Local\\Temp\\ipykernel_588\\4248089460.py:19: FutureWarning: The frame.append method is deprecated and will be removed from pandas in a future version. Use pandas.concat instead.\n",
      "  results = results.append(query_data, ignore_index=True)\n",
      "C:\\Users\\zwei\\AppData\\Local\\Temp\\ipykernel_588\\4248089460.py:19: FutureWarning: The frame.append method is deprecated and will be removed from pandas in a future version. Use pandas.concat instead.\n",
      "  results = results.append(query_data, ignore_index=True)\n",
      "C:\\Users\\zwei\\AppData\\Local\\Temp\\ipykernel_588\\4248089460.py:19: FutureWarning: The frame.append method is deprecated and will be removed from pandas in a future version. Use pandas.concat instead.\n",
      "  results = results.append(query_data, ignore_index=True)\n",
      "C:\\Users\\zwei\\AppData\\Local\\Temp\\ipykernel_588\\4248089460.py:19: FutureWarning: The frame.append method is deprecated and will be removed from pandas in a future version. Use pandas.concat instead.\n",
      "  results = results.append(query_data, ignore_index=True)\n",
      "C:\\Users\\zwei\\AppData\\Local\\Temp\\ipykernel_588\\4248089460.py:19: FutureWarning: The frame.append method is deprecated and will be removed from pandas in a future version. Use pandas.concat instead.\n",
      "  results = results.append(query_data, ignore_index=True)\n",
      "C:\\Users\\zwei\\AppData\\Local\\Temp\\ipykernel_588\\4248089460.py:19: FutureWarning: The frame.append method is deprecated and will be removed from pandas in a future version. Use pandas.concat instead.\n",
      "  results = results.append(query_data, ignore_index=True)\n",
      "C:\\Users\\zwei\\AppData\\Local\\Temp\\ipykernel_588\\4248089460.py:19: FutureWarning: The frame.append method is deprecated and will be removed from pandas in a future version. Use pandas.concat instead.\n",
      "  results = results.append(query_data, ignore_index=True)\n",
      "C:\\Users\\zwei\\AppData\\Local\\Temp\\ipykernel_588\\4248089460.py:19: FutureWarning: The frame.append method is deprecated and will be removed from pandas in a future version. Use pandas.concat instead.\n",
      "  results = results.append(query_data, ignore_index=True)\n",
      "C:\\Users\\zwei\\AppData\\Local\\Temp\\ipykernel_588\\4248089460.py:19: FutureWarning: The frame.append method is deprecated and will be removed from pandas in a future version. Use pandas.concat instead.\n",
      "  results = results.append(query_data, ignore_index=True)\n",
      "C:\\Users\\zwei\\AppData\\Local\\Temp\\ipykernel_588\\4248089460.py:19: FutureWarning: The frame.append method is deprecated and will be removed from pandas in a future version. Use pandas.concat instead.\n",
      "  results = results.append(query_data, ignore_index=True)\n",
      "C:\\Users\\zwei\\AppData\\Local\\Temp\\ipykernel_588\\4248089460.py:19: FutureWarning: The frame.append method is deprecated and will be removed from pandas in a future version. Use pandas.concat instead.\n",
      "  results = results.append(query_data, ignore_index=True)\n",
      "C:\\Users\\zwei\\AppData\\Local\\Temp\\ipykernel_588\\4248089460.py:19: FutureWarning: The frame.append method is deprecated and will be removed from pandas in a future version. Use pandas.concat instead.\n",
      "  results = results.append(query_data, ignore_index=True)\n",
      "C:\\Users\\zwei\\AppData\\Local\\Temp\\ipykernel_588\\4248089460.py:19: FutureWarning: The frame.append method is deprecated and will be removed from pandas in a future version. Use pandas.concat instead.\n",
      "  results = results.append(query_data, ignore_index=True)\n",
      "C:\\Users\\zwei\\AppData\\Local\\Temp\\ipykernel_588\\4248089460.py:19: FutureWarning: The frame.append method is deprecated and will be removed from pandas in a future version. Use pandas.concat instead.\n",
      "  results = results.append(query_data, ignore_index=True)\n",
      "C:\\Users\\zwei\\AppData\\Local\\Temp\\ipykernel_588\\4248089460.py:19: FutureWarning: The frame.append method is deprecated and will be removed from pandas in a future version. Use pandas.concat instead.\n",
      "  results = results.append(query_data, ignore_index=True)\n",
      "C:\\Users\\zwei\\AppData\\Local\\Temp\\ipykernel_588\\4248089460.py:19: FutureWarning: The frame.append method is deprecated and will be removed from pandas in a future version. Use pandas.concat instead.\n",
      "  results = results.append(query_data, ignore_index=True)\n",
      "C:\\Users\\zwei\\AppData\\Local\\Temp\\ipykernel_588\\4248089460.py:19: FutureWarning: The frame.append method is deprecated and will be removed from pandas in a future version. Use pandas.concat instead.\n",
      "  results = results.append(query_data, ignore_index=True)\n"
     ]
    },
    {
     "name": "stdout",
     "output_type": "stream",
     "text": [
      "An error occurred: 'NoneType' object does not support item assignment\n"
     ]
    },
    {
     "name": "stderr",
     "output_type": "stream",
     "text": [
      "C:\\Users\\zwei\\AppData\\Local\\Temp\\ipykernel_588\\4248089460.py:19: FutureWarning: The frame.append method is deprecated and will be removed from pandas in a future version. Use pandas.concat instead.\n",
      "  results = results.append(query_data, ignore_index=True)\n",
      "C:\\Users\\zwei\\AppData\\Local\\Temp\\ipykernel_588\\4248089460.py:19: FutureWarning: The frame.append method is deprecated and will be removed from pandas in a future version. Use pandas.concat instead.\n",
      "  results = results.append(query_data, ignore_index=True)\n",
      "C:\\Users\\zwei\\AppData\\Local\\Temp\\ipykernel_588\\4248089460.py:19: FutureWarning: The frame.append method is deprecated and will be removed from pandas in a future version. Use pandas.concat instead.\n",
      "  results = results.append(query_data, ignore_index=True)\n",
      "C:\\Users\\zwei\\AppData\\Local\\Temp\\ipykernel_588\\4248089460.py:19: FutureWarning: The frame.append method is deprecated and will be removed from pandas in a future version. Use pandas.concat instead.\n",
      "  results = results.append(query_data, ignore_index=True)\n",
      "C:\\Users\\zwei\\AppData\\Local\\Temp\\ipykernel_588\\4248089460.py:19: FutureWarning: The frame.append method is deprecated and will be removed from pandas in a future version. Use pandas.concat instead.\n",
      "  results = results.append(query_data, ignore_index=True)\n",
      "C:\\Users\\zwei\\AppData\\Local\\Temp\\ipykernel_588\\4248089460.py:19: FutureWarning: The frame.append method is deprecated and will be removed from pandas in a future version. Use pandas.concat instead.\n",
      "  results = results.append(query_data, ignore_index=True)\n",
      "C:\\Users\\zwei\\AppData\\Local\\Temp\\ipykernel_588\\4248089460.py:19: FutureWarning: The frame.append method is deprecated and will be removed from pandas in a future version. Use pandas.concat instead.\n",
      "  results = results.append(query_data, ignore_index=True)\n",
      "C:\\Users\\zwei\\AppData\\Local\\Temp\\ipykernel_588\\4248089460.py:19: FutureWarning: The frame.append method is deprecated and will be removed from pandas in a future version. Use pandas.concat instead.\n",
      "  results = results.append(query_data, ignore_index=True)\n",
      "C:\\Users\\zwei\\AppData\\Local\\Temp\\ipykernel_588\\4248089460.py:19: FutureWarning: The frame.append method is deprecated and will be removed from pandas in a future version. Use pandas.concat instead.\n",
      "  results = results.append(query_data, ignore_index=True)\n"
     ]
    },
    {
     "name": "stdout",
     "output_type": "stream",
     "text": [
      "An error occurred: 'NoneType' object does not support item assignment\n"
     ]
    },
    {
     "name": "stderr",
     "output_type": "stream",
     "text": [
      "C:\\Users\\zwei\\AppData\\Local\\Temp\\ipykernel_588\\4248089460.py:19: FutureWarning: The frame.append method is deprecated and will be removed from pandas in a future version. Use pandas.concat instead.\n",
      "  results = results.append(query_data, ignore_index=True)\n",
      "C:\\Users\\zwei\\AppData\\Local\\Temp\\ipykernel_588\\4248089460.py:19: FutureWarning: The frame.append method is deprecated and will be removed from pandas in a future version. Use pandas.concat instead.\n",
      "  results = results.append(query_data, ignore_index=True)\n",
      "C:\\Users\\zwei\\AppData\\Local\\Temp\\ipykernel_588\\4248089460.py:19: FutureWarning: The frame.append method is deprecated and will be removed from pandas in a future version. Use pandas.concat instead.\n",
      "  results = results.append(query_data, ignore_index=True)\n",
      "C:\\Users\\zwei\\AppData\\Local\\Temp\\ipykernel_588\\4248089460.py:19: FutureWarning: The frame.append method is deprecated and will be removed from pandas in a future version. Use pandas.concat instead.\n",
      "  results = results.append(query_data, ignore_index=True)\n",
      "C:\\Users\\zwei\\AppData\\Local\\Temp\\ipykernel_588\\4248089460.py:19: FutureWarning: The frame.append method is deprecated and will be removed from pandas in a future version. Use pandas.concat instead.\n",
      "  results = results.append(query_data, ignore_index=True)\n",
      "C:\\Users\\zwei\\AppData\\Local\\Temp\\ipykernel_588\\4248089460.py:19: FutureWarning: The frame.append method is deprecated and will be removed from pandas in a future version. Use pandas.concat instead.\n",
      "  results = results.append(query_data, ignore_index=True)\n",
      "C:\\Users\\zwei\\AppData\\Local\\Temp\\ipykernel_588\\4248089460.py:19: FutureWarning: The frame.append method is deprecated and will be removed from pandas in a future version. Use pandas.concat instead.\n",
      "  results = results.append(query_data, ignore_index=True)\n",
      "C:\\Users\\zwei\\AppData\\Local\\Temp\\ipykernel_588\\4248089460.py:19: FutureWarning: The frame.append method is deprecated and will be removed from pandas in a future version. Use pandas.concat instead.\n",
      "  results = results.append(query_data, ignore_index=True)\n",
      "C:\\Users\\zwei\\AppData\\Local\\Temp\\ipykernel_588\\4248089460.py:19: FutureWarning: The frame.append method is deprecated and will be removed from pandas in a future version. Use pandas.concat instead.\n",
      "  results = results.append(query_data, ignore_index=True)\n",
      "C:\\Users\\zwei\\AppData\\Local\\Temp\\ipykernel_588\\4248089460.py:19: FutureWarning: The frame.append method is deprecated and will be removed from pandas in a future version. Use pandas.concat instead.\n",
      "  results = results.append(query_data, ignore_index=True)\n",
      "C:\\Users\\zwei\\AppData\\Local\\Temp\\ipykernel_588\\4248089460.py:19: FutureWarning: The frame.append method is deprecated and will be removed from pandas in a future version. Use pandas.concat instead.\n",
      "  results = results.append(query_data, ignore_index=True)\n",
      "C:\\Users\\zwei\\AppData\\Local\\Temp\\ipykernel_588\\4248089460.py:19: FutureWarning: The frame.append method is deprecated and will be removed from pandas in a future version. Use pandas.concat instead.\n",
      "  results = results.append(query_data, ignore_index=True)\n",
      "C:\\Users\\zwei\\AppData\\Local\\Temp\\ipykernel_588\\4248089460.py:19: FutureWarning: The frame.append method is deprecated and will be removed from pandas in a future version. Use pandas.concat instead.\n",
      "  results = results.append(query_data, ignore_index=True)\n",
      "C:\\Users\\zwei\\AppData\\Local\\Temp\\ipykernel_588\\4248089460.py:19: FutureWarning: The frame.append method is deprecated and will be removed from pandas in a future version. Use pandas.concat instead.\n",
      "  results = results.append(query_data, ignore_index=True)\n",
      "C:\\Users\\zwei\\AppData\\Local\\Temp\\ipykernel_588\\4248089460.py:19: FutureWarning: The frame.append method is deprecated and will be removed from pandas in a future version. Use pandas.concat instead.\n",
      "  results = results.append(query_data, ignore_index=True)\n"
     ]
    },
    {
     "name": "stdout",
     "output_type": "stream",
     "text": [
      "An error occurred: 'NoneType' object does not support item assignment\n"
     ]
    },
    {
     "name": "stderr",
     "output_type": "stream",
     "text": [
      "C:\\Users\\zwei\\AppData\\Local\\Temp\\ipykernel_588\\4248089460.py:19: FutureWarning: The frame.append method is deprecated and will be removed from pandas in a future version. Use pandas.concat instead.\n",
      "  results = results.append(query_data, ignore_index=True)\n",
      "C:\\Users\\zwei\\AppData\\Local\\Temp\\ipykernel_588\\4248089460.py:19: FutureWarning: The frame.append method is deprecated and will be removed from pandas in a future version. Use pandas.concat instead.\n",
      "  results = results.append(query_data, ignore_index=True)\n",
      "C:\\Users\\zwei\\AppData\\Local\\Temp\\ipykernel_588\\4248089460.py:19: FutureWarning: The frame.append method is deprecated and will be removed from pandas in a future version. Use pandas.concat instead.\n",
      "  results = results.append(query_data, ignore_index=True)\n",
      "C:\\Users\\zwei\\AppData\\Local\\Temp\\ipykernel_588\\4248089460.py:19: FutureWarning: The frame.append method is deprecated and will be removed from pandas in a future version. Use pandas.concat instead.\n",
      "  results = results.append(query_data, ignore_index=True)\n",
      "C:\\Users\\zwei\\AppData\\Local\\Temp\\ipykernel_588\\4248089460.py:19: FutureWarning: The frame.append method is deprecated and will be removed from pandas in a future version. Use pandas.concat instead.\n",
      "  results = results.append(query_data, ignore_index=True)\n",
      "C:\\Users\\zwei\\AppData\\Local\\Temp\\ipykernel_588\\4248089460.py:19: FutureWarning: The frame.append method is deprecated and will be removed from pandas in a future version. Use pandas.concat instead.\n",
      "  results = results.append(query_data, ignore_index=True)\n",
      "C:\\Users\\zwei\\AppData\\Local\\Temp\\ipykernel_588\\4248089460.py:19: FutureWarning: The frame.append method is deprecated and will be removed from pandas in a future version. Use pandas.concat instead.\n",
      "  results = results.append(query_data, ignore_index=True)\n",
      "C:\\Users\\zwei\\AppData\\Local\\Temp\\ipykernel_588\\4248089460.py:19: FutureWarning: The frame.append method is deprecated and will be removed from pandas in a future version. Use pandas.concat instead.\n",
      "  results = results.append(query_data, ignore_index=True)\n",
      "C:\\Users\\zwei\\AppData\\Local\\Temp\\ipykernel_588\\4248089460.py:19: FutureWarning: The frame.append method is deprecated and will be removed from pandas in a future version. Use pandas.concat instead.\n",
      "  results = results.append(query_data, ignore_index=True)\n",
      "C:\\Users\\zwei\\AppData\\Local\\Temp\\ipykernel_588\\4248089460.py:19: FutureWarning: The frame.append method is deprecated and will be removed from pandas in a future version. Use pandas.concat instead.\n",
      "  results = results.append(query_data, ignore_index=True)\n",
      "C:\\Users\\zwei\\AppData\\Local\\Temp\\ipykernel_588\\4248089460.py:19: FutureWarning: The frame.append method is deprecated and will be removed from pandas in a future version. Use pandas.concat instead.\n",
      "  results = results.append(query_data, ignore_index=True)\n",
      "C:\\Users\\zwei\\AppData\\Local\\Temp\\ipykernel_588\\4248089460.py:19: FutureWarning: The frame.append method is deprecated and will be removed from pandas in a future version. Use pandas.concat instead.\n",
      "  results = results.append(query_data, ignore_index=True)\n",
      "C:\\Users\\zwei\\AppData\\Local\\Temp\\ipykernel_588\\4248089460.py:19: FutureWarning: The frame.append method is deprecated and will be removed from pandas in a future version. Use pandas.concat instead.\n",
      "  results = results.append(query_data, ignore_index=True)\n",
      "C:\\Users\\zwei\\AppData\\Local\\Temp\\ipykernel_588\\4248089460.py:19: FutureWarning: The frame.append method is deprecated and will be removed from pandas in a future version. Use pandas.concat instead.\n",
      "  results = results.append(query_data, ignore_index=True)\n",
      "C:\\Users\\zwei\\AppData\\Local\\Temp\\ipykernel_588\\4248089460.py:19: FutureWarning: The frame.append method is deprecated and will be removed from pandas in a future version. Use pandas.concat instead.\n",
      "  results = results.append(query_data, ignore_index=True)\n"
     ]
    },
    {
     "name": "stdout",
     "output_type": "stream",
     "text": [
      "An error occurred: 'NoneType' object does not support item assignment\n"
     ]
    },
    {
     "name": "stderr",
     "output_type": "stream",
     "text": [
      "C:\\Users\\zwei\\AppData\\Local\\Temp\\ipykernel_588\\4248089460.py:19: FutureWarning: The frame.append method is deprecated and will be removed from pandas in a future version. Use pandas.concat instead.\n",
      "  results = results.append(query_data, ignore_index=True)\n",
      "C:\\Users\\zwei\\AppData\\Local\\Temp\\ipykernel_588\\4248089460.py:19: FutureWarning: The frame.append method is deprecated and will be removed from pandas in a future version. Use pandas.concat instead.\n",
      "  results = results.append(query_data, ignore_index=True)\n",
      "C:\\Users\\zwei\\AppData\\Local\\Temp\\ipykernel_588\\4248089460.py:19: FutureWarning: The frame.append method is deprecated and will be removed from pandas in a future version. Use pandas.concat instead.\n",
      "  results = results.append(query_data, ignore_index=True)\n",
      "C:\\Users\\zwei\\AppData\\Local\\Temp\\ipykernel_588\\4248089460.py:19: FutureWarning: The frame.append method is deprecated and will be removed from pandas in a future version. Use pandas.concat instead.\n",
      "  results = results.append(query_data, ignore_index=True)\n",
      "C:\\Users\\zwei\\AppData\\Local\\Temp\\ipykernel_588\\4248089460.py:19: FutureWarning: The frame.append method is deprecated and will be removed from pandas in a future version. Use pandas.concat instead.\n",
      "  results = results.append(query_data, ignore_index=True)\n",
      "C:\\Users\\zwei\\AppData\\Local\\Temp\\ipykernel_588\\4248089460.py:19: FutureWarning: The frame.append method is deprecated and will be removed from pandas in a future version. Use pandas.concat instead.\n",
      "  results = results.append(query_data, ignore_index=True)\n",
      "C:\\Users\\zwei\\AppData\\Local\\Temp\\ipykernel_588\\4248089460.py:19: FutureWarning: The frame.append method is deprecated and will be removed from pandas in a future version. Use pandas.concat instead.\n",
      "  results = results.append(query_data, ignore_index=True)\n",
      "C:\\Users\\zwei\\AppData\\Local\\Temp\\ipykernel_588\\4248089460.py:19: FutureWarning: The frame.append method is deprecated and will be removed from pandas in a future version. Use pandas.concat instead.\n",
      "  results = results.append(query_data, ignore_index=True)\n",
      "C:\\Users\\zwei\\AppData\\Local\\Temp\\ipykernel_588\\4248089460.py:19: FutureWarning: The frame.append method is deprecated and will be removed from pandas in a future version. Use pandas.concat instead.\n",
      "  results = results.append(query_data, ignore_index=True)\n",
      "C:\\Users\\zwei\\AppData\\Local\\Temp\\ipykernel_588\\4248089460.py:19: FutureWarning: The frame.append method is deprecated and will be removed from pandas in a future version. Use pandas.concat instead.\n",
      "  results = results.append(query_data, ignore_index=True)\n",
      "C:\\Users\\zwei\\AppData\\Local\\Temp\\ipykernel_588\\4248089460.py:19: FutureWarning: The frame.append method is deprecated and will be removed from pandas in a future version. Use pandas.concat instead.\n",
      "  results = results.append(query_data, ignore_index=True)\n",
      "C:\\Users\\zwei\\AppData\\Local\\Temp\\ipykernel_588\\4248089460.py:19: FutureWarning: The frame.append method is deprecated and will be removed from pandas in a future version. Use pandas.concat instead.\n",
      "  results = results.append(query_data, ignore_index=True)\n",
      "C:\\Users\\zwei\\AppData\\Local\\Temp\\ipykernel_588\\4248089460.py:19: FutureWarning: The frame.append method is deprecated and will be removed from pandas in a future version. Use pandas.concat instead.\n",
      "  results = results.append(query_data, ignore_index=True)\n",
      "C:\\Users\\zwei\\AppData\\Local\\Temp\\ipykernel_588\\4248089460.py:19: FutureWarning: The frame.append method is deprecated and will be removed from pandas in a future version. Use pandas.concat instead.\n",
      "  results = results.append(query_data, ignore_index=True)\n",
      "C:\\Users\\zwei\\AppData\\Local\\Temp\\ipykernel_588\\4248089460.py:19: FutureWarning: The frame.append method is deprecated and will be removed from pandas in a future version. Use pandas.concat instead.\n",
      "  results = results.append(query_data, ignore_index=True)\n",
      "C:\\Users\\zwei\\AppData\\Local\\Temp\\ipykernel_588\\4248089460.py:19: FutureWarning: The frame.append method is deprecated and will be removed from pandas in a future version. Use pandas.concat instead.\n",
      "  results = results.append(query_data, ignore_index=True)\n",
      "C:\\Users\\zwei\\AppData\\Local\\Temp\\ipykernel_588\\4248089460.py:19: FutureWarning: The frame.append method is deprecated and will be removed from pandas in a future version. Use pandas.concat instead.\n",
      "  results = results.append(query_data, ignore_index=True)\n",
      "C:\\Users\\zwei\\AppData\\Local\\Temp\\ipykernel_588\\4248089460.py:19: FutureWarning: The frame.append method is deprecated and will be removed from pandas in a future version. Use pandas.concat instead.\n",
      "  results = results.append(query_data, ignore_index=True)\n",
      "C:\\Users\\zwei\\AppData\\Local\\Temp\\ipykernel_588\\4248089460.py:19: FutureWarning: The frame.append method is deprecated and will be removed from pandas in a future version. Use pandas.concat instead.\n",
      "  results = results.append(query_data, ignore_index=True)\n"
     ]
    },
    {
     "name": "stdout",
     "output_type": "stream",
     "text": [
      "An error occurred: 'NoneType' object does not support item assignment\n"
     ]
    },
    {
     "name": "stderr",
     "output_type": "stream",
     "text": [
      "C:\\Users\\zwei\\AppData\\Local\\Temp\\ipykernel_588\\4248089460.py:19: FutureWarning: The frame.append method is deprecated and will be removed from pandas in a future version. Use pandas.concat instead.\n",
      "  results = results.append(query_data, ignore_index=True)\n",
      "C:\\Users\\zwei\\AppData\\Local\\Temp\\ipykernel_588\\4248089460.py:19: FutureWarning: The frame.append method is deprecated and will be removed from pandas in a future version. Use pandas.concat instead.\n",
      "  results = results.append(query_data, ignore_index=True)\n",
      "C:\\Users\\zwei\\AppData\\Local\\Temp\\ipykernel_588\\4248089460.py:19: FutureWarning: The frame.append method is deprecated and will be removed from pandas in a future version. Use pandas.concat instead.\n",
      "  results = results.append(query_data, ignore_index=True)\n",
      "C:\\Users\\zwei\\AppData\\Local\\Temp\\ipykernel_588\\4248089460.py:19: FutureWarning: The frame.append method is deprecated and will be removed from pandas in a future version. Use pandas.concat instead.\n",
      "  results = results.append(query_data, ignore_index=True)\n",
      "C:\\Users\\zwei\\AppData\\Local\\Temp\\ipykernel_588\\4248089460.py:19: FutureWarning: The frame.append method is deprecated and will be removed from pandas in a future version. Use pandas.concat instead.\n",
      "  results = results.append(query_data, ignore_index=True)\n"
     ]
    },
    {
     "name": "stdout",
     "output_type": "stream",
     "text": [
      "An error occurred: 'NoneType' object does not support item assignment\n"
     ]
    },
    {
     "name": "stderr",
     "output_type": "stream",
     "text": [
      "C:\\Users\\zwei\\AppData\\Local\\Temp\\ipykernel_588\\4248089460.py:19: FutureWarning: The frame.append method is deprecated and will be removed from pandas in a future version. Use pandas.concat instead.\n",
      "  results = results.append(query_data, ignore_index=True)\n",
      "C:\\Users\\zwei\\AppData\\Local\\Temp\\ipykernel_588\\4248089460.py:19: FutureWarning: The frame.append method is deprecated and will be removed from pandas in a future version. Use pandas.concat instead.\n",
      "  results = results.append(query_data, ignore_index=True)\n",
      "C:\\Users\\zwei\\AppData\\Local\\Temp\\ipykernel_588\\4248089460.py:19: FutureWarning: The frame.append method is deprecated and will be removed from pandas in a future version. Use pandas.concat instead.\n",
      "  results = results.append(query_data, ignore_index=True)\n",
      "C:\\Users\\zwei\\AppData\\Local\\Temp\\ipykernel_588\\4248089460.py:19: FutureWarning: The frame.append method is deprecated and will be removed from pandas in a future version. Use pandas.concat instead.\n",
      "  results = results.append(query_data, ignore_index=True)\n",
      "C:\\Users\\zwei\\AppData\\Local\\Temp\\ipykernel_588\\4248089460.py:19: FutureWarning: The frame.append method is deprecated and will be removed from pandas in a future version. Use pandas.concat instead.\n",
      "  results = results.append(query_data, ignore_index=True)\n",
      "C:\\Users\\zwei\\AppData\\Local\\Temp\\ipykernel_588\\4248089460.py:19: FutureWarning: The frame.append method is deprecated and will be removed from pandas in a future version. Use pandas.concat instead.\n",
      "  results = results.append(query_data, ignore_index=True)\n",
      "C:\\Users\\zwei\\AppData\\Local\\Temp\\ipykernel_588\\4248089460.py:19: FutureWarning: The frame.append method is deprecated and will be removed from pandas in a future version. Use pandas.concat instead.\n",
      "  results = results.append(query_data, ignore_index=True)\n",
      "C:\\Users\\zwei\\AppData\\Local\\Temp\\ipykernel_588\\4248089460.py:19: FutureWarning: The frame.append method is deprecated and will be removed from pandas in a future version. Use pandas.concat instead.\n",
      "  results = results.append(query_data, ignore_index=True)\n",
      "C:\\Users\\zwei\\AppData\\Local\\Temp\\ipykernel_588\\4248089460.py:19: FutureWarning: The frame.append method is deprecated and will be removed from pandas in a future version. Use pandas.concat instead.\n",
      "  results = results.append(query_data, ignore_index=True)\n"
     ]
    },
    {
     "name": "stdout",
     "output_type": "stream",
     "text": [
      "An error occurred: 'NoneType' object does not support item assignment\n"
     ]
    },
    {
     "name": "stderr",
     "output_type": "stream",
     "text": [
      "C:\\Users\\zwei\\AppData\\Local\\Temp\\ipykernel_588\\4248089460.py:19: FutureWarning: The frame.append method is deprecated and will be removed from pandas in a future version. Use pandas.concat instead.\n",
      "  results = results.append(query_data, ignore_index=True)\n",
      "C:\\Users\\zwei\\AppData\\Local\\Temp\\ipykernel_588\\4248089460.py:19: FutureWarning: The frame.append method is deprecated and will be removed from pandas in a future version. Use pandas.concat instead.\n",
      "  results = results.append(query_data, ignore_index=True)\n",
      "C:\\Users\\zwei\\AppData\\Local\\Temp\\ipykernel_588\\4248089460.py:19: FutureWarning: The frame.append method is deprecated and will be removed from pandas in a future version. Use pandas.concat instead.\n",
      "  results = results.append(query_data, ignore_index=True)\n",
      "C:\\Users\\zwei\\AppData\\Local\\Temp\\ipykernel_588\\4248089460.py:19: FutureWarning: The frame.append method is deprecated and will be removed from pandas in a future version. Use pandas.concat instead.\n",
      "  results = results.append(query_data, ignore_index=True)\n",
      "C:\\Users\\zwei\\AppData\\Local\\Temp\\ipykernel_588\\4248089460.py:19: FutureWarning: The frame.append method is deprecated and will be removed from pandas in a future version. Use pandas.concat instead.\n",
      "  results = results.append(query_data, ignore_index=True)\n",
      "C:\\Users\\zwei\\AppData\\Local\\Temp\\ipykernel_588\\4248089460.py:19: FutureWarning: The frame.append method is deprecated and will be removed from pandas in a future version. Use pandas.concat instead.\n",
      "  results = results.append(query_data, ignore_index=True)\n",
      "C:\\Users\\zwei\\AppData\\Local\\Temp\\ipykernel_588\\4248089460.py:19: FutureWarning: The frame.append method is deprecated and will be removed from pandas in a future version. Use pandas.concat instead.\n",
      "  results = results.append(query_data, ignore_index=True)\n",
      "C:\\Users\\zwei\\AppData\\Local\\Temp\\ipykernel_588\\4248089460.py:19: FutureWarning: The frame.append method is deprecated and will be removed from pandas in a future version. Use pandas.concat instead.\n",
      "  results = results.append(query_data, ignore_index=True)\n",
      "C:\\Users\\zwei\\AppData\\Local\\Temp\\ipykernel_588\\4248089460.py:19: FutureWarning: The frame.append method is deprecated and will be removed from pandas in a future version. Use pandas.concat instead.\n",
      "  results = results.append(query_data, ignore_index=True)\n"
     ]
    },
    {
     "name": "stdout",
     "output_type": "stream",
     "text": [
      "An error occurred: 'NoneType' object does not support item assignment\n"
     ]
    },
    {
     "name": "stderr",
     "output_type": "stream",
     "text": [
      "C:\\Users\\zwei\\AppData\\Local\\Temp\\ipykernel_588\\4248089460.py:19: FutureWarning: The frame.append method is deprecated and will be removed from pandas in a future version. Use pandas.concat instead.\n",
      "  results = results.append(query_data, ignore_index=True)\n",
      "C:\\Users\\zwei\\AppData\\Local\\Temp\\ipykernel_588\\4248089460.py:19: FutureWarning: The frame.append method is deprecated and will be removed from pandas in a future version. Use pandas.concat instead.\n",
      "  results = results.append(query_data, ignore_index=True)\n",
      "C:\\Users\\zwei\\AppData\\Local\\Temp\\ipykernel_588\\4248089460.py:19: FutureWarning: The frame.append method is deprecated and will be removed from pandas in a future version. Use pandas.concat instead.\n",
      "  results = results.append(query_data, ignore_index=True)\n"
     ]
    },
    {
     "name": "stdout",
     "output_type": "stream",
     "text": [
      "An error occurred: 'NoneType' object does not support item assignment\n"
     ]
    },
    {
     "name": "stderr",
     "output_type": "stream",
     "text": [
      "C:\\Users\\zwei\\AppData\\Local\\Temp\\ipykernel_588\\4248089460.py:19: FutureWarning: The frame.append method is deprecated and will be removed from pandas in a future version. Use pandas.concat instead.\n",
      "  results = results.append(query_data, ignore_index=True)\n",
      "C:\\Users\\zwei\\AppData\\Local\\Temp\\ipykernel_588\\4248089460.py:19: FutureWarning: The frame.append method is deprecated and will be removed from pandas in a future version. Use pandas.concat instead.\n",
      "  results = results.append(query_data, ignore_index=True)\n",
      "C:\\Users\\zwei\\AppData\\Local\\Temp\\ipykernel_588\\4248089460.py:19: FutureWarning: The frame.append method is deprecated and will be removed from pandas in a future version. Use pandas.concat instead.\n",
      "  results = results.append(query_data, ignore_index=True)\n",
      "C:\\Users\\zwei\\AppData\\Local\\Temp\\ipykernel_588\\4248089460.py:19: FutureWarning: The frame.append method is deprecated and will be removed from pandas in a future version. Use pandas.concat instead.\n",
      "  results = results.append(query_data, ignore_index=True)\n",
      "C:\\Users\\zwei\\AppData\\Local\\Temp\\ipykernel_588\\4248089460.py:19: FutureWarning: The frame.append method is deprecated and will be removed from pandas in a future version. Use pandas.concat instead.\n",
      "  results = results.append(query_data, ignore_index=True)\n",
      "C:\\Users\\zwei\\AppData\\Local\\Temp\\ipykernel_588\\4248089460.py:19: FutureWarning: The frame.append method is deprecated and will be removed from pandas in a future version. Use pandas.concat instead.\n",
      "  results = results.append(query_data, ignore_index=True)\n",
      "C:\\Users\\zwei\\AppData\\Local\\Temp\\ipykernel_588\\4248089460.py:19: FutureWarning: The frame.append method is deprecated and will be removed from pandas in a future version. Use pandas.concat instead.\n",
      "  results = results.append(query_data, ignore_index=True)\n",
      "C:\\Users\\zwei\\AppData\\Local\\Temp\\ipykernel_588\\4248089460.py:19: FutureWarning: The frame.append method is deprecated and will be removed from pandas in a future version. Use pandas.concat instead.\n",
      "  results = results.append(query_data, ignore_index=True)\n",
      "C:\\Users\\zwei\\AppData\\Local\\Temp\\ipykernel_588\\4248089460.py:19: FutureWarning: The frame.append method is deprecated and will be removed from pandas in a future version. Use pandas.concat instead.\n",
      "  results = results.append(query_data, ignore_index=True)\n",
      "C:\\Users\\zwei\\AppData\\Local\\Temp\\ipykernel_588\\4248089460.py:19: FutureWarning: The frame.append method is deprecated and will be removed from pandas in a future version. Use pandas.concat instead.\n",
      "  results = results.append(query_data, ignore_index=True)\n",
      "C:\\Users\\zwei\\AppData\\Local\\Temp\\ipykernel_588\\4248089460.py:19: FutureWarning: The frame.append method is deprecated and will be removed from pandas in a future version. Use pandas.concat instead.\n",
      "  results = results.append(query_data, ignore_index=True)\n",
      "C:\\Users\\zwei\\AppData\\Local\\Temp\\ipykernel_588\\4248089460.py:19: FutureWarning: The frame.append method is deprecated and will be removed from pandas in a future version. Use pandas.concat instead.\n",
      "  results = results.append(query_data, ignore_index=True)\n",
      "C:\\Users\\zwei\\AppData\\Local\\Temp\\ipykernel_588\\4248089460.py:19: FutureWarning: The frame.append method is deprecated and will be removed from pandas in a future version. Use pandas.concat instead.\n",
      "  results = results.append(query_data, ignore_index=True)\n",
      "C:\\Users\\zwei\\AppData\\Local\\Temp\\ipykernel_588\\4248089460.py:19: FutureWarning: The frame.append method is deprecated and will be removed from pandas in a future version. Use pandas.concat instead.\n",
      "  results = results.append(query_data, ignore_index=True)\n",
      "C:\\Users\\zwei\\AppData\\Local\\Temp\\ipykernel_588\\4248089460.py:19: FutureWarning: The frame.append method is deprecated and will be removed from pandas in a future version. Use pandas.concat instead.\n",
      "  results = results.append(query_data, ignore_index=True)\n",
      "C:\\Users\\zwei\\AppData\\Local\\Temp\\ipykernel_588\\4248089460.py:19: FutureWarning: The frame.append method is deprecated and will be removed from pandas in a future version. Use pandas.concat instead.\n",
      "  results = results.append(query_data, ignore_index=True)\n",
      "C:\\Users\\zwei\\AppData\\Local\\Temp\\ipykernel_588\\4248089460.py:19: FutureWarning: The frame.append method is deprecated and will be removed from pandas in a future version. Use pandas.concat instead.\n",
      "  results = results.append(query_data, ignore_index=True)\n"
     ]
    },
    {
     "name": "stdout",
     "output_type": "stream",
     "text": [
      "An error occurred: 'NoneType' object does not support item assignment\n"
     ]
    },
    {
     "name": "stderr",
     "output_type": "stream",
     "text": [
      "C:\\Users\\zwei\\AppData\\Local\\Temp\\ipykernel_588\\4248089460.py:19: FutureWarning: The frame.append method is deprecated and will be removed from pandas in a future version. Use pandas.concat instead.\n",
      "  results = results.append(query_data, ignore_index=True)\n",
      "C:\\Users\\zwei\\AppData\\Local\\Temp\\ipykernel_588\\4248089460.py:19: FutureWarning: The frame.append method is deprecated and will be removed from pandas in a future version. Use pandas.concat instead.\n",
      "  results = results.append(query_data, ignore_index=True)\n",
      "C:\\Users\\zwei\\AppData\\Local\\Temp\\ipykernel_588\\4248089460.py:19: FutureWarning: The frame.append method is deprecated and will be removed from pandas in a future version. Use pandas.concat instead.\n",
      "  results = results.append(query_data, ignore_index=True)\n",
      "C:\\Users\\zwei\\AppData\\Local\\Temp\\ipykernel_588\\4248089460.py:19: FutureWarning: The frame.append method is deprecated and will be removed from pandas in a future version. Use pandas.concat instead.\n",
      "  results = results.append(query_data, ignore_index=True)\n",
      "C:\\Users\\zwei\\AppData\\Local\\Temp\\ipykernel_588\\4248089460.py:19: FutureWarning: The frame.append method is deprecated and will be removed from pandas in a future version. Use pandas.concat instead.\n",
      "  results = results.append(query_data, ignore_index=True)\n",
      "C:\\Users\\zwei\\AppData\\Local\\Temp\\ipykernel_588\\4248089460.py:19: FutureWarning: The frame.append method is deprecated and will be removed from pandas in a future version. Use pandas.concat instead.\n",
      "  results = results.append(query_data, ignore_index=True)\n",
      "C:\\Users\\zwei\\AppData\\Local\\Temp\\ipykernel_588\\4248089460.py:19: FutureWarning: The frame.append method is deprecated and will be removed from pandas in a future version. Use pandas.concat instead.\n",
      "  results = results.append(query_data, ignore_index=True)\n",
      "C:\\Users\\zwei\\AppData\\Local\\Temp\\ipykernel_588\\4248089460.py:19: FutureWarning: The frame.append method is deprecated and will be removed from pandas in a future version. Use pandas.concat instead.\n",
      "  results = results.append(query_data, ignore_index=True)\n",
      "C:\\Users\\zwei\\AppData\\Local\\Temp\\ipykernel_588\\4248089460.py:19: FutureWarning: The frame.append method is deprecated and will be removed from pandas in a future version. Use pandas.concat instead.\n",
      "  results = results.append(query_data, ignore_index=True)\n",
      "C:\\Users\\zwei\\AppData\\Local\\Temp\\ipykernel_588\\4248089460.py:19: FutureWarning: The frame.append method is deprecated and will be removed from pandas in a future version. Use pandas.concat instead.\n",
      "  results = results.append(query_data, ignore_index=True)\n",
      "C:\\Users\\zwei\\AppData\\Local\\Temp\\ipykernel_588\\4248089460.py:19: FutureWarning: The frame.append method is deprecated and will be removed from pandas in a future version. Use pandas.concat instead.\n",
      "  results = results.append(query_data, ignore_index=True)\n",
      "C:\\Users\\zwei\\AppData\\Local\\Temp\\ipykernel_588\\4248089460.py:19: FutureWarning: The frame.append method is deprecated and will be removed from pandas in a future version. Use pandas.concat instead.\n",
      "  results = results.append(query_data, ignore_index=True)\n",
      "C:\\Users\\zwei\\AppData\\Local\\Temp\\ipykernel_588\\4248089460.py:19: FutureWarning: The frame.append method is deprecated and will be removed from pandas in a future version. Use pandas.concat instead.\n",
      "  results = results.append(query_data, ignore_index=True)\n",
      "C:\\Users\\zwei\\AppData\\Local\\Temp\\ipykernel_588\\4248089460.py:19: FutureWarning: The frame.append method is deprecated and will be removed from pandas in a future version. Use pandas.concat instead.\n",
      "  results = results.append(query_data, ignore_index=True)\n",
      "C:\\Users\\zwei\\AppData\\Local\\Temp\\ipykernel_588\\4248089460.py:19: FutureWarning: The frame.append method is deprecated and will be removed from pandas in a future version. Use pandas.concat instead.\n",
      "  results = results.append(query_data, ignore_index=True)\n"
     ]
    },
    {
     "name": "stdout",
     "output_type": "stream",
     "text": [
      "An error occurred: 'NoneType' object does not support item assignment\n"
     ]
    },
    {
     "name": "stderr",
     "output_type": "stream",
     "text": [
      "C:\\Users\\zwei\\AppData\\Local\\Temp\\ipykernel_588\\4248089460.py:19: FutureWarning: The frame.append method is deprecated and will be removed from pandas in a future version. Use pandas.concat instead.\n",
      "  results = results.append(query_data, ignore_index=True)\n",
      "C:\\Users\\zwei\\AppData\\Local\\Temp\\ipykernel_588\\4248089460.py:19: FutureWarning: The frame.append method is deprecated and will be removed from pandas in a future version. Use pandas.concat instead.\n",
      "  results = results.append(query_data, ignore_index=True)\n",
      "C:\\Users\\zwei\\AppData\\Local\\Temp\\ipykernel_588\\4248089460.py:19: FutureWarning: The frame.append method is deprecated and will be removed from pandas in a future version. Use pandas.concat instead.\n",
      "  results = results.append(query_data, ignore_index=True)\n",
      "C:\\Users\\zwei\\AppData\\Local\\Temp\\ipykernel_588\\4248089460.py:19: FutureWarning: The frame.append method is deprecated and will be removed from pandas in a future version. Use pandas.concat instead.\n",
      "  results = results.append(query_data, ignore_index=True)\n",
      "C:\\Users\\zwei\\AppData\\Local\\Temp\\ipykernel_588\\4248089460.py:19: FutureWarning: The frame.append method is deprecated and will be removed from pandas in a future version. Use pandas.concat instead.\n",
      "  results = results.append(query_data, ignore_index=True)\n",
      "C:\\Users\\zwei\\AppData\\Local\\Temp\\ipykernel_588\\4248089460.py:19: FutureWarning: The frame.append method is deprecated and will be removed from pandas in a future version. Use pandas.concat instead.\n",
      "  results = results.append(query_data, ignore_index=True)\n",
      "C:\\Users\\zwei\\AppData\\Local\\Temp\\ipykernel_588\\4248089460.py:19: FutureWarning: The frame.append method is deprecated and will be removed from pandas in a future version. Use pandas.concat instead.\n",
      "  results = results.append(query_data, ignore_index=True)\n",
      "C:\\Users\\zwei\\AppData\\Local\\Temp\\ipykernel_588\\4248089460.py:19: FutureWarning: The frame.append method is deprecated and will be removed from pandas in a future version. Use pandas.concat instead.\n",
      "  results = results.append(query_data, ignore_index=True)\n",
      "C:\\Users\\zwei\\AppData\\Local\\Temp\\ipykernel_588\\4248089460.py:19: FutureWarning: The frame.append method is deprecated and will be removed from pandas in a future version. Use pandas.concat instead.\n",
      "  results = results.append(query_data, ignore_index=True)\n",
      "C:\\Users\\zwei\\AppData\\Local\\Temp\\ipykernel_588\\4248089460.py:19: FutureWarning: The frame.append method is deprecated and will be removed from pandas in a future version. Use pandas.concat instead.\n",
      "  results = results.append(query_data, ignore_index=True)\n",
      "C:\\Users\\zwei\\AppData\\Local\\Temp\\ipykernel_588\\4248089460.py:19: FutureWarning: The frame.append method is deprecated and will be removed from pandas in a future version. Use pandas.concat instead.\n",
      "  results = results.append(query_data, ignore_index=True)\n",
      "C:\\Users\\zwei\\AppData\\Local\\Temp\\ipykernel_588\\4248089460.py:19: FutureWarning: The frame.append method is deprecated and will be removed from pandas in a future version. Use pandas.concat instead.\n",
      "  results = results.append(query_data, ignore_index=True)\n",
      "C:\\Users\\zwei\\AppData\\Local\\Temp\\ipykernel_588\\4248089460.py:19: FutureWarning: The frame.append method is deprecated and will be removed from pandas in a future version. Use pandas.concat instead.\n",
      "  results = results.append(query_data, ignore_index=True)\n",
      "C:\\Users\\zwei\\AppData\\Local\\Temp\\ipykernel_588\\4248089460.py:19: FutureWarning: The frame.append method is deprecated and will be removed from pandas in a future version. Use pandas.concat instead.\n",
      "  results = results.append(query_data, ignore_index=True)\n",
      "C:\\Users\\zwei\\AppData\\Local\\Temp\\ipykernel_588\\4248089460.py:19: FutureWarning: The frame.append method is deprecated and will be removed from pandas in a future version. Use pandas.concat instead.\n",
      "  results = results.append(query_data, ignore_index=True)\n",
      "C:\\Users\\zwei\\AppData\\Local\\Temp\\ipykernel_588\\4248089460.py:19: FutureWarning: The frame.append method is deprecated and will be removed from pandas in a future version. Use pandas.concat instead.\n",
      "  results = results.append(query_data, ignore_index=True)\n",
      "C:\\Users\\zwei\\AppData\\Local\\Temp\\ipykernel_588\\4248089460.py:19: FutureWarning: The frame.append method is deprecated and will be removed from pandas in a future version. Use pandas.concat instead.\n",
      "  results = results.append(query_data, ignore_index=True)\n",
      "C:\\Users\\zwei\\AppData\\Local\\Temp\\ipykernel_588\\4248089460.py:19: FutureWarning: The frame.append method is deprecated and will be removed from pandas in a future version. Use pandas.concat instead.\n",
      "  results = results.append(query_data, ignore_index=True)\n",
      "C:\\Users\\zwei\\AppData\\Local\\Temp\\ipykernel_588\\4248089460.py:19: FutureWarning: The frame.append method is deprecated and will be removed from pandas in a future version. Use pandas.concat instead.\n",
      "  results = results.append(query_data, ignore_index=True)\n",
      "C:\\Users\\zwei\\AppData\\Local\\Temp\\ipykernel_588\\4248089460.py:19: FutureWarning: The frame.append method is deprecated and will be removed from pandas in a future version. Use pandas.concat instead.\n",
      "  results = results.append(query_data, ignore_index=True)\n",
      "C:\\Users\\zwei\\AppData\\Local\\Temp\\ipykernel_588\\4248089460.py:19: FutureWarning: The frame.append method is deprecated and will be removed from pandas in a future version. Use pandas.concat instead.\n",
      "  results = results.append(query_data, ignore_index=True)\n",
      "C:\\Users\\zwei\\AppData\\Local\\Temp\\ipykernel_588\\4248089460.py:19: FutureWarning: The frame.append method is deprecated and will be removed from pandas in a future version. Use pandas.concat instead.\n",
      "  results = results.append(query_data, ignore_index=True)\n",
      "C:\\Users\\zwei\\AppData\\Local\\Temp\\ipykernel_588\\4248089460.py:19: FutureWarning: The frame.append method is deprecated and will be removed from pandas in a future version. Use pandas.concat instead.\n",
      "  results = results.append(query_data, ignore_index=True)\n",
      "C:\\Users\\zwei\\AppData\\Local\\Temp\\ipykernel_588\\4248089460.py:19: FutureWarning: The frame.append method is deprecated and will be removed from pandas in a future version. Use pandas.concat instead.\n",
      "  results = results.append(query_data, ignore_index=True)\n",
      "C:\\Users\\zwei\\AppData\\Local\\Temp\\ipykernel_588\\4248089460.py:19: FutureWarning: The frame.append method is deprecated and will be removed from pandas in a future version. Use pandas.concat instead.\n",
      "  results = results.append(query_data, ignore_index=True)\n",
      "C:\\Users\\zwei\\AppData\\Local\\Temp\\ipykernel_588\\4248089460.py:19: FutureWarning: The frame.append method is deprecated and will be removed from pandas in a future version. Use pandas.concat instead.\n",
      "  results = results.append(query_data, ignore_index=True)\n",
      "C:\\Users\\zwei\\AppData\\Local\\Temp\\ipykernel_588\\4248089460.py:19: FutureWarning: The frame.append method is deprecated and will be removed from pandas in a future version. Use pandas.concat instead.\n",
      "  results = results.append(query_data, ignore_index=True)\n",
      "C:\\Users\\zwei\\AppData\\Local\\Temp\\ipykernel_588\\4248089460.py:19: FutureWarning: The frame.append method is deprecated and will be removed from pandas in a future version. Use pandas.concat instead.\n",
      "  results = results.append(query_data, ignore_index=True)\n",
      "C:\\Users\\zwei\\AppData\\Local\\Temp\\ipykernel_588\\4248089460.py:19: FutureWarning: The frame.append method is deprecated and will be removed from pandas in a future version. Use pandas.concat instead.\n",
      "  results = results.append(query_data, ignore_index=True)\n",
      "C:\\Users\\zwei\\AppData\\Local\\Temp\\ipykernel_588\\4248089460.py:19: FutureWarning: The frame.append method is deprecated and will be removed from pandas in a future version. Use pandas.concat instead.\n",
      "  results = results.append(query_data, ignore_index=True)\n",
      "C:\\Users\\zwei\\AppData\\Local\\Temp\\ipykernel_588\\4248089460.py:19: FutureWarning: The frame.append method is deprecated and will be removed from pandas in a future version. Use pandas.concat instead.\n",
      "  results = results.append(query_data, ignore_index=True)\n",
      "C:\\Users\\zwei\\AppData\\Local\\Temp\\ipykernel_588\\4248089460.py:19: FutureWarning: The frame.append method is deprecated and will be removed from pandas in a future version. Use pandas.concat instead.\n",
      "  results = results.append(query_data, ignore_index=True)\n",
      "C:\\Users\\zwei\\AppData\\Local\\Temp\\ipykernel_588\\4248089460.py:19: FutureWarning: The frame.append method is deprecated and will be removed from pandas in a future version. Use pandas.concat instead.\n",
      "  results = results.append(query_data, ignore_index=True)\n",
      "C:\\Users\\zwei\\AppData\\Local\\Temp\\ipykernel_588\\4248089460.py:19: FutureWarning: The frame.append method is deprecated and will be removed from pandas in a future version. Use pandas.concat instead.\n",
      "  results = results.append(query_data, ignore_index=True)\n"
     ]
    },
    {
     "name": "stderr",
     "output_type": "stream",
     "text": [
      "C:\\Users\\zwei\\AppData\\Local\\Temp\\ipykernel_588\\4248089460.py:19: FutureWarning: The frame.append method is deprecated and will be removed from pandas in a future version. Use pandas.concat instead.\n",
      "  results = results.append(query_data, ignore_index=True)\n",
      "C:\\Users\\zwei\\AppData\\Local\\Temp\\ipykernel_588\\4248089460.py:19: FutureWarning: The frame.append method is deprecated and will be removed from pandas in a future version. Use pandas.concat instead.\n",
      "  results = results.append(query_data, ignore_index=True)\n",
      "C:\\Users\\zwei\\AppData\\Local\\Temp\\ipykernel_588\\4248089460.py:19: FutureWarning: The frame.append method is deprecated and will be removed from pandas in a future version. Use pandas.concat instead.\n",
      "  results = results.append(query_data, ignore_index=True)\n",
      "C:\\Users\\zwei\\AppData\\Local\\Temp\\ipykernel_588\\4248089460.py:19: FutureWarning: The frame.append method is deprecated and will be removed from pandas in a future version. Use pandas.concat instead.\n",
      "  results = results.append(query_data, ignore_index=True)\n",
      "C:\\Users\\zwei\\AppData\\Local\\Temp\\ipykernel_588\\4248089460.py:19: FutureWarning: The frame.append method is deprecated and will be removed from pandas in a future version. Use pandas.concat instead.\n",
      "  results = results.append(query_data, ignore_index=True)\n",
      "C:\\Users\\zwei\\AppData\\Local\\Temp\\ipykernel_588\\4248089460.py:19: FutureWarning: The frame.append method is deprecated and will be removed from pandas in a future version. Use pandas.concat instead.\n",
      "  results = results.append(query_data, ignore_index=True)\n",
      "C:\\Users\\zwei\\AppData\\Local\\Temp\\ipykernel_588\\4248089460.py:19: FutureWarning: The frame.append method is deprecated and will be removed from pandas in a future version. Use pandas.concat instead.\n",
      "  results = results.append(query_data, ignore_index=True)\n",
      "C:\\Users\\zwei\\AppData\\Local\\Temp\\ipykernel_588\\4248089460.py:19: FutureWarning: The frame.append method is deprecated and will be removed from pandas in a future version. Use pandas.concat instead.\n",
      "  results = results.append(query_data, ignore_index=True)\n",
      "C:\\Users\\zwei\\AppData\\Local\\Temp\\ipykernel_588\\4248089460.py:19: FutureWarning: The frame.append method is deprecated and will be removed from pandas in a future version. Use pandas.concat instead.\n",
      "  results = results.append(query_data, ignore_index=True)\n",
      "C:\\Users\\zwei\\AppData\\Local\\Temp\\ipykernel_588\\4248089460.py:19: FutureWarning: The frame.append method is deprecated and will be removed from pandas in a future version. Use pandas.concat instead.\n",
      "  results = results.append(query_data, ignore_index=True)\n",
      "C:\\Users\\zwei\\AppData\\Local\\Temp\\ipykernel_588\\4248089460.py:19: FutureWarning: The frame.append method is deprecated and will be removed from pandas in a future version. Use pandas.concat instead.\n",
      "  results = results.append(query_data, ignore_index=True)\n",
      "C:\\Users\\zwei\\AppData\\Local\\Temp\\ipykernel_588\\4248089460.py:19: FutureWarning: The frame.append method is deprecated and will be removed from pandas in a future version. Use pandas.concat instead.\n",
      "  results = results.append(query_data, ignore_index=True)\n",
      "C:\\Users\\zwei\\AppData\\Local\\Temp\\ipykernel_588\\4248089460.py:19: FutureWarning: The frame.append method is deprecated and will be removed from pandas in a future version. Use pandas.concat instead.\n",
      "  results = results.append(query_data, ignore_index=True)\n",
      "C:\\Users\\zwei\\AppData\\Local\\Temp\\ipykernel_588\\4248089460.py:19: FutureWarning: The frame.append method is deprecated and will be removed from pandas in a future version. Use pandas.concat instead.\n",
      "  results = results.append(query_data, ignore_index=True)\n",
      "C:\\Users\\zwei\\AppData\\Local\\Temp\\ipykernel_588\\4248089460.py:19: FutureWarning: The frame.append method is deprecated and will be removed from pandas in a future version. Use pandas.concat instead.\n",
      "  results = results.append(query_data, ignore_index=True)\n",
      "C:\\Users\\zwei\\AppData\\Local\\Temp\\ipykernel_588\\4248089460.py:19: FutureWarning: The frame.append method is deprecated and will be removed from pandas in a future version. Use pandas.concat instead.\n",
      "  results = results.append(query_data, ignore_index=True)\n",
      "C:\\Users\\zwei\\AppData\\Local\\Temp\\ipykernel_588\\4248089460.py:19: FutureWarning: The frame.append method is deprecated and will be removed from pandas in a future version. Use pandas.concat instead.\n",
      "  results = results.append(query_data, ignore_index=True)\n"
     ]
    },
    {
     "name": "stdout",
     "output_type": "stream",
     "text": [
      "An error occurred: 'NoneType' object does not support item assignment\n"
     ]
    },
    {
     "name": "stderr",
     "output_type": "stream",
     "text": [
      "C:\\Users\\zwei\\AppData\\Local\\Temp\\ipykernel_588\\4248089460.py:19: FutureWarning: The frame.append method is deprecated and will be removed from pandas in a future version. Use pandas.concat instead.\n",
      "  results = results.append(query_data, ignore_index=True)\n",
      "C:\\Users\\zwei\\AppData\\Local\\Temp\\ipykernel_588\\4248089460.py:19: FutureWarning: The frame.append method is deprecated and will be removed from pandas in a future version. Use pandas.concat instead.\n",
      "  results = results.append(query_data, ignore_index=True)\n",
      "C:\\Users\\zwei\\AppData\\Local\\Temp\\ipykernel_588\\4248089460.py:19: FutureWarning: The frame.append method is deprecated and will be removed from pandas in a future version. Use pandas.concat instead.\n",
      "  results = results.append(query_data, ignore_index=True)\n",
      "C:\\Users\\zwei\\AppData\\Local\\Temp\\ipykernel_588\\4248089460.py:19: FutureWarning: The frame.append method is deprecated and will be removed from pandas in a future version. Use pandas.concat instead.\n",
      "  results = results.append(query_data, ignore_index=True)\n",
      "C:\\Users\\zwei\\AppData\\Local\\Temp\\ipykernel_588\\4248089460.py:19: FutureWarning: The frame.append method is deprecated and will be removed from pandas in a future version. Use pandas.concat instead.\n",
      "  results = results.append(query_data, ignore_index=True)\n",
      "C:\\Users\\zwei\\AppData\\Local\\Temp\\ipykernel_588\\4248089460.py:19: FutureWarning: The frame.append method is deprecated and will be removed from pandas in a future version. Use pandas.concat instead.\n",
      "  results = results.append(query_data, ignore_index=True)\n",
      "C:\\Users\\zwei\\AppData\\Local\\Temp\\ipykernel_588\\4248089460.py:19: FutureWarning: The frame.append method is deprecated and will be removed from pandas in a future version. Use pandas.concat instead.\n",
      "  results = results.append(query_data, ignore_index=True)\n",
      "C:\\Users\\zwei\\AppData\\Local\\Temp\\ipykernel_588\\4248089460.py:19: FutureWarning: The frame.append method is deprecated and will be removed from pandas in a future version. Use pandas.concat instead.\n",
      "  results = results.append(query_data, ignore_index=True)\n",
      "C:\\Users\\zwei\\AppData\\Local\\Temp\\ipykernel_588\\4248089460.py:19: FutureWarning: The frame.append method is deprecated and will be removed from pandas in a future version. Use pandas.concat instead.\n",
      "  results = results.append(query_data, ignore_index=True)\n",
      "C:\\Users\\zwei\\AppData\\Local\\Temp\\ipykernel_588\\4248089460.py:19: FutureWarning: The frame.append method is deprecated and will be removed from pandas in a future version. Use pandas.concat instead.\n",
      "  results = results.append(query_data, ignore_index=True)\n",
      "C:\\Users\\zwei\\AppData\\Local\\Temp\\ipykernel_588\\4248089460.py:19: FutureWarning: The frame.append method is deprecated and will be removed from pandas in a future version. Use pandas.concat instead.\n",
      "  results = results.append(query_data, ignore_index=True)\n",
      "C:\\Users\\zwei\\AppData\\Local\\Temp\\ipykernel_588\\4248089460.py:19: FutureWarning: The frame.append method is deprecated and will be removed from pandas in a future version. Use pandas.concat instead.\n",
      "  results = results.append(query_data, ignore_index=True)\n",
      "C:\\Users\\zwei\\AppData\\Local\\Temp\\ipykernel_588\\4248089460.py:19: FutureWarning: The frame.append method is deprecated and will be removed from pandas in a future version. Use pandas.concat instead.\n",
      "  results = results.append(query_data, ignore_index=True)\n"
     ]
    },
    {
     "name": "stdout",
     "output_type": "stream",
     "text": [
      "An error occurred: 'NoneType' object does not support item assignment\n"
     ]
    },
    {
     "name": "stderr",
     "output_type": "stream",
     "text": [
      "C:\\Users\\zwei\\AppData\\Local\\Temp\\ipykernel_588\\4248089460.py:19: FutureWarning: The frame.append method is deprecated and will be removed from pandas in a future version. Use pandas.concat instead.\n",
      "  results = results.append(query_data, ignore_index=True)\n",
      "C:\\Users\\zwei\\AppData\\Local\\Temp\\ipykernel_588\\4248089460.py:19: FutureWarning: The frame.append method is deprecated and will be removed from pandas in a future version. Use pandas.concat instead.\n",
      "  results = results.append(query_data, ignore_index=True)\n",
      "C:\\Users\\zwei\\AppData\\Local\\Temp\\ipykernel_588\\4248089460.py:19: FutureWarning: The frame.append method is deprecated and will be removed from pandas in a future version. Use pandas.concat instead.\n",
      "  results = results.append(query_data, ignore_index=True)\n",
      "C:\\Users\\zwei\\AppData\\Local\\Temp\\ipykernel_588\\4248089460.py:19: FutureWarning: The frame.append method is deprecated and will be removed from pandas in a future version. Use pandas.concat instead.\n",
      "  results = results.append(query_data, ignore_index=True)\n",
      "C:\\Users\\zwei\\AppData\\Local\\Temp\\ipykernel_588\\4248089460.py:19: FutureWarning: The frame.append method is deprecated and will be removed from pandas in a future version. Use pandas.concat instead.\n",
      "  results = results.append(query_data, ignore_index=True)\n",
      "C:\\Users\\zwei\\AppData\\Local\\Temp\\ipykernel_588\\4248089460.py:19: FutureWarning: The frame.append method is deprecated and will be removed from pandas in a future version. Use pandas.concat instead.\n",
      "  results = results.append(query_data, ignore_index=True)\n",
      "C:\\Users\\zwei\\AppData\\Local\\Temp\\ipykernel_588\\4248089460.py:19: FutureWarning: The frame.append method is deprecated and will be removed from pandas in a future version. Use pandas.concat instead.\n",
      "  results = results.append(query_data, ignore_index=True)\n"
     ]
    },
    {
     "name": "stdout",
     "output_type": "stream",
     "text": [
      "An error occurred: 'NoneType' object does not support item assignment\n"
     ]
    },
    {
     "name": "stderr",
     "output_type": "stream",
     "text": [
      "C:\\Users\\zwei\\AppData\\Local\\Temp\\ipykernel_588\\4248089460.py:19: FutureWarning: The frame.append method is deprecated and will be removed from pandas in a future version. Use pandas.concat instead.\n",
      "  results = results.append(query_data, ignore_index=True)\n",
      "C:\\Users\\zwei\\AppData\\Local\\Temp\\ipykernel_588\\4248089460.py:19: FutureWarning: The frame.append method is deprecated and will be removed from pandas in a future version. Use pandas.concat instead.\n",
      "  results = results.append(query_data, ignore_index=True)\n",
      "C:\\Users\\zwei\\AppData\\Local\\Temp\\ipykernel_588\\4248089460.py:19: FutureWarning: The frame.append method is deprecated and will be removed from pandas in a future version. Use pandas.concat instead.\n",
      "  results = results.append(query_data, ignore_index=True)\n",
      "C:\\Users\\zwei\\AppData\\Local\\Temp\\ipykernel_588\\4248089460.py:19: FutureWarning: The frame.append method is deprecated and will be removed from pandas in a future version. Use pandas.concat instead.\n",
      "  results = results.append(query_data, ignore_index=True)\n",
      "C:\\Users\\zwei\\AppData\\Local\\Temp\\ipykernel_588\\4248089460.py:19: FutureWarning: The frame.append method is deprecated and will be removed from pandas in a future version. Use pandas.concat instead.\n",
      "  results = results.append(query_data, ignore_index=True)\n"
     ]
    },
    {
     "name": "stdout",
     "output_type": "stream",
     "text": [
      "An error occurred: 'NoneType' object does not support item assignment\n"
     ]
    },
    {
     "name": "stderr",
     "output_type": "stream",
     "text": [
      "C:\\Users\\zwei\\AppData\\Local\\Temp\\ipykernel_588\\4248089460.py:19: FutureWarning: The frame.append method is deprecated and will be removed from pandas in a future version. Use pandas.concat instead.\n",
      "  results = results.append(query_data, ignore_index=True)\n",
      "C:\\Users\\zwei\\AppData\\Local\\Temp\\ipykernel_588\\4248089460.py:19: FutureWarning: The frame.append method is deprecated and will be removed from pandas in a future version. Use pandas.concat instead.\n",
      "  results = results.append(query_data, ignore_index=True)\n",
      "C:\\Users\\zwei\\AppData\\Local\\Temp\\ipykernel_588\\4248089460.py:19: FutureWarning: The frame.append method is deprecated and will be removed from pandas in a future version. Use pandas.concat instead.\n",
      "  results = results.append(query_data, ignore_index=True)\n",
      "C:\\Users\\zwei\\AppData\\Local\\Temp\\ipykernel_588\\4248089460.py:19: FutureWarning: The frame.append method is deprecated and will be removed from pandas in a future version. Use pandas.concat instead.\n",
      "  results = results.append(query_data, ignore_index=True)\n",
      "C:\\Users\\zwei\\AppData\\Local\\Temp\\ipykernel_588\\4248089460.py:19: FutureWarning: The frame.append method is deprecated and will be removed from pandas in a future version. Use pandas.concat instead.\n",
      "  results = results.append(query_data, ignore_index=True)\n",
      "C:\\Users\\zwei\\AppData\\Local\\Temp\\ipykernel_588\\4248089460.py:19: FutureWarning: The frame.append method is deprecated and will be removed from pandas in a future version. Use pandas.concat instead.\n",
      "  results = results.append(query_data, ignore_index=True)\n",
      "C:\\Users\\zwei\\AppData\\Local\\Temp\\ipykernel_588\\4248089460.py:19: FutureWarning: The frame.append method is deprecated and will be removed from pandas in a future version. Use pandas.concat instead.\n",
      "  results = results.append(query_data, ignore_index=True)\n",
      "C:\\Users\\zwei\\AppData\\Local\\Temp\\ipykernel_588\\4248089460.py:19: FutureWarning: The frame.append method is deprecated and will be removed from pandas in a future version. Use pandas.concat instead.\n",
      "  results = results.append(query_data, ignore_index=True)\n",
      "C:\\Users\\zwei\\AppData\\Local\\Temp\\ipykernel_588\\4248089460.py:19: FutureWarning: The frame.append method is deprecated and will be removed from pandas in a future version. Use pandas.concat instead.\n",
      "  results = results.append(query_data, ignore_index=True)\n",
      "C:\\Users\\zwei\\AppData\\Local\\Temp\\ipykernel_588\\4248089460.py:19: FutureWarning: The frame.append method is deprecated and will be removed from pandas in a future version. Use pandas.concat instead.\n",
      "  results = results.append(query_data, ignore_index=True)\n",
      "C:\\Users\\zwei\\AppData\\Local\\Temp\\ipykernel_588\\4248089460.py:19: FutureWarning: The frame.append method is deprecated and will be removed from pandas in a future version. Use pandas.concat instead.\n",
      "  results = results.append(query_data, ignore_index=True)\n",
      "C:\\Users\\zwei\\AppData\\Local\\Temp\\ipykernel_588\\4248089460.py:19: FutureWarning: The frame.append method is deprecated and will be removed from pandas in a future version. Use pandas.concat instead.\n",
      "  results = results.append(query_data, ignore_index=True)\n",
      "C:\\Users\\zwei\\AppData\\Local\\Temp\\ipykernel_588\\4248089460.py:19: FutureWarning: The frame.append method is deprecated and will be removed from pandas in a future version. Use pandas.concat instead.\n",
      "  results = results.append(query_data, ignore_index=True)\n",
      "C:\\Users\\zwei\\AppData\\Local\\Temp\\ipykernel_588\\4248089460.py:19: FutureWarning: The frame.append method is deprecated and will be removed from pandas in a future version. Use pandas.concat instead.\n",
      "  results = results.append(query_data, ignore_index=True)\n",
      "C:\\Users\\zwei\\AppData\\Local\\Temp\\ipykernel_588\\4248089460.py:19: FutureWarning: The frame.append method is deprecated and will be removed from pandas in a future version. Use pandas.concat instead.\n",
      "  results = results.append(query_data, ignore_index=True)\n",
      "C:\\Users\\zwei\\AppData\\Local\\Temp\\ipykernel_588\\4248089460.py:19: FutureWarning: The frame.append method is deprecated and will be removed from pandas in a future version. Use pandas.concat instead.\n",
      "  results = results.append(query_data, ignore_index=True)\n",
      "C:\\Users\\zwei\\AppData\\Local\\Temp\\ipykernel_588\\4248089460.py:19: FutureWarning: The frame.append method is deprecated and will be removed from pandas in a future version. Use pandas.concat instead.\n",
      "  results = results.append(query_data, ignore_index=True)\n",
      "C:\\Users\\zwei\\AppData\\Local\\Temp\\ipykernel_588\\4248089460.py:19: FutureWarning: The frame.append method is deprecated and will be removed from pandas in a future version. Use pandas.concat instead.\n",
      "  results = results.append(query_data, ignore_index=True)\n",
      "C:\\Users\\zwei\\AppData\\Local\\Temp\\ipykernel_588\\4248089460.py:19: FutureWarning: The frame.append method is deprecated and will be removed from pandas in a future version. Use pandas.concat instead.\n",
      "  results = results.append(query_data, ignore_index=True)\n",
      "C:\\Users\\zwei\\AppData\\Local\\Temp\\ipykernel_588\\4248089460.py:19: FutureWarning: The frame.append method is deprecated and will be removed from pandas in a future version. Use pandas.concat instead.\n",
      "  results = results.append(query_data, ignore_index=True)\n",
      "C:\\Users\\zwei\\AppData\\Local\\Temp\\ipykernel_588\\4248089460.py:19: FutureWarning: The frame.append method is deprecated and will be removed from pandas in a future version. Use pandas.concat instead.\n",
      "  results = results.append(query_data, ignore_index=True)\n",
      "C:\\Users\\zwei\\AppData\\Local\\Temp\\ipykernel_588\\4248089460.py:19: FutureWarning: The frame.append method is deprecated and will be removed from pandas in a future version. Use pandas.concat instead.\n",
      "  results = results.append(query_data, ignore_index=True)\n",
      "C:\\Users\\zwei\\AppData\\Local\\Temp\\ipykernel_588\\4248089460.py:19: FutureWarning: The frame.append method is deprecated and will be removed from pandas in a future version. Use pandas.concat instead.\n",
      "  results = results.append(query_data, ignore_index=True)\n",
      "C:\\Users\\zwei\\AppData\\Local\\Temp\\ipykernel_588\\4248089460.py:19: FutureWarning: The frame.append method is deprecated and will be removed from pandas in a future version. Use pandas.concat instead.\n",
      "  results = results.append(query_data, ignore_index=True)\n",
      "C:\\Users\\zwei\\AppData\\Local\\Temp\\ipykernel_588\\4248089460.py:19: FutureWarning: The frame.append method is deprecated and will be removed from pandas in a future version. Use pandas.concat instead.\n",
      "  results = results.append(query_data, ignore_index=True)\n",
      "C:\\Users\\zwei\\AppData\\Local\\Temp\\ipykernel_588\\4248089460.py:19: FutureWarning: The frame.append method is deprecated and will be removed from pandas in a future version. Use pandas.concat instead.\n",
      "  results = results.append(query_data, ignore_index=True)\n",
      "C:\\Users\\zwei\\AppData\\Local\\Temp\\ipykernel_588\\4248089460.py:19: FutureWarning: The frame.append method is deprecated and will be removed from pandas in a future version. Use pandas.concat instead.\n",
      "  results = results.append(query_data, ignore_index=True)\n",
      "C:\\Users\\zwei\\AppData\\Local\\Temp\\ipykernel_588\\4248089460.py:19: FutureWarning: The frame.append method is deprecated and will be removed from pandas in a future version. Use pandas.concat instead.\n",
      "  results = results.append(query_data, ignore_index=True)\n",
      "C:\\Users\\zwei\\AppData\\Local\\Temp\\ipykernel_588\\4248089460.py:19: FutureWarning: The frame.append method is deprecated and will be removed from pandas in a future version. Use pandas.concat instead.\n",
      "  results = results.append(query_data, ignore_index=True)\n",
      "C:\\Users\\zwei\\AppData\\Local\\Temp\\ipykernel_588\\4248089460.py:19: FutureWarning: The frame.append method is deprecated and will be removed from pandas in a future version. Use pandas.concat instead.\n",
      "  results = results.append(query_data, ignore_index=True)\n",
      "C:\\Users\\zwei\\AppData\\Local\\Temp\\ipykernel_588\\4248089460.py:19: FutureWarning: The frame.append method is deprecated and will be removed from pandas in a future version. Use pandas.concat instead.\n",
      "  results = results.append(query_data, ignore_index=True)\n",
      "C:\\Users\\zwei\\AppData\\Local\\Temp\\ipykernel_588\\4248089460.py:19: FutureWarning: The frame.append method is deprecated and will be removed from pandas in a future version. Use pandas.concat instead.\n",
      "  results = results.append(query_data, ignore_index=True)\n",
      "C:\\Users\\zwei\\AppData\\Local\\Temp\\ipykernel_588\\4248089460.py:19: FutureWarning: The frame.append method is deprecated and will be removed from pandas in a future version. Use pandas.concat instead.\n",
      "  results = results.append(query_data, ignore_index=True)\n",
      "C:\\Users\\zwei\\AppData\\Local\\Temp\\ipykernel_588\\4248089460.py:19: FutureWarning: The frame.append method is deprecated and will be removed from pandas in a future version. Use pandas.concat instead.\n",
      "  results = results.append(query_data, ignore_index=True)\n"
     ]
    },
    {
     "name": "stderr",
     "output_type": "stream",
     "text": [
      "C:\\Users\\zwei\\AppData\\Local\\Temp\\ipykernel_588\\4248089460.py:19: FutureWarning: The frame.append method is deprecated and will be removed from pandas in a future version. Use pandas.concat instead.\n",
      "  results = results.append(query_data, ignore_index=True)\n",
      "C:\\Users\\zwei\\AppData\\Local\\Temp\\ipykernel_588\\4248089460.py:19: FutureWarning: The frame.append method is deprecated and will be removed from pandas in a future version. Use pandas.concat instead.\n",
      "  results = results.append(query_data, ignore_index=True)\n",
      "C:\\Users\\zwei\\AppData\\Local\\Temp\\ipykernel_588\\4248089460.py:19: FutureWarning: The frame.append method is deprecated and will be removed from pandas in a future version. Use pandas.concat instead.\n",
      "  results = results.append(query_data, ignore_index=True)\n",
      "C:\\Users\\zwei\\AppData\\Local\\Temp\\ipykernel_588\\4248089460.py:19: FutureWarning: The frame.append method is deprecated and will be removed from pandas in a future version. Use pandas.concat instead.\n",
      "  results = results.append(query_data, ignore_index=True)\n",
      "C:\\Users\\zwei\\AppData\\Local\\Temp\\ipykernel_588\\4248089460.py:19: FutureWarning: The frame.append method is deprecated and will be removed from pandas in a future version. Use pandas.concat instead.\n",
      "  results = results.append(query_data, ignore_index=True)\n",
      "C:\\Users\\zwei\\AppData\\Local\\Temp\\ipykernel_588\\4248089460.py:19: FutureWarning: The frame.append method is deprecated and will be removed from pandas in a future version. Use pandas.concat instead.\n",
      "  results = results.append(query_data, ignore_index=True)\n",
      "C:\\Users\\zwei\\AppData\\Local\\Temp\\ipykernel_588\\4248089460.py:19: FutureWarning: The frame.append method is deprecated and will be removed from pandas in a future version. Use pandas.concat instead.\n",
      "  results = results.append(query_data, ignore_index=True)\n",
      "C:\\Users\\zwei\\AppData\\Local\\Temp\\ipykernel_588\\4248089460.py:19: FutureWarning: The frame.append method is deprecated and will be removed from pandas in a future version. Use pandas.concat instead.\n",
      "  results = results.append(query_data, ignore_index=True)\n",
      "C:\\Users\\zwei\\AppData\\Local\\Temp\\ipykernel_588\\4248089460.py:19: FutureWarning: The frame.append method is deprecated and will be removed from pandas in a future version. Use pandas.concat instead.\n",
      "  results = results.append(query_data, ignore_index=True)\n",
      "C:\\Users\\zwei\\AppData\\Local\\Temp\\ipykernel_588\\4248089460.py:19: FutureWarning: The frame.append method is deprecated and will be removed from pandas in a future version. Use pandas.concat instead.\n",
      "  results = results.append(query_data, ignore_index=True)\n",
      "C:\\Users\\zwei\\AppData\\Local\\Temp\\ipykernel_588\\4248089460.py:19: FutureWarning: The frame.append method is deprecated and will be removed from pandas in a future version. Use pandas.concat instead.\n",
      "  results = results.append(query_data, ignore_index=True)\n",
      "C:\\Users\\zwei\\AppData\\Local\\Temp\\ipykernel_588\\4248089460.py:19: FutureWarning: The frame.append method is deprecated and will be removed from pandas in a future version. Use pandas.concat instead.\n",
      "  results = results.append(query_data, ignore_index=True)\n",
      "C:\\Users\\zwei\\AppData\\Local\\Temp\\ipykernel_588\\4248089460.py:19: FutureWarning: The frame.append method is deprecated and will be removed from pandas in a future version. Use pandas.concat instead.\n",
      "  results = results.append(query_data, ignore_index=True)\n",
      "C:\\Users\\zwei\\AppData\\Local\\Temp\\ipykernel_588\\4248089460.py:19: FutureWarning: The frame.append method is deprecated and will be removed from pandas in a future version. Use pandas.concat instead.\n",
      "  results = results.append(query_data, ignore_index=True)\n",
      "C:\\Users\\zwei\\AppData\\Local\\Temp\\ipykernel_588\\4248089460.py:19: FutureWarning: The frame.append method is deprecated and will be removed from pandas in a future version. Use pandas.concat instead.\n",
      "  results = results.append(query_data, ignore_index=True)\n",
      "C:\\Users\\zwei\\AppData\\Local\\Temp\\ipykernel_588\\4248089460.py:19: FutureWarning: The frame.append method is deprecated and will be removed from pandas in a future version. Use pandas.concat instead.\n",
      "  results = results.append(query_data, ignore_index=True)\n",
      "C:\\Users\\zwei\\AppData\\Local\\Temp\\ipykernel_588\\4248089460.py:19: FutureWarning: The frame.append method is deprecated and will be removed from pandas in a future version. Use pandas.concat instead.\n",
      "  results = results.append(query_data, ignore_index=True)\n",
      "C:\\Users\\zwei\\AppData\\Local\\Temp\\ipykernel_588\\4248089460.py:19: FutureWarning: The frame.append method is deprecated and will be removed from pandas in a future version. Use pandas.concat instead.\n",
      "  results = results.append(query_data, ignore_index=True)\n",
      "C:\\Users\\zwei\\AppData\\Local\\Temp\\ipykernel_588\\4248089460.py:19: FutureWarning: The frame.append method is deprecated and will be removed from pandas in a future version. Use pandas.concat instead.\n",
      "  results = results.append(query_data, ignore_index=True)\n",
      "C:\\Users\\zwei\\AppData\\Local\\Temp\\ipykernel_588\\4248089460.py:19: FutureWarning: The frame.append method is deprecated and will be removed from pandas in a future version. Use pandas.concat instead.\n",
      "  results = results.append(query_data, ignore_index=True)\n",
      "C:\\Users\\zwei\\AppData\\Local\\Temp\\ipykernel_588\\4248089460.py:19: FutureWarning: The frame.append method is deprecated and will be removed from pandas in a future version. Use pandas.concat instead.\n",
      "  results = results.append(query_data, ignore_index=True)\n",
      "C:\\Users\\zwei\\AppData\\Local\\Temp\\ipykernel_588\\4248089460.py:19: FutureWarning: The frame.append method is deprecated and will be removed from pandas in a future version. Use pandas.concat instead.\n",
      "  results = results.append(query_data, ignore_index=True)\n",
      "C:\\Users\\zwei\\AppData\\Local\\Temp\\ipykernel_588\\4248089460.py:19: FutureWarning: The frame.append method is deprecated and will be removed from pandas in a future version. Use pandas.concat instead.\n",
      "  results = results.append(query_data, ignore_index=True)\n",
      "C:\\Users\\zwei\\AppData\\Local\\Temp\\ipykernel_588\\4248089460.py:19: FutureWarning: The frame.append method is deprecated and will be removed from pandas in a future version. Use pandas.concat instead.\n",
      "  results = results.append(query_data, ignore_index=True)\n",
      "C:\\Users\\zwei\\AppData\\Local\\Temp\\ipykernel_588\\4248089460.py:19: FutureWarning: The frame.append method is deprecated and will be removed from pandas in a future version. Use pandas.concat instead.\n",
      "  results = results.append(query_data, ignore_index=True)\n",
      "C:\\Users\\zwei\\AppData\\Local\\Temp\\ipykernel_588\\4248089460.py:19: FutureWarning: The frame.append method is deprecated and will be removed from pandas in a future version. Use pandas.concat instead.\n",
      "  results = results.append(query_data, ignore_index=True)\n",
      "C:\\Users\\zwei\\AppData\\Local\\Temp\\ipykernel_588\\4248089460.py:19: FutureWarning: The frame.append method is deprecated and will be removed from pandas in a future version. Use pandas.concat instead.\n",
      "  results = results.append(query_data, ignore_index=True)\n",
      "C:\\Users\\zwei\\AppData\\Local\\Temp\\ipykernel_588\\4248089460.py:19: FutureWarning: The frame.append method is deprecated and will be removed from pandas in a future version. Use pandas.concat instead.\n",
      "  results = results.append(query_data, ignore_index=True)\n",
      "C:\\Users\\zwei\\AppData\\Local\\Temp\\ipykernel_588\\4248089460.py:19: FutureWarning: The frame.append method is deprecated and will be removed from pandas in a future version. Use pandas.concat instead.\n",
      "  results = results.append(query_data, ignore_index=True)\n",
      "C:\\Users\\zwei\\AppData\\Local\\Temp\\ipykernel_588\\4248089460.py:19: FutureWarning: The frame.append method is deprecated and will be removed from pandas in a future version. Use pandas.concat instead.\n",
      "  results = results.append(query_data, ignore_index=True)\n",
      "C:\\Users\\zwei\\AppData\\Local\\Temp\\ipykernel_588\\4248089460.py:19: FutureWarning: The frame.append method is deprecated and will be removed from pandas in a future version. Use pandas.concat instead.\n",
      "  results = results.append(query_data, ignore_index=True)\n",
      "C:\\Users\\zwei\\AppData\\Local\\Temp\\ipykernel_588\\4248089460.py:19: FutureWarning: The frame.append method is deprecated and will be removed from pandas in a future version. Use pandas.concat instead.\n",
      "  results = results.append(query_data, ignore_index=True)\n",
      "C:\\Users\\zwei\\AppData\\Local\\Temp\\ipykernel_588\\4248089460.py:19: FutureWarning: The frame.append method is deprecated and will be removed from pandas in a future version. Use pandas.concat instead.\n",
      "  results = results.append(query_data, ignore_index=True)\n",
      "C:\\Users\\zwei\\AppData\\Local\\Temp\\ipykernel_588\\4248089460.py:19: FutureWarning: The frame.append method is deprecated and will be removed from pandas in a future version. Use pandas.concat instead.\n",
      "  results = results.append(query_data, ignore_index=True)\n"
     ]
    },
    {
     "name": "stderr",
     "output_type": "stream",
     "text": [
      "C:\\Users\\zwei\\AppData\\Local\\Temp\\ipykernel_588\\4248089460.py:19: FutureWarning: The frame.append method is deprecated and will be removed from pandas in a future version. Use pandas.concat instead.\n",
      "  results = results.append(query_data, ignore_index=True)\n",
      "C:\\Users\\zwei\\AppData\\Local\\Temp\\ipykernel_588\\4248089460.py:19: FutureWarning: The frame.append method is deprecated and will be removed from pandas in a future version. Use pandas.concat instead.\n",
      "  results = results.append(query_data, ignore_index=True)\n",
      "C:\\Users\\zwei\\AppData\\Local\\Temp\\ipykernel_588\\4248089460.py:19: FutureWarning: The frame.append method is deprecated and will be removed from pandas in a future version. Use pandas.concat instead.\n",
      "  results = results.append(query_data, ignore_index=True)\n",
      "C:\\Users\\zwei\\AppData\\Local\\Temp\\ipykernel_588\\4248089460.py:19: FutureWarning: The frame.append method is deprecated and will be removed from pandas in a future version. Use pandas.concat instead.\n",
      "  results = results.append(query_data, ignore_index=True)\n",
      "C:\\Users\\zwei\\AppData\\Local\\Temp\\ipykernel_588\\4248089460.py:19: FutureWarning: The frame.append method is deprecated and will be removed from pandas in a future version. Use pandas.concat instead.\n",
      "  results = results.append(query_data, ignore_index=True)\n",
      "C:\\Users\\zwei\\AppData\\Local\\Temp\\ipykernel_588\\4248089460.py:19: FutureWarning: The frame.append method is deprecated and will be removed from pandas in a future version. Use pandas.concat instead.\n",
      "  results = results.append(query_data, ignore_index=True)\n",
      "C:\\Users\\zwei\\AppData\\Local\\Temp\\ipykernel_588\\4248089460.py:19: FutureWarning: The frame.append method is deprecated and will be removed from pandas in a future version. Use pandas.concat instead.\n",
      "  results = results.append(query_data, ignore_index=True)\n",
      "C:\\Users\\zwei\\AppData\\Local\\Temp\\ipykernel_588\\4248089460.py:19: FutureWarning: The frame.append method is deprecated and will be removed from pandas in a future version. Use pandas.concat instead.\n",
      "  results = results.append(query_data, ignore_index=True)\n",
      "C:\\Users\\zwei\\AppData\\Local\\Temp\\ipykernel_588\\4248089460.py:19: FutureWarning: The frame.append method is deprecated and will be removed from pandas in a future version. Use pandas.concat instead.\n",
      "  results = results.append(query_data, ignore_index=True)\n",
      "C:\\Users\\zwei\\AppData\\Local\\Temp\\ipykernel_588\\4248089460.py:19: FutureWarning: The frame.append method is deprecated and will be removed from pandas in a future version. Use pandas.concat instead.\n",
      "  results = results.append(query_data, ignore_index=True)\n",
      "C:\\Users\\zwei\\AppData\\Local\\Temp\\ipykernel_588\\4248089460.py:19: FutureWarning: The frame.append method is deprecated and will be removed from pandas in a future version. Use pandas.concat instead.\n",
      "  results = results.append(query_data, ignore_index=True)\n",
      "C:\\Users\\zwei\\AppData\\Local\\Temp\\ipykernel_588\\4248089460.py:19: FutureWarning: The frame.append method is deprecated and will be removed from pandas in a future version. Use pandas.concat instead.\n",
      "  results = results.append(query_data, ignore_index=True)\n",
      "C:\\Users\\zwei\\AppData\\Local\\Temp\\ipykernel_588\\4248089460.py:19: FutureWarning: The frame.append method is deprecated and will be removed from pandas in a future version. Use pandas.concat instead.\n",
      "  results = results.append(query_data, ignore_index=True)\n",
      "C:\\Users\\zwei\\AppData\\Local\\Temp\\ipykernel_588\\4248089460.py:19: FutureWarning: The frame.append method is deprecated and will be removed from pandas in a future version. Use pandas.concat instead.\n",
      "  results = results.append(query_data, ignore_index=True)\n",
      "C:\\Users\\zwei\\AppData\\Local\\Temp\\ipykernel_588\\4248089460.py:19: FutureWarning: The frame.append method is deprecated and will be removed from pandas in a future version. Use pandas.concat instead.\n",
      "  results = results.append(query_data, ignore_index=True)\n",
      "C:\\Users\\zwei\\AppData\\Local\\Temp\\ipykernel_588\\4248089460.py:19: FutureWarning: The frame.append method is deprecated and will be removed from pandas in a future version. Use pandas.concat instead.\n",
      "  results = results.append(query_data, ignore_index=True)\n",
      "C:\\Users\\zwei\\AppData\\Local\\Temp\\ipykernel_588\\4248089460.py:19: FutureWarning: The frame.append method is deprecated and will be removed from pandas in a future version. Use pandas.concat instead.\n",
      "  results = results.append(query_data, ignore_index=True)\n"
     ]
    },
    {
     "name": "stdout",
     "output_type": "stream",
     "text": [
      "An error occurred: 'NoneType' object does not support item assignment\n"
     ]
    },
    {
     "name": "stderr",
     "output_type": "stream",
     "text": [
      "C:\\Users\\zwei\\AppData\\Local\\Temp\\ipykernel_588\\4248089460.py:19: FutureWarning: The frame.append method is deprecated and will be removed from pandas in a future version. Use pandas.concat instead.\n",
      "  results = results.append(query_data, ignore_index=True)\n",
      "C:\\Users\\zwei\\AppData\\Local\\Temp\\ipykernel_588\\4248089460.py:19: FutureWarning: The frame.append method is deprecated and will be removed from pandas in a future version. Use pandas.concat instead.\n",
      "  results = results.append(query_data, ignore_index=True)\n",
      "C:\\Users\\zwei\\AppData\\Local\\Temp\\ipykernel_588\\4248089460.py:19: FutureWarning: The frame.append method is deprecated and will be removed from pandas in a future version. Use pandas.concat instead.\n",
      "  results = results.append(query_data, ignore_index=True)\n",
      "C:\\Users\\zwei\\AppData\\Local\\Temp\\ipykernel_588\\4248089460.py:19: FutureWarning: The frame.append method is deprecated and will be removed from pandas in a future version. Use pandas.concat instead.\n",
      "  results = results.append(query_data, ignore_index=True)\n",
      "C:\\Users\\zwei\\AppData\\Local\\Temp\\ipykernel_588\\4248089460.py:19: FutureWarning: The frame.append method is deprecated and will be removed from pandas in a future version. Use pandas.concat instead.\n",
      "  results = results.append(query_data, ignore_index=True)\n",
      "C:\\Users\\zwei\\AppData\\Local\\Temp\\ipykernel_588\\4248089460.py:19: FutureWarning: The frame.append method is deprecated and will be removed from pandas in a future version. Use pandas.concat instead.\n",
      "  results = results.append(query_data, ignore_index=True)\n",
      "C:\\Users\\zwei\\AppData\\Local\\Temp\\ipykernel_588\\4248089460.py:19: FutureWarning: The frame.append method is deprecated and will be removed from pandas in a future version. Use pandas.concat instead.\n",
      "  results = results.append(query_data, ignore_index=True)\n",
      "C:\\Users\\zwei\\AppData\\Local\\Temp\\ipykernel_588\\4248089460.py:19: FutureWarning: The frame.append method is deprecated and will be removed from pandas in a future version. Use pandas.concat instead.\n",
      "  results = results.append(query_data, ignore_index=True)\n",
      "C:\\Users\\zwei\\AppData\\Local\\Temp\\ipykernel_588\\4248089460.py:19: FutureWarning: The frame.append method is deprecated and will be removed from pandas in a future version. Use pandas.concat instead.\n",
      "  results = results.append(query_data, ignore_index=True)\n",
      "C:\\Users\\zwei\\AppData\\Local\\Temp\\ipykernel_588\\4248089460.py:19: FutureWarning: The frame.append method is deprecated and will be removed from pandas in a future version. Use pandas.concat instead.\n",
      "  results = results.append(query_data, ignore_index=True)\n",
      "C:\\Users\\zwei\\AppData\\Local\\Temp\\ipykernel_588\\4248089460.py:19: FutureWarning: The frame.append method is deprecated and will be removed from pandas in a future version. Use pandas.concat instead.\n",
      "  results = results.append(query_data, ignore_index=True)\n",
      "C:\\Users\\zwei\\AppData\\Local\\Temp\\ipykernel_588\\4248089460.py:19: FutureWarning: The frame.append method is deprecated and will be removed from pandas in a future version. Use pandas.concat instead.\n",
      "  results = results.append(query_data, ignore_index=True)\n",
      "C:\\Users\\zwei\\AppData\\Local\\Temp\\ipykernel_588\\4248089460.py:19: FutureWarning: The frame.append method is deprecated and will be removed from pandas in a future version. Use pandas.concat instead.\n",
      "  results = results.append(query_data, ignore_index=True)\n",
      "C:\\Users\\zwei\\AppData\\Local\\Temp\\ipykernel_588\\4248089460.py:19: FutureWarning: The frame.append method is deprecated and will be removed from pandas in a future version. Use pandas.concat instead.\n",
      "  results = results.append(query_data, ignore_index=True)\n",
      "C:\\Users\\zwei\\AppData\\Local\\Temp\\ipykernel_588\\4248089460.py:19: FutureWarning: The frame.append method is deprecated and will be removed from pandas in a future version. Use pandas.concat instead.\n",
      "  results = results.append(query_data, ignore_index=True)\n",
      "C:\\Users\\zwei\\AppData\\Local\\Temp\\ipykernel_588\\4248089460.py:19: FutureWarning: The frame.append method is deprecated and will be removed from pandas in a future version. Use pandas.concat instead.\n",
      "  results = results.append(query_data, ignore_index=True)\n",
      "C:\\Users\\zwei\\AppData\\Local\\Temp\\ipykernel_588\\4248089460.py:19: FutureWarning: The frame.append method is deprecated and will be removed from pandas in a future version. Use pandas.concat instead.\n",
      "  results = results.append(query_data, ignore_index=True)\n"
     ]
    },
    {
     "name": "stdout",
     "output_type": "stream",
     "text": [
      "An error occurred: 'NoneType' object does not support item assignment\n"
     ]
    },
    {
     "name": "stderr",
     "output_type": "stream",
     "text": [
      "C:\\Users\\zwei\\AppData\\Local\\Temp\\ipykernel_588\\4248089460.py:19: FutureWarning: The frame.append method is deprecated and will be removed from pandas in a future version. Use pandas.concat instead.\n",
      "  results = results.append(query_data, ignore_index=True)\n",
      "C:\\Users\\zwei\\AppData\\Local\\Temp\\ipykernel_588\\4248089460.py:19: FutureWarning: The frame.append method is deprecated and will be removed from pandas in a future version. Use pandas.concat instead.\n",
      "  results = results.append(query_data, ignore_index=True)\n",
      "C:\\Users\\zwei\\AppData\\Local\\Temp\\ipykernel_588\\4248089460.py:19: FutureWarning: The frame.append method is deprecated and will be removed from pandas in a future version. Use pandas.concat instead.\n",
      "  results = results.append(query_data, ignore_index=True)\n",
      "C:\\Users\\zwei\\AppData\\Local\\Temp\\ipykernel_588\\4248089460.py:19: FutureWarning: The frame.append method is deprecated and will be removed from pandas in a future version. Use pandas.concat instead.\n",
      "  results = results.append(query_data, ignore_index=True)\n",
      "C:\\Users\\zwei\\AppData\\Local\\Temp\\ipykernel_588\\4248089460.py:19: FutureWarning: The frame.append method is deprecated and will be removed from pandas in a future version. Use pandas.concat instead.\n",
      "  results = results.append(query_data, ignore_index=True)\n",
      "C:\\Users\\zwei\\AppData\\Local\\Temp\\ipykernel_588\\4248089460.py:19: FutureWarning: The frame.append method is deprecated and will be removed from pandas in a future version. Use pandas.concat instead.\n",
      "  results = results.append(query_data, ignore_index=True)\n",
      "C:\\Users\\zwei\\AppData\\Local\\Temp\\ipykernel_588\\4248089460.py:19: FutureWarning: The frame.append method is deprecated and will be removed from pandas in a future version. Use pandas.concat instead.\n",
      "  results = results.append(query_data, ignore_index=True)\n",
      "C:\\Users\\zwei\\AppData\\Local\\Temp\\ipykernel_588\\4248089460.py:19: FutureWarning: The frame.append method is deprecated and will be removed from pandas in a future version. Use pandas.concat instead.\n",
      "  results = results.append(query_data, ignore_index=True)\n",
      "C:\\Users\\zwei\\AppData\\Local\\Temp\\ipykernel_588\\4248089460.py:19: FutureWarning: The frame.append method is deprecated and will be removed from pandas in a future version. Use pandas.concat instead.\n",
      "  results = results.append(query_data, ignore_index=True)\n",
      "C:\\Users\\zwei\\AppData\\Local\\Temp\\ipykernel_588\\4248089460.py:19: FutureWarning: The frame.append method is deprecated and will be removed from pandas in a future version. Use pandas.concat instead.\n",
      "  results = results.append(query_data, ignore_index=True)\n",
      "C:\\Users\\zwei\\AppData\\Local\\Temp\\ipykernel_588\\4248089460.py:19: FutureWarning: The frame.append method is deprecated and will be removed from pandas in a future version. Use pandas.concat instead.\n",
      "  results = results.append(query_data, ignore_index=True)\n",
      "C:\\Users\\zwei\\AppData\\Local\\Temp\\ipykernel_588\\4248089460.py:19: FutureWarning: The frame.append method is deprecated and will be removed from pandas in a future version. Use pandas.concat instead.\n",
      "  results = results.append(query_data, ignore_index=True)\n",
      "C:\\Users\\zwei\\AppData\\Local\\Temp\\ipykernel_588\\4248089460.py:19: FutureWarning: The frame.append method is deprecated and will be removed from pandas in a future version. Use pandas.concat instead.\n",
      "  results = results.append(query_data, ignore_index=True)\n",
      "C:\\Users\\zwei\\AppData\\Local\\Temp\\ipykernel_588\\4248089460.py:19: FutureWarning: The frame.append method is deprecated and will be removed from pandas in a future version. Use pandas.concat instead.\n",
      "  results = results.append(query_data, ignore_index=True)\n",
      "C:\\Users\\zwei\\AppData\\Local\\Temp\\ipykernel_588\\4248089460.py:19: FutureWarning: The frame.append method is deprecated and will be removed from pandas in a future version. Use pandas.concat instead.\n",
      "  results = results.append(query_data, ignore_index=True)\n",
      "C:\\Users\\zwei\\AppData\\Local\\Temp\\ipykernel_588\\4248089460.py:19: FutureWarning: The frame.append method is deprecated and will be removed from pandas in a future version. Use pandas.concat instead.\n",
      "  results = results.append(query_data, ignore_index=True)\n",
      "C:\\Users\\zwei\\AppData\\Local\\Temp\\ipykernel_588\\4248089460.py:19: FutureWarning: The frame.append method is deprecated and will be removed from pandas in a future version. Use pandas.concat instead.\n",
      "  results = results.append(query_data, ignore_index=True)\n",
      "C:\\Users\\zwei\\AppData\\Local\\Temp\\ipykernel_588\\4248089460.py:19: FutureWarning: The frame.append method is deprecated and will be removed from pandas in a future version. Use pandas.concat instead.\n",
      "  results = results.append(query_data, ignore_index=True)\n",
      "C:\\Users\\zwei\\AppData\\Local\\Temp\\ipykernel_588\\4248089460.py:19: FutureWarning: The frame.append method is deprecated and will be removed from pandas in a future version. Use pandas.concat instead.\n",
      "  results = results.append(query_data, ignore_index=True)\n",
      "C:\\Users\\zwei\\AppData\\Local\\Temp\\ipykernel_588\\4248089460.py:19: FutureWarning: The frame.append method is deprecated and will be removed from pandas in a future version. Use pandas.concat instead.\n",
      "  results = results.append(query_data, ignore_index=True)\n",
      "C:\\Users\\zwei\\AppData\\Local\\Temp\\ipykernel_588\\4248089460.py:19: FutureWarning: The frame.append method is deprecated and will be removed from pandas in a future version. Use pandas.concat instead.\n",
      "  results = results.append(query_data, ignore_index=True)\n",
      "C:\\Users\\zwei\\AppData\\Local\\Temp\\ipykernel_588\\4248089460.py:19: FutureWarning: The frame.append method is deprecated and will be removed from pandas in a future version. Use pandas.concat instead.\n",
      "  results = results.append(query_data, ignore_index=True)\n",
      "C:\\Users\\zwei\\AppData\\Local\\Temp\\ipykernel_588\\4248089460.py:19: FutureWarning: The frame.append method is deprecated and will be removed from pandas in a future version. Use pandas.concat instead.\n",
      "  results = results.append(query_data, ignore_index=True)\n",
      "C:\\Users\\zwei\\AppData\\Local\\Temp\\ipykernel_588\\4248089460.py:19: FutureWarning: The frame.append method is deprecated and will be removed from pandas in a future version. Use pandas.concat instead.\n",
      "  results = results.append(query_data, ignore_index=True)\n",
      "C:\\Users\\zwei\\AppData\\Local\\Temp\\ipykernel_588\\4248089460.py:19: FutureWarning: The frame.append method is deprecated and will be removed from pandas in a future version. Use pandas.concat instead.\n",
      "  results = results.append(query_data, ignore_index=True)\n",
      "C:\\Users\\zwei\\AppData\\Local\\Temp\\ipykernel_588\\4248089460.py:19: FutureWarning: The frame.append method is deprecated and will be removed from pandas in a future version. Use pandas.concat instead.\n",
      "  results = results.append(query_data, ignore_index=True)\n",
      "C:\\Users\\zwei\\AppData\\Local\\Temp\\ipykernel_588\\4248089460.py:19: FutureWarning: The frame.append method is deprecated and will be removed from pandas in a future version. Use pandas.concat instead.\n",
      "  results = results.append(query_data, ignore_index=True)\n",
      "C:\\Users\\zwei\\AppData\\Local\\Temp\\ipykernel_588\\4248089460.py:19: FutureWarning: The frame.append method is deprecated and will be removed from pandas in a future version. Use pandas.concat instead.\n",
      "  results = results.append(query_data, ignore_index=True)\n",
      "C:\\Users\\zwei\\AppData\\Local\\Temp\\ipykernel_588\\4248089460.py:19: FutureWarning: The frame.append method is deprecated and will be removed from pandas in a future version. Use pandas.concat instead.\n",
      "  results = results.append(query_data, ignore_index=True)\n",
      "C:\\Users\\zwei\\AppData\\Local\\Temp\\ipykernel_588\\4248089460.py:19: FutureWarning: The frame.append method is deprecated and will be removed from pandas in a future version. Use pandas.concat instead.\n",
      "  results = results.append(query_data, ignore_index=True)\n",
      "C:\\Users\\zwei\\AppData\\Local\\Temp\\ipykernel_588\\4248089460.py:19: FutureWarning: The frame.append method is deprecated and will be removed from pandas in a future version. Use pandas.concat instead.\n",
      "  results = results.append(query_data, ignore_index=True)\n",
      "C:\\Users\\zwei\\AppData\\Local\\Temp\\ipykernel_588\\4248089460.py:19: FutureWarning: The frame.append method is deprecated and will be removed from pandas in a future version. Use pandas.concat instead.\n",
      "  results = results.append(query_data, ignore_index=True)\n",
      "C:\\Users\\zwei\\AppData\\Local\\Temp\\ipykernel_588\\4248089460.py:19: FutureWarning: The frame.append method is deprecated and will be removed from pandas in a future version. Use pandas.concat instead.\n",
      "  results = results.append(query_data, ignore_index=True)\n",
      "C:\\Users\\zwei\\AppData\\Local\\Temp\\ipykernel_588\\4248089460.py:19: FutureWarning: The frame.append method is deprecated and will be removed from pandas in a future version. Use pandas.concat instead.\n",
      "  results = results.append(query_data, ignore_index=True)\n"
     ]
    },
    {
     "name": "stderr",
     "output_type": "stream",
     "text": [
      "C:\\Users\\zwei\\AppData\\Local\\Temp\\ipykernel_588\\4248089460.py:19: FutureWarning: The frame.append method is deprecated and will be removed from pandas in a future version. Use pandas.concat instead.\n",
      "  results = results.append(query_data, ignore_index=True)\n",
      "C:\\Users\\zwei\\AppData\\Local\\Temp\\ipykernel_588\\4248089460.py:19: FutureWarning: The frame.append method is deprecated and will be removed from pandas in a future version. Use pandas.concat instead.\n",
      "  results = results.append(query_data, ignore_index=True)\n",
      "C:\\Users\\zwei\\AppData\\Local\\Temp\\ipykernel_588\\4248089460.py:19: FutureWarning: The frame.append method is deprecated and will be removed from pandas in a future version. Use pandas.concat instead.\n",
      "  results = results.append(query_data, ignore_index=True)\n",
      "C:\\Users\\zwei\\AppData\\Local\\Temp\\ipykernel_588\\4248089460.py:19: FutureWarning: The frame.append method is deprecated and will be removed from pandas in a future version. Use pandas.concat instead.\n",
      "  results = results.append(query_data, ignore_index=True)\n",
      "C:\\Users\\zwei\\AppData\\Local\\Temp\\ipykernel_588\\4248089460.py:19: FutureWarning: The frame.append method is deprecated and will be removed from pandas in a future version. Use pandas.concat instead.\n",
      "  results = results.append(query_data, ignore_index=True)\n",
      "C:\\Users\\zwei\\AppData\\Local\\Temp\\ipykernel_588\\4248089460.py:19: FutureWarning: The frame.append method is deprecated and will be removed from pandas in a future version. Use pandas.concat instead.\n",
      "  results = results.append(query_data, ignore_index=True)\n",
      "C:\\Users\\zwei\\AppData\\Local\\Temp\\ipykernel_588\\4248089460.py:19: FutureWarning: The frame.append method is deprecated and will be removed from pandas in a future version. Use pandas.concat instead.\n",
      "  results = results.append(query_data, ignore_index=True)\n",
      "C:\\Users\\zwei\\AppData\\Local\\Temp\\ipykernel_588\\4248089460.py:19: FutureWarning: The frame.append method is deprecated and will be removed from pandas in a future version. Use pandas.concat instead.\n",
      "  results = results.append(query_data, ignore_index=True)\n",
      "C:\\Users\\zwei\\AppData\\Local\\Temp\\ipykernel_588\\4248089460.py:19: FutureWarning: The frame.append method is deprecated and will be removed from pandas in a future version. Use pandas.concat instead.\n",
      "  results = results.append(query_data, ignore_index=True)\n",
      "C:\\Users\\zwei\\AppData\\Local\\Temp\\ipykernel_588\\4248089460.py:19: FutureWarning: The frame.append method is deprecated and will be removed from pandas in a future version. Use pandas.concat instead.\n",
      "  results = results.append(query_data, ignore_index=True)\n",
      "C:\\Users\\zwei\\AppData\\Local\\Temp\\ipykernel_588\\4248089460.py:19: FutureWarning: The frame.append method is deprecated and will be removed from pandas in a future version. Use pandas.concat instead.\n",
      "  results = results.append(query_data, ignore_index=True)\n",
      "C:\\Users\\zwei\\AppData\\Local\\Temp\\ipykernel_588\\4248089460.py:19: FutureWarning: The frame.append method is deprecated and will be removed from pandas in a future version. Use pandas.concat instead.\n",
      "  results = results.append(query_data, ignore_index=True)\n",
      "C:\\Users\\zwei\\AppData\\Local\\Temp\\ipykernel_588\\4248089460.py:19: FutureWarning: The frame.append method is deprecated and will be removed from pandas in a future version. Use pandas.concat instead.\n",
      "  results = results.append(query_data, ignore_index=True)\n",
      "C:\\Users\\zwei\\AppData\\Local\\Temp\\ipykernel_588\\4248089460.py:19: FutureWarning: The frame.append method is deprecated and will be removed from pandas in a future version. Use pandas.concat instead.\n",
      "  results = results.append(query_data, ignore_index=True)\n",
      "C:\\Users\\zwei\\AppData\\Local\\Temp\\ipykernel_588\\4248089460.py:19: FutureWarning: The frame.append method is deprecated and will be removed from pandas in a future version. Use pandas.concat instead.\n",
      "  results = results.append(query_data, ignore_index=True)\n",
      "C:\\Users\\zwei\\AppData\\Local\\Temp\\ipykernel_588\\4248089460.py:19: FutureWarning: The frame.append method is deprecated and will be removed from pandas in a future version. Use pandas.concat instead.\n",
      "  results = results.append(query_data, ignore_index=True)\n",
      "C:\\Users\\zwei\\AppData\\Local\\Temp\\ipykernel_588\\4248089460.py:19: FutureWarning: The frame.append method is deprecated and will be removed from pandas in a future version. Use pandas.concat instead.\n",
      "  results = results.append(query_data, ignore_index=True)\n",
      "C:\\Users\\zwei\\AppData\\Local\\Temp\\ipykernel_588\\4248089460.py:19: FutureWarning: The frame.append method is deprecated and will be removed from pandas in a future version. Use pandas.concat instead.\n",
      "  results = results.append(query_data, ignore_index=True)\n",
      "C:\\Users\\zwei\\AppData\\Local\\Temp\\ipykernel_588\\4248089460.py:19: FutureWarning: The frame.append method is deprecated and will be removed from pandas in a future version. Use pandas.concat instead.\n",
      "  results = results.append(query_data, ignore_index=True)\n",
      "C:\\Users\\zwei\\AppData\\Local\\Temp\\ipykernel_588\\4248089460.py:19: FutureWarning: The frame.append method is deprecated and will be removed from pandas in a future version. Use pandas.concat instead.\n",
      "  results = results.append(query_data, ignore_index=True)\n",
      "C:\\Users\\zwei\\AppData\\Local\\Temp\\ipykernel_588\\4248089460.py:19: FutureWarning: The frame.append method is deprecated and will be removed from pandas in a future version. Use pandas.concat instead.\n",
      "  results = results.append(query_data, ignore_index=True)\n",
      "C:\\Users\\zwei\\AppData\\Local\\Temp\\ipykernel_588\\4248089460.py:19: FutureWarning: The frame.append method is deprecated and will be removed from pandas in a future version. Use pandas.concat instead.\n",
      "  results = results.append(query_data, ignore_index=True)\n",
      "C:\\Users\\zwei\\AppData\\Local\\Temp\\ipykernel_588\\4248089460.py:19: FutureWarning: The frame.append method is deprecated and will be removed from pandas in a future version. Use pandas.concat instead.\n",
      "  results = results.append(query_data, ignore_index=True)\n",
      "C:\\Users\\zwei\\AppData\\Local\\Temp\\ipykernel_588\\4248089460.py:19: FutureWarning: The frame.append method is deprecated and will be removed from pandas in a future version. Use pandas.concat instead.\n",
      "  results = results.append(query_data, ignore_index=True)\n",
      "C:\\Users\\zwei\\AppData\\Local\\Temp\\ipykernel_588\\4248089460.py:19: FutureWarning: The frame.append method is deprecated and will be removed from pandas in a future version. Use pandas.concat instead.\n",
      "  results = results.append(query_data, ignore_index=True)\n",
      "C:\\Users\\zwei\\AppData\\Local\\Temp\\ipykernel_588\\4248089460.py:19: FutureWarning: The frame.append method is deprecated and will be removed from pandas in a future version. Use pandas.concat instead.\n",
      "  results = results.append(query_data, ignore_index=True)\n",
      "C:\\Users\\zwei\\AppData\\Local\\Temp\\ipykernel_588\\4248089460.py:19: FutureWarning: The frame.append method is deprecated and will be removed from pandas in a future version. Use pandas.concat instead.\n",
      "  results = results.append(query_data, ignore_index=True)\n",
      "C:\\Users\\zwei\\AppData\\Local\\Temp\\ipykernel_588\\4248089460.py:19: FutureWarning: The frame.append method is deprecated and will be removed from pandas in a future version. Use pandas.concat instead.\n",
      "  results = results.append(query_data, ignore_index=True)\n",
      "C:\\Users\\zwei\\AppData\\Local\\Temp\\ipykernel_588\\4248089460.py:19: FutureWarning: The frame.append method is deprecated and will be removed from pandas in a future version. Use pandas.concat instead.\n",
      "  results = results.append(query_data, ignore_index=True)\n",
      "C:\\Users\\zwei\\AppData\\Local\\Temp\\ipykernel_588\\4248089460.py:19: FutureWarning: The frame.append method is deprecated and will be removed from pandas in a future version. Use pandas.concat instead.\n",
      "  results = results.append(query_data, ignore_index=True)\n",
      "C:\\Users\\zwei\\AppData\\Local\\Temp\\ipykernel_588\\4248089460.py:19: FutureWarning: The frame.append method is deprecated and will be removed from pandas in a future version. Use pandas.concat instead.\n",
      "  results = results.append(query_data, ignore_index=True)\n",
      "C:\\Users\\zwei\\AppData\\Local\\Temp\\ipykernel_588\\4248089460.py:19: FutureWarning: The frame.append method is deprecated and will be removed from pandas in a future version. Use pandas.concat instead.\n",
      "  results = results.append(query_data, ignore_index=True)\n",
      "C:\\Users\\zwei\\AppData\\Local\\Temp\\ipykernel_588\\4248089460.py:19: FutureWarning: The frame.append method is deprecated and will be removed from pandas in a future version. Use pandas.concat instead.\n",
      "  results = results.append(query_data, ignore_index=True)\n",
      "C:\\Users\\zwei\\AppData\\Local\\Temp\\ipykernel_588\\4248089460.py:19: FutureWarning: The frame.append method is deprecated and will be removed from pandas in a future version. Use pandas.concat instead.\n",
      "  results = results.append(query_data, ignore_index=True)\n"
     ]
    },
    {
     "name": "stderr",
     "output_type": "stream",
     "text": [
      "C:\\Users\\zwei\\AppData\\Local\\Temp\\ipykernel_588\\4248089460.py:19: FutureWarning: The frame.append method is deprecated and will be removed from pandas in a future version. Use pandas.concat instead.\n",
      "  results = results.append(query_data, ignore_index=True)\n",
      "C:\\Users\\zwei\\AppData\\Local\\Temp\\ipykernel_588\\4248089460.py:19: FutureWarning: The frame.append method is deprecated and will be removed from pandas in a future version. Use pandas.concat instead.\n",
      "  results = results.append(query_data, ignore_index=True)\n",
      "C:\\Users\\zwei\\AppData\\Local\\Temp\\ipykernel_588\\4248089460.py:19: FutureWarning: The frame.append method is deprecated and will be removed from pandas in a future version. Use pandas.concat instead.\n",
      "  results = results.append(query_data, ignore_index=True)\n",
      "C:\\Users\\zwei\\AppData\\Local\\Temp\\ipykernel_588\\4248089460.py:19: FutureWarning: The frame.append method is deprecated and will be removed from pandas in a future version. Use pandas.concat instead.\n",
      "  results = results.append(query_data, ignore_index=True)\n",
      "C:\\Users\\zwei\\AppData\\Local\\Temp\\ipykernel_588\\4248089460.py:19: FutureWarning: The frame.append method is deprecated and will be removed from pandas in a future version. Use pandas.concat instead.\n",
      "  results = results.append(query_data, ignore_index=True)\n",
      "C:\\Users\\zwei\\AppData\\Local\\Temp\\ipykernel_588\\4248089460.py:19: FutureWarning: The frame.append method is deprecated and will be removed from pandas in a future version. Use pandas.concat instead.\n",
      "  results = results.append(query_data, ignore_index=True)\n",
      "C:\\Users\\zwei\\AppData\\Local\\Temp\\ipykernel_588\\4248089460.py:19: FutureWarning: The frame.append method is deprecated and will be removed from pandas in a future version. Use pandas.concat instead.\n",
      "  results = results.append(query_data, ignore_index=True)\n",
      "C:\\Users\\zwei\\AppData\\Local\\Temp\\ipykernel_588\\4248089460.py:19: FutureWarning: The frame.append method is deprecated and will be removed from pandas in a future version. Use pandas.concat instead.\n",
      "  results = results.append(query_data, ignore_index=True)\n",
      "C:\\Users\\zwei\\AppData\\Local\\Temp\\ipykernel_588\\4248089460.py:19: FutureWarning: The frame.append method is deprecated and will be removed from pandas in a future version. Use pandas.concat instead.\n",
      "  results = results.append(query_data, ignore_index=True)\n",
      "C:\\Users\\zwei\\AppData\\Local\\Temp\\ipykernel_588\\4248089460.py:19: FutureWarning: The frame.append method is deprecated and will be removed from pandas in a future version. Use pandas.concat instead.\n",
      "  results = results.append(query_data, ignore_index=True)\n",
      "C:\\Users\\zwei\\AppData\\Local\\Temp\\ipykernel_588\\4248089460.py:19: FutureWarning: The frame.append method is deprecated and will be removed from pandas in a future version. Use pandas.concat instead.\n",
      "  results = results.append(query_data, ignore_index=True)\n",
      "C:\\Users\\zwei\\AppData\\Local\\Temp\\ipykernel_588\\4248089460.py:19: FutureWarning: The frame.append method is deprecated and will be removed from pandas in a future version. Use pandas.concat instead.\n",
      "  results = results.append(query_data, ignore_index=True)\n",
      "C:\\Users\\zwei\\AppData\\Local\\Temp\\ipykernel_588\\4248089460.py:19: FutureWarning: The frame.append method is deprecated and will be removed from pandas in a future version. Use pandas.concat instead.\n",
      "  results = results.append(query_data, ignore_index=True)\n",
      "C:\\Users\\zwei\\AppData\\Local\\Temp\\ipykernel_588\\4248089460.py:19: FutureWarning: The frame.append method is deprecated and will be removed from pandas in a future version. Use pandas.concat instead.\n",
      "  results = results.append(query_data, ignore_index=True)\n",
      "C:\\Users\\zwei\\AppData\\Local\\Temp\\ipykernel_588\\4248089460.py:19: FutureWarning: The frame.append method is deprecated and will be removed from pandas in a future version. Use pandas.concat instead.\n",
      "  results = results.append(query_data, ignore_index=True)\n",
      "C:\\Users\\zwei\\AppData\\Local\\Temp\\ipykernel_588\\4248089460.py:19: FutureWarning: The frame.append method is deprecated and will be removed from pandas in a future version. Use pandas.concat instead.\n",
      "  results = results.append(query_data, ignore_index=True)\n",
      "C:\\Users\\zwei\\AppData\\Local\\Temp\\ipykernel_588\\4248089460.py:19: FutureWarning: The frame.append method is deprecated and will be removed from pandas in a future version. Use pandas.concat instead.\n",
      "  results = results.append(query_data, ignore_index=True)\n",
      "C:\\Users\\zwei\\AppData\\Local\\Temp\\ipykernel_588\\4248089460.py:19: FutureWarning: The frame.append method is deprecated and will be removed from pandas in a future version. Use pandas.concat instead.\n",
      "  results = results.append(query_data, ignore_index=True)\n",
      "C:\\Users\\zwei\\AppData\\Local\\Temp\\ipykernel_588\\4248089460.py:19: FutureWarning: The frame.append method is deprecated and will be removed from pandas in a future version. Use pandas.concat instead.\n",
      "  results = results.append(query_data, ignore_index=True)\n",
      "C:\\Users\\zwei\\AppData\\Local\\Temp\\ipykernel_588\\4248089460.py:19: FutureWarning: The frame.append method is deprecated and will be removed from pandas in a future version. Use pandas.concat instead.\n",
      "  results = results.append(query_data, ignore_index=True)\n",
      "C:\\Users\\zwei\\AppData\\Local\\Temp\\ipykernel_588\\4248089460.py:19: FutureWarning: The frame.append method is deprecated and will be removed from pandas in a future version. Use pandas.concat instead.\n",
      "  results = results.append(query_data, ignore_index=True)\n",
      "C:\\Users\\zwei\\AppData\\Local\\Temp\\ipykernel_588\\4248089460.py:19: FutureWarning: The frame.append method is deprecated and will be removed from pandas in a future version. Use pandas.concat instead.\n",
      "  results = results.append(query_data, ignore_index=True)\n",
      "C:\\Users\\zwei\\AppData\\Local\\Temp\\ipykernel_588\\4248089460.py:19: FutureWarning: The frame.append method is deprecated and will be removed from pandas in a future version. Use pandas.concat instead.\n",
      "  results = results.append(query_data, ignore_index=True)\n",
      "C:\\Users\\zwei\\AppData\\Local\\Temp\\ipykernel_588\\4248089460.py:19: FutureWarning: The frame.append method is deprecated and will be removed from pandas in a future version. Use pandas.concat instead.\n",
      "  results = results.append(query_data, ignore_index=True)\n",
      "C:\\Users\\zwei\\AppData\\Local\\Temp\\ipykernel_588\\4248089460.py:19: FutureWarning: The frame.append method is deprecated and will be removed from pandas in a future version. Use pandas.concat instead.\n",
      "  results = results.append(query_data, ignore_index=True)\n",
      "C:\\Users\\zwei\\AppData\\Local\\Temp\\ipykernel_588\\4248089460.py:19: FutureWarning: The frame.append method is deprecated and will be removed from pandas in a future version. Use pandas.concat instead.\n",
      "  results = results.append(query_data, ignore_index=True)\n",
      "C:\\Users\\zwei\\AppData\\Local\\Temp\\ipykernel_588\\4248089460.py:19: FutureWarning: The frame.append method is deprecated and will be removed from pandas in a future version. Use pandas.concat instead.\n",
      "  results = results.append(query_data, ignore_index=True)\n",
      "C:\\Users\\zwei\\AppData\\Local\\Temp\\ipykernel_588\\4248089460.py:19: FutureWarning: The frame.append method is deprecated and will be removed from pandas in a future version. Use pandas.concat instead.\n",
      "  results = results.append(query_data, ignore_index=True)\n",
      "C:\\Users\\zwei\\AppData\\Local\\Temp\\ipykernel_588\\4248089460.py:19: FutureWarning: The frame.append method is deprecated and will be removed from pandas in a future version. Use pandas.concat instead.\n",
      "  results = results.append(query_data, ignore_index=True)\n",
      "C:\\Users\\zwei\\AppData\\Local\\Temp\\ipykernel_588\\4248089460.py:19: FutureWarning: The frame.append method is deprecated and will be removed from pandas in a future version. Use pandas.concat instead.\n",
      "  results = results.append(query_data, ignore_index=True)\n",
      "C:\\Users\\zwei\\AppData\\Local\\Temp\\ipykernel_588\\4248089460.py:19: FutureWarning: The frame.append method is deprecated and will be removed from pandas in a future version. Use pandas.concat instead.\n",
      "  results = results.append(query_data, ignore_index=True)\n",
      "C:\\Users\\zwei\\AppData\\Local\\Temp\\ipykernel_588\\4248089460.py:19: FutureWarning: The frame.append method is deprecated and will be removed from pandas in a future version. Use pandas.concat instead.\n",
      "  results = results.append(query_data, ignore_index=True)\n",
      "C:\\Users\\zwei\\AppData\\Local\\Temp\\ipykernel_588\\4248089460.py:19: FutureWarning: The frame.append method is deprecated and will be removed from pandas in a future version. Use pandas.concat instead.\n",
      "  results = results.append(query_data, ignore_index=True)\n",
      "C:\\Users\\zwei\\AppData\\Local\\Temp\\ipykernel_588\\4248089460.py:19: FutureWarning: The frame.append method is deprecated and will be removed from pandas in a future version. Use pandas.concat instead.\n",
      "  results = results.append(query_data, ignore_index=True)\n"
     ]
    },
    {
     "name": "stderr",
     "output_type": "stream",
     "text": [
      "C:\\Users\\zwei\\AppData\\Local\\Temp\\ipykernel_588\\4248089460.py:19: FutureWarning: The frame.append method is deprecated and will be removed from pandas in a future version. Use pandas.concat instead.\n",
      "  results = results.append(query_data, ignore_index=True)\n",
      "C:\\Users\\zwei\\AppData\\Local\\Temp\\ipykernel_588\\4248089460.py:19: FutureWarning: The frame.append method is deprecated and will be removed from pandas in a future version. Use pandas.concat instead.\n",
      "  results = results.append(query_data, ignore_index=True)\n",
      "C:\\Users\\zwei\\AppData\\Local\\Temp\\ipykernel_588\\4248089460.py:19: FutureWarning: The frame.append method is deprecated and will be removed from pandas in a future version. Use pandas.concat instead.\n",
      "  results = results.append(query_data, ignore_index=True)\n",
      "C:\\Users\\zwei\\AppData\\Local\\Temp\\ipykernel_588\\4248089460.py:19: FutureWarning: The frame.append method is deprecated and will be removed from pandas in a future version. Use pandas.concat instead.\n",
      "  results = results.append(query_data, ignore_index=True)\n",
      "C:\\Users\\zwei\\AppData\\Local\\Temp\\ipykernel_588\\4248089460.py:19: FutureWarning: The frame.append method is deprecated and will be removed from pandas in a future version. Use pandas.concat instead.\n",
      "  results = results.append(query_data, ignore_index=True)\n",
      "C:\\Users\\zwei\\AppData\\Local\\Temp\\ipykernel_588\\4248089460.py:19: FutureWarning: The frame.append method is deprecated and will be removed from pandas in a future version. Use pandas.concat instead.\n",
      "  results = results.append(query_data, ignore_index=True)\n",
      "C:\\Users\\zwei\\AppData\\Local\\Temp\\ipykernel_588\\4248089460.py:19: FutureWarning: The frame.append method is deprecated and will be removed from pandas in a future version. Use pandas.concat instead.\n",
      "  results = results.append(query_data, ignore_index=True)\n",
      "C:\\Users\\zwei\\AppData\\Local\\Temp\\ipykernel_588\\4248089460.py:19: FutureWarning: The frame.append method is deprecated and will be removed from pandas in a future version. Use pandas.concat instead.\n",
      "  results = results.append(query_data, ignore_index=True)\n",
      "C:\\Users\\zwei\\AppData\\Local\\Temp\\ipykernel_588\\4248089460.py:19: FutureWarning: The frame.append method is deprecated and will be removed from pandas in a future version. Use pandas.concat instead.\n",
      "  results = results.append(query_data, ignore_index=True)\n",
      "C:\\Users\\zwei\\AppData\\Local\\Temp\\ipykernel_588\\4248089460.py:19: FutureWarning: The frame.append method is deprecated and will be removed from pandas in a future version. Use pandas.concat instead.\n",
      "  results = results.append(query_data, ignore_index=True)\n",
      "C:\\Users\\zwei\\AppData\\Local\\Temp\\ipykernel_588\\4248089460.py:19: FutureWarning: The frame.append method is deprecated and will be removed from pandas in a future version. Use pandas.concat instead.\n",
      "  results = results.append(query_data, ignore_index=True)\n",
      "C:\\Users\\zwei\\AppData\\Local\\Temp\\ipykernel_588\\4248089460.py:19: FutureWarning: The frame.append method is deprecated and will be removed from pandas in a future version. Use pandas.concat instead.\n",
      "  results = results.append(query_data, ignore_index=True)\n",
      "C:\\Users\\zwei\\AppData\\Local\\Temp\\ipykernel_588\\4248089460.py:19: FutureWarning: The frame.append method is deprecated and will be removed from pandas in a future version. Use pandas.concat instead.\n",
      "  results = results.append(query_data, ignore_index=True)\n",
      "C:\\Users\\zwei\\AppData\\Local\\Temp\\ipykernel_588\\4248089460.py:19: FutureWarning: The frame.append method is deprecated and will be removed from pandas in a future version. Use pandas.concat instead.\n",
      "  results = results.append(query_data, ignore_index=True)\n",
      "C:\\Users\\zwei\\AppData\\Local\\Temp\\ipykernel_588\\4248089460.py:19: FutureWarning: The frame.append method is deprecated and will be removed from pandas in a future version. Use pandas.concat instead.\n",
      "  results = results.append(query_data, ignore_index=True)\n",
      "C:\\Users\\zwei\\AppData\\Local\\Temp\\ipykernel_588\\4248089460.py:19: FutureWarning: The frame.append method is deprecated and will be removed from pandas in a future version. Use pandas.concat instead.\n",
      "  results = results.append(query_data, ignore_index=True)\n",
      "C:\\Users\\zwei\\AppData\\Local\\Temp\\ipykernel_588\\4248089460.py:19: FutureWarning: The frame.append method is deprecated and will be removed from pandas in a future version. Use pandas.concat instead.\n",
      "  results = results.append(query_data, ignore_index=True)\n",
      "C:\\Users\\zwei\\AppData\\Local\\Temp\\ipykernel_588\\4248089460.py:19: FutureWarning: The frame.append method is deprecated and will be removed from pandas in a future version. Use pandas.concat instead.\n",
      "  results = results.append(query_data, ignore_index=True)\n",
      "C:\\Users\\zwei\\AppData\\Local\\Temp\\ipykernel_588\\4248089460.py:19: FutureWarning: The frame.append method is deprecated and will be removed from pandas in a future version. Use pandas.concat instead.\n",
      "  results = results.append(query_data, ignore_index=True)\n",
      "C:\\Users\\zwei\\AppData\\Local\\Temp\\ipykernel_588\\4248089460.py:19: FutureWarning: The frame.append method is deprecated and will be removed from pandas in a future version. Use pandas.concat instead.\n",
      "  results = results.append(query_data, ignore_index=True)\n",
      "C:\\Users\\zwei\\AppData\\Local\\Temp\\ipykernel_588\\4248089460.py:19: FutureWarning: The frame.append method is deprecated and will be removed from pandas in a future version. Use pandas.concat instead.\n",
      "  results = results.append(query_data, ignore_index=True)\n",
      "C:\\Users\\zwei\\AppData\\Local\\Temp\\ipykernel_588\\4248089460.py:19: FutureWarning: The frame.append method is deprecated and will be removed from pandas in a future version. Use pandas.concat instead.\n",
      "  results = results.append(query_data, ignore_index=True)\n",
      "C:\\Users\\zwei\\AppData\\Local\\Temp\\ipykernel_588\\4248089460.py:19: FutureWarning: The frame.append method is deprecated and will be removed from pandas in a future version. Use pandas.concat instead.\n",
      "  results = results.append(query_data, ignore_index=True)\n",
      "C:\\Users\\zwei\\AppData\\Local\\Temp\\ipykernel_588\\4248089460.py:19: FutureWarning: The frame.append method is deprecated and will be removed from pandas in a future version. Use pandas.concat instead.\n",
      "  results = results.append(query_data, ignore_index=True)\n",
      "C:\\Users\\zwei\\AppData\\Local\\Temp\\ipykernel_588\\4248089460.py:19: FutureWarning: The frame.append method is deprecated and will be removed from pandas in a future version. Use pandas.concat instead.\n",
      "  results = results.append(query_data, ignore_index=True)\n",
      "C:\\Users\\zwei\\AppData\\Local\\Temp\\ipykernel_588\\4248089460.py:19: FutureWarning: The frame.append method is deprecated and will be removed from pandas in a future version. Use pandas.concat instead.\n",
      "  results = results.append(query_data, ignore_index=True)\n",
      "C:\\Users\\zwei\\AppData\\Local\\Temp\\ipykernel_588\\4248089460.py:19: FutureWarning: The frame.append method is deprecated and will be removed from pandas in a future version. Use pandas.concat instead.\n",
      "  results = results.append(query_data, ignore_index=True)\n",
      "C:\\Users\\zwei\\AppData\\Local\\Temp\\ipykernel_588\\4248089460.py:19: FutureWarning: The frame.append method is deprecated and will be removed from pandas in a future version. Use pandas.concat instead.\n",
      "  results = results.append(query_data, ignore_index=True)\n",
      "C:\\Users\\zwei\\AppData\\Local\\Temp\\ipykernel_588\\4248089460.py:19: FutureWarning: The frame.append method is deprecated and will be removed from pandas in a future version. Use pandas.concat instead.\n",
      "  results = results.append(query_data, ignore_index=True)\n",
      "C:\\Users\\zwei\\AppData\\Local\\Temp\\ipykernel_588\\4248089460.py:19: FutureWarning: The frame.append method is deprecated and will be removed from pandas in a future version. Use pandas.concat instead.\n",
      "  results = results.append(query_data, ignore_index=True)\n",
      "C:\\Users\\zwei\\AppData\\Local\\Temp\\ipykernel_588\\4248089460.py:19: FutureWarning: The frame.append method is deprecated and will be removed from pandas in a future version. Use pandas.concat instead.\n",
      "  results = results.append(query_data, ignore_index=True)\n",
      "C:\\Users\\zwei\\AppData\\Local\\Temp\\ipykernel_588\\4248089460.py:19: FutureWarning: The frame.append method is deprecated and will be removed from pandas in a future version. Use pandas.concat instead.\n",
      "  results = results.append(query_data, ignore_index=True)\n",
      "C:\\Users\\zwei\\AppData\\Local\\Temp\\ipykernel_588\\4248089460.py:19: FutureWarning: The frame.append method is deprecated and will be removed from pandas in a future version. Use pandas.concat instead.\n",
      "  results = results.append(query_data, ignore_index=True)\n",
      "C:\\Users\\zwei\\AppData\\Local\\Temp\\ipykernel_588\\4248089460.py:19: FutureWarning: The frame.append method is deprecated and will be removed from pandas in a future version. Use pandas.concat instead.\n",
      "  results = results.append(query_data, ignore_index=True)\n"
     ]
    },
    {
     "name": "stderr",
     "output_type": "stream",
     "text": [
      "C:\\Users\\zwei\\AppData\\Local\\Temp\\ipykernel_588\\4248089460.py:19: FutureWarning: The frame.append method is deprecated and will be removed from pandas in a future version. Use pandas.concat instead.\n",
      "  results = results.append(query_data, ignore_index=True)\n",
      "C:\\Users\\zwei\\AppData\\Local\\Temp\\ipykernel_588\\4248089460.py:19: FutureWarning: The frame.append method is deprecated and will be removed from pandas in a future version. Use pandas.concat instead.\n",
      "  results = results.append(query_data, ignore_index=True)\n",
      "C:\\Users\\zwei\\AppData\\Local\\Temp\\ipykernel_588\\4248089460.py:19: FutureWarning: The frame.append method is deprecated and will be removed from pandas in a future version. Use pandas.concat instead.\n",
      "  results = results.append(query_data, ignore_index=True)\n",
      "C:\\Users\\zwei\\AppData\\Local\\Temp\\ipykernel_588\\4248089460.py:19: FutureWarning: The frame.append method is deprecated and will be removed from pandas in a future version. Use pandas.concat instead.\n",
      "  results = results.append(query_data, ignore_index=True)\n",
      "C:\\Users\\zwei\\AppData\\Local\\Temp\\ipykernel_588\\4248089460.py:19: FutureWarning: The frame.append method is deprecated and will be removed from pandas in a future version. Use pandas.concat instead.\n",
      "  results = results.append(query_data, ignore_index=True)\n",
      "C:\\Users\\zwei\\AppData\\Local\\Temp\\ipykernel_588\\4248089460.py:19: FutureWarning: The frame.append method is deprecated and will be removed from pandas in a future version. Use pandas.concat instead.\n",
      "  results = results.append(query_data, ignore_index=True)\n",
      "C:\\Users\\zwei\\AppData\\Local\\Temp\\ipykernel_588\\4248089460.py:19: FutureWarning: The frame.append method is deprecated and will be removed from pandas in a future version. Use pandas.concat instead.\n",
      "  results = results.append(query_data, ignore_index=True)\n",
      "C:\\Users\\zwei\\AppData\\Local\\Temp\\ipykernel_588\\4248089460.py:19: FutureWarning: The frame.append method is deprecated and will be removed from pandas in a future version. Use pandas.concat instead.\n",
      "  results = results.append(query_data, ignore_index=True)\n",
      "C:\\Users\\zwei\\AppData\\Local\\Temp\\ipykernel_588\\4248089460.py:19: FutureWarning: The frame.append method is deprecated and will be removed from pandas in a future version. Use pandas.concat instead.\n",
      "  results = results.append(query_data, ignore_index=True)\n",
      "C:\\Users\\zwei\\AppData\\Local\\Temp\\ipykernel_588\\4248089460.py:19: FutureWarning: The frame.append method is deprecated and will be removed from pandas in a future version. Use pandas.concat instead.\n",
      "  results = results.append(query_data, ignore_index=True)\n",
      "C:\\Users\\zwei\\AppData\\Local\\Temp\\ipykernel_588\\4248089460.py:19: FutureWarning: The frame.append method is deprecated and will be removed from pandas in a future version. Use pandas.concat instead.\n",
      "  results = results.append(query_data, ignore_index=True)\n",
      "C:\\Users\\zwei\\AppData\\Local\\Temp\\ipykernel_588\\4248089460.py:19: FutureWarning: The frame.append method is deprecated and will be removed from pandas in a future version. Use pandas.concat instead.\n",
      "  results = results.append(query_data, ignore_index=True)\n",
      "C:\\Users\\zwei\\AppData\\Local\\Temp\\ipykernel_588\\4248089460.py:19: FutureWarning: The frame.append method is deprecated and will be removed from pandas in a future version. Use pandas.concat instead.\n",
      "  results = results.append(query_data, ignore_index=True)\n",
      "C:\\Users\\zwei\\AppData\\Local\\Temp\\ipykernel_588\\4248089460.py:19: FutureWarning: The frame.append method is deprecated and will be removed from pandas in a future version. Use pandas.concat instead.\n",
      "  results = results.append(query_data, ignore_index=True)\n",
      "C:\\Users\\zwei\\AppData\\Local\\Temp\\ipykernel_588\\4248089460.py:19: FutureWarning: The frame.append method is deprecated and will be removed from pandas in a future version. Use pandas.concat instead.\n",
      "  results = results.append(query_data, ignore_index=True)\n",
      "C:\\Users\\zwei\\AppData\\Local\\Temp\\ipykernel_588\\4248089460.py:19: FutureWarning: The frame.append method is deprecated and will be removed from pandas in a future version. Use pandas.concat instead.\n",
      "  results = results.append(query_data, ignore_index=True)\n",
      "C:\\Users\\zwei\\AppData\\Local\\Temp\\ipykernel_588\\4248089460.py:19: FutureWarning: The frame.append method is deprecated and will be removed from pandas in a future version. Use pandas.concat instead.\n",
      "  results = results.append(query_data, ignore_index=True)\n",
      "C:\\Users\\zwei\\AppData\\Local\\Temp\\ipykernel_588\\4248089460.py:19: FutureWarning: The frame.append method is deprecated and will be removed from pandas in a future version. Use pandas.concat instead.\n",
      "  results = results.append(query_data, ignore_index=True)\n",
      "C:\\Users\\zwei\\AppData\\Local\\Temp\\ipykernel_588\\4248089460.py:19: FutureWarning: The frame.append method is deprecated and will be removed from pandas in a future version. Use pandas.concat instead.\n",
      "  results = results.append(query_data, ignore_index=True)\n",
      "C:\\Users\\zwei\\AppData\\Local\\Temp\\ipykernel_588\\4248089460.py:19: FutureWarning: The frame.append method is deprecated and will be removed from pandas in a future version. Use pandas.concat instead.\n",
      "  results = results.append(query_data, ignore_index=True)\n",
      "C:\\Users\\zwei\\AppData\\Local\\Temp\\ipykernel_588\\4248089460.py:19: FutureWarning: The frame.append method is deprecated and will be removed from pandas in a future version. Use pandas.concat instead.\n",
      "  results = results.append(query_data, ignore_index=True)\n",
      "C:\\Users\\zwei\\AppData\\Local\\Temp\\ipykernel_588\\4248089460.py:19: FutureWarning: The frame.append method is deprecated and will be removed from pandas in a future version. Use pandas.concat instead.\n",
      "  results = results.append(query_data, ignore_index=True)\n",
      "C:\\Users\\zwei\\AppData\\Local\\Temp\\ipykernel_588\\4248089460.py:19: FutureWarning: The frame.append method is deprecated and will be removed from pandas in a future version. Use pandas.concat instead.\n",
      "  results = results.append(query_data, ignore_index=True)\n",
      "C:\\Users\\zwei\\AppData\\Local\\Temp\\ipykernel_588\\4248089460.py:19: FutureWarning: The frame.append method is deprecated and will be removed from pandas in a future version. Use pandas.concat instead.\n",
      "  results = results.append(query_data, ignore_index=True)\n",
      "C:\\Users\\zwei\\AppData\\Local\\Temp\\ipykernel_588\\4248089460.py:19: FutureWarning: The frame.append method is deprecated and will be removed from pandas in a future version. Use pandas.concat instead.\n",
      "  results = results.append(query_data, ignore_index=True)\n",
      "C:\\Users\\zwei\\AppData\\Local\\Temp\\ipykernel_588\\4248089460.py:19: FutureWarning: The frame.append method is deprecated and will be removed from pandas in a future version. Use pandas.concat instead.\n",
      "  results = results.append(query_data, ignore_index=True)\n",
      "C:\\Users\\zwei\\AppData\\Local\\Temp\\ipykernel_588\\4248089460.py:19: FutureWarning: The frame.append method is deprecated and will be removed from pandas in a future version. Use pandas.concat instead.\n",
      "  results = results.append(query_data, ignore_index=True)\n",
      "C:\\Users\\zwei\\AppData\\Local\\Temp\\ipykernel_588\\4248089460.py:19: FutureWarning: The frame.append method is deprecated and will be removed from pandas in a future version. Use pandas.concat instead.\n",
      "  results = results.append(query_data, ignore_index=True)\n",
      "C:\\Users\\zwei\\AppData\\Local\\Temp\\ipykernel_588\\4248089460.py:19: FutureWarning: The frame.append method is deprecated and will be removed from pandas in a future version. Use pandas.concat instead.\n",
      "  results = results.append(query_data, ignore_index=True)\n",
      "C:\\Users\\zwei\\AppData\\Local\\Temp\\ipykernel_588\\4248089460.py:19: FutureWarning: The frame.append method is deprecated and will be removed from pandas in a future version. Use pandas.concat instead.\n",
      "  results = results.append(query_data, ignore_index=True)\n",
      "C:\\Users\\zwei\\AppData\\Local\\Temp\\ipykernel_588\\4248089460.py:19: FutureWarning: The frame.append method is deprecated and will be removed from pandas in a future version. Use pandas.concat instead.\n",
      "  results = results.append(query_data, ignore_index=True)\n",
      "C:\\Users\\zwei\\AppData\\Local\\Temp\\ipykernel_588\\4248089460.py:19: FutureWarning: The frame.append method is deprecated and will be removed from pandas in a future version. Use pandas.concat instead.\n",
      "  results = results.append(query_data, ignore_index=True)\n",
      "C:\\Users\\zwei\\AppData\\Local\\Temp\\ipykernel_588\\4248089460.py:19: FutureWarning: The frame.append method is deprecated and will be removed from pandas in a future version. Use pandas.concat instead.\n",
      "  results = results.append(query_data, ignore_index=True)\n",
      "C:\\Users\\zwei\\AppData\\Local\\Temp\\ipykernel_588\\4248089460.py:19: FutureWarning: The frame.append method is deprecated and will be removed from pandas in a future version. Use pandas.concat instead.\n",
      "  results = results.append(query_data, ignore_index=True)\n"
     ]
    },
    {
     "name": "stderr",
     "output_type": "stream",
     "text": [
      "C:\\Users\\zwei\\AppData\\Local\\Temp\\ipykernel_588\\4248089460.py:19: FutureWarning: The frame.append method is deprecated and will be removed from pandas in a future version. Use pandas.concat instead.\n",
      "  results = results.append(query_data, ignore_index=True)\n",
      "C:\\Users\\zwei\\AppData\\Local\\Temp\\ipykernel_588\\4248089460.py:19: FutureWarning: The frame.append method is deprecated and will be removed from pandas in a future version. Use pandas.concat instead.\n",
      "  results = results.append(query_data, ignore_index=True)\n",
      "C:\\Users\\zwei\\AppData\\Local\\Temp\\ipykernel_588\\4248089460.py:19: FutureWarning: The frame.append method is deprecated and will be removed from pandas in a future version. Use pandas.concat instead.\n",
      "  results = results.append(query_data, ignore_index=True)\n",
      "C:\\Users\\zwei\\AppData\\Local\\Temp\\ipykernel_588\\4248089460.py:19: FutureWarning: The frame.append method is deprecated and will be removed from pandas in a future version. Use pandas.concat instead.\n",
      "  results = results.append(query_data, ignore_index=True)\n",
      "C:\\Users\\zwei\\AppData\\Local\\Temp\\ipykernel_588\\4248089460.py:19: FutureWarning: The frame.append method is deprecated and will be removed from pandas in a future version. Use pandas.concat instead.\n",
      "  results = results.append(query_data, ignore_index=True)\n",
      "C:\\Users\\zwei\\AppData\\Local\\Temp\\ipykernel_588\\4248089460.py:19: FutureWarning: The frame.append method is deprecated and will be removed from pandas in a future version. Use pandas.concat instead.\n",
      "  results = results.append(query_data, ignore_index=True)\n",
      "C:\\Users\\zwei\\AppData\\Local\\Temp\\ipykernel_588\\4248089460.py:19: FutureWarning: The frame.append method is deprecated and will be removed from pandas in a future version. Use pandas.concat instead.\n",
      "  results = results.append(query_data, ignore_index=True)\n",
      "C:\\Users\\zwei\\AppData\\Local\\Temp\\ipykernel_588\\4248089460.py:19: FutureWarning: The frame.append method is deprecated and will be removed from pandas in a future version. Use pandas.concat instead.\n",
      "  results = results.append(query_data, ignore_index=True)\n",
      "C:\\Users\\zwei\\AppData\\Local\\Temp\\ipykernel_588\\4248089460.py:19: FutureWarning: The frame.append method is deprecated and will be removed from pandas in a future version. Use pandas.concat instead.\n",
      "  results = results.append(query_data, ignore_index=True)\n",
      "C:\\Users\\zwei\\AppData\\Local\\Temp\\ipykernel_588\\4248089460.py:19: FutureWarning: The frame.append method is deprecated and will be removed from pandas in a future version. Use pandas.concat instead.\n",
      "  results = results.append(query_data, ignore_index=True)\n"
     ]
    },
    {
     "name": "stdout",
     "output_type": "stream",
     "text": [
      "An error occurred: The request failed: Google returned a response with code 429\n"
     ]
    },
    {
     "name": "stderr",
     "output_type": "stream",
     "text": [
      "C:\\Users\\zwei\\AppData\\Local\\Temp\\ipykernel_588\\4248089460.py:19: FutureWarning: The frame.append method is deprecated and will be removed from pandas in a future version. Use pandas.concat instead.\n",
      "  results = results.append(query_data, ignore_index=True)\n",
      "C:\\Users\\zwei\\AppData\\Local\\Temp\\ipykernel_588\\4248089460.py:19: FutureWarning: The frame.append method is deprecated and will be removed from pandas in a future version. Use pandas.concat instead.\n",
      "  results = results.append(query_data, ignore_index=True)\n",
      "C:\\Users\\zwei\\AppData\\Local\\Temp\\ipykernel_588\\4248089460.py:19: FutureWarning: The frame.append method is deprecated and will be removed from pandas in a future version. Use pandas.concat instead.\n",
      "  results = results.append(query_data, ignore_index=True)\n",
      "C:\\Users\\zwei\\AppData\\Local\\Temp\\ipykernel_588\\4248089460.py:19: FutureWarning: The frame.append method is deprecated and will be removed from pandas in a future version. Use pandas.concat instead.\n",
      "  results = results.append(query_data, ignore_index=True)\n",
      "C:\\Users\\zwei\\AppData\\Local\\Temp\\ipykernel_588\\4248089460.py:19: FutureWarning: The frame.append method is deprecated and will be removed from pandas in a future version. Use pandas.concat instead.\n",
      "  results = results.append(query_data, ignore_index=True)\n",
      "C:\\Users\\zwei\\AppData\\Local\\Temp\\ipykernel_588\\4248089460.py:19: FutureWarning: The frame.append method is deprecated and will be removed from pandas in a future version. Use pandas.concat instead.\n",
      "  results = results.append(query_data, ignore_index=True)\n",
      "C:\\Users\\zwei\\AppData\\Local\\Temp\\ipykernel_588\\4248089460.py:19: FutureWarning: The frame.append method is deprecated and will be removed from pandas in a future version. Use pandas.concat instead.\n",
      "  results = results.append(query_data, ignore_index=True)\n",
      "C:\\Users\\zwei\\AppData\\Local\\Temp\\ipykernel_588\\4248089460.py:19: FutureWarning: The frame.append method is deprecated and will be removed from pandas in a future version. Use pandas.concat instead.\n",
      "  results = results.append(query_data, ignore_index=True)\n",
      "C:\\Users\\zwei\\AppData\\Local\\Temp\\ipykernel_588\\4248089460.py:19: FutureWarning: The frame.append method is deprecated and will be removed from pandas in a future version. Use pandas.concat instead.\n",
      "  results = results.append(query_data, ignore_index=True)\n",
      "C:\\Users\\zwei\\AppData\\Local\\Temp\\ipykernel_588\\4248089460.py:19: FutureWarning: The frame.append method is deprecated and will be removed from pandas in a future version. Use pandas.concat instead.\n",
      "  results = results.append(query_data, ignore_index=True)\n",
      "C:\\Users\\zwei\\AppData\\Local\\Temp\\ipykernel_588\\4248089460.py:19: FutureWarning: The frame.append method is deprecated and will be removed from pandas in a future version. Use pandas.concat instead.\n",
      "  results = results.append(query_data, ignore_index=True)\n",
      "C:\\Users\\zwei\\AppData\\Local\\Temp\\ipykernel_588\\4248089460.py:19: FutureWarning: The frame.append method is deprecated and will be removed from pandas in a future version. Use pandas.concat instead.\n",
      "  results = results.append(query_data, ignore_index=True)\n",
      "C:\\Users\\zwei\\AppData\\Local\\Temp\\ipykernel_588\\4248089460.py:19: FutureWarning: The frame.append method is deprecated and will be removed from pandas in a future version. Use pandas.concat instead.\n",
      "  results = results.append(query_data, ignore_index=True)\n",
      "C:\\Users\\zwei\\AppData\\Local\\Temp\\ipykernel_588\\4248089460.py:19: FutureWarning: The frame.append method is deprecated and will be removed from pandas in a future version. Use pandas.concat instead.\n",
      "  results = results.append(query_data, ignore_index=True)\n",
      "C:\\Users\\zwei\\AppData\\Local\\Temp\\ipykernel_588\\4248089460.py:19: FutureWarning: The frame.append method is deprecated and will be removed from pandas in a future version. Use pandas.concat instead.\n",
      "  results = results.append(query_data, ignore_index=True)\n",
      "C:\\Users\\zwei\\AppData\\Local\\Temp\\ipykernel_588\\4248089460.py:19: FutureWarning: The frame.append method is deprecated and will be removed from pandas in a future version. Use pandas.concat instead.\n",
      "  results = results.append(query_data, ignore_index=True)\n",
      "C:\\Users\\zwei\\AppData\\Local\\Temp\\ipykernel_588\\4248089460.py:19: FutureWarning: The frame.append method is deprecated and will be removed from pandas in a future version. Use pandas.concat instead.\n",
      "  results = results.append(query_data, ignore_index=True)\n",
      "C:\\Users\\zwei\\AppData\\Local\\Temp\\ipykernel_588\\4248089460.py:19: FutureWarning: The frame.append method is deprecated and will be removed from pandas in a future version. Use pandas.concat instead.\n",
      "  results = results.append(query_data, ignore_index=True)\n",
      "C:\\Users\\zwei\\AppData\\Local\\Temp\\ipykernel_588\\4248089460.py:19: FutureWarning: The frame.append method is deprecated and will be removed from pandas in a future version. Use pandas.concat instead.\n",
      "  results = results.append(query_data, ignore_index=True)\n",
      "C:\\Users\\zwei\\AppData\\Local\\Temp\\ipykernel_588\\4248089460.py:19: FutureWarning: The frame.append method is deprecated and will be removed from pandas in a future version. Use pandas.concat instead.\n",
      "  results = results.append(query_data, ignore_index=True)\n",
      "C:\\Users\\zwei\\AppData\\Local\\Temp\\ipykernel_588\\4248089460.py:19: FutureWarning: The frame.append method is deprecated and will be removed from pandas in a future version. Use pandas.concat instead.\n",
      "  results = results.append(query_data, ignore_index=True)\n",
      "C:\\Users\\zwei\\AppData\\Local\\Temp\\ipykernel_588\\4248089460.py:19: FutureWarning: The frame.append method is deprecated and will be removed from pandas in a future version. Use pandas.concat instead.\n",
      "  results = results.append(query_data, ignore_index=True)\n",
      "C:\\Users\\zwei\\AppData\\Local\\Temp\\ipykernel_588\\4248089460.py:19: FutureWarning: The frame.append method is deprecated and will be removed from pandas in a future version. Use pandas.concat instead.\n",
      "  results = results.append(query_data, ignore_index=True)\n",
      "C:\\Users\\zwei\\AppData\\Local\\Temp\\ipykernel_588\\4248089460.py:19: FutureWarning: The frame.append method is deprecated and will be removed from pandas in a future version. Use pandas.concat instead.\n",
      "  results = results.append(query_data, ignore_index=True)\n",
      "C:\\Users\\zwei\\AppData\\Local\\Temp\\ipykernel_588\\4248089460.py:19: FutureWarning: The frame.append method is deprecated and will be removed from pandas in a future version. Use pandas.concat instead.\n",
      "  results = results.append(query_data, ignore_index=True)\n",
      "C:\\Users\\zwei\\AppData\\Local\\Temp\\ipykernel_588\\4248089460.py:19: FutureWarning: The frame.append method is deprecated and will be removed from pandas in a future version. Use pandas.concat instead.\n",
      "  results = results.append(query_data, ignore_index=True)\n",
      "C:\\Users\\zwei\\AppData\\Local\\Temp\\ipykernel_588\\4248089460.py:19: FutureWarning: The frame.append method is deprecated and will be removed from pandas in a future version. Use pandas.concat instead.\n",
      "  results = results.append(query_data, ignore_index=True)\n",
      "C:\\Users\\zwei\\AppData\\Local\\Temp\\ipykernel_588\\4248089460.py:19: FutureWarning: The frame.append method is deprecated and will be removed from pandas in a future version. Use pandas.concat instead.\n",
      "  results = results.append(query_data, ignore_index=True)\n",
      "C:\\Users\\zwei\\AppData\\Local\\Temp\\ipykernel_588\\4248089460.py:19: FutureWarning: The frame.append method is deprecated and will be removed from pandas in a future version. Use pandas.concat instead.\n",
      "  results = results.append(query_data, ignore_index=True)\n",
      "C:\\Users\\zwei\\AppData\\Local\\Temp\\ipykernel_588\\4248089460.py:19: FutureWarning: The frame.append method is deprecated and will be removed from pandas in a future version. Use pandas.concat instead.\n",
      "  results = results.append(query_data, ignore_index=True)\n",
      "C:\\Users\\zwei\\AppData\\Local\\Temp\\ipykernel_588\\4248089460.py:19: FutureWarning: The frame.append method is deprecated and will be removed from pandas in a future version. Use pandas.concat instead.\n",
      "  results = results.append(query_data, ignore_index=True)\n",
      "C:\\Users\\zwei\\AppData\\Local\\Temp\\ipykernel_588\\4248089460.py:19: FutureWarning: The frame.append method is deprecated and will be removed from pandas in a future version. Use pandas.concat instead.\n",
      "  results = results.append(query_data, ignore_index=True)\n",
      "C:\\Users\\zwei\\AppData\\Local\\Temp\\ipykernel_588\\4248089460.py:19: FutureWarning: The frame.append method is deprecated and will be removed from pandas in a future version. Use pandas.concat instead.\n",
      "  results = results.append(query_data, ignore_index=True)\n",
      "C:\\Users\\zwei\\AppData\\Local\\Temp\\ipykernel_588\\4248089460.py:19: FutureWarning: The frame.append method is deprecated and will be removed from pandas in a future version. Use pandas.concat instead.\n",
      "  results = results.append(query_data, ignore_index=True)\n"
     ]
    },
    {
     "name": "stderr",
     "output_type": "stream",
     "text": [
      "C:\\Users\\zwei\\AppData\\Local\\Temp\\ipykernel_588\\4248089460.py:19: FutureWarning: The frame.append method is deprecated and will be removed from pandas in a future version. Use pandas.concat instead.\n",
      "  results = results.append(query_data, ignore_index=True)\n",
      "C:\\Users\\zwei\\AppData\\Local\\Temp\\ipykernel_588\\4248089460.py:19: FutureWarning: The frame.append method is deprecated and will be removed from pandas in a future version. Use pandas.concat instead.\n",
      "  results = results.append(query_data, ignore_index=True)\n",
      "C:\\Users\\zwei\\AppData\\Local\\Temp\\ipykernel_588\\4248089460.py:19: FutureWarning: The frame.append method is deprecated and will be removed from pandas in a future version. Use pandas.concat instead.\n",
      "  results = results.append(query_data, ignore_index=True)\n",
      "C:\\Users\\zwei\\AppData\\Local\\Temp\\ipykernel_588\\4248089460.py:19: FutureWarning: The frame.append method is deprecated and will be removed from pandas in a future version. Use pandas.concat instead.\n",
      "  results = results.append(query_data, ignore_index=True)\n",
      "C:\\Users\\zwei\\AppData\\Local\\Temp\\ipykernel_588\\4248089460.py:19: FutureWarning: The frame.append method is deprecated and will be removed from pandas in a future version. Use pandas.concat instead.\n",
      "  results = results.append(query_data, ignore_index=True)\n",
      "C:\\Users\\zwei\\AppData\\Local\\Temp\\ipykernel_588\\4248089460.py:19: FutureWarning: The frame.append method is deprecated and will be removed from pandas in a future version. Use pandas.concat instead.\n",
      "  results = results.append(query_data, ignore_index=True)\n",
      "C:\\Users\\zwei\\AppData\\Local\\Temp\\ipykernel_588\\4248089460.py:19: FutureWarning: The frame.append method is deprecated and will be removed from pandas in a future version. Use pandas.concat instead.\n",
      "  results = results.append(query_data, ignore_index=True)\n",
      "C:\\Users\\zwei\\AppData\\Local\\Temp\\ipykernel_588\\4248089460.py:19: FutureWarning: The frame.append method is deprecated and will be removed from pandas in a future version. Use pandas.concat instead.\n",
      "  results = results.append(query_data, ignore_index=True)\n",
      "C:\\Users\\zwei\\AppData\\Local\\Temp\\ipykernel_588\\4248089460.py:19: FutureWarning: The frame.append method is deprecated and will be removed from pandas in a future version. Use pandas.concat instead.\n",
      "  results = results.append(query_data, ignore_index=True)\n",
      "C:\\Users\\zwei\\AppData\\Local\\Temp\\ipykernel_588\\4248089460.py:19: FutureWarning: The frame.append method is deprecated and will be removed from pandas in a future version. Use pandas.concat instead.\n",
      "  results = results.append(query_data, ignore_index=True)\n",
      "C:\\Users\\zwei\\AppData\\Local\\Temp\\ipykernel_588\\4248089460.py:19: FutureWarning: The frame.append method is deprecated and will be removed from pandas in a future version. Use pandas.concat instead.\n",
      "  results = results.append(query_data, ignore_index=True)\n",
      "C:\\Users\\zwei\\AppData\\Local\\Temp\\ipykernel_588\\4248089460.py:19: FutureWarning: The frame.append method is deprecated and will be removed from pandas in a future version. Use pandas.concat instead.\n",
      "  results = results.append(query_data, ignore_index=True)\n",
      "C:\\Users\\zwei\\AppData\\Local\\Temp\\ipykernel_588\\4248089460.py:19: FutureWarning: The frame.append method is deprecated and will be removed from pandas in a future version. Use pandas.concat instead.\n",
      "  results = results.append(query_data, ignore_index=True)\n",
      "C:\\Users\\zwei\\AppData\\Local\\Temp\\ipykernel_588\\4248089460.py:19: FutureWarning: The frame.append method is deprecated and will be removed from pandas in a future version. Use pandas.concat instead.\n",
      "  results = results.append(query_data, ignore_index=True)\n",
      "C:\\Users\\zwei\\AppData\\Local\\Temp\\ipykernel_588\\4248089460.py:19: FutureWarning: The frame.append method is deprecated and will be removed from pandas in a future version. Use pandas.concat instead.\n",
      "  results = results.append(query_data, ignore_index=True)\n",
      "C:\\Users\\zwei\\AppData\\Local\\Temp\\ipykernel_588\\4248089460.py:19: FutureWarning: The frame.append method is deprecated and will be removed from pandas in a future version. Use pandas.concat instead.\n",
      "  results = results.append(query_data, ignore_index=True)\n",
      "C:\\Users\\zwei\\AppData\\Local\\Temp\\ipykernel_588\\4248089460.py:19: FutureWarning: The frame.append method is deprecated and will be removed from pandas in a future version. Use pandas.concat instead.\n",
      "  results = results.append(query_data, ignore_index=True)\n",
      "C:\\Users\\zwei\\AppData\\Local\\Temp\\ipykernel_588\\4248089460.py:19: FutureWarning: The frame.append method is deprecated and will be removed from pandas in a future version. Use pandas.concat instead.\n",
      "  results = results.append(query_data, ignore_index=True)\n",
      "C:\\Users\\zwei\\AppData\\Local\\Temp\\ipykernel_588\\4248089460.py:19: FutureWarning: The frame.append method is deprecated and will be removed from pandas in a future version. Use pandas.concat instead.\n",
      "  results = results.append(query_data, ignore_index=True)\n",
      "C:\\Users\\zwei\\AppData\\Local\\Temp\\ipykernel_588\\4248089460.py:19: FutureWarning: The frame.append method is deprecated and will be removed from pandas in a future version. Use pandas.concat instead.\n",
      "  results = results.append(query_data, ignore_index=True)\n",
      "C:\\Users\\zwei\\AppData\\Local\\Temp\\ipykernel_588\\4248089460.py:19: FutureWarning: The frame.append method is deprecated and will be removed from pandas in a future version. Use pandas.concat instead.\n",
      "  results = results.append(query_data, ignore_index=True)\n",
      "C:\\Users\\zwei\\AppData\\Local\\Temp\\ipykernel_588\\4248089460.py:19: FutureWarning: The frame.append method is deprecated and will be removed from pandas in a future version. Use pandas.concat instead.\n",
      "  results = results.append(query_data, ignore_index=True)\n",
      "C:\\Users\\zwei\\AppData\\Local\\Temp\\ipykernel_588\\4248089460.py:19: FutureWarning: The frame.append method is deprecated and will be removed from pandas in a future version. Use pandas.concat instead.\n",
      "  results = results.append(query_data, ignore_index=True)\n",
      "C:\\Users\\zwei\\AppData\\Local\\Temp\\ipykernel_588\\4248089460.py:19: FutureWarning: The frame.append method is deprecated and will be removed from pandas in a future version. Use pandas.concat instead.\n",
      "  results = results.append(query_data, ignore_index=True)\n",
      "C:\\Users\\zwei\\AppData\\Local\\Temp\\ipykernel_588\\4248089460.py:19: FutureWarning: The frame.append method is deprecated and will be removed from pandas in a future version. Use pandas.concat instead.\n",
      "  results = results.append(query_data, ignore_index=True)\n",
      "C:\\Users\\zwei\\AppData\\Local\\Temp\\ipykernel_588\\4248089460.py:19: FutureWarning: The frame.append method is deprecated and will be removed from pandas in a future version. Use pandas.concat instead.\n",
      "  results = results.append(query_data, ignore_index=True)\n",
      "C:\\Users\\zwei\\AppData\\Local\\Temp\\ipykernel_588\\4248089460.py:19: FutureWarning: The frame.append method is deprecated and will be removed from pandas in a future version. Use pandas.concat instead.\n",
      "  results = results.append(query_data, ignore_index=True)\n",
      "C:\\Users\\zwei\\AppData\\Local\\Temp\\ipykernel_588\\4248089460.py:19: FutureWarning: The frame.append method is deprecated and will be removed from pandas in a future version. Use pandas.concat instead.\n",
      "  results = results.append(query_data, ignore_index=True)\n",
      "C:\\Users\\zwei\\AppData\\Local\\Temp\\ipykernel_588\\4248089460.py:19: FutureWarning: The frame.append method is deprecated and will be removed from pandas in a future version. Use pandas.concat instead.\n",
      "  results = results.append(query_data, ignore_index=True)\n",
      "C:\\Users\\zwei\\AppData\\Local\\Temp\\ipykernel_588\\4248089460.py:19: FutureWarning: The frame.append method is deprecated and will be removed from pandas in a future version. Use pandas.concat instead.\n",
      "  results = results.append(query_data, ignore_index=True)\n",
      "C:\\Users\\zwei\\AppData\\Local\\Temp\\ipykernel_588\\4248089460.py:19: FutureWarning: The frame.append method is deprecated and will be removed from pandas in a future version. Use pandas.concat instead.\n",
      "  results = results.append(query_data, ignore_index=True)\n",
      "C:\\Users\\zwei\\AppData\\Local\\Temp\\ipykernel_588\\4248089460.py:19: FutureWarning: The frame.append method is deprecated and will be removed from pandas in a future version. Use pandas.concat instead.\n",
      "  results = results.append(query_data, ignore_index=True)\n",
      "C:\\Users\\zwei\\AppData\\Local\\Temp\\ipykernel_588\\4248089460.py:19: FutureWarning: The frame.append method is deprecated and will be removed from pandas in a future version. Use pandas.concat instead.\n",
      "  results = results.append(query_data, ignore_index=True)\n",
      "C:\\Users\\zwei\\AppData\\Local\\Temp\\ipykernel_588\\4248089460.py:19: FutureWarning: The frame.append method is deprecated and will be removed from pandas in a future version. Use pandas.concat instead.\n",
      "  results = results.append(query_data, ignore_index=True)\n"
     ]
    },
    {
     "name": "stderr",
     "output_type": "stream",
     "text": [
      "C:\\Users\\zwei\\AppData\\Local\\Temp\\ipykernel_588\\4248089460.py:19: FutureWarning: The frame.append method is deprecated and will be removed from pandas in a future version. Use pandas.concat instead.\n",
      "  results = results.append(query_data, ignore_index=True)\n",
      "C:\\Users\\zwei\\AppData\\Local\\Temp\\ipykernel_588\\4248089460.py:19: FutureWarning: The frame.append method is deprecated and will be removed from pandas in a future version. Use pandas.concat instead.\n",
      "  results = results.append(query_data, ignore_index=True)\n",
      "C:\\Users\\zwei\\AppData\\Local\\Temp\\ipykernel_588\\4248089460.py:19: FutureWarning: The frame.append method is deprecated and will be removed from pandas in a future version. Use pandas.concat instead.\n",
      "  results = results.append(query_data, ignore_index=True)\n",
      "C:\\Users\\zwei\\AppData\\Local\\Temp\\ipykernel_588\\4248089460.py:19: FutureWarning: The frame.append method is deprecated and will be removed from pandas in a future version. Use pandas.concat instead.\n",
      "  results = results.append(query_data, ignore_index=True)\n",
      "C:\\Users\\zwei\\AppData\\Local\\Temp\\ipykernel_588\\4248089460.py:19: FutureWarning: The frame.append method is deprecated and will be removed from pandas in a future version. Use pandas.concat instead.\n",
      "  results = results.append(query_data, ignore_index=True)\n",
      "C:\\Users\\zwei\\AppData\\Local\\Temp\\ipykernel_588\\4248089460.py:19: FutureWarning: The frame.append method is deprecated and will be removed from pandas in a future version. Use pandas.concat instead.\n",
      "  results = results.append(query_data, ignore_index=True)\n",
      "C:\\Users\\zwei\\AppData\\Local\\Temp\\ipykernel_588\\4248089460.py:19: FutureWarning: The frame.append method is deprecated and will be removed from pandas in a future version. Use pandas.concat instead.\n",
      "  results = results.append(query_data, ignore_index=True)\n",
      "C:\\Users\\zwei\\AppData\\Local\\Temp\\ipykernel_588\\4248089460.py:19: FutureWarning: The frame.append method is deprecated and will be removed from pandas in a future version. Use pandas.concat instead.\n",
      "  results = results.append(query_data, ignore_index=True)\n",
      "C:\\Users\\zwei\\AppData\\Local\\Temp\\ipykernel_588\\4248089460.py:19: FutureWarning: The frame.append method is deprecated and will be removed from pandas in a future version. Use pandas.concat instead.\n",
      "  results = results.append(query_data, ignore_index=True)\n",
      "C:\\Users\\zwei\\AppData\\Local\\Temp\\ipykernel_588\\4248089460.py:19: FutureWarning: The frame.append method is deprecated and will be removed from pandas in a future version. Use pandas.concat instead.\n",
      "  results = results.append(query_data, ignore_index=True)\n",
      "C:\\Users\\zwei\\AppData\\Local\\Temp\\ipykernel_588\\4248089460.py:19: FutureWarning: The frame.append method is deprecated and will be removed from pandas in a future version. Use pandas.concat instead.\n",
      "  results = results.append(query_data, ignore_index=True)\n",
      "C:\\Users\\zwei\\AppData\\Local\\Temp\\ipykernel_588\\4248089460.py:19: FutureWarning: The frame.append method is deprecated and will be removed from pandas in a future version. Use pandas.concat instead.\n",
      "  results = results.append(query_data, ignore_index=True)\n",
      "C:\\Users\\zwei\\AppData\\Local\\Temp\\ipykernel_588\\4248089460.py:19: FutureWarning: The frame.append method is deprecated and will be removed from pandas in a future version. Use pandas.concat instead.\n",
      "  results = results.append(query_data, ignore_index=True)\n",
      "C:\\Users\\zwei\\AppData\\Local\\Temp\\ipykernel_588\\4248089460.py:19: FutureWarning: The frame.append method is deprecated and will be removed from pandas in a future version. Use pandas.concat instead.\n",
      "  results = results.append(query_data, ignore_index=True)\n",
      "C:\\Users\\zwei\\AppData\\Local\\Temp\\ipykernel_588\\4248089460.py:19: FutureWarning: The frame.append method is deprecated and will be removed from pandas in a future version. Use pandas.concat instead.\n",
      "  results = results.append(query_data, ignore_index=True)\n",
      "C:\\Users\\zwei\\AppData\\Local\\Temp\\ipykernel_588\\4248089460.py:19: FutureWarning: The frame.append method is deprecated and will be removed from pandas in a future version. Use pandas.concat instead.\n",
      "  results = results.append(query_data, ignore_index=True)\n",
      "C:\\Users\\zwei\\AppData\\Local\\Temp\\ipykernel_588\\4248089460.py:19: FutureWarning: The frame.append method is deprecated and will be removed from pandas in a future version. Use pandas.concat instead.\n",
      "  results = results.append(query_data, ignore_index=True)\n",
      "C:\\Users\\zwei\\AppData\\Local\\Temp\\ipykernel_588\\4248089460.py:19: FutureWarning: The frame.append method is deprecated and will be removed from pandas in a future version. Use pandas.concat instead.\n",
      "  results = results.append(query_data, ignore_index=True)\n",
      "C:\\Users\\zwei\\AppData\\Local\\Temp\\ipykernel_588\\4248089460.py:19: FutureWarning: The frame.append method is deprecated and will be removed from pandas in a future version. Use pandas.concat instead.\n",
      "  results = results.append(query_data, ignore_index=True)\n",
      "C:\\Users\\zwei\\AppData\\Local\\Temp\\ipykernel_588\\4248089460.py:19: FutureWarning: The frame.append method is deprecated and will be removed from pandas in a future version. Use pandas.concat instead.\n",
      "  results = results.append(query_data, ignore_index=True)\n",
      "C:\\Users\\zwei\\AppData\\Local\\Temp\\ipykernel_588\\4248089460.py:19: FutureWarning: The frame.append method is deprecated and will be removed from pandas in a future version. Use pandas.concat instead.\n",
      "  results = results.append(query_data, ignore_index=True)\n",
      "C:\\Users\\zwei\\AppData\\Local\\Temp\\ipykernel_588\\4248089460.py:19: FutureWarning: The frame.append method is deprecated and will be removed from pandas in a future version. Use pandas.concat instead.\n",
      "  results = results.append(query_data, ignore_index=True)\n",
      "C:\\Users\\zwei\\AppData\\Local\\Temp\\ipykernel_588\\4248089460.py:19: FutureWarning: The frame.append method is deprecated and will be removed from pandas in a future version. Use pandas.concat instead.\n",
      "  results = results.append(query_data, ignore_index=True)\n",
      "C:\\Users\\zwei\\AppData\\Local\\Temp\\ipykernel_588\\4248089460.py:19: FutureWarning: The frame.append method is deprecated and will be removed from pandas in a future version. Use pandas.concat instead.\n",
      "  results = results.append(query_data, ignore_index=True)\n",
      "C:\\Users\\zwei\\AppData\\Local\\Temp\\ipykernel_588\\4248089460.py:19: FutureWarning: The frame.append method is deprecated and will be removed from pandas in a future version. Use pandas.concat instead.\n",
      "  results = results.append(query_data, ignore_index=True)\n",
      "C:\\Users\\zwei\\AppData\\Local\\Temp\\ipykernel_588\\4248089460.py:19: FutureWarning: The frame.append method is deprecated and will be removed from pandas in a future version. Use pandas.concat instead.\n",
      "  results = results.append(query_data, ignore_index=True)\n",
      "C:\\Users\\zwei\\AppData\\Local\\Temp\\ipykernel_588\\4248089460.py:19: FutureWarning: The frame.append method is deprecated and will be removed from pandas in a future version. Use pandas.concat instead.\n",
      "  results = results.append(query_data, ignore_index=True)\n",
      "C:\\Users\\zwei\\AppData\\Local\\Temp\\ipykernel_588\\4248089460.py:19: FutureWarning: The frame.append method is deprecated and will be removed from pandas in a future version. Use pandas.concat instead.\n",
      "  results = results.append(query_data, ignore_index=True)\n",
      "C:\\Users\\zwei\\AppData\\Local\\Temp\\ipykernel_588\\4248089460.py:19: FutureWarning: The frame.append method is deprecated and will be removed from pandas in a future version. Use pandas.concat instead.\n",
      "  results = results.append(query_data, ignore_index=True)\n",
      "C:\\Users\\zwei\\AppData\\Local\\Temp\\ipykernel_588\\4248089460.py:19: FutureWarning: The frame.append method is deprecated and will be removed from pandas in a future version. Use pandas.concat instead.\n",
      "  results = results.append(query_data, ignore_index=True)\n",
      "C:\\Users\\zwei\\AppData\\Local\\Temp\\ipykernel_588\\4248089460.py:19: FutureWarning: The frame.append method is deprecated and will be removed from pandas in a future version. Use pandas.concat instead.\n",
      "  results = results.append(query_data, ignore_index=True)\n",
      "C:\\Users\\zwei\\AppData\\Local\\Temp\\ipykernel_588\\4248089460.py:19: FutureWarning: The frame.append method is deprecated and will be removed from pandas in a future version. Use pandas.concat instead.\n",
      "  results = results.append(query_data, ignore_index=True)\n",
      "C:\\Users\\zwei\\AppData\\Local\\Temp\\ipykernel_588\\4248089460.py:19: FutureWarning: The frame.append method is deprecated and will be removed from pandas in a future version. Use pandas.concat instead.\n",
      "  results = results.append(query_data, ignore_index=True)\n",
      "C:\\Users\\zwei\\AppData\\Local\\Temp\\ipykernel_588\\4248089460.py:19: FutureWarning: The frame.append method is deprecated and will be removed from pandas in a future version. Use pandas.concat instead.\n",
      "  results = results.append(query_data, ignore_index=True)\n"
     ]
    },
    {
     "name": "stderr",
     "output_type": "stream",
     "text": [
      "C:\\Users\\zwei\\AppData\\Local\\Temp\\ipykernel_588\\4248089460.py:19: FutureWarning: The frame.append method is deprecated and will be removed from pandas in a future version. Use pandas.concat instead.\n",
      "  results = results.append(query_data, ignore_index=True)\n",
      "C:\\Users\\zwei\\AppData\\Local\\Temp\\ipykernel_588\\4248089460.py:19: FutureWarning: The frame.append method is deprecated and will be removed from pandas in a future version. Use pandas.concat instead.\n",
      "  results = results.append(query_data, ignore_index=True)\n",
      "C:\\Users\\zwei\\AppData\\Local\\Temp\\ipykernel_588\\4248089460.py:19: FutureWarning: The frame.append method is deprecated and will be removed from pandas in a future version. Use pandas.concat instead.\n",
      "  results = results.append(query_data, ignore_index=True)\n",
      "C:\\Users\\zwei\\AppData\\Local\\Temp\\ipykernel_588\\4248089460.py:19: FutureWarning: The frame.append method is deprecated and will be removed from pandas in a future version. Use pandas.concat instead.\n",
      "  results = results.append(query_data, ignore_index=True)\n",
      "C:\\Users\\zwei\\AppData\\Local\\Temp\\ipykernel_588\\4248089460.py:19: FutureWarning: The frame.append method is deprecated and will be removed from pandas in a future version. Use pandas.concat instead.\n",
      "  results = results.append(query_data, ignore_index=True)\n",
      "C:\\Users\\zwei\\AppData\\Local\\Temp\\ipykernel_588\\4248089460.py:19: FutureWarning: The frame.append method is deprecated and will be removed from pandas in a future version. Use pandas.concat instead.\n",
      "  results = results.append(query_data, ignore_index=True)\n",
      "C:\\Users\\zwei\\AppData\\Local\\Temp\\ipykernel_588\\4248089460.py:19: FutureWarning: The frame.append method is deprecated and will be removed from pandas in a future version. Use pandas.concat instead.\n",
      "  results = results.append(query_data, ignore_index=True)\n",
      "C:\\Users\\zwei\\AppData\\Local\\Temp\\ipykernel_588\\4248089460.py:19: FutureWarning: The frame.append method is deprecated and will be removed from pandas in a future version. Use pandas.concat instead.\n",
      "  results = results.append(query_data, ignore_index=True)\n",
      "C:\\Users\\zwei\\AppData\\Local\\Temp\\ipykernel_588\\4248089460.py:19: FutureWarning: The frame.append method is deprecated and will be removed from pandas in a future version. Use pandas.concat instead.\n",
      "  results = results.append(query_data, ignore_index=True)\n",
      "C:\\Users\\zwei\\AppData\\Local\\Temp\\ipykernel_588\\4248089460.py:19: FutureWarning: The frame.append method is deprecated and will be removed from pandas in a future version. Use pandas.concat instead.\n",
      "  results = results.append(query_data, ignore_index=True)\n",
      "C:\\Users\\zwei\\AppData\\Local\\Temp\\ipykernel_588\\4248089460.py:19: FutureWarning: The frame.append method is deprecated and will be removed from pandas in a future version. Use pandas.concat instead.\n",
      "  results = results.append(query_data, ignore_index=True)\n",
      "C:\\Users\\zwei\\AppData\\Local\\Temp\\ipykernel_588\\4248089460.py:19: FutureWarning: The frame.append method is deprecated and will be removed from pandas in a future version. Use pandas.concat instead.\n",
      "  results = results.append(query_data, ignore_index=True)\n",
      "C:\\Users\\zwei\\AppData\\Local\\Temp\\ipykernel_588\\4248089460.py:19: FutureWarning: The frame.append method is deprecated and will be removed from pandas in a future version. Use pandas.concat instead.\n",
      "  results = results.append(query_data, ignore_index=True)\n",
      "C:\\Users\\zwei\\AppData\\Local\\Temp\\ipykernel_588\\4248089460.py:19: FutureWarning: The frame.append method is deprecated and will be removed from pandas in a future version. Use pandas.concat instead.\n",
      "  results = results.append(query_data, ignore_index=True)\n",
      "C:\\Users\\zwei\\AppData\\Local\\Temp\\ipykernel_588\\4248089460.py:19: FutureWarning: The frame.append method is deprecated and will be removed from pandas in a future version. Use pandas.concat instead.\n",
      "  results = results.append(query_data, ignore_index=True)\n",
      "C:\\Users\\zwei\\AppData\\Local\\Temp\\ipykernel_588\\4248089460.py:19: FutureWarning: The frame.append method is deprecated and will be removed from pandas in a future version. Use pandas.concat instead.\n",
      "  results = results.append(query_data, ignore_index=True)\n",
      "C:\\Users\\zwei\\AppData\\Local\\Temp\\ipykernel_588\\4248089460.py:19: FutureWarning: The frame.append method is deprecated and will be removed from pandas in a future version. Use pandas.concat instead.\n",
      "  results = results.append(query_data, ignore_index=True)\n",
      "C:\\Users\\zwei\\AppData\\Local\\Temp\\ipykernel_588\\4248089460.py:19: FutureWarning: The frame.append method is deprecated and will be removed from pandas in a future version. Use pandas.concat instead.\n",
      "  results = results.append(query_data, ignore_index=True)\n",
      "C:\\Users\\zwei\\AppData\\Local\\Temp\\ipykernel_588\\4248089460.py:19: FutureWarning: The frame.append method is deprecated and will be removed from pandas in a future version. Use pandas.concat instead.\n",
      "  results = results.append(query_data, ignore_index=True)\n",
      "C:\\Users\\zwei\\AppData\\Local\\Temp\\ipykernel_588\\4248089460.py:19: FutureWarning: The frame.append method is deprecated and will be removed from pandas in a future version. Use pandas.concat instead.\n",
      "  results = results.append(query_data, ignore_index=True)\n",
      "C:\\Users\\zwei\\AppData\\Local\\Temp\\ipykernel_588\\4248089460.py:19: FutureWarning: The frame.append method is deprecated and will be removed from pandas in a future version. Use pandas.concat instead.\n",
      "  results = results.append(query_data, ignore_index=True)\n",
      "C:\\Users\\zwei\\AppData\\Local\\Temp\\ipykernel_588\\4248089460.py:19: FutureWarning: The frame.append method is deprecated and will be removed from pandas in a future version. Use pandas.concat instead.\n",
      "  results = results.append(query_data, ignore_index=True)\n",
      "C:\\Users\\zwei\\AppData\\Local\\Temp\\ipykernel_588\\4248089460.py:19: FutureWarning: The frame.append method is deprecated and will be removed from pandas in a future version. Use pandas.concat instead.\n",
      "  results = results.append(query_data, ignore_index=True)\n",
      "C:\\Users\\zwei\\AppData\\Local\\Temp\\ipykernel_588\\4248089460.py:19: FutureWarning: The frame.append method is deprecated and will be removed from pandas in a future version. Use pandas.concat instead.\n",
      "  results = results.append(query_data, ignore_index=True)\n",
      "C:\\Users\\zwei\\AppData\\Local\\Temp\\ipykernel_588\\4248089460.py:19: FutureWarning: The frame.append method is deprecated and will be removed from pandas in a future version. Use pandas.concat instead.\n",
      "  results = results.append(query_data, ignore_index=True)\n",
      "C:\\Users\\zwei\\AppData\\Local\\Temp\\ipykernel_588\\4248089460.py:19: FutureWarning: The frame.append method is deprecated and will be removed from pandas in a future version. Use pandas.concat instead.\n",
      "  results = results.append(query_data, ignore_index=True)\n",
      "C:\\Users\\zwei\\AppData\\Local\\Temp\\ipykernel_588\\4248089460.py:19: FutureWarning: The frame.append method is deprecated and will be removed from pandas in a future version. Use pandas.concat instead.\n",
      "  results = results.append(query_data, ignore_index=True)\n",
      "C:\\Users\\zwei\\AppData\\Local\\Temp\\ipykernel_588\\4248089460.py:19: FutureWarning: The frame.append method is deprecated and will be removed from pandas in a future version. Use pandas.concat instead.\n",
      "  results = results.append(query_data, ignore_index=True)\n",
      "C:\\Users\\zwei\\AppData\\Local\\Temp\\ipykernel_588\\4248089460.py:19: FutureWarning: The frame.append method is deprecated and will be removed from pandas in a future version. Use pandas.concat instead.\n",
      "  results = results.append(query_data, ignore_index=True)\n",
      "C:\\Users\\zwei\\AppData\\Local\\Temp\\ipykernel_588\\4248089460.py:19: FutureWarning: The frame.append method is deprecated and will be removed from pandas in a future version. Use pandas.concat instead.\n",
      "  results = results.append(query_data, ignore_index=True)\n",
      "C:\\Users\\zwei\\AppData\\Local\\Temp\\ipykernel_588\\4248089460.py:19: FutureWarning: The frame.append method is deprecated and will be removed from pandas in a future version. Use pandas.concat instead.\n",
      "  results = results.append(query_data, ignore_index=True)\n"
     ]
    },
    {
     "name": "stdout",
     "output_type": "stream",
     "text": [
      "An error occurred: 'NoneType' object does not support item assignment\n"
     ]
    },
    {
     "name": "stderr",
     "output_type": "stream",
     "text": [
      "C:\\Users\\zwei\\AppData\\Local\\Temp\\ipykernel_588\\4248089460.py:19: FutureWarning: The frame.append method is deprecated and will be removed from pandas in a future version. Use pandas.concat instead.\n",
      "  results = results.append(query_data, ignore_index=True)\n",
      "C:\\Users\\zwei\\AppData\\Local\\Temp\\ipykernel_588\\4248089460.py:19: FutureWarning: The frame.append method is deprecated and will be removed from pandas in a future version. Use pandas.concat instead.\n",
      "  results = results.append(query_data, ignore_index=True)\n",
      "C:\\Users\\zwei\\AppData\\Local\\Temp\\ipykernel_588\\4248089460.py:19: FutureWarning: The frame.append method is deprecated and will be removed from pandas in a future version. Use pandas.concat instead.\n",
      "  results = results.append(query_data, ignore_index=True)\n",
      "C:\\Users\\zwei\\AppData\\Local\\Temp\\ipykernel_588\\4248089460.py:19: FutureWarning: The frame.append method is deprecated and will be removed from pandas in a future version. Use pandas.concat instead.\n",
      "  results = results.append(query_data, ignore_index=True)\n",
      "C:\\Users\\zwei\\AppData\\Local\\Temp\\ipykernel_588\\4248089460.py:19: FutureWarning: The frame.append method is deprecated and will be removed from pandas in a future version. Use pandas.concat instead.\n",
      "  results = results.append(query_data, ignore_index=True)\n"
     ]
    },
    {
     "name": "stdout",
     "output_type": "stream",
     "text": [
      "An error occurred: 'NoneType' object does not support item assignment\n"
     ]
    },
    {
     "name": "stderr",
     "output_type": "stream",
     "text": [
      "C:\\Users\\zwei\\AppData\\Local\\Temp\\ipykernel_588\\4248089460.py:19: FutureWarning: The frame.append method is deprecated and will be removed from pandas in a future version. Use pandas.concat instead.\n",
      "  results = results.append(query_data, ignore_index=True)\n",
      "C:\\Users\\zwei\\AppData\\Local\\Temp\\ipykernel_588\\4248089460.py:19: FutureWarning: The frame.append method is deprecated and will be removed from pandas in a future version. Use pandas.concat instead.\n",
      "  results = results.append(query_data, ignore_index=True)\n",
      "C:\\Users\\zwei\\AppData\\Local\\Temp\\ipykernel_588\\4248089460.py:19: FutureWarning: The frame.append method is deprecated and will be removed from pandas in a future version. Use pandas.concat instead.\n",
      "  results = results.append(query_data, ignore_index=True)\n",
      "C:\\Users\\zwei\\AppData\\Local\\Temp\\ipykernel_588\\4248089460.py:19: FutureWarning: The frame.append method is deprecated and will be removed from pandas in a future version. Use pandas.concat instead.\n",
      "  results = results.append(query_data, ignore_index=True)\n",
      "C:\\Users\\zwei\\AppData\\Local\\Temp\\ipykernel_588\\4248089460.py:19: FutureWarning: The frame.append method is deprecated and will be removed from pandas in a future version. Use pandas.concat instead.\n",
      "  results = results.append(query_data, ignore_index=True)\n",
      "C:\\Users\\zwei\\AppData\\Local\\Temp\\ipykernel_588\\4248089460.py:19: FutureWarning: The frame.append method is deprecated and will be removed from pandas in a future version. Use pandas.concat instead.\n",
      "  results = results.append(query_data, ignore_index=True)\n",
      "C:\\Users\\zwei\\AppData\\Local\\Temp\\ipykernel_588\\4248089460.py:19: FutureWarning: The frame.append method is deprecated and will be removed from pandas in a future version. Use pandas.concat instead.\n",
      "  results = results.append(query_data, ignore_index=True)\n",
      "C:\\Users\\zwei\\AppData\\Local\\Temp\\ipykernel_588\\4248089460.py:19: FutureWarning: The frame.append method is deprecated and will be removed from pandas in a future version. Use pandas.concat instead.\n",
      "  results = results.append(query_data, ignore_index=True)\n",
      "C:\\Users\\zwei\\AppData\\Local\\Temp\\ipykernel_588\\4248089460.py:19: FutureWarning: The frame.append method is deprecated and will be removed from pandas in a future version. Use pandas.concat instead.\n",
      "  results = results.append(query_data, ignore_index=True)\n",
      "C:\\Users\\zwei\\AppData\\Local\\Temp\\ipykernel_588\\4248089460.py:19: FutureWarning: The frame.append method is deprecated and will be removed from pandas in a future version. Use pandas.concat instead.\n",
      "  results = results.append(query_data, ignore_index=True)\n",
      "C:\\Users\\zwei\\AppData\\Local\\Temp\\ipykernel_588\\4248089460.py:19: FutureWarning: The frame.append method is deprecated and will be removed from pandas in a future version. Use pandas.concat instead.\n",
      "  results = results.append(query_data, ignore_index=True)\n",
      "C:\\Users\\zwei\\AppData\\Local\\Temp\\ipykernel_588\\4248089460.py:19: FutureWarning: The frame.append method is deprecated and will be removed from pandas in a future version. Use pandas.concat instead.\n",
      "  results = results.append(query_data, ignore_index=True)\n",
      "C:\\Users\\zwei\\AppData\\Local\\Temp\\ipykernel_588\\4248089460.py:19: FutureWarning: The frame.append method is deprecated and will be removed from pandas in a future version. Use pandas.concat instead.\n",
      "  results = results.append(query_data, ignore_index=True)\n",
      "C:\\Users\\zwei\\AppData\\Local\\Temp\\ipykernel_588\\4248089460.py:19: FutureWarning: The frame.append method is deprecated and will be removed from pandas in a future version. Use pandas.concat instead.\n",
      "  results = results.append(query_data, ignore_index=True)\n",
      "C:\\Users\\zwei\\AppData\\Local\\Temp\\ipykernel_588\\4248089460.py:19: FutureWarning: The frame.append method is deprecated and will be removed from pandas in a future version. Use pandas.concat instead.\n",
      "  results = results.append(query_data, ignore_index=True)\n",
      "C:\\Users\\zwei\\AppData\\Local\\Temp\\ipykernel_588\\4248089460.py:19: FutureWarning: The frame.append method is deprecated and will be removed from pandas in a future version. Use pandas.concat instead.\n",
      "  results = results.append(query_data, ignore_index=True)\n",
      "C:\\Users\\zwei\\AppData\\Local\\Temp\\ipykernel_588\\4248089460.py:19: FutureWarning: The frame.append method is deprecated and will be removed from pandas in a future version. Use pandas.concat instead.\n",
      "  results = results.append(query_data, ignore_index=True)\n",
      "C:\\Users\\zwei\\AppData\\Local\\Temp\\ipykernel_588\\4248089460.py:19: FutureWarning: The frame.append method is deprecated and will be removed from pandas in a future version. Use pandas.concat instead.\n",
      "  results = results.append(query_data, ignore_index=True)\n",
      "C:\\Users\\zwei\\AppData\\Local\\Temp\\ipykernel_588\\4248089460.py:19: FutureWarning: The frame.append method is deprecated and will be removed from pandas in a future version. Use pandas.concat instead.\n",
      "  results = results.append(query_data, ignore_index=True)\n",
      "C:\\Users\\zwei\\AppData\\Local\\Temp\\ipykernel_588\\4248089460.py:19: FutureWarning: The frame.append method is deprecated and will be removed from pandas in a future version. Use pandas.concat instead.\n",
      "  results = results.append(query_data, ignore_index=True)\n",
      "C:\\Users\\zwei\\AppData\\Local\\Temp\\ipykernel_588\\4248089460.py:19: FutureWarning: The frame.append method is deprecated and will be removed from pandas in a future version. Use pandas.concat instead.\n",
      "  results = results.append(query_data, ignore_index=True)\n",
      "C:\\Users\\zwei\\AppData\\Local\\Temp\\ipykernel_588\\4248089460.py:19: FutureWarning: The frame.append method is deprecated and will be removed from pandas in a future version. Use pandas.concat instead.\n",
      "  results = results.append(query_data, ignore_index=True)\n",
      "C:\\Users\\zwei\\AppData\\Local\\Temp\\ipykernel_588\\4248089460.py:19: FutureWarning: The frame.append method is deprecated and will be removed from pandas in a future version. Use pandas.concat instead.\n",
      "  results = results.append(query_data, ignore_index=True)\n",
      "C:\\Users\\zwei\\AppData\\Local\\Temp\\ipykernel_588\\4248089460.py:19: FutureWarning: The frame.append method is deprecated and will be removed from pandas in a future version. Use pandas.concat instead.\n",
      "  results = results.append(query_data, ignore_index=True)\n",
      "C:\\Users\\zwei\\AppData\\Local\\Temp\\ipykernel_588\\4248089460.py:19: FutureWarning: The frame.append method is deprecated and will be removed from pandas in a future version. Use pandas.concat instead.\n",
      "  results = results.append(query_data, ignore_index=True)\n",
      "C:\\Users\\zwei\\AppData\\Local\\Temp\\ipykernel_588\\4248089460.py:19: FutureWarning: The frame.append method is deprecated and will be removed from pandas in a future version. Use pandas.concat instead.\n",
      "  results = results.append(query_data, ignore_index=True)\n",
      "C:\\Users\\zwei\\AppData\\Local\\Temp\\ipykernel_588\\4248089460.py:19: FutureWarning: The frame.append method is deprecated and will be removed from pandas in a future version. Use pandas.concat instead.\n",
      "  results = results.append(query_data, ignore_index=True)\n",
      "C:\\Users\\zwei\\AppData\\Local\\Temp\\ipykernel_588\\4248089460.py:19: FutureWarning: The frame.append method is deprecated and will be removed from pandas in a future version. Use pandas.concat instead.\n",
      "  results = results.append(query_data, ignore_index=True)\n",
      "C:\\Users\\zwei\\AppData\\Local\\Temp\\ipykernel_588\\4248089460.py:19: FutureWarning: The frame.append method is deprecated and will be removed from pandas in a future version. Use pandas.concat instead.\n",
      "  results = results.append(query_data, ignore_index=True)\n"
     ]
    },
    {
     "name": "stdout",
     "output_type": "stream",
     "text": [
      "An error occurred: 'NoneType' object does not support item assignment\n"
     ]
    },
    {
     "name": "stderr",
     "output_type": "stream",
     "text": [
      "C:\\Users\\zwei\\AppData\\Local\\Temp\\ipykernel_588\\4248089460.py:19: FutureWarning: The frame.append method is deprecated and will be removed from pandas in a future version. Use pandas.concat instead.\n",
      "  results = results.append(query_data, ignore_index=True)\n",
      "C:\\Users\\zwei\\AppData\\Local\\Temp\\ipykernel_588\\4248089460.py:19: FutureWarning: The frame.append method is deprecated and will be removed from pandas in a future version. Use pandas.concat instead.\n",
      "  results = results.append(query_data, ignore_index=True)\n",
      "C:\\Users\\zwei\\AppData\\Local\\Temp\\ipykernel_588\\4248089460.py:19: FutureWarning: The frame.append method is deprecated and will be removed from pandas in a future version. Use pandas.concat instead.\n",
      "  results = results.append(query_data, ignore_index=True)\n",
      "C:\\Users\\zwei\\AppData\\Local\\Temp\\ipykernel_588\\4248089460.py:19: FutureWarning: The frame.append method is deprecated and will be removed from pandas in a future version. Use pandas.concat instead.\n",
      "  results = results.append(query_data, ignore_index=True)\n",
      "C:\\Users\\zwei\\AppData\\Local\\Temp\\ipykernel_588\\4248089460.py:19: FutureWarning: The frame.append method is deprecated and will be removed from pandas in a future version. Use pandas.concat instead.\n",
      "  results = results.append(query_data, ignore_index=True)\n",
      "C:\\Users\\zwei\\AppData\\Local\\Temp\\ipykernel_588\\4248089460.py:19: FutureWarning: The frame.append method is deprecated and will be removed from pandas in a future version. Use pandas.concat instead.\n",
      "  results = results.append(query_data, ignore_index=True)\n",
      "C:\\Users\\zwei\\AppData\\Local\\Temp\\ipykernel_588\\4248089460.py:19: FutureWarning: The frame.append method is deprecated and will be removed from pandas in a future version. Use pandas.concat instead.\n",
      "  results = results.append(query_data, ignore_index=True)\n",
      "C:\\Users\\zwei\\AppData\\Local\\Temp\\ipykernel_588\\4248089460.py:19: FutureWarning: The frame.append method is deprecated and will be removed from pandas in a future version. Use pandas.concat instead.\n",
      "  results = results.append(query_data, ignore_index=True)\n",
      "C:\\Users\\zwei\\AppData\\Local\\Temp\\ipykernel_588\\4248089460.py:19: FutureWarning: The frame.append method is deprecated and will be removed from pandas in a future version. Use pandas.concat instead.\n",
      "  results = results.append(query_data, ignore_index=True)\n",
      "C:\\Users\\zwei\\AppData\\Local\\Temp\\ipykernel_588\\4248089460.py:19: FutureWarning: The frame.append method is deprecated and will be removed from pandas in a future version. Use pandas.concat instead.\n",
      "  results = results.append(query_data, ignore_index=True)\n",
      "C:\\Users\\zwei\\AppData\\Local\\Temp\\ipykernel_588\\4248089460.py:19: FutureWarning: The frame.append method is deprecated and will be removed from pandas in a future version. Use pandas.concat instead.\n",
      "  results = results.append(query_data, ignore_index=True)\n",
      "C:\\Users\\zwei\\AppData\\Local\\Temp\\ipykernel_588\\4248089460.py:19: FutureWarning: The frame.append method is deprecated and will be removed from pandas in a future version. Use pandas.concat instead.\n",
      "  results = results.append(query_data, ignore_index=True)\n",
      "C:\\Users\\zwei\\AppData\\Local\\Temp\\ipykernel_588\\4248089460.py:19: FutureWarning: The frame.append method is deprecated and will be removed from pandas in a future version. Use pandas.concat instead.\n",
      "  results = results.append(query_data, ignore_index=True)\n",
      "C:\\Users\\zwei\\AppData\\Local\\Temp\\ipykernel_588\\4248089460.py:19: FutureWarning: The frame.append method is deprecated and will be removed from pandas in a future version. Use pandas.concat instead.\n",
      "  results = results.append(query_data, ignore_index=True)\n",
      "C:\\Users\\zwei\\AppData\\Local\\Temp\\ipykernel_588\\4248089460.py:19: FutureWarning: The frame.append method is deprecated and will be removed from pandas in a future version. Use pandas.concat instead.\n",
      "  results = results.append(query_data, ignore_index=True)\n",
      "C:\\Users\\zwei\\AppData\\Local\\Temp\\ipykernel_588\\4248089460.py:19: FutureWarning: The frame.append method is deprecated and will be removed from pandas in a future version. Use pandas.concat instead.\n",
      "  results = results.append(query_data, ignore_index=True)\n",
      "C:\\Users\\zwei\\AppData\\Local\\Temp\\ipykernel_588\\4248089460.py:19: FutureWarning: The frame.append method is deprecated and will be removed from pandas in a future version. Use pandas.concat instead.\n",
      "  results = results.append(query_data, ignore_index=True)\n",
      "C:\\Users\\zwei\\AppData\\Local\\Temp\\ipykernel_588\\4248089460.py:19: FutureWarning: The frame.append method is deprecated and will be removed from pandas in a future version. Use pandas.concat instead.\n",
      "  results = results.append(query_data, ignore_index=True)\n",
      "C:\\Users\\zwei\\AppData\\Local\\Temp\\ipykernel_588\\4248089460.py:19: FutureWarning: The frame.append method is deprecated and will be removed from pandas in a future version. Use pandas.concat instead.\n",
      "  results = results.append(query_data, ignore_index=True)\n",
      "C:\\Users\\zwei\\AppData\\Local\\Temp\\ipykernel_588\\4248089460.py:19: FutureWarning: The frame.append method is deprecated and will be removed from pandas in a future version. Use pandas.concat instead.\n",
      "  results = results.append(query_data, ignore_index=True)\n",
      "C:\\Users\\zwei\\AppData\\Local\\Temp\\ipykernel_588\\4248089460.py:19: FutureWarning: The frame.append method is deprecated and will be removed from pandas in a future version. Use pandas.concat instead.\n",
      "  results = results.append(query_data, ignore_index=True)\n",
      "C:\\Users\\zwei\\AppData\\Local\\Temp\\ipykernel_588\\4248089460.py:19: FutureWarning: The frame.append method is deprecated and will be removed from pandas in a future version. Use pandas.concat instead.\n",
      "  results = results.append(query_data, ignore_index=True)\n",
      "C:\\Users\\zwei\\AppData\\Local\\Temp\\ipykernel_588\\4248089460.py:19: FutureWarning: The frame.append method is deprecated and will be removed from pandas in a future version. Use pandas.concat instead.\n",
      "  results = results.append(query_data, ignore_index=True)\n",
      "C:\\Users\\zwei\\AppData\\Local\\Temp\\ipykernel_588\\4248089460.py:19: FutureWarning: The frame.append method is deprecated and will be removed from pandas in a future version. Use pandas.concat instead.\n",
      "  results = results.append(query_data, ignore_index=True)\n",
      "C:\\Users\\zwei\\AppData\\Local\\Temp\\ipykernel_588\\4248089460.py:19: FutureWarning: The frame.append method is deprecated and will be removed from pandas in a future version. Use pandas.concat instead.\n",
      "  results = results.append(query_data, ignore_index=True)\n",
      "C:\\Users\\zwei\\AppData\\Local\\Temp\\ipykernel_588\\4248089460.py:19: FutureWarning: The frame.append method is deprecated and will be removed from pandas in a future version. Use pandas.concat instead.\n",
      "  results = results.append(query_data, ignore_index=True)\n",
      "C:\\Users\\zwei\\AppData\\Local\\Temp\\ipykernel_588\\4248089460.py:19: FutureWarning: The frame.append method is deprecated and will be removed from pandas in a future version. Use pandas.concat instead.\n",
      "  results = results.append(query_data, ignore_index=True)\n",
      "C:\\Users\\zwei\\AppData\\Local\\Temp\\ipykernel_588\\4248089460.py:19: FutureWarning: The frame.append method is deprecated and will be removed from pandas in a future version. Use pandas.concat instead.\n",
      "  results = results.append(query_data, ignore_index=True)\n",
      "C:\\Users\\zwei\\AppData\\Local\\Temp\\ipykernel_588\\4248089460.py:19: FutureWarning: The frame.append method is deprecated and will be removed from pandas in a future version. Use pandas.concat instead.\n",
      "  results = results.append(query_data, ignore_index=True)\n"
     ]
    },
    {
     "name": "stdout",
     "output_type": "stream",
     "text": [
      "An error occurred: 'NoneType' object does not support item assignment\n"
     ]
    },
    {
     "name": "stderr",
     "output_type": "stream",
     "text": [
      "C:\\Users\\zwei\\AppData\\Local\\Temp\\ipykernel_588\\4248089460.py:19: FutureWarning: The frame.append method is deprecated and will be removed from pandas in a future version. Use pandas.concat instead.\n",
      "  results = results.append(query_data, ignore_index=True)\n",
      "C:\\Users\\zwei\\AppData\\Local\\Temp\\ipykernel_588\\4248089460.py:19: FutureWarning: The frame.append method is deprecated and will be removed from pandas in a future version. Use pandas.concat instead.\n",
      "  results = results.append(query_data, ignore_index=True)\n",
      "C:\\Users\\zwei\\AppData\\Local\\Temp\\ipykernel_588\\4248089460.py:19: FutureWarning: The frame.append method is deprecated and will be removed from pandas in a future version. Use pandas.concat instead.\n",
      "  results = results.append(query_data, ignore_index=True)\n",
      "C:\\Users\\zwei\\AppData\\Local\\Temp\\ipykernel_588\\4248089460.py:19: FutureWarning: The frame.append method is deprecated and will be removed from pandas in a future version. Use pandas.concat instead.\n",
      "  results = results.append(query_data, ignore_index=True)\n",
      "C:\\Users\\zwei\\AppData\\Local\\Temp\\ipykernel_588\\4248089460.py:19: FutureWarning: The frame.append method is deprecated and will be removed from pandas in a future version. Use pandas.concat instead.\n",
      "  results = results.append(query_data, ignore_index=True)\n",
      "C:\\Users\\zwei\\AppData\\Local\\Temp\\ipykernel_588\\4248089460.py:19: FutureWarning: The frame.append method is deprecated and will be removed from pandas in a future version. Use pandas.concat instead.\n",
      "  results = results.append(query_data, ignore_index=True)\n",
      "C:\\Users\\zwei\\AppData\\Local\\Temp\\ipykernel_588\\4248089460.py:19: FutureWarning: The frame.append method is deprecated and will be removed from pandas in a future version. Use pandas.concat instead.\n",
      "  results = results.append(query_data, ignore_index=True)\n"
     ]
    },
    {
     "name": "stdout",
     "output_type": "stream",
     "text": [
      "An error occurred: 'NoneType' object does not support item assignment\n"
     ]
    },
    {
     "name": "stderr",
     "output_type": "stream",
     "text": [
      "C:\\Users\\zwei\\AppData\\Local\\Temp\\ipykernel_588\\4248089460.py:19: FutureWarning: The frame.append method is deprecated and will be removed from pandas in a future version. Use pandas.concat instead.\n",
      "  results = results.append(query_data, ignore_index=True)\n",
      "C:\\Users\\zwei\\AppData\\Local\\Temp\\ipykernel_588\\4248089460.py:19: FutureWarning: The frame.append method is deprecated and will be removed from pandas in a future version. Use pandas.concat instead.\n",
      "  results = results.append(query_data, ignore_index=True)\n",
      "C:\\Users\\zwei\\AppData\\Local\\Temp\\ipykernel_588\\4248089460.py:19: FutureWarning: The frame.append method is deprecated and will be removed from pandas in a future version. Use pandas.concat instead.\n",
      "  results = results.append(query_data, ignore_index=True)\n",
      "C:\\Users\\zwei\\AppData\\Local\\Temp\\ipykernel_588\\4248089460.py:19: FutureWarning: The frame.append method is deprecated and will be removed from pandas in a future version. Use pandas.concat instead.\n",
      "  results = results.append(query_data, ignore_index=True)\n",
      "C:\\Users\\zwei\\AppData\\Local\\Temp\\ipykernel_588\\4248089460.py:19: FutureWarning: The frame.append method is deprecated and will be removed from pandas in a future version. Use pandas.concat instead.\n",
      "  results = results.append(query_data, ignore_index=True)\n",
      "C:\\Users\\zwei\\AppData\\Local\\Temp\\ipykernel_588\\4248089460.py:19: FutureWarning: The frame.append method is deprecated and will be removed from pandas in a future version. Use pandas.concat instead.\n",
      "  results = results.append(query_data, ignore_index=True)\n",
      "C:\\Users\\zwei\\AppData\\Local\\Temp\\ipykernel_588\\4248089460.py:19: FutureWarning: The frame.append method is deprecated and will be removed from pandas in a future version. Use pandas.concat instead.\n",
      "  results = results.append(query_data, ignore_index=True)\n",
      "C:\\Users\\zwei\\AppData\\Local\\Temp\\ipykernel_588\\4248089460.py:19: FutureWarning: The frame.append method is deprecated and will be removed from pandas in a future version. Use pandas.concat instead.\n",
      "  results = results.append(query_data, ignore_index=True)\n",
      "C:\\Users\\zwei\\AppData\\Local\\Temp\\ipykernel_588\\4248089460.py:19: FutureWarning: The frame.append method is deprecated and will be removed from pandas in a future version. Use pandas.concat instead.\n",
      "  results = results.append(query_data, ignore_index=True)\n"
     ]
    },
    {
     "name": "stdout",
     "output_type": "stream",
     "text": [
      "An error occurred: 'NoneType' object does not support item assignment\n"
     ]
    },
    {
     "name": "stderr",
     "output_type": "stream",
     "text": [
      "C:\\Users\\zwei\\AppData\\Local\\Temp\\ipykernel_588\\4248089460.py:19: FutureWarning: The frame.append method is deprecated and will be removed from pandas in a future version. Use pandas.concat instead.\n",
      "  results = results.append(query_data, ignore_index=True)\n",
      "C:\\Users\\zwei\\AppData\\Local\\Temp\\ipykernel_588\\4248089460.py:19: FutureWarning: The frame.append method is deprecated and will be removed from pandas in a future version. Use pandas.concat instead.\n",
      "  results = results.append(query_data, ignore_index=True)\n",
      "C:\\Users\\zwei\\AppData\\Local\\Temp\\ipykernel_588\\4248089460.py:19: FutureWarning: The frame.append method is deprecated and will be removed from pandas in a future version. Use pandas.concat instead.\n",
      "  results = results.append(query_data, ignore_index=True)\n"
     ]
    },
    {
     "name": "stdout",
     "output_type": "stream",
     "text": [
      "An error occurred: 'NoneType' object does not support item assignment\n"
     ]
    },
    {
     "name": "stderr",
     "output_type": "stream",
     "text": [
      "C:\\Users\\zwei\\AppData\\Local\\Temp\\ipykernel_588\\4248089460.py:19: FutureWarning: The frame.append method is deprecated and will be removed from pandas in a future version. Use pandas.concat instead.\n",
      "  results = results.append(query_data, ignore_index=True)\n",
      "C:\\Users\\zwei\\AppData\\Local\\Temp\\ipykernel_588\\4248089460.py:19: FutureWarning: The frame.append method is deprecated and will be removed from pandas in a future version. Use pandas.concat instead.\n",
      "  results = results.append(query_data, ignore_index=True)\n",
      "C:\\Users\\zwei\\AppData\\Local\\Temp\\ipykernel_588\\4248089460.py:19: FutureWarning: The frame.append method is deprecated and will be removed from pandas in a future version. Use pandas.concat instead.\n",
      "  results = results.append(query_data, ignore_index=True)\n"
     ]
    },
    {
     "name": "stdout",
     "output_type": "stream",
     "text": [
      "An error occurred: 'NoneType' object does not support item assignment\n"
     ]
    },
    {
     "name": "stderr",
     "output_type": "stream",
     "text": [
      "C:\\Users\\zwei\\AppData\\Local\\Temp\\ipykernel_588\\4248089460.py:19: FutureWarning: The frame.append method is deprecated and will be removed from pandas in a future version. Use pandas.concat instead.\n",
      "  results = results.append(query_data, ignore_index=True)\n",
      "C:\\Users\\zwei\\AppData\\Local\\Temp\\ipykernel_588\\4248089460.py:19: FutureWarning: The frame.append method is deprecated and will be removed from pandas in a future version. Use pandas.concat instead.\n",
      "  results = results.append(query_data, ignore_index=True)\n",
      "C:\\Users\\zwei\\AppData\\Local\\Temp\\ipykernel_588\\4248089460.py:19: FutureWarning: The frame.append method is deprecated and will be removed from pandas in a future version. Use pandas.concat instead.\n",
      "  results = results.append(query_data, ignore_index=True)\n",
      "C:\\Users\\zwei\\AppData\\Local\\Temp\\ipykernel_588\\4248089460.py:19: FutureWarning: The frame.append method is deprecated and will be removed from pandas in a future version. Use pandas.concat instead.\n",
      "  results = results.append(query_data, ignore_index=True)\n",
      "C:\\Users\\zwei\\AppData\\Local\\Temp\\ipykernel_588\\4248089460.py:19: FutureWarning: The frame.append method is deprecated and will be removed from pandas in a future version. Use pandas.concat instead.\n",
      "  results = results.append(query_data, ignore_index=True)\n",
      "C:\\Users\\zwei\\AppData\\Local\\Temp\\ipykernel_588\\4248089460.py:19: FutureWarning: The frame.append method is deprecated and will be removed from pandas in a future version. Use pandas.concat instead.\n",
      "  results = results.append(query_data, ignore_index=True)\n",
      "C:\\Users\\zwei\\AppData\\Local\\Temp\\ipykernel_588\\4248089460.py:19: FutureWarning: The frame.append method is deprecated and will be removed from pandas in a future version. Use pandas.concat instead.\n",
      "  results = results.append(query_data, ignore_index=True)\n"
     ]
    },
    {
     "name": "stdout",
     "output_type": "stream",
     "text": [
      "An error occurred: 'NoneType' object does not support item assignment\n"
     ]
    },
    {
     "name": "stderr",
     "output_type": "stream",
     "text": [
      "C:\\Users\\zwei\\AppData\\Local\\Temp\\ipykernel_588\\4248089460.py:19: FutureWarning: The frame.append method is deprecated and will be removed from pandas in a future version. Use pandas.concat instead.\n",
      "  results = results.append(query_data, ignore_index=True)\n",
      "C:\\Users\\zwei\\AppData\\Local\\Temp\\ipykernel_588\\4248089460.py:19: FutureWarning: The frame.append method is deprecated and will be removed from pandas in a future version. Use pandas.concat instead.\n",
      "  results = results.append(query_data, ignore_index=True)\n",
      "C:\\Users\\zwei\\AppData\\Local\\Temp\\ipykernel_588\\4248089460.py:19: FutureWarning: The frame.append method is deprecated and will be removed from pandas in a future version. Use pandas.concat instead.\n",
      "  results = results.append(query_data, ignore_index=True)\n",
      "C:\\Users\\zwei\\AppData\\Local\\Temp\\ipykernel_588\\4248089460.py:19: FutureWarning: The frame.append method is deprecated and will be removed from pandas in a future version. Use pandas.concat instead.\n",
      "  results = results.append(query_data, ignore_index=True)\n",
      "C:\\Users\\zwei\\AppData\\Local\\Temp\\ipykernel_588\\4248089460.py:19: FutureWarning: The frame.append method is deprecated and will be removed from pandas in a future version. Use pandas.concat instead.\n",
      "  results = results.append(query_data, ignore_index=True)\n",
      "C:\\Users\\zwei\\AppData\\Local\\Temp\\ipykernel_588\\4248089460.py:19: FutureWarning: The frame.append method is deprecated and will be removed from pandas in a future version. Use pandas.concat instead.\n",
      "  results = results.append(query_data, ignore_index=True)\n",
      "C:\\Users\\zwei\\AppData\\Local\\Temp\\ipykernel_588\\4248089460.py:19: FutureWarning: The frame.append method is deprecated and will be removed from pandas in a future version. Use pandas.concat instead.\n",
      "  results = results.append(query_data, ignore_index=True)\n",
      "C:\\Users\\zwei\\AppData\\Local\\Temp\\ipykernel_588\\4248089460.py:19: FutureWarning: The frame.append method is deprecated and will be removed from pandas in a future version. Use pandas.concat instead.\n",
      "  results = results.append(query_data, ignore_index=True)\n",
      "C:\\Users\\zwei\\AppData\\Local\\Temp\\ipykernel_588\\4248089460.py:19: FutureWarning: The frame.append method is deprecated and will be removed from pandas in a future version. Use pandas.concat instead.\n",
      "  results = results.append(query_data, ignore_index=True)\n",
      "C:\\Users\\zwei\\AppData\\Local\\Temp\\ipykernel_588\\4248089460.py:19: FutureWarning: The frame.append method is deprecated and will be removed from pandas in a future version. Use pandas.concat instead.\n",
      "  results = results.append(query_data, ignore_index=True)\n",
      "C:\\Users\\zwei\\AppData\\Local\\Temp\\ipykernel_588\\4248089460.py:19: FutureWarning: The frame.append method is deprecated and will be removed from pandas in a future version. Use pandas.concat instead.\n",
      "  results = results.append(query_data, ignore_index=True)\n",
      "C:\\Users\\zwei\\AppData\\Local\\Temp\\ipykernel_588\\4248089460.py:19: FutureWarning: The frame.append method is deprecated and will be removed from pandas in a future version. Use pandas.concat instead.\n",
      "  results = results.append(query_data, ignore_index=True)\n",
      "C:\\Users\\zwei\\AppData\\Local\\Temp\\ipykernel_588\\4248089460.py:19: FutureWarning: The frame.append method is deprecated and will be removed from pandas in a future version. Use pandas.concat instead.\n",
      "  results = results.append(query_data, ignore_index=True)\n",
      "C:\\Users\\zwei\\AppData\\Local\\Temp\\ipykernel_588\\4248089460.py:19: FutureWarning: The frame.append method is deprecated and will be removed from pandas in a future version. Use pandas.concat instead.\n",
      "  results = results.append(query_data, ignore_index=True)\n",
      "C:\\Users\\zwei\\AppData\\Local\\Temp\\ipykernel_588\\4248089460.py:19: FutureWarning: The frame.append method is deprecated and will be removed from pandas in a future version. Use pandas.concat instead.\n",
      "  results = results.append(query_data, ignore_index=True)\n",
      "C:\\Users\\zwei\\AppData\\Local\\Temp\\ipykernel_588\\4248089460.py:19: FutureWarning: The frame.append method is deprecated and will be removed from pandas in a future version. Use pandas.concat instead.\n",
      "  results = results.append(query_data, ignore_index=True)\n",
      "C:\\Users\\zwei\\AppData\\Local\\Temp\\ipykernel_588\\4248089460.py:19: FutureWarning: The frame.append method is deprecated and will be removed from pandas in a future version. Use pandas.concat instead.\n",
      "  results = results.append(query_data, ignore_index=True)\n",
      "C:\\Users\\zwei\\AppData\\Local\\Temp\\ipykernel_588\\4248089460.py:19: FutureWarning: The frame.append method is deprecated and will be removed from pandas in a future version. Use pandas.concat instead.\n",
      "  results = results.append(query_data, ignore_index=True)\n",
      "C:\\Users\\zwei\\AppData\\Local\\Temp\\ipykernel_588\\4248089460.py:19: FutureWarning: The frame.append method is deprecated and will be removed from pandas in a future version. Use pandas.concat instead.\n",
      "  results = results.append(query_data, ignore_index=True)\n",
      "C:\\Users\\zwei\\AppData\\Local\\Temp\\ipykernel_588\\4248089460.py:19: FutureWarning: The frame.append method is deprecated and will be removed from pandas in a future version. Use pandas.concat instead.\n",
      "  results = results.append(query_data, ignore_index=True)\n",
      "C:\\Users\\zwei\\AppData\\Local\\Temp\\ipykernel_588\\4248089460.py:19: FutureWarning: The frame.append method is deprecated and will be removed from pandas in a future version. Use pandas.concat instead.\n",
      "  results = results.append(query_data, ignore_index=True)\n",
      "C:\\Users\\zwei\\AppData\\Local\\Temp\\ipykernel_588\\4248089460.py:19: FutureWarning: The frame.append method is deprecated and will be removed from pandas in a future version. Use pandas.concat instead.\n",
      "  results = results.append(query_data, ignore_index=True)\n",
      "C:\\Users\\zwei\\AppData\\Local\\Temp\\ipykernel_588\\4248089460.py:19: FutureWarning: The frame.append method is deprecated and will be removed from pandas in a future version. Use pandas.concat instead.\n",
      "  results = results.append(query_data, ignore_index=True)\n",
      "C:\\Users\\zwei\\AppData\\Local\\Temp\\ipykernel_588\\4248089460.py:19: FutureWarning: The frame.append method is deprecated and will be removed from pandas in a future version. Use pandas.concat instead.\n",
      "  results = results.append(query_data, ignore_index=True)\n",
      "C:\\Users\\zwei\\AppData\\Local\\Temp\\ipykernel_588\\4248089460.py:19: FutureWarning: The frame.append method is deprecated and will be removed from pandas in a future version. Use pandas.concat instead.\n",
      "  results = results.append(query_data, ignore_index=True)\n",
      "C:\\Users\\zwei\\AppData\\Local\\Temp\\ipykernel_588\\4248089460.py:19: FutureWarning: The frame.append method is deprecated and will be removed from pandas in a future version. Use pandas.concat instead.\n",
      "  results = results.append(query_data, ignore_index=True)\n",
      "C:\\Users\\zwei\\AppData\\Local\\Temp\\ipykernel_588\\4248089460.py:19: FutureWarning: The frame.append method is deprecated and will be removed from pandas in a future version. Use pandas.concat instead.\n",
      "  results = results.append(query_data, ignore_index=True)\n",
      "C:\\Users\\zwei\\AppData\\Local\\Temp\\ipykernel_588\\4248089460.py:19: FutureWarning: The frame.append method is deprecated and will be removed from pandas in a future version. Use pandas.concat instead.\n",
      "  results = results.append(query_data, ignore_index=True)\n",
      "C:\\Users\\zwei\\AppData\\Local\\Temp\\ipykernel_588\\4248089460.py:19: FutureWarning: The frame.append method is deprecated and will be removed from pandas in a future version. Use pandas.concat instead.\n",
      "  results = results.append(query_data, ignore_index=True)\n",
      "C:\\Users\\zwei\\AppData\\Local\\Temp\\ipykernel_588\\4248089460.py:19: FutureWarning: The frame.append method is deprecated and will be removed from pandas in a future version. Use pandas.concat instead.\n",
      "  results = results.append(query_data, ignore_index=True)\n",
      "C:\\Users\\zwei\\AppData\\Local\\Temp\\ipykernel_588\\4248089460.py:19: FutureWarning: The frame.append method is deprecated and will be removed from pandas in a future version. Use pandas.concat instead.\n",
      "  results = results.append(query_data, ignore_index=True)\n",
      "C:\\Users\\zwei\\AppData\\Local\\Temp\\ipykernel_588\\4248089460.py:19: FutureWarning: The frame.append method is deprecated and will be removed from pandas in a future version. Use pandas.concat instead.\n",
      "  results = results.append(query_data, ignore_index=True)\n",
      "C:\\Users\\zwei\\AppData\\Local\\Temp\\ipykernel_588\\4248089460.py:19: FutureWarning: The frame.append method is deprecated and will be removed from pandas in a future version. Use pandas.concat instead.\n",
      "  results = results.append(query_data, ignore_index=True)\n",
      "C:\\Users\\zwei\\AppData\\Local\\Temp\\ipykernel_588\\4248089460.py:19: FutureWarning: The frame.append method is deprecated and will be removed from pandas in a future version. Use pandas.concat instead.\n",
      "  results = results.append(query_data, ignore_index=True)\n"
     ]
    },
    {
     "name": "stderr",
     "output_type": "stream",
     "text": [
      "C:\\Users\\zwei\\AppData\\Local\\Temp\\ipykernel_588\\4248089460.py:19: FutureWarning: The frame.append method is deprecated and will be removed from pandas in a future version. Use pandas.concat instead.\n",
      "  results = results.append(query_data, ignore_index=True)\n",
      "C:\\Users\\zwei\\AppData\\Local\\Temp\\ipykernel_588\\4248089460.py:19: FutureWarning: The frame.append method is deprecated and will be removed from pandas in a future version. Use pandas.concat instead.\n",
      "  results = results.append(query_data, ignore_index=True)\n",
      "C:\\Users\\zwei\\AppData\\Local\\Temp\\ipykernel_588\\4248089460.py:19: FutureWarning: The frame.append method is deprecated and will be removed from pandas in a future version. Use pandas.concat instead.\n",
      "  results = results.append(query_data, ignore_index=True)\n",
      "C:\\Users\\zwei\\AppData\\Local\\Temp\\ipykernel_588\\4248089460.py:19: FutureWarning: The frame.append method is deprecated and will be removed from pandas in a future version. Use pandas.concat instead.\n",
      "  results = results.append(query_data, ignore_index=True)\n",
      "C:\\Users\\zwei\\AppData\\Local\\Temp\\ipykernel_588\\4248089460.py:19: FutureWarning: The frame.append method is deprecated and will be removed from pandas in a future version. Use pandas.concat instead.\n",
      "  results = results.append(query_data, ignore_index=True)\n",
      "C:\\Users\\zwei\\AppData\\Local\\Temp\\ipykernel_588\\4248089460.py:19: FutureWarning: The frame.append method is deprecated and will be removed from pandas in a future version. Use pandas.concat instead.\n",
      "  results = results.append(query_data, ignore_index=True)\n",
      "C:\\Users\\zwei\\AppData\\Local\\Temp\\ipykernel_588\\4248089460.py:19: FutureWarning: The frame.append method is deprecated and will be removed from pandas in a future version. Use pandas.concat instead.\n",
      "  results = results.append(query_data, ignore_index=True)\n",
      "C:\\Users\\zwei\\AppData\\Local\\Temp\\ipykernel_588\\4248089460.py:19: FutureWarning: The frame.append method is deprecated and will be removed from pandas in a future version. Use pandas.concat instead.\n",
      "  results = results.append(query_data, ignore_index=True)\n",
      "C:\\Users\\zwei\\AppData\\Local\\Temp\\ipykernel_588\\4248089460.py:19: FutureWarning: The frame.append method is deprecated and will be removed from pandas in a future version. Use pandas.concat instead.\n",
      "  results = results.append(query_data, ignore_index=True)\n",
      "C:\\Users\\zwei\\AppData\\Local\\Temp\\ipykernel_588\\4248089460.py:19: FutureWarning: The frame.append method is deprecated and will be removed from pandas in a future version. Use pandas.concat instead.\n",
      "  results = results.append(query_data, ignore_index=True)\n",
      "C:\\Users\\zwei\\AppData\\Local\\Temp\\ipykernel_588\\4248089460.py:19: FutureWarning: The frame.append method is deprecated and will be removed from pandas in a future version. Use pandas.concat instead.\n",
      "  results = results.append(query_data, ignore_index=True)\n",
      "C:\\Users\\zwei\\AppData\\Local\\Temp\\ipykernel_588\\4248089460.py:19: FutureWarning: The frame.append method is deprecated and will be removed from pandas in a future version. Use pandas.concat instead.\n",
      "  results = results.append(query_data, ignore_index=True)\n",
      "C:\\Users\\zwei\\AppData\\Local\\Temp\\ipykernel_588\\4248089460.py:19: FutureWarning: The frame.append method is deprecated and will be removed from pandas in a future version. Use pandas.concat instead.\n",
      "  results = results.append(query_data, ignore_index=True)\n",
      "C:\\Users\\zwei\\AppData\\Local\\Temp\\ipykernel_588\\4248089460.py:19: FutureWarning: The frame.append method is deprecated and will be removed from pandas in a future version. Use pandas.concat instead.\n",
      "  results = results.append(query_data, ignore_index=True)\n",
      "C:\\Users\\zwei\\AppData\\Local\\Temp\\ipykernel_588\\4248089460.py:19: FutureWarning: The frame.append method is deprecated and will be removed from pandas in a future version. Use pandas.concat instead.\n",
      "  results = results.append(query_data, ignore_index=True)\n",
      "C:\\Users\\zwei\\AppData\\Local\\Temp\\ipykernel_588\\4248089460.py:19: FutureWarning: The frame.append method is deprecated and will be removed from pandas in a future version. Use pandas.concat instead.\n",
      "  results = results.append(query_data, ignore_index=True)\n",
      "C:\\Users\\zwei\\AppData\\Local\\Temp\\ipykernel_588\\4248089460.py:19: FutureWarning: The frame.append method is deprecated and will be removed from pandas in a future version. Use pandas.concat instead.\n",
      "  results = results.append(query_data, ignore_index=True)\n",
      "C:\\Users\\zwei\\AppData\\Local\\Temp\\ipykernel_588\\4248089460.py:19: FutureWarning: The frame.append method is deprecated and will be removed from pandas in a future version. Use pandas.concat instead.\n",
      "  results = results.append(query_data, ignore_index=True)\n",
      "C:\\Users\\zwei\\AppData\\Local\\Temp\\ipykernel_588\\4248089460.py:19: FutureWarning: The frame.append method is deprecated and will be removed from pandas in a future version. Use pandas.concat instead.\n",
      "  results = results.append(query_data, ignore_index=True)\n",
      "C:\\Users\\zwei\\AppData\\Local\\Temp\\ipykernel_588\\4248089460.py:19: FutureWarning: The frame.append method is deprecated and will be removed from pandas in a future version. Use pandas.concat instead.\n",
      "  results = results.append(query_data, ignore_index=True)\n",
      "C:\\Users\\zwei\\AppData\\Local\\Temp\\ipykernel_588\\4248089460.py:19: FutureWarning: The frame.append method is deprecated and will be removed from pandas in a future version. Use pandas.concat instead.\n",
      "  results = results.append(query_data, ignore_index=True)\n",
      "C:\\Users\\zwei\\AppData\\Local\\Temp\\ipykernel_588\\4248089460.py:19: FutureWarning: The frame.append method is deprecated and will be removed from pandas in a future version. Use pandas.concat instead.\n",
      "  results = results.append(query_data, ignore_index=True)\n",
      "C:\\Users\\zwei\\AppData\\Local\\Temp\\ipykernel_588\\4248089460.py:19: FutureWarning: The frame.append method is deprecated and will be removed from pandas in a future version. Use pandas.concat instead.\n",
      "  results = results.append(query_data, ignore_index=True)\n",
      "C:\\Users\\zwei\\AppData\\Local\\Temp\\ipykernel_588\\4248089460.py:19: FutureWarning: The frame.append method is deprecated and will be removed from pandas in a future version. Use pandas.concat instead.\n",
      "  results = results.append(query_data, ignore_index=True)\n",
      "C:\\Users\\zwei\\AppData\\Local\\Temp\\ipykernel_588\\4248089460.py:19: FutureWarning: The frame.append method is deprecated and will be removed from pandas in a future version. Use pandas.concat instead.\n",
      "  results = results.append(query_data, ignore_index=True)\n",
      "C:\\Users\\zwei\\AppData\\Local\\Temp\\ipykernel_588\\4248089460.py:19: FutureWarning: The frame.append method is deprecated and will be removed from pandas in a future version. Use pandas.concat instead.\n",
      "  results = results.append(query_data, ignore_index=True)\n",
      "C:\\Users\\zwei\\AppData\\Local\\Temp\\ipykernel_588\\4248089460.py:19: FutureWarning: The frame.append method is deprecated and will be removed from pandas in a future version. Use pandas.concat instead.\n",
      "  results = results.append(query_data, ignore_index=True)\n",
      "C:\\Users\\zwei\\AppData\\Local\\Temp\\ipykernel_588\\4248089460.py:19: FutureWarning: The frame.append method is deprecated and will be removed from pandas in a future version. Use pandas.concat instead.\n",
      "  results = results.append(query_data, ignore_index=True)\n",
      "C:\\Users\\zwei\\AppData\\Local\\Temp\\ipykernel_588\\4248089460.py:19: FutureWarning: The frame.append method is deprecated and will be removed from pandas in a future version. Use pandas.concat instead.\n",
      "  results = results.append(query_data, ignore_index=True)\n",
      "C:\\Users\\zwei\\AppData\\Local\\Temp\\ipykernel_588\\4248089460.py:19: FutureWarning: The frame.append method is deprecated and will be removed from pandas in a future version. Use pandas.concat instead.\n",
      "  results = results.append(query_data, ignore_index=True)\n",
      "C:\\Users\\zwei\\AppData\\Local\\Temp\\ipykernel_588\\4248089460.py:19: FutureWarning: The frame.append method is deprecated and will be removed from pandas in a future version. Use pandas.concat instead.\n",
      "  results = results.append(query_data, ignore_index=True)\n",
      "C:\\Users\\zwei\\AppData\\Local\\Temp\\ipykernel_588\\4248089460.py:19: FutureWarning: The frame.append method is deprecated and will be removed from pandas in a future version. Use pandas.concat instead.\n",
      "  results = results.append(query_data, ignore_index=True)\n",
      "C:\\Users\\zwei\\AppData\\Local\\Temp\\ipykernel_588\\4248089460.py:19: FutureWarning: The frame.append method is deprecated and will be removed from pandas in a future version. Use pandas.concat instead.\n",
      "  results = results.append(query_data, ignore_index=True)\n",
      "C:\\Users\\zwei\\AppData\\Local\\Temp\\ipykernel_588\\4248089460.py:19: FutureWarning: The frame.append method is deprecated and will be removed from pandas in a future version. Use pandas.concat instead.\n",
      "  results = results.append(query_data, ignore_index=True)\n"
     ]
    },
    {
     "name": "stderr",
     "output_type": "stream",
     "text": [
      "C:\\Users\\zwei\\AppData\\Local\\Temp\\ipykernel_588\\4248089460.py:19: FutureWarning: The frame.append method is deprecated and will be removed from pandas in a future version. Use pandas.concat instead.\n",
      "  results = results.append(query_data, ignore_index=True)\n",
      "C:\\Users\\zwei\\AppData\\Local\\Temp\\ipykernel_588\\4248089460.py:19: FutureWarning: The frame.append method is deprecated and will be removed from pandas in a future version. Use pandas.concat instead.\n",
      "  results = results.append(query_data, ignore_index=True)\n",
      "C:\\Users\\zwei\\AppData\\Local\\Temp\\ipykernel_588\\4248089460.py:19: FutureWarning: The frame.append method is deprecated and will be removed from pandas in a future version. Use pandas.concat instead.\n",
      "  results = results.append(query_data, ignore_index=True)\n",
      "C:\\Users\\zwei\\AppData\\Local\\Temp\\ipykernel_588\\4248089460.py:19: FutureWarning: The frame.append method is deprecated and will be removed from pandas in a future version. Use pandas.concat instead.\n",
      "  results = results.append(query_data, ignore_index=True)\n",
      "C:\\Users\\zwei\\AppData\\Local\\Temp\\ipykernel_588\\4248089460.py:19: FutureWarning: The frame.append method is deprecated and will be removed from pandas in a future version. Use pandas.concat instead.\n",
      "  results = results.append(query_data, ignore_index=True)\n"
     ]
    },
    {
     "name": "stdout",
     "output_type": "stream",
     "text": [
      "An error occurred: 'NoneType' object does not support item assignment\n"
     ]
    },
    {
     "name": "stderr",
     "output_type": "stream",
     "text": [
      "C:\\Users\\zwei\\AppData\\Local\\Temp\\ipykernel_588\\4248089460.py:19: FutureWarning: The frame.append method is deprecated and will be removed from pandas in a future version. Use pandas.concat instead.\n",
      "  results = results.append(query_data, ignore_index=True)\n",
      "C:\\Users\\zwei\\AppData\\Local\\Temp\\ipykernel_588\\4248089460.py:19: FutureWarning: The frame.append method is deprecated and will be removed from pandas in a future version. Use pandas.concat instead.\n",
      "  results = results.append(query_data, ignore_index=True)\n",
      "C:\\Users\\zwei\\AppData\\Local\\Temp\\ipykernel_588\\4248089460.py:19: FutureWarning: The frame.append method is deprecated and will be removed from pandas in a future version. Use pandas.concat instead.\n",
      "  results = results.append(query_data, ignore_index=True)\n",
      "C:\\Users\\zwei\\AppData\\Local\\Temp\\ipykernel_588\\4248089460.py:19: FutureWarning: The frame.append method is deprecated and will be removed from pandas in a future version. Use pandas.concat instead.\n",
      "  results = results.append(query_data, ignore_index=True)\n",
      "C:\\Users\\zwei\\AppData\\Local\\Temp\\ipykernel_588\\4248089460.py:19: FutureWarning: The frame.append method is deprecated and will be removed from pandas in a future version. Use pandas.concat instead.\n",
      "  results = results.append(query_data, ignore_index=True)\n"
     ]
    },
    {
     "name": "stdout",
     "output_type": "stream",
     "text": [
      "An error occurred: 'NoneType' object does not support item assignment\n"
     ]
    },
    {
     "name": "stderr",
     "output_type": "stream",
     "text": [
      "C:\\Users\\zwei\\AppData\\Local\\Temp\\ipykernel_588\\4248089460.py:19: FutureWarning: The frame.append method is deprecated and will be removed from pandas in a future version. Use pandas.concat instead.\n",
      "  results = results.append(query_data, ignore_index=True)\n",
      "C:\\Users\\zwei\\AppData\\Local\\Temp\\ipykernel_588\\4248089460.py:19: FutureWarning: The frame.append method is deprecated and will be removed from pandas in a future version. Use pandas.concat instead.\n",
      "  results = results.append(query_data, ignore_index=True)\n",
      "C:\\Users\\zwei\\AppData\\Local\\Temp\\ipykernel_588\\4248089460.py:19: FutureWarning: The frame.append method is deprecated and will be removed from pandas in a future version. Use pandas.concat instead.\n",
      "  results = results.append(query_data, ignore_index=True)\n"
     ]
    },
    {
     "name": "stdout",
     "output_type": "stream",
     "text": [
      "An error occurred: 'NoneType' object does not support item assignment\n"
     ]
    },
    {
     "name": "stderr",
     "output_type": "stream",
     "text": [
      "C:\\Users\\zwei\\AppData\\Local\\Temp\\ipykernel_588\\4248089460.py:19: FutureWarning: The frame.append method is deprecated and will be removed from pandas in a future version. Use pandas.concat instead.\n",
      "  results = results.append(query_data, ignore_index=True)\n",
      "C:\\Users\\zwei\\AppData\\Local\\Temp\\ipykernel_588\\4248089460.py:19: FutureWarning: The frame.append method is deprecated and will be removed from pandas in a future version. Use pandas.concat instead.\n",
      "  results = results.append(query_data, ignore_index=True)\n",
      "C:\\Users\\zwei\\AppData\\Local\\Temp\\ipykernel_588\\4248089460.py:19: FutureWarning: The frame.append method is deprecated and will be removed from pandas in a future version. Use pandas.concat instead.\n",
      "  results = results.append(query_data, ignore_index=True)\n"
     ]
    },
    {
     "name": "stdout",
     "output_type": "stream",
     "text": [
      "An error occurred: 'NoneType' object does not support item assignment\n"
     ]
    },
    {
     "name": "stderr",
     "output_type": "stream",
     "text": [
      "C:\\Users\\zwei\\AppData\\Local\\Temp\\ipykernel_588\\4248089460.py:19: FutureWarning: The frame.append method is deprecated and will be removed from pandas in a future version. Use pandas.concat instead.\n",
      "  results = results.append(query_data, ignore_index=True)\n",
      "C:\\Users\\zwei\\AppData\\Local\\Temp\\ipykernel_588\\4248089460.py:19: FutureWarning: The frame.append method is deprecated and will be removed from pandas in a future version. Use pandas.concat instead.\n",
      "  results = results.append(query_data, ignore_index=True)\n",
      "C:\\Users\\zwei\\AppData\\Local\\Temp\\ipykernel_588\\4248089460.py:19: FutureWarning: The frame.append method is deprecated and will be removed from pandas in a future version. Use pandas.concat instead.\n",
      "  results = results.append(query_data, ignore_index=True)\n",
      "C:\\Users\\zwei\\AppData\\Local\\Temp\\ipykernel_588\\4248089460.py:19: FutureWarning: The frame.append method is deprecated and will be removed from pandas in a future version. Use pandas.concat instead.\n",
      "  results = results.append(query_data, ignore_index=True)\n",
      "C:\\Users\\zwei\\AppData\\Local\\Temp\\ipykernel_588\\4248089460.py:19: FutureWarning: The frame.append method is deprecated and will be removed from pandas in a future version. Use pandas.concat instead.\n",
      "  results = results.append(query_data, ignore_index=True)\n",
      "C:\\Users\\zwei\\AppData\\Local\\Temp\\ipykernel_588\\4248089460.py:19: FutureWarning: The frame.append method is deprecated and will be removed from pandas in a future version. Use pandas.concat instead.\n",
      "  results = results.append(query_data, ignore_index=True)\n",
      "C:\\Users\\zwei\\AppData\\Local\\Temp\\ipykernel_588\\4248089460.py:19: FutureWarning: The frame.append method is deprecated and will be removed from pandas in a future version. Use pandas.concat instead.\n",
      "  results = results.append(query_data, ignore_index=True)\n",
      "C:\\Users\\zwei\\AppData\\Local\\Temp\\ipykernel_588\\4248089460.py:19: FutureWarning: The frame.append method is deprecated and will be removed from pandas in a future version. Use pandas.concat instead.\n",
      "  results = results.append(query_data, ignore_index=True)\n",
      "C:\\Users\\zwei\\AppData\\Local\\Temp\\ipykernel_588\\4248089460.py:19: FutureWarning: The frame.append method is deprecated and will be removed from pandas in a future version. Use pandas.concat instead.\n",
      "  results = results.append(query_data, ignore_index=True)\n",
      "C:\\Users\\zwei\\AppData\\Local\\Temp\\ipykernel_588\\4248089460.py:19: FutureWarning: The frame.append method is deprecated and will be removed from pandas in a future version. Use pandas.concat instead.\n",
      "  results = results.append(query_data, ignore_index=True)\n",
      "C:\\Users\\zwei\\AppData\\Local\\Temp\\ipykernel_588\\4248089460.py:19: FutureWarning: The frame.append method is deprecated and will be removed from pandas in a future version. Use pandas.concat instead.\n",
      "  results = results.append(query_data, ignore_index=True)\n"
     ]
    },
    {
     "name": "stdout",
     "output_type": "stream",
     "text": [
      "An error occurred: 'NoneType' object does not support item assignment\n"
     ]
    },
    {
     "name": "stderr",
     "output_type": "stream",
     "text": [
      "C:\\Users\\zwei\\AppData\\Local\\Temp\\ipykernel_588\\4248089460.py:19: FutureWarning: The frame.append method is deprecated and will be removed from pandas in a future version. Use pandas.concat instead.\n",
      "  results = results.append(query_data, ignore_index=True)\n",
      "C:\\Users\\zwei\\AppData\\Local\\Temp\\ipykernel_588\\4248089460.py:19: FutureWarning: The frame.append method is deprecated and will be removed from pandas in a future version. Use pandas.concat instead.\n",
      "  results = results.append(query_data, ignore_index=True)\n",
      "C:\\Users\\zwei\\AppData\\Local\\Temp\\ipykernel_588\\4248089460.py:19: FutureWarning: The frame.append method is deprecated and will be removed from pandas in a future version. Use pandas.concat instead.\n",
      "  results = results.append(query_data, ignore_index=True)\n",
      "C:\\Users\\zwei\\AppData\\Local\\Temp\\ipykernel_588\\4248089460.py:19: FutureWarning: The frame.append method is deprecated and will be removed from pandas in a future version. Use pandas.concat instead.\n",
      "  results = results.append(query_data, ignore_index=True)\n",
      "C:\\Users\\zwei\\AppData\\Local\\Temp\\ipykernel_588\\4248089460.py:19: FutureWarning: The frame.append method is deprecated and will be removed from pandas in a future version. Use pandas.concat instead.\n",
      "  results = results.append(query_data, ignore_index=True)\n"
     ]
    },
    {
     "name": "stdout",
     "output_type": "stream",
     "text": [
      "An error occurred: 'NoneType' object does not support item assignment\n"
     ]
    },
    {
     "name": "stderr",
     "output_type": "stream",
     "text": [
      "C:\\Users\\zwei\\AppData\\Local\\Temp\\ipykernel_588\\4248089460.py:19: FutureWarning: The frame.append method is deprecated and will be removed from pandas in a future version. Use pandas.concat instead.\n",
      "  results = results.append(query_data, ignore_index=True)\n"
     ]
    },
    {
     "name": "stdout",
     "output_type": "stream",
     "text": [
      "An error occurred: 'NoneType' object does not support item assignment\n"
     ]
    },
    {
     "name": "stderr",
     "output_type": "stream",
     "text": [
      "C:\\Users\\zwei\\AppData\\Local\\Temp\\ipykernel_588\\4248089460.py:19: FutureWarning: The frame.append method is deprecated and will be removed from pandas in a future version. Use pandas.concat instead.\n",
      "  results = results.append(query_data, ignore_index=True)\n",
      "C:\\Users\\zwei\\AppData\\Local\\Temp\\ipykernel_588\\4248089460.py:19: FutureWarning: The frame.append method is deprecated and will be removed from pandas in a future version. Use pandas.concat instead.\n",
      "  results = results.append(query_data, ignore_index=True)\n",
      "C:\\Users\\zwei\\AppData\\Local\\Temp\\ipykernel_588\\4248089460.py:19: FutureWarning: The frame.append method is deprecated and will be removed from pandas in a future version. Use pandas.concat instead.\n",
      "  results = results.append(query_data, ignore_index=True)\n",
      "C:\\Users\\zwei\\AppData\\Local\\Temp\\ipykernel_588\\4248089460.py:19: FutureWarning: The frame.append method is deprecated and will be removed from pandas in a future version. Use pandas.concat instead.\n",
      "  results = results.append(query_data, ignore_index=True)\n",
      "C:\\Users\\zwei\\AppData\\Local\\Temp\\ipykernel_588\\4248089460.py:19: FutureWarning: The frame.append method is deprecated and will be removed from pandas in a future version. Use pandas.concat instead.\n",
      "  results = results.append(query_data, ignore_index=True)\n",
      "C:\\Users\\zwei\\AppData\\Local\\Temp\\ipykernel_588\\4248089460.py:19: FutureWarning: The frame.append method is deprecated and will be removed from pandas in a future version. Use pandas.concat instead.\n",
      "  results = results.append(query_data, ignore_index=True)\n",
      "C:\\Users\\zwei\\AppData\\Local\\Temp\\ipykernel_588\\4248089460.py:19: FutureWarning: The frame.append method is deprecated and will be removed from pandas in a future version. Use pandas.concat instead.\n",
      "  results = results.append(query_data, ignore_index=True)\n",
      "C:\\Users\\zwei\\AppData\\Local\\Temp\\ipykernel_588\\4248089460.py:19: FutureWarning: The frame.append method is deprecated and will be removed from pandas in a future version. Use pandas.concat instead.\n",
      "  results = results.append(query_data, ignore_index=True)\n",
      "C:\\Users\\zwei\\AppData\\Local\\Temp\\ipykernel_588\\4248089460.py:19: FutureWarning: The frame.append method is deprecated and will be removed from pandas in a future version. Use pandas.concat instead.\n",
      "  results = results.append(query_data, ignore_index=True)\n",
      "C:\\Users\\zwei\\AppData\\Local\\Temp\\ipykernel_588\\4248089460.py:19: FutureWarning: The frame.append method is deprecated and will be removed from pandas in a future version. Use pandas.concat instead.\n",
      "  results = results.append(query_data, ignore_index=True)\n",
      "C:\\Users\\zwei\\AppData\\Local\\Temp\\ipykernel_588\\4248089460.py:19: FutureWarning: The frame.append method is deprecated and will be removed from pandas in a future version. Use pandas.concat instead.\n",
      "  results = results.append(query_data, ignore_index=True)\n",
      "C:\\Users\\zwei\\AppData\\Local\\Temp\\ipykernel_588\\4248089460.py:19: FutureWarning: The frame.append method is deprecated and will be removed from pandas in a future version. Use pandas.concat instead.\n",
      "  results = results.append(query_data, ignore_index=True)\n",
      "C:\\Users\\zwei\\AppData\\Local\\Temp\\ipykernel_588\\4248089460.py:19: FutureWarning: The frame.append method is deprecated and will be removed from pandas in a future version. Use pandas.concat instead.\n",
      "  results = results.append(query_data, ignore_index=True)\n",
      "C:\\Users\\zwei\\AppData\\Local\\Temp\\ipykernel_588\\4248089460.py:19: FutureWarning: The frame.append method is deprecated and will be removed from pandas in a future version. Use pandas.concat instead.\n",
      "  results = results.append(query_data, ignore_index=True)\n",
      "C:\\Users\\zwei\\AppData\\Local\\Temp\\ipykernel_588\\4248089460.py:19: FutureWarning: The frame.append method is deprecated and will be removed from pandas in a future version. Use pandas.concat instead.\n",
      "  results = results.append(query_data, ignore_index=True)\n",
      "C:\\Users\\zwei\\AppData\\Local\\Temp\\ipykernel_588\\4248089460.py:19: FutureWarning: The frame.append method is deprecated and will be removed from pandas in a future version. Use pandas.concat instead.\n",
      "  results = results.append(query_data, ignore_index=True)\n",
      "C:\\Users\\zwei\\AppData\\Local\\Temp\\ipykernel_588\\4248089460.py:19: FutureWarning: The frame.append method is deprecated and will be removed from pandas in a future version. Use pandas.concat instead.\n",
      "  results = results.append(query_data, ignore_index=True)\n",
      "C:\\Users\\zwei\\AppData\\Local\\Temp\\ipykernel_588\\4248089460.py:19: FutureWarning: The frame.append method is deprecated and will be removed from pandas in a future version. Use pandas.concat instead.\n",
      "  results = results.append(query_data, ignore_index=True)\n",
      "C:\\Users\\zwei\\AppData\\Local\\Temp\\ipykernel_588\\4248089460.py:19: FutureWarning: The frame.append method is deprecated and will be removed from pandas in a future version. Use pandas.concat instead.\n",
      "  results = results.append(query_data, ignore_index=True)\n",
      "C:\\Users\\zwei\\AppData\\Local\\Temp\\ipykernel_588\\4248089460.py:19: FutureWarning: The frame.append method is deprecated and will be removed from pandas in a future version. Use pandas.concat instead.\n",
      "  results = results.append(query_data, ignore_index=True)\n",
      "C:\\Users\\zwei\\AppData\\Local\\Temp\\ipykernel_588\\4248089460.py:19: FutureWarning: The frame.append method is deprecated and will be removed from pandas in a future version. Use pandas.concat instead.\n",
      "  results = results.append(query_data, ignore_index=True)\n",
      "C:\\Users\\zwei\\AppData\\Local\\Temp\\ipykernel_588\\4248089460.py:19: FutureWarning: The frame.append method is deprecated and will be removed from pandas in a future version. Use pandas.concat instead.\n",
      "  results = results.append(query_data, ignore_index=True)\n",
      "C:\\Users\\zwei\\AppData\\Local\\Temp\\ipykernel_588\\4248089460.py:19: FutureWarning: The frame.append method is deprecated and will be removed from pandas in a future version. Use pandas.concat instead.\n",
      "  results = results.append(query_data, ignore_index=True)\n",
      "C:\\Users\\zwei\\AppData\\Local\\Temp\\ipykernel_588\\4248089460.py:19: FutureWarning: The frame.append method is deprecated and will be removed from pandas in a future version. Use pandas.concat instead.\n",
      "  results = results.append(query_data, ignore_index=True)\n",
      "C:\\Users\\zwei\\AppData\\Local\\Temp\\ipykernel_588\\4248089460.py:19: FutureWarning: The frame.append method is deprecated and will be removed from pandas in a future version. Use pandas.concat instead.\n",
      "  results = results.append(query_data, ignore_index=True)\n",
      "C:\\Users\\zwei\\AppData\\Local\\Temp\\ipykernel_588\\4248089460.py:19: FutureWarning: The frame.append method is deprecated and will be removed from pandas in a future version. Use pandas.concat instead.\n",
      "  results = results.append(query_data, ignore_index=True)\n",
      "C:\\Users\\zwei\\AppData\\Local\\Temp\\ipykernel_588\\4248089460.py:19: FutureWarning: The frame.append method is deprecated and will be removed from pandas in a future version. Use pandas.concat instead.\n",
      "  results = results.append(query_data, ignore_index=True)\n"
     ]
    },
    {
     "name": "stdout",
     "output_type": "stream",
     "text": [
      "An error occurred: 'NoneType' object does not support item assignment\n"
     ]
    },
    {
     "name": "stderr",
     "output_type": "stream",
     "text": [
      "C:\\Users\\zwei\\AppData\\Local\\Temp\\ipykernel_588\\4248089460.py:19: FutureWarning: The frame.append method is deprecated and will be removed from pandas in a future version. Use pandas.concat instead.\n",
      "  results = results.append(query_data, ignore_index=True)\n"
     ]
    },
    {
     "name": "stdout",
     "output_type": "stream",
     "text": [
      "An error occurred: 'NoneType' object does not support item assignment\n"
     ]
    },
    {
     "name": "stderr",
     "output_type": "stream",
     "text": [
      "C:\\Users\\zwei\\AppData\\Local\\Temp\\ipykernel_588\\4248089460.py:19: FutureWarning: The frame.append method is deprecated and will be removed from pandas in a future version. Use pandas.concat instead.\n",
      "  results = results.append(query_data, ignore_index=True)\n",
      "C:\\Users\\zwei\\AppData\\Local\\Temp\\ipykernel_588\\4248089460.py:19: FutureWarning: The frame.append method is deprecated and will be removed from pandas in a future version. Use pandas.concat instead.\n",
      "  results = results.append(query_data, ignore_index=True)\n",
      "C:\\Users\\zwei\\AppData\\Local\\Temp\\ipykernel_588\\4248089460.py:19: FutureWarning: The frame.append method is deprecated and will be removed from pandas in a future version. Use pandas.concat instead.\n",
      "  results = results.append(query_data, ignore_index=True)\n"
     ]
    },
    {
     "name": "stdout",
     "output_type": "stream",
     "text": [
      "An error occurred: 'NoneType' object does not support item assignment\n"
     ]
    },
    {
     "name": "stderr",
     "output_type": "stream",
     "text": [
      "C:\\Users\\zwei\\AppData\\Local\\Temp\\ipykernel_588\\4248089460.py:19: FutureWarning: The frame.append method is deprecated and will be removed from pandas in a future version. Use pandas.concat instead.\n",
      "  results = results.append(query_data, ignore_index=True)\n",
      "C:\\Users\\zwei\\AppData\\Local\\Temp\\ipykernel_588\\4248089460.py:19: FutureWarning: The frame.append method is deprecated and will be removed from pandas in a future version. Use pandas.concat instead.\n",
      "  results = results.append(query_data, ignore_index=True)\n",
      "C:\\Users\\zwei\\AppData\\Local\\Temp\\ipykernel_588\\4248089460.py:19: FutureWarning: The frame.append method is deprecated and will be removed from pandas in a future version. Use pandas.concat instead.\n",
      "  results = results.append(query_data, ignore_index=True)\n"
     ]
    },
    {
     "name": "stdout",
     "output_type": "stream",
     "text": [
      "An error occurred: 'NoneType' object does not support item assignment\n"
     ]
    },
    {
     "name": "stderr",
     "output_type": "stream",
     "text": [
      "C:\\Users\\zwei\\AppData\\Local\\Temp\\ipykernel_588\\4248089460.py:19: FutureWarning: The frame.append method is deprecated and will be removed from pandas in a future version. Use pandas.concat instead.\n",
      "  results = results.append(query_data, ignore_index=True)\n",
      "C:\\Users\\zwei\\AppData\\Local\\Temp\\ipykernel_588\\4248089460.py:19: FutureWarning: The frame.append method is deprecated and will be removed from pandas in a future version. Use pandas.concat instead.\n",
      "  results = results.append(query_data, ignore_index=True)\n",
      "C:\\Users\\zwei\\AppData\\Local\\Temp\\ipykernel_588\\4248089460.py:19: FutureWarning: The frame.append method is deprecated and will be removed from pandas in a future version. Use pandas.concat instead.\n",
      "  results = results.append(query_data, ignore_index=True)\n",
      "C:\\Users\\zwei\\AppData\\Local\\Temp\\ipykernel_588\\4248089460.py:19: FutureWarning: The frame.append method is deprecated and will be removed from pandas in a future version. Use pandas.concat instead.\n",
      "  results = results.append(query_data, ignore_index=True)\n",
      "C:\\Users\\zwei\\AppData\\Local\\Temp\\ipykernel_588\\4248089460.py:19: FutureWarning: The frame.append method is deprecated and will be removed from pandas in a future version. Use pandas.concat instead.\n",
      "  results = results.append(query_data, ignore_index=True)\n",
      "C:\\Users\\zwei\\AppData\\Local\\Temp\\ipykernel_588\\4248089460.py:19: FutureWarning: The frame.append method is deprecated and will be removed from pandas in a future version. Use pandas.concat instead.\n",
      "  results = results.append(query_data, ignore_index=True)\n",
      "C:\\Users\\zwei\\AppData\\Local\\Temp\\ipykernel_588\\4248089460.py:19: FutureWarning: The frame.append method is deprecated and will be removed from pandas in a future version. Use pandas.concat instead.\n",
      "  results = results.append(query_data, ignore_index=True)\n",
      "C:\\Users\\zwei\\AppData\\Local\\Temp\\ipykernel_588\\4248089460.py:19: FutureWarning: The frame.append method is deprecated and will be removed from pandas in a future version. Use pandas.concat instead.\n",
      "  results = results.append(query_data, ignore_index=True)\n",
      "C:\\Users\\zwei\\AppData\\Local\\Temp\\ipykernel_588\\4248089460.py:19: FutureWarning: The frame.append method is deprecated and will be removed from pandas in a future version. Use pandas.concat instead.\n",
      "  results = results.append(query_data, ignore_index=True)\n",
      "C:\\Users\\zwei\\AppData\\Local\\Temp\\ipykernel_588\\4248089460.py:19: FutureWarning: The frame.append method is deprecated and will be removed from pandas in a future version. Use pandas.concat instead.\n",
      "  results = results.append(query_data, ignore_index=True)\n",
      "C:\\Users\\zwei\\AppData\\Local\\Temp\\ipykernel_588\\4248089460.py:19: FutureWarning: The frame.append method is deprecated and will be removed from pandas in a future version. Use pandas.concat instead.\n",
      "  results = results.append(query_data, ignore_index=True)\n",
      "C:\\Users\\zwei\\AppData\\Local\\Temp\\ipykernel_588\\4248089460.py:19: FutureWarning: The frame.append method is deprecated and will be removed from pandas in a future version. Use pandas.concat instead.\n",
      "  results = results.append(query_data, ignore_index=True)\n",
      "C:\\Users\\zwei\\AppData\\Local\\Temp\\ipykernel_588\\4248089460.py:19: FutureWarning: The frame.append method is deprecated and will be removed from pandas in a future version. Use pandas.concat instead.\n",
      "  results = results.append(query_data, ignore_index=True)\n",
      "C:\\Users\\zwei\\AppData\\Local\\Temp\\ipykernel_588\\4248089460.py:19: FutureWarning: The frame.append method is deprecated and will be removed from pandas in a future version. Use pandas.concat instead.\n",
      "  results = results.append(query_data, ignore_index=True)\n",
      "C:\\Users\\zwei\\AppData\\Local\\Temp\\ipykernel_588\\4248089460.py:19: FutureWarning: The frame.append method is deprecated and will be removed from pandas in a future version. Use pandas.concat instead.\n",
      "  results = results.append(query_data, ignore_index=True)\n",
      "C:\\Users\\zwei\\AppData\\Local\\Temp\\ipykernel_588\\4248089460.py:19: FutureWarning: The frame.append method is deprecated and will be removed from pandas in a future version. Use pandas.concat instead.\n",
      "  results = results.append(query_data, ignore_index=True)\n",
      "C:\\Users\\zwei\\AppData\\Local\\Temp\\ipykernel_588\\4248089460.py:19: FutureWarning: The frame.append method is deprecated and will be removed from pandas in a future version. Use pandas.concat instead.\n",
      "  results = results.append(query_data, ignore_index=True)\n",
      "C:\\Users\\zwei\\AppData\\Local\\Temp\\ipykernel_588\\4248089460.py:19: FutureWarning: The frame.append method is deprecated and will be removed from pandas in a future version. Use pandas.concat instead.\n",
      "  results = results.append(query_data, ignore_index=True)\n",
      "C:\\Users\\zwei\\AppData\\Local\\Temp\\ipykernel_588\\4248089460.py:19: FutureWarning: The frame.append method is deprecated and will be removed from pandas in a future version. Use pandas.concat instead.\n",
      "  results = results.append(query_data, ignore_index=True)\n",
      "C:\\Users\\zwei\\AppData\\Local\\Temp\\ipykernel_588\\4248089460.py:19: FutureWarning: The frame.append method is deprecated and will be removed from pandas in a future version. Use pandas.concat instead.\n",
      "  results = results.append(query_data, ignore_index=True)\n",
      "C:\\Users\\zwei\\AppData\\Local\\Temp\\ipykernel_588\\4248089460.py:19: FutureWarning: The frame.append method is deprecated and will be removed from pandas in a future version. Use pandas.concat instead.\n",
      "  results = results.append(query_data, ignore_index=True)\n",
      "C:\\Users\\zwei\\AppData\\Local\\Temp\\ipykernel_588\\4248089460.py:19: FutureWarning: The frame.append method is deprecated and will be removed from pandas in a future version. Use pandas.concat instead.\n",
      "  results = results.append(query_data, ignore_index=True)\n",
      "C:\\Users\\zwei\\AppData\\Local\\Temp\\ipykernel_588\\4248089460.py:19: FutureWarning: The frame.append method is deprecated and will be removed from pandas in a future version. Use pandas.concat instead.\n",
      "  results = results.append(query_data, ignore_index=True)\n",
      "C:\\Users\\zwei\\AppData\\Local\\Temp\\ipykernel_588\\4248089460.py:19: FutureWarning: The frame.append method is deprecated and will be removed from pandas in a future version. Use pandas.concat instead.\n",
      "  results = results.append(query_data, ignore_index=True)\n",
      "C:\\Users\\zwei\\AppData\\Local\\Temp\\ipykernel_588\\4248089460.py:19: FutureWarning: The frame.append method is deprecated and will be removed from pandas in a future version. Use pandas.concat instead.\n",
      "  results = results.append(query_data, ignore_index=True)\n",
      "C:\\Users\\zwei\\AppData\\Local\\Temp\\ipykernel_588\\4248089460.py:19: FutureWarning: The frame.append method is deprecated and will be removed from pandas in a future version. Use pandas.concat instead.\n",
      "  results = results.append(query_data, ignore_index=True)\n",
      "C:\\Users\\zwei\\AppData\\Local\\Temp\\ipykernel_588\\4248089460.py:19: FutureWarning: The frame.append method is deprecated and will be removed from pandas in a future version. Use pandas.concat instead.\n",
      "  results = results.append(query_data, ignore_index=True)\n",
      "C:\\Users\\zwei\\AppData\\Local\\Temp\\ipykernel_588\\4248089460.py:19: FutureWarning: The frame.append method is deprecated and will be removed from pandas in a future version. Use pandas.concat instead.\n",
      "  results = results.append(query_data, ignore_index=True)\n",
      "C:\\Users\\zwei\\AppData\\Local\\Temp\\ipykernel_588\\4248089460.py:19: FutureWarning: The frame.append method is deprecated and will be removed from pandas in a future version. Use pandas.concat instead.\n",
      "  results = results.append(query_data, ignore_index=True)\n",
      "C:\\Users\\zwei\\AppData\\Local\\Temp\\ipykernel_588\\4248089460.py:19: FutureWarning: The frame.append method is deprecated and will be removed from pandas in a future version. Use pandas.concat instead.\n",
      "  results = results.append(query_data, ignore_index=True)\n",
      "C:\\Users\\zwei\\AppData\\Local\\Temp\\ipykernel_588\\4248089460.py:19: FutureWarning: The frame.append method is deprecated and will be removed from pandas in a future version. Use pandas.concat instead.\n",
      "  results = results.append(query_data, ignore_index=True)\n",
      "C:\\Users\\zwei\\AppData\\Local\\Temp\\ipykernel_588\\4248089460.py:19: FutureWarning: The frame.append method is deprecated and will be removed from pandas in a future version. Use pandas.concat instead.\n",
      "  results = results.append(query_data, ignore_index=True)\n",
      "C:\\Users\\zwei\\AppData\\Local\\Temp\\ipykernel_588\\4248089460.py:19: FutureWarning: The frame.append method is deprecated and will be removed from pandas in a future version. Use pandas.concat instead.\n",
      "  results = results.append(query_data, ignore_index=True)\n"
     ]
    },
    {
     "name": "stdout",
     "output_type": "stream",
     "text": [
      "An error occurred: 'NoneType' object does not support item assignment\n"
     ]
    },
    {
     "name": "stderr",
     "output_type": "stream",
     "text": [
      "C:\\Users\\zwei\\AppData\\Local\\Temp\\ipykernel_588\\4248089460.py:19: FutureWarning: The frame.append method is deprecated and will be removed from pandas in a future version. Use pandas.concat instead.\n",
      "  results = results.append(query_data, ignore_index=True)\n",
      "C:\\Users\\zwei\\AppData\\Local\\Temp\\ipykernel_588\\4248089460.py:19: FutureWarning: The frame.append method is deprecated and will be removed from pandas in a future version. Use pandas.concat instead.\n",
      "  results = results.append(query_data, ignore_index=True)\n",
      "C:\\Users\\zwei\\AppData\\Local\\Temp\\ipykernel_588\\4248089460.py:19: FutureWarning: The frame.append method is deprecated and will be removed from pandas in a future version. Use pandas.concat instead.\n",
      "  results = results.append(query_data, ignore_index=True)\n"
     ]
    },
    {
     "name": "stdout",
     "output_type": "stream",
     "text": [
      "An error occurred: 'NoneType' object does not support item assignment\n"
     ]
    },
    {
     "name": "stderr",
     "output_type": "stream",
     "text": [
      "C:\\Users\\zwei\\AppData\\Local\\Temp\\ipykernel_588\\4248089460.py:19: FutureWarning: The frame.append method is deprecated and will be removed from pandas in a future version. Use pandas.concat instead.\n",
      "  results = results.append(query_data, ignore_index=True)\n",
      "C:\\Users\\zwei\\AppData\\Local\\Temp\\ipykernel_588\\4248089460.py:19: FutureWarning: The frame.append method is deprecated and will be removed from pandas in a future version. Use pandas.concat instead.\n",
      "  results = results.append(query_data, ignore_index=True)\n",
      "C:\\Users\\zwei\\AppData\\Local\\Temp\\ipykernel_588\\4248089460.py:19: FutureWarning: The frame.append method is deprecated and will be removed from pandas in a future version. Use pandas.concat instead.\n",
      "  results = results.append(query_data, ignore_index=True)\n"
     ]
    },
    {
     "name": "stdout",
     "output_type": "stream",
     "text": [
      "An error occurred: 'NoneType' object does not support item assignment\n"
     ]
    },
    {
     "name": "stderr",
     "output_type": "stream",
     "text": [
      "C:\\Users\\zwei\\AppData\\Local\\Temp\\ipykernel_588\\4248089460.py:19: FutureWarning: The frame.append method is deprecated and will be removed from pandas in a future version. Use pandas.concat instead.\n",
      "  results = results.append(query_data, ignore_index=True)\n",
      "C:\\Users\\zwei\\AppData\\Local\\Temp\\ipykernel_588\\4248089460.py:19: FutureWarning: The frame.append method is deprecated and will be removed from pandas in a future version. Use pandas.concat instead.\n",
      "  results = results.append(query_data, ignore_index=True)\n",
      "C:\\Users\\zwei\\AppData\\Local\\Temp\\ipykernel_588\\4248089460.py:19: FutureWarning: The frame.append method is deprecated and will be removed from pandas in a future version. Use pandas.concat instead.\n",
      "  results = results.append(query_data, ignore_index=True)\n",
      "C:\\Users\\zwei\\AppData\\Local\\Temp\\ipykernel_588\\4248089460.py:19: FutureWarning: The frame.append method is deprecated and will be removed from pandas in a future version. Use pandas.concat instead.\n",
      "  results = results.append(query_data, ignore_index=True)\n",
      "C:\\Users\\zwei\\AppData\\Local\\Temp\\ipykernel_588\\4248089460.py:19: FutureWarning: The frame.append method is deprecated and will be removed from pandas in a future version. Use pandas.concat instead.\n",
      "  results = results.append(query_data, ignore_index=True)\n",
      "C:\\Users\\zwei\\AppData\\Local\\Temp\\ipykernel_588\\4248089460.py:19: FutureWarning: The frame.append method is deprecated and will be removed from pandas in a future version. Use pandas.concat instead.\n",
      "  results = results.append(query_data, ignore_index=True)\n",
      "C:\\Users\\zwei\\AppData\\Local\\Temp\\ipykernel_588\\4248089460.py:19: FutureWarning: The frame.append method is deprecated and will be removed from pandas in a future version. Use pandas.concat instead.\n",
      "  results = results.append(query_data, ignore_index=True)\n",
      "C:\\Users\\zwei\\AppData\\Local\\Temp\\ipykernel_588\\4248089460.py:19: FutureWarning: The frame.append method is deprecated and will be removed from pandas in a future version. Use pandas.concat instead.\n",
      "  results = results.append(query_data, ignore_index=True)\n",
      "C:\\Users\\zwei\\AppData\\Local\\Temp\\ipykernel_588\\4248089460.py:19: FutureWarning: The frame.append method is deprecated and will be removed from pandas in a future version. Use pandas.concat instead.\n",
      "  results = results.append(query_data, ignore_index=True)\n",
      "C:\\Users\\zwei\\AppData\\Local\\Temp\\ipykernel_588\\4248089460.py:19: FutureWarning: The frame.append method is deprecated and will be removed from pandas in a future version. Use pandas.concat instead.\n",
      "  results = results.append(query_data, ignore_index=True)\n",
      "C:\\Users\\zwei\\AppData\\Local\\Temp\\ipykernel_588\\4248089460.py:19: FutureWarning: The frame.append method is deprecated and will be removed from pandas in a future version. Use pandas.concat instead.\n",
      "  results = results.append(query_data, ignore_index=True)\n"
     ]
    },
    {
     "name": "stdout",
     "output_type": "stream",
     "text": [
      "An error occurred: 'NoneType' object does not support item assignment\n"
     ]
    },
    {
     "name": "stderr",
     "output_type": "stream",
     "text": [
      "C:\\Users\\zwei\\AppData\\Local\\Temp\\ipykernel_588\\4248089460.py:19: FutureWarning: The frame.append method is deprecated and will be removed from pandas in a future version. Use pandas.concat instead.\n",
      "  results = results.append(query_data, ignore_index=True)\n",
      "C:\\Users\\zwei\\AppData\\Local\\Temp\\ipykernel_588\\4248089460.py:19: FutureWarning: The frame.append method is deprecated and will be removed from pandas in a future version. Use pandas.concat instead.\n",
      "  results = results.append(query_data, ignore_index=True)\n",
      "C:\\Users\\zwei\\AppData\\Local\\Temp\\ipykernel_588\\4248089460.py:19: FutureWarning: The frame.append method is deprecated and will be removed from pandas in a future version. Use pandas.concat instead.\n",
      "  results = results.append(query_data, ignore_index=True)\n",
      "C:\\Users\\zwei\\AppData\\Local\\Temp\\ipykernel_588\\4248089460.py:19: FutureWarning: The frame.append method is deprecated and will be removed from pandas in a future version. Use pandas.concat instead.\n",
      "  results = results.append(query_data, ignore_index=True)\n",
      "C:\\Users\\zwei\\AppData\\Local\\Temp\\ipykernel_588\\4248089460.py:19: FutureWarning: The frame.append method is deprecated and will be removed from pandas in a future version. Use pandas.concat instead.\n",
      "  results = results.append(query_data, ignore_index=True)\n",
      "C:\\Users\\zwei\\AppData\\Local\\Temp\\ipykernel_588\\4248089460.py:19: FutureWarning: The frame.append method is deprecated and will be removed from pandas in a future version. Use pandas.concat instead.\n",
      "  results = results.append(query_data, ignore_index=True)\n",
      "C:\\Users\\zwei\\AppData\\Local\\Temp\\ipykernel_588\\4248089460.py:19: FutureWarning: The frame.append method is deprecated and will be removed from pandas in a future version. Use pandas.concat instead.\n",
      "  results = results.append(query_data, ignore_index=True)\n",
      "C:\\Users\\zwei\\AppData\\Local\\Temp\\ipykernel_588\\4248089460.py:19: FutureWarning: The frame.append method is deprecated and will be removed from pandas in a future version. Use pandas.concat instead.\n",
      "  results = results.append(query_data, ignore_index=True)\n",
      "C:\\Users\\zwei\\AppData\\Local\\Temp\\ipykernel_588\\4248089460.py:19: FutureWarning: The frame.append method is deprecated and will be removed from pandas in a future version. Use pandas.concat instead.\n",
      "  results = results.append(query_data, ignore_index=True)\n",
      "C:\\Users\\zwei\\AppData\\Local\\Temp\\ipykernel_588\\4248089460.py:19: FutureWarning: The frame.append method is deprecated and will be removed from pandas in a future version. Use pandas.concat instead.\n",
      "  results = results.append(query_data, ignore_index=True)\n",
      "C:\\Users\\zwei\\AppData\\Local\\Temp\\ipykernel_588\\4248089460.py:19: FutureWarning: The frame.append method is deprecated and will be removed from pandas in a future version. Use pandas.concat instead.\n",
      "  results = results.append(query_data, ignore_index=True)\n",
      "C:\\Users\\zwei\\AppData\\Local\\Temp\\ipykernel_588\\4248089460.py:19: FutureWarning: The frame.append method is deprecated and will be removed from pandas in a future version. Use pandas.concat instead.\n",
      "  results = results.append(query_data, ignore_index=True)\n",
      "C:\\Users\\zwei\\AppData\\Local\\Temp\\ipykernel_588\\4248089460.py:19: FutureWarning: The frame.append method is deprecated and will be removed from pandas in a future version. Use pandas.concat instead.\n",
      "  results = results.append(query_data, ignore_index=True)\n",
      "C:\\Users\\zwei\\AppData\\Local\\Temp\\ipykernel_588\\4248089460.py:19: FutureWarning: The frame.append method is deprecated and will be removed from pandas in a future version. Use pandas.concat instead.\n",
      "  results = results.append(query_data, ignore_index=True)\n",
      "C:\\Users\\zwei\\AppData\\Local\\Temp\\ipykernel_588\\4248089460.py:19: FutureWarning: The frame.append method is deprecated and will be removed from pandas in a future version. Use pandas.concat instead.\n",
      "  results = results.append(query_data, ignore_index=True)\n",
      "C:\\Users\\zwei\\AppData\\Local\\Temp\\ipykernel_588\\4248089460.py:19: FutureWarning: The frame.append method is deprecated and will be removed from pandas in a future version. Use pandas.concat instead.\n",
      "  results = results.append(query_data, ignore_index=True)\n",
      "C:\\Users\\zwei\\AppData\\Local\\Temp\\ipykernel_588\\4248089460.py:19: FutureWarning: The frame.append method is deprecated and will be removed from pandas in a future version. Use pandas.concat instead.\n",
      "  results = results.append(query_data, ignore_index=True)\n",
      "C:\\Users\\zwei\\AppData\\Local\\Temp\\ipykernel_588\\4248089460.py:19: FutureWarning: The frame.append method is deprecated and will be removed from pandas in a future version. Use pandas.concat instead.\n",
      "  results = results.append(query_data, ignore_index=True)\n",
      "C:\\Users\\zwei\\AppData\\Local\\Temp\\ipykernel_588\\4248089460.py:19: FutureWarning: The frame.append method is deprecated and will be removed from pandas in a future version. Use pandas.concat instead.\n",
      "  results = results.append(query_data, ignore_index=True)\n",
      "C:\\Users\\zwei\\AppData\\Local\\Temp\\ipykernel_588\\4248089460.py:19: FutureWarning: The frame.append method is deprecated and will be removed from pandas in a future version. Use pandas.concat instead.\n",
      "  results = results.append(query_data, ignore_index=True)\n",
      "C:\\Users\\zwei\\AppData\\Local\\Temp\\ipykernel_588\\4248089460.py:19: FutureWarning: The frame.append method is deprecated and will be removed from pandas in a future version. Use pandas.concat instead.\n",
      "  results = results.append(query_data, ignore_index=True)\n",
      "C:\\Users\\zwei\\AppData\\Local\\Temp\\ipykernel_588\\4248089460.py:19: FutureWarning: The frame.append method is deprecated and will be removed from pandas in a future version. Use pandas.concat instead.\n",
      "  results = results.append(query_data, ignore_index=True)\n",
      "C:\\Users\\zwei\\AppData\\Local\\Temp\\ipykernel_588\\4248089460.py:19: FutureWarning: The frame.append method is deprecated and will be removed from pandas in a future version. Use pandas.concat instead.\n",
      "  results = results.append(query_data, ignore_index=True)\n",
      "C:\\Users\\zwei\\AppData\\Local\\Temp\\ipykernel_588\\4248089460.py:19: FutureWarning: The frame.append method is deprecated and will be removed from pandas in a future version. Use pandas.concat instead.\n",
      "  results = results.append(query_data, ignore_index=True)\n",
      "C:\\Users\\zwei\\AppData\\Local\\Temp\\ipykernel_588\\4248089460.py:19: FutureWarning: The frame.append method is deprecated and will be removed from pandas in a future version. Use pandas.concat instead.\n",
      "  results = results.append(query_data, ignore_index=True)\n",
      "C:\\Users\\zwei\\AppData\\Local\\Temp\\ipykernel_588\\4248089460.py:19: FutureWarning: The frame.append method is deprecated and will be removed from pandas in a future version. Use pandas.concat instead.\n",
      "  results = results.append(query_data, ignore_index=True)\n",
      "C:\\Users\\zwei\\AppData\\Local\\Temp\\ipykernel_588\\4248089460.py:19: FutureWarning: The frame.append method is deprecated and will be removed from pandas in a future version. Use pandas.concat instead.\n",
      "  results = results.append(query_data, ignore_index=True)\n",
      "C:\\Users\\zwei\\AppData\\Local\\Temp\\ipykernel_588\\4248089460.py:19: FutureWarning: The frame.append method is deprecated and will be removed from pandas in a future version. Use pandas.concat instead.\n",
      "  results = results.append(query_data, ignore_index=True)\n",
      "C:\\Users\\zwei\\AppData\\Local\\Temp\\ipykernel_588\\4248089460.py:19: FutureWarning: The frame.append method is deprecated and will be removed from pandas in a future version. Use pandas.concat instead.\n",
      "  results = results.append(query_data, ignore_index=True)\n",
      "C:\\Users\\zwei\\AppData\\Local\\Temp\\ipykernel_588\\4248089460.py:19: FutureWarning: The frame.append method is deprecated and will be removed from pandas in a future version. Use pandas.concat instead.\n",
      "  results = results.append(query_data, ignore_index=True)\n",
      "C:\\Users\\zwei\\AppData\\Local\\Temp\\ipykernel_588\\4248089460.py:19: FutureWarning: The frame.append method is deprecated and will be removed from pandas in a future version. Use pandas.concat instead.\n",
      "  results = results.append(query_data, ignore_index=True)\n",
      "C:\\Users\\zwei\\AppData\\Local\\Temp\\ipykernel_588\\4248089460.py:19: FutureWarning: The frame.append method is deprecated and will be removed from pandas in a future version. Use pandas.concat instead.\n",
      "  results = results.append(query_data, ignore_index=True)\n",
      "C:\\Users\\zwei\\AppData\\Local\\Temp\\ipykernel_588\\4248089460.py:19: FutureWarning: The frame.append method is deprecated and will be removed from pandas in a future version. Use pandas.concat instead.\n",
      "  results = results.append(query_data, ignore_index=True)\n",
      "C:\\Users\\zwei\\AppData\\Local\\Temp\\ipykernel_588\\4248089460.py:19: FutureWarning: The frame.append method is deprecated and will be removed from pandas in a future version. Use pandas.concat instead.\n",
      "  results = results.append(query_data, ignore_index=True)\n"
     ]
    },
    {
     "name": "stderr",
     "output_type": "stream",
     "text": [
      "C:\\Users\\zwei\\AppData\\Local\\Temp\\ipykernel_588\\4248089460.py:19: FutureWarning: The frame.append method is deprecated and will be removed from pandas in a future version. Use pandas.concat instead.\n",
      "  results = results.append(query_data, ignore_index=True)\n"
     ]
    },
    {
     "name": "stdout",
     "output_type": "stream",
     "text": [
      "An error occurred: 'NoneType' object does not support item assignment\n"
     ]
    },
    {
     "name": "stderr",
     "output_type": "stream",
     "text": [
      "C:\\Users\\zwei\\AppData\\Local\\Temp\\ipykernel_588\\4248089460.py:19: FutureWarning: The frame.append method is deprecated and will be removed from pandas in a future version. Use pandas.concat instead.\n",
      "  results = results.append(query_data, ignore_index=True)\n",
      "C:\\Users\\zwei\\AppData\\Local\\Temp\\ipykernel_588\\4248089460.py:19: FutureWarning: The frame.append method is deprecated and will be removed from pandas in a future version. Use pandas.concat instead.\n",
      "  results = results.append(query_data, ignore_index=True)\n",
      "C:\\Users\\zwei\\AppData\\Local\\Temp\\ipykernel_588\\4248089460.py:19: FutureWarning: The frame.append method is deprecated and will be removed from pandas in a future version. Use pandas.concat instead.\n",
      "  results = results.append(query_data, ignore_index=True)\n",
      "C:\\Users\\zwei\\AppData\\Local\\Temp\\ipykernel_588\\4248089460.py:19: FutureWarning: The frame.append method is deprecated and will be removed from pandas in a future version. Use pandas.concat instead.\n",
      "  results = results.append(query_data, ignore_index=True)\n",
      "C:\\Users\\zwei\\AppData\\Local\\Temp\\ipykernel_588\\4248089460.py:19: FutureWarning: The frame.append method is deprecated and will be removed from pandas in a future version. Use pandas.concat instead.\n",
      "  results = results.append(query_data, ignore_index=True)\n"
     ]
    },
    {
     "name": "stdout",
     "output_type": "stream",
     "text": [
      "An error occurred: 'NoneType' object does not support item assignment\n"
     ]
    },
    {
     "name": "stderr",
     "output_type": "stream",
     "text": [
      "C:\\Users\\zwei\\AppData\\Local\\Temp\\ipykernel_588\\4248089460.py:19: FutureWarning: The frame.append method is deprecated and will be removed from pandas in a future version. Use pandas.concat instead.\n",
      "  results = results.append(query_data, ignore_index=True)\n",
      "C:\\Users\\zwei\\AppData\\Local\\Temp\\ipykernel_588\\4248089460.py:19: FutureWarning: The frame.append method is deprecated and will be removed from pandas in a future version. Use pandas.concat instead.\n",
      "  results = results.append(query_data, ignore_index=True)\n",
      "C:\\Users\\zwei\\AppData\\Local\\Temp\\ipykernel_588\\4248089460.py:19: FutureWarning: The frame.append method is deprecated and will be removed from pandas in a future version. Use pandas.concat instead.\n",
      "  results = results.append(query_data, ignore_index=True)\n",
      "C:\\Users\\zwei\\AppData\\Local\\Temp\\ipykernel_588\\4248089460.py:19: FutureWarning: The frame.append method is deprecated and will be removed from pandas in a future version. Use pandas.concat instead.\n",
      "  results = results.append(query_data, ignore_index=True)\n",
      "C:\\Users\\zwei\\AppData\\Local\\Temp\\ipykernel_588\\4248089460.py:19: FutureWarning: The frame.append method is deprecated and will be removed from pandas in a future version. Use pandas.concat instead.\n",
      "  results = results.append(query_data, ignore_index=True)\n",
      "C:\\Users\\zwei\\AppData\\Local\\Temp\\ipykernel_588\\4248089460.py:19: FutureWarning: The frame.append method is deprecated and will be removed from pandas in a future version. Use pandas.concat instead.\n",
      "  results = results.append(query_data, ignore_index=True)\n",
      "C:\\Users\\zwei\\AppData\\Local\\Temp\\ipykernel_588\\4248089460.py:19: FutureWarning: The frame.append method is deprecated and will be removed from pandas in a future version. Use pandas.concat instead.\n",
      "  results = results.append(query_data, ignore_index=True)\n",
      "C:\\Users\\zwei\\AppData\\Local\\Temp\\ipykernel_588\\4248089460.py:19: FutureWarning: The frame.append method is deprecated and will be removed from pandas in a future version. Use pandas.concat instead.\n",
      "  results = results.append(query_data, ignore_index=True)\n",
      "C:\\Users\\zwei\\AppData\\Local\\Temp\\ipykernel_588\\4248089460.py:19: FutureWarning: The frame.append method is deprecated and will be removed from pandas in a future version. Use pandas.concat instead.\n",
      "  results = results.append(query_data, ignore_index=True)\n"
     ]
    },
    {
     "name": "stdout",
     "output_type": "stream",
     "text": [
      "An error occurred: 'NoneType' object does not support item assignment\n"
     ]
    },
    {
     "name": "stderr",
     "output_type": "stream",
     "text": [
      "C:\\Users\\zwei\\AppData\\Local\\Temp\\ipykernel_588\\4248089460.py:19: FutureWarning: The frame.append method is deprecated and will be removed from pandas in a future version. Use pandas.concat instead.\n",
      "  results = results.append(query_data, ignore_index=True)\n",
      "C:\\Users\\zwei\\AppData\\Local\\Temp\\ipykernel_588\\4248089460.py:19: FutureWarning: The frame.append method is deprecated and will be removed from pandas in a future version. Use pandas.concat instead.\n",
      "  results = results.append(query_data, ignore_index=True)\n",
      "C:\\Users\\zwei\\AppData\\Local\\Temp\\ipykernel_588\\4248089460.py:19: FutureWarning: The frame.append method is deprecated and will be removed from pandas in a future version. Use pandas.concat instead.\n",
      "  results = results.append(query_data, ignore_index=True)\n",
      "C:\\Users\\zwei\\AppData\\Local\\Temp\\ipykernel_588\\4248089460.py:19: FutureWarning: The frame.append method is deprecated and will be removed from pandas in a future version. Use pandas.concat instead.\n",
      "  results = results.append(query_data, ignore_index=True)\n",
      "C:\\Users\\zwei\\AppData\\Local\\Temp\\ipykernel_588\\4248089460.py:19: FutureWarning: The frame.append method is deprecated and will be removed from pandas in a future version. Use pandas.concat instead.\n",
      "  results = results.append(query_data, ignore_index=True)\n",
      "C:\\Users\\zwei\\AppData\\Local\\Temp\\ipykernel_588\\4248089460.py:19: FutureWarning: The frame.append method is deprecated and will be removed from pandas in a future version. Use pandas.concat instead.\n",
      "  results = results.append(query_data, ignore_index=True)\n",
      "C:\\Users\\zwei\\AppData\\Local\\Temp\\ipykernel_588\\4248089460.py:19: FutureWarning: The frame.append method is deprecated and will be removed from pandas in a future version. Use pandas.concat instead.\n",
      "  results = results.append(query_data, ignore_index=True)\n",
      "C:\\Users\\zwei\\AppData\\Local\\Temp\\ipykernel_588\\4248089460.py:19: FutureWarning: The frame.append method is deprecated and will be removed from pandas in a future version. Use pandas.concat instead.\n",
      "  results = results.append(query_data, ignore_index=True)\n",
      "C:\\Users\\zwei\\AppData\\Local\\Temp\\ipykernel_588\\4248089460.py:19: FutureWarning: The frame.append method is deprecated and will be removed from pandas in a future version. Use pandas.concat instead.\n",
      "  results = results.append(query_data, ignore_index=True)\n",
      "C:\\Users\\zwei\\AppData\\Local\\Temp\\ipykernel_588\\4248089460.py:19: FutureWarning: The frame.append method is deprecated and will be removed from pandas in a future version. Use pandas.concat instead.\n",
      "  results = results.append(query_data, ignore_index=True)\n",
      "C:\\Users\\zwei\\AppData\\Local\\Temp\\ipykernel_588\\4248089460.py:19: FutureWarning: The frame.append method is deprecated and will be removed from pandas in a future version. Use pandas.concat instead.\n",
      "  results = results.append(query_data, ignore_index=True)\n"
     ]
    },
    {
     "name": "stdout",
     "output_type": "stream",
     "text": [
      "An error occurred: 'NoneType' object does not support item assignment\n"
     ]
    },
    {
     "name": "stderr",
     "output_type": "stream",
     "text": [
      "C:\\Users\\zwei\\AppData\\Local\\Temp\\ipykernel_588\\4248089460.py:19: FutureWarning: The frame.append method is deprecated and will be removed from pandas in a future version. Use pandas.concat instead.\n",
      "  results = results.append(query_data, ignore_index=True)\n",
      "C:\\Users\\zwei\\AppData\\Local\\Temp\\ipykernel_588\\4248089460.py:19: FutureWarning: The frame.append method is deprecated and will be removed from pandas in a future version. Use pandas.concat instead.\n",
      "  results = results.append(query_data, ignore_index=True)\n",
      "C:\\Users\\zwei\\AppData\\Local\\Temp\\ipykernel_588\\4248089460.py:19: FutureWarning: The frame.append method is deprecated and will be removed from pandas in a future version. Use pandas.concat instead.\n",
      "  results = results.append(query_data, ignore_index=True)\n",
      "C:\\Users\\zwei\\AppData\\Local\\Temp\\ipykernel_588\\4248089460.py:19: FutureWarning: The frame.append method is deprecated and will be removed from pandas in a future version. Use pandas.concat instead.\n",
      "  results = results.append(query_data, ignore_index=True)\n",
      "C:\\Users\\zwei\\AppData\\Local\\Temp\\ipykernel_588\\4248089460.py:19: FutureWarning: The frame.append method is deprecated and will be removed from pandas in a future version. Use pandas.concat instead.\n",
      "  results = results.append(query_data, ignore_index=True)\n",
      "C:\\Users\\zwei\\AppData\\Local\\Temp\\ipykernel_588\\4248089460.py:19: FutureWarning: The frame.append method is deprecated and will be removed from pandas in a future version. Use pandas.concat instead.\n",
      "  results = results.append(query_data, ignore_index=True)\n",
      "C:\\Users\\zwei\\AppData\\Local\\Temp\\ipykernel_588\\4248089460.py:19: FutureWarning: The frame.append method is deprecated and will be removed from pandas in a future version. Use pandas.concat instead.\n",
      "  results = results.append(query_data, ignore_index=True)\n",
      "C:\\Users\\zwei\\AppData\\Local\\Temp\\ipykernel_588\\4248089460.py:19: FutureWarning: The frame.append method is deprecated and will be removed from pandas in a future version. Use pandas.concat instead.\n",
      "  results = results.append(query_data, ignore_index=True)\n",
      "C:\\Users\\zwei\\AppData\\Local\\Temp\\ipykernel_588\\4248089460.py:19: FutureWarning: The frame.append method is deprecated and will be removed from pandas in a future version. Use pandas.concat instead.\n",
      "  results = results.append(query_data, ignore_index=True)\n",
      "C:\\Users\\zwei\\AppData\\Local\\Temp\\ipykernel_588\\4248089460.py:19: FutureWarning: The frame.append method is deprecated and will be removed from pandas in a future version. Use pandas.concat instead.\n",
      "  results = results.append(query_data, ignore_index=True)\n",
      "C:\\Users\\zwei\\AppData\\Local\\Temp\\ipykernel_588\\4248089460.py:19: FutureWarning: The frame.append method is deprecated and will be removed from pandas in a future version. Use pandas.concat instead.\n",
      "  results = results.append(query_data, ignore_index=True)\n",
      "C:\\Users\\zwei\\AppData\\Local\\Temp\\ipykernel_588\\4248089460.py:19: FutureWarning: The frame.append method is deprecated and will be removed from pandas in a future version. Use pandas.concat instead.\n",
      "  results = results.append(query_data, ignore_index=True)\n",
      "C:\\Users\\zwei\\AppData\\Local\\Temp\\ipykernel_588\\4248089460.py:19: FutureWarning: The frame.append method is deprecated and will be removed from pandas in a future version. Use pandas.concat instead.\n",
      "  results = results.append(query_data, ignore_index=True)\n",
      "C:\\Users\\zwei\\AppData\\Local\\Temp\\ipykernel_588\\4248089460.py:19: FutureWarning: The frame.append method is deprecated and will be removed from pandas in a future version. Use pandas.concat instead.\n",
      "  results = results.append(query_data, ignore_index=True)\n",
      "C:\\Users\\zwei\\AppData\\Local\\Temp\\ipykernel_588\\4248089460.py:19: FutureWarning: The frame.append method is deprecated and will be removed from pandas in a future version. Use pandas.concat instead.\n",
      "  results = results.append(query_data, ignore_index=True)\n"
     ]
    },
    {
     "name": "stdout",
     "output_type": "stream",
     "text": [
      "An error occurred: 'NoneType' object does not support item assignment\n"
     ]
    },
    {
     "name": "stderr",
     "output_type": "stream",
     "text": [
      "C:\\Users\\zwei\\AppData\\Local\\Temp\\ipykernel_588\\4248089460.py:19: FutureWarning: The frame.append method is deprecated and will be removed from pandas in a future version. Use pandas.concat instead.\n",
      "  results = results.append(query_data, ignore_index=True)\n",
      "C:\\Users\\zwei\\AppData\\Local\\Temp\\ipykernel_588\\4248089460.py:19: FutureWarning: The frame.append method is deprecated and will be removed from pandas in a future version. Use pandas.concat instead.\n",
      "  results = results.append(query_data, ignore_index=True)\n",
      "C:\\Users\\zwei\\AppData\\Local\\Temp\\ipykernel_588\\4248089460.py:19: FutureWarning: The frame.append method is deprecated and will be removed from pandas in a future version. Use pandas.concat instead.\n",
      "  results = results.append(query_data, ignore_index=True)\n"
     ]
    },
    {
     "name": "stdout",
     "output_type": "stream",
     "text": [
      "An error occurred: 'NoneType' object does not support item assignment\n"
     ]
    },
    {
     "name": "stderr",
     "output_type": "stream",
     "text": [
      "C:\\Users\\zwei\\AppData\\Local\\Temp\\ipykernel_588\\4248089460.py:19: FutureWarning: The frame.append method is deprecated and will be removed from pandas in a future version. Use pandas.concat instead.\n",
      "  results = results.append(query_data, ignore_index=True)\n",
      "C:\\Users\\zwei\\AppData\\Local\\Temp\\ipykernel_588\\4248089460.py:19: FutureWarning: The frame.append method is deprecated and will be removed from pandas in a future version. Use pandas.concat instead.\n",
      "  results = results.append(query_data, ignore_index=True)\n",
      "C:\\Users\\zwei\\AppData\\Local\\Temp\\ipykernel_588\\4248089460.py:19: FutureWarning: The frame.append method is deprecated and will be removed from pandas in a future version. Use pandas.concat instead.\n",
      "  results = results.append(query_data, ignore_index=True)\n"
     ]
    },
    {
     "name": "stdout",
     "output_type": "stream",
     "text": [
      "An error occurred: 'NoneType' object does not support item assignment\n"
     ]
    },
    {
     "name": "stderr",
     "output_type": "stream",
     "text": [
      "C:\\Users\\zwei\\AppData\\Local\\Temp\\ipykernel_588\\4248089460.py:19: FutureWarning: The frame.append method is deprecated and will be removed from pandas in a future version. Use pandas.concat instead.\n",
      "  results = results.append(query_data, ignore_index=True)\n",
      "C:\\Users\\zwei\\AppData\\Local\\Temp\\ipykernel_588\\4248089460.py:19: FutureWarning: The frame.append method is deprecated and will be removed from pandas in a future version. Use pandas.concat instead.\n",
      "  results = results.append(query_data, ignore_index=True)\n",
      "C:\\Users\\zwei\\AppData\\Local\\Temp\\ipykernel_588\\4248089460.py:19: FutureWarning: The frame.append method is deprecated and will be removed from pandas in a future version. Use pandas.concat instead.\n",
      "  results = results.append(query_data, ignore_index=True)\n",
      "C:\\Users\\zwei\\AppData\\Local\\Temp\\ipykernel_588\\4248089460.py:19: FutureWarning: The frame.append method is deprecated and will be removed from pandas in a future version. Use pandas.concat instead.\n",
      "  results = results.append(query_data, ignore_index=True)\n",
      "C:\\Users\\zwei\\AppData\\Local\\Temp\\ipykernel_588\\4248089460.py:19: FutureWarning: The frame.append method is deprecated and will be removed from pandas in a future version. Use pandas.concat instead.\n",
      "  results = results.append(query_data, ignore_index=True)\n",
      "C:\\Users\\zwei\\AppData\\Local\\Temp\\ipykernel_588\\4248089460.py:19: FutureWarning: The frame.append method is deprecated and will be removed from pandas in a future version. Use pandas.concat instead.\n",
      "  results = results.append(query_data, ignore_index=True)\n",
      "C:\\Users\\zwei\\AppData\\Local\\Temp\\ipykernel_588\\4248089460.py:19: FutureWarning: The frame.append method is deprecated and will be removed from pandas in a future version. Use pandas.concat instead.\n",
      "  results = results.append(query_data, ignore_index=True)\n",
      "C:\\Users\\zwei\\AppData\\Local\\Temp\\ipykernel_588\\4248089460.py:19: FutureWarning: The frame.append method is deprecated and will be removed from pandas in a future version. Use pandas.concat instead.\n",
      "  results = results.append(query_data, ignore_index=True)\n",
      "C:\\Users\\zwei\\AppData\\Local\\Temp\\ipykernel_588\\4248089460.py:19: FutureWarning: The frame.append method is deprecated and will be removed from pandas in a future version. Use pandas.concat instead.\n",
      "  results = results.append(query_data, ignore_index=True)\n",
      "C:\\Users\\zwei\\AppData\\Local\\Temp\\ipykernel_588\\4248089460.py:19: FutureWarning: The frame.append method is deprecated and will be removed from pandas in a future version. Use pandas.concat instead.\n",
      "  results = results.append(query_data, ignore_index=True)\n",
      "C:\\Users\\zwei\\AppData\\Local\\Temp\\ipykernel_588\\4248089460.py:19: FutureWarning: The frame.append method is deprecated and will be removed from pandas in a future version. Use pandas.concat instead.\n",
      "  results = results.append(query_data, ignore_index=True)\n"
     ]
    },
    {
     "name": "stdout",
     "output_type": "stream",
     "text": [
      "An error occurred: 'NoneType' object does not support item assignment\n"
     ]
    },
    {
     "name": "stderr",
     "output_type": "stream",
     "text": [
      "C:\\Users\\zwei\\AppData\\Local\\Temp\\ipykernel_588\\4248089460.py:19: FutureWarning: The frame.append method is deprecated and will be removed from pandas in a future version. Use pandas.concat instead.\n",
      "  results = results.append(query_data, ignore_index=True)\n",
      "C:\\Users\\zwei\\AppData\\Local\\Temp\\ipykernel_588\\4248089460.py:19: FutureWarning: The frame.append method is deprecated and will be removed from pandas in a future version. Use pandas.concat instead.\n",
      "  results = results.append(query_data, ignore_index=True)\n",
      "C:\\Users\\zwei\\AppData\\Local\\Temp\\ipykernel_588\\4248089460.py:19: FutureWarning: The frame.append method is deprecated and will be removed from pandas in a future version. Use pandas.concat instead.\n",
      "  results = results.append(query_data, ignore_index=True)\n",
      "C:\\Users\\zwei\\AppData\\Local\\Temp\\ipykernel_588\\4248089460.py:19: FutureWarning: The frame.append method is deprecated and will be removed from pandas in a future version. Use pandas.concat instead.\n",
      "  results = results.append(query_data, ignore_index=True)\n",
      "C:\\Users\\zwei\\AppData\\Local\\Temp\\ipykernel_588\\4248089460.py:19: FutureWarning: The frame.append method is deprecated and will be removed from pandas in a future version. Use pandas.concat instead.\n",
      "  results = results.append(query_data, ignore_index=True)\n"
     ]
    },
    {
     "name": "stdout",
     "output_type": "stream",
     "text": [
      "An error occurred: 'NoneType' object does not support item assignment\n"
     ]
    },
    {
     "name": "stderr",
     "output_type": "stream",
     "text": [
      "C:\\Users\\zwei\\AppData\\Local\\Temp\\ipykernel_588\\4248089460.py:19: FutureWarning: The frame.append method is deprecated and will be removed from pandas in a future version. Use pandas.concat instead.\n",
      "  results = results.append(query_data, ignore_index=True)\n",
      "C:\\Users\\zwei\\AppData\\Local\\Temp\\ipykernel_588\\4248089460.py:19: FutureWarning: The frame.append method is deprecated and will be removed from pandas in a future version. Use pandas.concat instead.\n",
      "  results = results.append(query_data, ignore_index=True)\n",
      "C:\\Users\\zwei\\AppData\\Local\\Temp\\ipykernel_588\\4248089460.py:19: FutureWarning: The frame.append method is deprecated and will be removed from pandas in a future version. Use pandas.concat instead.\n",
      "  results = results.append(query_data, ignore_index=True)\n",
      "C:\\Users\\zwei\\AppData\\Local\\Temp\\ipykernel_588\\4248089460.py:19: FutureWarning: The frame.append method is deprecated and will be removed from pandas in a future version. Use pandas.concat instead.\n",
      "  results = results.append(query_data, ignore_index=True)\n",
      "C:\\Users\\zwei\\AppData\\Local\\Temp\\ipykernel_588\\4248089460.py:19: FutureWarning: The frame.append method is deprecated and will be removed from pandas in a future version. Use pandas.concat instead.\n",
      "  results = results.append(query_data, ignore_index=True)\n",
      "C:\\Users\\zwei\\AppData\\Local\\Temp\\ipykernel_588\\4248089460.py:19: FutureWarning: The frame.append method is deprecated and will be removed from pandas in a future version. Use pandas.concat instead.\n",
      "  results = results.append(query_data, ignore_index=True)\n",
      "C:\\Users\\zwei\\AppData\\Local\\Temp\\ipykernel_588\\4248089460.py:19: FutureWarning: The frame.append method is deprecated and will be removed from pandas in a future version. Use pandas.concat instead.\n",
      "  results = results.append(query_data, ignore_index=True)\n",
      "C:\\Users\\zwei\\AppData\\Local\\Temp\\ipykernel_588\\4248089460.py:19: FutureWarning: The frame.append method is deprecated and will be removed from pandas in a future version. Use pandas.concat instead.\n",
      "  results = results.append(query_data, ignore_index=True)\n",
      "C:\\Users\\zwei\\AppData\\Local\\Temp\\ipykernel_588\\4248089460.py:19: FutureWarning: The frame.append method is deprecated and will be removed from pandas in a future version. Use pandas.concat instead.\n",
      "  results = results.append(query_data, ignore_index=True)\n",
      "C:\\Users\\zwei\\AppData\\Local\\Temp\\ipykernel_588\\4248089460.py:19: FutureWarning: The frame.append method is deprecated and will be removed from pandas in a future version. Use pandas.concat instead.\n",
      "  results = results.append(query_data, ignore_index=True)\n",
      "C:\\Users\\zwei\\AppData\\Local\\Temp\\ipykernel_588\\4248089460.py:19: FutureWarning: The frame.append method is deprecated and will be removed from pandas in a future version. Use pandas.concat instead.\n",
      "  results = results.append(query_data, ignore_index=True)\n",
      "C:\\Users\\zwei\\AppData\\Local\\Temp\\ipykernel_588\\4248089460.py:19: FutureWarning: The frame.append method is deprecated and will be removed from pandas in a future version. Use pandas.concat instead.\n",
      "  results = results.append(query_data, ignore_index=True)\n",
      "C:\\Users\\zwei\\AppData\\Local\\Temp\\ipykernel_588\\4248089460.py:19: FutureWarning: The frame.append method is deprecated and will be removed from pandas in a future version. Use pandas.concat instead.\n",
      "  results = results.append(query_data, ignore_index=True)\n",
      "C:\\Users\\zwei\\AppData\\Local\\Temp\\ipykernel_588\\4248089460.py:19: FutureWarning: The frame.append method is deprecated and will be removed from pandas in a future version. Use pandas.concat instead.\n",
      "  results = results.append(query_data, ignore_index=True)\n",
      "C:\\Users\\zwei\\AppData\\Local\\Temp\\ipykernel_588\\4248089460.py:19: FutureWarning: The frame.append method is deprecated and will be removed from pandas in a future version. Use pandas.concat instead.\n",
      "  results = results.append(query_data, ignore_index=True)\n",
      "C:\\Users\\zwei\\AppData\\Local\\Temp\\ipykernel_588\\4248089460.py:19: FutureWarning: The frame.append method is deprecated and will be removed from pandas in a future version. Use pandas.concat instead.\n",
      "  results = results.append(query_data, ignore_index=True)\n",
      "C:\\Users\\zwei\\AppData\\Local\\Temp\\ipykernel_588\\4248089460.py:19: FutureWarning: The frame.append method is deprecated and will be removed from pandas in a future version. Use pandas.concat instead.\n",
      "  results = results.append(query_data, ignore_index=True)\n",
      "C:\\Users\\zwei\\AppData\\Local\\Temp\\ipykernel_588\\4248089460.py:19: FutureWarning: The frame.append method is deprecated and will be removed from pandas in a future version. Use pandas.concat instead.\n",
      "  results = results.append(query_data, ignore_index=True)\n",
      "C:\\Users\\zwei\\AppData\\Local\\Temp\\ipykernel_588\\4248089460.py:19: FutureWarning: The frame.append method is deprecated and will be removed from pandas in a future version. Use pandas.concat instead.\n",
      "  results = results.append(query_data, ignore_index=True)\n",
      "C:\\Users\\zwei\\AppData\\Local\\Temp\\ipykernel_588\\4248089460.py:19: FutureWarning: The frame.append method is deprecated and will be removed from pandas in a future version. Use pandas.concat instead.\n",
      "  results = results.append(query_data, ignore_index=True)\n",
      "C:\\Users\\zwei\\AppData\\Local\\Temp\\ipykernel_588\\4248089460.py:19: FutureWarning: The frame.append method is deprecated and will be removed from pandas in a future version. Use pandas.concat instead.\n",
      "  results = results.append(query_data, ignore_index=True)\n",
      "C:\\Users\\zwei\\AppData\\Local\\Temp\\ipykernel_588\\4248089460.py:19: FutureWarning: The frame.append method is deprecated and will be removed from pandas in a future version. Use pandas.concat instead.\n",
      "  results = results.append(query_data, ignore_index=True)\n",
      "C:\\Users\\zwei\\AppData\\Local\\Temp\\ipykernel_588\\4248089460.py:19: FutureWarning: The frame.append method is deprecated and will be removed from pandas in a future version. Use pandas.concat instead.\n",
      "  results = results.append(query_data, ignore_index=True)\n",
      "C:\\Users\\zwei\\AppData\\Local\\Temp\\ipykernel_588\\4248089460.py:19: FutureWarning: The frame.append method is deprecated and will be removed from pandas in a future version. Use pandas.concat instead.\n",
      "  results = results.append(query_data, ignore_index=True)\n",
      "C:\\Users\\zwei\\AppData\\Local\\Temp\\ipykernel_588\\4248089460.py:19: FutureWarning: The frame.append method is deprecated and will be removed from pandas in a future version. Use pandas.concat instead.\n",
      "  results = results.append(query_data, ignore_index=True)\n",
      "C:\\Users\\zwei\\AppData\\Local\\Temp\\ipykernel_588\\4248089460.py:19: FutureWarning: The frame.append method is deprecated and will be removed from pandas in a future version. Use pandas.concat instead.\n",
      "  results = results.append(query_data, ignore_index=True)\n",
      "C:\\Users\\zwei\\AppData\\Local\\Temp\\ipykernel_588\\4248089460.py:19: FutureWarning: The frame.append method is deprecated and will be removed from pandas in a future version. Use pandas.concat instead.\n",
      "  results = results.append(query_data, ignore_index=True)\n",
      "C:\\Users\\zwei\\AppData\\Local\\Temp\\ipykernel_588\\4248089460.py:19: FutureWarning: The frame.append method is deprecated and will be removed from pandas in a future version. Use pandas.concat instead.\n",
      "  results = results.append(query_data, ignore_index=True)\n",
      "C:\\Users\\zwei\\AppData\\Local\\Temp\\ipykernel_588\\4248089460.py:19: FutureWarning: The frame.append method is deprecated and will be removed from pandas in a future version. Use pandas.concat instead.\n",
      "  results = results.append(query_data, ignore_index=True)\n",
      "C:\\Users\\zwei\\AppData\\Local\\Temp\\ipykernel_588\\4248089460.py:19: FutureWarning: The frame.append method is deprecated and will be removed from pandas in a future version. Use pandas.concat instead.\n",
      "  results = results.append(query_data, ignore_index=True)\n",
      "C:\\Users\\zwei\\AppData\\Local\\Temp\\ipykernel_588\\4248089460.py:19: FutureWarning: The frame.append method is deprecated and will be removed from pandas in a future version. Use pandas.concat instead.\n",
      "  results = results.append(query_data, ignore_index=True)\n"
     ]
    },
    {
     "name": "stdout",
     "output_type": "stream",
     "text": [
      "An error occurred: 'NoneType' object does not support item assignment\n"
     ]
    },
    {
     "name": "stderr",
     "output_type": "stream",
     "text": [
      "C:\\Users\\zwei\\AppData\\Local\\Temp\\ipykernel_588\\4248089460.py:19: FutureWarning: The frame.append method is deprecated and will be removed from pandas in a future version. Use pandas.concat instead.\n",
      "  results = results.append(query_data, ignore_index=True)\n",
      "C:\\Users\\zwei\\AppData\\Local\\Temp\\ipykernel_588\\4248089460.py:19: FutureWarning: The frame.append method is deprecated and will be removed from pandas in a future version. Use pandas.concat instead.\n",
      "  results = results.append(query_data, ignore_index=True)\n",
      "C:\\Users\\zwei\\AppData\\Local\\Temp\\ipykernel_588\\4248089460.py:19: FutureWarning: The frame.append method is deprecated and will be removed from pandas in a future version. Use pandas.concat instead.\n",
      "  results = results.append(query_data, ignore_index=True)\n"
     ]
    },
    {
     "name": "stdout",
     "output_type": "stream",
     "text": [
      "An error occurred: 'NoneType' object does not support item assignment\n"
     ]
    },
    {
     "name": "stderr",
     "output_type": "stream",
     "text": [
      "C:\\Users\\zwei\\AppData\\Local\\Temp\\ipykernel_588\\4248089460.py:19: FutureWarning: The frame.append method is deprecated and will be removed from pandas in a future version. Use pandas.concat instead.\n",
      "  results = results.append(query_data, ignore_index=True)\n",
      "C:\\Users\\zwei\\AppData\\Local\\Temp\\ipykernel_588\\4248089460.py:19: FutureWarning: The frame.append method is deprecated and will be removed from pandas in a future version. Use pandas.concat instead.\n",
      "  results = results.append(query_data, ignore_index=True)\n",
      "C:\\Users\\zwei\\AppData\\Local\\Temp\\ipykernel_588\\4248089460.py:19: FutureWarning: The frame.append method is deprecated and will be removed from pandas in a future version. Use pandas.concat instead.\n",
      "  results = results.append(query_data, ignore_index=True)\n"
     ]
    },
    {
     "name": "stdout",
     "output_type": "stream",
     "text": [
      "An error occurred: 'NoneType' object does not support item assignment\n"
     ]
    },
    {
     "name": "stderr",
     "output_type": "stream",
     "text": [
      "C:\\Users\\zwei\\AppData\\Local\\Temp\\ipykernel_588\\4248089460.py:19: FutureWarning: The frame.append method is deprecated and will be removed from pandas in a future version. Use pandas.concat instead.\n",
      "  results = results.append(query_data, ignore_index=True)\n",
      "C:\\Users\\zwei\\AppData\\Local\\Temp\\ipykernel_588\\4248089460.py:19: FutureWarning: The frame.append method is deprecated and will be removed from pandas in a future version. Use pandas.concat instead.\n",
      "  results = results.append(query_data, ignore_index=True)\n",
      "C:\\Users\\zwei\\AppData\\Local\\Temp\\ipykernel_588\\4248089460.py:19: FutureWarning: The frame.append method is deprecated and will be removed from pandas in a future version. Use pandas.concat instead.\n",
      "  results = results.append(query_data, ignore_index=True)\n",
      "C:\\Users\\zwei\\AppData\\Local\\Temp\\ipykernel_588\\4248089460.py:19: FutureWarning: The frame.append method is deprecated and will be removed from pandas in a future version. Use pandas.concat instead.\n",
      "  results = results.append(query_data, ignore_index=True)\n",
      "C:\\Users\\zwei\\AppData\\Local\\Temp\\ipykernel_588\\4248089460.py:19: FutureWarning: The frame.append method is deprecated and will be removed from pandas in a future version. Use pandas.concat instead.\n",
      "  results = results.append(query_data, ignore_index=True)\n"
     ]
    },
    {
     "name": "stdout",
     "output_type": "stream",
     "text": [
      "An error occurred: 'NoneType' object does not support item assignment\n"
     ]
    },
    {
     "name": "stderr",
     "output_type": "stream",
     "text": [
      "C:\\Users\\zwei\\AppData\\Local\\Temp\\ipykernel_588\\4248089460.py:19: FutureWarning: The frame.append method is deprecated and will be removed from pandas in a future version. Use pandas.concat instead.\n",
      "  results = results.append(query_data, ignore_index=True)\n",
      "C:\\Users\\zwei\\AppData\\Local\\Temp\\ipykernel_588\\4248089460.py:19: FutureWarning: The frame.append method is deprecated and will be removed from pandas in a future version. Use pandas.concat instead.\n",
      "  results = results.append(query_data, ignore_index=True)\n",
      "C:\\Users\\zwei\\AppData\\Local\\Temp\\ipykernel_588\\4248089460.py:19: FutureWarning: The frame.append method is deprecated and will be removed from pandas in a future version. Use pandas.concat instead.\n",
      "  results = results.append(query_data, ignore_index=True)\n",
      "C:\\Users\\zwei\\AppData\\Local\\Temp\\ipykernel_588\\4248089460.py:19: FutureWarning: The frame.append method is deprecated and will be removed from pandas in a future version. Use pandas.concat instead.\n",
      "  results = results.append(query_data, ignore_index=True)\n",
      "C:\\Users\\zwei\\AppData\\Local\\Temp\\ipykernel_588\\4248089460.py:19: FutureWarning: The frame.append method is deprecated and will be removed from pandas in a future version. Use pandas.concat instead.\n",
      "  results = results.append(query_data, ignore_index=True)\n",
      "C:\\Users\\zwei\\AppData\\Local\\Temp\\ipykernel_588\\4248089460.py:19: FutureWarning: The frame.append method is deprecated and will be removed from pandas in a future version. Use pandas.concat instead.\n",
      "  results = results.append(query_data, ignore_index=True)\n",
      "C:\\Users\\zwei\\AppData\\Local\\Temp\\ipykernel_588\\4248089460.py:19: FutureWarning: The frame.append method is deprecated and will be removed from pandas in a future version. Use pandas.concat instead.\n",
      "  results = results.append(query_data, ignore_index=True)\n",
      "C:\\Users\\zwei\\AppData\\Local\\Temp\\ipykernel_588\\4248089460.py:19: FutureWarning: The frame.append method is deprecated and will be removed from pandas in a future version. Use pandas.concat instead.\n",
      "  results = results.append(query_data, ignore_index=True)\n",
      "C:\\Users\\zwei\\AppData\\Local\\Temp\\ipykernel_588\\4248089460.py:19: FutureWarning: The frame.append method is deprecated and will be removed from pandas in a future version. Use pandas.concat instead.\n",
      "  results = results.append(query_data, ignore_index=True)\n",
      "C:\\Users\\zwei\\AppData\\Local\\Temp\\ipykernel_588\\4248089460.py:19: FutureWarning: The frame.append method is deprecated and will be removed from pandas in a future version. Use pandas.concat instead.\n",
      "  results = results.append(query_data, ignore_index=True)\n",
      "C:\\Users\\zwei\\AppData\\Local\\Temp\\ipykernel_588\\4248089460.py:19: FutureWarning: The frame.append method is deprecated and will be removed from pandas in a future version. Use pandas.concat instead.\n",
      "  results = results.append(query_data, ignore_index=True)\n",
      "C:\\Users\\zwei\\AppData\\Local\\Temp\\ipykernel_588\\4248089460.py:19: FutureWarning: The frame.append method is deprecated and will be removed from pandas in a future version. Use pandas.concat instead.\n",
      "  results = results.append(query_data, ignore_index=True)\n",
      "C:\\Users\\zwei\\AppData\\Local\\Temp\\ipykernel_588\\4248089460.py:19: FutureWarning: The frame.append method is deprecated and will be removed from pandas in a future version. Use pandas.concat instead.\n",
      "  results = results.append(query_data, ignore_index=True)\n",
      "C:\\Users\\zwei\\AppData\\Local\\Temp\\ipykernel_588\\4248089460.py:19: FutureWarning: The frame.append method is deprecated and will be removed from pandas in a future version. Use pandas.concat instead.\n",
      "  results = results.append(query_data, ignore_index=True)\n",
      "C:\\Users\\zwei\\AppData\\Local\\Temp\\ipykernel_588\\4248089460.py:19: FutureWarning: The frame.append method is deprecated and will be removed from pandas in a future version. Use pandas.concat instead.\n",
      "  results = results.append(query_data, ignore_index=True)\n",
      "C:\\Users\\zwei\\AppData\\Local\\Temp\\ipykernel_588\\4248089460.py:19: FutureWarning: The frame.append method is deprecated and will be removed from pandas in a future version. Use pandas.concat instead.\n",
      "  results = results.append(query_data, ignore_index=True)\n",
      "C:\\Users\\zwei\\AppData\\Local\\Temp\\ipykernel_588\\4248089460.py:19: FutureWarning: The frame.append method is deprecated and will be removed from pandas in a future version. Use pandas.concat instead.\n",
      "  results = results.append(query_data, ignore_index=True)\n",
      "C:\\Users\\zwei\\AppData\\Local\\Temp\\ipykernel_588\\4248089460.py:19: FutureWarning: The frame.append method is deprecated and will be removed from pandas in a future version. Use pandas.concat instead.\n",
      "  results = results.append(query_data, ignore_index=True)\n",
      "C:\\Users\\zwei\\AppData\\Local\\Temp\\ipykernel_588\\4248089460.py:19: FutureWarning: The frame.append method is deprecated and will be removed from pandas in a future version. Use pandas.concat instead.\n",
      "  results = results.append(query_data, ignore_index=True)\n",
      "C:\\Users\\zwei\\AppData\\Local\\Temp\\ipykernel_588\\4248089460.py:19: FutureWarning: The frame.append method is deprecated and will be removed from pandas in a future version. Use pandas.concat instead.\n",
      "  results = results.append(query_data, ignore_index=True)\n",
      "C:\\Users\\zwei\\AppData\\Local\\Temp\\ipykernel_588\\4248089460.py:19: FutureWarning: The frame.append method is deprecated and will be removed from pandas in a future version. Use pandas.concat instead.\n",
      "  results = results.append(query_data, ignore_index=True)\n",
      "C:\\Users\\zwei\\AppData\\Local\\Temp\\ipykernel_588\\4248089460.py:19: FutureWarning: The frame.append method is deprecated and will be removed from pandas in a future version. Use pandas.concat instead.\n",
      "  results = results.append(query_data, ignore_index=True)\n",
      "C:\\Users\\zwei\\AppData\\Local\\Temp\\ipykernel_588\\4248089460.py:19: FutureWarning: The frame.append method is deprecated and will be removed from pandas in a future version. Use pandas.concat instead.\n",
      "  results = results.append(query_data, ignore_index=True)\n",
      "C:\\Users\\zwei\\AppData\\Local\\Temp\\ipykernel_588\\4248089460.py:19: FutureWarning: The frame.append method is deprecated and will be removed from pandas in a future version. Use pandas.concat instead.\n",
      "  results = results.append(query_data, ignore_index=True)\n",
      "C:\\Users\\zwei\\AppData\\Local\\Temp\\ipykernel_588\\4248089460.py:19: FutureWarning: The frame.append method is deprecated and will be removed from pandas in a future version. Use pandas.concat instead.\n",
      "  results = results.append(query_data, ignore_index=True)\n",
      "C:\\Users\\zwei\\AppData\\Local\\Temp\\ipykernel_588\\4248089460.py:19: FutureWarning: The frame.append method is deprecated and will be removed from pandas in a future version. Use pandas.concat instead.\n",
      "  results = results.append(query_data, ignore_index=True)\n",
      "C:\\Users\\zwei\\AppData\\Local\\Temp\\ipykernel_588\\4248089460.py:19: FutureWarning: The frame.append method is deprecated and will be removed from pandas in a future version. Use pandas.concat instead.\n",
      "  results = results.append(query_data, ignore_index=True)\n"
     ]
    },
    {
     "name": "stdout",
     "output_type": "stream",
     "text": [
      "An error occurred: 'NoneType' object does not support item assignment\n"
     ]
    },
    {
     "name": "stderr",
     "output_type": "stream",
     "text": [
      "C:\\Users\\zwei\\AppData\\Local\\Temp\\ipykernel_588\\4248089460.py:19: FutureWarning: The frame.append method is deprecated and will be removed from pandas in a future version. Use pandas.concat instead.\n",
      "  results = results.append(query_data, ignore_index=True)\n",
      "C:\\Users\\zwei\\AppData\\Local\\Temp\\ipykernel_588\\4248089460.py:19: FutureWarning: The frame.append method is deprecated and will be removed from pandas in a future version. Use pandas.concat instead.\n",
      "  results = results.append(query_data, ignore_index=True)\n",
      "C:\\Users\\zwei\\AppData\\Local\\Temp\\ipykernel_588\\4248089460.py:19: FutureWarning: The frame.append method is deprecated and will be removed from pandas in a future version. Use pandas.concat instead.\n",
      "  results = results.append(query_data, ignore_index=True)\n"
     ]
    },
    {
     "name": "stdout",
     "output_type": "stream",
     "text": [
      "An error occurred: 'NoneType' object does not support item assignment\n"
     ]
    },
    {
     "name": "stderr",
     "output_type": "stream",
     "text": [
      "C:\\Users\\zwei\\AppData\\Local\\Temp\\ipykernel_588\\4248089460.py:19: FutureWarning: The frame.append method is deprecated and will be removed from pandas in a future version. Use pandas.concat instead.\n",
      "  results = results.append(query_data, ignore_index=True)\n",
      "C:\\Users\\zwei\\AppData\\Local\\Temp\\ipykernel_588\\4248089460.py:19: FutureWarning: The frame.append method is deprecated and will be removed from pandas in a future version. Use pandas.concat instead.\n",
      "  results = results.append(query_data, ignore_index=True)\n",
      "C:\\Users\\zwei\\AppData\\Local\\Temp\\ipykernel_588\\4248089460.py:19: FutureWarning: The frame.append method is deprecated and will be removed from pandas in a future version. Use pandas.concat instead.\n",
      "  results = results.append(query_data, ignore_index=True)\n"
     ]
    },
    {
     "name": "stdout",
     "output_type": "stream",
     "text": [
      "An error occurred: 'NoneType' object does not support item assignment\n"
     ]
    },
    {
     "name": "stderr",
     "output_type": "stream",
     "text": [
      "C:\\Users\\zwei\\AppData\\Local\\Temp\\ipykernel_588\\4248089460.py:19: FutureWarning: The frame.append method is deprecated and will be removed from pandas in a future version. Use pandas.concat instead.\n",
      "  results = results.append(query_data, ignore_index=True)\n",
      "C:\\Users\\zwei\\AppData\\Local\\Temp\\ipykernel_588\\4248089460.py:19: FutureWarning: The frame.append method is deprecated and will be removed from pandas in a future version. Use pandas.concat instead.\n",
      "  results = results.append(query_data, ignore_index=True)\n",
      "C:\\Users\\zwei\\AppData\\Local\\Temp\\ipykernel_588\\4248089460.py:19: FutureWarning: The frame.append method is deprecated and will be removed from pandas in a future version. Use pandas.concat instead.\n",
      "  results = results.append(query_data, ignore_index=True)\n"
     ]
    },
    {
     "name": "stdout",
     "output_type": "stream",
     "text": [
      "An error occurred: 'NoneType' object does not support item assignment\n"
     ]
    },
    {
     "name": "stderr",
     "output_type": "stream",
     "text": [
      "C:\\Users\\zwei\\AppData\\Local\\Temp\\ipykernel_588\\4248089460.py:19: FutureWarning: The frame.append method is deprecated and will be removed from pandas in a future version. Use pandas.concat instead.\n",
      "  results = results.append(query_data, ignore_index=True)\n",
      "C:\\Users\\zwei\\AppData\\Local\\Temp\\ipykernel_588\\4248089460.py:19: FutureWarning: The frame.append method is deprecated and will be removed from pandas in a future version. Use pandas.concat instead.\n",
      "  results = results.append(query_data, ignore_index=True)\n",
      "C:\\Users\\zwei\\AppData\\Local\\Temp\\ipykernel_588\\4248089460.py:19: FutureWarning: The frame.append method is deprecated and will be removed from pandas in a future version. Use pandas.concat instead.\n",
      "  results = results.append(query_data, ignore_index=True)\n",
      "C:\\Users\\zwei\\AppData\\Local\\Temp\\ipykernel_588\\4248089460.py:19: FutureWarning: The frame.append method is deprecated and will be removed from pandas in a future version. Use pandas.concat instead.\n",
      "  results = results.append(query_data, ignore_index=True)\n",
      "C:\\Users\\zwei\\AppData\\Local\\Temp\\ipykernel_588\\4248089460.py:19: FutureWarning: The frame.append method is deprecated and will be removed from pandas in a future version. Use pandas.concat instead.\n",
      "  results = results.append(query_data, ignore_index=True)\n",
      "C:\\Users\\zwei\\AppData\\Local\\Temp\\ipykernel_588\\4248089460.py:19: FutureWarning: The frame.append method is deprecated and will be removed from pandas in a future version. Use pandas.concat instead.\n",
      "  results = results.append(query_data, ignore_index=True)\n",
      "C:\\Users\\zwei\\AppData\\Local\\Temp\\ipykernel_588\\4248089460.py:19: FutureWarning: The frame.append method is deprecated and will be removed from pandas in a future version. Use pandas.concat instead.\n",
      "  results = results.append(query_data, ignore_index=True)\n"
     ]
    },
    {
     "name": "stdout",
     "output_type": "stream",
     "text": [
      "An error occurred: 'NoneType' object does not support item assignment\n"
     ]
    },
    {
     "name": "stderr",
     "output_type": "stream",
     "text": [
      "C:\\Users\\zwei\\AppData\\Local\\Temp\\ipykernel_588\\4248089460.py:19: FutureWarning: The frame.append method is deprecated and will be removed from pandas in a future version. Use pandas.concat instead.\n",
      "  results = results.append(query_data, ignore_index=True)\n",
      "C:\\Users\\zwei\\AppData\\Local\\Temp\\ipykernel_588\\4248089460.py:19: FutureWarning: The frame.append method is deprecated and will be removed from pandas in a future version. Use pandas.concat instead.\n",
      "  results = results.append(query_data, ignore_index=True)\n",
      "C:\\Users\\zwei\\AppData\\Local\\Temp\\ipykernel_588\\4248089460.py:19: FutureWarning: The frame.append method is deprecated and will be removed from pandas in a future version. Use pandas.concat instead.\n",
      "  results = results.append(query_data, ignore_index=True)\n",
      "C:\\Users\\zwei\\AppData\\Local\\Temp\\ipykernel_588\\4248089460.py:19: FutureWarning: The frame.append method is deprecated and will be removed from pandas in a future version. Use pandas.concat instead.\n",
      "  results = results.append(query_data, ignore_index=True)\n",
      "C:\\Users\\zwei\\AppData\\Local\\Temp\\ipykernel_588\\4248089460.py:19: FutureWarning: The frame.append method is deprecated and will be removed from pandas in a future version. Use pandas.concat instead.\n",
      "  results = results.append(query_data, ignore_index=True)\n"
     ]
    },
    {
     "name": "stdout",
     "output_type": "stream",
     "text": [
      "An error occurred: 'NoneType' object does not support item assignment\n"
     ]
    },
    {
     "name": "stderr",
     "output_type": "stream",
     "text": [
      "C:\\Users\\zwei\\AppData\\Local\\Temp\\ipykernel_588\\4248089460.py:19: FutureWarning: The frame.append method is deprecated and will be removed from pandas in a future version. Use pandas.concat instead.\n",
      "  results = results.append(query_data, ignore_index=True)\n",
      "C:\\Users\\zwei\\AppData\\Local\\Temp\\ipykernel_588\\4248089460.py:19: FutureWarning: The frame.append method is deprecated and will be removed from pandas in a future version. Use pandas.concat instead.\n",
      "  results = results.append(query_data, ignore_index=True)\n",
      "C:\\Users\\zwei\\AppData\\Local\\Temp\\ipykernel_588\\4248089460.py:19: FutureWarning: The frame.append method is deprecated and will be removed from pandas in a future version. Use pandas.concat instead.\n",
      "  results = results.append(query_data, ignore_index=True)\n",
      "C:\\Users\\zwei\\AppData\\Local\\Temp\\ipykernel_588\\4248089460.py:19: FutureWarning: The frame.append method is deprecated and will be removed from pandas in a future version. Use pandas.concat instead.\n",
      "  results = results.append(query_data, ignore_index=True)\n",
      "C:\\Users\\zwei\\AppData\\Local\\Temp\\ipykernel_588\\4248089460.py:19: FutureWarning: The frame.append method is deprecated and will be removed from pandas in a future version. Use pandas.concat instead.\n",
      "  results = results.append(query_data, ignore_index=True)\n",
      "C:\\Users\\zwei\\AppData\\Local\\Temp\\ipykernel_588\\4248089460.py:19: FutureWarning: The frame.append method is deprecated and will be removed from pandas in a future version. Use pandas.concat instead.\n",
      "  results = results.append(query_data, ignore_index=True)\n",
      "C:\\Users\\zwei\\AppData\\Local\\Temp\\ipykernel_588\\4248089460.py:19: FutureWarning: The frame.append method is deprecated and will be removed from pandas in a future version. Use pandas.concat instead.\n",
      "  results = results.append(query_data, ignore_index=True)\n",
      "C:\\Users\\zwei\\AppData\\Local\\Temp\\ipykernel_588\\4248089460.py:19: FutureWarning: The frame.append method is deprecated and will be removed from pandas in a future version. Use pandas.concat instead.\n",
      "  results = results.append(query_data, ignore_index=True)\n",
      "C:\\Users\\zwei\\AppData\\Local\\Temp\\ipykernel_588\\4248089460.py:19: FutureWarning: The frame.append method is deprecated and will be removed from pandas in a future version. Use pandas.concat instead.\n",
      "  results = results.append(query_data, ignore_index=True)\n",
      "C:\\Users\\zwei\\AppData\\Local\\Temp\\ipykernel_588\\4248089460.py:19: FutureWarning: The frame.append method is deprecated and will be removed from pandas in a future version. Use pandas.concat instead.\n",
      "  results = results.append(query_data, ignore_index=True)\n",
      "C:\\Users\\zwei\\AppData\\Local\\Temp\\ipykernel_588\\4248089460.py:19: FutureWarning: The frame.append method is deprecated and will be removed from pandas in a future version. Use pandas.concat instead.\n",
      "  results = results.append(query_data, ignore_index=True)\n",
      "C:\\Users\\zwei\\AppData\\Local\\Temp\\ipykernel_588\\4248089460.py:19: FutureWarning: The frame.append method is deprecated and will be removed from pandas in a future version. Use pandas.concat instead.\n",
      "  results = results.append(query_data, ignore_index=True)\n",
      "C:\\Users\\zwei\\AppData\\Local\\Temp\\ipykernel_588\\4248089460.py:19: FutureWarning: The frame.append method is deprecated and will be removed from pandas in a future version. Use pandas.concat instead.\n",
      "  results = results.append(query_data, ignore_index=True)\n",
      "C:\\Users\\zwei\\AppData\\Local\\Temp\\ipykernel_588\\4248089460.py:19: FutureWarning: The frame.append method is deprecated and will be removed from pandas in a future version. Use pandas.concat instead.\n",
      "  results = results.append(query_data, ignore_index=True)\n",
      "C:\\Users\\zwei\\AppData\\Local\\Temp\\ipykernel_588\\4248089460.py:19: FutureWarning: The frame.append method is deprecated and will be removed from pandas in a future version. Use pandas.concat instead.\n",
      "  results = results.append(query_data, ignore_index=True)\n",
      "C:\\Users\\zwei\\AppData\\Local\\Temp\\ipykernel_588\\4248089460.py:19: FutureWarning: The frame.append method is deprecated and will be removed from pandas in a future version. Use pandas.concat instead.\n",
      "  results = results.append(query_data, ignore_index=True)\n",
      "C:\\Users\\zwei\\AppData\\Local\\Temp\\ipykernel_588\\4248089460.py:19: FutureWarning: The frame.append method is deprecated and will be removed from pandas in a future version. Use pandas.concat instead.\n",
      "  results = results.append(query_data, ignore_index=True)\n",
      "C:\\Users\\zwei\\AppData\\Local\\Temp\\ipykernel_588\\4248089460.py:19: FutureWarning: The frame.append method is deprecated and will be removed from pandas in a future version. Use pandas.concat instead.\n",
      "  results = results.append(query_data, ignore_index=True)\n",
      "C:\\Users\\zwei\\AppData\\Local\\Temp\\ipykernel_588\\4248089460.py:19: FutureWarning: The frame.append method is deprecated and will be removed from pandas in a future version. Use pandas.concat instead.\n",
      "  results = results.append(query_data, ignore_index=True)\n",
      "C:\\Users\\zwei\\AppData\\Local\\Temp\\ipykernel_588\\4248089460.py:19: FutureWarning: The frame.append method is deprecated and will be removed from pandas in a future version. Use pandas.concat instead.\n",
      "  results = results.append(query_data, ignore_index=True)\n",
      "C:\\Users\\zwei\\AppData\\Local\\Temp\\ipykernel_588\\4248089460.py:19: FutureWarning: The frame.append method is deprecated and will be removed from pandas in a future version. Use pandas.concat instead.\n",
      "  results = results.append(query_data, ignore_index=True)\n",
      "C:\\Users\\zwei\\AppData\\Local\\Temp\\ipykernel_588\\4248089460.py:19: FutureWarning: The frame.append method is deprecated and will be removed from pandas in a future version. Use pandas.concat instead.\n",
      "  results = results.append(query_data, ignore_index=True)\n",
      "C:\\Users\\zwei\\AppData\\Local\\Temp\\ipykernel_588\\4248089460.py:19: FutureWarning: The frame.append method is deprecated and will be removed from pandas in a future version. Use pandas.concat instead.\n",
      "  results = results.append(query_data, ignore_index=True)\n",
      "C:\\Users\\zwei\\AppData\\Local\\Temp\\ipykernel_588\\4248089460.py:19: FutureWarning: The frame.append method is deprecated and will be removed from pandas in a future version. Use pandas.concat instead.\n",
      "  results = results.append(query_data, ignore_index=True)\n",
      "C:\\Users\\zwei\\AppData\\Local\\Temp\\ipykernel_588\\4248089460.py:19: FutureWarning: The frame.append method is deprecated and will be removed from pandas in a future version. Use pandas.concat instead.\n",
      "  results = results.append(query_data, ignore_index=True)\n",
      "C:\\Users\\zwei\\AppData\\Local\\Temp\\ipykernel_588\\4248089460.py:19: FutureWarning: The frame.append method is deprecated and will be removed from pandas in a future version. Use pandas.concat instead.\n",
      "  results = results.append(query_data, ignore_index=True)\n",
      "C:\\Users\\zwei\\AppData\\Local\\Temp\\ipykernel_588\\4248089460.py:19: FutureWarning: The frame.append method is deprecated and will be removed from pandas in a future version. Use pandas.concat instead.\n",
      "  results = results.append(query_data, ignore_index=True)\n",
      "C:\\Users\\zwei\\AppData\\Local\\Temp\\ipykernel_588\\4248089460.py:19: FutureWarning: The frame.append method is deprecated and will be removed from pandas in a future version. Use pandas.concat instead.\n",
      "  results = results.append(query_data, ignore_index=True)\n",
      "C:\\Users\\zwei\\AppData\\Local\\Temp\\ipykernel_588\\4248089460.py:19: FutureWarning: The frame.append method is deprecated and will be removed from pandas in a future version. Use pandas.concat instead.\n",
      "  results = results.append(query_data, ignore_index=True)\n"
     ]
    },
    {
     "name": "stdout",
     "output_type": "stream",
     "text": [
      "An error occurred: 'NoneType' object does not support item assignment\n"
     ]
    },
    {
     "name": "stderr",
     "output_type": "stream",
     "text": [
      "C:\\Users\\zwei\\AppData\\Local\\Temp\\ipykernel_588\\4248089460.py:19: FutureWarning: The frame.append method is deprecated and will be removed from pandas in a future version. Use pandas.concat instead.\n",
      "  results = results.append(query_data, ignore_index=True)\n"
     ]
    },
    {
     "name": "stdout",
     "output_type": "stream",
     "text": [
      "An error occurred: 'NoneType' object does not support item assignment\n"
     ]
    },
    {
     "name": "stderr",
     "output_type": "stream",
     "text": [
      "C:\\Users\\zwei\\AppData\\Local\\Temp\\ipykernel_588\\4248089460.py:19: FutureWarning: The frame.append method is deprecated and will be removed from pandas in a future version. Use pandas.concat instead.\n",
      "  results = results.append(query_data, ignore_index=True)\n",
      "C:\\Users\\zwei\\AppData\\Local\\Temp\\ipykernel_588\\4248089460.py:19: FutureWarning: The frame.append method is deprecated and will be removed from pandas in a future version. Use pandas.concat instead.\n",
      "  results = results.append(query_data, ignore_index=True)\n",
      "C:\\Users\\zwei\\AppData\\Local\\Temp\\ipykernel_588\\4248089460.py:19: FutureWarning: The frame.append method is deprecated and will be removed from pandas in a future version. Use pandas.concat instead.\n",
      "  results = results.append(query_data, ignore_index=True)\n"
     ]
    },
    {
     "name": "stdout",
     "output_type": "stream",
     "text": [
      "An error occurred: 'NoneType' object does not support item assignment\n"
     ]
    },
    {
     "name": "stderr",
     "output_type": "stream",
     "text": [
      "C:\\Users\\zwei\\AppData\\Local\\Temp\\ipykernel_588\\4248089460.py:19: FutureWarning: The frame.append method is deprecated and will be removed from pandas in a future version. Use pandas.concat instead.\n",
      "  results = results.append(query_data, ignore_index=True)\n",
      "C:\\Users\\zwei\\AppData\\Local\\Temp\\ipykernel_588\\4248089460.py:19: FutureWarning: The frame.append method is deprecated and will be removed from pandas in a future version. Use pandas.concat instead.\n",
      "  results = results.append(query_data, ignore_index=True)\n",
      "C:\\Users\\zwei\\AppData\\Local\\Temp\\ipykernel_588\\4248089460.py:19: FutureWarning: The frame.append method is deprecated and will be removed from pandas in a future version. Use pandas.concat instead.\n",
      "  results = results.append(query_data, ignore_index=True)\n",
      "C:\\Users\\zwei\\AppData\\Local\\Temp\\ipykernel_588\\4248089460.py:19: FutureWarning: The frame.append method is deprecated and will be removed from pandas in a future version. Use pandas.concat instead.\n",
      "  results = results.append(query_data, ignore_index=True)\n",
      "C:\\Users\\zwei\\AppData\\Local\\Temp\\ipykernel_588\\4248089460.py:19: FutureWarning: The frame.append method is deprecated and will be removed from pandas in a future version. Use pandas.concat instead.\n",
      "  results = results.append(query_data, ignore_index=True)\n",
      "C:\\Users\\zwei\\AppData\\Local\\Temp\\ipykernel_588\\4248089460.py:19: FutureWarning: The frame.append method is deprecated and will be removed from pandas in a future version. Use pandas.concat instead.\n",
      "  results = results.append(query_data, ignore_index=True)\n",
      "C:\\Users\\zwei\\AppData\\Local\\Temp\\ipykernel_588\\4248089460.py:19: FutureWarning: The frame.append method is deprecated and will be removed from pandas in a future version. Use pandas.concat instead.\n",
      "  results = results.append(query_data, ignore_index=True)\n",
      "C:\\Users\\zwei\\AppData\\Local\\Temp\\ipykernel_588\\4248089460.py:19: FutureWarning: The frame.append method is deprecated and will be removed from pandas in a future version. Use pandas.concat instead.\n",
      "  results = results.append(query_data, ignore_index=True)\n",
      "C:\\Users\\zwei\\AppData\\Local\\Temp\\ipykernel_588\\4248089460.py:19: FutureWarning: The frame.append method is deprecated and will be removed from pandas in a future version. Use pandas.concat instead.\n",
      "  results = results.append(query_data, ignore_index=True)\n"
     ]
    },
    {
     "name": "stdout",
     "output_type": "stream",
     "text": [
      "An error occurred: 'NoneType' object does not support item assignment\n"
     ]
    },
    {
     "name": "stderr",
     "output_type": "stream",
     "text": [
      "C:\\Users\\zwei\\AppData\\Local\\Temp\\ipykernel_588\\4248089460.py:19: FutureWarning: The frame.append method is deprecated and will be removed from pandas in a future version. Use pandas.concat instead.\n",
      "  results = results.append(query_data, ignore_index=True)\n",
      "C:\\Users\\zwei\\AppData\\Local\\Temp\\ipykernel_588\\4248089460.py:19: FutureWarning: The frame.append method is deprecated and will be removed from pandas in a future version. Use pandas.concat instead.\n",
      "  results = results.append(query_data, ignore_index=True)\n",
      "C:\\Users\\zwei\\AppData\\Local\\Temp\\ipykernel_588\\4248089460.py:19: FutureWarning: The frame.append method is deprecated and will be removed from pandas in a future version. Use pandas.concat instead.\n",
      "  results = results.append(query_data, ignore_index=True)\n",
      "C:\\Users\\zwei\\AppData\\Local\\Temp\\ipykernel_588\\4248089460.py:19: FutureWarning: The frame.append method is deprecated and will be removed from pandas in a future version. Use pandas.concat instead.\n",
      "  results = results.append(query_data, ignore_index=True)\n",
      "C:\\Users\\zwei\\AppData\\Local\\Temp\\ipykernel_588\\4248089460.py:19: FutureWarning: The frame.append method is deprecated and will be removed from pandas in a future version. Use pandas.concat instead.\n",
      "  results = results.append(query_data, ignore_index=True)\n",
      "C:\\Users\\zwei\\AppData\\Local\\Temp\\ipykernel_588\\4248089460.py:19: FutureWarning: The frame.append method is deprecated and will be removed from pandas in a future version. Use pandas.concat instead.\n",
      "  results = results.append(query_data, ignore_index=True)\n",
      "C:\\Users\\zwei\\AppData\\Local\\Temp\\ipykernel_588\\4248089460.py:19: FutureWarning: The frame.append method is deprecated and will be removed from pandas in a future version. Use pandas.concat instead.\n",
      "  results = results.append(query_data, ignore_index=True)\n",
      "C:\\Users\\zwei\\AppData\\Local\\Temp\\ipykernel_588\\4248089460.py:19: FutureWarning: The frame.append method is deprecated and will be removed from pandas in a future version. Use pandas.concat instead.\n",
      "  results = results.append(query_data, ignore_index=True)\n",
      "C:\\Users\\zwei\\AppData\\Local\\Temp\\ipykernel_588\\4248089460.py:19: FutureWarning: The frame.append method is deprecated and will be removed from pandas in a future version. Use pandas.concat instead.\n",
      "  results = results.append(query_data, ignore_index=True)\n"
     ]
    },
    {
     "name": "stdout",
     "output_type": "stream",
     "text": [
      "An error occurred: 'NoneType' object does not support item assignment\n"
     ]
    },
    {
     "name": "stderr",
     "output_type": "stream",
     "text": [
      "C:\\Users\\zwei\\AppData\\Local\\Temp\\ipykernel_588\\4248089460.py:19: FutureWarning: The frame.append method is deprecated and will be removed from pandas in a future version. Use pandas.concat instead.\n",
      "  results = results.append(query_data, ignore_index=True)\n",
      "C:\\Users\\zwei\\AppData\\Local\\Temp\\ipykernel_588\\4248089460.py:19: FutureWarning: The frame.append method is deprecated and will be removed from pandas in a future version. Use pandas.concat instead.\n",
      "  results = results.append(query_data, ignore_index=True)\n",
      "C:\\Users\\zwei\\AppData\\Local\\Temp\\ipykernel_588\\4248089460.py:19: FutureWarning: The frame.append method is deprecated and will be removed from pandas in a future version. Use pandas.concat instead.\n",
      "  results = results.append(query_data, ignore_index=True)\n",
      "C:\\Users\\zwei\\AppData\\Local\\Temp\\ipykernel_588\\4248089460.py:19: FutureWarning: The frame.append method is deprecated and will be removed from pandas in a future version. Use pandas.concat instead.\n",
      "  results = results.append(query_data, ignore_index=True)\n",
      "C:\\Users\\zwei\\AppData\\Local\\Temp\\ipykernel_588\\4248089460.py:19: FutureWarning: The frame.append method is deprecated and will be removed from pandas in a future version. Use pandas.concat instead.\n",
      "  results = results.append(query_data, ignore_index=True)\n",
      "C:\\Users\\zwei\\AppData\\Local\\Temp\\ipykernel_588\\4248089460.py:19: FutureWarning: The frame.append method is deprecated and will be removed from pandas in a future version. Use pandas.concat instead.\n",
      "  results = results.append(query_data, ignore_index=True)\n",
      "C:\\Users\\zwei\\AppData\\Local\\Temp\\ipykernel_588\\4248089460.py:19: FutureWarning: The frame.append method is deprecated and will be removed from pandas in a future version. Use pandas.concat instead.\n",
      "  results = results.append(query_data, ignore_index=True)\n",
      "C:\\Users\\zwei\\AppData\\Local\\Temp\\ipykernel_588\\4248089460.py:19: FutureWarning: The frame.append method is deprecated and will be removed from pandas in a future version. Use pandas.concat instead.\n",
      "  results = results.append(query_data, ignore_index=True)\n",
      "C:\\Users\\zwei\\AppData\\Local\\Temp\\ipykernel_588\\4248089460.py:19: FutureWarning: The frame.append method is deprecated and will be removed from pandas in a future version. Use pandas.concat instead.\n",
      "  results = results.append(query_data, ignore_index=True)\n",
      "C:\\Users\\zwei\\AppData\\Local\\Temp\\ipykernel_588\\4248089460.py:19: FutureWarning: The frame.append method is deprecated and will be removed from pandas in a future version. Use pandas.concat instead.\n",
      "  results = results.append(query_data, ignore_index=True)\n",
      "C:\\Users\\zwei\\AppData\\Local\\Temp\\ipykernel_588\\4248089460.py:19: FutureWarning: The frame.append method is deprecated and will be removed from pandas in a future version. Use pandas.concat instead.\n",
      "  results = results.append(query_data, ignore_index=True)\n"
     ]
    },
    {
     "name": "stdout",
     "output_type": "stream",
     "text": [
      "An error occurred: 'NoneType' object does not support item assignment\n"
     ]
    },
    {
     "name": "stderr",
     "output_type": "stream",
     "text": [
      "C:\\Users\\zwei\\AppData\\Local\\Temp\\ipykernel_588\\4248089460.py:19: FutureWarning: The frame.append method is deprecated and will be removed from pandas in a future version. Use pandas.concat instead.\n",
      "  results = results.append(query_data, ignore_index=True)\n",
      "C:\\Users\\zwei\\AppData\\Local\\Temp\\ipykernel_588\\4248089460.py:19: FutureWarning: The frame.append method is deprecated and will be removed from pandas in a future version. Use pandas.concat instead.\n",
      "  results = results.append(query_data, ignore_index=True)\n",
      "C:\\Users\\zwei\\AppData\\Local\\Temp\\ipykernel_588\\4248089460.py:19: FutureWarning: The frame.append method is deprecated and will be removed from pandas in a future version. Use pandas.concat instead.\n",
      "  results = results.append(query_data, ignore_index=True)\n",
      "C:\\Users\\zwei\\AppData\\Local\\Temp\\ipykernel_588\\4248089460.py:19: FutureWarning: The frame.append method is deprecated and will be removed from pandas in a future version. Use pandas.concat instead.\n",
      "  results = results.append(query_data, ignore_index=True)\n",
      "C:\\Users\\zwei\\AppData\\Local\\Temp\\ipykernel_588\\4248089460.py:19: FutureWarning: The frame.append method is deprecated and will be removed from pandas in a future version. Use pandas.concat instead.\n",
      "  results = results.append(query_data, ignore_index=True)\n",
      "C:\\Users\\zwei\\AppData\\Local\\Temp\\ipykernel_588\\4248089460.py:19: FutureWarning: The frame.append method is deprecated and will be removed from pandas in a future version. Use pandas.concat instead.\n",
      "  results = results.append(query_data, ignore_index=True)\n",
      "C:\\Users\\zwei\\AppData\\Local\\Temp\\ipykernel_588\\4248089460.py:19: FutureWarning: The frame.append method is deprecated and will be removed from pandas in a future version. Use pandas.concat instead.\n",
      "  results = results.append(query_data, ignore_index=True)\n",
      "C:\\Users\\zwei\\AppData\\Local\\Temp\\ipykernel_588\\4248089460.py:19: FutureWarning: The frame.append method is deprecated and will be removed from pandas in a future version. Use pandas.concat instead.\n",
      "  results = results.append(query_data, ignore_index=True)\n",
      "C:\\Users\\zwei\\AppData\\Local\\Temp\\ipykernel_588\\4248089460.py:19: FutureWarning: The frame.append method is deprecated and will be removed from pandas in a future version. Use pandas.concat instead.\n",
      "  results = results.append(query_data, ignore_index=True)\n"
     ]
    },
    {
     "name": "stdout",
     "output_type": "stream",
     "text": [
      "An error occurred: 'NoneType' object does not support item assignment\n"
     ]
    },
    {
     "name": "stderr",
     "output_type": "stream",
     "text": [
      "C:\\Users\\zwei\\AppData\\Local\\Temp\\ipykernel_588\\4248089460.py:19: FutureWarning: The frame.append method is deprecated and will be removed from pandas in a future version. Use pandas.concat instead.\n",
      "  results = results.append(query_data, ignore_index=True)\n",
      "C:\\Users\\zwei\\AppData\\Local\\Temp\\ipykernel_588\\4248089460.py:19: FutureWarning: The frame.append method is deprecated and will be removed from pandas in a future version. Use pandas.concat instead.\n",
      "  results = results.append(query_data, ignore_index=True)\n",
      "C:\\Users\\zwei\\AppData\\Local\\Temp\\ipykernel_588\\4248089460.py:19: FutureWarning: The frame.append method is deprecated and will be removed from pandas in a future version. Use pandas.concat instead.\n",
      "  results = results.append(query_data, ignore_index=True)\n"
     ]
    },
    {
     "name": "stdout",
     "output_type": "stream",
     "text": [
      "An error occurred: 'NoneType' object does not support item assignment\n"
     ]
    },
    {
     "name": "stderr",
     "output_type": "stream",
     "text": [
      "C:\\Users\\zwei\\AppData\\Local\\Temp\\ipykernel_588\\4248089460.py:19: FutureWarning: The frame.append method is deprecated and will be removed from pandas in a future version. Use pandas.concat instead.\n",
      "  results = results.append(query_data, ignore_index=True)\n",
      "C:\\Users\\zwei\\AppData\\Local\\Temp\\ipykernel_588\\4248089460.py:19: FutureWarning: The frame.append method is deprecated and will be removed from pandas in a future version. Use pandas.concat instead.\n",
      "  results = results.append(query_data, ignore_index=True)\n",
      "C:\\Users\\zwei\\AppData\\Local\\Temp\\ipykernel_588\\4248089460.py:19: FutureWarning: The frame.append method is deprecated and will be removed from pandas in a future version. Use pandas.concat instead.\n",
      "  results = results.append(query_data, ignore_index=True)\n",
      "C:\\Users\\zwei\\AppData\\Local\\Temp\\ipykernel_588\\4248089460.py:19: FutureWarning: The frame.append method is deprecated and will be removed from pandas in a future version. Use pandas.concat instead.\n",
      "  results = results.append(query_data, ignore_index=True)\n",
      "C:\\Users\\zwei\\AppData\\Local\\Temp\\ipykernel_588\\4248089460.py:19: FutureWarning: The frame.append method is deprecated and will be removed from pandas in a future version. Use pandas.concat instead.\n",
      "  results = results.append(query_data, ignore_index=True)\n",
      "C:\\Users\\zwei\\AppData\\Local\\Temp\\ipykernel_588\\4248089460.py:19: FutureWarning: The frame.append method is deprecated and will be removed from pandas in a future version. Use pandas.concat instead.\n",
      "  results = results.append(query_data, ignore_index=True)\n",
      "C:\\Users\\zwei\\AppData\\Local\\Temp\\ipykernel_588\\4248089460.py:19: FutureWarning: The frame.append method is deprecated and will be removed from pandas in a future version. Use pandas.concat instead.\n",
      "  results = results.append(query_data, ignore_index=True)\n",
      "C:\\Users\\zwei\\AppData\\Local\\Temp\\ipykernel_588\\4248089460.py:19: FutureWarning: The frame.append method is deprecated and will be removed from pandas in a future version. Use pandas.concat instead.\n",
      "  results = results.append(query_data, ignore_index=True)\n",
      "C:\\Users\\zwei\\AppData\\Local\\Temp\\ipykernel_588\\4248089460.py:19: FutureWarning: The frame.append method is deprecated and will be removed from pandas in a future version. Use pandas.concat instead.\n",
      "  results = results.append(query_data, ignore_index=True)\n",
      "C:\\Users\\zwei\\AppData\\Local\\Temp\\ipykernel_588\\4248089460.py:19: FutureWarning: The frame.append method is deprecated and will be removed from pandas in a future version. Use pandas.concat instead.\n",
      "  results = results.append(query_data, ignore_index=True)\n",
      "C:\\Users\\zwei\\AppData\\Local\\Temp\\ipykernel_588\\4248089460.py:19: FutureWarning: The frame.append method is deprecated and will be removed from pandas in a future version. Use pandas.concat instead.\n",
      "  results = results.append(query_data, ignore_index=True)\n"
     ]
    },
    {
     "name": "stdout",
     "output_type": "stream",
     "text": [
      "An error occurred: 'NoneType' object does not support item assignment\n"
     ]
    },
    {
     "name": "stderr",
     "output_type": "stream",
     "text": [
      "C:\\Users\\zwei\\AppData\\Local\\Temp\\ipykernel_588\\4248089460.py:19: FutureWarning: The frame.append method is deprecated and will be removed from pandas in a future version. Use pandas.concat instead.\n",
      "  results = results.append(query_data, ignore_index=True)\n",
      "C:\\Users\\zwei\\AppData\\Local\\Temp\\ipykernel_588\\4248089460.py:19: FutureWarning: The frame.append method is deprecated and will be removed from pandas in a future version. Use pandas.concat instead.\n",
      "  results = results.append(query_data, ignore_index=True)\n",
      "C:\\Users\\zwei\\AppData\\Local\\Temp\\ipykernel_588\\4248089460.py:19: FutureWarning: The frame.append method is deprecated and will be removed from pandas in a future version. Use pandas.concat instead.\n",
      "  results = results.append(query_data, ignore_index=True)\n",
      "C:\\Users\\zwei\\AppData\\Local\\Temp\\ipykernel_588\\4248089460.py:19: FutureWarning: The frame.append method is deprecated and will be removed from pandas in a future version. Use pandas.concat instead.\n",
      "  results = results.append(query_data, ignore_index=True)\n",
      "C:\\Users\\zwei\\AppData\\Local\\Temp\\ipykernel_588\\4248089460.py:19: FutureWarning: The frame.append method is deprecated and will be removed from pandas in a future version. Use pandas.concat instead.\n",
      "  results = results.append(query_data, ignore_index=True)\n",
      "C:\\Users\\zwei\\AppData\\Local\\Temp\\ipykernel_588\\4248089460.py:19: FutureWarning: The frame.append method is deprecated and will be removed from pandas in a future version. Use pandas.concat instead.\n",
      "  results = results.append(query_data, ignore_index=True)\n",
      "C:\\Users\\zwei\\AppData\\Local\\Temp\\ipykernel_588\\4248089460.py:19: FutureWarning: The frame.append method is deprecated and will be removed from pandas in a future version. Use pandas.concat instead.\n",
      "  results = results.append(query_data, ignore_index=True)\n",
      "C:\\Users\\zwei\\AppData\\Local\\Temp\\ipykernel_588\\4248089460.py:19: FutureWarning: The frame.append method is deprecated and will be removed from pandas in a future version. Use pandas.concat instead.\n",
      "  results = results.append(query_data, ignore_index=True)\n",
      "C:\\Users\\zwei\\AppData\\Local\\Temp\\ipykernel_588\\4248089460.py:19: FutureWarning: The frame.append method is deprecated and will be removed from pandas in a future version. Use pandas.concat instead.\n",
      "  results = results.append(query_data, ignore_index=True)\n",
      "C:\\Users\\zwei\\AppData\\Local\\Temp\\ipykernel_588\\4248089460.py:19: FutureWarning: The frame.append method is deprecated and will be removed from pandas in a future version. Use pandas.concat instead.\n",
      "  results = results.append(query_data, ignore_index=True)\n",
      "C:\\Users\\zwei\\AppData\\Local\\Temp\\ipykernel_588\\4248089460.py:19: FutureWarning: The frame.append method is deprecated and will be removed from pandas in a future version. Use pandas.concat instead.\n",
      "  results = results.append(query_data, ignore_index=True)\n",
      "C:\\Users\\zwei\\AppData\\Local\\Temp\\ipykernel_588\\4248089460.py:19: FutureWarning: The frame.append method is deprecated and will be removed from pandas in a future version. Use pandas.concat instead.\n",
      "  results = results.append(query_data, ignore_index=True)\n",
      "C:\\Users\\zwei\\AppData\\Local\\Temp\\ipykernel_588\\4248089460.py:19: FutureWarning: The frame.append method is deprecated and will be removed from pandas in a future version. Use pandas.concat instead.\n",
      "  results = results.append(query_data, ignore_index=True)\n",
      "C:\\Users\\zwei\\AppData\\Local\\Temp\\ipykernel_588\\4248089460.py:19: FutureWarning: The frame.append method is deprecated and will be removed from pandas in a future version. Use pandas.concat instead.\n",
      "  results = results.append(query_data, ignore_index=True)\n",
      "C:\\Users\\zwei\\AppData\\Local\\Temp\\ipykernel_588\\4248089460.py:19: FutureWarning: The frame.append method is deprecated and will be removed from pandas in a future version. Use pandas.concat instead.\n",
      "  results = results.append(query_data, ignore_index=True)\n",
      "C:\\Users\\zwei\\AppData\\Local\\Temp\\ipykernel_588\\4248089460.py:19: FutureWarning: The frame.append method is deprecated and will be removed from pandas in a future version. Use pandas.concat instead.\n",
      "  results = results.append(query_data, ignore_index=True)\n",
      "C:\\Users\\zwei\\AppData\\Local\\Temp\\ipykernel_588\\4248089460.py:19: FutureWarning: The frame.append method is deprecated and will be removed from pandas in a future version. Use pandas.concat instead.\n",
      "  results = results.append(query_data, ignore_index=True)\n",
      "C:\\Users\\zwei\\AppData\\Local\\Temp\\ipykernel_588\\4248089460.py:19: FutureWarning: The frame.append method is deprecated and will be removed from pandas in a future version. Use pandas.concat instead.\n",
      "  results = results.append(query_data, ignore_index=True)\n",
      "C:\\Users\\zwei\\AppData\\Local\\Temp\\ipykernel_588\\4248089460.py:19: FutureWarning: The frame.append method is deprecated and will be removed from pandas in a future version. Use pandas.concat instead.\n",
      "  results = results.append(query_data, ignore_index=True)\n",
      "C:\\Users\\zwei\\AppData\\Local\\Temp\\ipykernel_588\\4248089460.py:19: FutureWarning: The frame.append method is deprecated and will be removed from pandas in a future version. Use pandas.concat instead.\n",
      "  results = results.append(query_data, ignore_index=True)\n",
      "C:\\Users\\zwei\\AppData\\Local\\Temp\\ipykernel_588\\4248089460.py:19: FutureWarning: The frame.append method is deprecated and will be removed from pandas in a future version. Use pandas.concat instead.\n",
      "  results = results.append(query_data, ignore_index=True)\n",
      "C:\\Users\\zwei\\AppData\\Local\\Temp\\ipykernel_588\\4248089460.py:19: FutureWarning: The frame.append method is deprecated and will be removed from pandas in a future version. Use pandas.concat instead.\n",
      "  results = results.append(query_data, ignore_index=True)\n",
      "C:\\Users\\zwei\\AppData\\Local\\Temp\\ipykernel_588\\4248089460.py:19: FutureWarning: The frame.append method is deprecated and will be removed from pandas in a future version. Use pandas.concat instead.\n",
      "  results = results.append(query_data, ignore_index=True)\n",
      "C:\\Users\\zwei\\AppData\\Local\\Temp\\ipykernel_588\\4248089460.py:19: FutureWarning: The frame.append method is deprecated and will be removed from pandas in a future version. Use pandas.concat instead.\n",
      "  results = results.append(query_data, ignore_index=True)\n"
     ]
    },
    {
     "name": "stdout",
     "output_type": "stream",
     "text": [
      "An error occurred: The request failed: Google returned a response with code 429\n"
     ]
    },
    {
     "name": "stderr",
     "output_type": "stream",
     "text": [
      "C:\\Users\\zwei\\AppData\\Local\\Temp\\ipykernel_588\\4248089460.py:19: FutureWarning: The frame.append method is deprecated and will be removed from pandas in a future version. Use pandas.concat instead.\n",
      "  results = results.append(query_data, ignore_index=True)\n",
      "C:\\Users\\zwei\\AppData\\Local\\Temp\\ipykernel_588\\4248089460.py:19: FutureWarning: The frame.append method is deprecated and will be removed from pandas in a future version. Use pandas.concat instead.\n",
      "  results = results.append(query_data, ignore_index=True)\n",
      "C:\\Users\\zwei\\AppData\\Local\\Temp\\ipykernel_588\\4248089460.py:19: FutureWarning: The frame.append method is deprecated and will be removed from pandas in a future version. Use pandas.concat instead.\n",
      "  results = results.append(query_data, ignore_index=True)\n",
      "C:\\Users\\zwei\\AppData\\Local\\Temp\\ipykernel_588\\4248089460.py:19: FutureWarning: The frame.append method is deprecated and will be removed from pandas in a future version. Use pandas.concat instead.\n",
      "  results = results.append(query_data, ignore_index=True)\n",
      "C:\\Users\\zwei\\AppData\\Local\\Temp\\ipykernel_588\\4248089460.py:19: FutureWarning: The frame.append method is deprecated and will be removed from pandas in a future version. Use pandas.concat instead.\n",
      "  results = results.append(query_data, ignore_index=True)\n",
      "C:\\Users\\zwei\\AppData\\Local\\Temp\\ipykernel_588\\4248089460.py:19: FutureWarning: The frame.append method is deprecated and will be removed from pandas in a future version. Use pandas.concat instead.\n",
      "  results = results.append(query_data, ignore_index=True)\n",
      "C:\\Users\\zwei\\AppData\\Local\\Temp\\ipykernel_588\\4248089460.py:19: FutureWarning: The frame.append method is deprecated and will be removed from pandas in a future version. Use pandas.concat instead.\n",
      "  results = results.append(query_data, ignore_index=True)\n",
      "C:\\Users\\zwei\\AppData\\Local\\Temp\\ipykernel_588\\4248089460.py:19: FutureWarning: The frame.append method is deprecated and will be removed from pandas in a future version. Use pandas.concat instead.\n",
      "  results = results.append(query_data, ignore_index=True)\n",
      "C:\\Users\\zwei\\AppData\\Local\\Temp\\ipykernel_588\\4248089460.py:19: FutureWarning: The frame.append method is deprecated and will be removed from pandas in a future version. Use pandas.concat instead.\n",
      "  results = results.append(query_data, ignore_index=True)\n"
     ]
    },
    {
     "name": "stdout",
     "output_type": "stream",
     "text": [
      "An error occurred: 'NoneType' object does not support item assignment\n"
     ]
    },
    {
     "name": "stderr",
     "output_type": "stream",
     "text": [
      "C:\\Users\\zwei\\AppData\\Local\\Temp\\ipykernel_588\\4248089460.py:19: FutureWarning: The frame.append method is deprecated and will be removed from pandas in a future version. Use pandas.concat instead.\n",
      "  results = results.append(query_data, ignore_index=True)\n",
      "C:\\Users\\zwei\\AppData\\Local\\Temp\\ipykernel_588\\4248089460.py:19: FutureWarning: The frame.append method is deprecated and will be removed from pandas in a future version. Use pandas.concat instead.\n",
      "  results = results.append(query_data, ignore_index=True)\n",
      "C:\\Users\\zwei\\AppData\\Local\\Temp\\ipykernel_588\\4248089460.py:19: FutureWarning: The frame.append method is deprecated and will be removed from pandas in a future version. Use pandas.concat instead.\n",
      "  results = results.append(query_data, ignore_index=True)\n",
      "C:\\Users\\zwei\\AppData\\Local\\Temp\\ipykernel_588\\4248089460.py:19: FutureWarning: The frame.append method is deprecated and will be removed from pandas in a future version. Use pandas.concat instead.\n",
      "  results = results.append(query_data, ignore_index=True)\n",
      "C:\\Users\\zwei\\AppData\\Local\\Temp\\ipykernel_588\\4248089460.py:19: FutureWarning: The frame.append method is deprecated and will be removed from pandas in a future version. Use pandas.concat instead.\n",
      "  results = results.append(query_data, ignore_index=True)\n",
      "C:\\Users\\zwei\\AppData\\Local\\Temp\\ipykernel_588\\4248089460.py:19: FutureWarning: The frame.append method is deprecated and will be removed from pandas in a future version. Use pandas.concat instead.\n",
      "  results = results.append(query_data, ignore_index=True)\n",
      "C:\\Users\\zwei\\AppData\\Local\\Temp\\ipykernel_588\\4248089460.py:19: FutureWarning: The frame.append method is deprecated and will be removed from pandas in a future version. Use pandas.concat instead.\n",
      "  results = results.append(query_data, ignore_index=True)\n",
      "C:\\Users\\zwei\\AppData\\Local\\Temp\\ipykernel_588\\4248089460.py:19: FutureWarning: The frame.append method is deprecated and will be removed from pandas in a future version. Use pandas.concat instead.\n",
      "  results = results.append(query_data, ignore_index=True)\n",
      "C:\\Users\\zwei\\AppData\\Local\\Temp\\ipykernel_588\\4248089460.py:19: FutureWarning: The frame.append method is deprecated and will be removed from pandas in a future version. Use pandas.concat instead.\n",
      "  results = results.append(query_data, ignore_index=True)\n",
      "C:\\Users\\zwei\\AppData\\Local\\Temp\\ipykernel_588\\4248089460.py:19: FutureWarning: The frame.append method is deprecated and will be removed from pandas in a future version. Use pandas.concat instead.\n",
      "  results = results.append(query_data, ignore_index=True)\n",
      "C:\\Users\\zwei\\AppData\\Local\\Temp\\ipykernel_588\\4248089460.py:19: FutureWarning: The frame.append method is deprecated and will be removed from pandas in a future version. Use pandas.concat instead.\n",
      "  results = results.append(query_data, ignore_index=True)\n",
      "C:\\Users\\zwei\\AppData\\Local\\Temp\\ipykernel_588\\4248089460.py:19: FutureWarning: The frame.append method is deprecated and will be removed from pandas in a future version. Use pandas.concat instead.\n",
      "  results = results.append(query_data, ignore_index=True)\n",
      "C:\\Users\\zwei\\AppData\\Local\\Temp\\ipykernel_588\\4248089460.py:19: FutureWarning: The frame.append method is deprecated and will be removed from pandas in a future version. Use pandas.concat instead.\n",
      "  results = results.append(query_data, ignore_index=True)\n",
      "C:\\Users\\zwei\\AppData\\Local\\Temp\\ipykernel_588\\4248089460.py:19: FutureWarning: The frame.append method is deprecated and will be removed from pandas in a future version. Use pandas.concat instead.\n",
      "  results = results.append(query_data, ignore_index=True)\n",
      "C:\\Users\\zwei\\AppData\\Local\\Temp\\ipykernel_588\\4248089460.py:19: FutureWarning: The frame.append method is deprecated and will be removed from pandas in a future version. Use pandas.concat instead.\n",
      "  results = results.append(query_data, ignore_index=True)\n",
      "C:\\Users\\zwei\\AppData\\Local\\Temp\\ipykernel_588\\4248089460.py:19: FutureWarning: The frame.append method is deprecated and will be removed from pandas in a future version. Use pandas.concat instead.\n",
      "  results = results.append(query_data, ignore_index=True)\n",
      "C:\\Users\\zwei\\AppData\\Local\\Temp\\ipykernel_588\\4248089460.py:19: FutureWarning: The frame.append method is deprecated and will be removed from pandas in a future version. Use pandas.concat instead.\n",
      "  results = results.append(query_data, ignore_index=True)\n",
      "C:\\Users\\zwei\\AppData\\Local\\Temp\\ipykernel_588\\4248089460.py:19: FutureWarning: The frame.append method is deprecated and will be removed from pandas in a future version. Use pandas.concat instead.\n",
      "  results = results.append(query_data, ignore_index=True)\n",
      "C:\\Users\\zwei\\AppData\\Local\\Temp\\ipykernel_588\\4248089460.py:19: FutureWarning: The frame.append method is deprecated and will be removed from pandas in a future version. Use pandas.concat instead.\n",
      "  results = results.append(query_data, ignore_index=True)\n",
      "C:\\Users\\zwei\\AppData\\Local\\Temp\\ipykernel_588\\4248089460.py:19: FutureWarning: The frame.append method is deprecated and will be removed from pandas in a future version. Use pandas.concat instead.\n",
      "  results = results.append(query_data, ignore_index=True)\n",
      "C:\\Users\\zwei\\AppData\\Local\\Temp\\ipykernel_588\\4248089460.py:19: FutureWarning: The frame.append method is deprecated and will be removed from pandas in a future version. Use pandas.concat instead.\n",
      "  results = results.append(query_data, ignore_index=True)\n",
      "C:\\Users\\zwei\\AppData\\Local\\Temp\\ipykernel_588\\4248089460.py:19: FutureWarning: The frame.append method is deprecated and will be removed from pandas in a future version. Use pandas.concat instead.\n",
      "  results = results.append(query_data, ignore_index=True)\n",
      "C:\\Users\\zwei\\AppData\\Local\\Temp\\ipykernel_588\\4248089460.py:19: FutureWarning: The frame.append method is deprecated and will be removed from pandas in a future version. Use pandas.concat instead.\n",
      "  results = results.append(query_data, ignore_index=True)\n",
      "C:\\Users\\zwei\\AppData\\Local\\Temp\\ipykernel_588\\4248089460.py:19: FutureWarning: The frame.append method is deprecated and will be removed from pandas in a future version. Use pandas.concat instead.\n",
      "  results = results.append(query_data, ignore_index=True)\n",
      "C:\\Users\\zwei\\AppData\\Local\\Temp\\ipykernel_588\\4248089460.py:19: FutureWarning: The frame.append method is deprecated and will be removed from pandas in a future version. Use pandas.concat instead.\n",
      "  results = results.append(query_data, ignore_index=True)\n"
     ]
    },
    {
     "name": "stdout",
     "output_type": "stream",
     "text": [
      "An error occurred: 'NoneType' object does not support item assignment\n"
     ]
    },
    {
     "name": "stderr",
     "output_type": "stream",
     "text": [
      "C:\\Users\\zwei\\AppData\\Local\\Temp\\ipykernel_588\\4248089460.py:19: FutureWarning: The frame.append method is deprecated and will be removed from pandas in a future version. Use pandas.concat instead.\n",
      "  results = results.append(query_data, ignore_index=True)\n",
      "C:\\Users\\zwei\\AppData\\Local\\Temp\\ipykernel_588\\4248089460.py:19: FutureWarning: The frame.append method is deprecated and will be removed from pandas in a future version. Use pandas.concat instead.\n",
      "  results = results.append(query_data, ignore_index=True)\n",
      "C:\\Users\\zwei\\AppData\\Local\\Temp\\ipykernel_588\\4248089460.py:19: FutureWarning: The frame.append method is deprecated and will be removed from pandas in a future version. Use pandas.concat instead.\n",
      "  results = results.append(query_data, ignore_index=True)\n",
      "C:\\Users\\zwei\\AppData\\Local\\Temp\\ipykernel_588\\4248089460.py:19: FutureWarning: The frame.append method is deprecated and will be removed from pandas in a future version. Use pandas.concat instead.\n",
      "  results = results.append(query_data, ignore_index=True)\n",
      "C:\\Users\\zwei\\AppData\\Local\\Temp\\ipykernel_588\\4248089460.py:19: FutureWarning: The frame.append method is deprecated and will be removed from pandas in a future version. Use pandas.concat instead.\n",
      "  results = results.append(query_data, ignore_index=True)\n",
      "C:\\Users\\zwei\\AppData\\Local\\Temp\\ipykernel_588\\4248089460.py:19: FutureWarning: The frame.append method is deprecated and will be removed from pandas in a future version. Use pandas.concat instead.\n",
      "  results = results.append(query_data, ignore_index=True)\n",
      "C:\\Users\\zwei\\AppData\\Local\\Temp\\ipykernel_588\\4248089460.py:19: FutureWarning: The frame.append method is deprecated and will be removed from pandas in a future version. Use pandas.concat instead.\n",
      "  results = results.append(query_data, ignore_index=True)\n",
      "C:\\Users\\zwei\\AppData\\Local\\Temp\\ipykernel_588\\4248089460.py:19: FutureWarning: The frame.append method is deprecated and will be removed from pandas in a future version. Use pandas.concat instead.\n",
      "  results = results.append(query_data, ignore_index=True)\n",
      "C:\\Users\\zwei\\AppData\\Local\\Temp\\ipykernel_588\\4248089460.py:19: FutureWarning: The frame.append method is deprecated and will be removed from pandas in a future version. Use pandas.concat instead.\n",
      "  results = results.append(query_data, ignore_index=True)\n",
      "C:\\Users\\zwei\\AppData\\Local\\Temp\\ipykernel_588\\4248089460.py:19: FutureWarning: The frame.append method is deprecated and will be removed from pandas in a future version. Use pandas.concat instead.\n",
      "  results = results.append(query_data, ignore_index=True)\n",
      "C:\\Users\\zwei\\AppData\\Local\\Temp\\ipykernel_588\\4248089460.py:19: FutureWarning: The frame.append method is deprecated and will be removed from pandas in a future version. Use pandas.concat instead.\n",
      "  results = results.append(query_data, ignore_index=True)\n"
     ]
    },
    {
     "name": "stdout",
     "output_type": "stream",
     "text": [
      "An error occurred: 'NoneType' object does not support item assignment\n"
     ]
    },
    {
     "name": "stderr",
     "output_type": "stream",
     "text": [
      "C:\\Users\\zwei\\AppData\\Local\\Temp\\ipykernel_588\\4248089460.py:19: FutureWarning: The frame.append method is deprecated and will be removed from pandas in a future version. Use pandas.concat instead.\n",
      "  results = results.append(query_data, ignore_index=True)\n",
      "C:\\Users\\zwei\\AppData\\Local\\Temp\\ipykernel_588\\4248089460.py:19: FutureWarning: The frame.append method is deprecated and will be removed from pandas in a future version. Use pandas.concat instead.\n",
      "  results = results.append(query_data, ignore_index=True)\n",
      "C:\\Users\\zwei\\AppData\\Local\\Temp\\ipykernel_588\\4248089460.py:19: FutureWarning: The frame.append method is deprecated and will be removed from pandas in a future version. Use pandas.concat instead.\n",
      "  results = results.append(query_data, ignore_index=True)\n",
      "C:\\Users\\zwei\\AppData\\Local\\Temp\\ipykernel_588\\4248089460.py:19: FutureWarning: The frame.append method is deprecated and will be removed from pandas in a future version. Use pandas.concat instead.\n",
      "  results = results.append(query_data, ignore_index=True)\n",
      "C:\\Users\\zwei\\AppData\\Local\\Temp\\ipykernel_588\\4248089460.py:19: FutureWarning: The frame.append method is deprecated and will be removed from pandas in a future version. Use pandas.concat instead.\n",
      "  results = results.append(query_data, ignore_index=True)\n",
      "C:\\Users\\zwei\\AppData\\Local\\Temp\\ipykernel_588\\4248089460.py:19: FutureWarning: The frame.append method is deprecated and will be removed from pandas in a future version. Use pandas.concat instead.\n",
      "  results = results.append(query_data, ignore_index=True)\n",
      "C:\\Users\\zwei\\AppData\\Local\\Temp\\ipykernel_588\\4248089460.py:19: FutureWarning: The frame.append method is deprecated and will be removed from pandas in a future version. Use pandas.concat instead.\n",
      "  results = results.append(query_data, ignore_index=True)\n",
      "C:\\Users\\zwei\\AppData\\Local\\Temp\\ipykernel_588\\4248089460.py:19: FutureWarning: The frame.append method is deprecated and will be removed from pandas in a future version. Use pandas.concat instead.\n",
      "  results = results.append(query_data, ignore_index=True)\n",
      "C:\\Users\\zwei\\AppData\\Local\\Temp\\ipykernel_588\\4248089460.py:19: FutureWarning: The frame.append method is deprecated and will be removed from pandas in a future version. Use pandas.concat instead.\n",
      "  results = results.append(query_data, ignore_index=True)\n"
     ]
    },
    {
     "name": "stdout",
     "output_type": "stream",
     "text": [
      "An error occurred: 'NoneType' object does not support item assignment\n"
     ]
    },
    {
     "name": "stderr",
     "output_type": "stream",
     "text": [
      "C:\\Users\\zwei\\AppData\\Local\\Temp\\ipykernel_588\\4248089460.py:19: FutureWarning: The frame.append method is deprecated and will be removed from pandas in a future version. Use pandas.concat instead.\n",
      "  results = results.append(query_data, ignore_index=True)\n",
      "C:\\Users\\zwei\\AppData\\Local\\Temp\\ipykernel_588\\4248089460.py:19: FutureWarning: The frame.append method is deprecated and will be removed from pandas in a future version. Use pandas.concat instead.\n",
      "  results = results.append(query_data, ignore_index=True)\n",
      "C:\\Users\\zwei\\AppData\\Local\\Temp\\ipykernel_588\\4248089460.py:19: FutureWarning: The frame.append method is deprecated and will be removed from pandas in a future version. Use pandas.concat instead.\n",
      "  results = results.append(query_data, ignore_index=True)\n",
      "C:\\Users\\zwei\\AppData\\Local\\Temp\\ipykernel_588\\4248089460.py:19: FutureWarning: The frame.append method is deprecated and will be removed from pandas in a future version. Use pandas.concat instead.\n",
      "  results = results.append(query_data, ignore_index=True)\n",
      "C:\\Users\\zwei\\AppData\\Local\\Temp\\ipykernel_588\\4248089460.py:19: FutureWarning: The frame.append method is deprecated and will be removed from pandas in a future version. Use pandas.concat instead.\n",
      "  results = results.append(query_data, ignore_index=True)\n",
      "C:\\Users\\zwei\\AppData\\Local\\Temp\\ipykernel_588\\4248089460.py:19: FutureWarning: The frame.append method is deprecated and will be removed from pandas in a future version. Use pandas.concat instead.\n",
      "  results = results.append(query_data, ignore_index=True)\n",
      "C:\\Users\\zwei\\AppData\\Local\\Temp\\ipykernel_588\\4248089460.py:19: FutureWarning: The frame.append method is deprecated and will be removed from pandas in a future version. Use pandas.concat instead.\n",
      "  results = results.append(query_data, ignore_index=True)\n",
      "C:\\Users\\zwei\\AppData\\Local\\Temp\\ipykernel_588\\4248089460.py:19: FutureWarning: The frame.append method is deprecated and will be removed from pandas in a future version. Use pandas.concat instead.\n",
      "  results = results.append(query_data, ignore_index=True)\n",
      "C:\\Users\\zwei\\AppData\\Local\\Temp\\ipykernel_588\\4248089460.py:19: FutureWarning: The frame.append method is deprecated and will be removed from pandas in a future version. Use pandas.concat instead.\n",
      "  results = results.append(query_data, ignore_index=True)\n",
      "C:\\Users\\zwei\\AppData\\Local\\Temp\\ipykernel_588\\4248089460.py:19: FutureWarning: The frame.append method is deprecated and will be removed from pandas in a future version. Use pandas.concat instead.\n",
      "  results = results.append(query_data, ignore_index=True)\n",
      "C:\\Users\\zwei\\AppData\\Local\\Temp\\ipykernel_588\\4248089460.py:19: FutureWarning: The frame.append method is deprecated and will be removed from pandas in a future version. Use pandas.concat instead.\n",
      "  results = results.append(query_data, ignore_index=True)\n",
      "C:\\Users\\zwei\\AppData\\Local\\Temp\\ipykernel_588\\4248089460.py:19: FutureWarning: The frame.append method is deprecated and will be removed from pandas in a future version. Use pandas.concat instead.\n",
      "  results = results.append(query_data, ignore_index=True)\n",
      "C:\\Users\\zwei\\AppData\\Local\\Temp\\ipykernel_588\\4248089460.py:19: FutureWarning: The frame.append method is deprecated and will be removed from pandas in a future version. Use pandas.concat instead.\n",
      "  results = results.append(query_data, ignore_index=True)\n",
      "C:\\Users\\zwei\\AppData\\Local\\Temp\\ipykernel_588\\4248089460.py:19: FutureWarning: The frame.append method is deprecated and will be removed from pandas in a future version. Use pandas.concat instead.\n",
      "  results = results.append(query_data, ignore_index=True)\n",
      "C:\\Users\\zwei\\AppData\\Local\\Temp\\ipykernel_588\\4248089460.py:19: FutureWarning: The frame.append method is deprecated and will be removed from pandas in a future version. Use pandas.concat instead.\n",
      "  results = results.append(query_data, ignore_index=True)\n"
     ]
    },
    {
     "name": "stdout",
     "output_type": "stream",
     "text": [
      "An error occurred: 'NoneType' object does not support item assignment\n"
     ]
    },
    {
     "name": "stderr",
     "output_type": "stream",
     "text": [
      "C:\\Users\\zwei\\AppData\\Local\\Temp\\ipykernel_588\\4248089460.py:19: FutureWarning: The frame.append method is deprecated and will be removed from pandas in a future version. Use pandas.concat instead.\n",
      "  results = results.append(query_data, ignore_index=True)\n",
      "C:\\Users\\zwei\\AppData\\Local\\Temp\\ipykernel_588\\4248089460.py:19: FutureWarning: The frame.append method is deprecated and will be removed from pandas in a future version. Use pandas.concat instead.\n",
      "  results = results.append(query_data, ignore_index=True)\n",
      "C:\\Users\\zwei\\AppData\\Local\\Temp\\ipykernel_588\\4248089460.py:19: FutureWarning: The frame.append method is deprecated and will be removed from pandas in a future version. Use pandas.concat instead.\n",
      "  results = results.append(query_data, ignore_index=True)\n",
      "C:\\Users\\zwei\\AppData\\Local\\Temp\\ipykernel_588\\4248089460.py:19: FutureWarning: The frame.append method is deprecated and will be removed from pandas in a future version. Use pandas.concat instead.\n",
      "  results = results.append(query_data, ignore_index=True)\n",
      "C:\\Users\\zwei\\AppData\\Local\\Temp\\ipykernel_588\\4248089460.py:19: FutureWarning: The frame.append method is deprecated and will be removed from pandas in a future version. Use pandas.concat instead.\n",
      "  results = results.append(query_data, ignore_index=True)\n",
      "C:\\Users\\zwei\\AppData\\Local\\Temp\\ipykernel_588\\4248089460.py:19: FutureWarning: The frame.append method is deprecated and will be removed from pandas in a future version. Use pandas.concat instead.\n",
      "  results = results.append(query_data, ignore_index=True)\n",
      "C:\\Users\\zwei\\AppData\\Local\\Temp\\ipykernel_588\\4248089460.py:19: FutureWarning: The frame.append method is deprecated and will be removed from pandas in a future version. Use pandas.concat instead.\n",
      "  results = results.append(query_data, ignore_index=True)\n",
      "C:\\Users\\zwei\\AppData\\Local\\Temp\\ipykernel_588\\4248089460.py:19: FutureWarning: The frame.append method is deprecated and will be removed from pandas in a future version. Use pandas.concat instead.\n",
      "  results = results.append(query_data, ignore_index=True)\n",
      "C:\\Users\\zwei\\AppData\\Local\\Temp\\ipykernel_588\\4248089460.py:19: FutureWarning: The frame.append method is deprecated and will be removed from pandas in a future version. Use pandas.concat instead.\n",
      "  results = results.append(query_data, ignore_index=True)\n",
      "C:\\Users\\zwei\\AppData\\Local\\Temp\\ipykernel_588\\4248089460.py:19: FutureWarning: The frame.append method is deprecated and will be removed from pandas in a future version. Use pandas.concat instead.\n",
      "  results = results.append(query_data, ignore_index=True)\n",
      "C:\\Users\\zwei\\AppData\\Local\\Temp\\ipykernel_588\\4248089460.py:19: FutureWarning: The frame.append method is deprecated and will be removed from pandas in a future version. Use pandas.concat instead.\n",
      "  results = results.append(query_data, ignore_index=True)\n",
      "C:\\Users\\zwei\\AppData\\Local\\Temp\\ipykernel_588\\4248089460.py:19: FutureWarning: The frame.append method is deprecated and will be removed from pandas in a future version. Use pandas.concat instead.\n",
      "  results = results.append(query_data, ignore_index=True)\n",
      "C:\\Users\\zwei\\AppData\\Local\\Temp\\ipykernel_588\\4248089460.py:19: FutureWarning: The frame.append method is deprecated and will be removed from pandas in a future version. Use pandas.concat instead.\n",
      "  results = results.append(query_data, ignore_index=True)\n",
      "C:\\Users\\zwei\\AppData\\Local\\Temp\\ipykernel_588\\4248089460.py:19: FutureWarning: The frame.append method is deprecated and will be removed from pandas in a future version. Use pandas.concat instead.\n",
      "  results = results.append(query_data, ignore_index=True)\n",
      "C:\\Users\\zwei\\AppData\\Local\\Temp\\ipykernel_588\\4248089460.py:19: FutureWarning: The frame.append method is deprecated and will be removed from pandas in a future version. Use pandas.concat instead.\n",
      "  results = results.append(query_data, ignore_index=True)\n",
      "C:\\Users\\zwei\\AppData\\Local\\Temp\\ipykernel_588\\4248089460.py:19: FutureWarning: The frame.append method is deprecated and will be removed from pandas in a future version. Use pandas.concat instead.\n",
      "  results = results.append(query_data, ignore_index=True)\n",
      "C:\\Users\\zwei\\AppData\\Local\\Temp\\ipykernel_588\\4248089460.py:19: FutureWarning: The frame.append method is deprecated and will be removed from pandas in a future version. Use pandas.concat instead.\n",
      "  results = results.append(query_data, ignore_index=True)\n",
      "C:\\Users\\zwei\\AppData\\Local\\Temp\\ipykernel_588\\4248089460.py:19: FutureWarning: The frame.append method is deprecated and will be removed from pandas in a future version. Use pandas.concat instead.\n",
      "  results = results.append(query_data, ignore_index=True)\n",
      "C:\\Users\\zwei\\AppData\\Local\\Temp\\ipykernel_588\\4248089460.py:19: FutureWarning: The frame.append method is deprecated and will be removed from pandas in a future version. Use pandas.concat instead.\n",
      "  results = results.append(query_data, ignore_index=True)\n",
      "C:\\Users\\zwei\\AppData\\Local\\Temp\\ipykernel_588\\4248089460.py:19: FutureWarning: The frame.append method is deprecated and will be removed from pandas in a future version. Use pandas.concat instead.\n",
      "  results = results.append(query_data, ignore_index=True)\n",
      "C:\\Users\\zwei\\AppData\\Local\\Temp\\ipykernel_588\\4248089460.py:19: FutureWarning: The frame.append method is deprecated and will be removed from pandas in a future version. Use pandas.concat instead.\n",
      "  results = results.append(query_data, ignore_index=True)\n",
      "C:\\Users\\zwei\\AppData\\Local\\Temp\\ipykernel_588\\4248089460.py:19: FutureWarning: The frame.append method is deprecated and will be removed from pandas in a future version. Use pandas.concat instead.\n",
      "  results = results.append(query_data, ignore_index=True)\n",
      "C:\\Users\\zwei\\AppData\\Local\\Temp\\ipykernel_588\\4248089460.py:19: FutureWarning: The frame.append method is deprecated and will be removed from pandas in a future version. Use pandas.concat instead.\n",
      "  results = results.append(query_data, ignore_index=True)\n",
      "C:\\Users\\zwei\\AppData\\Local\\Temp\\ipykernel_588\\4248089460.py:19: FutureWarning: The frame.append method is deprecated and will be removed from pandas in a future version. Use pandas.concat instead.\n",
      "  results = results.append(query_data, ignore_index=True)\n",
      "C:\\Users\\zwei\\AppData\\Local\\Temp\\ipykernel_588\\4248089460.py:19: FutureWarning: The frame.append method is deprecated and will be removed from pandas in a future version. Use pandas.concat instead.\n",
      "  results = results.append(query_data, ignore_index=True)\n",
      "C:\\Users\\zwei\\AppData\\Local\\Temp\\ipykernel_588\\4248089460.py:19: FutureWarning: The frame.append method is deprecated and will be removed from pandas in a future version. Use pandas.concat instead.\n",
      "  results = results.append(query_data, ignore_index=True)\n",
      "C:\\Users\\zwei\\AppData\\Local\\Temp\\ipykernel_588\\4248089460.py:19: FutureWarning: The frame.append method is deprecated and will be removed from pandas in a future version. Use pandas.concat instead.\n",
      "  results = results.append(query_data, ignore_index=True)\n",
      "C:\\Users\\zwei\\AppData\\Local\\Temp\\ipykernel_588\\4248089460.py:19: FutureWarning: The frame.append method is deprecated and will be removed from pandas in a future version. Use pandas.concat instead.\n",
      "  results = results.append(query_data, ignore_index=True)\n",
      "C:\\Users\\zwei\\AppData\\Local\\Temp\\ipykernel_588\\4248089460.py:19: FutureWarning: The frame.append method is deprecated and will be removed from pandas in a future version. Use pandas.concat instead.\n",
      "  results = results.append(query_data, ignore_index=True)\n",
      "C:\\Users\\zwei\\AppData\\Local\\Temp\\ipykernel_588\\4248089460.py:19: FutureWarning: The frame.append method is deprecated and will be removed from pandas in a future version. Use pandas.concat instead.\n",
      "  results = results.append(query_data, ignore_index=True)\n",
      "C:\\Users\\zwei\\AppData\\Local\\Temp\\ipykernel_588\\4248089460.py:19: FutureWarning: The frame.append method is deprecated and will be removed from pandas in a future version. Use pandas.concat instead.\n",
      "  results = results.append(query_data, ignore_index=True)\n",
      "C:\\Users\\zwei\\AppData\\Local\\Temp\\ipykernel_588\\4248089460.py:19: FutureWarning: The frame.append method is deprecated and will be removed from pandas in a future version. Use pandas.concat instead.\n",
      "  results = results.append(query_data, ignore_index=True)\n",
      "C:\\Users\\zwei\\AppData\\Local\\Temp\\ipykernel_588\\4248089460.py:19: FutureWarning: The frame.append method is deprecated and will be removed from pandas in a future version. Use pandas.concat instead.\n",
      "  results = results.append(query_data, ignore_index=True)\n",
      "C:\\Users\\zwei\\AppData\\Local\\Temp\\ipykernel_588\\4248089460.py:19: FutureWarning: The frame.append method is deprecated and will be removed from pandas in a future version. Use pandas.concat instead.\n",
      "  results = results.append(query_data, ignore_index=True)\n"
     ]
    },
    {
     "name": "stderr",
     "output_type": "stream",
     "text": [
      "C:\\Users\\zwei\\AppData\\Local\\Temp\\ipykernel_588\\4248089460.py:19: FutureWarning: The frame.append method is deprecated and will be removed from pandas in a future version. Use pandas.concat instead.\n",
      "  results = results.append(query_data, ignore_index=True)\n"
     ]
    },
    {
     "name": "stdout",
     "output_type": "stream",
     "text": [
      "An error occurred: 'NoneType' object does not support item assignment\n"
     ]
    },
    {
     "name": "stderr",
     "output_type": "stream",
     "text": [
      "C:\\Users\\zwei\\AppData\\Local\\Temp\\ipykernel_588\\4248089460.py:19: FutureWarning: The frame.append method is deprecated and will be removed from pandas in a future version. Use pandas.concat instead.\n",
      "  results = results.append(query_data, ignore_index=True)\n",
      "C:\\Users\\zwei\\AppData\\Local\\Temp\\ipykernel_588\\4248089460.py:19: FutureWarning: The frame.append method is deprecated and will be removed from pandas in a future version. Use pandas.concat instead.\n",
      "  results = results.append(query_data, ignore_index=True)\n",
      "C:\\Users\\zwei\\AppData\\Local\\Temp\\ipykernel_588\\4248089460.py:19: FutureWarning: The frame.append method is deprecated and will be removed from pandas in a future version. Use pandas.concat instead.\n",
      "  results = results.append(query_data, ignore_index=True)\n",
      "C:\\Users\\zwei\\AppData\\Local\\Temp\\ipykernel_588\\4248089460.py:19: FutureWarning: The frame.append method is deprecated and will be removed from pandas in a future version. Use pandas.concat instead.\n",
      "  results = results.append(query_data, ignore_index=True)\n",
      "C:\\Users\\zwei\\AppData\\Local\\Temp\\ipykernel_588\\4248089460.py:19: FutureWarning: The frame.append method is deprecated and will be removed from pandas in a future version. Use pandas.concat instead.\n",
      "  results = results.append(query_data, ignore_index=True)\n"
     ]
    },
    {
     "name": "stdout",
     "output_type": "stream",
     "text": [
      "An error occurred: 'NoneType' object does not support item assignment\n"
     ]
    },
    {
     "name": "stderr",
     "output_type": "stream",
     "text": [
      "C:\\Users\\zwei\\AppData\\Local\\Temp\\ipykernel_588\\4248089460.py:19: FutureWarning: The frame.append method is deprecated and will be removed from pandas in a future version. Use pandas.concat instead.\n",
      "  results = results.append(query_data, ignore_index=True)\n",
      "C:\\Users\\zwei\\AppData\\Local\\Temp\\ipykernel_588\\4248089460.py:19: FutureWarning: The frame.append method is deprecated and will be removed from pandas in a future version. Use pandas.concat instead.\n",
      "  results = results.append(query_data, ignore_index=True)\n",
      "C:\\Users\\zwei\\AppData\\Local\\Temp\\ipykernel_588\\4248089460.py:19: FutureWarning: The frame.append method is deprecated and will be removed from pandas in a future version. Use pandas.concat instead.\n",
      "  results = results.append(query_data, ignore_index=True)\n",
      "C:\\Users\\zwei\\AppData\\Local\\Temp\\ipykernel_588\\4248089460.py:19: FutureWarning: The frame.append method is deprecated and will be removed from pandas in a future version. Use pandas.concat instead.\n",
      "  results = results.append(query_data, ignore_index=True)\n",
      "C:\\Users\\zwei\\AppData\\Local\\Temp\\ipykernel_588\\4248089460.py:19: FutureWarning: The frame.append method is deprecated and will be removed from pandas in a future version. Use pandas.concat instead.\n",
      "  results = results.append(query_data, ignore_index=True)\n",
      "C:\\Users\\zwei\\AppData\\Local\\Temp\\ipykernel_588\\4248089460.py:19: FutureWarning: The frame.append method is deprecated and will be removed from pandas in a future version. Use pandas.concat instead.\n",
      "  results = results.append(query_data, ignore_index=True)\n",
      "C:\\Users\\zwei\\AppData\\Local\\Temp\\ipykernel_588\\4248089460.py:19: FutureWarning: The frame.append method is deprecated and will be removed from pandas in a future version. Use pandas.concat instead.\n",
      "  results = results.append(query_data, ignore_index=True)\n",
      "C:\\Users\\zwei\\AppData\\Local\\Temp\\ipykernel_588\\4248089460.py:19: FutureWarning: The frame.append method is deprecated and will be removed from pandas in a future version. Use pandas.concat instead.\n",
      "  results = results.append(query_data, ignore_index=True)\n",
      "C:\\Users\\zwei\\AppData\\Local\\Temp\\ipykernel_588\\4248089460.py:19: FutureWarning: The frame.append method is deprecated and will be removed from pandas in a future version. Use pandas.concat instead.\n",
      "  results = results.append(query_data, ignore_index=True)\n"
     ]
    },
    {
     "name": "stdout",
     "output_type": "stream",
     "text": [
      "An error occurred: 'NoneType' object does not support item assignment\n"
     ]
    },
    {
     "name": "stderr",
     "output_type": "stream",
     "text": [
      "C:\\Users\\zwei\\AppData\\Local\\Temp\\ipykernel_588\\4248089460.py:19: FutureWarning: The frame.append method is deprecated and will be removed from pandas in a future version. Use pandas.concat instead.\n",
      "  results = results.append(query_data, ignore_index=True)\n",
      "C:\\Users\\zwei\\AppData\\Local\\Temp\\ipykernel_588\\4248089460.py:19: FutureWarning: The frame.append method is deprecated and will be removed from pandas in a future version. Use pandas.concat instead.\n",
      "  results = results.append(query_data, ignore_index=True)\n",
      "C:\\Users\\zwei\\AppData\\Local\\Temp\\ipykernel_588\\4248089460.py:19: FutureWarning: The frame.append method is deprecated and will be removed from pandas in a future version. Use pandas.concat instead.\n",
      "  results = results.append(query_data, ignore_index=True)\n",
      "C:\\Users\\zwei\\AppData\\Local\\Temp\\ipykernel_588\\4248089460.py:19: FutureWarning: The frame.append method is deprecated and will be removed from pandas in a future version. Use pandas.concat instead.\n",
      "  results = results.append(query_data, ignore_index=True)\n",
      "C:\\Users\\zwei\\AppData\\Local\\Temp\\ipykernel_588\\4248089460.py:19: FutureWarning: The frame.append method is deprecated and will be removed from pandas in a future version. Use pandas.concat instead.\n",
      "  results = results.append(query_data, ignore_index=True)\n",
      "C:\\Users\\zwei\\AppData\\Local\\Temp\\ipykernel_588\\4248089460.py:19: FutureWarning: The frame.append method is deprecated and will be removed from pandas in a future version. Use pandas.concat instead.\n",
      "  results = results.append(query_data, ignore_index=True)\n",
      "C:\\Users\\zwei\\AppData\\Local\\Temp\\ipykernel_588\\4248089460.py:19: FutureWarning: The frame.append method is deprecated and will be removed from pandas in a future version. Use pandas.concat instead.\n",
      "  results = results.append(query_data, ignore_index=True)\n",
      "C:\\Users\\zwei\\AppData\\Local\\Temp\\ipykernel_588\\4248089460.py:19: FutureWarning: The frame.append method is deprecated and will be removed from pandas in a future version. Use pandas.concat instead.\n",
      "  results = results.append(query_data, ignore_index=True)\n",
      "C:\\Users\\zwei\\AppData\\Local\\Temp\\ipykernel_588\\4248089460.py:19: FutureWarning: The frame.append method is deprecated and will be removed from pandas in a future version. Use pandas.concat instead.\n",
      "  results = results.append(query_data, ignore_index=True)\n",
      "C:\\Users\\zwei\\AppData\\Local\\Temp\\ipykernel_588\\4248089460.py:19: FutureWarning: The frame.append method is deprecated and will be removed from pandas in a future version. Use pandas.concat instead.\n",
      "  results = results.append(query_data, ignore_index=True)\n",
      "C:\\Users\\zwei\\AppData\\Local\\Temp\\ipykernel_588\\4248089460.py:19: FutureWarning: The frame.append method is deprecated and will be removed from pandas in a future version. Use pandas.concat instead.\n",
      "  results = results.append(query_data, ignore_index=True)\n",
      "C:\\Users\\zwei\\AppData\\Local\\Temp\\ipykernel_588\\4248089460.py:19: FutureWarning: The frame.append method is deprecated and will be removed from pandas in a future version. Use pandas.concat instead.\n",
      "  results = results.append(query_data, ignore_index=True)\n",
      "C:\\Users\\zwei\\AppData\\Local\\Temp\\ipykernel_588\\4248089460.py:19: FutureWarning: The frame.append method is deprecated and will be removed from pandas in a future version. Use pandas.concat instead.\n",
      "  results = results.append(query_data, ignore_index=True)\n"
     ]
    },
    {
     "name": "stdout",
     "output_type": "stream",
     "text": [
      "An error occurred: 'NoneType' object does not support item assignment\n"
     ]
    },
    {
     "name": "stderr",
     "output_type": "stream",
     "text": [
      "C:\\Users\\zwei\\AppData\\Local\\Temp\\ipykernel_588\\4248089460.py:19: FutureWarning: The frame.append method is deprecated and will be removed from pandas in a future version. Use pandas.concat instead.\n",
      "  results = results.append(query_data, ignore_index=True)\n",
      "C:\\Users\\zwei\\AppData\\Local\\Temp\\ipykernel_588\\4248089460.py:19: FutureWarning: The frame.append method is deprecated and will be removed from pandas in a future version. Use pandas.concat instead.\n",
      "  results = results.append(query_data, ignore_index=True)\n",
      "C:\\Users\\zwei\\AppData\\Local\\Temp\\ipykernel_588\\4248089460.py:19: FutureWarning: The frame.append method is deprecated and will be removed from pandas in a future version. Use pandas.concat instead.\n",
      "  results = results.append(query_data, ignore_index=True)\n",
      "C:\\Users\\zwei\\AppData\\Local\\Temp\\ipykernel_588\\4248089460.py:19: FutureWarning: The frame.append method is deprecated and will be removed from pandas in a future version. Use pandas.concat instead.\n",
      "  results = results.append(query_data, ignore_index=True)\n",
      "C:\\Users\\zwei\\AppData\\Local\\Temp\\ipykernel_588\\4248089460.py:19: FutureWarning: The frame.append method is deprecated and will be removed from pandas in a future version. Use pandas.concat instead.\n",
      "  results = results.append(query_data, ignore_index=True)\n",
      "C:\\Users\\zwei\\AppData\\Local\\Temp\\ipykernel_588\\4248089460.py:19: FutureWarning: The frame.append method is deprecated and will be removed from pandas in a future version. Use pandas.concat instead.\n",
      "  results = results.append(query_data, ignore_index=True)\n",
      "C:\\Users\\zwei\\AppData\\Local\\Temp\\ipykernel_588\\4248089460.py:19: FutureWarning: The frame.append method is deprecated and will be removed from pandas in a future version. Use pandas.concat instead.\n",
      "  results = results.append(query_data, ignore_index=True)\n",
      "C:\\Users\\zwei\\AppData\\Local\\Temp\\ipykernel_588\\4248089460.py:19: FutureWarning: The frame.append method is deprecated and will be removed from pandas in a future version. Use pandas.concat instead.\n",
      "  results = results.append(query_data, ignore_index=True)\n",
      "C:\\Users\\zwei\\AppData\\Local\\Temp\\ipykernel_588\\4248089460.py:19: FutureWarning: The frame.append method is deprecated and will be removed from pandas in a future version. Use pandas.concat instead.\n",
      "  results = results.append(query_data, ignore_index=True)\n",
      "C:\\Users\\zwei\\AppData\\Local\\Temp\\ipykernel_588\\4248089460.py:19: FutureWarning: The frame.append method is deprecated and will be removed from pandas in a future version. Use pandas.concat instead.\n",
      "  results = results.append(query_data, ignore_index=True)\n",
      "C:\\Users\\zwei\\AppData\\Local\\Temp\\ipykernel_588\\4248089460.py:19: FutureWarning: The frame.append method is deprecated and will be removed from pandas in a future version. Use pandas.concat instead.\n",
      "  results = results.append(query_data, ignore_index=True)\n",
      "C:\\Users\\zwei\\AppData\\Local\\Temp\\ipykernel_588\\4248089460.py:19: FutureWarning: The frame.append method is deprecated and will be removed from pandas in a future version. Use pandas.concat instead.\n",
      "  results = results.append(query_data, ignore_index=True)\n",
      "C:\\Users\\zwei\\AppData\\Local\\Temp\\ipykernel_588\\4248089460.py:19: FutureWarning: The frame.append method is deprecated and will be removed from pandas in a future version. Use pandas.concat instead.\n",
      "  results = results.append(query_data, ignore_index=True)\n",
      "C:\\Users\\zwei\\AppData\\Local\\Temp\\ipykernel_588\\4248089460.py:19: FutureWarning: The frame.append method is deprecated and will be removed from pandas in a future version. Use pandas.concat instead.\n",
      "  results = results.append(query_data, ignore_index=True)\n",
      "C:\\Users\\zwei\\AppData\\Local\\Temp\\ipykernel_588\\4248089460.py:19: FutureWarning: The frame.append method is deprecated and will be removed from pandas in a future version. Use pandas.concat instead.\n",
      "  results = results.append(query_data, ignore_index=True)\n",
      "C:\\Users\\zwei\\AppData\\Local\\Temp\\ipykernel_588\\4248089460.py:19: FutureWarning: The frame.append method is deprecated and will be removed from pandas in a future version. Use pandas.concat instead.\n",
      "  results = results.append(query_data, ignore_index=True)\n",
      "C:\\Users\\zwei\\AppData\\Local\\Temp\\ipykernel_588\\4248089460.py:19: FutureWarning: The frame.append method is deprecated and will be removed from pandas in a future version. Use pandas.concat instead.\n",
      "  results = results.append(query_data, ignore_index=True)\n"
     ]
    },
    {
     "name": "stdout",
     "output_type": "stream",
     "text": [
      "An error occurred: 'NoneType' object does not support item assignment\n"
     ]
    },
    {
     "name": "stderr",
     "output_type": "stream",
     "text": [
      "C:\\Users\\zwei\\AppData\\Local\\Temp\\ipykernel_588\\4248089460.py:19: FutureWarning: The frame.append method is deprecated and will be removed from pandas in a future version. Use pandas.concat instead.\n",
      "  results = results.append(query_data, ignore_index=True)\n"
     ]
    },
    {
     "name": "stdout",
     "output_type": "stream",
     "text": [
      "An error occurred: 'NoneType' object does not support item assignment\n"
     ]
    },
    {
     "name": "stderr",
     "output_type": "stream",
     "text": [
      "C:\\Users\\zwei\\AppData\\Local\\Temp\\ipykernel_588\\4248089460.py:19: FutureWarning: The frame.append method is deprecated and will be removed from pandas in a future version. Use pandas.concat instead.\n",
      "  results = results.append(query_data, ignore_index=True)\n"
     ]
    },
    {
     "name": "stdout",
     "output_type": "stream",
     "text": [
      "An error occurred: 'NoneType' object does not support item assignment\n"
     ]
    },
    {
     "name": "stderr",
     "output_type": "stream",
     "text": [
      "C:\\Users\\zwei\\AppData\\Local\\Temp\\ipykernel_588\\4248089460.py:19: FutureWarning: The frame.append method is deprecated and will be removed from pandas in a future version. Use pandas.concat instead.\n",
      "  results = results.append(query_data, ignore_index=True)\n",
      "C:\\Users\\zwei\\AppData\\Local\\Temp\\ipykernel_588\\4248089460.py:19: FutureWarning: The frame.append method is deprecated and will be removed from pandas in a future version. Use pandas.concat instead.\n",
      "  results = results.append(query_data, ignore_index=True)\n",
      "C:\\Users\\zwei\\AppData\\Local\\Temp\\ipykernel_588\\4248089460.py:19: FutureWarning: The frame.append method is deprecated and will be removed from pandas in a future version. Use pandas.concat instead.\n",
      "  results = results.append(query_data, ignore_index=True)\n"
     ]
    },
    {
     "name": "stdout",
     "output_type": "stream",
     "text": [
      "An error occurred: 'NoneType' object does not support item assignment\n"
     ]
    },
    {
     "name": "stderr",
     "output_type": "stream",
     "text": [
      "C:\\Users\\zwei\\AppData\\Local\\Temp\\ipykernel_588\\4248089460.py:19: FutureWarning: The frame.append method is deprecated and will be removed from pandas in a future version. Use pandas.concat instead.\n",
      "  results = results.append(query_data, ignore_index=True)\n",
      "C:\\Users\\zwei\\AppData\\Local\\Temp\\ipykernel_588\\4248089460.py:19: FutureWarning: The frame.append method is deprecated and will be removed from pandas in a future version. Use pandas.concat instead.\n",
      "  results = results.append(query_data, ignore_index=True)\n",
      "C:\\Users\\zwei\\AppData\\Local\\Temp\\ipykernel_588\\4248089460.py:19: FutureWarning: The frame.append method is deprecated and will be removed from pandas in a future version. Use pandas.concat instead.\n",
      "  results = results.append(query_data, ignore_index=True)\n",
      "C:\\Users\\zwei\\AppData\\Local\\Temp\\ipykernel_588\\4248089460.py:19: FutureWarning: The frame.append method is deprecated and will be removed from pandas in a future version. Use pandas.concat instead.\n",
      "  results = results.append(query_data, ignore_index=True)\n",
      "C:\\Users\\zwei\\AppData\\Local\\Temp\\ipykernel_588\\4248089460.py:19: FutureWarning: The frame.append method is deprecated and will be removed from pandas in a future version. Use pandas.concat instead.\n",
      "  results = results.append(query_data, ignore_index=True)\n"
     ]
    },
    {
     "name": "stdout",
     "output_type": "stream",
     "text": [
      "An error occurred: 'NoneType' object does not support item assignment\n"
     ]
    },
    {
     "name": "stderr",
     "output_type": "stream",
     "text": [
      "C:\\Users\\zwei\\AppData\\Local\\Temp\\ipykernel_588\\4248089460.py:19: FutureWarning: The frame.append method is deprecated and will be removed from pandas in a future version. Use pandas.concat instead.\n",
      "  results = results.append(query_data, ignore_index=True)\n"
     ]
    },
    {
     "name": "stdout",
     "output_type": "stream",
     "text": [
      "An error occurred: 'NoneType' object does not support item assignment\n"
     ]
    },
    {
     "name": "stderr",
     "output_type": "stream",
     "text": [
      "C:\\Users\\zwei\\AppData\\Local\\Temp\\ipykernel_588\\4248089460.py:19: FutureWarning: The frame.append method is deprecated and will be removed from pandas in a future version. Use pandas.concat instead.\n",
      "  results = results.append(query_data, ignore_index=True)\n",
      "C:\\Users\\zwei\\AppData\\Local\\Temp\\ipykernel_588\\4248089460.py:19: FutureWarning: The frame.append method is deprecated and will be removed from pandas in a future version. Use pandas.concat instead.\n",
      "  results = results.append(query_data, ignore_index=True)\n",
      "C:\\Users\\zwei\\AppData\\Local\\Temp\\ipykernel_588\\4248089460.py:19: FutureWarning: The frame.append method is deprecated and will be removed from pandas in a future version. Use pandas.concat instead.\n",
      "  results = results.append(query_data, ignore_index=True)\n",
      "C:\\Users\\zwei\\AppData\\Local\\Temp\\ipykernel_588\\4248089460.py:19: FutureWarning: The frame.append method is deprecated and will be removed from pandas in a future version. Use pandas.concat instead.\n",
      "  results = results.append(query_data, ignore_index=True)\n",
      "C:\\Users\\zwei\\AppData\\Local\\Temp\\ipykernel_588\\4248089460.py:19: FutureWarning: The frame.append method is deprecated and will be removed from pandas in a future version. Use pandas.concat instead.\n",
      "  results = results.append(query_data, ignore_index=True)\n"
     ]
    },
    {
     "name": "stdout",
     "output_type": "stream",
     "text": [
      "An error occurred: 'NoneType' object does not support item assignment\n"
     ]
    },
    {
     "name": "stderr",
     "output_type": "stream",
     "text": [
      "C:\\Users\\zwei\\AppData\\Local\\Temp\\ipykernel_588\\4248089460.py:19: FutureWarning: The frame.append method is deprecated and will be removed from pandas in a future version. Use pandas.concat instead.\n",
      "  results = results.append(query_data, ignore_index=True)\n",
      "C:\\Users\\zwei\\AppData\\Local\\Temp\\ipykernel_588\\4248089460.py:19: FutureWarning: The frame.append method is deprecated and will be removed from pandas in a future version. Use pandas.concat instead.\n",
      "  results = results.append(query_data, ignore_index=True)\n",
      "C:\\Users\\zwei\\AppData\\Local\\Temp\\ipykernel_588\\4248089460.py:19: FutureWarning: The frame.append method is deprecated and will be removed from pandas in a future version. Use pandas.concat instead.\n",
      "  results = results.append(query_data, ignore_index=True)\n",
      "C:\\Users\\zwei\\AppData\\Local\\Temp\\ipykernel_588\\4248089460.py:19: FutureWarning: The frame.append method is deprecated and will be removed from pandas in a future version. Use pandas.concat instead.\n",
      "  results = results.append(query_data, ignore_index=True)\n",
      "C:\\Users\\zwei\\AppData\\Local\\Temp\\ipykernel_588\\4248089460.py:19: FutureWarning: The frame.append method is deprecated and will be removed from pandas in a future version. Use pandas.concat instead.\n",
      "  results = results.append(query_data, ignore_index=True)\n",
      "C:\\Users\\zwei\\AppData\\Local\\Temp\\ipykernel_588\\4248089460.py:19: FutureWarning: The frame.append method is deprecated and will be removed from pandas in a future version. Use pandas.concat instead.\n",
      "  results = results.append(query_data, ignore_index=True)\n",
      "C:\\Users\\zwei\\AppData\\Local\\Temp\\ipykernel_588\\4248089460.py:19: FutureWarning: The frame.append method is deprecated and will be removed from pandas in a future version. Use pandas.concat instead.\n",
      "  results = results.append(query_data, ignore_index=True)\n",
      "C:\\Users\\zwei\\AppData\\Local\\Temp\\ipykernel_588\\4248089460.py:19: FutureWarning: The frame.append method is deprecated and will be removed from pandas in a future version. Use pandas.concat instead.\n",
      "  results = results.append(query_data, ignore_index=True)\n",
      "C:\\Users\\zwei\\AppData\\Local\\Temp\\ipykernel_588\\4248089460.py:19: FutureWarning: The frame.append method is deprecated and will be removed from pandas in a future version. Use pandas.concat instead.\n",
      "  results = results.append(query_data, ignore_index=True)\n"
     ]
    },
    {
     "name": "stdout",
     "output_type": "stream",
     "text": [
      "An error occurred: 'NoneType' object does not support item assignment\n"
     ]
    },
    {
     "name": "stderr",
     "output_type": "stream",
     "text": [
      "C:\\Users\\zwei\\AppData\\Local\\Temp\\ipykernel_588\\4248089460.py:19: FutureWarning: The frame.append method is deprecated and will be removed from pandas in a future version. Use pandas.concat instead.\n",
      "  results = results.append(query_data, ignore_index=True)\n",
      "C:\\Users\\zwei\\AppData\\Local\\Temp\\ipykernel_588\\4248089460.py:19: FutureWarning: The frame.append method is deprecated and will be removed from pandas in a future version. Use pandas.concat instead.\n",
      "  results = results.append(query_data, ignore_index=True)\n",
      "C:\\Users\\zwei\\AppData\\Local\\Temp\\ipykernel_588\\4248089460.py:19: FutureWarning: The frame.append method is deprecated and will be removed from pandas in a future version. Use pandas.concat instead.\n",
      "  results = results.append(query_data, ignore_index=True)\n",
      "C:\\Users\\zwei\\AppData\\Local\\Temp\\ipykernel_588\\4248089460.py:19: FutureWarning: The frame.append method is deprecated and will be removed from pandas in a future version. Use pandas.concat instead.\n",
      "  results = results.append(query_data, ignore_index=True)\n",
      "C:\\Users\\zwei\\AppData\\Local\\Temp\\ipykernel_588\\4248089460.py:19: FutureWarning: The frame.append method is deprecated and will be removed from pandas in a future version. Use pandas.concat instead.\n",
      "  results = results.append(query_data, ignore_index=True)\n"
     ]
    },
    {
     "name": "stdout",
     "output_type": "stream",
     "text": [
      "An error occurred: 'NoneType' object does not support item assignment\n"
     ]
    },
    {
     "name": "stderr",
     "output_type": "stream",
     "text": [
      "C:\\Users\\zwei\\AppData\\Local\\Temp\\ipykernel_588\\4248089460.py:19: FutureWarning: The frame.append method is deprecated and will be removed from pandas in a future version. Use pandas.concat instead.\n",
      "  results = results.append(query_data, ignore_index=True)\n",
      "C:\\Users\\zwei\\AppData\\Local\\Temp\\ipykernel_588\\4248089460.py:19: FutureWarning: The frame.append method is deprecated and will be removed from pandas in a future version. Use pandas.concat instead.\n",
      "  results = results.append(query_data, ignore_index=True)\n",
      "C:\\Users\\zwei\\AppData\\Local\\Temp\\ipykernel_588\\4248089460.py:19: FutureWarning: The frame.append method is deprecated and will be removed from pandas in a future version. Use pandas.concat instead.\n",
      "  results = results.append(query_data, ignore_index=True)\n",
      "C:\\Users\\zwei\\AppData\\Local\\Temp\\ipykernel_588\\4248089460.py:19: FutureWarning: The frame.append method is deprecated and will be removed from pandas in a future version. Use pandas.concat instead.\n",
      "  results = results.append(query_data, ignore_index=True)\n",
      "C:\\Users\\zwei\\AppData\\Local\\Temp\\ipykernel_588\\4248089460.py:19: FutureWarning: The frame.append method is deprecated and will be removed from pandas in a future version. Use pandas.concat instead.\n",
      "  results = results.append(query_data, ignore_index=True)\n",
      "C:\\Users\\zwei\\AppData\\Local\\Temp\\ipykernel_588\\4248089460.py:19: FutureWarning: The frame.append method is deprecated and will be removed from pandas in a future version. Use pandas.concat instead.\n",
      "  results = results.append(query_data, ignore_index=True)\n",
      "C:\\Users\\zwei\\AppData\\Local\\Temp\\ipykernel_588\\4248089460.py:19: FutureWarning: The frame.append method is deprecated and will be removed from pandas in a future version. Use pandas.concat instead.\n",
      "  results = results.append(query_data, ignore_index=True)\n",
      "C:\\Users\\zwei\\AppData\\Local\\Temp\\ipykernel_588\\4248089460.py:19: FutureWarning: The frame.append method is deprecated and will be removed from pandas in a future version. Use pandas.concat instead.\n",
      "  results = results.append(query_data, ignore_index=True)\n",
      "C:\\Users\\zwei\\AppData\\Local\\Temp\\ipykernel_588\\4248089460.py:19: FutureWarning: The frame.append method is deprecated and will be removed from pandas in a future version. Use pandas.concat instead.\n",
      "  results = results.append(query_data, ignore_index=True)\n"
     ]
    },
    {
     "name": "stdout",
     "output_type": "stream",
     "text": [
      "An error occurred: 'NoneType' object does not support item assignment\n"
     ]
    },
    {
     "name": "stderr",
     "output_type": "stream",
     "text": [
      "C:\\Users\\zwei\\AppData\\Local\\Temp\\ipykernel_588\\4248089460.py:19: FutureWarning: The frame.append method is deprecated and will be removed from pandas in a future version. Use pandas.concat instead.\n",
      "  results = results.append(query_data, ignore_index=True)\n",
      "C:\\Users\\zwei\\AppData\\Local\\Temp\\ipykernel_588\\4248089460.py:19: FutureWarning: The frame.append method is deprecated and will be removed from pandas in a future version. Use pandas.concat instead.\n",
      "  results = results.append(query_data, ignore_index=True)\n",
      "C:\\Users\\zwei\\AppData\\Local\\Temp\\ipykernel_588\\4248089460.py:19: FutureWarning: The frame.append method is deprecated and will be removed from pandas in a future version. Use pandas.concat instead.\n",
      "  results = results.append(query_data, ignore_index=True)\n"
     ]
    },
    {
     "name": "stdout",
     "output_type": "stream",
     "text": [
      "An error occurred: 'NoneType' object does not support item assignment\n"
     ]
    },
    {
     "name": "stderr",
     "output_type": "stream",
     "text": [
      "C:\\Users\\zwei\\AppData\\Local\\Temp\\ipykernel_588\\4248089460.py:19: FutureWarning: The frame.append method is deprecated and will be removed from pandas in a future version. Use pandas.concat instead.\n",
      "  results = results.append(query_data, ignore_index=True)\n"
     ]
    },
    {
     "name": "stdout",
     "output_type": "stream",
     "text": [
      "An error occurred: 'NoneType' object does not support item assignment\n"
     ]
    },
    {
     "name": "stderr",
     "output_type": "stream",
     "text": [
      "C:\\Users\\zwei\\AppData\\Local\\Temp\\ipykernel_588\\4248089460.py:19: FutureWarning: The frame.append method is deprecated and will be removed from pandas in a future version. Use pandas.concat instead.\n",
      "  results = results.append(query_data, ignore_index=True)\n",
      "C:\\Users\\zwei\\AppData\\Local\\Temp\\ipykernel_588\\4248089460.py:19: FutureWarning: The frame.append method is deprecated and will be removed from pandas in a future version. Use pandas.concat instead.\n",
      "  results = results.append(query_data, ignore_index=True)\n",
      "C:\\Users\\zwei\\AppData\\Local\\Temp\\ipykernel_588\\4248089460.py:19: FutureWarning: The frame.append method is deprecated and will be removed from pandas in a future version. Use pandas.concat instead.\n",
      "  results = results.append(query_data, ignore_index=True)\n"
     ]
    },
    {
     "name": "stdout",
     "output_type": "stream",
     "text": [
      "An error occurred: 'NoneType' object does not support item assignment\n"
     ]
    },
    {
     "name": "stderr",
     "output_type": "stream",
     "text": [
      "C:\\Users\\zwei\\AppData\\Local\\Temp\\ipykernel_588\\4248089460.py:19: FutureWarning: The frame.append method is deprecated and will be removed from pandas in a future version. Use pandas.concat instead.\n",
      "  results = results.append(query_data, ignore_index=True)\n",
      "C:\\Users\\zwei\\AppData\\Local\\Temp\\ipykernel_588\\4248089460.py:19: FutureWarning: The frame.append method is deprecated and will be removed from pandas in a future version. Use pandas.concat instead.\n",
      "  results = results.append(query_data, ignore_index=True)\n",
      "C:\\Users\\zwei\\AppData\\Local\\Temp\\ipykernel_588\\4248089460.py:19: FutureWarning: The frame.append method is deprecated and will be removed from pandas in a future version. Use pandas.concat instead.\n",
      "  results = results.append(query_data, ignore_index=True)\n"
     ]
    },
    {
     "name": "stdout",
     "output_type": "stream",
     "text": [
      "An error occurred: 'NoneType' object does not support item assignment\n"
     ]
    },
    {
     "name": "stderr",
     "output_type": "stream",
     "text": [
      "C:\\Users\\zwei\\AppData\\Local\\Temp\\ipykernel_588\\4248089460.py:19: FutureWarning: The frame.append method is deprecated and will be removed from pandas in a future version. Use pandas.concat instead.\n",
      "  results = results.append(query_data, ignore_index=True)\n",
      "C:\\Users\\zwei\\AppData\\Local\\Temp\\ipykernel_588\\4248089460.py:19: FutureWarning: The frame.append method is deprecated and will be removed from pandas in a future version. Use pandas.concat instead.\n",
      "  results = results.append(query_data, ignore_index=True)\n",
      "C:\\Users\\zwei\\AppData\\Local\\Temp\\ipykernel_588\\4248089460.py:19: FutureWarning: The frame.append method is deprecated and will be removed from pandas in a future version. Use pandas.concat instead.\n",
      "  results = results.append(query_data, ignore_index=True)\n",
      "C:\\Users\\zwei\\AppData\\Local\\Temp\\ipykernel_588\\4248089460.py:19: FutureWarning: The frame.append method is deprecated and will be removed from pandas in a future version. Use pandas.concat instead.\n",
      "  results = results.append(query_data, ignore_index=True)\n",
      "C:\\Users\\zwei\\AppData\\Local\\Temp\\ipykernel_588\\4248089460.py:19: FutureWarning: The frame.append method is deprecated and will be removed from pandas in a future version. Use pandas.concat instead.\n",
      "  results = results.append(query_data, ignore_index=True)\n"
     ]
    },
    {
     "name": "stdout",
     "output_type": "stream",
     "text": [
      "An error occurred: 'NoneType' object does not support item assignment\n"
     ]
    },
    {
     "name": "stderr",
     "output_type": "stream",
     "text": [
      "C:\\Users\\zwei\\AppData\\Local\\Temp\\ipykernel_588\\4248089460.py:19: FutureWarning: The frame.append method is deprecated and will be removed from pandas in a future version. Use pandas.concat instead.\n",
      "  results = results.append(query_data, ignore_index=True)\n",
      "C:\\Users\\zwei\\AppData\\Local\\Temp\\ipykernel_588\\4248089460.py:19: FutureWarning: The frame.append method is deprecated and will be removed from pandas in a future version. Use pandas.concat instead.\n",
      "  results = results.append(query_data, ignore_index=True)\n",
      "C:\\Users\\zwei\\AppData\\Local\\Temp\\ipykernel_588\\4248089460.py:19: FutureWarning: The frame.append method is deprecated and will be removed from pandas in a future version. Use pandas.concat instead.\n",
      "  results = results.append(query_data, ignore_index=True)\n",
      "C:\\Users\\zwei\\AppData\\Local\\Temp\\ipykernel_588\\4248089460.py:19: FutureWarning: The frame.append method is deprecated and will be removed from pandas in a future version. Use pandas.concat instead.\n",
      "  results = results.append(query_data, ignore_index=True)\n",
      "C:\\Users\\zwei\\AppData\\Local\\Temp\\ipykernel_588\\4248089460.py:19: FutureWarning: The frame.append method is deprecated and will be removed from pandas in a future version. Use pandas.concat instead.\n",
      "  results = results.append(query_data, ignore_index=True)\n",
      "C:\\Users\\zwei\\AppData\\Local\\Temp\\ipykernel_588\\4248089460.py:19: FutureWarning: The frame.append method is deprecated and will be removed from pandas in a future version. Use pandas.concat instead.\n",
      "  results = results.append(query_data, ignore_index=True)\n",
      "C:\\Users\\zwei\\AppData\\Local\\Temp\\ipykernel_588\\4248089460.py:19: FutureWarning: The frame.append method is deprecated and will be removed from pandas in a future version. Use pandas.concat instead.\n",
      "  results = results.append(query_data, ignore_index=True)\n",
      "C:\\Users\\zwei\\AppData\\Local\\Temp\\ipykernel_588\\4248089460.py:19: FutureWarning: The frame.append method is deprecated and will be removed from pandas in a future version. Use pandas.concat instead.\n",
      "  results = results.append(query_data, ignore_index=True)\n",
      "C:\\Users\\zwei\\AppData\\Local\\Temp\\ipykernel_588\\4248089460.py:19: FutureWarning: The frame.append method is deprecated and will be removed from pandas in a future version. Use pandas.concat instead.\n",
      "  results = results.append(query_data, ignore_index=True)\n"
     ]
    },
    {
     "name": "stdout",
     "output_type": "stream",
     "text": [
      "An error occurred: 'NoneType' object does not support item assignment\n"
     ]
    },
    {
     "name": "stderr",
     "output_type": "stream",
     "text": [
      "C:\\Users\\zwei\\AppData\\Local\\Temp\\ipykernel_588\\4248089460.py:19: FutureWarning: The frame.append method is deprecated and will be removed from pandas in a future version. Use pandas.concat instead.\n",
      "  results = results.append(query_data, ignore_index=True)\n"
     ]
    },
    {
     "name": "stdout",
     "output_type": "stream",
     "text": [
      "An error occurred: 'NoneType' object does not support item assignment\n"
     ]
    },
    {
     "name": "stderr",
     "output_type": "stream",
     "text": [
      "C:\\Users\\zwei\\AppData\\Local\\Temp\\ipykernel_588\\4248089460.py:19: FutureWarning: The frame.append method is deprecated and will be removed from pandas in a future version. Use pandas.concat instead.\n",
      "  results = results.append(query_data, ignore_index=True)\n"
     ]
    },
    {
     "name": "stdout",
     "output_type": "stream",
     "text": [
      "An error occurred: 'NoneType' object does not support item assignment\n"
     ]
    },
    {
     "name": "stderr",
     "output_type": "stream",
     "text": [
      "C:\\Users\\zwei\\AppData\\Local\\Temp\\ipykernel_588\\4248089460.py:19: FutureWarning: The frame.append method is deprecated and will be removed from pandas in a future version. Use pandas.concat instead.\n",
      "  results = results.append(query_data, ignore_index=True)\n",
      "C:\\Users\\zwei\\AppData\\Local\\Temp\\ipykernel_588\\4248089460.py:19: FutureWarning: The frame.append method is deprecated and will be removed from pandas in a future version. Use pandas.concat instead.\n",
      "  results = results.append(query_data, ignore_index=True)\n",
      "C:\\Users\\zwei\\AppData\\Local\\Temp\\ipykernel_588\\4248089460.py:19: FutureWarning: The frame.append method is deprecated and will be removed from pandas in a future version. Use pandas.concat instead.\n",
      "  results = results.append(query_data, ignore_index=True)\n",
      "C:\\Users\\zwei\\AppData\\Local\\Temp\\ipykernel_588\\4248089460.py:19: FutureWarning: The frame.append method is deprecated and will be removed from pandas in a future version. Use pandas.concat instead.\n",
      "  results = results.append(query_data, ignore_index=True)\n",
      "C:\\Users\\zwei\\AppData\\Local\\Temp\\ipykernel_588\\4248089460.py:19: FutureWarning: The frame.append method is deprecated and will be removed from pandas in a future version. Use pandas.concat instead.\n",
      "  results = results.append(query_data, ignore_index=True)\n"
     ]
    },
    {
     "name": "stdout",
     "output_type": "stream",
     "text": [
      "An error occurred: 'NoneType' object does not support item assignment\n"
     ]
    },
    {
     "name": "stderr",
     "output_type": "stream",
     "text": [
      "C:\\Users\\zwei\\AppData\\Local\\Temp\\ipykernel_588\\4248089460.py:19: FutureWarning: The frame.append method is deprecated and will be removed from pandas in a future version. Use pandas.concat instead.\n",
      "  results = results.append(query_data, ignore_index=True)\n"
     ]
    },
    {
     "name": "stdout",
     "output_type": "stream",
     "text": [
      "An error occurred: 'NoneType' object does not support item assignment\n"
     ]
    },
    {
     "name": "stderr",
     "output_type": "stream",
     "text": [
      "C:\\Users\\zwei\\AppData\\Local\\Temp\\ipykernel_588\\4248089460.py:19: FutureWarning: The frame.append method is deprecated and will be removed from pandas in a future version. Use pandas.concat instead.\n",
      "  results = results.append(query_data, ignore_index=True)\n",
      "C:\\Users\\zwei\\AppData\\Local\\Temp\\ipykernel_588\\4248089460.py:19: FutureWarning: The frame.append method is deprecated and will be removed from pandas in a future version. Use pandas.concat instead.\n",
      "  results = results.append(query_data, ignore_index=True)\n",
      "C:\\Users\\zwei\\AppData\\Local\\Temp\\ipykernel_588\\4248089460.py:19: FutureWarning: The frame.append method is deprecated and will be removed from pandas in a future version. Use pandas.concat instead.\n",
      "  results = results.append(query_data, ignore_index=True)\n"
     ]
    },
    {
     "name": "stdout",
     "output_type": "stream",
     "text": [
      "An error occurred: 'NoneType' object does not support item assignment\n"
     ]
    },
    {
     "name": "stderr",
     "output_type": "stream",
     "text": [
      "C:\\Users\\zwei\\AppData\\Local\\Temp\\ipykernel_588\\4248089460.py:19: FutureWarning: The frame.append method is deprecated and will be removed from pandas in a future version. Use pandas.concat instead.\n",
      "  results = results.append(query_data, ignore_index=True)\n"
     ]
    },
    {
     "name": "stdout",
     "output_type": "stream",
     "text": [
      "An error occurred: 'NoneType' object does not support item assignment\n"
     ]
    },
    {
     "name": "stderr",
     "output_type": "stream",
     "text": [
      "C:\\Users\\zwei\\AppData\\Local\\Temp\\ipykernel_588\\4248089460.py:19: FutureWarning: The frame.append method is deprecated and will be removed from pandas in a future version. Use pandas.concat instead.\n",
      "  results = results.append(query_data, ignore_index=True)\n",
      "C:\\Users\\zwei\\AppData\\Local\\Temp\\ipykernel_588\\4248089460.py:19: FutureWarning: The frame.append method is deprecated and will be removed from pandas in a future version. Use pandas.concat instead.\n",
      "  results = results.append(query_data, ignore_index=True)\n",
      "C:\\Users\\zwei\\AppData\\Local\\Temp\\ipykernel_588\\4248089460.py:19: FutureWarning: The frame.append method is deprecated and will be removed from pandas in a future version. Use pandas.concat instead.\n",
      "  results = results.append(query_data, ignore_index=True)\n"
     ]
    },
    {
     "name": "stdout",
     "output_type": "stream",
     "text": [
      "An error occurred: 'NoneType' object does not support item assignment\n",
      "An error occurred: 'NoneType' object does not support item assignment\n",
      "An error occurred: 'NoneType' object does not support item assignment\n",
      "An error occurred: 'NoneType' object does not support item assignment\n",
      "An error occurred: 'NoneType' object does not support item assignment\n",
      "An error occurred: 'NoneType' object does not support item assignment\n",
      "An error occurred: 'NoneType' object does not support item assignment\n",
      "An error occurred: 'NoneType' object does not support item assignment\n",
      "An error occurred: 'NoneType' object does not support item assignment\n",
      "An error occurred: 'NoneType' object does not support item assignment\n",
      "An error occurred: 'NoneType' object does not support item assignment\n",
      "An error occurred: 'NoneType' object does not support item assignment\n",
      "An error occurred: 'NoneType' object does not support item assignment\n",
      "An error occurred: 'NoneType' object does not support item assignment\n",
      "An error occurred: 'NoneType' object does not support item assignment\n",
      "An error occurred: 'NoneType' object does not support item assignment\n",
      "An error occurred: 'NoneType' object does not support item assignment\n",
      "An error occurred: 'NoneType' object does not support item assignment\n",
      "An error occurred: 'NoneType' object does not support item assignment\n",
      "An error occurred: 'NoneType' object does not support item assignment\n",
      "An error occurred: 'NoneType' object does not support item assignment\n",
      "An error occurred: 'NoneType' object does not support item assignment\n",
      "An error occurred: 'NoneType' object does not support item assignment\n",
      "An error occurred: 'NoneType' object does not support item assignment\n",
      "An error occurred: 'NoneType' object does not support item assignment\n",
      "An error occurred: 'NoneType' object does not support item assignment\n",
      "An error occurred: 'NoneType' object does not support item assignment\n",
      "An error occurred: 'NoneType' object does not support item assignment\n",
      "An error occurred: 'NoneType' object does not support item assignment\n",
      "An error occurred: 'NoneType' object does not support item assignment\n",
      "An error occurred: 'NoneType' object does not support item assignment\n",
      "An error occurred: 'NoneType' object does not support item assignment\n",
      "An error occurred: 'NoneType' object does not support item assignment\n",
      "An error occurred: 'NoneType' object does not support item assignment\n",
      "An error occurred: 'NoneType' object does not support item assignment\n",
      "An error occurred: 'NoneType' object does not support item assignment\n",
      "An error occurred: 'NoneType' object does not support item assignment\n",
      "An error occurred: 'NoneType' object does not support item assignment\n",
      "An error occurred: 'NoneType' object does not support item assignment\n",
      "An error occurred: 'NoneType' object does not support item assignment\n",
      "An error occurred: 'NoneType' object does not support item assignment\n",
      "An error occurred: 'NoneType' object does not support item assignment\n",
      "An error occurred: 'NoneType' object does not support item assignment\n",
      "An error occurred: 'NoneType' object does not support item assignment\n",
      "An error occurred: 'NoneType' object does not support item assignment\n",
      "An error occurred: 'NoneType' object does not support item assignment\n",
      "An error occurred: 'NoneType' object does not support item assignment\n",
      "An error occurred: 'NoneType' object does not support item assignment\n",
      "An error occurred: 'NoneType' object does not support item assignment\n",
      "An error occurred: 'NoneType' object does not support item assignment\n",
      "An error occurred: 'NoneType' object does not support item assignment\n"
     ]
    }
   ],
   "source": [
    "results = pd.DataFrame()\n",
    "\n",
    "my_keyword = ['movie']\n",
    "\n",
    "# Loop through each date and state\n",
    "for date in date_range3:\n",
    "    for state in us_states:\n",
    "        pytrends.build_payload(my_keyword, cat=0, timeframe=date, geo='US-' + state, gprop='')\n",
    "        try:\n",
    "            data = pytrends.related_queries()\n",
    "            if data is not None:\n",
    "                keyword_data = data[my_keyword[0]] # directly use the keyword's data\n",
    "                if keyword_data is not None:\n",
    "                    for query_type, query_data in keyword_data.items():\n",
    "                        query_data['kwd'] = keyword\n",
    "                        query_data['query_type'] = query_type\n",
    "                        query_data['state'] = state\n",
    "                        query_data['date'] = date\n",
    "                        results = results.append(query_data, ignore_index=True)\n",
    "        except Exception as e:\n",
    "            print(f\"An error occurred: {e}\")\n",
    "        \n",
    "        # Pause execution for 60 seconds to avoid TooManyRequestsError\n",
    "        time.sleep(20)"
   ]
  },
  {
   "cell_type": "code",
   "execution_count": 334,
   "id": "2f27b89b",
   "metadata": {},
   "outputs": [
    {
     "data": {
      "text/plain": [
       "{'movie': {'top': None, 'rising': None}}"
      ]
     },
     "execution_count": 334,
     "metadata": {},
     "output_type": "execute_result"
    }
   ],
   "source": [
    "data\n"
   ]
  },
  {
   "cell_type": "code",
   "execution_count": 335,
   "id": "ff537906",
   "metadata": {},
   "outputs": [
    {
     "data": {
      "text/plain": [
       "dict_items([('movie', {'top': None, 'rising': None})])"
      ]
     },
     "execution_count": 335,
     "metadata": {},
     "output_type": "execute_result"
    }
   ],
   "source": [
    "data.items()"
   ]
  },
  {
   "cell_type": "code",
   "execution_count": 300,
   "id": "a3042ac5",
   "metadata": {},
   "outputs": [],
   "source": [
    "query_data"
   ]
  },
  {
   "cell_type": "code",
   "execution_count": null,
   "id": "3c212952",
   "metadata": {},
   "outputs": [],
   "source": []
  },
  {
   "cell_type": "code",
   "execution_count": 336,
   "id": "b52e2cf2",
   "metadata": {},
   "outputs": [
    {
     "data": {
      "text/html": [
       "<div>\n",
       "<style scoped>\n",
       "    .dataframe tbody tr th:only-of-type {\n",
       "        vertical-align: middle;\n",
       "    }\n",
       "\n",
       "    .dataframe tbody tr th {\n",
       "        vertical-align: top;\n",
       "    }\n",
       "\n",
       "    .dataframe thead th {\n",
       "        text-align: right;\n",
       "    }\n",
       "</style>\n",
       "<table border=\"1\" class=\"dataframe\">\n",
       "  <thead>\n",
       "    <tr style=\"text-align: right;\">\n",
       "      <th></th>\n",
       "      <th>query</th>\n",
       "      <th>value</th>\n",
       "      <th>kwd</th>\n",
       "      <th>query_type</th>\n",
       "      <th>state</th>\n",
       "      <th>date</th>\n",
       "    </tr>\n",
       "  </thead>\n",
       "  <tbody>\n",
       "    <tr>\n",
       "      <th>0</th>\n",
       "      <td>movie theater</td>\n",
       "      <td>100</td>\n",
       "      <td>movie</td>\n",
       "      <td>top</td>\n",
       "      <td>AL</td>\n",
       "      <td>2023-07-01 2023-07-02</td>\n",
       "    </tr>\n",
       "    <tr>\n",
       "      <th>1</th>\n",
       "      <td>barbie movie</td>\n",
       "      <td>29</td>\n",
       "      <td>movie</td>\n",
       "      <td>top</td>\n",
       "      <td>AL</td>\n",
       "      <td>2023-07-01 2023-07-02</td>\n",
       "    </tr>\n",
       "    <tr>\n",
       "      <th>2</th>\n",
       "      <td>movie theater near me</td>\n",
       "      <td>18</td>\n",
       "      <td>movie</td>\n",
       "      <td>top</td>\n",
       "      <td>AL</td>\n",
       "      <td>2023-07-01 2023-07-02</td>\n",
       "    </tr>\n",
       "    <tr>\n",
       "      <th>3</th>\n",
       "      <td>scary movie</td>\n",
       "      <td>14</td>\n",
       "      <td>movie</td>\n",
       "      <td>top</td>\n",
       "      <td>AL</td>\n",
       "      <td>2023-07-01 2023-07-02</td>\n",
       "    </tr>\n",
       "    <tr>\n",
       "      <th>4</th>\n",
       "      <td>barbie movie 2023</td>\n",
       "      <td>10</td>\n",
       "      <td>movie</td>\n",
       "      <td>top</td>\n",
       "      <td>AL</td>\n",
       "      <td>2023-07-01 2023-07-02</td>\n",
       "    </tr>\n",
       "    <tr>\n",
       "      <th>...</th>\n",
       "      <td>...</td>\n",
       "      <td>...</td>\n",
       "      <td>...</td>\n",
       "      <td>...</td>\n",
       "      <td>...</td>\n",
       "      <td>...</td>\n",
       "    </tr>\n",
       "    <tr>\n",
       "      <th>32696</th>\n",
       "      <td>oppenheimer movie</td>\n",
       "      <td>14</td>\n",
       "      <td>movie</td>\n",
       "      <td>top</td>\n",
       "      <td>WI</td>\n",
       "      <td>2023-07-30 2023-07-31</td>\n",
       "    </tr>\n",
       "    <tr>\n",
       "      <th>32697</th>\n",
       "      <td>sound of freedom movie</td>\n",
       "      <td>10</td>\n",
       "      <td>movie</td>\n",
       "      <td>top</td>\n",
       "      <td>WI</td>\n",
       "      <td>2023-07-30 2023-07-31</td>\n",
       "    </tr>\n",
       "    <tr>\n",
       "      <th>32698</th>\n",
       "      <td>movie theaters near me</td>\n",
       "      <td>4</td>\n",
       "      <td>movie</td>\n",
       "      <td>top</td>\n",
       "      <td>WI</td>\n",
       "      <td>2023-07-30 2023-07-31</td>\n",
       "    </tr>\n",
       "    <tr>\n",
       "      <th>32699</th>\n",
       "      <td>movie theaters near me</td>\n",
       "      <td>100</td>\n",
       "      <td>movie</td>\n",
       "      <td>rising</td>\n",
       "      <td>WI</td>\n",
       "      <td>2023-07-30 2023-07-31</td>\n",
       "    </tr>\n",
       "    <tr>\n",
       "      <th>32700</th>\n",
       "      <td>barbie movie</td>\n",
       "      <td>100</td>\n",
       "      <td>movie</td>\n",
       "      <td>top</td>\n",
       "      <td>WY</td>\n",
       "      <td>2023-07-30 2023-07-31</td>\n",
       "    </tr>\n",
       "  </tbody>\n",
       "</table>\n",
       "<p>32701 rows × 6 columns</p>\n",
       "</div>"
      ],
      "text/plain": [
       "                        query  value    kwd query_type state  \\\n",
       "0               movie theater    100  movie        top    AL   \n",
       "1                barbie movie     29  movie        top    AL   \n",
       "2       movie theater near me     18  movie        top    AL   \n",
       "3                 scary movie     14  movie        top    AL   \n",
       "4           barbie movie 2023     10  movie        top    AL   \n",
       "...                       ...    ...    ...        ...   ...   \n",
       "32696       oppenheimer movie     14  movie        top    WI   \n",
       "32697  sound of freedom movie     10  movie        top    WI   \n",
       "32698  movie theaters near me      4  movie        top    WI   \n",
       "32699  movie theaters near me    100  movie     rising    WI   \n",
       "32700            barbie movie    100  movie        top    WY   \n",
       "\n",
       "                        date  \n",
       "0      2023-07-01 2023-07-02  \n",
       "1      2023-07-01 2023-07-02  \n",
       "2      2023-07-01 2023-07-02  \n",
       "3      2023-07-01 2023-07-02  \n",
       "4      2023-07-01 2023-07-02  \n",
       "...                      ...  \n",
       "32696  2023-07-30 2023-07-31  \n",
       "32697  2023-07-30 2023-07-31  \n",
       "32698  2023-07-30 2023-07-31  \n",
       "32699  2023-07-30 2023-07-31  \n",
       "32700  2023-07-30 2023-07-31  \n",
       "\n",
       "[32701 rows x 6 columns]"
      ]
     },
     "execution_count": 336,
     "metadata": {},
     "output_type": "execute_result"
    }
   ],
   "source": [
    "results"
   ]
  },
  {
   "cell_type": "code",
   "execution_count": 337,
   "id": "2eb8e21e",
   "metadata": {},
   "outputs": [],
   "source": [
    "results.to_csv('movie_gtrend_new.csv')"
   ]
  },
  {
   "cell_type": "code",
   "execution_count": 232,
   "id": "cf0829e6",
   "metadata": {},
   "outputs": [
    {
     "data": {
      "text/plain": [
       "'C:\\\\Users\\\\zwei\\\\Python_ZW'"
      ]
     },
     "execution_count": 232,
     "metadata": {},
     "output_type": "execute_result"
    }
   ],
   "source": [
    "pwd"
   ]
  },
  {
   "cell_type": "code",
   "execution_count": null,
   "id": "893b3182",
   "metadata": {},
   "outputs": [],
   "source": []
  },
  {
   "cell_type": "code",
   "execution_count": 241,
   "id": "837c274e",
   "metadata": {},
   "outputs": [
    {
     "data": {
      "text/plain": [
       "Index(['2023-07-23', '2023-07-24', '2023-07-25', '2023-07-26', '2023-07-27'], dtype='object')"
      ]
     },
     "execution_count": 241,
     "metadata": {},
     "output_type": "execute_result"
    }
   ],
   "source": [
    "date_range"
   ]
  },
  {
   "cell_type": "code",
   "execution_count": 288,
   "id": "dcb84eb8",
   "metadata": {},
   "outputs": [],
   "source": [
    "date_range2 = pd.date_range(start=\"2023-07-24\", end=\"2023-07-28\").strftime('%Y-%m-%d')\n"
   ]
  },
  {
   "cell_type": "code",
   "execution_count": 290,
   "id": "955f3abd",
   "metadata": {},
   "outputs": [
    {
     "data": {
      "text/plain": [
       "Index(['2023-07-23 2023-07-24', '2023-07-24 2023-07-25',\n",
       "       '2023-07-25 2023-07-26', '2023-07-26 2023-07-27',\n",
       "       '2023-07-27 2023-07-28'],\n",
       "      dtype='object')"
      ]
     },
     "execution_count": 290,
     "metadata": {},
     "output_type": "execute_result"
    }
   ],
   "source": [
    "date_range +' '+ date_range2"
   ]
  },
  {
   "cell_type": "code",
   "execution_count": 297,
   "id": "937f8d83",
   "metadata": {},
   "outputs": [
    {
     "data": {
      "text/plain": [
       "Index(['2023-07-01 2023-07-02', '2023-07-02 2023-07-03',\n",
       "       '2023-07-03 2023-07-04', '2023-07-04 2023-07-05',\n",
       "       '2023-07-05 2023-07-06', '2023-07-06 2023-07-07',\n",
       "       '2023-07-07 2023-07-08', '2023-07-08 2023-07-09',\n",
       "       '2023-07-09 2023-07-10', '2023-07-10 2023-07-11',\n",
       "       '2023-07-11 2023-07-12', '2023-07-12 2023-07-13',\n",
       "       '2023-07-13 2023-07-14', '2023-07-14 2023-07-15',\n",
       "       '2023-07-15 2023-07-16', '2023-07-16 2023-07-17',\n",
       "       '2023-07-17 2023-07-18', '2023-07-18 2023-07-19',\n",
       "       '2023-07-19 2023-07-20', '2023-07-20 2023-07-21',\n",
       "       '2023-07-21 2023-07-22', '2023-07-22 2023-07-23',\n",
       "       '2023-07-23 2023-07-24', '2023-07-24 2023-07-25',\n",
       "       '2023-07-25 2023-07-26', '2023-07-26 2023-07-27',\n",
       "       '2023-07-27 2023-07-28'],\n",
       "      dtype='object')"
      ]
     },
     "execution_count": 297,
     "metadata": {},
     "output_type": "execute_result"
    }
   ],
   "source": []
  }
 ],
 "metadata": {
  "kernelspec": {
   "display_name": "Python 3 (ipykernel)",
   "language": "python",
   "name": "python3"
  },
  "language_info": {
   "codemirror_mode": {
    "name": "ipython",
    "version": 3
   },
   "file_extension": ".py",
   "mimetype": "text/x-python",
   "name": "python",
   "nbconvert_exporter": "python",
   "pygments_lexer": "ipython3",
   "version": "3.9.13"
  }
 },
 "nbformat": 4,
 "nbformat_minor": 5
}
